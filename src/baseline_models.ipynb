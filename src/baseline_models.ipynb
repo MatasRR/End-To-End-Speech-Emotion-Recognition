{
 "cells": [
  {
   "cell_type": "markdown",
   "metadata": {
    "id": "89Q5h1M-iGtX"
   },
   "source": [
    "# Data preparation section"
   ]
  },
  {
   "cell_type": "code",
   "execution_count": 1,
   "metadata": {},
   "outputs": [
    {
     "data": {
      "text/html": [
       "<style>.container { width:95% !important; }</style>"
      ],
      "text/plain": [
       "<IPython.core.display.HTML object>"
      ]
     },
     "metadata": {},
     "output_type": "display_data"
    }
   ],
   "source": [
    "from IPython.display import display, HTML\n",
    "display(HTML(\"<style>.container { width:95% !important; }</style>\"))"
   ]
  },
  {
   "cell_type": "code",
   "execution_count": 2,
   "metadata": {
    "scrolled": false
   },
   "outputs": [
    {
     "name": "stdout",
     "output_type": "stream",
     "text": [
      "Defaulting to user installation because normal site-packages is not writeable\n",
      "Requirement already satisfied: opensmile in c:\\users\\matas\\appdata\\roaming\\python\\python310\\site-packages (2.4.2)\n",
      "Requirement already satisfied: audobject>=0.6.1 in c:\\users\\matas\\appdata\\roaming\\python\\python310\\site-packages (from opensmile) (0.7.9)\n",
      "Requirement already satisfied: audinterface>=0.7.0 in c:\\users\\matas\\appdata\\roaming\\python\\python310\\site-packages (from opensmile) (1.1.0)\n",
      "Requirement already satisfied: audresample<2.0.0,>=1.1.0 in c:\\users\\matas\\appdata\\roaming\\python\\python310\\site-packages (from audinterface>=0.7.0->opensmile) (1.3.2)\n",
      "Requirement already satisfied: audiofile>=1.3.0 in c:\\users\\matas\\appdata\\roaming\\python\\python310\\site-packages (from audinterface>=0.7.0->opensmile) (1.3.0)\n",
      "Requirement already satisfied: audformat<2.0.0,>=1.0.1 in c:\\users\\matas\\appdata\\roaming\\python\\python310\\site-packages (from audinterface>=0.7.0->opensmile) (1.0.1)\n",
      "Requirement already satisfied: audmath>=1.3.0 in c:\\users\\matas\\appdata\\roaming\\python\\python310\\site-packages (from audinterface>=0.7.0->opensmile) (1.3.0)\n",
      "Requirement already satisfied: oyaml in c:\\users\\matas\\appdata\\roaming\\python\\python310\\site-packages (from audobject>=0.6.1->opensmile) (1.0)\n",
      "Requirement already satisfied: importlib-metadata>=4.8.0 in c:\\programdata\\anaconda3\\lib\\site-packages (from audobject>=0.6.1->opensmile) (4.11.3)\n",
      "Requirement already satisfied: audeer>=1.18.0 in c:\\users\\matas\\appdata\\roaming\\python\\python310\\site-packages (from audobject>=0.6.1->opensmile) (1.20.1)\n",
      "Requirement already satisfied: tqdm in c:\\programdata\\anaconda3\\lib\\site-packages (from audeer>=1.18.0->audobject>=0.6.1->opensmile) (4.64.1)\n",
      "Requirement already satisfied: iso-639 in c:\\users\\matas\\appdata\\roaming\\python\\python310\\site-packages (from audformat<2.0.0,>=1.0.1->audinterface>=0.7.0->opensmile) (0.4.5)\n",
      "Requirement already satisfied: pyyaml>=5.4.1 in c:\\programdata\\anaconda3\\lib\\site-packages (from audformat<2.0.0,>=1.0.1->audinterface>=0.7.0->opensmile) (6.0)\n",
      "Requirement already satisfied: pandas>=1.4.1 in c:\\programdata\\anaconda3\\lib\\site-packages (from audformat<2.0.0,>=1.0.1->audinterface>=0.7.0->opensmile) (1.5.3)\n",
      "Requirement already satisfied: iso3166 in c:\\users\\matas\\appdata\\roaming\\python\\python310\\site-packages (from audformat<2.0.0,>=1.0.1->audinterface>=0.7.0->opensmile) (2.1.1)\n",
      "Requirement already satisfied: numpy in c:\\programdata\\anaconda3\\lib\\site-packages (from audiofile>=1.3.0->audinterface>=0.7.0->opensmile) (1.23.5)\n",
      "Requirement already satisfied: soundfile in c:\\users\\matas\\appdata\\roaming\\python\\python310\\site-packages (from audiofile>=1.3.0->audinterface>=0.7.0->opensmile) (0.12.1)\n",
      "Requirement already satisfied: zipp>=0.5 in c:\\programdata\\anaconda3\\lib\\site-packages (from importlib-metadata>=4.8.0->audobject>=0.6.1->opensmile) (3.11.0)\n",
      "Requirement already satisfied: pytz>=2020.1 in c:\\programdata\\anaconda3\\lib\\site-packages (from pandas>=1.4.1->audformat<2.0.0,>=1.0.1->audinterface>=0.7.0->opensmile) (2022.7)\n",
      "Requirement already satisfied: python-dateutil>=2.8.1 in c:\\programdata\\anaconda3\\lib\\site-packages (from pandas>=1.4.1->audformat<2.0.0,>=1.0.1->audinterface>=0.7.0->opensmile) (2.8.2)\n",
      "Requirement already satisfied: cffi>=1.0 in c:\\programdata\\anaconda3\\lib\\site-packages (from soundfile->audiofile>=1.3.0->audinterface>=0.7.0->opensmile) (1.15.1)\n",
      "Requirement already satisfied: colorama in c:\\programdata\\anaconda3\\lib\\site-packages (from tqdm->audeer>=1.18.0->audobject>=0.6.1->opensmile) (0.4.6)\n",
      "Requirement already satisfied: pycparser in c:\\programdata\\anaconda3\\lib\\site-packages (from cffi>=1.0->soundfile->audiofile>=1.3.0->audinterface>=0.7.0->opensmile) (2.21)\n",
      "Requirement already satisfied: six>=1.5 in c:\\programdata\\anaconda3\\lib\\site-packages (from python-dateutil>=2.8.1->pandas>=1.4.1->audformat<2.0.0,>=1.0.1->audinterface>=0.7.0->opensmile) (1.16.0)\n",
      "Defaulting to user installation because normal site-packages is not writeable\n",
      "Requirement already satisfied: google in c:\\users\\matas\\appdata\\roaming\\python\\python310\\site-packages (3.0.0)\n",
      "Requirement already satisfied: beautifulsoup4 in c:\\programdata\\anaconda3\\lib\\site-packages (from google) (4.11.1)\n",
      "Requirement already satisfied: soupsieve>1.2 in c:\\programdata\\anaconda3\\lib\\site-packages (from beautifulsoup4->google) (2.3.2.post1)\n",
      "Defaulting to user installation because normal site-packages is not writeable\n",
      "Requirement already satisfied: treelib in c:\\users\\matas\\appdata\\roaming\\python\\python310\\site-packages (1.7.0)\n",
      "Requirement already satisfied: six in c:\\programdata\\anaconda3\\lib\\site-packages (from treelib) (1.16.0)\n",
      "Defaulting to user installation because normal site-packages is not writeable\n",
      "Requirement already satisfied: graphviz in c:\\users\\matas\\appdata\\roaming\\python\\python310\\site-packages (0.20.1)\n"
     ]
    }
   ],
   "source": [
    "installed_packages = [\n",
    "    \"opensmile\",\n",
    "    \"google\",\n",
    "    \"treelib\",\n",
    "    \"graphviz\",\n",
    "]\n",
    "\n",
    "for package in installed_packages:\n",
    "    !pip install {package}"
   ]
  },
  {
   "cell_type": "code",
   "execution_count": 3,
   "metadata": {},
   "outputs": [],
   "source": [
    "import numpy as np\n",
    "import pandas as pd\n",
    "import json"
   ]
  },
  {
   "cell_type": "code",
   "execution_count": 4,
   "metadata": {
    "id": "4pIIqhuk6Wdm"
   },
   "outputs": [
    {
     "name": "stderr",
     "output_type": "stream",
     "text": [
      "C:\\Users\\Matas\\AppData\\Roaming\\Python\\Python310\\site-packages\\opensmile\\core\\smile.py:256: UserWarning: Feature set 'FeatureSet.eGeMAPS' is deprecated, consider switching to 'FeatureSet.eGeMAPSv02'.\n",
      "  warnings.warn(\n"
     ]
    }
   ],
   "source": [
    "import opensmile\n",
    "\n",
    "smile = opensmile.Smile(\n",
    "#     feature_set=opensmile.FeatureSet.ComParE_2016,\n",
    "    feature_set=opensmile.FeatureSet.eGeMAPS,\n",
    "#     feature_set=opensmile.FeatureSet.GeMAPSv01b,\n",
    "    feature_level=opensmile.FeatureLevel.Functionals,\n",
    ")\n"
   ]
  },
  {
   "cell_type": "code",
   "execution_count": 5,
   "metadata": {
    "colab": {
     "base_uri": "https://localhost:8080/",
     "height": 424
    },
    "id": "9CnuzfCN6kxa",
    "outputId": "9c44bd5d-78f4-4762-d13f-fed963850c37"
   },
   "outputs": [],
   "source": [
    "import glob\n",
    "\n",
    "try:\n",
    "    files = glob.glob(\"../data/raw/RAVDESS/*/*.wav\")\n",
    "except:\n",
    "    from google.colab import drive\n",
    "    drive.mount('/content/gdrive')\n",
    "    files = glob.glob(\"/content/gdrive/MyDrive/Colab Notebooks/IP/data/RAVDESS/*/*.wav\")"
   ]
  },
  {
   "cell_type": "code",
   "execution_count": 6,
   "metadata": {},
   "outputs": [],
   "source": [
    "file_name_to_emotion_mapping = {\n",
    "    \"01\": \"neutral\",\n",
    "    \"02\": \"calm\",\n",
    "    \"03\": \"happy\",\n",
    "    \"04\": \"sad\",\n",
    "    \"05\": \"angry\",\n",
    "    \"06\": \"fearful\",\n",
    "    \"07\": \"disgust\",\n",
    "    \"08\": \"surprised\",\n",
    "}"
   ]
  },
  {
   "cell_type": "code",
   "execution_count": 7,
   "metadata": {},
   "outputs": [],
   "source": [
    "emotion_to_positivity_mapping = {\n",
    "    \"neutral\": \"positive\",\n",
    "    \"calm\": \"positive\",\n",
    "    \"happy\": \"positive\",\n",
    "    \"sad\": \"negative\",\n",
    "    \"angry\": \"negative\",\n",
    "    \"fearful\": \"negative\",\n",
    "    \"disgust\": \"negative\",\n",
    "    \"surprised\": \"positive\",\n",
    "}"
   ]
  },
  {
   "cell_type": "markdown",
   "metadata": {},
   "source": [
    "##### Data reading and normalisation"
   ]
  },
  {
   "cell_type": "code",
   "execution_count": 8,
   "metadata": {},
   "outputs": [],
   "source": [
    "speech_data = smile.process_files(files)"
   ]
  },
  {
   "cell_type": "code",
   "execution_count": 9,
   "metadata": {},
   "outputs": [],
   "source": [
    "normalised_speech_data=(speech_data-speech_data.mean())/speech_data.std()\n",
    "normalised_speech_data.dropna(axis='columns', inplace=True)"
   ]
  },
  {
   "cell_type": "code",
   "execution_count": 10,
   "metadata": {},
   "outputs": [],
   "source": [
    "emotion_labels = [file_name_to_emotion_mapping[file.split(\"-\")[-5]] for file in files]"
   ]
  },
  {
   "cell_type": "markdown",
   "metadata": {
    "id": "aikqCd3d7b6d"
   },
   "source": [
    "##### Splitting the data into training, validation and test sets"
   ]
  },
  {
   "cell_type": "code",
   "execution_count": 11,
   "metadata": {
    "id": "3Wow_Uwc7qN9"
   },
   "outputs": [],
   "source": [
    "from sklearn.model_selection import train_test_split\n",
    "\n",
    "speeches = normalised_speech_data\n",
    "emotions = emotion_labels\n",
    "\n",
    "speeches_train_and_val, speeches_test, emotions_train_and_val, emotions_test = train_test_split(speeches, emotions, test_size=0.2, random_state=42, stratify=emotions)\n",
    "speeches_train, speeches_val, emotions_train, emotions_val = train_test_split(speeches_train_and_val, emotions_train_and_val, test_size=0.25, random_state=42, stratify=emotions_train_and_val)"
   ]
  },
  {
   "cell_type": "code",
   "execution_count": 12,
   "metadata": {},
   "outputs": [],
   "source": [
    "emotions_binary_train = [emotion_to_positivity_mapping[emotion] for emotion in emotions_train]\n",
    "emotions_binary_val = [emotion_to_positivity_mapping[emotion] for emotion in emotions_val]\n",
    "emotions_binary_test = [emotion_to_positivity_mapping[emotion] for emotion in emotions_test]"
   ]
  },
  {
   "cell_type": "code",
   "execution_count": 13,
   "metadata": {
    "id": "d7I594NDkO6c"
   },
   "outputs": [],
   "source": [
    "# Pandas dataframes keep the old indexing after sampling, but I need it to be sequential, thus, a reset for the index\n",
    "speeches_train.reset_index(drop=True, inplace=True)\n",
    "speeches_val.reset_index(drop=True, inplace=True)\n",
    "speeches_test.reset_index(drop=True, inplace=True)"
   ]
  },
  {
   "cell_type": "code",
   "execution_count": 14,
   "metadata": {
    "colab": {
     "base_uri": "https://localhost:8080/"
    },
    "id": "mA9wf8eWZpm3",
    "outputId": "a28d0b18-7bd9-40a3-c17c-faa92c2d84e6"
   },
   "outputs": [
    {
     "name": "stdout",
     "output_type": "stream",
     "text": [
      "len(speeches_train)=864\t\tlen(emotions_train)=864\n",
      "len(speeches_val)=288\t\tlen(emotions_val)=288\n",
      "len(speeches_test)=288\t\tlen(emotions_test)=288\n",
      "Counter(emotions_train)=Counter({'calm': 116, 'angry': 115, 'fearful': 115, 'sad': 115, 'happy': 115, 'surprised': 115, 'disgust': 115, 'neutral': 58})\n",
      "Counter(emotions_val)=Counter({'sad': 39, 'disgust': 39, 'angry': 39, 'calm': 38, 'surprised': 38, 'fearful': 38, 'happy': 38, 'neutral': 19})\n",
      "Counter(emotions_test)=Counter({'happy': 39, 'fearful': 39, 'surprised': 39, 'sad': 38, 'calm': 38, 'angry': 38, 'disgust': 38, 'neutral': 19})\n"
     ]
    }
   ],
   "source": [
    "from collections import Counter\n",
    "\n",
    "print(f\"{len(speeches_train)=}\\t\\t{len(emotions_train)=}\")\n",
    "print(f\"{len(speeches_val)=}\\t\\t{len(emotions_val)=}\")\n",
    "print(f\"{len(speeches_test)=}\\t\\t{len(emotions_test)=}\")\n",
    "\n",
    "print(f\"{Counter(emotions_train)=}\")\n",
    "print(f\"{Counter(emotions_val)=}\")\n",
    "print(f\"{Counter(emotions_test)=}\")"
   ]
  },
  {
   "cell_type": "markdown",
   "metadata": {
    "id": "dGXOYkvAbuT1"
   },
   "source": [
    "# Classifier comparison section"
   ]
  },
  {
   "cell_type": "markdown",
   "metadata": {
    "id": "RgQbyZBBb5mm"
   },
   "source": [
    "##### Building classifiers"
   ]
  },
  {
   "cell_type": "code",
   "execution_count": 15,
   "metadata": {
    "id": "fe_knPbbb-vF"
   },
   "outputs": [],
   "source": [
    "from locale import Error\n",
    "from sklearn.dummy import DummyClassifier\n",
    "from sklearn.linear_model import LogisticRegression\n",
    "from sklearn.svm import SVC\n",
    "from sklearn import metrics\n",
    "\n",
    "def fit_predict_and_score_classifier(classifier, data_train, data_val, labels_train, labels_val, label_set):\n",
    "    classifier.fit(data_train, labels_train)\n",
    "    results = {\"train\": {}, \"val\": {}}\n",
    "    \n",
    "    for set_type in [\"train\", \"val\"]:\n",
    "        if set_type == \"train\":\n",
    "            data = data_train\n",
    "            labels = labels_train\n",
    "        elif set_type == \"val\":\n",
    "            data = data_val\n",
    "            labels = labels_val\n",
    "        else:\n",
    "            raise Error(\"Undefined data set type\")\n",
    "\n",
    "        labels_predicted = classifier.predict(data)\n",
    "\n",
    "        results[set_type][\"predictions\"] = labels_predicted\n",
    "        results[set_type][\"accuracy\"] = metrics.accuracy_score(labels, labels_predicted)\n",
    "        results[set_type][\"precision\"] = metrics.precision_score(labels, labels_predicted, average=\"macro\", zero_division=1)\n",
    "        results[set_type][\"recall\"] = metrics.recall_score(labels, labels_predicted, average=\"macro\", zero_division=1)\n",
    "        results[set_type][\"F1\"] = metrics.f1_score(labels, labels_predicted, average=\"macro\", zero_division=1)\n",
    "\n",
    "    return results\n",
    "\n",
    "def create_result_table(results):\n",
    "    first_key = list(results.keys())[0]\n",
    "    second_key = list(results[first_key].keys())[0]\n",
    "    table = pd.DataFrame(columns=[\"Classifier\", \"Set type\"] + list(results[first_key][second_key].keys()))\n",
    "    for classifier_name, classifier_data in results.items():\n",
    "        for set_type, set_metrics in classifier_data.items():\n",
    "              # Taken from (merging dicts) https://stackoverflow.com/questions/38987/how-do-i-merge-two-dictionaries-in-a-single-expression-in-python\n",
    "            new_row = {\"Classifier\": classifier_name, \"Set type\": set_type} | set_metrics\n",
    "            table = table.append(new_row, ignore_index=True)\n",
    "    return table\n",
    "\n",
    "# def create_result_table(results):\n",
    "#     first_key = list(results.keys())[0]\n",
    "#     second_key = list(results[first_key].keys())[0]\n",
    "#     table = pd.DataFrame(columns=[\"Classifier\", \"Set type\"] + list(results[first_key][second_key].keys()))\n",
    "#     for classifier_name, classifier_data in results.items():\n",
    "#         for set_type, set_metrics in classifier_data.items():\n",
    "#               # Taken from (merging dicts) https://stackoverflow.com/questions/38987/how-do-i-merge-two-dictionaries-in-a-single-expression-in-python\n",
    "#             new_row = pd.DataFrame({\"Classifier\": classifier_name, \"Set type\": set_type} | set_metrics)\n",
    "#             table = pd.concat([table, new_row], ignore_index=True)\n",
    "#     return table\n",
    "\n",
    "def calculate_f1_scores_by_class(labels_predicted, labels):\n",
    "    all_labels = sorted(list(set(labels)))\n",
    "    matrix_dimension = range(len(set(labels)))\n",
    "    matrix = metrics.confusion_matrix(labels, labels_predicted, labels=all_labels)\n",
    "\n",
    "    recalls = [matrix[index, index] / row_sum for index, row_sum in enumerate(np.sum(matrix, axis=1))]\n",
    "    precisions = [matrix[index, index] / column_sum for index, column_sum in enumerate(np.sum(matrix, axis=0))]\n",
    "\n",
    "    f1_scores = {label: {} for label in all_labels}\n",
    "    for index, label in enumerate(all_labels):\n",
    "        f1_scores[label] = 2 * (precisions[index] * recalls[index]) / (precisions[index] + recalls[index])\n",
    "\n",
    "    return f1_scores"
   ]
  },
  {
   "cell_type": "code",
   "execution_count": 16,
   "metadata": {
    "id": "rmOWy_3elp_0"
   },
   "outputs": [],
   "source": [
    "# These parameters are repeated, so they are unwrapped while calling functions to reduce clutter\n",
    "multi_class_parameters = (speeches_train, speeches_val, emotions_train, emotions_val, set(emotions))\n",
    "binary_parameters = (speeches_train, speeches_val, emotions_binary_train, emotions_binary_val, set([\"positive\", \"negative\"]))\n",
    "initial_classifier_results = {}\n",
    "initial_classifier_results_binary = {}"
   ]
  },
  {
   "cell_type": "code",
   "execution_count": 17,
   "metadata": {},
   "outputs": [],
   "source": [
    "dummy_classifier_most_frequent = DummyClassifier(strategy=\"most_frequent\")\n",
    "dummy_classifier_stratified = DummyClassifier(strategy=\"stratified\")\n",
    "logistic_regression = LogisticRegression(max_iter=1000)\n",
    "svc = SVC()"
   ]
  },
  {
   "cell_type": "markdown",
   "metadata": {},
   "source": [
    "##### Multi-class classification"
   ]
  },
  {
   "cell_type": "code",
   "execution_count": 18,
   "metadata": {
    "id": "_vbJMZzbEVeN"
   },
   "outputs": [],
   "source": [
    "initial_classifier_results[\"dummy_classifier_most_frequent\"] = fit_predict_and_score_classifier(dummy_classifier_most_frequent, *multi_class_parameters)"
   ]
  },
  {
   "cell_type": "code",
   "execution_count": 19,
   "metadata": {
    "id": "OP12BrTLkY0A"
   },
   "outputs": [],
   "source": [
    "initial_classifier_results[\"dummy_classifier_stratified\"] = fit_predict_and_score_classifier(dummy_classifier_stratified, *multi_class_parameters)"
   ]
  },
  {
   "cell_type": "code",
   "execution_count": 20,
   "metadata": {
    "id": "XFi7oHh1kqcF"
   },
   "outputs": [],
   "source": [
    "initial_classifier_results[\"logistic_regression\"] = fit_predict_and_score_classifier(logistic_regression, *multi_class_parameters)"
   ]
  },
  {
   "cell_type": "code",
   "execution_count": 21,
   "metadata": {
    "id": "BiN0CnX2ktST"
   },
   "outputs": [],
   "source": [
    "initial_classifier_results[\"svc\"] = fit_predict_and_score_classifier(svc, *multi_class_parameters)"
   ]
  },
  {
   "cell_type": "code",
   "execution_count": 22,
   "metadata": {
    "colab": {
     "base_uri": "https://localhost:8080/",
     "height": 363
    },
    "id": "68ytUVLHav6l",
    "outputId": "66b32dd9-2719-493c-8ac7-3261a8a4da8d"
   },
   "outputs": [
    {
     "name": "stderr",
     "output_type": "stream",
     "text": [
      "C:\\Users\\Matas\\AppData\\Local\\Temp\\ipykernel_13092\\2014226108.py:39: FutureWarning: The frame.append method is deprecated and will be removed from pandas in a future version. Use pandas.concat instead.\n",
      "  table = table.append(new_row, ignore_index=True)\n",
      "C:\\Users\\Matas\\AppData\\Local\\Temp\\ipykernel_13092\\2014226108.py:39: FutureWarning: The frame.append method is deprecated and will be removed from pandas in a future version. Use pandas.concat instead.\n",
      "  table = table.append(new_row, ignore_index=True)\n",
      "C:\\Users\\Matas\\AppData\\Local\\Temp\\ipykernel_13092\\2014226108.py:39: FutureWarning: The frame.append method is deprecated and will be removed from pandas in a future version. Use pandas.concat instead.\n",
      "  table = table.append(new_row, ignore_index=True)\n",
      "C:\\Users\\Matas\\AppData\\Local\\Temp\\ipykernel_13092\\2014226108.py:39: FutureWarning: The frame.append method is deprecated and will be removed from pandas in a future version. Use pandas.concat instead.\n",
      "  table = table.append(new_row, ignore_index=True)\n",
      "C:\\Users\\Matas\\AppData\\Local\\Temp\\ipykernel_13092\\2014226108.py:39: FutureWarning: The frame.append method is deprecated and will be removed from pandas in a future version. Use pandas.concat instead.\n",
      "  table = table.append(new_row, ignore_index=True)\n",
      "C:\\Users\\Matas\\AppData\\Local\\Temp\\ipykernel_13092\\2014226108.py:39: FutureWarning: The frame.append method is deprecated and will be removed from pandas in a future version. Use pandas.concat instead.\n",
      "  table = table.append(new_row, ignore_index=True)\n",
      "C:\\Users\\Matas\\AppData\\Local\\Temp\\ipykernel_13092\\2014226108.py:39: FutureWarning: The frame.append method is deprecated and will be removed from pandas in a future version. Use pandas.concat instead.\n",
      "  table = table.append(new_row, ignore_index=True)\n",
      "C:\\Users\\Matas\\AppData\\Local\\Temp\\ipykernel_13092\\2014226108.py:39: FutureWarning: The frame.append method is deprecated and will be removed from pandas in a future version. Use pandas.concat instead.\n",
      "  table = table.append(new_row, ignore_index=True)\n"
     ]
    },
    {
     "data": {
      "text/html": [
       "<div>\n",
       "<style scoped>\n",
       "    .dataframe tbody tr th:only-of-type {\n",
       "        vertical-align: middle;\n",
       "    }\n",
       "\n",
       "    .dataframe tbody tr th {\n",
       "        vertical-align: top;\n",
       "    }\n",
       "\n",
       "    .dataframe thead th {\n",
       "        text-align: right;\n",
       "    }\n",
       "</style>\n",
       "<table border=\"1\" class=\"dataframe\">\n",
       "  <thead>\n",
       "    <tr style=\"text-align: right;\">\n",
       "      <th></th>\n",
       "      <th>Classifier</th>\n",
       "      <th>Set type</th>\n",
       "      <th>predictions</th>\n",
       "      <th>accuracy</th>\n",
       "      <th>precision</th>\n",
       "      <th>recall</th>\n",
       "      <th>F1</th>\n",
       "    </tr>\n",
       "  </thead>\n",
       "  <tbody>\n",
       "    <tr>\n",
       "      <th>0</th>\n",
       "      <td>dummy_classifier_most_frequent</td>\n",
       "      <td>train</td>\n",
       "      <td>[calm, calm, calm, calm, calm, calm, calm, cal...</td>\n",
       "      <td>0.134259</td>\n",
       "      <td>0.891782</td>\n",
       "      <td>0.125000</td>\n",
       "      <td>0.029592</td>\n",
       "    </tr>\n",
       "    <tr>\n",
       "      <th>1</th>\n",
       "      <td>dummy_classifier_most_frequent</td>\n",
       "      <td>val</td>\n",
       "      <td>[calm, calm, calm, calm, calm, calm, calm, cal...</td>\n",
       "      <td>0.131944</td>\n",
       "      <td>0.891493</td>\n",
       "      <td>0.125000</td>\n",
       "      <td>0.029141</td>\n",
       "    </tr>\n",
       "    <tr>\n",
       "      <th>2</th>\n",
       "      <td>dummy_classifier_stratified</td>\n",
       "      <td>train</td>\n",
       "      <td>[happy, disgust, surprised, angry, sad, calm, ...</td>\n",
       "      <td>0.138889</td>\n",
       "      <td>0.134778</td>\n",
       "      <td>0.134483</td>\n",
       "      <td>0.134392</td>\n",
       "    </tr>\n",
       "    <tr>\n",
       "      <th>3</th>\n",
       "      <td>dummy_classifier_stratified</td>\n",
       "      <td>val</td>\n",
       "      <td>[fearful, happy, fearful, calm, angry, disgust...</td>\n",
       "      <td>0.138889</td>\n",
       "      <td>0.137899</td>\n",
       "      <td>0.133266</td>\n",
       "      <td>0.134447</td>\n",
       "    </tr>\n",
       "    <tr>\n",
       "      <th>4</th>\n",
       "      <td>logistic_regression</td>\n",
       "      <td>train</td>\n",
       "      <td>[disgust, fearful, neutral, sad, surprised, su...</td>\n",
       "      <td>0.812500</td>\n",
       "      <td>0.809383</td>\n",
       "      <td>0.810139</td>\n",
       "      <td>0.809411</td>\n",
       "    </tr>\n",
       "    <tr>\n",
       "      <th>5</th>\n",
       "      <td>logistic_regression</td>\n",
       "      <td>val</td>\n",
       "      <td>[fearful, calm, surprised, sad, fearful, calm,...</td>\n",
       "      <td>0.576389</td>\n",
       "      <td>0.554396</td>\n",
       "      <td>0.557102</td>\n",
       "      <td>0.554253</td>\n",
       "    </tr>\n",
       "    <tr>\n",
       "      <th>6</th>\n",
       "      <td>svc</td>\n",
       "      <td>train</td>\n",
       "      <td>[disgust, fearful, neutral, sad, happy, surpri...</td>\n",
       "      <td>0.811343</td>\n",
       "      <td>0.817080</td>\n",
       "      <td>0.799382</td>\n",
       "      <td>0.803904</td>\n",
       "    </tr>\n",
       "    <tr>\n",
       "      <th>7</th>\n",
       "      <td>svc</td>\n",
       "      <td>val</td>\n",
       "      <td>[sad, calm, surprised, sad, fearful, calm, neu...</td>\n",
       "      <td>0.586806</td>\n",
       "      <td>0.588006</td>\n",
       "      <td>0.573802</td>\n",
       "      <td>0.574728</td>\n",
       "    </tr>\n",
       "  </tbody>\n",
       "</table>\n",
       "</div>"
      ],
      "text/plain": [
       "                       Classifier Set type  \\\n",
       "0  dummy_classifier_most_frequent    train   \n",
       "1  dummy_classifier_most_frequent      val   \n",
       "2     dummy_classifier_stratified    train   \n",
       "3     dummy_classifier_stratified      val   \n",
       "4             logistic_regression    train   \n",
       "5             logistic_regression      val   \n",
       "6                             svc    train   \n",
       "7                             svc      val   \n",
       "\n",
       "                                         predictions  accuracy  precision  \\\n",
       "0  [calm, calm, calm, calm, calm, calm, calm, cal...  0.134259   0.891782   \n",
       "1  [calm, calm, calm, calm, calm, calm, calm, cal...  0.131944   0.891493   \n",
       "2  [happy, disgust, surprised, angry, sad, calm, ...  0.138889   0.134778   \n",
       "3  [fearful, happy, fearful, calm, angry, disgust...  0.138889   0.137899   \n",
       "4  [disgust, fearful, neutral, sad, surprised, su...  0.812500   0.809383   \n",
       "5  [fearful, calm, surprised, sad, fearful, calm,...  0.576389   0.554396   \n",
       "6  [disgust, fearful, neutral, sad, happy, surpri...  0.811343   0.817080   \n",
       "7  [sad, calm, surprised, sad, fearful, calm, neu...  0.586806   0.588006   \n",
       "\n",
       "     recall        F1  \n",
       "0  0.125000  0.029592  \n",
       "1  0.125000  0.029141  \n",
       "2  0.134483  0.134392  \n",
       "3  0.133266  0.134447  \n",
       "4  0.810139  0.809411  \n",
       "5  0.557102  0.554253  \n",
       "6  0.799382  0.803904  \n",
       "7  0.573802  0.574728  "
      ]
     },
     "metadata": {},
     "output_type": "display_data"
    }
   ],
   "source": [
    "initial_classifier_results_table = create_result_table(initial_classifier_results)\n",
    "display(initial_classifier_results_table)"
   ]
  },
  {
   "cell_type": "code",
   "execution_count": 23,
   "metadata": {
    "colab": {
     "base_uri": "https://localhost:8080/"
    },
    "id": "9XYuc7nRmNGd",
    "outputId": "7dc876a9-53df-4282-8600-0af2d9e98bbd"
   },
   "outputs": [
    {
     "name": "stdout",
     "output_type": "stream",
     "text": [
      "angry: 0.6461538461538461\n",
      "calm: 0.627906976744186\n",
      "disgust: 0.631578947368421\n",
      "fearful: 0.5647058823529411\n",
      "happy: 0.5454545454545455\n",
      "neutral: 0.4117647058823529\n",
      "sad: 0.42666666666666664\n",
      "surprised: 0.7435897435897436\n"
     ]
    }
   ],
   "source": [
    "f1_scores = calculate_f1_scores_by_class(initial_classifier_results[\"svc\"][\"val\"][\"predictions\"], emotions_val)\n",
    "for emotion, score in f1_scores.items():\n",
    "    print(f\"{emotion}: {score}\")"
   ]
  },
  {
   "cell_type": "code",
   "execution_count": 24,
   "metadata": {
    "colab": {
     "base_uri": "https://localhost:8080/",
     "height": 350
    },
    "id": "ZPCMAGy4opci",
    "outputId": "fab6fd7c-b687-4747-fc6b-db022f1062e2"
   },
   "outputs": [
    {
     "data": {
      "image/png": "[encoded data removed]",
      "text/plain": [
       "<Figure size 1000x500 with 1 Axes>"
      ]
     },
     "metadata": {},
     "output_type": "display_data"
    }
   ],
   "source": [
    "# Taken from https://www.geeksforgeeks.org/bar-plot-in-matplotlib/\n",
    "\n",
    "import matplotlib.pyplot as plt\n",
    "\n",
    "list_of_emotions = list(f1_scores.keys())\n",
    "f1_score_values = list(f1_scores.values())\n",
    "\n",
    "fig = plt.figure(figsize = (10, 5))\n",
    "\n",
    "plt.bar(list_of_emotions, f1_score_values, color ='blue', width = 0.6)\n",
    "plt.xlabel(\"Labels (emotions)\")\n",
    "plt.ylabel(\"F1 class score\")\n",
    "plt.title(\"F1 scores by class of svc classifier\")\n",
    "plt.show()"
   ]
  },
  {
   "cell_type": "code",
   "execution_count": 25,
   "metadata": {},
   "outputs": [
    {
     "data": {
      "image/png": "[encoded data removed]",
      "text/plain": [
       "<Figure size 640x480 with 2 Axes>"
      ]
     },
     "metadata": {},
     "output_type": "display_data"
    }
   ],
   "source": [
    "from sklearn import metrics\n",
    "\n",
    "metrics.ConfusionMatrixDisplay.from_predictions(emotions_val, initial_classifier_results[\"svc\"][\"val\"][\"predictions\"])\n",
    "plt.show()"
   ]
  },
  {
   "cell_type": "markdown",
   "metadata": {},
   "source": [
    "##### Binary classification"
   ]
  },
  {
   "cell_type": "code",
   "execution_count": 26,
   "metadata": {},
   "outputs": [],
   "source": [
    "initial_classifier_results_binary[\"dummy_classifier_most_frequent\"] = fit_predict_and_score_classifier(dummy_classifier_most_frequent, *binary_parameters)"
   ]
  },
  {
   "cell_type": "code",
   "execution_count": 27,
   "metadata": {
    "id": "OP12BrTLkY0A"
   },
   "outputs": [],
   "source": [
    "initial_classifier_results_binary[\"dummy_classifier_stratified\"] = fit_predict_and_score_classifier(dummy_classifier_stratified, *binary_parameters)"
   ]
  },
  {
   "cell_type": "code",
   "execution_count": 28,
   "metadata": {
    "id": "XFi7oHh1kqcF"
   },
   "outputs": [],
   "source": [
    "initial_classifier_results_binary[\"logistic_regression\"] = fit_predict_and_score_classifier(logistic_regression, *binary_parameters)"
   ]
  },
  {
   "cell_type": "code",
   "execution_count": 29,
   "metadata": {
    "id": "BiN0CnX2ktST"
   },
   "outputs": [],
   "source": [
    "initial_classifier_results_binary[\"svc\"] = fit_predict_and_score_classifier(svc, *binary_parameters)"
   ]
  },
  {
   "cell_type": "code",
   "execution_count": 30,
   "metadata": {
    "colab": {
     "base_uri": "https://localhost:8080/",
     "height": 363
    },
    "id": "68ytUVLHav6l",
    "outputId": "66b32dd9-2719-493c-8ac7-3261a8a4da8d"
   },
   "outputs": [
    {
     "name": "stderr",
     "output_type": "stream",
     "text": [
      "C:\\Users\\Matas\\AppData\\Local\\Temp\\ipykernel_13092\\2014226108.py:39: FutureWarning: The frame.append method is deprecated and will be removed from pandas in a future version. Use pandas.concat instead.\n",
      "  table = table.append(new_row, ignore_index=True)\n",
      "C:\\Users\\Matas\\AppData\\Local\\Temp\\ipykernel_13092\\2014226108.py:39: FutureWarning: The frame.append method is deprecated and will be removed from pandas in a future version. Use pandas.concat instead.\n",
      "  table = table.append(new_row, ignore_index=True)\n",
      "C:\\Users\\Matas\\AppData\\Local\\Temp\\ipykernel_13092\\2014226108.py:39: FutureWarning: The frame.append method is deprecated and will be removed from pandas in a future version. Use pandas.concat instead.\n",
      "  table = table.append(new_row, ignore_index=True)\n",
      "C:\\Users\\Matas\\AppData\\Local\\Temp\\ipykernel_13092\\2014226108.py:39: FutureWarning: The frame.append method is deprecated and will be removed from pandas in a future version. Use pandas.concat instead.\n",
      "  table = table.append(new_row, ignore_index=True)\n",
      "C:\\Users\\Matas\\AppData\\Local\\Temp\\ipykernel_13092\\2014226108.py:39: FutureWarning: The frame.append method is deprecated and will be removed from pandas in a future version. Use pandas.concat instead.\n",
      "  table = table.append(new_row, ignore_index=True)\n",
      "C:\\Users\\Matas\\AppData\\Local\\Temp\\ipykernel_13092\\2014226108.py:39: FutureWarning: The frame.append method is deprecated and will be removed from pandas in a future version. Use pandas.concat instead.\n",
      "  table = table.append(new_row, ignore_index=True)\n",
      "C:\\Users\\Matas\\AppData\\Local\\Temp\\ipykernel_13092\\2014226108.py:39: FutureWarning: The frame.append method is deprecated and will be removed from pandas in a future version. Use pandas.concat instead.\n",
      "  table = table.append(new_row, ignore_index=True)\n",
      "C:\\Users\\Matas\\AppData\\Local\\Temp\\ipykernel_13092\\2014226108.py:39: FutureWarning: The frame.append method is deprecated and will be removed from pandas in a future version. Use pandas.concat instead.\n",
      "  table = table.append(new_row, ignore_index=True)\n"
     ]
    },
    {
     "data": {
      "text/html": [
       "<div>\n",
       "<style scoped>\n",
       "    .dataframe tbody tr th:only-of-type {\n",
       "        vertical-align: middle;\n",
       "    }\n",
       "\n",
       "    .dataframe tbody tr th {\n",
       "        vertical-align: top;\n",
       "    }\n",
       "\n",
       "    .dataframe thead th {\n",
       "        text-align: right;\n",
       "    }\n",
       "</style>\n",
       "<table border=\"1\" class=\"dataframe\">\n",
       "  <thead>\n",
       "    <tr style=\"text-align: right;\">\n",
       "      <th></th>\n",
       "      <th>Classifier</th>\n",
       "      <th>Set type</th>\n",
       "      <th>predictions</th>\n",
       "      <th>accuracy</th>\n",
       "      <th>precision</th>\n",
       "      <th>recall</th>\n",
       "      <th>F1</th>\n",
       "    </tr>\n",
       "  </thead>\n",
       "  <tbody>\n",
       "    <tr>\n",
       "      <th>0</th>\n",
       "      <td>dummy_classifier_most_frequent</td>\n",
       "      <td>train</td>\n",
       "      <td>[negative, negative, negative, negative, negat...</td>\n",
       "      <td>0.532407</td>\n",
       "      <td>0.766204</td>\n",
       "      <td>0.500000</td>\n",
       "      <td>0.347432</td>\n",
       "    </tr>\n",
       "    <tr>\n",
       "      <th>1</th>\n",
       "      <td>dummy_classifier_most_frequent</td>\n",
       "      <td>val</td>\n",
       "      <td>[negative, negative, negative, negative, negat...</td>\n",
       "      <td>0.538194</td>\n",
       "      <td>0.769097</td>\n",
       "      <td>0.500000</td>\n",
       "      <td>0.349887</td>\n",
       "    </tr>\n",
       "    <tr>\n",
       "      <th>2</th>\n",
       "      <td>dummy_classifier_stratified</td>\n",
       "      <td>train</td>\n",
       "      <td>[negative, positive, positive, negative, negat...</td>\n",
       "      <td>0.480324</td>\n",
       "      <td>0.479486</td>\n",
       "      <td>0.479412</td>\n",
       "      <td>0.479263</td>\n",
       "    </tr>\n",
       "    <tr>\n",
       "      <th>3</th>\n",
       "      <td>dummy_classifier_stratified</td>\n",
       "      <td>val</td>\n",
       "      <td>[positive, negative, positive, negative, negat...</td>\n",
       "      <td>0.465278</td>\n",
       "      <td>0.464467</td>\n",
       "      <td>0.464274</td>\n",
       "      <td>0.464011</td>\n",
       "    </tr>\n",
       "    <tr>\n",
       "      <th>4</th>\n",
       "      <td>logistic_regression</td>\n",
       "      <td>train</td>\n",
       "      <td>[positive, negative, positive, negative, posit...</td>\n",
       "      <td>0.783565</td>\n",
       "      <td>0.782643</td>\n",
       "      <td>0.782727</td>\n",
       "      <td>0.782684</td>\n",
       "    </tr>\n",
       "    <tr>\n",
       "      <th>5</th>\n",
       "      <td>logistic_regression</td>\n",
       "      <td>val</td>\n",
       "      <td>[negative, positive, negative, negative, negat...</td>\n",
       "      <td>0.704861</td>\n",
       "      <td>0.703367</td>\n",
       "      <td>0.703929</td>\n",
       "      <td>0.703571</td>\n",
       "    </tr>\n",
       "    <tr>\n",
       "      <th>6</th>\n",
       "      <td>svc</td>\n",
       "      <td>train</td>\n",
       "      <td>[negative, negative, positive, negative, posit...</td>\n",
       "      <td>0.891204</td>\n",
       "      <td>0.891756</td>\n",
       "      <td>0.889690</td>\n",
       "      <td>0.890485</td>\n",
       "    </tr>\n",
       "    <tr>\n",
       "      <th>7</th>\n",
       "      <td>svc</td>\n",
       "      <td>val</td>\n",
       "      <td>[positive, positive, negative, negative, negat...</td>\n",
       "      <td>0.763889</td>\n",
       "      <td>0.762581</td>\n",
       "      <td>0.761969</td>\n",
       "      <td>0.762238</td>\n",
       "    </tr>\n",
       "  </tbody>\n",
       "</table>\n",
       "</div>"
      ],
      "text/plain": [
       "                       Classifier Set type  \\\n",
       "0  dummy_classifier_most_frequent    train   \n",
       "1  dummy_classifier_most_frequent      val   \n",
       "2     dummy_classifier_stratified    train   \n",
       "3     dummy_classifier_stratified      val   \n",
       "4             logistic_regression    train   \n",
       "5             logistic_regression      val   \n",
       "6                             svc    train   \n",
       "7                             svc      val   \n",
       "\n",
       "                                         predictions  accuracy  precision  \\\n",
       "0  [negative, negative, negative, negative, negat...  0.532407   0.766204   \n",
       "1  [negative, negative, negative, negative, negat...  0.538194   0.769097   \n",
       "2  [negative, positive, positive, negative, negat...  0.480324   0.479486   \n",
       "3  [positive, negative, positive, negative, negat...  0.465278   0.464467   \n",
       "4  [positive, negative, positive, negative, posit...  0.783565   0.782643   \n",
       "5  [negative, positive, negative, negative, negat...  0.704861   0.703367   \n",
       "6  [negative, negative, positive, negative, posit...  0.891204   0.891756   \n",
       "7  [positive, positive, negative, negative, negat...  0.763889   0.762581   \n",
       "\n",
       "     recall        F1  \n",
       "0  0.500000  0.347432  \n",
       "1  0.500000  0.349887  \n",
       "2  0.479412  0.479263  \n",
       "3  0.464274  0.464011  \n",
       "4  0.782727  0.782684  \n",
       "5  0.703929  0.703571  \n",
       "6  0.889690  0.890485  \n",
       "7  0.761969  0.762238  "
      ]
     },
     "metadata": {},
     "output_type": "display_data"
    }
   ],
   "source": [
    "initial_classifier_results_table_binary = create_result_table(initial_classifier_results_binary)\n",
    "display(initial_classifier_results_table_binary)"
   ]
  },
  {
   "cell_type": "code",
   "execution_count": 31,
   "metadata": {
    "colab": {
     "base_uri": "https://localhost:8080/"
    },
    "id": "9XYuc7nRmNGd",
    "outputId": "7dc876a9-53df-4282-8600-0af2d9e98bbd"
   },
   "outputs": [
    {
     "name": "stdout",
     "output_type": "stream",
     "text": [
      "negative: 0.723127035830619\n",
      "positive: 0.6840148698884759\n"
     ]
    }
   ],
   "source": [
    "f1_scores_binary = calculate_f1_scores_by_class(initial_classifier_results_binary[\"logistic_regression\"][\"val\"][\"predictions\"], emotions_binary_val)\n",
    "for emotion, score in f1_scores_binary.items():\n",
    "    print(f\"{emotion}: {score}\")"
   ]
  },
  {
   "cell_type": "code",
   "execution_count": 32,
   "metadata": {
    "colab": {
     "base_uri": "https://localhost:8080/",
     "height": 350
    },
    "id": "ZPCMAGy4opci",
    "outputId": "fab6fd7c-b687-4747-fc6b-db022f1062e2"
   },
   "outputs": [
    {
     "data": {
      "image/png": "[encoded data removed]",
      "text/plain": [
       "<Figure size 1000x500 with 1 Axes>"
      ]
     },
     "metadata": {},
     "output_type": "display_data"
    }
   ],
   "source": [
    "# Taken from https://www.geeksforgeeks.org/bar-plot-in-matplotlib/\n",
    "\n",
    "import matplotlib.pyplot as plt\n",
    "\n",
    "list_of_emotions_binary = list(f1_scores_binary.keys())\n",
    "f1_score_values_binary = list(f1_scores_binary.values())\n",
    "\n",
    "fig = plt.figure(figsize = (10, 5))\n",
    "\n",
    "plt.bar(list_of_emotions_binary, f1_score_values_binary, color ='blue', width = 0.6)\n",
    "plt.xlabel(\"Labels (emotions)\")\n",
    "plt.ylabel(\"F1 class score\")\n",
    "plt.title(\"F1 scores by class of logistic_regression classifier\")\n",
    "plt.show()"
   ]
  },
  {
   "cell_type": "code",
   "execution_count": 33,
   "metadata": {},
   "outputs": [
    {
     "data": {
      "image/png": "[encoded data removed]",
      "text/plain": [
       "<Figure size 640x480 with 2 Axes>"
      ]
     },
     "metadata": {},
     "output_type": "display_data"
    }
   ],
   "source": [
    "metrics.ConfusionMatrixDisplay.from_predictions(emotions_binary_val, initial_classifier_results_binary[\"logistic_regression\"][\"val\"][\"predictions\"])\n",
    "plt.show()"
   ]
  },
  {
   "cell_type": "markdown",
   "metadata": {},
   "source": [
    "##### Feature visualisation"
   ]
  },
  {
   "cell_type": "code",
   "execution_count": 34,
   "metadata": {},
   "outputs": [],
   "source": [
    "# !jupyter notebook --NotebookApp.iopub_data_rate_limit=1.0e10"
   ]
  },
  {
   "cell_type": "code",
   "execution_count": 35,
   "metadata": {},
   "outputs": [],
   "source": [
    "import treelib\n",
    "\n",
    "def add_node(tree, feature, is_feature):\n",
    "    feature_parent, delimiter, feature_name = feature.rpartition(\"_\")\n",
    "    \n",
    "    if not tree.contains(feature_parent):\n",
    "        add_node(tree, feature_parent, False)\n",
    "    \n",
    "    try:\n",
    "        tree.create_node(tag=feature_name, identifier=feature, parent=feature_parent, data=is_feature)\n",
    "    except treelib.exceptions.DuplicatedNodeIdError as error:\n",
    "        # Such node already exists, potentially because recursive parent creation created it before reaching the node itself\n",
    "        if is_feature:\n",
    "            feature_tree.get_node(feature).data = True\n",
    "\n",
    "feature_tree = treelib.Tree()\n",
    "\n",
    "feature_tree.create_node(tag=\"ROOT\", identifier=\"\", data=False)\n",
    "\n",
    "for column in speeches_train.columns:\n",
    "    add_node(feature_tree, column, True)"
   ]
  },
  {
   "cell_type": "code",
   "execution_count": 36,
   "metadata": {},
   "outputs": [
    {
     "data": {
      "text/plain": [
       "2"
      ]
     },
     "execution_count": 36,
     "metadata": {},
     "output_type": "execute_result"
    }
   ],
   "source": [
    "# Taken from https://medium.com/dive-into-ml-ai/tree-data-visualization-with-treelib-71633f6fd8fb\n",
    "import subprocess\n",
    "\n",
    "feature_tree.to_graphviz(\"Feature hierarchy graph description.dot\")\n",
    "subprocess.call([\"dot\", \"-Tsvg\", \"hello.dot\", \"-o\", \"Feature hierarchy graph.svg\"])"
   ]
  },
  {
   "cell_type": "code",
   "execution_count": 37,
   "metadata": {},
   "outputs": [],
   "source": [
    "# feature_tree.all_nodes()"
   ]
  },
  {
   "cell_type": "code",
   "execution_count": 38,
   "metadata": {},
   "outputs": [
    {
     "name": "stdout",
     "output_type": "stream",
     "text": [
      "Counter({'amean': 35, 'stddevNorm': 30, 'percentile20.0': 2, 'percentile50.0': 2, 'percentile80.0': 2, 'pctlrange0-2': 2, 'meanRisingSlope': 2, 'stddevRisingSlope': 2, 'meanFallingSlope': 2, 'stddevFallingSlope': 2, 'loudnessPeaksPerSec': 1, 'VoicedSegmentsPerSec': 1, 'MeanVoicedSegmentLengthSec': 1, 'StddevVoicedSegmentLengthSec': 1, 'MeanUnvoicedSegmentLength': 1, 'StddevUnvoicedSegmentLength': 1, 'dBp': 1})\n"
     ]
    }
   ],
   "source": [
    "feature_endings = []\n",
    "analysis_by_endings = {}\n",
    "\n",
    "for column in speeches_train.columns:\n",
    "    feature_parent, delimiter, ending = column.rpartition(\"_\")\n",
    "    feature_endings.append(ending)\n",
    "    \n",
    "    if ending not in analysis_by_endings.keys():\n",
    "        analysis_by_endings[ending] = {\"features\": []}\n",
    "    \n",
    "    analysis_by_endings[ending][\"features\"].append(column)\n",
    "    \n",
    "print(Counter(feature_endings))"
   ]
  },
  {
   "cell_type": "markdown",
   "metadata": {},
   "source": [
    "#### Feature optimisation section"
   ]
  },
  {
   "cell_type": "code",
   "execution_count": 39,
   "metadata": {},
   "outputs": [],
   "source": [
    "classifier_for_feature_optimisation = svc\n",
    "baseline_f1_score = initial_classifier_results[\"svc\"][\"val\"][\"F1\"]\n",
    "\n",
    "features_used_for_testing = 10_000 # 50 # 600\n",
    "\n",
    "speeches_train_copy = speeches_train.copy()\n",
    "speeches_train_copy.drop(speeches_train.columns[features_used_for_testing:], axis=1, inplace=True)\n",
    "speeches_val_copy = speeches_val.copy()\n",
    "speeches_val_copy.drop(speeches_val.columns[features_used_for_testing:], axis=1, inplace=True)"
   ]
  },
  {
   "cell_type": "code",
   "execution_count": 40,
   "metadata": {
    "scrolled": true
   },
   "outputs": [],
   "source": [
    "# ### Separated model to reduce time demands\n",
    "\n",
    "# from ipywidgets import IntProgress\n",
    "\n",
    "# # raise Exception(\"Prevent this cell from running so that it doesn't get stuck\")\n",
    "\n",
    "# endings_progress_bar = IntProgress(\n",
    "#     min=0,\n",
    "#     max=len(analysis_by_endings.keys())-1,\n",
    "#     description = f\"0/{len(analysis_by_endings)-1} ending\"\n",
    "# )\n",
    "\n",
    "# progress_bar = IntProgress(\n",
    "#     min=0,\n",
    "#     max=len(speeches_train_copy.columns)-1,\n",
    "#     description = f\"0th feature\"\n",
    "# )\n",
    "\n",
    "# inner_progress_bar = IntProgress(\n",
    "#     min=0,\n",
    "#     max=len(speeches_train.columns)-1,\n",
    "#     description = f\"0/{len(speeches_train_copy.columns)-1}\"\n",
    "# )\n",
    "\n",
    "# display(endings_progress_bar)\n",
    "# display(progress_bar)\n",
    "# display(inner_progress_bar)\n",
    "\n",
    "# for ending_index, data in enumerate(list(analysis_by_endings.values())):\n",
    "#     data[\"final_data_frame\"] = pd.DataFrame()\n",
    "#     data[\"removed_features\"] = []\n",
    "\n",
    "#     speeches_train_copy = speeches_train.copy()[data[\"features\"]]\n",
    "#     speeches_val_copy = speeches_val.copy()[data[\"features\"]]\n",
    "    \n",
    "#     progress_bar.value = 0\n",
    "#     progress_bar.max = len(speeches_train_copy.columns)-1\n",
    "#     inner_progress_bar.value = 0\n",
    "#     inner_progress_bar.max = len(speeches_train_copy.columns)-1\n",
    "#     endings_progress_bar.description = f\"{ending_index}/{len(analysis_by_endings)-1} ending\"\n",
    "    \n",
    "#     for feature_index in range(len(speeches_train_copy.columns)-1): # -1 so that the last feature is not deleted and an empty DataFrame is passed\n",
    "#         progress_bar.description = f\"{feature_index}/{len(speeches_train_copy.columns)-1} feature\"\n",
    "\n",
    "#         # Setting the new baseline\n",
    "#         result = fit_predict_and_score_classifier(\n",
    "#                 classifier_for_feature_optimisation,\n",
    "#                 speeches_train_copy,\n",
    "#                 speeches_val_copy, # speeches_val,\n",
    "#                 emotions_train,\n",
    "#                 emotions_val,\n",
    "#                 set(emotions)\n",
    "#             )\n",
    "#         max_f1_score = result[\"val\"][\"F1\"]\n",
    "#         column_to_remove = None\n",
    "\n",
    "#         # Finding the worst F1-reducing feature\n",
    "#         inner_progress_bar.max = len(speeches_train_copy.columns)\n",
    "#         inner_progress_bar.value = 0\n",
    "\n",
    "#         for index, column in enumerate(speeches_train_copy.columns):\n",
    "#             inner_progress_bar.description = f\"{index}/{len(speeches_train_copy.columns)-1}\"\n",
    "\n",
    "#             result = fit_predict_and_score_classifier(\n",
    "#                 classifier_for_feature_optimisation,\n",
    "#                 speeches_train_copy.drop([column], axis=1),\n",
    "#                 speeches_val_copy.drop([column], axis=1), # speeches_val.drop([column], axis=1),\n",
    "#                 emotions_train,\n",
    "#                 emotions_val,\n",
    "#                 set(emotions)\n",
    "#             )\n",
    "#             f1_score = result[\"val\"][\"F1\"]\n",
    "\n",
    "#             if f1_score > max_f1_score:\n",
    "#                 max_f1_score = f1_score\n",
    "#                 column_to_remove = column\n",
    "\n",
    "#             inner_progress_bar.value += 1\n",
    "\n",
    "#         # Removing the worst feature\n",
    "#         if column_to_remove is not None:\n",
    "#             speeches_train_copy.drop([column_to_remove], axis=1, inplace=True)\n",
    "#             speeches_val_copy.drop([column_to_remove], axis=1, inplace=True) # speeches_val.drop([column_to_remove], axis=1, inplace=True)\n",
    "#             data[\"removed_features\"].append((column_to_remove, max_f1_score, max_f1_score - f1_score))\n",
    "#             progress_bar.value += 1\n",
    "#         else:\n",
    "#             progress_bar.value = progress_bar.max\n",
    "#             inner_progress_bar.value = inner_progress_bar.max\n",
    "#             data[\"final_data_frame\"] = speeches_train_copy.copy()\n",
    "#             break\n",
    "            \n",
    "#     endings_progress_bar.value += 1"
   ]
  },
  {
   "cell_type": "code",
   "execution_count": 41,
   "metadata": {},
   "outputs": [
    {
     "data": {
      "application/vnd.jupyter.widget-view+json": {
       "model_id": "e12551de82a64b79bc6ccf0009b502de",
       "version_major": 2,
       "version_minor": 0
      },
      "text/plain": [
       "IntProgress(value=0, description='0th feature', max=87)"
      ]
     },
     "metadata": {},
     "output_type": "display_data"
    },
    {
     "data": {
      "application/vnd.jupyter.widget-view+json": {
       "model_id": "472e3295aab1439cac88562671818669",
       "version_major": 2,
       "version_minor": 0
      },
      "text/plain": [
       "IntProgress(value=0, description='0/87', max=87)"
      ]
     },
     "metadata": {},
     "output_type": "display_data"
    }
   ],
   "source": [
    "### Full version (slow but checking everything)\n",
    "\n",
    "from ipywidgets import IntProgress\n",
    "\n",
    "# raise Exception(\"Prevent this cell from running so that it doesn't get stuck\")\n",
    "\n",
    "progress_bar = IntProgress(\n",
    "    min=0,\n",
    "    max=len(speeches_train_copy.columns)-1,\n",
    "    description = f\"0th feature\"\n",
    ")\n",
    "\n",
    "inner_progress_bar = IntProgress(\n",
    "    min=0,\n",
    "    max=len(speeches_train.columns)-1,\n",
    "    description = f\"0/{len(speeches_train_copy.columns)-1}\"\n",
    ")\n",
    "\n",
    "display(progress_bar)\n",
    "display(inner_progress_bar)\n",
    "\n",
    "data = []\n",
    "final_data_frame = None\n",
    "# data[\"final_data_frame\"] = pd.DataFrame()\n",
    "# data[\"removed_features\"] = []\n",
    "\n",
    "speeches_train_copy = speeches_train.copy()\n",
    "speeches_val_copy = speeches_val.copy()\n",
    "\n",
    "progress_bar.value = 0\n",
    "progress_bar.max = len(speeches_train_copy.columns)-1\n",
    "inner_progress_bar.value = 0\n",
    "inner_progress_bar.max = len(speeches_train_copy.columns)-1\n",
    "\n",
    "for feature_index in range(len(speeches_train_copy.columns)-1): # -1 so that the last feature is not deleted and an empty DataFrame is passed\n",
    "    progress_bar.description = f\"{feature_index}/{len(speeches_train_copy.columns)-1} feature\"\n",
    "\n",
    "    # Setting the new baseline\n",
    "    result = fit_predict_and_score_classifier(\n",
    "            classifier_for_feature_optimisation,\n",
    "            speeches_train_copy,\n",
    "            speeches_val_copy, # speeches_val,\n",
    "            emotions_train,\n",
    "            emotions_val,\n",
    "            set(emotions)\n",
    "        )\n",
    "    max_f1_score = result[\"val\"][\"F1\"]\n",
    "    column_to_remove = None\n",
    "\n",
    "    # Finding the worst F1-reducing feature\n",
    "    inner_progress_bar.max = len(speeches_train_copy.columns)\n",
    "    inner_progress_bar.value = 0\n",
    "\n",
    "    for index, column in enumerate(speeches_train_copy.columns):\n",
    "        inner_progress_bar.description = f\"{index}/{len(speeches_train_copy.columns)-1}\"\n",
    "\n",
    "        result = fit_predict_and_score_classifier(\n",
    "            classifier_for_feature_optimisation,\n",
    "            speeches_train_copy.drop([column], axis=1),\n",
    "            speeches_val_copy.drop([column], axis=1), # speeches_val.drop([column], axis=1),\n",
    "            emotions_train,\n",
    "            emotions_val,\n",
    "            set(emotions)\n",
    "        )\n",
    "        f1_score = result[\"val\"][\"F1\"]\n",
    "\n",
    "        if f1_score > max_f1_score:\n",
    "            max_f1_score = f1_score\n",
    "            column_to_remove = column\n",
    "\n",
    "        inner_progress_bar.value += 1\n",
    "\n",
    "    # Removing the worst feature\n",
    "    if column_to_remove is not None:\n",
    "        speeches_train_copy.drop([column_to_remove], axis=1, inplace=True)\n",
    "        speeches_val_copy.drop([column_to_remove], axis=1, inplace=True) # speeches_val.drop([column_to_remove], axis=1, inplace=True)\n",
    "        data.append((column_to_remove, max_f1_score, max_f1_score - f1_score))\n",
    "        progress_bar.value += 1\n",
    "    else:\n",
    "        progress_bar.value = progress_bar.max\n",
    "        inner_progress_bar.value = inner_progress_bar.max\n",
    "        final_data_frame = speeches_train_copy.copy()\n",
    "        break"
   ]
  },
  {
   "cell_type": "code",
   "execution_count": 42,
   "metadata": {},
   "outputs": [
    {
     "data": {
      "text/plain": [
       "[('F3frequency_sma3nz_stddevNorm', 0.6011863732947672, 0.01983866990759009),\n",
       " ('loudness_sma3_percentile50.0', 0.6087547838455578, 0.01300491714563723),\n",
       " ('F1frequency_sma3nz_amean', 0.6122133970818181, 0.013486134970291608),\n",
       " ('mfcc3V_sma3nz_stddevNorm', 0.6162671124159734, 0.02051626238826776),\n",
       " ('mfcc1V_sma3nz_stddevNorm', 0.6196640810727498, 0.0264983722309462)]"
      ]
     },
     "execution_count": 42,
     "metadata": {},
     "output_type": "execute_result"
    }
   ],
   "source": [
    "data"
   ]
  },
  {
   "cell_type": "code",
   "execution_count": 43,
   "metadata": {},
   "outputs": [],
   "source": [
    "removed_columns = [entry[0] for entry in data]\n",
    "speeches_train_pruned = speeches_train.copy().drop(removed_columns, axis=1)\n",
    "speeches_val_pruned = speeches_val.copy().drop(removed_columns, axis=1)\n",
    "speeches_test_pruned = speeches_test.copy().drop(removed_columns, axis=1)\n",
    "\n",
    "multi_class_pruned_parameters = (speeches_train_pruned, speeches_val_pruned, emotions_train, emotions_val, set(emotions))"
   ]
  },
  {
   "cell_type": "code",
   "execution_count": 44,
   "metadata": {},
   "outputs": [
    {
     "name": "stdout",
     "output_type": "stream",
     "text": [
      "88 83\n"
     ]
    }
   ],
   "source": [
    "print(len(speeches_train.columns), len(speeches_train_pruned.columns))"
   ]
  },
  {
   "cell_type": "code",
   "execution_count": 45,
   "metadata": {},
   "outputs": [],
   "source": [
    "initial_classifier_results[\"svc_pruned\"] = fit_predict_and_score_classifier(svc, *multi_class_parameters)"
   ]
  },
  {
   "cell_type": "code",
   "execution_count": 46,
   "metadata": {},
   "outputs": [
    {
     "name": "stderr",
     "output_type": "stream",
     "text": [
      "C:\\Users\\Matas\\AppData\\Local\\Temp\\ipykernel_13092\\2014226108.py:39: FutureWarning: The frame.append method is deprecated and will be removed from pandas in a future version. Use pandas.concat instead.\n",
      "  table = table.append(new_row, ignore_index=True)\n",
      "C:\\Users\\Matas\\AppData\\Local\\Temp\\ipykernel_13092\\2014226108.py:39: FutureWarning: The frame.append method is deprecated and will be removed from pandas in a future version. Use pandas.concat instead.\n",
      "  table = table.append(new_row, ignore_index=True)\n",
      "C:\\Users\\Matas\\AppData\\Local\\Temp\\ipykernel_13092\\2014226108.py:39: FutureWarning: The frame.append method is deprecated and will be removed from pandas in a future version. Use pandas.concat instead.\n",
      "  table = table.append(new_row, ignore_index=True)\n",
      "C:\\Users\\Matas\\AppData\\Local\\Temp\\ipykernel_13092\\2014226108.py:39: FutureWarning: The frame.append method is deprecated and will be removed from pandas in a future version. Use pandas.concat instead.\n",
      "  table = table.append(new_row, ignore_index=True)\n",
      "C:\\Users\\Matas\\AppData\\Local\\Temp\\ipykernel_13092\\2014226108.py:39: FutureWarning: The frame.append method is deprecated and will be removed from pandas in a future version. Use pandas.concat instead.\n",
      "  table = table.append(new_row, ignore_index=True)\n",
      "C:\\Users\\Matas\\AppData\\Local\\Temp\\ipykernel_13092\\2014226108.py:39: FutureWarning: The frame.append method is deprecated and will be removed from pandas in a future version. Use pandas.concat instead.\n",
      "  table = table.append(new_row, ignore_index=True)\n",
      "C:\\Users\\Matas\\AppData\\Local\\Temp\\ipykernel_13092\\2014226108.py:39: FutureWarning: The frame.append method is deprecated and will be removed from pandas in a future version. Use pandas.concat instead.\n",
      "  table = table.append(new_row, ignore_index=True)\n",
      "C:\\Users\\Matas\\AppData\\Local\\Temp\\ipykernel_13092\\2014226108.py:39: FutureWarning: The frame.append method is deprecated and will be removed from pandas in a future version. Use pandas.concat instead.\n",
      "  table = table.append(new_row, ignore_index=True)\n",
      "C:\\Users\\Matas\\AppData\\Local\\Temp\\ipykernel_13092\\2014226108.py:39: FutureWarning: The frame.append method is deprecated and will be removed from pandas in a future version. Use pandas.concat instead.\n",
      "  table = table.append(new_row, ignore_index=True)\n",
      "C:\\Users\\Matas\\AppData\\Local\\Temp\\ipykernel_13092\\2014226108.py:39: FutureWarning: The frame.append method is deprecated and will be removed from pandas in a future version. Use pandas.concat instead.\n",
      "  table = table.append(new_row, ignore_index=True)\n"
     ]
    },
    {
     "data": {
      "text/html": [
       "<div>\n",
       "<style scoped>\n",
       "    .dataframe tbody tr th:only-of-type {\n",
       "        vertical-align: middle;\n",
       "    }\n",
       "\n",
       "    .dataframe tbody tr th {\n",
       "        vertical-align: top;\n",
       "    }\n",
       "\n",
       "    .dataframe thead th {\n",
       "        text-align: right;\n",
       "    }\n",
       "</style>\n",
       "<table border=\"1\" class=\"dataframe\">\n",
       "  <thead>\n",
       "    <tr style=\"text-align: right;\">\n",
       "      <th></th>\n",
       "      <th>Classifier</th>\n",
       "      <th>Set type</th>\n",
       "      <th>predictions</th>\n",
       "      <th>accuracy</th>\n",
       "      <th>precision</th>\n",
       "      <th>recall</th>\n",
       "      <th>F1</th>\n",
       "    </tr>\n",
       "  </thead>\n",
       "  <tbody>\n",
       "    <tr>\n",
       "      <th>0</th>\n",
       "      <td>dummy_classifier_most_frequent</td>\n",
       "      <td>train</td>\n",
       "      <td>[calm, calm, calm, calm, calm, calm, calm, cal...</td>\n",
       "      <td>0.134259</td>\n",
       "      <td>0.891782</td>\n",
       "      <td>0.125000</td>\n",
       "      <td>0.029592</td>\n",
       "    </tr>\n",
       "    <tr>\n",
       "      <th>1</th>\n",
       "      <td>dummy_classifier_most_frequent</td>\n",
       "      <td>val</td>\n",
       "      <td>[calm, calm, calm, calm, calm, calm, calm, cal...</td>\n",
       "      <td>0.131944</td>\n",
       "      <td>0.891493</td>\n",
       "      <td>0.125000</td>\n",
       "      <td>0.029141</td>\n",
       "    </tr>\n",
       "    <tr>\n",
       "      <th>2</th>\n",
       "      <td>dummy_classifier_stratified</td>\n",
       "      <td>train</td>\n",
       "      <td>[happy, disgust, surprised, angry, sad, calm, ...</td>\n",
       "      <td>0.138889</td>\n",
       "      <td>0.134778</td>\n",
       "      <td>0.134483</td>\n",
       "      <td>0.134392</td>\n",
       "    </tr>\n",
       "    <tr>\n",
       "      <th>3</th>\n",
       "      <td>dummy_classifier_stratified</td>\n",
       "      <td>val</td>\n",
       "      <td>[fearful, happy, fearful, calm, angry, disgust...</td>\n",
       "      <td>0.138889</td>\n",
       "      <td>0.137899</td>\n",
       "      <td>0.133266</td>\n",
       "      <td>0.134447</td>\n",
       "    </tr>\n",
       "    <tr>\n",
       "      <th>4</th>\n",
       "      <td>logistic_regression</td>\n",
       "      <td>train</td>\n",
       "      <td>[disgust, fearful, neutral, sad, surprised, su...</td>\n",
       "      <td>0.812500</td>\n",
       "      <td>0.809383</td>\n",
       "      <td>0.810139</td>\n",
       "      <td>0.809411</td>\n",
       "    </tr>\n",
       "    <tr>\n",
       "      <th>5</th>\n",
       "      <td>logistic_regression</td>\n",
       "      <td>val</td>\n",
       "      <td>[fearful, calm, surprised, sad, fearful, calm,...</td>\n",
       "      <td>0.576389</td>\n",
       "      <td>0.554396</td>\n",
       "      <td>0.557102</td>\n",
       "      <td>0.554253</td>\n",
       "    </tr>\n",
       "    <tr>\n",
       "      <th>6</th>\n",
       "      <td>svc</td>\n",
       "      <td>train</td>\n",
       "      <td>[disgust, fearful, neutral, sad, happy, surpri...</td>\n",
       "      <td>0.811343</td>\n",
       "      <td>0.817080</td>\n",
       "      <td>0.799382</td>\n",
       "      <td>0.803904</td>\n",
       "    </tr>\n",
       "    <tr>\n",
       "      <th>7</th>\n",
       "      <td>svc</td>\n",
       "      <td>val</td>\n",
       "      <td>[sad, calm, surprised, sad, fearful, calm, neu...</td>\n",
       "      <td>0.586806</td>\n",
       "      <td>0.588006</td>\n",
       "      <td>0.573802</td>\n",
       "      <td>0.574728</td>\n",
       "    </tr>\n",
       "    <tr>\n",
       "      <th>8</th>\n",
       "      <td>svc_pruned</td>\n",
       "      <td>train</td>\n",
       "      <td>[disgust, fearful, neutral, sad, happy, surpri...</td>\n",
       "      <td>0.811343</td>\n",
       "      <td>0.817080</td>\n",
       "      <td>0.799382</td>\n",
       "      <td>0.803904</td>\n",
       "    </tr>\n",
       "    <tr>\n",
       "      <th>9</th>\n",
       "      <td>svc_pruned</td>\n",
       "      <td>val</td>\n",
       "      <td>[sad, calm, surprised, sad, fearful, calm, neu...</td>\n",
       "      <td>0.586806</td>\n",
       "      <td>0.588006</td>\n",
       "      <td>0.573802</td>\n",
       "      <td>0.574728</td>\n",
       "    </tr>\n",
       "  </tbody>\n",
       "</table>\n",
       "</div>"
      ],
      "text/plain": [
       "                       Classifier Set type  \\\n",
       "0  dummy_classifier_most_frequent    train   \n",
       "1  dummy_classifier_most_frequent      val   \n",
       "2     dummy_classifier_stratified    train   \n",
       "3     dummy_classifier_stratified      val   \n",
       "4             logistic_regression    train   \n",
       "5             logistic_regression      val   \n",
       "6                             svc    train   \n",
       "7                             svc      val   \n",
       "8                      svc_pruned    train   \n",
       "9                      svc_pruned      val   \n",
       "\n",
       "                                         predictions  accuracy  precision  \\\n",
       "0  [calm, calm, calm, calm, calm, calm, calm, cal...  0.134259   0.891782   \n",
       "1  [calm, calm, calm, calm, calm, calm, calm, cal...  0.131944   0.891493   \n",
       "2  [happy, disgust, surprised, angry, sad, calm, ...  0.138889   0.134778   \n",
       "3  [fearful, happy, fearful, calm, angry, disgust...  0.138889   0.137899   \n",
       "4  [disgust, fearful, neutral, sad, surprised, su...  0.812500   0.809383   \n",
       "5  [fearful, calm, surprised, sad, fearful, calm,...  0.576389   0.554396   \n",
       "6  [disgust, fearful, neutral, sad, happy, surpri...  0.811343   0.817080   \n",
       "7  [sad, calm, surprised, sad, fearful, calm, neu...  0.586806   0.588006   \n",
       "8  [disgust, fearful, neutral, sad, happy, surpri...  0.811343   0.817080   \n",
       "9  [sad, calm, surprised, sad, fearful, calm, neu...  0.586806   0.588006   \n",
       "\n",
       "     recall        F1  \n",
       "0  0.125000  0.029592  \n",
       "1  0.125000  0.029141  \n",
       "2  0.134483  0.134392  \n",
       "3  0.133266  0.134447  \n",
       "4  0.810139  0.809411  \n",
       "5  0.557102  0.554253  \n",
       "6  0.799382  0.803904  \n",
       "7  0.573802  0.574728  \n",
       "8  0.799382  0.803904  \n",
       "9  0.573802  0.574728  "
      ]
     },
     "metadata": {},
     "output_type": "display_data"
    }
   ],
   "source": [
    "post_prunation_classifier_results_table = create_result_table(initial_classifier_results)\n",
    "display(post_prunation_classifier_results_table)"
   ]
  },
  {
   "cell_type": "markdown",
   "metadata": {},
   "source": [
    "##### Hyperparameter optimisation"
   ]
  },
  {
   "cell_type": "code",
   "execution_count": 47,
   "metadata": {},
   "outputs": [
    {
     "data": {
      "text/html": [
       "<style>#sk-container-id-1 {color: black;background-color: white;}#sk-container-id-1 pre{padding: 0;}#sk-container-id-1 div.sk-toggleable {background-color: white;}#sk-container-id-1 label.sk-toggleable__label {cursor: pointer;display: block;width: 100%;margin-bottom: 0;padding: 0.3em;box-sizing: border-box;text-align: center;}#sk-container-id-1 label.sk-toggleable__label-arrow:before {content: \"▸\";float: left;margin-right: 0.25em;color: #696969;}#sk-container-id-1 label.sk-toggleable__label-arrow:hover:before {color: black;}#sk-container-id-1 div.sk-estimator:hover label.sk-toggleable__label-arrow:before {color: black;}#sk-container-id-1 div.sk-toggleable__content {max-height: 0;max-width: 0;overflow: hidden;text-align: left;background-color: #f0f8ff;}#sk-container-id-1 div.sk-toggleable__content pre {margin: 0.2em;color: black;border-radius: 0.25em;background-color: #f0f8ff;}#sk-container-id-1 input.sk-toggleable__control:checked~div.sk-toggleable__content {max-height: 200px;max-width: 100%;overflow: auto;}#sk-container-id-1 input.sk-toggleable__control:checked~label.sk-toggleable__label-arrow:before {content: \"▾\";}#sk-container-id-1 div.sk-estimator input.sk-toggleable__control:checked~label.sk-toggleable__label {background-color: #d4ebff;}#sk-container-id-1 div.sk-label input.sk-toggleable__control:checked~label.sk-toggleable__label {background-color: #d4ebff;}#sk-container-id-1 input.sk-hidden--visually {border: 0;clip: rect(1px 1px 1px 1px);clip: rect(1px, 1px, 1px, 1px);height: 1px;margin: -1px;overflow: hidden;padding: 0;position: absolute;width: 1px;}#sk-container-id-1 div.sk-estimator {font-family: monospace;background-color: #f0f8ff;border: 1px dotted black;border-radius: 0.25em;box-sizing: border-box;margin-bottom: 0.5em;}#sk-container-id-1 div.sk-estimator:hover {background-color: #d4ebff;}#sk-container-id-1 div.sk-parallel-item::after {content: \"\";width: 100%;border-bottom: 1px solid gray;flex-grow: 1;}#sk-container-id-1 div.sk-label:hover label.sk-toggleable__label {background-color: #d4ebff;}#sk-container-id-1 div.sk-serial::before {content: \"\";position: absolute;border-left: 1px solid gray;box-sizing: border-box;top: 0;bottom: 0;left: 50%;z-index: 0;}#sk-container-id-1 div.sk-serial {display: flex;flex-direction: column;align-items: center;background-color: white;padding-right: 0.2em;padding-left: 0.2em;position: relative;}#sk-container-id-1 div.sk-item {position: relative;z-index: 1;}#sk-container-id-1 div.sk-parallel {display: flex;align-items: stretch;justify-content: center;background-color: white;position: relative;}#sk-container-id-1 div.sk-item::before, #sk-container-id-1 div.sk-parallel-item::before {content: \"\";position: absolute;border-left: 1px solid gray;box-sizing: border-box;top: 0;bottom: 0;left: 50%;z-index: -1;}#sk-container-id-1 div.sk-parallel-item {display: flex;flex-direction: column;z-index: 1;position: relative;background-color: white;}#sk-container-id-1 div.sk-parallel-item:first-child::after {align-self: flex-end;width: 50%;}#sk-container-id-1 div.sk-parallel-item:last-child::after {align-self: flex-start;width: 50%;}#sk-container-id-1 div.sk-parallel-item:only-child::after {width: 0;}#sk-container-id-1 div.sk-dashed-wrapped {border: 1px dashed gray;margin: 0 0.4em 0.5em 0.4em;box-sizing: border-box;padding-bottom: 0.4em;background-color: white;}#sk-container-id-1 div.sk-label label {font-family: monospace;font-weight: bold;display: inline-block;line-height: 1.2em;}#sk-container-id-1 div.sk-label-container {text-align: center;}#sk-container-id-1 div.sk-container {/* jupyter's `normalize.less` sets `[hidden] { display: none; }` but bootstrap.min.css set `[hidden] { display: none !important; }` so we also need the `!important` here to be able to override the default hidden behavior on the sphinx rendered scikit-learn.org. See: https://github.com/scikit-learn/scikit-learn/issues/21755 */display: inline-block !important;position: relative;}#sk-container-id-1 div.sk-text-repr-fallback {display: none;}</style><div id=\"sk-container-id-1\" class=\"sk-top-container\"><div class=\"sk-text-repr-fallback\"><pre>GridSearchCV(estimator=SVC(),\n",
       "             param_grid={&#x27;C&#x27;: [0.1, 1, 5, 10, 20, 50],\n",
       "                         &#x27;gamma&#x27;: [&#x27;scale&#x27;, &#x27;auto&#x27;],\n",
       "                         &#x27;kernel&#x27;: [&#x27;linear&#x27;, &#x27;poly&#x27;, &#x27;rbf&#x27;, &#x27;sigmoid&#x27;],\n",
       "                         &#x27;shrinking&#x27;: [True, False]})</pre><b>In a Jupyter environment, please rerun this cell to show the HTML representation or trust the notebook. <br />On GitHub, the HTML representation is unable to render, please try loading this page with nbviewer.org.</b></div><div class=\"sk-container\" hidden><div class=\"sk-item sk-dashed-wrapped\"><div class=\"sk-label-container\"><div class=\"sk-label sk-toggleable\"><input class=\"sk-toggleable__control sk-hidden--visually\" id=\"sk-estimator-id-1\" type=\"checkbox\" ><label for=\"sk-estimator-id-1\" class=\"sk-toggleable__label sk-toggleable__label-arrow\">GridSearchCV</label><div class=\"sk-toggleable__content\"><pre>GridSearchCV(estimator=SVC(),\n",
       "             param_grid={&#x27;C&#x27;: [0.1, 1, 5, 10, 20, 50],\n",
       "                         &#x27;gamma&#x27;: [&#x27;scale&#x27;, &#x27;auto&#x27;],\n",
       "                         &#x27;kernel&#x27;: [&#x27;linear&#x27;, &#x27;poly&#x27;, &#x27;rbf&#x27;, &#x27;sigmoid&#x27;],\n",
       "                         &#x27;shrinking&#x27;: [True, False]})</pre></div></div></div><div class=\"sk-parallel\"><div class=\"sk-parallel-item\"><div class=\"sk-item\"><div class=\"sk-label-container\"><div class=\"sk-label sk-toggleable\"><input class=\"sk-toggleable__control sk-hidden--visually\" id=\"sk-estimator-id-2\" type=\"checkbox\" ><label for=\"sk-estimator-id-2\" class=\"sk-toggleable__label sk-toggleable__label-arrow\">estimator: SVC</label><div class=\"sk-toggleable__content\"><pre>SVC()</pre></div></div></div><div class=\"sk-serial\"><div class=\"sk-item\"><div class=\"sk-estimator sk-toggleable\"><input class=\"sk-toggleable__control sk-hidden--visually\" id=\"sk-estimator-id-3\" type=\"checkbox\" ><label for=\"sk-estimator-id-3\" class=\"sk-toggleable__label sk-toggleable__label-arrow\">SVC</label><div class=\"sk-toggleable__content\"><pre>SVC()</pre></div></div></div></div></div></div></div></div></div></div>"
      ],
      "text/plain": [
       "GridSearchCV(estimator=SVC(),\n",
       "             param_grid={'C': [0.1, 1, 5, 10, 20, 50],\n",
       "                         'gamma': ['scale', 'auto'],\n",
       "                         'kernel': ['linear', 'poly', 'rbf', 'sigmoid'],\n",
       "                         'shrinking': [True, False]})"
      ]
     },
     "execution_count": 47,
     "metadata": {},
     "output_type": "execute_result"
    }
   ],
   "source": [
    "from sklearn.model_selection import GridSearchCV\n",
    "\n",
    "svc_parameters = {\n",
    "    \"kernel\": [\"linear\", \"poly\", \"rbf\", \"sigmoid\"],\n",
    "    \"C\": [0.1, 1, 5, 10, 20, 50],\n",
    "    \"gamma\": [\"scale\", \"auto\"],\n",
    "    \"shrinking\": [True, False],\n",
    "#     \"max_iter\": [-1, 100, 10_000],\n",
    "}\n",
    "\n",
    "parametrised_svc = GridSearchCV(svc, svc_parameters)\n",
    "parametrised_svc.fit(speeches_train_pruned, emotions_train)"
   ]
  },
  {
   "cell_type": "code",
   "execution_count": 48,
   "metadata": {
    "scrolled": true
   },
   "outputs": [
    {
     "data": {
      "text/plain": [
       "dict_items([('mean_fit_time', array([0.02917299, 0.03437405, 0.03749976, 0.04375005, 0.05508027,\n",
       "       0.13435125, 0.04375277, 0.0437427 , 0.0281261 , 0.03438201,\n",
       "       0.03749876, 0.0375001 , 0.04679308, 0.04062996, 0.03752093,\n",
       "       0.04061651, 0.06249537, 0.09850769, 0.03265667, 0.03428831,\n",
       "       0.04146667, 0.03543816, 0.03525219, 0.02953286, 0.06793761,\n",
       "       0.09686894, 0.0312501 , 0.03437543, 0.0416944 , 0.03890843,\n",
       "       0.03437419, 0.03437476, 0.11312342, 0.18614125, 0.03438354,\n",
       "       0.03436675, 0.04687986, 0.04062319, 0.03124957, 0.0281249 ,\n",
       "       0.11250691, 0.17500029, 0.03437896, 0.03437686, 0.04374752,\n",
       "       0.04062395, 0.0281209 , 0.02812481, 0.11561942, 0.19062133,\n",
       "       0.03749342, 0.03438287, 0.04686007, 0.04374695, 0.01875939,\n",
       "       0.03124871, 0.10937095, 0.19062867, 0.04062815, 0.03437181,\n",
       "       0.04686971, 0.0407866 , 0.02358942, 0.02479215, 0.1151907 ,\n",
       "       0.19062524, 0.04687147, 0.03125091, 0.0468647 , 0.04063478,\n",
       "       0.028123  , 0.03125043, 0.11249866, 0.19375033, 0.0437479 ,\n",
       "       0.03437505, 0.05000653, 0.0486259 , 0.02360697, 0.0243988 ,\n",
       "       0.10982933, 0.19999561, 0.03123603, 0.03438945, 0.05000577,\n",
       "       0.04376054, 0.01562166, 0.0500556 , 0.19374046, 0.19642229,\n",
       "       0.03980737, 0.04375277, 0.04687362, 0.04062486, 0.02187505,\n",
       "       0.02187185])), ('std_fit_time', array([4.13829623e-03, 6.24856951e-03, 1.25005962e-02, 6.25051161e-03,\n",
       "       1.41754513e-02, 7.30247732e-02, 6.25233713e-03, 6.24482112e-03,\n",
       "       6.25056576e-03, 6.26429538e-03, 7.65615460e-03, 7.64846380e-03,\n",
       "       1.45881671e-04, 7.65783555e-03, 6.14206189e-03, 7.66126295e-03,\n",
       "       1.59556012e-05, 5.88383970e-03, 6.88226668e-03, 6.29524801e-03,\n",
       "       7.33655425e-03, 9.02709242e-03, 5.87974711e-03, 5.64920098e-03,\n",
       "       1.11705213e-02, 1.16945105e-02, 2.18306029e-06, 6.25157371e-03,\n",
       "       7.76209109e-03, 7.44362692e-03, 6.25138781e-03, 2.94109517e-03,\n",
       "       1.24024456e-02, 1.29336077e-02, 6.26885895e-03, 6.25151487e-03,\n",
       "       1.39840982e-05, 7.65560942e-03, 1.84308511e-06, 6.24995236e-03,\n",
       "       6.24691891e-03, 1.52991907e-02, 6.24851855e-03, 6.26852134e-03,\n",
       "       6.22934038e-03, 7.65905764e-03, 6.24501317e-03, 6.24982517e-03,\n",
       "       1.25031502e-02, 1.16828955e-02, 7.66256857e-03, 6.25384301e-03,\n",
       "       1.76819808e-05, 6.25578593e-03, 6.26759563e-03, 1.44605143e-05,\n",
       "       9.87625129e-03, 1.16824726e-02, 7.64166299e-03, 6.25112427e-03,\n",
       "       1.27934619e-05, 3.93826059e-04, 8.14108193e-04, 7.46723540e-04,\n",
       "       7.47296029e-03, 2.29711736e-02, 7.85465296e-06, 4.27667376e-06,\n",
       "       1.44406888e-05, 7.65573509e-03, 6.23411749e-03, 2.22614020e-05,\n",
       "       6.25901608e-03, 7.66192460e-03, 6.25455415e-03, 6.25034093e-03,\n",
       "       6.24603687e-03, 1.00263169e-02, 4.81396960e-04, 4.88231445e-04,\n",
       "       9.06872597e-03, 6.24876451e-03, 1.73326208e-05, 6.22884485e-03,\n",
       "       6.24616492e-03, 6.24598554e-03, 1.68971336e-05, 3.03787573e-02,\n",
       "       1.25237143e-01, 1.32864171e-02, 1.92280242e-03, 6.25090660e-03,\n",
       "       6.64157308e-07, 7.65444151e-03, 7.65432460e-03, 7.65683763e-03])), ('mean_score_time', array([0.0093833 , 0.0062501 , 0.01250038, 0.        , 0.01872468,\n",
       "       0.04690485, 0.00937324, 0.00938153, 0.00624218, 0.0031249 ,\n",
       "       0.00624418, 0.00625701, 0.02508211, 0.02187004, 0.01098394,\n",
       "       0.00938206, 0.00625424, 0.00933795, 0.00593338, 0.00647197,\n",
       "       0.01803522, 0.01662998, 0.00838156, 0.01169896, 0.00436354,\n",
       "       0.00937481, 0.00937505, 0.00937495, 0.01522651, 0.01630025,\n",
       "       0.0093821 , 0.00749798, 0.0091836 , 0.00363421, 0.00625067,\n",
       "       0.00937495, 0.01874423, 0.01562696, 0.00312524, 0.0062501 ,\n",
       "       0.00625052, 0.00312433, 0.00624609, 0.00624933, 0.01562696,\n",
       "       0.01562624, 0.00625401, 0.00312467, 0.00938354, 0.        ,\n",
       "       0.0062501 , 0.00624943, 0.01564312, 0.01249995, 0.01249237,\n",
       "       0.00312471, 0.0093792 , 0.        , 0.00311785, 0.0062531 ,\n",
       "       0.01783605, 0.0150053 , 0.0072104 , 0.00741467, 0.00339656,\n",
       "       0.00937648, 0.        , 0.00625033, 0.01563253, 0.01561522,\n",
       "       0.00312676, 0.00312486, 0.00312581, 0.00625219, 0.        ,\n",
       "       0.00625057, 0.0156117 , 0.01533256, 0.00699992, 0.00720263,\n",
       "       0.0100471 , 0.00312543, 0.01563206, 0.00936761, 0.01561842,\n",
       "       0.01561508, 0.01562896, 0.0218123 , 0.00626097, 0.00458851,\n",
       "       0.0052002 , 0.00312514, 0.01875153, 0.01562533, 0.00937476,\n",
       "       0.0093761 ])), ('std_score_time', array([7.66144103e-03, 7.65477225e-03, 6.25019077e-03, 0.00000000e+00,\n",
       "       6.26562190e-03, 2.79449334e-02, 7.65321564e-03, 7.66000107e-03,\n",
       "       7.64508387e-03, 6.24980927e-03, 7.64753669e-03, 7.66324876e-03,\n",
       "       1.88938427e-02, 7.64664123e-03, 6.23832271e-03, 7.66042641e-03,\n",
       "       7.65985528e-03, 7.62463676e-03, 5.78588610e-03, 7.93424854e-03,\n",
       "       3.19133670e-03, 2.16649163e-03, 7.17118413e-03, 6.00237001e-03,\n",
       "       6.11270217e-03, 7.65449975e-03, 7.65469471e-03, 7.65461653e-03,\n",
       "       3.09837525e-03, 6.93075344e-04, 7.66046466e-03, 1.42673048e-03,\n",
       "       7.31022504e-03, 6.07656086e-03, 7.65547305e-03, 7.65461658e-03,\n",
       "       6.23452681e-03, 1.95095754e-06, 6.25047684e-03, 7.65477225e-03,\n",
       "       7.65529791e-03, 6.24866486e-03, 7.64988177e-03, 7.65383784e-03,\n",
       "       2.32256411e-05, 8.55308169e-06, 7.65956965e-03, 6.24933243e-03,\n",
       "       7.66163589e-03, 0.00000000e+00, 7.65477225e-03, 7.65395493e-03,\n",
       "       1.60652376e-05, 6.24997619e-03, 6.24620322e-03, 6.24942780e-03,\n",
       "       7.65810340e-03, 0.00000000e+00, 6.23569489e-03, 7.65845304e-03,\n",
       "       4.40924076e-03, 2.87601991e-05, 4.09878043e-04, 4.92812359e-04,\n",
       "       2.79669895e-03, 7.65586246e-03, 0.00000000e+00, 7.65506425e-03,\n",
       "       1.31805588e-05, 1.99629116e-05, 6.25352859e-03, 6.24971390e-03,\n",
       "       6.25162125e-03, 7.65734246e-03, 0.00000000e+00, 7.65536506e-03,\n",
       "       1.58403266e-05, 9.78123065e-04, 1.81824455e-06, 3.98765547e-04,\n",
       "       4.57047139e-03, 6.25085831e-03, 2.54505998e-05, 7.64869297e-03,\n",
       "       7.70885100e-06, 1.19291277e-05, 1.09740941e-05, 2.33287836e-02,\n",
       "       7.66808761e-03, 2.32618854e-03, 2.63830811e-03, 6.25028610e-03,\n",
       "       6.25030996e-03, 1.41934167e-06, 7.65446078e-03, 7.65555134e-03])), ('param_C', masked_array(data=[0.1, 0.1, 0.1, 0.1, 0.1, 0.1, 0.1, 0.1, 0.1, 0.1, 0.1,\n",
       "                   0.1, 0.1, 0.1, 0.1, 0.1, 1, 1, 1, 1, 1, 1, 1, 1, 1, 1,\n",
       "                   1, 1, 1, 1, 1, 1, 5, 5, 5, 5, 5, 5, 5, 5, 5, 5, 5, 5,\n",
       "                   5, 5, 5, 5, 10, 10, 10, 10, 10, 10, 10, 10, 10, 10, 10,\n",
       "                   10, 10, 10, 10, 10, 20, 20, 20, 20, 20, 20, 20, 20, 20,\n",
       "                   20, 20, 20, 20, 20, 20, 20, 50, 50, 50, 50, 50, 50, 50,\n",
       "                   50, 50, 50, 50, 50, 50, 50, 50, 50],\n",
       "             mask=[False, False, False, False, False, False, False, False,\n",
       "                   False, False, False, False, False, False, False, False,\n",
       "                   False, False, False, False, False, False, False, False,\n",
       "                   False, False, False, False, False, False, False, False,\n",
       "                   False, False, False, False, False, False, False, False,\n",
       "                   False, False, False, False, False, False, False, False,\n",
       "                   False, False, False, False, False, False, False, False,\n",
       "                   False, False, False, False, False, False, False, False,\n",
       "                   False, False, False, False, False, False, False, False,\n",
       "                   False, False, False, False, False, False, False, False,\n",
       "                   False, False, False, False, False, False, False, False,\n",
       "                   False, False, False, False, False, False, False, False],\n",
       "       fill_value='?',\n",
       "            dtype=object)), ('param_gamma', masked_array(data=['scale', 'scale', 'scale', 'scale', 'scale', 'scale',\n",
       "                   'scale', 'scale', 'auto', 'auto', 'auto', 'auto',\n",
       "                   'auto', 'auto', 'auto', 'auto', 'scale', 'scale',\n",
       "                   'scale', 'scale', 'scale', 'scale', 'scale', 'scale',\n",
       "                   'auto', 'auto', 'auto', 'auto', 'auto', 'auto', 'auto',\n",
       "                   'auto', 'scale', 'scale', 'scale', 'scale', 'scale',\n",
       "                   'scale', 'scale', 'scale', 'auto', 'auto', 'auto',\n",
       "                   'auto', 'auto', 'auto', 'auto', 'auto', 'scale',\n",
       "                   'scale', 'scale', 'scale', 'scale', 'scale', 'scale',\n",
       "                   'scale', 'auto', 'auto', 'auto', 'auto', 'auto',\n",
       "                   'auto', 'auto', 'auto', 'scale', 'scale', 'scale',\n",
       "                   'scale', 'scale', 'scale', 'scale', 'scale', 'auto',\n",
       "                   'auto', 'auto', 'auto', 'auto', 'auto', 'auto', 'auto',\n",
       "                   'scale', 'scale', 'scale', 'scale', 'scale', 'scale',\n",
       "                   'scale', 'scale', 'auto', 'auto', 'auto', 'auto',\n",
       "                   'auto', 'auto', 'auto', 'auto'],\n",
       "             mask=[False, False, False, False, False, False, False, False,\n",
       "                   False, False, False, False, False, False, False, False,\n",
       "                   False, False, False, False, False, False, False, False,\n",
       "                   False, False, False, False, False, False, False, False,\n",
       "                   False, False, False, False, False, False, False, False,\n",
       "                   False, False, False, False, False, False, False, False,\n",
       "                   False, False, False, False, False, False, False, False,\n",
       "                   False, False, False, False, False, False, False, False,\n",
       "                   False, False, False, False, False, False, False, False,\n",
       "                   False, False, False, False, False, False, False, False,\n",
       "                   False, False, False, False, False, False, False, False,\n",
       "                   False, False, False, False, False, False, False, False],\n",
       "       fill_value='?',\n",
       "            dtype=object)), ('param_kernel', masked_array(data=['linear', 'linear', 'poly', 'poly', 'rbf', 'rbf',\n",
       "                   'sigmoid', 'sigmoid', 'linear', 'linear', 'poly',\n",
       "                   'poly', 'rbf', 'rbf', 'sigmoid', 'sigmoid', 'linear',\n",
       "                   'linear', 'poly', 'poly', 'rbf', 'rbf', 'sigmoid',\n",
       "                   'sigmoid', 'linear', 'linear', 'poly', 'poly', 'rbf',\n",
       "                   'rbf', 'sigmoid', 'sigmoid', 'linear', 'linear',\n",
       "                   'poly', 'poly', 'rbf', 'rbf', 'sigmoid', 'sigmoid',\n",
       "                   'linear', 'linear', 'poly', 'poly', 'rbf', 'rbf',\n",
       "                   'sigmoid', 'sigmoid', 'linear', 'linear', 'poly',\n",
       "                   'poly', 'rbf', 'rbf', 'sigmoid', 'sigmoid', 'linear',\n",
       "                   'linear', 'poly', 'poly', 'rbf', 'rbf', 'sigmoid',\n",
       "                   'sigmoid', 'linear', 'linear', 'poly', 'poly', 'rbf',\n",
       "                   'rbf', 'sigmoid', 'sigmoid', 'linear', 'linear',\n",
       "                   'poly', 'poly', 'rbf', 'rbf', 'sigmoid', 'sigmoid',\n",
       "                   'linear', 'linear', 'poly', 'poly', 'rbf', 'rbf',\n",
       "                   'sigmoid', 'sigmoid', 'linear', 'linear', 'poly',\n",
       "                   'poly', 'rbf', 'rbf', 'sigmoid', 'sigmoid'],\n",
       "             mask=[False, False, False, False, False, False, False, False,\n",
       "                   False, False, False, False, False, False, False, False,\n",
       "                   False, False, False, False, False, False, False, False,\n",
       "                   False, False, False, False, False, False, False, False,\n",
       "                   False, False, False, False, False, False, False, False,\n",
       "                   False, False, False, False, False, False, False, False,\n",
       "                   False, False, False, False, False, False, False, False,\n",
       "                   False, False, False, False, False, False, False, False,\n",
       "                   False, False, False, False, False, False, False, False,\n",
       "                   False, False, False, False, False, False, False, False,\n",
       "                   False, False, False, False, False, False, False, False,\n",
       "                   False, False, False, False, False, False, False, False],\n",
       "       fill_value='?',\n",
       "            dtype=object)), ('param_shrinking', masked_array(data=[True, False, True, False, True, False, True, False,\n",
       "                   True, False, True, False, True, False, True, False,\n",
       "                   True, False, True, False, True, False, True, False,\n",
       "                   True, False, True, False, True, False, True, False,\n",
       "                   True, False, True, False, True, False, True, False,\n",
       "                   True, False, True, False, True, False, True, False,\n",
       "                   True, False, True, False, True, False, True, False,\n",
       "                   True, False, True, False, True, False, True, False,\n",
       "                   True, False, True, False, True, False, True, False,\n",
       "                   True, False, True, False, True, False, True, False,\n",
       "                   True, False, True, False, True, False, True, False,\n",
       "                   True, False, True, False, True, False, True, False],\n",
       "             mask=[False, False, False, False, False, False, False, False,\n",
       "                   False, False, False, False, False, False, False, False,\n",
       "                   False, False, False, False, False, False, False, False,\n",
       "                   False, False, False, False, False, False, False, False,\n",
       "                   False, False, False, False, False, False, False, False,\n",
       "                   False, False, False, False, False, False, False, False,\n",
       "                   False, False, False, False, False, False, False, False,\n",
       "                   False, False, False, False, False, False, False, False,\n",
       "                   False, False, False, False, False, False, False, False,\n",
       "                   False, False, False, False, False, False, False, False,\n",
       "                   False, False, False, False, False, False, False, False,\n",
       "                   False, False, False, False, False, False, False, False],\n",
       "       fill_value='?',\n",
       "            dtype=object)), ('params', [{'C': 0.1, 'gamma': 'scale', 'kernel': 'linear', 'shrinking': True}, {'C': 0.1, 'gamma': 'scale', 'kernel': 'linear', 'shrinking': False}, {'C': 0.1, 'gamma': 'scale', 'kernel': 'poly', 'shrinking': True}, {'C': 0.1, 'gamma': 'scale', 'kernel': 'poly', 'shrinking': False}, {'C': 0.1, 'gamma': 'scale', 'kernel': 'rbf', 'shrinking': True}, {'C': 0.1, 'gamma': 'scale', 'kernel': 'rbf', 'shrinking': False}, {'C': 0.1, 'gamma': 'scale', 'kernel': 'sigmoid', 'shrinking': True}, {'C': 0.1, 'gamma': 'scale', 'kernel': 'sigmoid', 'shrinking': False}, {'C': 0.1, 'gamma': 'auto', 'kernel': 'linear', 'shrinking': True}, {'C': 0.1, 'gamma': 'auto', 'kernel': 'linear', 'shrinking': False}, {'C': 0.1, 'gamma': 'auto', 'kernel': 'poly', 'shrinking': True}, {'C': 0.1, 'gamma': 'auto', 'kernel': 'poly', 'shrinking': False}, {'C': 0.1, 'gamma': 'auto', 'kernel': 'rbf', 'shrinking': True}, {'C': 0.1, 'gamma': 'auto', 'kernel': 'rbf', 'shrinking': False}, {'C': 0.1, 'gamma': 'auto', 'kernel': 'sigmoid', 'shrinking': True}, {'C': 0.1, 'gamma': 'auto', 'kernel': 'sigmoid', 'shrinking': False}, {'C': 1, 'gamma': 'scale', 'kernel': 'linear', 'shrinking': True}, {'C': 1, 'gamma': 'scale', 'kernel': 'linear', 'shrinking': False}, {'C': 1, 'gamma': 'scale', 'kernel': 'poly', 'shrinking': True}, {'C': 1, 'gamma': 'scale', 'kernel': 'poly', 'shrinking': False}, {'C': 1, 'gamma': 'scale', 'kernel': 'rbf', 'shrinking': True}, {'C': 1, 'gamma': 'scale', 'kernel': 'rbf', 'shrinking': False}, {'C': 1, 'gamma': 'scale', 'kernel': 'sigmoid', 'shrinking': True}, {'C': 1, 'gamma': 'scale', 'kernel': 'sigmoid', 'shrinking': False}, {'C': 1, 'gamma': 'auto', 'kernel': 'linear', 'shrinking': True}, {'C': 1, 'gamma': 'auto', 'kernel': 'linear', 'shrinking': False}, {'C': 1, 'gamma': 'auto', 'kernel': 'poly', 'shrinking': True}, {'C': 1, 'gamma': 'auto', 'kernel': 'poly', 'shrinking': False}, {'C': 1, 'gamma': 'auto', 'kernel': 'rbf', 'shrinking': True}, {'C': 1, 'gamma': 'auto', 'kernel': 'rbf', 'shrinking': False}, {'C': 1, 'gamma': 'auto', 'kernel': 'sigmoid', 'shrinking': True}, {'C': 1, 'gamma': 'auto', 'kernel': 'sigmoid', 'shrinking': False}, {'C': 5, 'gamma': 'scale', 'kernel': 'linear', 'shrinking': True}, {'C': 5, 'gamma': 'scale', 'kernel': 'linear', 'shrinking': False}, {'C': 5, 'gamma': 'scale', 'kernel': 'poly', 'shrinking': True}, {'C': 5, 'gamma': 'scale', 'kernel': 'poly', 'shrinking': False}, {'C': 5, 'gamma': 'scale', 'kernel': 'rbf', 'shrinking': True}, {'C': 5, 'gamma': 'scale', 'kernel': 'rbf', 'shrinking': False}, {'C': 5, 'gamma': 'scale', 'kernel': 'sigmoid', 'shrinking': True}, {'C': 5, 'gamma': 'scale', 'kernel': 'sigmoid', 'shrinking': False}, {'C': 5, 'gamma': 'auto', 'kernel': 'linear', 'shrinking': True}, {'C': 5, 'gamma': 'auto', 'kernel': 'linear', 'shrinking': False}, {'C': 5, 'gamma': 'auto', 'kernel': 'poly', 'shrinking': True}, {'C': 5, 'gamma': 'auto', 'kernel': 'poly', 'shrinking': False}, {'C': 5, 'gamma': 'auto', 'kernel': 'rbf', 'shrinking': True}, {'C': 5, 'gamma': 'auto', 'kernel': 'rbf', 'shrinking': False}, {'C': 5, 'gamma': 'auto', 'kernel': 'sigmoid', 'shrinking': True}, {'C': 5, 'gamma': 'auto', 'kernel': 'sigmoid', 'shrinking': False}, {'C': 10, 'gamma': 'scale', 'kernel': 'linear', 'shrinking': True}, {'C': 10, 'gamma': 'scale', 'kernel': 'linear', 'shrinking': False}, {'C': 10, 'gamma': 'scale', 'kernel': 'poly', 'shrinking': True}, {'C': 10, 'gamma': 'scale', 'kernel': 'poly', 'shrinking': False}, {'C': 10, 'gamma': 'scale', 'kernel': 'rbf', 'shrinking': True}, {'C': 10, 'gamma': 'scale', 'kernel': 'rbf', 'shrinking': False}, {'C': 10, 'gamma': 'scale', 'kernel': 'sigmoid', 'shrinking': True}, {'C': 10, 'gamma': 'scale', 'kernel': 'sigmoid', 'shrinking': False}, {'C': 10, 'gamma': 'auto', 'kernel': 'linear', 'shrinking': True}, {'C': 10, 'gamma': 'auto', 'kernel': 'linear', 'shrinking': False}, {'C': 10, 'gamma': 'auto', 'kernel': 'poly', 'shrinking': True}, {'C': 10, 'gamma': 'auto', 'kernel': 'poly', 'shrinking': False}, {'C': 10, 'gamma': 'auto', 'kernel': 'rbf', 'shrinking': True}, {'C': 10, 'gamma': 'auto', 'kernel': 'rbf', 'shrinking': False}, {'C': 10, 'gamma': 'auto', 'kernel': 'sigmoid', 'shrinking': True}, {'C': 10, 'gamma': 'auto', 'kernel': 'sigmoid', 'shrinking': False}, {'C': 20, 'gamma': 'scale', 'kernel': 'linear', 'shrinking': True}, {'C': 20, 'gamma': 'scale', 'kernel': 'linear', 'shrinking': False}, {'C': 20, 'gamma': 'scale', 'kernel': 'poly', 'shrinking': True}, {'C': 20, 'gamma': 'scale', 'kernel': 'poly', 'shrinking': False}, {'C': 20, 'gamma': 'scale', 'kernel': 'rbf', 'shrinking': True}, {'C': 20, 'gamma': 'scale', 'kernel': 'rbf', 'shrinking': False}, {'C': 20, 'gamma': 'scale', 'kernel': 'sigmoid', 'shrinking': True}, {'C': 20, 'gamma': 'scale', 'kernel': 'sigmoid', 'shrinking': False}, {'C': 20, 'gamma': 'auto', 'kernel': 'linear', 'shrinking': True}, {'C': 20, 'gamma': 'auto', 'kernel': 'linear', 'shrinking': False}, {'C': 20, 'gamma': 'auto', 'kernel': 'poly', 'shrinking': True}, {'C': 20, 'gamma': 'auto', 'kernel': 'poly', 'shrinking': False}, {'C': 20, 'gamma': 'auto', 'kernel': 'rbf', 'shrinking': True}, {'C': 20, 'gamma': 'auto', 'kernel': 'rbf', 'shrinking': False}, {'C': 20, 'gamma': 'auto', 'kernel': 'sigmoid', 'shrinking': True}, {'C': 20, 'gamma': 'auto', 'kernel': 'sigmoid', 'shrinking': False}, {'C': 50, 'gamma': 'scale', 'kernel': 'linear', 'shrinking': True}, {'C': 50, 'gamma': 'scale', 'kernel': 'linear', 'shrinking': False}, {'C': 50, 'gamma': 'scale', 'kernel': 'poly', 'shrinking': True}, {'C': 50, 'gamma': 'scale', 'kernel': 'poly', 'shrinking': False}, {'C': 50, 'gamma': 'scale', 'kernel': 'rbf', 'shrinking': True}, {'C': 50, 'gamma': 'scale', 'kernel': 'rbf', 'shrinking': False}, {'C': 50, 'gamma': 'scale', 'kernel': 'sigmoid', 'shrinking': True}, {'C': 50, 'gamma': 'scale', 'kernel': 'sigmoid', 'shrinking': False}, {'C': 50, 'gamma': 'auto', 'kernel': 'linear', 'shrinking': True}, {'C': 50, 'gamma': 'auto', 'kernel': 'linear', 'shrinking': False}, {'C': 50, 'gamma': 'auto', 'kernel': 'poly', 'shrinking': True}, {'C': 50, 'gamma': 'auto', 'kernel': 'poly', 'shrinking': False}, {'C': 50, 'gamma': 'auto', 'kernel': 'rbf', 'shrinking': True}, {'C': 50, 'gamma': 'auto', 'kernel': 'rbf', 'shrinking': False}, {'C': 50, 'gamma': 'auto', 'kernel': 'sigmoid', 'shrinking': True}, {'C': 50, 'gamma': 'auto', 'kernel': 'sigmoid', 'shrinking': False}]), ('split0_test_score', array([0.57803468, 0.57803468, 0.24855491, 0.24855491, 0.37572254,\n",
       "       0.37572254, 0.46820809, 0.46820809, 0.57803468, 0.57803468,\n",
       "       0.24855491, 0.24855491, 0.37572254, 0.37572254, 0.46242775,\n",
       "       0.46242775, 0.56069364, 0.56069364, 0.46242775, 0.46242775,\n",
       "       0.54913295, 0.54913295, 0.48554913, 0.48554913, 0.56069364,\n",
       "       0.56069364, 0.46820809, 0.46820809, 0.54913295, 0.54913295,\n",
       "       0.48554913, 0.48554913, 0.53757225, 0.53757225, 0.56069364,\n",
       "       0.56069364, 0.6416185 , 0.6416185 , 0.40462428, 0.40462428,\n",
       "       0.53757225, 0.53757225, 0.56069364, 0.56069364, 0.6416185 ,\n",
       "       0.6416185 , 0.41618497, 0.41618497, 0.52601156, 0.52601156,\n",
       "       0.58959538, 0.58959538, 0.67052023, 0.67052023, 0.43352601,\n",
       "       0.43352601, 0.52601156, 0.52601156, 0.58381503, 0.58381503,\n",
       "       0.67052023, 0.67052023, 0.43352601, 0.43352601, 0.52601156,\n",
       "       0.52601156, 0.59537572, 0.59537572, 0.65895954, 0.65895954,\n",
       "       0.39884393, 0.39306358, 0.52601156, 0.52601156, 0.58959538,\n",
       "       0.58959538, 0.65895954, 0.65895954, 0.39306358, 0.39306358,\n",
       "       0.52601156, 0.52601156, 0.62427746, 0.62427746, 0.65317919,\n",
       "       0.65317919, 0.41618497, 0.41618497, 0.52601156, 0.52601156,\n",
       "       0.62427746, 0.62427746, 0.65317919, 0.65317919, 0.41040462,\n",
       "       0.41040462])), ('split1_test_score', array([0.59537572, 0.59537572, 0.28323699, 0.28323699, 0.44508671,\n",
       "       0.44508671, 0.4566474 , 0.4566474 , 0.59537572, 0.59537572,\n",
       "       0.27745665, 0.27745665, 0.44508671, 0.44508671, 0.46242775,\n",
       "       0.46242775, 0.60115607, 0.60115607, 0.46242775, 0.46242775,\n",
       "       0.58381503, 0.58381503, 0.47398844, 0.47398844, 0.60115607,\n",
       "       0.60115607, 0.47976879, 0.47976879, 0.59537572, 0.59537572,\n",
       "       0.46242775, 0.46242775, 0.57803468, 0.57803468, 0.55491329,\n",
       "       0.55491329, 0.68786127, 0.68786127, 0.38150289, 0.38150289,\n",
       "       0.57803468, 0.57803468, 0.55491329, 0.55491329, 0.67630058,\n",
       "       0.67630058, 0.42196532, 0.42196532, 0.56647399, 0.56647399,\n",
       "       0.57225434, 0.57225434, 0.67052023, 0.67052023, 0.35260116,\n",
       "       0.35260116, 0.56647399, 0.56647399, 0.56647399, 0.56647399,\n",
       "       0.68208092, 0.68208092, 0.39306358, 0.39306358, 0.58381503,\n",
       "       0.58381503, 0.57803468, 0.57803468, 0.66473988, 0.66473988,\n",
       "       0.37572254, 0.37572254, 0.58381503, 0.58381503, 0.58381503,\n",
       "       0.58381503, 0.65895954, 0.65895954, 0.3583815 , 0.3583815 ,\n",
       "       0.58381503, 0.58381503, 0.57225434, 0.57225434, 0.66473988,\n",
       "       0.66473988, 0.36416185, 0.36416185, 0.58381503, 0.58381503,\n",
       "       0.56647399, 0.56647399, 0.65895954, 0.65895954, 0.38150289,\n",
       "       0.38150289])), ('split2_test_score', array([0.56069364, 0.56069364, 0.23121387, 0.23121387, 0.40462428,\n",
       "       0.40462428, 0.39306358, 0.39306358, 0.56069364, 0.56069364,\n",
       "       0.23121387, 0.23121387, 0.40462428, 0.40462428, 0.39306358,\n",
       "       0.39306358, 0.55491329, 0.55491329, 0.38728324, 0.38728324,\n",
       "       0.50867052, 0.50867052, 0.38728324, 0.38728324, 0.55491329,\n",
       "       0.55491329, 0.38728324, 0.38728324, 0.51445087, 0.51445087,\n",
       "       0.38728324, 0.38728324, 0.52601156, 0.52601156, 0.49710983,\n",
       "       0.49710983, 0.61849711, 0.61849711, 0.39306358, 0.39306358,\n",
       "       0.52601156, 0.52601156, 0.50289017, 0.50289017, 0.61271676,\n",
       "       0.61271676, 0.39884393, 0.39884393, 0.53179191, 0.53179191,\n",
       "       0.54913295, 0.54913295, 0.60693642, 0.60693642, 0.38150289,\n",
       "       0.38150289, 0.53179191, 0.53179191, 0.5433526 , 0.5433526 ,\n",
       "       0.60693642, 0.60693642, 0.39306358, 0.39306358, 0.52601156,\n",
       "       0.52601156, 0.56069364, 0.56069364, 0.59537572, 0.59537572,\n",
       "       0.35260116, 0.35260116, 0.52601156, 0.52601156, 0.57225434,\n",
       "       0.57225434, 0.59537572, 0.59537572, 0.34104046, 0.34104046,\n",
       "       0.52601156, 0.52601156, 0.57225434, 0.57225434, 0.59537572,\n",
       "       0.59537572, 0.3583815 , 0.3583815 , 0.52601156, 0.52601156,\n",
       "       0.56647399, 0.56647399, 0.59537572, 0.59537572, 0.37572254,\n",
       "       0.37572254])), ('split3_test_score', array([0.54913295, 0.54913295, 0.23121387, 0.23121387, 0.41618497,\n",
       "       0.41618497, 0.39884393, 0.39884393, 0.54913295, 0.54913295,\n",
       "       0.23121387, 0.23121387, 0.41618497, 0.41618497, 0.39884393,\n",
       "       0.39884393, 0.54913295, 0.54913295, 0.3699422 , 0.3699422 ,\n",
       "       0.50867052, 0.50867052, 0.44508671, 0.44508671, 0.54913295,\n",
       "       0.54913295, 0.3699422 , 0.3699422 , 0.50867052, 0.50867052,\n",
       "       0.44508671, 0.44508671, 0.50867052, 0.50867052, 0.47976879,\n",
       "       0.47976879, 0.58381503, 0.58381503, 0.40462428, 0.40462428,\n",
       "       0.50867052, 0.50867052, 0.47976879, 0.47976879, 0.58381503,\n",
       "       0.58381503, 0.40462428, 0.40462428, 0.51445087, 0.51445087,\n",
       "       0.50867052, 0.50867052, 0.58959538, 0.58959538, 0.39306358,\n",
       "       0.39306358, 0.51445087, 0.51445087, 0.50867052, 0.50867052,\n",
       "       0.58959538, 0.58959538, 0.39306358, 0.39306358, 0.51445087,\n",
       "       0.51445087, 0.52023121, 0.52023121, 0.58959538, 0.58959538,\n",
       "       0.37572254, 0.37572254, 0.51445087, 0.51445087, 0.52023121,\n",
       "       0.52023121, 0.58959538, 0.58959538, 0.3583815 , 0.3583815 ,\n",
       "       0.51445087, 0.51445087, 0.51445087, 0.51445087, 0.59537572,\n",
       "       0.59537572, 0.36416185, 0.3583815 , 0.51445087, 0.51445087,\n",
       "       0.51445087, 0.51445087, 0.59537572, 0.59537572, 0.3583815 ,\n",
       "       0.35260116])), ('split4_test_score', array([0.61627907, 0.61627907, 0.25      , 0.25      , 0.43604651,\n",
       "       0.43604651, 0.4127907 , 0.4127907 , 0.61627907, 0.61627907,\n",
       "       0.25      , 0.25      , 0.43604651, 0.43604651, 0.4127907 ,\n",
       "       0.4127907 , 0.5755814 , 0.5755814 , 0.4244186 , 0.4244186 ,\n",
       "       0.59883721, 0.59883721, 0.5       , 0.5       , 0.5755814 ,\n",
       "       0.5755814 , 0.4244186 , 0.4244186 , 0.59883721, 0.59883721,\n",
       "       0.49418605, 0.49418605, 0.55813953, 0.55813953, 0.59883721,\n",
       "       0.59883721, 0.68023256, 0.68023256, 0.48255814, 0.48255814,\n",
       "       0.55813953, 0.55813953, 0.59883721, 0.59883721, 0.68023256,\n",
       "       0.68023256, 0.46511628, 0.46511628, 0.54069767, 0.54069767,\n",
       "       0.61046512, 0.61046512, 0.66860465, 0.66860465, 0.45348837,\n",
       "       0.45348837, 0.54069767, 0.54069767, 0.61046512, 0.61046512,\n",
       "       0.66860465, 0.66860465, 0.43023256, 0.43023256, 0.52906977,\n",
       "       0.52906977, 0.61046512, 0.61046512, 0.65697674, 0.65697674,\n",
       "       0.41860465, 0.41860465, 0.52906977, 0.52906977, 0.60465116,\n",
       "       0.60465116, 0.65697674, 0.65697674, 0.43023256, 0.43023256,\n",
       "       0.52906977, 0.52906977, 0.61046512, 0.61046512, 0.65697674,\n",
       "       0.65697674, 0.4244186 , 0.4244186 , 0.52906977, 0.52906977,\n",
       "       0.61046512, 0.61046512, 0.65697674, 0.65697674, 0.43604651,\n",
       "       0.43604651])), ('mean_test_score', array([0.57990321, 0.57990321, 0.24884393, 0.24884393, 0.415533  ,\n",
       "       0.415533  , 0.42591074, 0.42591074, 0.57990321, 0.57990321,\n",
       "       0.24768786, 0.24768786, 0.415533  , 0.415533  , 0.42591074,\n",
       "       0.42591074, 0.56829547, 0.56829547, 0.42129991, 0.42129991,\n",
       "       0.54982525, 0.54982525, 0.4583815 , 0.4583815 , 0.56829547,\n",
       "       0.56829547, 0.42592418, 0.42592418, 0.55329345, 0.55329345,\n",
       "       0.45490657, 0.45490657, 0.54168571, 0.54168571, 0.53826455,\n",
       "       0.53826455, 0.64240489, 0.64240489, 0.41327463, 0.41327463,\n",
       "       0.54168571, 0.54168571, 0.53942062, 0.53942062, 0.63893669,\n",
       "       0.63893669, 0.42134696, 0.42134696, 0.5358852 , 0.5358852 ,\n",
       "       0.56602366, 0.56602366, 0.64123538, 0.64123538, 0.4028364 ,\n",
       "       0.4028364 , 0.5358852 , 0.5358852 , 0.56255545, 0.56255545,\n",
       "       0.64354752, 0.64354752, 0.40858986, 0.40858986, 0.53587176,\n",
       "       0.53587176, 0.57296008, 0.57296008, 0.63312945, 0.63312945,\n",
       "       0.38429896, 0.3831429 , 0.53587176, 0.53587176, 0.57410942,\n",
       "       0.57410942, 0.63197338, 0.63197338, 0.37621992, 0.37621992,\n",
       "       0.53587176, 0.53587176, 0.57874042, 0.57874042, 0.63312945,\n",
       "       0.63312945, 0.38546176, 0.38430569, 0.53587176, 0.53587176,\n",
       "       0.57642828, 0.57642828, 0.63197338, 0.63197338, 0.39241161,\n",
       "       0.39125555])), ('std_test_score', array([0.02400796, 0.02400796, 0.01900495, 0.01900495, 0.02448887,\n",
       "       0.02448887, 0.03071642, 0.03071642, 0.02400796, 0.02400796,\n",
       "       0.01694145, 0.01694145, 0.02448887, 0.02448887, 0.03049809,\n",
       "       0.03049809, 0.01863854, 0.01863854, 0.03791431, 0.03791431,\n",
       "       0.03727031, 0.03727031, 0.03986344, 0.03986344, 0.01863854,\n",
       "       0.01863854, 0.04316606, 0.04316606, 0.03837294, 0.03837294,\n",
       "       0.03796777, 0.03796777, 0.02426758, 0.02426758, 0.0437373 ,\n",
       "       0.0437373 , 0.03873548, 0.03873548, 0.03568695, 0.03568695,\n",
       "       0.02426758, 0.02426758, 0.04269827, 0.04269827, 0.03697156,\n",
       "       0.03697156, 0.02336158, 0.02336158, 0.01750719, 0.01750719,\n",
       "       0.03505473, 0.03505473, 0.03551729, 0.03551729, 0.03628135,\n",
       "       0.03628135, 0.01750719, 0.01750719, 0.03474189, 0.03474189,\n",
       "       0.0376601 , 0.0376601 , 0.01904423, 0.01904423, 0.02448725,\n",
       "       0.02448725, 0.031195  , 0.031195  , 0.03333366, 0.03333366,\n",
       "       0.02254017, 0.02190378, 0.02448725, 0.02448725, 0.02888984,\n",
       "       0.02888984, 0.03230157, 0.03230157, 0.03185934, 0.03185934,\n",
       "       0.02448725, 0.02448725, 0.03820305, 0.03820305, 0.03105026,\n",
       "       0.03105026, 0.02864355, 0.0295812 , 0.02448725, 0.02448725,\n",
       "       0.03869735, 0.03869735, 0.02993955, 0.02993955, 0.02750755,\n",
       "       0.02899472])), ('rank_test_score', array([17, 17, 93, 93, 75, 75, 67, 67, 17, 17, 95, 95, 75, 75, 67, 67, 29,\n",
       "       29, 73, 73, 39, 39, 61, 61, 29, 29, 65, 65, 37, 37, 63, 63, 41, 41,\n",
       "       47, 47,  3,  3, 79, 79, 41, 41, 45, 45,  7,  7, 71, 71, 49, 49, 33,\n",
       "       33,  5,  5, 83, 83, 49, 49, 35, 35,  1,  1, 81, 81, 53, 53, 27, 27,\n",
       "        9,  9, 89, 90, 53, 53, 25, 25, 13, 13, 91, 91, 53, 53, 21, 21,  9,\n",
       "        9, 87, 88, 53, 53, 23, 23, 13, 13, 85, 86]))])"
      ]
     },
     "execution_count": 48,
     "metadata": {},
     "output_type": "execute_result"
    }
   ],
   "source": [
    "parametrised_svc.cv_results_.items()"
   ]
  },
  {
   "cell_type": "code",
   "execution_count": 49,
   "metadata": {},
   "outputs": [
    {
     "data": {
      "text/plain": [
       "{'C': 10, 'gamma': 'auto', 'kernel': 'rbf', 'shrinking': True}"
      ]
     },
     "execution_count": 49,
     "metadata": {},
     "output_type": "execute_result"
    }
   ],
   "source": [
    "optimised_svc = parametrised_svc.best_estimator_\n",
    "optimised_parameters = parametrised_svc.best_params_\n",
    "optimised_parameters"
   ]
  },
  {
   "cell_type": "code",
   "execution_count": 50,
   "metadata": {},
   "outputs": [],
   "source": [
    "initial_classifier_results[\"svc_optimised\"] = fit_predict_and_score_classifier(optimised_svc, *multi_class_parameters)"
   ]
  },
  {
   "cell_type": "code",
   "execution_count": 51,
   "metadata": {},
   "outputs": [
    {
     "name": "stderr",
     "output_type": "stream",
     "text": [
      "C:\\Users\\Matas\\AppData\\Local\\Temp\\ipykernel_13092\\2014226108.py:39: FutureWarning: The frame.append method is deprecated and will be removed from pandas in a future version. Use pandas.concat instead.\n",
      "  table = table.append(new_row, ignore_index=True)\n",
      "C:\\Users\\Matas\\AppData\\Local\\Temp\\ipykernel_13092\\2014226108.py:39: FutureWarning: The frame.append method is deprecated and will be removed from pandas in a future version. Use pandas.concat instead.\n",
      "  table = table.append(new_row, ignore_index=True)\n",
      "C:\\Users\\Matas\\AppData\\Local\\Temp\\ipykernel_13092\\2014226108.py:39: FutureWarning: The frame.append method is deprecated and will be removed from pandas in a future version. Use pandas.concat instead.\n",
      "  table = table.append(new_row, ignore_index=True)\n",
      "C:\\Users\\Matas\\AppData\\Local\\Temp\\ipykernel_13092\\2014226108.py:39: FutureWarning: The frame.append method is deprecated and will be removed from pandas in a future version. Use pandas.concat instead.\n",
      "  table = table.append(new_row, ignore_index=True)\n",
      "C:\\Users\\Matas\\AppData\\Local\\Temp\\ipykernel_13092\\2014226108.py:39: FutureWarning: The frame.append method is deprecated and will be removed from pandas in a future version. Use pandas.concat instead.\n",
      "  table = table.append(new_row, ignore_index=True)\n",
      "C:\\Users\\Matas\\AppData\\Local\\Temp\\ipykernel_13092\\2014226108.py:39: FutureWarning: The frame.append method is deprecated and will be removed from pandas in a future version. Use pandas.concat instead.\n",
      "  table = table.append(new_row, ignore_index=True)\n",
      "C:\\Users\\Matas\\AppData\\Local\\Temp\\ipykernel_13092\\2014226108.py:39: FutureWarning: The frame.append method is deprecated and will be removed from pandas in a future version. Use pandas.concat instead.\n",
      "  table = table.append(new_row, ignore_index=True)\n",
      "C:\\Users\\Matas\\AppData\\Local\\Temp\\ipykernel_13092\\2014226108.py:39: FutureWarning: The frame.append method is deprecated and will be removed from pandas in a future version. Use pandas.concat instead.\n",
      "  table = table.append(new_row, ignore_index=True)\n",
      "C:\\Users\\Matas\\AppData\\Local\\Temp\\ipykernel_13092\\2014226108.py:39: FutureWarning: The frame.append method is deprecated and will be removed from pandas in a future version. Use pandas.concat instead.\n",
      "  table = table.append(new_row, ignore_index=True)\n",
      "C:\\Users\\Matas\\AppData\\Local\\Temp\\ipykernel_13092\\2014226108.py:39: FutureWarning: The frame.append method is deprecated and will be removed from pandas in a future version. Use pandas.concat instead.\n",
      "  table = table.append(new_row, ignore_index=True)\n",
      "C:\\Users\\Matas\\AppData\\Local\\Temp\\ipykernel_13092\\2014226108.py:39: FutureWarning: The frame.append method is deprecated and will be removed from pandas in a future version. Use pandas.concat instead.\n",
      "  table = table.append(new_row, ignore_index=True)\n",
      "C:\\Users\\Matas\\AppData\\Local\\Temp\\ipykernel_13092\\2014226108.py:39: FutureWarning: The frame.append method is deprecated and will be removed from pandas in a future version. Use pandas.concat instead.\n",
      "  table = table.append(new_row, ignore_index=True)\n"
     ]
    },
    {
     "data": {
      "text/html": [
       "<div>\n",
       "<style scoped>\n",
       "    .dataframe tbody tr th:only-of-type {\n",
       "        vertical-align: middle;\n",
       "    }\n",
       "\n",
       "    .dataframe tbody tr th {\n",
       "        vertical-align: top;\n",
       "    }\n",
       "\n",
       "    .dataframe thead th {\n",
       "        text-align: right;\n",
       "    }\n",
       "</style>\n",
       "<table border=\"1\" class=\"dataframe\">\n",
       "  <thead>\n",
       "    <tr style=\"text-align: right;\">\n",
       "      <th></th>\n",
       "      <th>Classifier</th>\n",
       "      <th>Set type</th>\n",
       "      <th>predictions</th>\n",
       "      <th>accuracy</th>\n",
       "      <th>precision</th>\n",
       "      <th>recall</th>\n",
       "      <th>F1</th>\n",
       "    </tr>\n",
       "  </thead>\n",
       "  <tbody>\n",
       "    <tr>\n",
       "      <th>0</th>\n",
       "      <td>dummy_classifier_most_frequent</td>\n",
       "      <td>train</td>\n",
       "      <td>[calm, calm, calm, calm, calm, calm, calm, cal...</td>\n",
       "      <td>0.134259</td>\n",
       "      <td>0.891782</td>\n",
       "      <td>0.125000</td>\n",
       "      <td>0.029592</td>\n",
       "    </tr>\n",
       "    <tr>\n",
       "      <th>1</th>\n",
       "      <td>dummy_classifier_most_frequent</td>\n",
       "      <td>val</td>\n",
       "      <td>[calm, calm, calm, calm, calm, calm, calm, cal...</td>\n",
       "      <td>0.131944</td>\n",
       "      <td>0.891493</td>\n",
       "      <td>0.125000</td>\n",
       "      <td>0.029141</td>\n",
       "    </tr>\n",
       "    <tr>\n",
       "      <th>2</th>\n",
       "      <td>dummy_classifier_stratified</td>\n",
       "      <td>train</td>\n",
       "      <td>[happy, disgust, surprised, angry, sad, calm, ...</td>\n",
       "      <td>0.138889</td>\n",
       "      <td>0.134778</td>\n",
       "      <td>0.134483</td>\n",
       "      <td>0.134392</td>\n",
       "    </tr>\n",
       "    <tr>\n",
       "      <th>3</th>\n",
       "      <td>dummy_classifier_stratified</td>\n",
       "      <td>val</td>\n",
       "      <td>[fearful, happy, fearful, calm, angry, disgust...</td>\n",
       "      <td>0.138889</td>\n",
       "      <td>0.137899</td>\n",
       "      <td>0.133266</td>\n",
       "      <td>0.134447</td>\n",
       "    </tr>\n",
       "    <tr>\n",
       "      <th>4</th>\n",
       "      <td>logistic_regression</td>\n",
       "      <td>train</td>\n",
       "      <td>[disgust, fearful, neutral, sad, surprised, su...</td>\n",
       "      <td>0.812500</td>\n",
       "      <td>0.809383</td>\n",
       "      <td>0.810139</td>\n",
       "      <td>0.809411</td>\n",
       "    </tr>\n",
       "    <tr>\n",
       "      <th>5</th>\n",
       "      <td>logistic_regression</td>\n",
       "      <td>val</td>\n",
       "      <td>[fearful, calm, surprised, sad, fearful, calm,...</td>\n",
       "      <td>0.576389</td>\n",
       "      <td>0.554396</td>\n",
       "      <td>0.557102</td>\n",
       "      <td>0.554253</td>\n",
       "    </tr>\n",
       "    <tr>\n",
       "      <th>6</th>\n",
       "      <td>svc</td>\n",
       "      <td>train</td>\n",
       "      <td>[disgust, fearful, neutral, sad, happy, surpri...</td>\n",
       "      <td>0.811343</td>\n",
       "      <td>0.817080</td>\n",
       "      <td>0.799382</td>\n",
       "      <td>0.803904</td>\n",
       "    </tr>\n",
       "    <tr>\n",
       "      <th>7</th>\n",
       "      <td>svc</td>\n",
       "      <td>val</td>\n",
       "      <td>[sad, calm, surprised, sad, fearful, calm, neu...</td>\n",
       "      <td>0.586806</td>\n",
       "      <td>0.588006</td>\n",
       "      <td>0.573802</td>\n",
       "      <td>0.574728</td>\n",
       "    </tr>\n",
       "    <tr>\n",
       "      <th>8</th>\n",
       "      <td>svc_pruned</td>\n",
       "      <td>train</td>\n",
       "      <td>[disgust, fearful, neutral, sad, happy, surpri...</td>\n",
       "      <td>0.811343</td>\n",
       "      <td>0.817080</td>\n",
       "      <td>0.799382</td>\n",
       "      <td>0.803904</td>\n",
       "    </tr>\n",
       "    <tr>\n",
       "      <th>9</th>\n",
       "      <td>svc_pruned</td>\n",
       "      <td>val</td>\n",
       "      <td>[sad, calm, surprised, sad, fearful, calm, neu...</td>\n",
       "      <td>0.586806</td>\n",
       "      <td>0.588006</td>\n",
       "      <td>0.573802</td>\n",
       "      <td>0.574728</td>\n",
       "    </tr>\n",
       "    <tr>\n",
       "      <th>10</th>\n",
       "      <td>svc_optimised</td>\n",
       "      <td>train</td>\n",
       "      <td>[angry, fearful, neutral, sad, happy, surprise...</td>\n",
       "      <td>0.996528</td>\n",
       "      <td>0.996767</td>\n",
       "      <td>0.995680</td>\n",
       "      <td>0.996207</td>\n",
       "    </tr>\n",
       "    <tr>\n",
       "      <th>11</th>\n",
       "      <td>svc_optimised</td>\n",
       "      <td>val</td>\n",
       "      <td>[sad, calm, surprised, sad, fearful, calm, neu...</td>\n",
       "      <td>0.684028</td>\n",
       "      <td>0.683018</td>\n",
       "      <td>0.670884</td>\n",
       "      <td>0.672423</td>\n",
       "    </tr>\n",
       "  </tbody>\n",
       "</table>\n",
       "</div>"
      ],
      "text/plain": [
       "                        Classifier Set type  \\\n",
       "0   dummy_classifier_most_frequent    train   \n",
       "1   dummy_classifier_most_frequent      val   \n",
       "2      dummy_classifier_stratified    train   \n",
       "3      dummy_classifier_stratified      val   \n",
       "4              logistic_regression    train   \n",
       "5              logistic_regression      val   \n",
       "6                              svc    train   \n",
       "7                              svc      val   \n",
       "8                       svc_pruned    train   \n",
       "9                       svc_pruned      val   \n",
       "10                   svc_optimised    train   \n",
       "11                   svc_optimised      val   \n",
       "\n",
       "                                          predictions  accuracy  precision  \\\n",
       "0   [calm, calm, calm, calm, calm, calm, calm, cal...  0.134259   0.891782   \n",
       "1   [calm, calm, calm, calm, calm, calm, calm, cal...  0.131944   0.891493   \n",
       "2   [happy, disgust, surprised, angry, sad, calm, ...  0.138889   0.134778   \n",
       "3   [fearful, happy, fearful, calm, angry, disgust...  0.138889   0.137899   \n",
       "4   [disgust, fearful, neutral, sad, surprised, su...  0.812500   0.809383   \n",
       "5   [fearful, calm, surprised, sad, fearful, calm,...  0.576389   0.554396   \n",
       "6   [disgust, fearful, neutral, sad, happy, surpri...  0.811343   0.817080   \n",
       "7   [sad, calm, surprised, sad, fearful, calm, neu...  0.586806   0.588006   \n",
       "8   [disgust, fearful, neutral, sad, happy, surpri...  0.811343   0.817080   \n",
       "9   [sad, calm, surprised, sad, fearful, calm, neu...  0.586806   0.588006   \n",
       "10  [angry, fearful, neutral, sad, happy, surprise...  0.996528   0.996767   \n",
       "11  [sad, calm, surprised, sad, fearful, calm, neu...  0.684028   0.683018   \n",
       "\n",
       "      recall        F1  \n",
       "0   0.125000  0.029592  \n",
       "1   0.125000  0.029141  \n",
       "2   0.134483  0.134392  \n",
       "3   0.133266  0.134447  \n",
       "4   0.810139  0.809411  \n",
       "5   0.557102  0.554253  \n",
       "6   0.799382  0.803904  \n",
       "7   0.573802  0.574728  \n",
       "8   0.799382  0.803904  \n",
       "9   0.573802  0.574728  \n",
       "10  0.995680  0.996207  \n",
       "11  0.670884  0.672423  "
      ]
     },
     "metadata": {},
     "output_type": "display_data"
    }
   ],
   "source": [
    "post_optimisation_classifier_results_table = create_result_table(initial_classifier_results)\n",
    "display(post_optimisation_classifier_results_table)"
   ]
  },
  {
   "cell_type": "code",
   "execution_count": null,
   "metadata": {},
   "outputs": [],
   "source": []
  },
  {
   "cell_type": "code",
   "execution_count": null,
   "metadata": {},
   "outputs": [],
   "source": []
  },
  {
   "cell_type": "code",
   "execution_count": null,
   "metadata": {},
   "outputs": [],
   "source": []
  },
  {
   "cell_type": "code",
   "execution_count": null,
   "metadata": {},
   "outputs": [],
   "source": []
  },
  {
   "cell_type": "code",
   "execution_count": null,
   "metadata": {},
   "outputs": [],
   "source": []
  },
  {
   "cell_type": "code",
   "execution_count": null,
   "metadata": {},
   "outputs": [],
   "source": []
  },
  {
   "cell_type": "code",
   "execution_count": null,
   "metadata": {},
   "outputs": [],
   "source": []
  },
  {
   "cell_type": "code",
   "execution_count": null,
   "metadata": {},
   "outputs": [],
   "source": []
  },
  {
   "cell_type": "code",
   "execution_count": null,
   "metadata": {},
   "outputs": [],
   "source": []
  },
  {
   "cell_type": "code",
   "execution_count": null,
   "metadata": {},
   "outputs": [],
   "source": []
  },
  {
   "cell_type": "code",
   "execution_count": null,
   "metadata": {},
   "outputs": [],
   "source": []
  },
  {
   "cell_type": "code",
   "execution_count": null,
   "metadata": {},
   "outputs": [],
   "source": []
  },
  {
   "cell_type": "code",
   "execution_count": null,
   "metadata": {},
   "outputs": [],
   "source": []
  },
  {
   "cell_type": "code",
   "execution_count": null,
   "metadata": {},
   "outputs": [],
   "source": [
    "import json\n",
    "\n",
    "# modified_analysis_by_endings = {k: {\"features\": v[\"features\"], \"final_data_frame\": v[\"final_data_frame\"].to_json(), \"removed_features\": v[\"removed_features\"]} for k,v in analysis_by_endings}\n",
    "\n",
    "modified_analysis_by_endings = {}\n",
    "\n",
    "for k,v in analysis_by_endings.items():\n",
    "#     if \"features\" in v.keys():\n",
    "#         modified_analysis_by_endings[k] = v[\"features\"]\n",
    "#     if \"final_data_frame\" in v.keys():\n",
    "#         modified_analysis_by_endings[k] = v[\"final_data_frame\"].to_json()\n",
    "    if \"removed_features\" in v.keys():\n",
    "        modified_analysis_by_endings[k] = v[\"removed_features\"]\n",
    "\n",
    "\n",
    "# for data in modified_analysis_by_endings.values():\n",
    "#     print(data)\n",
    "# #     data[\"final_data_frame\"] = data[\"final_data_frame\"].to_json()\n",
    "\n",
    "# print(modified_analysis_by_endings.keys())\n",
    "# print(modified_analysis_by_endings[\"range\"])\n",
    "\n",
    "\n",
    "\n"
   ]
  },
  {
   "cell_type": "code",
   "execution_count": null,
   "metadata": {},
   "outputs": [],
   "source": [
    "with open('results.json', 'w') as fp:\n",
    "    json.dump(modified_analysis_by_endings, fp)"
   ]
  },
  {
   "cell_type": "markdown",
   "metadata": {},
   "source": [
    "### ––––––––––––––––––––––––––"
   ]
  },
  {
   "cell_type": "code",
   "execution_count": null,
   "metadata": {},
   "outputs": [],
   "source": [
    "# display(removed_features)"
   ]
  },
  {
   "cell_type": "code",
   "execution_count": null,
   "metadata": {},
   "outputs": [],
   "source": [
    "# display(len(speeches_train_copy.columns))"
   ]
  },
  {
   "cell_type": "code",
   "execution_count": null,
   "metadata": {
    "scrolled": true
   },
   "outputs": [],
   "source": [
    "# feature_f1_comparison = {\"BASELINE\": initial_classifier_results[\"svc\"][\"val\"][\"F1\"]} | {feature: [feature_result[\"val\"][\"F1\"]] for feature, feature_result in feature_optimisation_results.items()}\n",
    "\n",
    "# f1_comparison_data_frame = pd.DataFrame.from_dict(feature_f1_comparison)\n",
    "\n",
    "# f1_comparison_data_frame.to_csv(\"F1 scores.csv\")\n",
    "\n",
    "# display(f1_comparison_data_frame)"
   ]
  },
  {
   "cell_type": "markdown",
   "metadata": {},
   "source": [
    "### ––––––––––––––––––––––––––"
   ]
  },
  {
   "cell_type": "code",
   "execution_count": null,
   "metadata": {},
   "outputs": [],
   "source": [
    "all_removed_features = [removed_feature[0] for removed_list in modified_analysis_by_endings.values() for removed_feature in removed_list]\n",
    "all_removed_parents = [feature.rpartition(\"_\")[0] for feature in all_removed_features]"
   ]
  },
  {
   "cell_type": "code",
   "execution_count": null,
   "metadata": {
    "scrolled": true
   },
   "outputs": [],
   "source": [
    "# Counter(all_removed_parents)"
   ]
  },
  {
   "cell_type": "code",
   "execution_count": null,
   "metadata": {},
   "outputs": [],
   "source": [
    "Counter(all_removed_parents).most_common(20)"
   ]
  },
  {
   "cell_type": "markdown",
   "metadata": {},
   "source": [
    "##### Model with removed features"
   ]
  },
  {
   "cell_type": "code",
   "execution_count": null,
   "metadata": {},
   "outputs": [],
   "source": [
    "results_file_name = \"results.json\"\n",
    "\n",
    "with open(results_file_name, \"r\") as f:\n",
    "    results_from_json = json.load(f)"
   ]
  },
  {
   "cell_type": "code",
   "execution_count": null,
   "metadata": {},
   "outputs": [],
   "source": [
    "concatenated_results = []\n",
    "removed_feature_name_stems = []\n",
    "\n",
    "for ending_results in results_from_json.values():\n",
    "    for results_row in ending_results:\n",
    "        concatenated_results.append(results_row)\n",
    "        removed_feature_name_stems.append(results_row[0].rpartition(\"_\")[0])\n",
    "        \n",
    "# # Strings don't work in np...\n",
    "# concatenated_results = np.array([])\n",
    "\n",
    "# for ending_results in results_from_json.values():\n",
    "#     for results_row in ending_results:\n",
    "#         np.concatenate(concatenated_results, np.array(results_row))"
   ]
  },
  {
   "cell_type": "code",
   "execution_count": null,
   "metadata": {},
   "outputs": [],
   "source": [
    "Counter(removed_feature_name_stems)"
   ]
  },
  {
   "cell_type": "code",
   "execution_count": null,
   "metadata": {},
   "outputs": [],
   "source": [
    "min_threshold = 5\n",
    "often_removed_stems = {}\n",
    "\n",
    "for stem, count in Counter(removed_feature_name_stems).items():\n",
    "    if count >= min_threshold:\n",
    "        often_removed_stems[stem] = count"
   ]
  },
  {
   "cell_type": "code",
   "execution_count": null,
   "metadata": {},
   "outputs": [],
   "source": [
    "often_removed_stems"
   ]
  },
  {
   "cell_type": "code",
   "execution_count": null,
   "metadata": {},
   "outputs": [],
   "source": [
    "pruned_feature_set = []\n",
    "\n",
    "for feature in speeches.columns:\n",
    "    feature_stem = feature.rpartition(\"_\")[0]\n",
    "    if feature_stem in often_removed_stems:\n",
    "        pruned_feature_set.append(feature)"
   ]
  },
  {
   "cell_type": "code",
   "execution_count": null,
   "metadata": {},
   "outputs": [],
   "source": [
    "# Use percentages rather than absolute values?\n",
    "\n",
    "print(f\"Frequency threshold to prune a feature: {min_threshold}\")\n",
    "print(f\"Original feature count: {len(speeches.columns)}\")\n",
    "print(f\"Post-prunation count: {len(pruned_feature_set)}\")\n",
    "print(f\"Pruned features: {len(speeches.columns) - len(pruned_feature_set)}\")\n",
    "print(f\"Post-prunation count: {len(often_removed_stems)}\")"
   ]
  },
  {
   "cell_type": "code",
   "execution_count": null,
   "metadata": {
    "scrolled": false
   },
   "outputs": [],
   "source": [
    "post_prunation_results = {}\n",
    "most_frequent_removal_count = max(Counter(removed_feature_name_stems).values())\n",
    "\n",
    "for min_threshold in range(most_frequent_removal_count + 1):\n",
    "    often_removed_stems = {}\n",
    "    pruned_feature_set = []\n",
    "\n",
    "    for stem, count in Counter(removed_feature_name_stems).items():\n",
    "        if count >= min_threshold:\n",
    "            often_removed_stems[stem] = count\n",
    "\n",
    "    for feature in speeches.columns:\n",
    "        feature_stem = feature.rpartition(\"_\")[0]\n",
    "        if feature_stem in often_removed_stems:\n",
    "            pruned_feature_set.append(feature)\n",
    "\n",
    "    multi_class_pruned_parameters = (speeches_train[pruned_feature_set], speeches_val[pruned_feature_set], emotions_train, emotions_val, set(emotions))\n",
    "\n",
    "    post_prunation_results[f\"logistic_regression_{min_threshold}\"] = fit_predict_and_score_classifier(logistic_regression, *multi_class_pruned_parameters)\n",
    "    post_prunation_results[f\"svc_{min_threshold}\"] = fit_predict_and_score_classifier(svc, *multi_class_pruned_parameters)\n",
    "\n",
    "post_prunation_results_table = create_result_table(post_prunation_results)"
   ]
  },
  {
   "cell_type": "code",
   "execution_count": null,
   "metadata": {},
   "outputs": [],
   "source": [
    "display(post_prunation_results_table)\n",
    "# display(post_prunation_results_table[post_prunation_results_table[\"Set type\"]==\"val\"])"
   ]
  },
  {
   "cell_type": "code",
   "execution_count": null,
   "metadata": {},
   "outputs": [],
   "source": []
  },
  {
   "cell_type": "code",
   "execution_count": null,
   "metadata": {},
   "outputs": [],
   "source": []
  },
  {
   "cell_type": "code",
   "execution_count": null,
   "metadata": {},
   "outputs": [],
   "source": []
  },
  {
   "cell_type": "code",
   "execution_count": null,
   "metadata": {},
   "outputs": [],
   "source": []
  },
  {
   "cell_type": "code",
   "execution_count": null,
   "metadata": {},
   "outputs": [],
   "source": []
  },
  {
   "cell_type": "code",
   "execution_count": null,
   "metadata": {},
   "outputs": [],
   "source": []
  },
  {
   "cell_type": "code",
   "execution_count": null,
   "metadata": {},
   "outputs": [],
   "source": []
  },
  {
   "cell_type": "code",
   "execution_count": null,
   "metadata": {},
   "outputs": [],
   "source": []
  },
  {
   "cell_type": "code",
   "execution_count": null,
   "metadata": {},
   "outputs": [],
   "source": []
  }
 ],
 "metadata": {
  "accelerator": "GPU",
  "colab": {
   "collapsed_sections": [
    "89Q5h1M-iGtX",
    "AB0Y6xS17Tj3",
    "aikqCd3d7b6d",
    "GTMFgODnbDsI",
    "I9mj2L3jiGtl",
    "foKQaWCiUpRh",
    "gVSMGXRVz0Mn",
    "RgQbyZBBb5mm",
    "vJPQreO0cByU",
    "d8eXs9T1fGFe",
    "Dt8wYLwhkUPl",
    "GxOlNT22khAD",
    "dMxfsKiXAicT"
   ],
   "provenance": [],
   "toc_visible": true
  },
  "gpuClass": "standard",
  "kernelspec": {
   "display_name": "Python 3 (ipykernel)",
   "language": "python",
   "name": "python3"
  },
  "language_info": {
   "codemirror_mode": {
    "name": "ipython",
    "version": 3
   },
   "file_extension": ".py",
   "mimetype": "text/x-python",
   "name": "python",
   "nbconvert_exporter": "python",
   "pygments_lexer": "ipython3",
   "version": "3.10.9"
  }
 },
 "nbformat": 4,
 "nbformat_minor": 1
}
