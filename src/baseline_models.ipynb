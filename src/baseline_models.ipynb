{
 "cells": [
  {
   "cell_type": "markdown",
   "metadata": {
    "id": "89Q5h1M-iGtX"
   },
   "source": [
    "# Data preparation section"
   ]
  },
  {
   "cell_type": "code",
   "execution_count": 1,
   "metadata": {},
   "outputs": [
    {
     "data": {
      "text/html": [
       "<style>.container { width:95% !important; }</style>"
      ],
      "text/plain": [
       "<IPython.core.display.HTML object>"
      ]
     },
     "metadata": {},
     "output_type": "display_data"
    }
   ],
   "source": [
    "from IPython.display import display, HTML\n",
    "display(HTML(\"<style>.container { width:95% !important; }</style>\"))"
   ]
  },
  {
   "cell_type": "code",
   "execution_count": 2,
   "metadata": {
    "scrolled": false
   },
   "outputs": [
    {
     "name": "stdout",
     "output_type": "stream",
     "text": [
      "Defaulting to user installation because normal site-packages is not writeable\n",
      "Requirement already satisfied: opensmile in c:\\users\\matas\\appdata\\roaming\\python\\python310\\site-packages (2.4.2)\n",
      "Requirement already satisfied: audinterface>=0.7.0 in c:\\users\\matas\\appdata\\roaming\\python\\python310\\site-packages (from opensmile) (1.1.0)\n",
      "Requirement already satisfied: audobject>=0.6.1 in c:\\users\\matas\\appdata\\roaming\\python\\python310\\site-packages (from opensmile) (0.7.9)\n",
      "Requirement already satisfied: audformat<2.0.0,>=1.0.1 in c:\\users\\matas\\appdata\\roaming\\python\\python310\\site-packages (from audinterface>=0.7.0->opensmile) (1.0.1)\n",
      "Requirement already satisfied: audmath>=1.3.0 in c:\\users\\matas\\appdata\\roaming\\python\\python310\\site-packages (from audinterface>=0.7.0->opensmile) (1.3.0)\n",
      "Requirement already satisfied: audiofile>=1.3.0 in c:\\users\\matas\\appdata\\roaming\\python\\python310\\site-packages (from audinterface>=0.7.0->opensmile) (1.3.0)\n",
      "Requirement already satisfied: audresample<2.0.0,>=1.1.0 in c:\\users\\matas\\appdata\\roaming\\python\\python310\\site-packages (from audinterface>=0.7.0->opensmile) (1.3.2)\n",
      "Requirement already satisfied: oyaml in c:\\users\\matas\\appdata\\roaming\\python\\python310\\site-packages (from audobject>=0.6.1->opensmile) (1.0)\n",
      "Requirement already satisfied: importlib-metadata>=4.8.0 in c:\\programdata\\anaconda3\\lib\\site-packages (from audobject>=0.6.1->opensmile) (4.11.3)\n",
      "Requirement already satisfied: audeer>=1.18.0 in c:\\users\\matas\\appdata\\roaming\\python\\python310\\site-packages (from audobject>=0.6.1->opensmile) (1.20.1)\n",
      "Requirement already satisfied: tqdm in c:\\programdata\\anaconda3\\lib\\site-packages (from audeer>=1.18.0->audobject>=0.6.1->opensmile) (4.64.1)\n",
      "Requirement already satisfied: iso-639 in c:\\users\\matas\\appdata\\roaming\\python\\python310\\site-packages (from audformat<2.0.0,>=1.0.1->audinterface>=0.7.0->opensmile) (0.4.5)\n",
      "Requirement already satisfied: pyyaml>=5.4.1 in c:\\programdata\\anaconda3\\lib\\site-packages (from audformat<2.0.0,>=1.0.1->audinterface>=0.7.0->opensmile) (6.0)\n",
      "Requirement already satisfied: iso3166 in c:\\users\\matas\\appdata\\roaming\\python\\python310\\site-packages (from audformat<2.0.0,>=1.0.1->audinterface>=0.7.0->opensmile) (2.1.1)\n",
      "Requirement already satisfied: pandas>=1.4.1 in c:\\programdata\\anaconda3\\lib\\site-packages (from audformat<2.0.0,>=1.0.1->audinterface>=0.7.0->opensmile) (1.5.3)\n",
      "Requirement already satisfied: soundfile in c:\\users\\matas\\appdata\\roaming\\python\\python310\\site-packages (from audiofile>=1.3.0->audinterface>=0.7.0->opensmile) (0.12.1)\n",
      "Requirement already satisfied: numpy in c:\\programdata\\anaconda3\\lib\\site-packages (from audiofile>=1.3.0->audinterface>=0.7.0->opensmile) (1.23.5)\n",
      "Requirement already satisfied: zipp>=0.5 in c:\\programdata\\anaconda3\\lib\\site-packages (from importlib-metadata>=4.8.0->audobject>=0.6.1->opensmile) (3.11.0)\n",
      "Requirement already satisfied: python-dateutil>=2.8.1 in c:\\programdata\\anaconda3\\lib\\site-packages (from pandas>=1.4.1->audformat<2.0.0,>=1.0.1->audinterface>=0.7.0->opensmile) (2.8.2)\n",
      "Requirement already satisfied: pytz>=2020.1 in c:\\programdata\\anaconda3\\lib\\site-packages (from pandas>=1.4.1->audformat<2.0.0,>=1.0.1->audinterface>=0.7.0->opensmile) (2022.7)\n",
      "Requirement already satisfied: cffi>=1.0 in c:\\programdata\\anaconda3\\lib\\site-packages (from soundfile->audiofile>=1.3.0->audinterface>=0.7.0->opensmile) (1.15.1)\n",
      "Requirement already satisfied: colorama in c:\\programdata\\anaconda3\\lib\\site-packages (from tqdm->audeer>=1.18.0->audobject>=0.6.1->opensmile) (0.4.6)\n",
      "Requirement already satisfied: pycparser in c:\\programdata\\anaconda3\\lib\\site-packages (from cffi>=1.0->soundfile->audiofile>=1.3.0->audinterface>=0.7.0->opensmile) (2.21)\n",
      "Requirement already satisfied: six>=1.5 in c:\\programdata\\anaconda3\\lib\\site-packages (from python-dateutil>=2.8.1->pandas>=1.4.1->audformat<2.0.0,>=1.0.1->audinterface>=0.7.0->opensmile) (1.16.0)\n",
      "Defaulting to user installation because normal site-packages is not writeable\n",
      "Requirement already satisfied: librosa in c:\\users\\matas\\appdata\\roaming\\python\\python310\\site-packages (0.10.1)\n",
      "Requirement already satisfied: joblib>=0.14 in c:\\programdata\\anaconda3\\lib\\site-packages (from librosa) (1.1.1)\n",
      "Requirement already satisfied: numpy!=1.22.0,!=1.22.1,!=1.22.2,>=1.20.3 in c:\\programdata\\anaconda3\\lib\\site-packages (from librosa) (1.23.5)\n",
      "Requirement already satisfied: numba>=0.51.0 in c:\\programdata\\anaconda3\\lib\\site-packages (from librosa) (0.56.4)\n",
      "Requirement already satisfied: typing-extensions>=4.1.1 in c:\\programdata\\anaconda3\\lib\\site-packages (from librosa) (4.4.0)\n",
      "Requirement already satisfied: audioread>=2.1.9 in c:\\users\\matas\\appdata\\roaming\\python\\python310\\site-packages (from librosa) (3.0.1)\n",
      "Requirement already satisfied: msgpack>=1.0 in c:\\programdata\\anaconda3\\lib\\site-packages (from librosa) (1.0.3)\n",
      "Requirement already satisfied: scipy>=1.2.0 in c:\\programdata\\anaconda3\\lib\\site-packages (from librosa) (1.10.0)\n",
      "Requirement already satisfied: pooch>=1.0 in c:\\programdata\\anaconda3\\lib\\site-packages (from librosa) (1.4.0)\n",
      "Requirement already satisfied: scikit-learn>=0.20.0 in c:\\programdata\\anaconda3\\lib\\site-packages (from librosa) (1.2.1)\n",
      "Requirement already satisfied: lazy-loader>=0.1 in c:\\users\\matas\\appdata\\roaming\\python\\python310\\site-packages (from librosa) (0.3)\n",
      "Requirement already satisfied: soxr>=0.3.2 in c:\\users\\matas\\appdata\\roaming\\python\\python310\\site-packages (from librosa) (0.3.7)\n",
      "Requirement already satisfied: soundfile>=0.12.1 in c:\\users\\matas\\appdata\\roaming\\python\\python310\\site-packages (from librosa) (0.12.1)\n",
      "Requirement already satisfied: decorator>=4.3.0 in c:\\programdata\\anaconda3\\lib\\site-packages (from librosa) (5.1.1)\n",
      "Requirement already satisfied: llvmlite<0.40,>=0.39.0dev0 in c:\\programdata\\anaconda3\\lib\\site-packages (from numba>=0.51.0->librosa) (0.39.1)\n",
      "Requirement already satisfied: setuptools in c:\\programdata\\anaconda3\\lib\\site-packages (from numba>=0.51.0->librosa) (65.6.3)\n",
      "Requirement already satisfied: requests in c:\\programdata\\anaconda3\\lib\\site-packages (from pooch>=1.0->librosa) (2.31.0)\n",
      "Requirement already satisfied: packaging in c:\\programdata\\anaconda3\\lib\\site-packages (from pooch>=1.0->librosa) (22.0)\n",
      "Requirement already satisfied: appdirs in c:\\programdata\\anaconda3\\lib\\site-packages (from pooch>=1.0->librosa) (1.4.4)\n",
      "Requirement already satisfied: threadpoolctl>=2.0.0 in c:\\programdata\\anaconda3\\lib\\site-packages (from scikit-learn>=0.20.0->librosa) (2.2.0)\n",
      "Requirement already satisfied: cffi>=1.0 in c:\\programdata\\anaconda3\\lib\\site-packages (from soundfile>=0.12.1->librosa) (1.15.1)\n",
      "Requirement already satisfied: pycparser in c:\\programdata\\anaconda3\\lib\\site-packages (from cffi>=1.0->soundfile>=0.12.1->librosa) (2.21)\n",
      "Requirement already satisfied: idna<4,>=2.5 in c:\\programdata\\anaconda3\\lib\\site-packages (from requests->pooch>=1.0->librosa) (3.4)\n",
      "Requirement already satisfied: urllib3<3,>=1.21.1 in c:\\programdata\\anaconda3\\lib\\site-packages (from requests->pooch>=1.0->librosa) (1.26.14)\n",
      "Requirement already satisfied: certifi>=2017.4.17 in c:\\programdata\\anaconda3\\lib\\site-packages (from requests->pooch>=1.0->librosa) (2023.7.22)\n",
      "Requirement already satisfied: charset-normalizer<4,>=2 in c:\\programdata\\anaconda3\\lib\\site-packages (from requests->pooch>=1.0->librosa) (2.0.4)\n",
      "Defaulting to user installation because normal site-packages is not writeable\n",
      "Requirement already satisfied: google in c:\\users\\matas\\appdata\\roaming\\python\\python310\\site-packages (3.0.0)\n",
      "Requirement already satisfied: beautifulsoup4 in c:\\programdata\\anaconda3\\lib\\site-packages (from google) (4.11.1)\n",
      "Requirement already satisfied: soupsieve>1.2 in c:\\programdata\\anaconda3\\lib\\site-packages (from beautifulsoup4->google) (2.3.2.post1)\n",
      "Defaulting to user installation because normal site-packages is not writeable\n",
      "Requirement already satisfied: treelib in c:\\users\\matas\\appdata\\roaming\\python\\python310\\site-packages (1.7.0)\n",
      "Requirement already satisfied: six in c:\\programdata\\anaconda3\\lib\\site-packages (from treelib) (1.16.0)\n",
      "Defaulting to user installation because normal site-packages is not writeable\n",
      "Requirement already satisfied: graphviz in c:\\users\\matas\\appdata\\roaming\\python\\python310\\site-packages (0.20.1)\n"
     ]
    },
    {
     "name": "stdout",
     "output_type": "stream",
     "text": [
      "Defaulting to user installation because normal site-packages is not writeable\n",
      "Requirement already satisfied: tensorflow in c:\\users\\matas\\appdata\\roaming\\python\\python310\\site-packages (2.14.0)\n",
      "Requirement already satisfied: tensorflow-intel==2.14.0 in c:\\users\\matas\\appdata\\roaming\\python\\python310\\site-packages (from tensorflow) (2.14.0)\n",
      "Requirement already satisfied: libclang>=13.0.0 in c:\\users\\matas\\appdata\\roaming\\python\\python310\\site-packages (from tensorflow-intel==2.14.0->tensorflow) (16.0.6)\n",
      "Requirement already satisfied: flatbuffers>=23.5.26 in c:\\users\\matas\\appdata\\roaming\\python\\python310\\site-packages (from tensorflow-intel==2.14.0->tensorflow) (23.5.26)\n",
      "Requirement already satisfied: tensorflow-estimator<2.15,>=2.14.0 in c:\\users\\matas\\appdata\\roaming\\python\\python310\\site-packages (from tensorflow-intel==2.14.0->tensorflow) (2.14.0)\n",
      "Requirement already satisfied: ml-dtypes==0.2.0 in c:\\users\\matas\\appdata\\roaming\\python\\python310\\site-packages (from tensorflow-intel==2.14.0->tensorflow) (0.2.0)\n",
      "Requirement already satisfied: keras<2.15,>=2.14.0 in c:\\users\\matas\\appdata\\roaming\\python\\python310\\site-packages (from tensorflow-intel==2.14.0->tensorflow) (2.14.0)\n",
      "Requirement already satisfied: setuptools in c:\\programdata\\anaconda3\\lib\\site-packages (from tensorflow-intel==2.14.0->tensorflow) (65.6.3)\n",
      "Requirement already satisfied: six>=1.12.0 in c:\\programdata\\anaconda3\\lib\\site-packages (from tensorflow-intel==2.14.0->tensorflow) (1.16.0)\n",
      "Requirement already satisfied: termcolor>=1.1.0 in c:\\users\\matas\\appdata\\roaming\\python\\python310\\site-packages (from tensorflow-intel==2.14.0->tensorflow) (2.3.0)\n",
      "Requirement already satisfied: google-pasta>=0.1.1 in c:\\users\\matas\\appdata\\roaming\\python\\python310\\site-packages (from tensorflow-intel==2.14.0->tensorflow) (0.2.0)\n",
      "Requirement already satisfied: astunparse>=1.6.0 in c:\\users\\matas\\appdata\\roaming\\python\\python310\\site-packages (from tensorflow-intel==2.14.0->tensorflow) (1.6.3)\n",
      "Requirement already satisfied: opt-einsum>=2.3.2 in c:\\users\\matas\\appdata\\roaming\\python\\python310\\site-packages (from tensorflow-intel==2.14.0->tensorflow) (3.3.0)\n",
      "Requirement already satisfied: packaging in c:\\programdata\\anaconda3\\lib\\site-packages (from tensorflow-intel==2.14.0->tensorflow) (22.0)\n",
      "Requirement already satisfied: absl-py>=1.0.0 in c:\\users\\matas\\appdata\\roaming\\python\\python310\\site-packages (from tensorflow-intel==2.14.0->tensorflow) (2.0.0)\n",
      "Requirement already satisfied: numpy>=1.23.5 in c:\\programdata\\anaconda3\\lib\\site-packages (from tensorflow-intel==2.14.0->tensorflow) (1.23.5)\n",
      "Requirement already satisfied: typing-extensions>=3.6.6 in c:\\programdata\\anaconda3\\lib\\site-packages (from tensorflow-intel==2.14.0->tensorflow) (4.4.0)\n",
      "Requirement already satisfied: grpcio<2.0,>=1.24.3 in c:\\users\\matas\\appdata\\roaming\\python\\python310\\site-packages (from tensorflow-intel==2.14.0->tensorflow) (1.59.2)\n",
      "Requirement already satisfied: gast!=0.5.0,!=0.5.1,!=0.5.2,>=0.2.1 in c:\\users\\matas\\appdata\\roaming\\python\\python310\\site-packages (from tensorflow-intel==2.14.0->tensorflow) (0.5.4)\n",
      "Requirement already satisfied: tensorboard<2.15,>=2.14 in c:\\users\\matas\\appdata\\roaming\\python\\python310\\site-packages (from tensorflow-intel==2.14.0->tensorflow) (2.14.1)\n",
      "Requirement already satisfied: wrapt<1.15,>=1.11.0 in c:\\programdata\\anaconda3\\lib\\site-packages (from tensorflow-intel==2.14.0->tensorflow) (1.14.1)\n",
      "Requirement already satisfied: h5py>=2.9.0 in c:\\programdata\\anaconda3\\lib\\site-packages (from tensorflow-intel==2.14.0->tensorflow) (3.7.0)\n",
      "Requirement already satisfied: protobuf!=4.21.0,!=4.21.1,!=4.21.2,!=4.21.3,!=4.21.4,!=4.21.5,<5.0.0dev,>=3.20.3 in c:\\users\\matas\\appdata\\roaming\\python\\python310\\site-packages (from tensorflow-intel==2.14.0->tensorflow) (4.25.0)\n",
      "Requirement already satisfied: tensorflow-io-gcs-filesystem>=0.23.1 in c:\\users\\matas\\appdata\\roaming\\python\\python310\\site-packages (from tensorflow-intel==2.14.0->tensorflow) (0.31.0)\n",
      "Requirement already satisfied: wheel<1.0,>=0.23.0 in c:\\programdata\\anaconda3\\lib\\site-packages (from astunparse>=1.6.0->tensorflow-intel==2.14.0->tensorflow) (0.38.4)\n",
      "Requirement already satisfied: requests<3,>=2.21.0 in c:\\programdata\\anaconda3\\lib\\site-packages (from tensorboard<2.15,>=2.14->tensorflow-intel==2.14.0->tensorflow) (2.31.0)\n",
      "Requirement already satisfied: markdown>=2.6.8 in c:\\programdata\\anaconda3\\lib\\site-packages (from tensorboard<2.15,>=2.14->tensorflow-intel==2.14.0->tensorflow) (3.4.1)\n",
      "Requirement already satisfied: google-auth-oauthlib<1.1,>=0.5 in c:\\users\\matas\\appdata\\roaming\\python\\python310\\site-packages (from tensorboard<2.15,>=2.14->tensorflow-intel==2.14.0->tensorflow) (1.0.0)\n",
      "Requirement already satisfied: tensorboard-data-server<0.8.0,>=0.7.0 in c:\\users\\matas\\appdata\\roaming\\python\\python310\\site-packages (from tensorboard<2.15,>=2.14->tensorflow-intel==2.14.0->tensorflow) (0.7.2)\n",
      "Requirement already satisfied: google-auth<3,>=1.6.3 in c:\\users\\matas\\appdata\\roaming\\python\\python310\\site-packages (from tensorboard<2.15,>=2.14->tensorflow-intel==2.14.0->tensorflow) (2.23.4)\n",
      "Requirement already satisfied: werkzeug>=1.0.1 in c:\\programdata\\anaconda3\\lib\\site-packages (from tensorboard<2.15,>=2.14->tensorflow-intel==2.14.0->tensorflow) (2.2.2)\n",
      "Requirement already satisfied: rsa<5,>=3.1.4 in c:\\users\\matas\\appdata\\roaming\\python\\python310\\site-packages (from google-auth<3,>=1.6.3->tensorboard<2.15,>=2.14->tensorflow-intel==2.14.0->tensorflow) (4.9)\n",
      "Requirement already satisfied: pyasn1-modules>=0.2.1 in c:\\programdata\\anaconda3\\lib\\site-packages (from google-auth<3,>=1.6.3->tensorboard<2.15,>=2.14->tensorflow-intel==2.14.0->tensorflow) (0.2.8)\n",
      "Requirement already satisfied: cachetools<6.0,>=2.0.0 in c:\\users\\matas\\appdata\\roaming\\python\\python310\\site-packages (from google-auth<3,>=1.6.3->tensorboard<2.15,>=2.14->tensorflow-intel==2.14.0->tensorflow) (5.3.2)\n",
      "Requirement already satisfied: requests-oauthlib>=0.7.0 in c:\\users\\matas\\appdata\\roaming\\python\\python310\\site-packages (from google-auth-oauthlib<1.1,>=0.5->tensorboard<2.15,>=2.14->tensorflow-intel==2.14.0->tensorflow) (1.3.1)\n",
      "Requirement already satisfied: charset-normalizer<4,>=2 in c:\\programdata\\anaconda3\\lib\\site-packages (from requests<3,>=2.21.0->tensorboard<2.15,>=2.14->tensorflow-intel==2.14.0->tensorflow) (2.0.4)\n",
      "Requirement already satisfied: urllib3<3,>=1.21.1 in c:\\programdata\\anaconda3\\lib\\site-packages (from requests<3,>=2.21.0->tensorboard<2.15,>=2.14->tensorflow-intel==2.14.0->tensorflow) (1.26.14)\n",
      "Requirement already satisfied: idna<4,>=2.5 in c:\\programdata\\anaconda3\\lib\\site-packages (from requests<3,>=2.21.0->tensorboard<2.15,>=2.14->tensorflow-intel==2.14.0->tensorflow) (3.4)\n",
      "Requirement already satisfied: certifi>=2017.4.17 in c:\\programdata\\anaconda3\\lib\\site-packages (from requests<3,>=2.21.0->tensorboard<2.15,>=2.14->tensorflow-intel==2.14.0->tensorflow) (2023.7.22)\n",
      "Requirement already satisfied: MarkupSafe>=2.1.1 in c:\\programdata\\anaconda3\\lib\\site-packages (from werkzeug>=1.0.1->tensorboard<2.15,>=2.14->tensorflow-intel==2.14.0->tensorflow) (2.1.1)\n",
      "Requirement already satisfied: pyasn1<0.5.0,>=0.4.6 in c:\\programdata\\anaconda3\\lib\\site-packages (from pyasn1-modules>=0.2.1->google-auth<3,>=1.6.3->tensorboard<2.15,>=2.14->tensorflow-intel==2.14.0->tensorflow) (0.4.8)\n",
      "Requirement already satisfied: oauthlib>=3.0.0 in c:\\users\\matas\\appdata\\roaming\\python\\python310\\site-packages (from requests-oauthlib>=0.7.0->google-auth-oauthlib<1.1,>=0.5->tensorboard<2.15,>=2.14->tensorflow-intel==2.14.0->tensorflow) (3.2.2)\n"
     ]
    }
   ],
   "source": [
    "installed_packages = [\n",
    "    \"opensmile\",\n",
    "    \"librosa\",\n",
    "    \"google\",\n",
    "    \"treelib\",\n",
    "    \"graphviz\",\n",
    "    \"tensorflow\",\n",
    "]\n",
    "\n",
    "for package in installed_packages:\n",
    "    !pip install {package}"
   ]
  },
  {
   "cell_type": "code",
   "execution_count": 3,
   "metadata": {},
   "outputs": [],
   "source": [
    "import numpy as np\n",
    "import pandas as pd\n",
    "import json"
   ]
  },
  {
   "cell_type": "code",
   "execution_count": 4,
   "metadata": {
    "id": "4pIIqhuk6Wdm"
   },
   "outputs": [],
   "source": [
    "import opensmile\n",
    "\n",
    "smile = opensmile.Smile(\n",
    "#     feature_set=opensmile.FeatureSet.ComParE_2016,\n",
    "    feature_set=opensmile.FeatureSet.eGeMAPSv02,\n",
    "#     feature_set=opensmile.FeatureSet.GeMAPSv01b,\n",
    "    feature_level=opensmile.FeatureLevel.Functionals,\n",
    ")\n"
   ]
  },
  {
   "cell_type": "code",
   "execution_count": 5,
   "metadata": {
    "colab": {
     "base_uri": "https://localhost:8080/",
     "height": 424
    },
    "id": "9CnuzfCN6kxa",
    "outputId": "9c44bd5d-78f4-4762-d13f-fed963850c37"
   },
   "outputs": [],
   "source": [
    "import glob\n",
    "\n",
    "try:\n",
    "    files = glob.glob(\"../data/raw/RAVDESS/*/*.wav\")\n",
    "except:\n",
    "    from google.colab import drive\n",
    "    drive.mount('/content/gdrive')\n",
    "    files = glob.glob(\"/content/gdrive/MyDrive/Colab Notebooks/IP/data/RAVDESS/*/*.wav\")"
   ]
  },
  {
   "cell_type": "code",
   "execution_count": 6,
   "metadata": {},
   "outputs": [],
   "source": [
    "file_name_to_emotion_mapping = {\n",
    "    \"01\": \"neutral\",\n",
    "    \"02\": \"calm\",\n",
    "    \"03\": \"happy\",\n",
    "    \"04\": \"sad\",\n",
    "    \"05\": \"angry\",\n",
    "    \"06\": \"fearful\",\n",
    "    \"07\": \"disgust\",\n",
    "    \"08\": \"surprised\",\n",
    "}"
   ]
  },
  {
   "cell_type": "code",
   "execution_count": 7,
   "metadata": {},
   "outputs": [],
   "source": [
    "emotion_to_positivity_mapping = {\n",
    "    \"neutral\": \"positive\",\n",
    "    \"calm\": \"positive\",\n",
    "    \"happy\": \"positive\",\n",
    "    \"sad\": \"negative\",\n",
    "    \"angry\": \"negative\",\n",
    "    \"fearful\": \"negative\",\n",
    "    \"disgust\": \"negative\",\n",
    "    \"surprised\": \"positive\",\n",
    "}"
   ]
  },
  {
   "cell_type": "code",
   "execution_count": 8,
   "metadata": {},
   "outputs": [],
   "source": [
    "SEED = 42"
   ]
  },
  {
   "cell_type": "markdown",
   "metadata": {},
   "source": [
    "##### Data reading and normalisation"
   ]
  },
  {
   "cell_type": "code",
   "execution_count": 9,
   "metadata": {},
   "outputs": [],
   "source": [
    "speech_data = smile.process_files(files)"
   ]
  },
  {
   "cell_type": "code",
   "execution_count": 10,
   "metadata": {},
   "outputs": [],
   "source": [
    "normalised_speech_data=(speech_data-speech_data.mean())/speech_data.std()\n",
    "normalised_speech_data.dropna(axis='columns', inplace=True)"
   ]
  },
  {
   "cell_type": "code",
   "execution_count": 11,
   "metadata": {},
   "outputs": [],
   "source": [
    "emotion_labels = [file_name_to_emotion_mapping[file.split(\"-\")[-5]] for file in files]"
   ]
  },
  {
   "cell_type": "markdown",
   "metadata": {
    "id": "aikqCd3d7b6d"
   },
   "source": [
    "##### Splitting the data into training, validation and test sets"
   ]
  },
  {
   "cell_type": "code",
   "execution_count": 12,
   "metadata": {
    "id": "3Wow_Uwc7qN9"
   },
   "outputs": [],
   "source": [
    "from sklearn.model_selection import train_test_split\n",
    "\n",
    "speeches = normalised_speech_data\n",
    "emotions = emotion_labels\n",
    "\n",
    "speeches_train_and_val, speeches_test, emotions_train_and_val, emotions_test = train_test_split(speeches, emotions, test_size=0.2, random_state=SEED, stratify=emotions)\n",
    "speeches_train, speeches_val, emotions_train, emotions_val = train_test_split(speeches_train_and_val, emotions_train_and_val, test_size=0.25, random_state=SEED, stratify=emotions_train_and_val)"
   ]
  },
  {
   "cell_type": "code",
   "execution_count": 13,
   "metadata": {},
   "outputs": [],
   "source": [
    "emotion_to_number_mapping = {emotion: int(number)-1 for number, emotion in file_name_to_emotion_mapping.items()}\n",
    "emotions_numeric_train = np.array([emotion_to_number_mapping[emotion] for emotion in emotions_train])\n",
    "emotions_numeric_val = np.array([emotion_to_number_mapping[emotion] for emotion in emotions_val])\n",
    "emotions_numeric_test = np.array([emotion_to_number_mapping[emotion] for emotion in emotions_test])"
   ]
  },
  {
   "cell_type": "code",
   "execution_count": 14,
   "metadata": {},
   "outputs": [],
   "source": [
    "emotions_binary_train = [emotion_to_positivity_mapping[emotion] for emotion in emotions_train]\n",
    "emotions_binary_val = [emotion_to_positivity_mapping[emotion] for emotion in emotions_val]\n",
    "emotions_binary_test = [emotion_to_positivity_mapping[emotion] for emotion in emotions_test]"
   ]
  },
  {
   "cell_type": "code",
   "execution_count": 15,
   "metadata": {
    "id": "d7I594NDkO6c"
   },
   "outputs": [],
   "source": [
    "# Pandas dataframes keep the old indexing after sampling, but I need it to be sequential, thus, a reset for the index\n",
    "speeches_train.reset_index(drop=True, inplace=True)\n",
    "speeches_val.reset_index(drop=True, inplace=True)\n",
    "speeches_test.reset_index(drop=True, inplace=True)"
   ]
  },
  {
   "cell_type": "code",
   "execution_count": 16,
   "metadata": {
    "colab": {
     "base_uri": "https://localhost:8080/"
    },
    "id": "mA9wf8eWZpm3",
    "outputId": "a28d0b18-7bd9-40a3-c17c-faa92c2d84e6"
   },
   "outputs": [
    {
     "name": "stdout",
     "output_type": "stream",
     "text": [
      "len(speeches_train)=864\t\tlen(emotions_train)=864\n",
      "len(speeches_val)=288\t\tlen(emotions_val)=288\n",
      "len(speeches_test)=288\t\tlen(emotions_test)=288\n",
      "Counter(emotions_train)=Counter({'calm': 116, 'angry': 115, 'fearful': 115, 'sad': 115, 'happy': 115, 'surprised': 115, 'disgust': 115, 'neutral': 58})\n",
      "Counter(emotions_val)=Counter({'sad': 39, 'disgust': 39, 'angry': 39, 'calm': 38, 'surprised': 38, 'fearful': 38, 'happy': 38, 'neutral': 19})\n",
      "Counter(emotions_test)=Counter({'happy': 39, 'fearful': 39, 'surprised': 39, 'sad': 38, 'calm': 38, 'angry': 38, 'disgust': 38, 'neutral': 19})\n"
     ]
    }
   ],
   "source": [
    "from collections import Counter\n",
    "\n",
    "print(f\"{len(speeches_train)=}\\t\\t{len(emotions_train)=}\")\n",
    "print(f\"{len(speeches_val)=}\\t\\t{len(emotions_val)=}\")\n",
    "print(f\"{len(speeches_test)=}\\t\\t{len(emotions_test)=}\")\n",
    "\n",
    "print(f\"{Counter(emotions_train)=}\")\n",
    "print(f\"{Counter(emotions_val)=}\")\n",
    "print(f\"{Counter(emotions_test)=}\")"
   ]
  },
  {
   "cell_type": "markdown",
   "metadata": {
    "id": "dGXOYkvAbuT1"
   },
   "source": [
    "# Classifier comparison section"
   ]
  },
  {
   "cell_type": "markdown",
   "metadata": {
    "id": "RgQbyZBBb5mm"
   },
   "source": [
    "### Building classifiers"
   ]
  },
  {
   "cell_type": "code",
   "execution_count": 17,
   "metadata": {
    "id": "fe_knPbbb-vF"
   },
   "outputs": [],
   "source": [
    "from locale import Error\n",
    "from sklearn.dummy import DummyClassifier\n",
    "from sklearn.linear_model import LogisticRegression\n",
    "from sklearn.svm import SVC\n",
    "from sklearn import metrics\n",
    "\n",
    "def fit_predict_and_score_classifier(classifier, data_train, data_val, labels_train, labels_val, label_set):\n",
    "    classifier.fit(data_train, labels_train)\n",
    "    results = {\"train\": {}, \"val\": {}}\n",
    "    \n",
    "    for set_type in [\"train\", \"val\"]:\n",
    "        if set_type == \"train\":\n",
    "            data = data_train\n",
    "            labels = labels_train\n",
    "        elif set_type == \"val\":\n",
    "            data = data_val\n",
    "            labels = labels_val\n",
    "        else:\n",
    "            raise Error(\"Undefined data set type\")\n",
    "\n",
    "        labels_predicted = classifier.predict(data)\n",
    "\n",
    "        results[set_type][\"predictions\"] = labels_predicted\n",
    "        results[set_type][\"accuracy\"] = metrics.accuracy_score(labels, labels_predicted)\n",
    "        results[set_type][\"precision\"] = metrics.precision_score(labels, labels_predicted, average=\"macro\", zero_division=1)\n",
    "        results[set_type][\"recall\"] = metrics.recall_score(labels, labels_predicted, average=\"macro\", zero_division=1)\n",
    "        results[set_type][\"F1\"] = metrics.f1_score(labels, labels_predicted, average=\"macro\", zero_division=1)\n",
    "\n",
    "    return results\n",
    "\n",
    "def create_result_table(results):\n",
    "    first_key = list(results.keys())[0]\n",
    "    second_key = list(results[first_key].keys())[0]\n",
    "    table = pd.DataFrame(columns=[\"Classifier\", \"Set type\"] + list(results[first_key][second_key].keys()))\n",
    "    for classifier_name, classifier_data in results.items():\n",
    "        for set_type, set_metrics in classifier_data.items():\n",
    "              # Taken from (merging dicts) https://stackoverflow.com/questions/38987/how-do-i-merge-two-dictionaries-in-a-single-expression-in-python\n",
    "            new_row = {\"Classifier\": classifier_name, \"Set type\": set_type} | set_metrics\n",
    "            table = table.append(new_row, ignore_index=True)\n",
    "    return table\n",
    "\n",
    "# def create_result_table(results):\n",
    "#     first_key = list(results.keys())[0]\n",
    "#     second_key = list(results[first_key].keys())[0]\n",
    "#     table = pd.DataFrame(columns=[\"Classifier\", \"Set type\"] + list(results[first_key][second_key].keys()))\n",
    "#     for classifier_name, classifier_data in results.items():\n",
    "#         for set_type, set_metrics in classifier_data.items():\n",
    "#               # Taken from (merging dicts) https://stackoverflow.com/questions/38987/how-do-i-merge-two-dictionaries-in-a-single-expression-in-python\n",
    "#             new_row = pd.DataFrame({\"Classifier\": classifier_name, \"Set type\": set_type} | set_metrics)\n",
    "#             table = pd.concat([table, new_row], ignore_index=True)\n",
    "#     return table\n",
    "\n",
    "def calculate_f1_scores_by_class(labels_predicted, labels):\n",
    "    all_labels = sorted(list(set(labels)))\n",
    "    matrix_dimension = range(len(set(labels)))\n",
    "    matrix = metrics.confusion_matrix(labels, labels_predicted, labels=all_labels)\n",
    "\n",
    "    recalls = [matrix[index, index] / row_sum for index, row_sum in enumerate(np.sum(matrix, axis=1))]\n",
    "    precisions = [matrix[index, index] / column_sum for index, column_sum in enumerate(np.sum(matrix, axis=0))]\n",
    "\n",
    "    f1_scores = {label: {} for label in all_labels}\n",
    "    for index, label in enumerate(all_labels):\n",
    "        f1_scores[label] = 2 * (precisions[index] * recalls[index]) / (precisions[index] + recalls[index])\n",
    "\n",
    "    return f1_scores"
   ]
  },
  {
   "cell_type": "code",
   "execution_count": 18,
   "metadata": {
    "id": "rmOWy_3elp_0"
   },
   "outputs": [],
   "source": [
    "# These parameters are repeated, so they are unwrapped while calling functions to reduce clutter\n",
    "multi_class_parameters = (speeches_train, speeches_val, emotions_train, emotions_val, set(emotions))\n",
    "binary_parameters = (speeches_train, speeches_val, emotions_binary_train, emotions_binary_val, set([\"positive\", \"negative\"]))\n",
    "initial_classifier_results = {}\n",
    "initial_classifier_results_binary = {}"
   ]
  },
  {
   "cell_type": "code",
   "execution_count": 19,
   "metadata": {},
   "outputs": [],
   "source": [
    "dummy_classifier_most_frequent = DummyClassifier(strategy=\"most_frequent\")\n",
    "dummy_classifier_stratified = DummyClassifier(strategy=\"stratified\")\n",
    "logistic_regression = LogisticRegression(max_iter=1000)\n",
    "svc = SVC()"
   ]
  },
  {
   "cell_type": "markdown",
   "metadata": {},
   "source": [
    "### Multi-class classification"
   ]
  },
  {
   "cell_type": "code",
   "execution_count": 20,
   "metadata": {
    "id": "_vbJMZzbEVeN"
   },
   "outputs": [],
   "source": [
    "initial_classifier_results[\"dummy_classifier_most_frequent\"] = fit_predict_and_score_classifier(dummy_classifier_most_frequent, *multi_class_parameters)"
   ]
  },
  {
   "cell_type": "code",
   "execution_count": 21,
   "metadata": {
    "id": "OP12BrTLkY0A"
   },
   "outputs": [],
   "source": [
    "initial_classifier_results[\"dummy_classifier_stratified\"] = fit_predict_and_score_classifier(dummy_classifier_stratified, *multi_class_parameters)"
   ]
  },
  {
   "cell_type": "code",
   "execution_count": 22,
   "metadata": {
    "id": "XFi7oHh1kqcF"
   },
   "outputs": [],
   "source": [
    "initial_classifier_results[\"logistic_regression\"] = fit_predict_and_score_classifier(logistic_regression, *multi_class_parameters)"
   ]
  },
  {
   "cell_type": "code",
   "execution_count": 23,
   "metadata": {
    "id": "BiN0CnX2ktST"
   },
   "outputs": [],
   "source": [
    "initial_classifier_results[\"svc\"] = fit_predict_and_score_classifier(svc, *multi_class_parameters)"
   ]
  },
  {
   "cell_type": "code",
   "execution_count": 24,
   "metadata": {
    "colab": {
     "base_uri": "https://localhost:8080/",
     "height": 363
    },
    "id": "68ytUVLHav6l",
    "outputId": "66b32dd9-2719-493c-8ac7-3261a8a4da8d"
   },
   "outputs": [
    {
     "name": "stderr",
     "output_type": "stream",
     "text": [
      "C:\\Users\\Matas\\AppData\\Local\\Temp\\ipykernel_25328\\2014226108.py:39: FutureWarning: The frame.append method is deprecated and will be removed from pandas in a future version. Use pandas.concat instead.\n",
      "  table = table.append(new_row, ignore_index=True)\n",
      "C:\\Users\\Matas\\AppData\\Local\\Temp\\ipykernel_25328\\2014226108.py:39: FutureWarning: The frame.append method is deprecated and will be removed from pandas in a future version. Use pandas.concat instead.\n",
      "  table = table.append(new_row, ignore_index=True)\n",
      "C:\\Users\\Matas\\AppData\\Local\\Temp\\ipykernel_25328\\2014226108.py:39: FutureWarning: The frame.append method is deprecated and will be removed from pandas in a future version. Use pandas.concat instead.\n",
      "  table = table.append(new_row, ignore_index=True)\n",
      "C:\\Users\\Matas\\AppData\\Local\\Temp\\ipykernel_25328\\2014226108.py:39: FutureWarning: The frame.append method is deprecated and will be removed from pandas in a future version. Use pandas.concat instead.\n",
      "  table = table.append(new_row, ignore_index=True)\n",
      "C:\\Users\\Matas\\AppData\\Local\\Temp\\ipykernel_25328\\2014226108.py:39: FutureWarning: The frame.append method is deprecated and will be removed from pandas in a future version. Use pandas.concat instead.\n",
      "  table = table.append(new_row, ignore_index=True)\n",
      "C:\\Users\\Matas\\AppData\\Local\\Temp\\ipykernel_25328\\2014226108.py:39: FutureWarning: The frame.append method is deprecated and will be removed from pandas in a future version. Use pandas.concat instead.\n",
      "  table = table.append(new_row, ignore_index=True)\n",
      "C:\\Users\\Matas\\AppData\\Local\\Temp\\ipykernel_25328\\2014226108.py:39: FutureWarning: The frame.append method is deprecated and will be removed from pandas in a future version. Use pandas.concat instead.\n",
      "  table = table.append(new_row, ignore_index=True)\n",
      "C:\\Users\\Matas\\AppData\\Local\\Temp\\ipykernel_25328\\2014226108.py:39: FutureWarning: The frame.append method is deprecated and will be removed from pandas in a future version. Use pandas.concat instead.\n",
      "  table = table.append(new_row, ignore_index=True)\n"
     ]
    },
    {
     "data": {
      "text/html": [
       "<div>\n",
       "<style scoped>\n",
       "    .dataframe tbody tr th:only-of-type {\n",
       "        vertical-align: middle;\n",
       "    }\n",
       "\n",
       "    .dataframe tbody tr th {\n",
       "        vertical-align: top;\n",
       "    }\n",
       "\n",
       "    .dataframe thead th {\n",
       "        text-align: right;\n",
       "    }\n",
       "</style>\n",
       "<table border=\"1\" class=\"dataframe\">\n",
       "  <thead>\n",
       "    <tr style=\"text-align: right;\">\n",
       "      <th></th>\n",
       "      <th>Classifier</th>\n",
       "      <th>Set type</th>\n",
       "      <th>predictions</th>\n",
       "      <th>accuracy</th>\n",
       "      <th>precision</th>\n",
       "      <th>recall</th>\n",
       "      <th>F1</th>\n",
       "    </tr>\n",
       "  </thead>\n",
       "  <tbody>\n",
       "    <tr>\n",
       "      <th>0</th>\n",
       "      <td>dummy_classifier_most_frequent</td>\n",
       "      <td>train</td>\n",
       "      <td>[calm, calm, calm, calm, calm, calm, calm, cal...</td>\n",
       "      <td>0.134259</td>\n",
       "      <td>0.891782</td>\n",
       "      <td>0.125000</td>\n",
       "      <td>0.029592</td>\n",
       "    </tr>\n",
       "    <tr>\n",
       "      <th>1</th>\n",
       "      <td>dummy_classifier_most_frequent</td>\n",
       "      <td>val</td>\n",
       "      <td>[calm, calm, calm, calm, calm, calm, calm, cal...</td>\n",
       "      <td>0.131944</td>\n",
       "      <td>0.891493</td>\n",
       "      <td>0.125000</td>\n",
       "      <td>0.029141</td>\n",
       "    </tr>\n",
       "    <tr>\n",
       "      <th>2</th>\n",
       "      <td>dummy_classifier_stratified</td>\n",
       "      <td>train</td>\n",
       "      <td>[sad, disgust, calm, fearful, fearful, sad, ne...</td>\n",
       "      <td>0.135417</td>\n",
       "      <td>0.127784</td>\n",
       "      <td>0.129207</td>\n",
       "      <td>0.127875</td>\n",
       "    </tr>\n",
       "    <tr>\n",
       "      <th>3</th>\n",
       "      <td>dummy_classifier_stratified</td>\n",
       "      <td>val</td>\n",
       "      <td>[fearful, sad, happy, calm, sad, disgust, disg...</td>\n",
       "      <td>0.114583</td>\n",
       "      <td>0.113764</td>\n",
       "      <td>0.113866</td>\n",
       "      <td>0.113394</td>\n",
       "    </tr>\n",
       "    <tr>\n",
       "      <th>4</th>\n",
       "      <td>logistic_regression</td>\n",
       "      <td>train</td>\n",
       "      <td>[surprised, fearful, neutral, sad, surprised, ...</td>\n",
       "      <td>0.822917</td>\n",
       "      <td>0.821884</td>\n",
       "      <td>0.819903</td>\n",
       "      <td>0.819967</td>\n",
       "    </tr>\n",
       "    <tr>\n",
       "      <th>5</th>\n",
       "      <td>logistic_regression</td>\n",
       "      <td>val</td>\n",
       "      <td>[fearful, calm, surprised, sad, sad, calm, neu...</td>\n",
       "      <td>0.586806</td>\n",
       "      <td>0.560562</td>\n",
       "      <td>0.563343</td>\n",
       "      <td>0.559951</td>\n",
       "    </tr>\n",
       "    <tr>\n",
       "      <th>6</th>\n",
       "      <td>svc</td>\n",
       "      <td>train</td>\n",
       "      <td>[disgust, fearful, neutral, sad, happy, surpri...</td>\n",
       "      <td>0.807870</td>\n",
       "      <td>0.812744</td>\n",
       "      <td>0.796130</td>\n",
       "      <td>0.800273</td>\n",
       "    </tr>\n",
       "    <tr>\n",
       "      <th>7</th>\n",
       "      <td>svc</td>\n",
       "      <td>val</td>\n",
       "      <td>[sad, calm, fearful, sad, fearful, calm, neutr...</td>\n",
       "      <td>0.600694</td>\n",
       "      <td>0.598798</td>\n",
       "      <td>0.590081</td>\n",
       "      <td>0.587499</td>\n",
       "    </tr>\n",
       "  </tbody>\n",
       "</table>\n",
       "</div>"
      ],
      "text/plain": [
       "                       Classifier Set type  \\\n",
       "0  dummy_classifier_most_frequent    train   \n",
       "1  dummy_classifier_most_frequent      val   \n",
       "2     dummy_classifier_stratified    train   \n",
       "3     dummy_classifier_stratified      val   \n",
       "4             logistic_regression    train   \n",
       "5             logistic_regression      val   \n",
       "6                             svc    train   \n",
       "7                             svc      val   \n",
       "\n",
       "                                         predictions  accuracy  precision  \\\n",
       "0  [calm, calm, calm, calm, calm, calm, calm, cal...  0.134259   0.891782   \n",
       "1  [calm, calm, calm, calm, calm, calm, calm, cal...  0.131944   0.891493   \n",
       "2  [sad, disgust, calm, fearful, fearful, sad, ne...  0.135417   0.127784   \n",
       "3  [fearful, sad, happy, calm, sad, disgust, disg...  0.114583   0.113764   \n",
       "4  [surprised, fearful, neutral, sad, surprised, ...  0.822917   0.821884   \n",
       "5  [fearful, calm, surprised, sad, sad, calm, neu...  0.586806   0.560562   \n",
       "6  [disgust, fearful, neutral, sad, happy, surpri...  0.807870   0.812744   \n",
       "7  [sad, calm, fearful, sad, fearful, calm, neutr...  0.600694   0.598798   \n",
       "\n",
       "     recall        F1  \n",
       "0  0.125000  0.029592  \n",
       "1  0.125000  0.029141  \n",
       "2  0.129207  0.127875  \n",
       "3  0.113866  0.113394  \n",
       "4  0.819903  0.819967  \n",
       "5  0.563343  0.559951  \n",
       "6  0.796130  0.800273  \n",
       "7  0.590081  0.587499  "
      ]
     },
     "metadata": {},
     "output_type": "display_data"
    }
   ],
   "source": [
    "initial_classifier_results_table = create_result_table(initial_classifier_results)\n",
    "display(initial_classifier_results_table)"
   ]
  },
  {
   "cell_type": "code",
   "execution_count": 25,
   "metadata": {
    "colab": {
     "base_uri": "https://localhost:8080/"
    },
    "id": "9XYuc7nRmNGd",
    "outputId": "7dc876a9-53df-4282-8600-0af2d9e98bbd"
   },
   "outputs": [
    {
     "name": "stdout",
     "output_type": "stream",
     "text": [
      "angry: 0.6666666666666667\n",
      "calm: 0.6292134831460675\n",
      "disgust: 0.6329113924050633\n",
      "fearful: 0.5952380952380952\n",
      "happy: 0.547945205479452\n",
      "neutral: 0.43243243243243246\n",
      "sad: 0.47058823529411764\n",
      "surprised: 0.725\n"
     ]
    }
   ],
   "source": [
    "f1_scores = calculate_f1_scores_by_class(initial_classifier_results[\"svc\"][\"val\"][\"predictions\"], emotions_val)\n",
    "for emotion, score in f1_scores.items():\n",
    "    print(f\"{emotion}: {score}\")"
   ]
  },
  {
   "cell_type": "code",
   "execution_count": 26,
   "metadata": {
    "colab": {
     "base_uri": "https://localhost:8080/",
     "height": 350
    },
    "id": "ZPCMAGy4opci",
    "outputId": "fab6fd7c-b687-4747-fc6b-db022f1062e2"
   },
   "outputs": [
    {
     "data": {
      "image/png": "[encoded data removed]",
      "text/plain": [
       "<Figure size 1000x500 with 1 Axes>"
      ]
     },
     "metadata": {},
     "output_type": "display_data"
    }
   ],
   "source": [
    "# Taken from https://www.geeksforgeeks.org/bar-plot-in-matplotlib/\n",
    "\n",
    "import matplotlib.pyplot as plt\n",
    "\n",
    "list_of_emotions = list(f1_scores.keys())\n",
    "f1_score_values = list(f1_scores.values())\n",
    "\n",
    "fig = plt.figure(figsize = (10, 5))\n",
    "\n",
    "plt.bar(list_of_emotions, f1_score_values, color ='blue', width = 0.6)\n",
    "plt.xlabel(\"Labels (emotions)\")\n",
    "plt.ylabel(\"F1 class score\")\n",
    "plt.title(\"F1 scores by class of svc classifier\")\n",
    "plt.show()"
   ]
  },
  {
   "cell_type": "code",
   "execution_count": 27,
   "metadata": {},
   "outputs": [
    {
     "data": {
      "image/png": "[encoded data removed]",
      "text/plain": [
       "<Figure size 640x480 with 2 Axes>"
      ]
     },
     "metadata": {},
     "output_type": "display_data"
    }
   ],
   "source": [
    "from sklearn import metrics\n",
    "\n",
    "metrics.ConfusionMatrixDisplay.from_predictions(emotions_val, initial_classifier_results[\"svc\"][\"val\"][\"predictions\"])\n",
    "plt.show()"
   ]
  },
  {
   "cell_type": "markdown",
   "metadata": {},
   "source": [
    "### Binary classification"
   ]
  },
  {
   "cell_type": "code",
   "execution_count": 28,
   "metadata": {},
   "outputs": [],
   "source": [
    "initial_classifier_results_binary[\"dummy_classifier_most_frequent\"] = fit_predict_and_score_classifier(dummy_classifier_most_frequent, *binary_parameters)"
   ]
  },
  {
   "cell_type": "code",
   "execution_count": 29,
   "metadata": {
    "id": "OP12BrTLkY0A"
   },
   "outputs": [],
   "source": [
    "initial_classifier_results_binary[\"dummy_classifier_stratified\"] = fit_predict_and_score_classifier(dummy_classifier_stratified, *binary_parameters)"
   ]
  },
  {
   "cell_type": "code",
   "execution_count": 30,
   "metadata": {
    "id": "XFi7oHh1kqcF"
   },
   "outputs": [],
   "source": [
    "initial_classifier_results_binary[\"logistic_regression\"] = fit_predict_and_score_classifier(logistic_regression, *binary_parameters)"
   ]
  },
  {
   "cell_type": "code",
   "execution_count": 31,
   "metadata": {
    "id": "BiN0CnX2ktST"
   },
   "outputs": [],
   "source": [
    "initial_classifier_results_binary[\"svc\"] = fit_predict_and_score_classifier(svc, *binary_parameters)"
   ]
  },
  {
   "cell_type": "code",
   "execution_count": 32,
   "metadata": {
    "colab": {
     "base_uri": "https://localhost:8080/",
     "height": 363
    },
    "id": "68ytUVLHav6l",
    "outputId": "66b32dd9-2719-493c-8ac7-3261a8a4da8d"
   },
   "outputs": [
    {
     "name": "stderr",
     "output_type": "stream",
     "text": [
      "C:\\Users\\Matas\\AppData\\Local\\Temp\\ipykernel_25328\\2014226108.py:39: FutureWarning: The frame.append method is deprecated and will be removed from pandas in a future version. Use pandas.concat instead.\n",
      "  table = table.append(new_row, ignore_index=True)\n",
      "C:\\Users\\Matas\\AppData\\Local\\Temp\\ipykernel_25328\\2014226108.py:39: FutureWarning: The frame.append method is deprecated and will be removed from pandas in a future version. Use pandas.concat instead.\n",
      "  table = table.append(new_row, ignore_index=True)\n",
      "C:\\Users\\Matas\\AppData\\Local\\Temp\\ipykernel_25328\\2014226108.py:39: FutureWarning: The frame.append method is deprecated and will be removed from pandas in a future version. Use pandas.concat instead.\n",
      "  table = table.append(new_row, ignore_index=True)\n",
      "C:\\Users\\Matas\\AppData\\Local\\Temp\\ipykernel_25328\\2014226108.py:39: FutureWarning: The frame.append method is deprecated and will be removed from pandas in a future version. Use pandas.concat instead.\n",
      "  table = table.append(new_row, ignore_index=True)\n",
      "C:\\Users\\Matas\\AppData\\Local\\Temp\\ipykernel_25328\\2014226108.py:39: FutureWarning: The frame.append method is deprecated and will be removed from pandas in a future version. Use pandas.concat instead.\n",
      "  table = table.append(new_row, ignore_index=True)\n",
      "C:\\Users\\Matas\\AppData\\Local\\Temp\\ipykernel_25328\\2014226108.py:39: FutureWarning: The frame.append method is deprecated and will be removed from pandas in a future version. Use pandas.concat instead.\n",
      "  table = table.append(new_row, ignore_index=True)\n",
      "C:\\Users\\Matas\\AppData\\Local\\Temp\\ipykernel_25328\\2014226108.py:39: FutureWarning: The frame.append method is deprecated and will be removed from pandas in a future version. Use pandas.concat instead.\n",
      "  table = table.append(new_row, ignore_index=True)\n",
      "C:\\Users\\Matas\\AppData\\Local\\Temp\\ipykernel_25328\\2014226108.py:39: FutureWarning: The frame.append method is deprecated and will be removed from pandas in a future version. Use pandas.concat instead.\n",
      "  table = table.append(new_row, ignore_index=True)\n"
     ]
    },
    {
     "data": {
      "text/html": [
       "<div>\n",
       "<style scoped>\n",
       "    .dataframe tbody tr th:only-of-type {\n",
       "        vertical-align: middle;\n",
       "    }\n",
       "\n",
       "    .dataframe tbody tr th {\n",
       "        vertical-align: top;\n",
       "    }\n",
       "\n",
       "    .dataframe thead th {\n",
       "        text-align: right;\n",
       "    }\n",
       "</style>\n",
       "<table border=\"1\" class=\"dataframe\">\n",
       "  <thead>\n",
       "    <tr style=\"text-align: right;\">\n",
       "      <th></th>\n",
       "      <th>Classifier</th>\n",
       "      <th>Set type</th>\n",
       "      <th>predictions</th>\n",
       "      <th>accuracy</th>\n",
       "      <th>precision</th>\n",
       "      <th>recall</th>\n",
       "      <th>F1</th>\n",
       "    </tr>\n",
       "  </thead>\n",
       "  <tbody>\n",
       "    <tr>\n",
       "      <th>0</th>\n",
       "      <td>dummy_classifier_most_frequent</td>\n",
       "      <td>train</td>\n",
       "      <td>[negative, negative, negative, negative, negat...</td>\n",
       "      <td>0.532407</td>\n",
       "      <td>0.766204</td>\n",
       "      <td>0.500000</td>\n",
       "      <td>0.347432</td>\n",
       "    </tr>\n",
       "    <tr>\n",
       "      <th>1</th>\n",
       "      <td>dummy_classifier_most_frequent</td>\n",
       "      <td>val</td>\n",
       "      <td>[negative, negative, negative, negative, negat...</td>\n",
       "      <td>0.538194</td>\n",
       "      <td>0.769097</td>\n",
       "      <td>0.500000</td>\n",
       "      <td>0.349887</td>\n",
       "    </tr>\n",
       "    <tr>\n",
       "      <th>2</th>\n",
       "      <td>dummy_classifier_stratified</td>\n",
       "      <td>train</td>\n",
       "      <td>[positive, positive, positive, negative, negat...</td>\n",
       "      <td>0.520833</td>\n",
       "      <td>0.519660</td>\n",
       "      <td>0.519716</td>\n",
       "      <td>0.519587</td>\n",
       "    </tr>\n",
       "    <tr>\n",
       "      <th>3</th>\n",
       "      <td>dummy_classifier_stratified</td>\n",
       "      <td>val</td>\n",
       "      <td>[negative, positive, positive, negative, posit...</td>\n",
       "      <td>0.454861</td>\n",
       "      <td>0.448564</td>\n",
       "      <td>0.449260</td>\n",
       "      <td>0.448471</td>\n",
       "    </tr>\n",
       "    <tr>\n",
       "      <th>4</th>\n",
       "      <td>logistic_regression</td>\n",
       "      <td>train</td>\n",
       "      <td>[negative, negative, positive, negative, posit...</td>\n",
       "      <td>0.783565</td>\n",
       "      <td>0.782636</td>\n",
       "      <td>0.782878</td>\n",
       "      <td>0.782747</td>\n",
       "    </tr>\n",
       "    <tr>\n",
       "      <th>5</th>\n",
       "      <td>logistic_regression</td>\n",
       "      <td>val</td>\n",
       "      <td>[negative, positive, negative, negative, negat...</td>\n",
       "      <td>0.718750</td>\n",
       "      <td>0.717145</td>\n",
       "      <td>0.717366</td>\n",
       "      <td>0.717247</td>\n",
       "    </tr>\n",
       "    <tr>\n",
       "      <th>6</th>\n",
       "      <td>svc</td>\n",
       "      <td>train</td>\n",
       "      <td>[negative, negative, positive, negative, posit...</td>\n",
       "      <td>0.898148</td>\n",
       "      <td>0.898986</td>\n",
       "      <td>0.896513</td>\n",
       "      <td>0.897436</td>\n",
       "    </tr>\n",
       "    <tr>\n",
       "      <th>7</th>\n",
       "      <td>svc</td>\n",
       "      <td>val</td>\n",
       "      <td>[negative, positive, negative, negative, negat...</td>\n",
       "      <td>0.770833</td>\n",
       "      <td>0.771663</td>\n",
       "      <td>0.766287</td>\n",
       "      <td>0.767594</td>\n",
       "    </tr>\n",
       "  </tbody>\n",
       "</table>\n",
       "</div>"
      ],
      "text/plain": [
       "                       Classifier Set type  \\\n",
       "0  dummy_classifier_most_frequent    train   \n",
       "1  dummy_classifier_most_frequent      val   \n",
       "2     dummy_classifier_stratified    train   \n",
       "3     dummy_classifier_stratified      val   \n",
       "4             logistic_regression    train   \n",
       "5             logistic_regression      val   \n",
       "6                             svc    train   \n",
       "7                             svc      val   \n",
       "\n",
       "                                         predictions  accuracy  precision  \\\n",
       "0  [negative, negative, negative, negative, negat...  0.532407   0.766204   \n",
       "1  [negative, negative, negative, negative, negat...  0.538194   0.769097   \n",
       "2  [positive, positive, positive, negative, negat...  0.520833   0.519660   \n",
       "3  [negative, positive, positive, negative, posit...  0.454861   0.448564   \n",
       "4  [negative, negative, positive, negative, posit...  0.783565   0.782636   \n",
       "5  [negative, positive, negative, negative, negat...  0.718750   0.717145   \n",
       "6  [negative, negative, positive, negative, posit...  0.898148   0.898986   \n",
       "7  [negative, positive, negative, negative, negat...  0.770833   0.771663   \n",
       "\n",
       "     recall        F1  \n",
       "0  0.500000  0.347432  \n",
       "1  0.500000  0.349887  \n",
       "2  0.519716  0.519587  \n",
       "3  0.449260  0.448471  \n",
       "4  0.782878  0.782747  \n",
       "5  0.717366  0.717247  \n",
       "6  0.896513  0.897436  \n",
       "7  0.766287  0.767594  "
      ]
     },
     "metadata": {},
     "output_type": "display_data"
    }
   ],
   "source": [
    "initial_classifier_results_table_binary = create_result_table(initial_classifier_results_binary)\n",
    "display(initial_classifier_results_table_binary)"
   ]
  },
  {
   "cell_type": "code",
   "execution_count": 33,
   "metadata": {
    "colab": {
     "base_uri": "https://localhost:8080/"
    },
    "id": "9XYuc7nRmNGd",
    "outputId": "7dc876a9-53df-4282-8600-0af2d9e98bbd"
   },
   "outputs": [
    {
     "name": "stdout",
     "output_type": "stream",
     "text": [
      "negative: 0.7378640776699029\n",
      "positive: 0.6966292134831462\n"
     ]
    }
   ],
   "source": [
    "f1_scores_binary = calculate_f1_scores_by_class(initial_classifier_results_binary[\"logistic_regression\"][\"val\"][\"predictions\"], emotions_binary_val)\n",
    "for emotion, score in f1_scores_binary.items():\n",
    "    print(f\"{emotion}: {score}\")"
   ]
  },
  {
   "cell_type": "code",
   "execution_count": 34,
   "metadata": {
    "colab": {
     "base_uri": "https://localhost:8080/",
     "height": 350
    },
    "id": "ZPCMAGy4opci",
    "outputId": "fab6fd7c-b687-4747-fc6b-db022f1062e2"
   },
   "outputs": [
    {
     "data": {
      "image/png": "[encoded data removed]",
      "text/plain": [
       "<Figure size 1000x500 with 1 Axes>"
      ]
     },
     "metadata": {},
     "output_type": "display_data"
    }
   ],
   "source": [
    "# Taken from https://www.geeksforgeeks.org/bar-plot-in-matplotlib/\n",
    "\n",
    "import matplotlib.pyplot as plt\n",
    "\n",
    "list_of_emotions_binary = list(f1_scores_binary.keys())\n",
    "f1_score_values_binary = list(f1_scores_binary.values())\n",
    "\n",
    "fig = plt.figure(figsize = (10, 5))\n",
    "\n",
    "plt.bar(list_of_emotions_binary, f1_score_values_binary, color ='blue', width = 0.6)\n",
    "plt.xlabel(\"Labels (emotions)\")\n",
    "plt.ylabel(\"F1 class score\")\n",
    "plt.title(\"F1 scores by class of logistic_regression classifier\")\n",
    "plt.show()"
   ]
  },
  {
   "cell_type": "code",
   "execution_count": 35,
   "metadata": {},
   "outputs": [
    {
     "data": {
      "image/png": "[encoded data removed]",
      "text/plain": [
       "<Figure size 640x480 with 2 Axes>"
      ]
     },
     "metadata": {},
     "output_type": "display_data"
    }
   ],
   "source": [
    "metrics.ConfusionMatrixDisplay.from_predictions(emotions_binary_val, initial_classifier_results_binary[\"logistic_regression\"][\"val\"][\"predictions\"])\n",
    "plt.show()"
   ]
  },
  {
   "cell_type": "markdown",
   "metadata": {},
   "source": [
    "### Feature visualisation"
   ]
  },
  {
   "cell_type": "code",
   "execution_count": 36,
   "metadata": {},
   "outputs": [],
   "source": [
    "# !jupyter notebook --NotebookApp.iopub_data_rate_limit=1.0e10"
   ]
  },
  {
   "cell_type": "code",
   "execution_count": 37,
   "metadata": {},
   "outputs": [],
   "source": [
    "import treelib\n",
    "\n",
    "def add_node(tree, feature, is_feature):\n",
    "    feature_parent, delimiter, feature_name = feature.rpartition(\"_\")\n",
    "    \n",
    "    if not tree.contains(feature_parent):\n",
    "        add_node(tree, feature_parent, False)\n",
    "    \n",
    "    try:\n",
    "        tree.create_node(tag=feature_name, identifier=feature, parent=feature_parent, data=is_feature)\n",
    "    except treelib.exceptions.DuplicatedNodeIdError as error:\n",
    "        # Such node already exists, potentially because recursive parent creation created it before reaching the node itself\n",
    "        if is_feature:\n",
    "            feature_tree.get_node(feature).data = True\n",
    "\n",
    "feature_tree = treelib.Tree()\n",
    "\n",
    "feature_tree.create_node(tag=\"ROOT\", identifier=\"\", data=False)\n",
    "\n",
    "for column in speeches_train.columns:\n",
    "    add_node(feature_tree, column, True)"
   ]
  },
  {
   "cell_type": "code",
   "execution_count": 38,
   "metadata": {},
   "outputs": [
    {
     "data": {
      "text/plain": [
       "2"
      ]
     },
     "execution_count": 38,
     "metadata": {},
     "output_type": "execute_result"
    }
   ],
   "source": [
    "# Taken from https://medium.com/dive-into-ml-ai/tree-data-visualization-with-treelib-71633f6fd8fb\n",
    "import subprocess\n",
    "\n",
    "feature_tree.to_graphviz(\"Feature hierarchy graph description.dot\")\n",
    "subprocess.call([\"dot\", \"-Tsvg\", \"hello.dot\", \"-o\", \"Feature hierarchy graph.svg\"])"
   ]
  },
  {
   "cell_type": "code",
   "execution_count": 39,
   "metadata": {},
   "outputs": [],
   "source": [
    "# feature_tree.all_nodes()"
   ]
  },
  {
   "cell_type": "code",
   "execution_count": 40,
   "metadata": {},
   "outputs": [
    {
     "name": "stdout",
     "output_type": "stream",
     "text": [
      "Counter({'amean': 35, 'stddevNorm': 30, 'percentile20.0': 2, 'percentile50.0': 2, 'percentile80.0': 2, 'pctlrange0-2': 2, 'meanRisingSlope': 2, 'stddevRisingSlope': 2, 'meanFallingSlope': 2, 'stddevFallingSlope': 2, 'loudnessPeaksPerSec': 1, 'VoicedSegmentsPerSec': 1, 'MeanVoicedSegmentLengthSec': 1, 'StddevVoicedSegmentLengthSec': 1, 'MeanUnvoicedSegmentLength': 1, 'StddevUnvoicedSegmentLength': 1, 'dBp': 1})\n"
     ]
    }
   ],
   "source": [
    "feature_endings = []\n",
    "analysis_by_endings = {}\n",
    "\n",
    "for column in speeches_train.columns:\n",
    "    feature_parent, delimiter, ending = column.rpartition(\"_\")\n",
    "    feature_endings.append(ending)\n",
    "    \n",
    "    if ending not in analysis_by_endings.keys():\n",
    "        analysis_by_endings[ending] = {\"features\": []}\n",
    "    \n",
    "    analysis_by_endings[ending][\"features\"].append(column)\n",
    "    \n",
    "print(Counter(feature_endings))"
   ]
  },
  {
   "cell_type": "markdown",
   "metadata": {},
   "source": [
    "### Feature optimisation section"
   ]
  },
  {
   "cell_type": "code",
   "execution_count": 41,
   "metadata": {},
   "outputs": [],
   "source": [
    "classifier_for_feature_optimisation = svc\n",
    "baseline_f1_score = initial_classifier_results[\"svc\"][\"val\"][\"F1\"]\n",
    "\n",
    "features_used_for_testing = 10_000 # 50 # 600\n",
    "\n",
    "speeches_train_copy = speeches_train.copy()\n",
    "speeches_train_copy.drop(speeches_train.columns[features_used_for_testing:], axis=1, inplace=True)\n",
    "speeches_val_copy = speeches_val.copy()\n",
    "speeches_val_copy.drop(speeches_val.columns[features_used_for_testing:], axis=1, inplace=True)"
   ]
  },
  {
   "cell_type": "code",
   "execution_count": 42,
   "metadata": {
    "scrolled": true
   },
   "outputs": [],
   "source": [
    "# ### Separated model to reduce time demands\n",
    "\n",
    "# from ipywidgets import IntProgress\n",
    "\n",
    "# # raise Exception(\"Prevent this cell from running so that it doesn't get stuck\")\n",
    "\n",
    "# endings_progress_bar = IntProgress(\n",
    "#     min=0,\n",
    "#     max=len(analysis_by_endings.keys())-1,\n",
    "#     description = f\"0/{len(analysis_by_endings)-1} ending\"\n",
    "# )\n",
    "\n",
    "# progress_bar = IntProgress(\n",
    "#     min=0,\n",
    "#     max=len(speeches_train_copy.columns)-1,\n",
    "#     description = f\"0th feature\"\n",
    "# )\n",
    "\n",
    "# inner_progress_bar = IntProgress(\n",
    "#     min=0,\n",
    "#     max=len(speeches_train.columns)-1,\n",
    "#     description = f\"0/{len(speeches_train_copy.columns)-1}\"\n",
    "# )\n",
    "\n",
    "# display(endings_progress_bar)\n",
    "# display(progress_bar)\n",
    "# display(inner_progress_bar)\n",
    "\n",
    "# for ending_index, data in enumerate(list(analysis_by_endings.values())):\n",
    "#     data[\"final_data_frame\"] = pd.DataFrame()\n",
    "#     data[\"removed_features\"] = []\n",
    "\n",
    "#     speeches_train_copy = speeches_train.copy()[data[\"features\"]]\n",
    "#     speeches_val_copy = speeches_val.copy()[data[\"features\"]]\n",
    "    \n",
    "#     progress_bar.value = 0\n",
    "#     progress_bar.max = len(speeches_train_copy.columns)-1\n",
    "#     inner_progress_bar.value = 0\n",
    "#     inner_progress_bar.max = len(speeches_train_copy.columns)-1\n",
    "#     endings_progress_bar.description = f\"{ending_index}/{len(analysis_by_endings)-1} ending\"\n",
    "    \n",
    "#     for feature_index in range(len(speeches_train_copy.columns)-1): # -1 so that the last feature is not deleted and an empty DataFrame is passed\n",
    "#         progress_bar.description = f\"{feature_index}/{len(speeches_train_copy.columns)-1} feature\"\n",
    "\n",
    "#         # Setting the new baseline\n",
    "#         result = fit_predict_and_score_classifier(\n",
    "#                 classifier_for_feature_optimisation,\n",
    "#                 speeches_train_copy,\n",
    "#                 speeches_val_copy, # speeches_val,\n",
    "#                 emotions_train,\n",
    "#                 emotions_val,\n",
    "#                 set(emotions)\n",
    "#             )\n",
    "#         max_f1_score = result[\"val\"][\"F1\"]\n",
    "#         column_to_remove = None\n",
    "\n",
    "#         # Finding the worst F1-reducing feature\n",
    "#         inner_progress_bar.max = len(speeches_train_copy.columns)\n",
    "#         inner_progress_bar.value = 0\n",
    "\n",
    "#         for index, column in enumerate(speeches_train_copy.columns):\n",
    "#             inner_progress_bar.description = f\"{index}/{len(speeches_train_copy.columns)-1}\"\n",
    "\n",
    "#             result = fit_predict_and_score_classifier(\n",
    "#                 classifier_for_feature_optimisation,\n",
    "#                 speeches_train_copy.drop([column], axis=1),\n",
    "#                 speeches_val_copy.drop([column], axis=1), # speeches_val.drop([column], axis=1),\n",
    "#                 emotions_train,\n",
    "#                 emotions_val,\n",
    "#                 set(emotions)\n",
    "#             )\n",
    "#             f1_score = result[\"val\"][\"F1\"]\n",
    "\n",
    "#             if f1_score > max_f1_score:\n",
    "#                 max_f1_score = f1_score\n",
    "#                 column_to_remove = column\n",
    "\n",
    "#             inner_progress_bar.value += 1\n",
    "\n",
    "#         # Removing the worst feature\n",
    "#         if column_to_remove is not None:\n",
    "#             speeches_train_copy.drop([column_to_remove], axis=1, inplace=True)\n",
    "#             speeches_val_copy.drop([column_to_remove], axis=1, inplace=True) # speeches_val.drop([column_to_remove], axis=1, inplace=True)\n",
    "#             data[\"removed_features\"].append((column_to_remove, max_f1_score, max_f1_score - f1_score))\n",
    "#             progress_bar.value += 1\n",
    "#         else:\n",
    "#             progress_bar.value = progress_bar.max\n",
    "#             inner_progress_bar.value = inner_progress_bar.max\n",
    "#             data[\"final_data_frame\"] = speeches_train_copy.copy()\n",
    "#             break\n",
    "            \n",
    "#     endings_progress_bar.value += 1"
   ]
  },
  {
   "cell_type": "code",
   "execution_count": 43,
   "metadata": {},
   "outputs": [
    {
     "data": {
      "application/vnd.jupyter.widget-view+json": {
       "model_id": "c03cd7002fea4c5eab35f823a6729b6d",
       "version_major": 2,
       "version_minor": 0
      },
      "text/plain": [
       "IntProgress(value=0, description='0th feature', max=87)"
      ]
     },
     "metadata": {},
     "output_type": "display_data"
    },
    {
     "data": {
      "application/vnd.jupyter.widget-view+json": {
       "model_id": "bbb4832db4d0474d904024e92b7b2d3f",
       "version_major": 2,
       "version_minor": 0
      },
      "text/plain": [
       "IntProgress(value=0, description='0/87', max=87)"
      ]
     },
     "metadata": {},
     "output_type": "display_data"
    }
   ],
   "source": [
    "### Full version (slow but checking everything)\n",
    "\n",
    "from ipywidgets import IntProgress\n",
    "\n",
    "# raise Exception(\"Prevent this cell from running so that it doesn't get stuck\")\n",
    "\n",
    "progress_bar = IntProgress(\n",
    "    min=0,\n",
    "    max=len(speeches_train_copy.columns)-1,\n",
    "    description = f\"0th feature\"\n",
    ")\n",
    "\n",
    "inner_progress_bar = IntProgress(\n",
    "    min=0,\n",
    "    max=len(speeches_train.columns)-1,\n",
    "    description = f\"0/{len(speeches_train_copy.columns)-1}\"\n",
    ")\n",
    "\n",
    "display(progress_bar)\n",
    "display(inner_progress_bar)\n",
    "\n",
    "data = []\n",
    "final_data_frame = None\n",
    "# data[\"final_data_frame\"] = pd.DataFrame()\n",
    "# data[\"removed_features\"] = []\n",
    "\n",
    "speeches_train_copy = speeches_train.copy()\n",
    "speeches_val_copy = speeches_val.copy()\n",
    "\n",
    "progress_bar.value = 0\n",
    "progress_bar.max = len(speeches_train_copy.columns)-1\n",
    "inner_progress_bar.value = 0\n",
    "inner_progress_bar.max = len(speeches_train_copy.columns)-1\n",
    "\n",
    "for feature_index in range(len(speeches_train_copy.columns)-1): # -1 so that the last feature is not deleted and an empty DataFrame is passed\n",
    "    progress_bar.description = f\"{feature_index}/{len(speeches_train_copy.columns)-1} feature\"\n",
    "\n",
    "    # Setting the new baseline\n",
    "    result = fit_predict_and_score_classifier(\n",
    "            classifier_for_feature_optimisation,\n",
    "            speeches_train_copy,\n",
    "            speeches_val_copy, # speeches_val,\n",
    "            emotions_train,\n",
    "            emotions_val,\n",
    "            set(emotions)\n",
    "        )\n",
    "    max_f1_score = result[\"val\"][\"F1\"]\n",
    "    column_to_remove = None\n",
    "\n",
    "    # Finding the worst F1-reducing feature\n",
    "    inner_progress_bar.max = len(speeches_train_copy.columns)\n",
    "    inner_progress_bar.value = 0\n",
    "\n",
    "    for index, column in enumerate(speeches_train_copy.columns):\n",
    "        inner_progress_bar.description = f\"{index}/{len(speeches_train_copy.columns)-1}\"\n",
    "\n",
    "        result = fit_predict_and_score_classifier(\n",
    "            classifier_for_feature_optimisation,\n",
    "            speeches_train_copy.drop([column], axis=1),\n",
    "            speeches_val_copy.drop([column], axis=1), # speeches_val.drop([column], axis=1),\n",
    "            emotions_train,\n",
    "            emotions_val,\n",
    "            set(emotions)\n",
    "        )\n",
    "        f1_score = result[\"val\"][\"F1\"]\n",
    "\n",
    "        if f1_score > max_f1_score:\n",
    "            max_f1_score = f1_score\n",
    "            column_to_remove = column\n",
    "\n",
    "        inner_progress_bar.value += 1\n",
    "\n",
    "    # Removing the worst feature\n",
    "    if column_to_remove is not None:\n",
    "        speeches_train_copy.drop([column_to_remove], axis=1, inplace=True)\n",
    "        speeches_val_copy.drop([column_to_remove], axis=1, inplace=True) # speeches_val.drop([column_to_remove], axis=1, inplace=True)\n",
    "        data.append((column_to_remove, max_f1_score, max_f1_score - f1_score))\n",
    "        progress_bar.value += 1\n",
    "    else:\n",
    "        progress_bar.value = progress_bar.max\n",
    "        inner_progress_bar.value = inner_progress_bar.max\n",
    "        final_data_frame = speeches_train_copy.copy()\n",
    "        break"
   ]
  },
  {
   "cell_type": "code",
   "execution_count": 44,
   "metadata": {},
   "outputs": [
    {
     "data": {
      "text/plain": [
       "[('loudnessPeaksPerSec', 0.5981019114807251, 0.013570592845255192),\n",
       " ('spectralFluxUV_sma3nz_amean', 0.6052547876301853, 0.010610786491682345),\n",
       " ('F3frequency_sma3nz_stddevNorm', 0.6094240586503537, 0.013944167167477595),\n",
       " ('F2bandwidth_sma3nz_stddevNorm', 0.6131144675465151, 0.011823946080952275),\n",
       " ('mfcc3V_sma3nz_stddevNorm', 0.6167998667998669, 0.010631189300528643),\n",
       " ('mfcc1_sma3_stddevNorm', 0.6202950130765496, 0.017246746036009064)]"
      ]
     },
     "execution_count": 44,
     "metadata": {},
     "output_type": "execute_result"
    }
   ],
   "source": [
    "data"
   ]
  },
  {
   "cell_type": "code",
   "execution_count": 45,
   "metadata": {},
   "outputs": [],
   "source": [
    "removed_columns = [entry[0] for entry in data]\n",
    "speeches_train_pruned = speeches_train.copy().drop(removed_columns, axis=1)\n",
    "speeches_val_pruned = speeches_val.copy().drop(removed_columns, axis=1)\n",
    "speeches_test_pruned = speeches_test.copy().drop(removed_columns, axis=1)\n",
    "\n",
    "multi_class_pruned_parameters = (speeches_train_pruned, speeches_val_pruned, emotions_train, emotions_val, set(emotions))"
   ]
  },
  {
   "cell_type": "code",
   "execution_count": 46,
   "metadata": {},
   "outputs": [
    {
     "name": "stdout",
     "output_type": "stream",
     "text": [
      "88 82\n"
     ]
    }
   ],
   "source": [
    "print(len(speeches_train.columns), len(speeches_train_pruned.columns))"
   ]
  },
  {
   "cell_type": "code",
   "execution_count": 47,
   "metadata": {},
   "outputs": [],
   "source": [
    "initial_classifier_results[\"svc_pruned\"] = fit_predict_and_score_classifier(svc, *multi_class_parameters)"
   ]
  },
  {
   "cell_type": "code",
   "execution_count": 48,
   "metadata": {},
   "outputs": [
    {
     "name": "stderr",
     "output_type": "stream",
     "text": [
      "C:\\Users\\Matas\\AppData\\Local\\Temp\\ipykernel_25328\\2014226108.py:39: FutureWarning: The frame.append method is deprecated and will be removed from pandas in a future version. Use pandas.concat instead.\n",
      "  table = table.append(new_row, ignore_index=True)\n",
      "C:\\Users\\Matas\\AppData\\Local\\Temp\\ipykernel_25328\\2014226108.py:39: FutureWarning: The frame.append method is deprecated and will be removed from pandas in a future version. Use pandas.concat instead.\n",
      "  table = table.append(new_row, ignore_index=True)\n",
      "C:\\Users\\Matas\\AppData\\Local\\Temp\\ipykernel_25328\\2014226108.py:39: FutureWarning: The frame.append method is deprecated and will be removed from pandas in a future version. Use pandas.concat instead.\n",
      "  table = table.append(new_row, ignore_index=True)\n",
      "C:\\Users\\Matas\\AppData\\Local\\Temp\\ipykernel_25328\\2014226108.py:39: FutureWarning: The frame.append method is deprecated and will be removed from pandas in a future version. Use pandas.concat instead.\n",
      "  table = table.append(new_row, ignore_index=True)\n",
      "C:\\Users\\Matas\\AppData\\Local\\Temp\\ipykernel_25328\\2014226108.py:39: FutureWarning: The frame.append method is deprecated and will be removed from pandas in a future version. Use pandas.concat instead.\n",
      "  table = table.append(new_row, ignore_index=True)\n",
      "C:\\Users\\Matas\\AppData\\Local\\Temp\\ipykernel_25328\\2014226108.py:39: FutureWarning: The frame.append method is deprecated and will be removed from pandas in a future version. Use pandas.concat instead.\n",
      "  table = table.append(new_row, ignore_index=True)\n",
      "C:\\Users\\Matas\\AppData\\Local\\Temp\\ipykernel_25328\\2014226108.py:39: FutureWarning: The frame.append method is deprecated and will be removed from pandas in a future version. Use pandas.concat instead.\n",
      "  table = table.append(new_row, ignore_index=True)\n",
      "C:\\Users\\Matas\\AppData\\Local\\Temp\\ipykernel_25328\\2014226108.py:39: FutureWarning: The frame.append method is deprecated and will be removed from pandas in a future version. Use pandas.concat instead.\n",
      "  table = table.append(new_row, ignore_index=True)\n",
      "C:\\Users\\Matas\\AppData\\Local\\Temp\\ipykernel_25328\\2014226108.py:39: FutureWarning: The frame.append method is deprecated and will be removed from pandas in a future version. Use pandas.concat instead.\n",
      "  table = table.append(new_row, ignore_index=True)\n",
      "C:\\Users\\Matas\\AppData\\Local\\Temp\\ipykernel_25328\\2014226108.py:39: FutureWarning: The frame.append method is deprecated and will be removed from pandas in a future version. Use pandas.concat instead.\n",
      "  table = table.append(new_row, ignore_index=True)\n"
     ]
    },
    {
     "data": {
      "text/html": [
       "<div>\n",
       "<style scoped>\n",
       "    .dataframe tbody tr th:only-of-type {\n",
       "        vertical-align: middle;\n",
       "    }\n",
       "\n",
       "    .dataframe tbody tr th {\n",
       "        vertical-align: top;\n",
       "    }\n",
       "\n",
       "    .dataframe thead th {\n",
       "        text-align: right;\n",
       "    }\n",
       "</style>\n",
       "<table border=\"1\" class=\"dataframe\">\n",
       "  <thead>\n",
       "    <tr style=\"text-align: right;\">\n",
       "      <th></th>\n",
       "      <th>Classifier</th>\n",
       "      <th>Set type</th>\n",
       "      <th>predictions</th>\n",
       "      <th>accuracy</th>\n",
       "      <th>precision</th>\n",
       "      <th>recall</th>\n",
       "      <th>F1</th>\n",
       "    </tr>\n",
       "  </thead>\n",
       "  <tbody>\n",
       "    <tr>\n",
       "      <th>0</th>\n",
       "      <td>dummy_classifier_most_frequent</td>\n",
       "      <td>train</td>\n",
       "      <td>[calm, calm, calm, calm, calm, calm, calm, cal...</td>\n",
       "      <td>0.134259</td>\n",
       "      <td>0.891782</td>\n",
       "      <td>0.125000</td>\n",
       "      <td>0.029592</td>\n",
       "    </tr>\n",
       "    <tr>\n",
       "      <th>1</th>\n",
       "      <td>dummy_classifier_most_frequent</td>\n",
       "      <td>val</td>\n",
       "      <td>[calm, calm, calm, calm, calm, calm, calm, cal...</td>\n",
       "      <td>0.131944</td>\n",
       "      <td>0.891493</td>\n",
       "      <td>0.125000</td>\n",
       "      <td>0.029141</td>\n",
       "    </tr>\n",
       "    <tr>\n",
       "      <th>2</th>\n",
       "      <td>dummy_classifier_stratified</td>\n",
       "      <td>train</td>\n",
       "      <td>[sad, disgust, calm, fearful, fearful, sad, ne...</td>\n",
       "      <td>0.135417</td>\n",
       "      <td>0.127784</td>\n",
       "      <td>0.129207</td>\n",
       "      <td>0.127875</td>\n",
       "    </tr>\n",
       "    <tr>\n",
       "      <th>3</th>\n",
       "      <td>dummy_classifier_stratified</td>\n",
       "      <td>val</td>\n",
       "      <td>[fearful, sad, happy, calm, sad, disgust, disg...</td>\n",
       "      <td>0.114583</td>\n",
       "      <td>0.113764</td>\n",
       "      <td>0.113866</td>\n",
       "      <td>0.113394</td>\n",
       "    </tr>\n",
       "    <tr>\n",
       "      <th>4</th>\n",
       "      <td>logistic_regression</td>\n",
       "      <td>train</td>\n",
       "      <td>[surprised, fearful, neutral, sad, surprised, ...</td>\n",
       "      <td>0.822917</td>\n",
       "      <td>0.821884</td>\n",
       "      <td>0.819903</td>\n",
       "      <td>0.819967</td>\n",
       "    </tr>\n",
       "    <tr>\n",
       "      <th>5</th>\n",
       "      <td>logistic_regression</td>\n",
       "      <td>val</td>\n",
       "      <td>[fearful, calm, surprised, sad, sad, calm, neu...</td>\n",
       "      <td>0.586806</td>\n",
       "      <td>0.560562</td>\n",
       "      <td>0.563343</td>\n",
       "      <td>0.559951</td>\n",
       "    </tr>\n",
       "    <tr>\n",
       "      <th>6</th>\n",
       "      <td>svc</td>\n",
       "      <td>train</td>\n",
       "      <td>[disgust, fearful, neutral, sad, happy, surpri...</td>\n",
       "      <td>0.807870</td>\n",
       "      <td>0.812744</td>\n",
       "      <td>0.796130</td>\n",
       "      <td>0.800273</td>\n",
       "    </tr>\n",
       "    <tr>\n",
       "      <th>7</th>\n",
       "      <td>svc</td>\n",
       "      <td>val</td>\n",
       "      <td>[sad, calm, fearful, sad, fearful, calm, neutr...</td>\n",
       "      <td>0.600694</td>\n",
       "      <td>0.598798</td>\n",
       "      <td>0.590081</td>\n",
       "      <td>0.587499</td>\n",
       "    </tr>\n",
       "    <tr>\n",
       "      <th>8</th>\n",
       "      <td>svc_pruned</td>\n",
       "      <td>train</td>\n",
       "      <td>[disgust, fearful, neutral, sad, happy, surpri...</td>\n",
       "      <td>0.807870</td>\n",
       "      <td>0.812744</td>\n",
       "      <td>0.796130</td>\n",
       "      <td>0.800273</td>\n",
       "    </tr>\n",
       "    <tr>\n",
       "      <th>9</th>\n",
       "      <td>svc_pruned</td>\n",
       "      <td>val</td>\n",
       "      <td>[sad, calm, fearful, sad, fearful, calm, neutr...</td>\n",
       "      <td>0.600694</td>\n",
       "      <td>0.598798</td>\n",
       "      <td>0.590081</td>\n",
       "      <td>0.587499</td>\n",
       "    </tr>\n",
       "  </tbody>\n",
       "</table>\n",
       "</div>"
      ],
      "text/plain": [
       "                       Classifier Set type  \\\n",
       "0  dummy_classifier_most_frequent    train   \n",
       "1  dummy_classifier_most_frequent      val   \n",
       "2     dummy_classifier_stratified    train   \n",
       "3     dummy_classifier_stratified      val   \n",
       "4             logistic_regression    train   \n",
       "5             logistic_regression      val   \n",
       "6                             svc    train   \n",
       "7                             svc      val   \n",
       "8                      svc_pruned    train   \n",
       "9                      svc_pruned      val   \n",
       "\n",
       "                                         predictions  accuracy  precision  \\\n",
       "0  [calm, calm, calm, calm, calm, calm, calm, cal...  0.134259   0.891782   \n",
       "1  [calm, calm, calm, calm, calm, calm, calm, cal...  0.131944   0.891493   \n",
       "2  [sad, disgust, calm, fearful, fearful, sad, ne...  0.135417   0.127784   \n",
       "3  [fearful, sad, happy, calm, sad, disgust, disg...  0.114583   0.113764   \n",
       "4  [surprised, fearful, neutral, sad, surprised, ...  0.822917   0.821884   \n",
       "5  [fearful, calm, surprised, sad, sad, calm, neu...  0.586806   0.560562   \n",
       "6  [disgust, fearful, neutral, sad, happy, surpri...  0.807870   0.812744   \n",
       "7  [sad, calm, fearful, sad, fearful, calm, neutr...  0.600694   0.598798   \n",
       "8  [disgust, fearful, neutral, sad, happy, surpri...  0.807870   0.812744   \n",
       "9  [sad, calm, fearful, sad, fearful, calm, neutr...  0.600694   0.598798   \n",
       "\n",
       "     recall        F1  \n",
       "0  0.125000  0.029592  \n",
       "1  0.125000  0.029141  \n",
       "2  0.129207  0.127875  \n",
       "3  0.113866  0.113394  \n",
       "4  0.819903  0.819967  \n",
       "5  0.563343  0.559951  \n",
       "6  0.796130  0.800273  \n",
       "7  0.590081  0.587499  \n",
       "8  0.796130  0.800273  \n",
       "9  0.590081  0.587499  "
      ]
     },
     "metadata": {},
     "output_type": "display_data"
    }
   ],
   "source": [
    "post_prunation_classifier_results_table = create_result_table(initial_classifier_results)\n",
    "display(post_prunation_classifier_results_table)"
   ]
  },
  {
   "cell_type": "markdown",
   "metadata": {},
   "source": [
    "### Hyperparameter optimisation"
   ]
  },
  {
   "cell_type": "code",
   "execution_count": 49,
   "metadata": {},
   "outputs": [
    {
     "data": {
      "text/html": [
       "<style>#sk-container-id-1 {color: black;background-color: white;}#sk-container-id-1 pre{padding: 0;}#sk-container-id-1 div.sk-toggleable {background-color: white;}#sk-container-id-1 label.sk-toggleable__label {cursor: pointer;display: block;width: 100%;margin-bottom: 0;padding: 0.3em;box-sizing: border-box;text-align: center;}#sk-container-id-1 label.sk-toggleable__label-arrow:before {content: \"▸\";float: left;margin-right: 0.25em;color: #696969;}#sk-container-id-1 label.sk-toggleable__label-arrow:hover:before {color: black;}#sk-container-id-1 div.sk-estimator:hover label.sk-toggleable__label-arrow:before {color: black;}#sk-container-id-1 div.sk-toggleable__content {max-height: 0;max-width: 0;overflow: hidden;text-align: left;background-color: #f0f8ff;}#sk-container-id-1 div.sk-toggleable__content pre {margin: 0.2em;color: black;border-radius: 0.25em;background-color: #f0f8ff;}#sk-container-id-1 input.sk-toggleable__control:checked~div.sk-toggleable__content {max-height: 200px;max-width: 100%;overflow: auto;}#sk-container-id-1 input.sk-toggleable__control:checked~label.sk-toggleable__label-arrow:before {content: \"▾\";}#sk-container-id-1 div.sk-estimator input.sk-toggleable__control:checked~label.sk-toggleable__label {background-color: #d4ebff;}#sk-container-id-1 div.sk-label input.sk-toggleable__control:checked~label.sk-toggleable__label {background-color: #d4ebff;}#sk-container-id-1 input.sk-hidden--visually {border: 0;clip: rect(1px 1px 1px 1px);clip: rect(1px, 1px, 1px, 1px);height: 1px;margin: -1px;overflow: hidden;padding: 0;position: absolute;width: 1px;}#sk-container-id-1 div.sk-estimator {font-family: monospace;background-color: #f0f8ff;border: 1px dotted black;border-radius: 0.25em;box-sizing: border-box;margin-bottom: 0.5em;}#sk-container-id-1 div.sk-estimator:hover {background-color: #d4ebff;}#sk-container-id-1 div.sk-parallel-item::after {content: \"\";width: 100%;border-bottom: 1px solid gray;flex-grow: 1;}#sk-container-id-1 div.sk-label:hover label.sk-toggleable__label {background-color: #d4ebff;}#sk-container-id-1 div.sk-serial::before {content: \"\";position: absolute;border-left: 1px solid gray;box-sizing: border-box;top: 0;bottom: 0;left: 50%;z-index: 0;}#sk-container-id-1 div.sk-serial {display: flex;flex-direction: column;align-items: center;background-color: white;padding-right: 0.2em;padding-left: 0.2em;position: relative;}#sk-container-id-1 div.sk-item {position: relative;z-index: 1;}#sk-container-id-1 div.sk-parallel {display: flex;align-items: stretch;justify-content: center;background-color: white;position: relative;}#sk-container-id-1 div.sk-item::before, #sk-container-id-1 div.sk-parallel-item::before {content: \"\";position: absolute;border-left: 1px solid gray;box-sizing: border-box;top: 0;bottom: 0;left: 50%;z-index: -1;}#sk-container-id-1 div.sk-parallel-item {display: flex;flex-direction: column;z-index: 1;position: relative;background-color: white;}#sk-container-id-1 div.sk-parallel-item:first-child::after {align-self: flex-end;width: 50%;}#sk-container-id-1 div.sk-parallel-item:last-child::after {align-self: flex-start;width: 50%;}#sk-container-id-1 div.sk-parallel-item:only-child::after {width: 0;}#sk-container-id-1 div.sk-dashed-wrapped {border: 1px dashed gray;margin: 0 0.4em 0.5em 0.4em;box-sizing: border-box;padding-bottom: 0.4em;background-color: white;}#sk-container-id-1 div.sk-label label {font-family: monospace;font-weight: bold;display: inline-block;line-height: 1.2em;}#sk-container-id-1 div.sk-label-container {text-align: center;}#sk-container-id-1 div.sk-container {/* jupyter's `normalize.less` sets `[hidden] { display: none; }` but bootstrap.min.css set `[hidden] { display: none !important; }` so we also need the `!important` here to be able to override the default hidden behavior on the sphinx rendered scikit-learn.org. See: https://github.com/scikit-learn/scikit-learn/issues/21755 */display: inline-block !important;position: relative;}#sk-container-id-1 div.sk-text-repr-fallback {display: none;}</style><div id=\"sk-container-id-1\" class=\"sk-top-container\"><div class=\"sk-text-repr-fallback\"><pre>GridSearchCV(estimator=SVC(),\n",
       "             param_grid={&#x27;C&#x27;: [0.1, 1, 5, 10, 20, 50],\n",
       "                         &#x27;gamma&#x27;: [&#x27;scale&#x27;, &#x27;auto&#x27;],\n",
       "                         &#x27;kernel&#x27;: [&#x27;linear&#x27;, &#x27;poly&#x27;, &#x27;rbf&#x27;, &#x27;sigmoid&#x27;],\n",
       "                         &#x27;shrinking&#x27;: [True, False]})</pre><b>In a Jupyter environment, please rerun this cell to show the HTML representation or trust the notebook. <br />On GitHub, the HTML representation is unable to render, please try loading this page with nbviewer.org.</b></div><div class=\"sk-container\" hidden><div class=\"sk-item sk-dashed-wrapped\"><div class=\"sk-label-container\"><div class=\"sk-label sk-toggleable\"><input class=\"sk-toggleable__control sk-hidden--visually\" id=\"sk-estimator-id-1\" type=\"checkbox\" ><label for=\"sk-estimator-id-1\" class=\"sk-toggleable__label sk-toggleable__label-arrow\">GridSearchCV</label><div class=\"sk-toggleable__content\"><pre>GridSearchCV(estimator=SVC(),\n",
       "             param_grid={&#x27;C&#x27;: [0.1, 1, 5, 10, 20, 50],\n",
       "                         &#x27;gamma&#x27;: [&#x27;scale&#x27;, &#x27;auto&#x27;],\n",
       "                         &#x27;kernel&#x27;: [&#x27;linear&#x27;, &#x27;poly&#x27;, &#x27;rbf&#x27;, &#x27;sigmoid&#x27;],\n",
       "                         &#x27;shrinking&#x27;: [True, False]})</pre></div></div></div><div class=\"sk-parallel\"><div class=\"sk-parallel-item\"><div class=\"sk-item\"><div class=\"sk-label-container\"><div class=\"sk-label sk-toggleable\"><input class=\"sk-toggleable__control sk-hidden--visually\" id=\"sk-estimator-id-2\" type=\"checkbox\" ><label for=\"sk-estimator-id-2\" class=\"sk-toggleable__label sk-toggleable__label-arrow\">estimator: SVC</label><div class=\"sk-toggleable__content\"><pre>SVC()</pre></div></div></div><div class=\"sk-serial\"><div class=\"sk-item\"><div class=\"sk-estimator sk-toggleable\"><input class=\"sk-toggleable__control sk-hidden--visually\" id=\"sk-estimator-id-3\" type=\"checkbox\" ><label for=\"sk-estimator-id-3\" class=\"sk-toggleable__label sk-toggleable__label-arrow\">SVC</label><div class=\"sk-toggleable__content\"><pre>SVC()</pre></div></div></div></div></div></div></div></div></div></div>"
      ],
      "text/plain": [
       "GridSearchCV(estimator=SVC(),\n",
       "             param_grid={'C': [0.1, 1, 5, 10, 20, 50],\n",
       "                         'gamma': ['scale', 'auto'],\n",
       "                         'kernel': ['linear', 'poly', 'rbf', 'sigmoid'],\n",
       "                         'shrinking': [True, False]})"
      ]
     },
     "execution_count": 49,
     "metadata": {},
     "output_type": "execute_result"
    }
   ],
   "source": [
    "from sklearn.model_selection import GridSearchCV\n",
    "\n",
    "svc_parameters = {\n",
    "    \"kernel\": [\"linear\", \"poly\", \"rbf\", \"sigmoid\"],\n",
    "    \"C\": [0.1, 1, 5, 10, 20, 50],\n",
    "    \"gamma\": [\"scale\", \"auto\"],\n",
    "    \"shrinking\": [True, False],\n",
    "#     \"max_iter\": [-1, 100, 10_000],\n",
    "}\n",
    "\n",
    "parametrised_svc = GridSearchCV(svc, svc_parameters)\n",
    "parametrised_svc.fit(speeches_train_pruned, emotions_train)"
   ]
  },
  {
   "cell_type": "code",
   "execution_count": 50,
   "metadata": {
    "scrolled": true
   },
   "outputs": [
    {
     "data": {
      "text/plain": [
       "dict_items([('mean_fit_time', array([0.03177004, 0.03706698, 0.03460603, 0.03310518, 0.04495354,\n",
       "       0.0445076 , 0.03979235, 0.0411767 , 0.02691822, 0.03248949,\n",
       "       0.03292217, 0.0329195 , 0.04368005, 0.04405246, 0.03959894,\n",
       "       0.04050679, 0.05780196, 0.09727526, 0.03148675, 0.03136702,\n",
       "       0.03836169, 0.04271812, 0.03166709, 0.03037801, 0.06173682,\n",
       "       0.09807987, 0.03502817, 0.03472233, 0.04738684, 0.05009522,\n",
       "       0.03657103, 0.03358436, 0.11465116, 0.18017602, 0.03729239,\n",
       "       0.03280678, 0.04529281, 0.04094157, 0.02537789, 0.02636042,\n",
       "       0.10848389, 0.17629952, 0.03339033, 0.03359337, 0.04399991,\n",
       "       0.03993583, 0.024793  , 0.02439961, 0.12141752, 0.20222487,\n",
       "       0.03565693, 0.03506017, 0.05338464, 0.04091115, 0.02617407,\n",
       "       0.02665291, 0.12372751, 0.21019645, 0.03484893, 0.03404565,\n",
       "       0.05135264, 0.03906312, 0.02321243, 0.02418303, 0.12649665,\n",
       "       0.2063252 , 0.03875418, 0.03486633, 0.04724092, 0.04211044,\n",
       "       0.02463794, 0.02524099, 0.12567115, 0.2091733 , 0.04209146,\n",
       "       0.04012003, 0.0500082 , 0.04171367, 0.02402167, 0.02407675,\n",
       "       0.12520204, 0.20325952, 0.04005442, 0.03459439, 0.04859996,\n",
       "       0.04024034, 0.0248353 , 0.02428184, 0.12306099, 0.19929223,\n",
       "       0.03960657, 0.03972921, 0.04902806, 0.04290404, 0.03074512,\n",
       "       0.0243907 ])), ('std_fit_time', array([0.00471179, 0.00308314, 0.00098785, 0.00057192, 0.00174652,\n",
       "       0.0005673 , 0.00048838, 0.00167918, 0.00079576, 0.00063637,\n",
       "       0.00047527, 0.0003762 , 0.00032904, 0.00093677, 0.00038945,\n",
       "       0.00110381, 0.0031016 , 0.01224228, 0.00028281, 0.00043611,\n",
       "       0.00185345, 0.00699878, 0.00042053, 0.00107555, 0.00287243,\n",
       "       0.00594925, 0.0009101 , 0.00060076, 0.00960085, 0.00698835,\n",
       "       0.00430239, 0.00143396, 0.00924678, 0.0147732 , 0.0036167 ,\n",
       "       0.00043884, 0.00057791, 0.00086085, 0.00053924, 0.00267143,\n",
       "       0.01034782, 0.01283068, 0.00055016, 0.00126197, 0.00099902,\n",
       "       0.00163901, 0.00043661, 0.00063454, 0.01127896, 0.00758563,\n",
       "       0.00165255, 0.00422401, 0.00365719, 0.00122955, 0.00330334,\n",
       "       0.0010082 , 0.0107545 , 0.01358947, 0.00070117, 0.00257714,\n",
       "       0.00413883, 0.00090576, 0.00075594, 0.00038151, 0.0165679 ,\n",
       "       0.01367377, 0.00144006, 0.00022984, 0.00097794, 0.00095968,\n",
       "       0.00050893, 0.00099095, 0.01586921, 0.01181885, 0.00138735,\n",
       "       0.01043562, 0.00355977, 0.00105767, 0.00100554, 0.00096263,\n",
       "       0.01526382, 0.01013326, 0.00040782, 0.00056481, 0.00135771,\n",
       "       0.00074644, 0.00168011, 0.00168733, 0.01661865, 0.0110645 ,\n",
       "       0.00052271, 0.00575736, 0.00050173, 0.00173697, 0.0080766 ,\n",
       "       0.00090248])), ('mean_score_time', array([0.00623412, 0.00605993, 0.00640502, 0.00625858, 0.01568289,\n",
       "       0.01615815, 0.00799575, 0.00840707, 0.0058733 , 0.00570054,\n",
       "       0.00630856, 0.00621247, 0.01462655, 0.01537127, 0.00801902,\n",
       "       0.00829825, 0.00534697, 0.00579844, 0.00631838, 0.00602713,\n",
       "       0.01701269, 0.01685643, 0.00808034, 0.00781674, 0.00564876,\n",
       "       0.00599885, 0.00699811, 0.00719504, 0.01833062, 0.02091489,\n",
       "       0.00944109, 0.00872531, 0.00539246, 0.00538936, 0.00727963,\n",
       "       0.0060492 , 0.01510186, 0.01541376, 0.00727181, 0.00883269,\n",
       "       0.00530047, 0.00500579, 0.00706491, 0.00659881, 0.01481638,\n",
       "       0.01486754, 0.00711617, 0.00673256, 0.00563726, 0.00571213,\n",
       "       0.0063962 , 0.00650139, 0.01858163, 0.01495571, 0.00857825,\n",
       "       0.00781555, 0.00570431, 0.00595212, 0.00602598, 0.00640473,\n",
       "       0.01648602, 0.0140461 , 0.00721054, 0.00687876, 0.00543404,\n",
       "       0.00565929, 0.00642629, 0.00620041, 0.01420836, 0.01505899,\n",
       "       0.00774336, 0.00774841, 0.00545096, 0.00551596, 0.0071342 ,\n",
       "       0.00703535, 0.01494083, 0.01522746, 0.00786142, 0.00825391,\n",
       "       0.00503793, 0.00498633, 0.00610695, 0.00603728, 0.01475248,\n",
       "       0.01505127, 0.00741091, 0.00692983, 0.00528831, 0.00519915,\n",
       "       0.00691681, 0.00688825, 0.01538239, 0.01630621, 0.00836644,\n",
       "       0.00677214])), ('std_score_time', array([1.11746178e-03, 6.28717693e-04, 3.32965954e-04, 5.08138685e-04,\n",
       "       8.06087545e-04, 4.44101319e-04, 4.05149360e-04, 4.87695315e-04,\n",
       "       2.78041069e-04, 4.67433312e-04, 3.70309263e-04, 4.07304157e-04,\n",
       "       3.52565520e-04, 4.38922981e-04, 3.84377484e-05, 4.78307070e-04,\n",
       "       4.36213291e-04, 7.39492274e-04, 3.93446381e-04, 8.95558834e-05,\n",
       "       2.55429159e-03, 7.71428254e-04, 5.13710518e-04, 3.83415517e-04,\n",
       "       7.54388930e-04, 6.28749384e-04, 1.89289337e-05, 7.35417176e-04,\n",
       "       1.65474918e-03, 3.67021659e-03, 1.12321700e-03, 4.97627121e-04,\n",
       "       4.95864348e-04, 4.90851677e-04, 4.95678201e-04, 1.22525662e-04,\n",
       "       7.07652504e-04, 4.10514258e-04, 3.78992003e-04, 1.76246829e-03,\n",
       "       4.30203858e-04, 5.77248385e-04, 1.01129124e-04, 3.75384086e-04,\n",
       "       5.88587643e-04, 4.78279983e-04, 6.48766256e-04, 4.25020332e-04,\n",
       "       4.52570656e-04, 4.51372014e-04, 4.83616572e-04, 4.42329538e-04,\n",
       "       3.99445990e-03, 3.69695923e-04, 4.91429620e-04, 7.61541612e-04,\n",
       "       7.61292671e-04, 5.38678360e-04, 6.04991650e-04, 5.93935597e-04,\n",
       "       2.44387742e-03, 1.29318694e-04, 4.02014743e-04, 4.19431033e-04,\n",
       "       9.68121063e-04, 4.29228840e-04, 5.68693263e-04, 2.09065586e-04,\n",
       "       2.62775410e-04, 5.49361749e-04, 8.83740355e-04, 8.08381380e-04,\n",
       "       7.90673872e-04, 4.49309680e-04, 6.79461947e-04, 1.32984252e-03,\n",
       "       5.99101982e-04, 7.36649992e-04, 7.46260564e-04, 1.38225899e-03,\n",
       "       5.33956706e-05, 6.31408744e-06, 1.69393379e-04, 7.33091810e-05,\n",
       "       6.15832090e-04, 1.03222025e-03, 4.73387557e-04, 2.51108822e-04,\n",
       "       3.63766483e-04, 3.06836075e-04, 1.62178368e-03, 8.11671541e-04,\n",
       "       6.49853714e-04, 1.48961709e-03, 2.09924175e-03, 3.63565854e-04])), ('param_C', masked_array(data=[0.1, 0.1, 0.1, 0.1, 0.1, 0.1, 0.1, 0.1, 0.1, 0.1, 0.1,\n",
       "                   0.1, 0.1, 0.1, 0.1, 0.1, 1, 1, 1, 1, 1, 1, 1, 1, 1, 1,\n",
       "                   1, 1, 1, 1, 1, 1, 5, 5, 5, 5, 5, 5, 5, 5, 5, 5, 5, 5,\n",
       "                   5, 5, 5, 5, 10, 10, 10, 10, 10, 10, 10, 10, 10, 10, 10,\n",
       "                   10, 10, 10, 10, 10, 20, 20, 20, 20, 20, 20, 20, 20, 20,\n",
       "                   20, 20, 20, 20, 20, 20, 20, 50, 50, 50, 50, 50, 50, 50,\n",
       "                   50, 50, 50, 50, 50, 50, 50, 50, 50],\n",
       "             mask=[False, False, False, False, False, False, False, False,\n",
       "                   False, False, False, False, False, False, False, False,\n",
       "                   False, False, False, False, False, False, False, False,\n",
       "                   False, False, False, False, False, False, False, False,\n",
       "                   False, False, False, False, False, False, False, False,\n",
       "                   False, False, False, False, False, False, False, False,\n",
       "                   False, False, False, False, False, False, False, False,\n",
       "                   False, False, False, False, False, False, False, False,\n",
       "                   False, False, False, False, False, False, False, False,\n",
       "                   False, False, False, False, False, False, False, False,\n",
       "                   False, False, False, False, False, False, False, False,\n",
       "                   False, False, False, False, False, False, False, False],\n",
       "       fill_value='?',\n",
       "            dtype=object)), ('param_gamma', masked_array(data=['scale', 'scale', 'scale', 'scale', 'scale', 'scale',\n",
       "                   'scale', 'scale', 'auto', 'auto', 'auto', 'auto',\n",
       "                   'auto', 'auto', 'auto', 'auto', 'scale', 'scale',\n",
       "                   'scale', 'scale', 'scale', 'scale', 'scale', 'scale',\n",
       "                   'auto', 'auto', 'auto', 'auto', 'auto', 'auto', 'auto',\n",
       "                   'auto', 'scale', 'scale', 'scale', 'scale', 'scale',\n",
       "                   'scale', 'scale', 'scale', 'auto', 'auto', 'auto',\n",
       "                   'auto', 'auto', 'auto', 'auto', 'auto', 'scale',\n",
       "                   'scale', 'scale', 'scale', 'scale', 'scale', 'scale',\n",
       "                   'scale', 'auto', 'auto', 'auto', 'auto', 'auto',\n",
       "                   'auto', 'auto', 'auto', 'scale', 'scale', 'scale',\n",
       "                   'scale', 'scale', 'scale', 'scale', 'scale', 'auto',\n",
       "                   'auto', 'auto', 'auto', 'auto', 'auto', 'auto', 'auto',\n",
       "                   'scale', 'scale', 'scale', 'scale', 'scale', 'scale',\n",
       "                   'scale', 'scale', 'auto', 'auto', 'auto', 'auto',\n",
       "                   'auto', 'auto', 'auto', 'auto'],\n",
       "             mask=[False, False, False, False, False, False, False, False,\n",
       "                   False, False, False, False, False, False, False, False,\n",
       "                   False, False, False, False, False, False, False, False,\n",
       "                   False, False, False, False, False, False, False, False,\n",
       "                   False, False, False, False, False, False, False, False,\n",
       "                   False, False, False, False, False, False, False, False,\n",
       "                   False, False, False, False, False, False, False, False,\n",
       "                   False, False, False, False, False, False, False, False,\n",
       "                   False, False, False, False, False, False, False, False,\n",
       "                   False, False, False, False, False, False, False, False,\n",
       "                   False, False, False, False, False, False, False, False,\n",
       "                   False, False, False, False, False, False, False, False],\n",
       "       fill_value='?',\n",
       "            dtype=object)), ('param_kernel', masked_array(data=['linear', 'linear', 'poly', 'poly', 'rbf', 'rbf',\n",
       "                   'sigmoid', 'sigmoid', 'linear', 'linear', 'poly',\n",
       "                   'poly', 'rbf', 'rbf', 'sigmoid', 'sigmoid', 'linear',\n",
       "                   'linear', 'poly', 'poly', 'rbf', 'rbf', 'sigmoid',\n",
       "                   'sigmoid', 'linear', 'linear', 'poly', 'poly', 'rbf',\n",
       "                   'rbf', 'sigmoid', 'sigmoid', 'linear', 'linear',\n",
       "                   'poly', 'poly', 'rbf', 'rbf', 'sigmoid', 'sigmoid',\n",
       "                   'linear', 'linear', 'poly', 'poly', 'rbf', 'rbf',\n",
       "                   'sigmoid', 'sigmoid', 'linear', 'linear', 'poly',\n",
       "                   'poly', 'rbf', 'rbf', 'sigmoid', 'sigmoid', 'linear',\n",
       "                   'linear', 'poly', 'poly', 'rbf', 'rbf', 'sigmoid',\n",
       "                   'sigmoid', 'linear', 'linear', 'poly', 'poly', 'rbf',\n",
       "                   'rbf', 'sigmoid', 'sigmoid', 'linear', 'linear',\n",
       "                   'poly', 'poly', 'rbf', 'rbf', 'sigmoid', 'sigmoid',\n",
       "                   'linear', 'linear', 'poly', 'poly', 'rbf', 'rbf',\n",
       "                   'sigmoid', 'sigmoid', 'linear', 'linear', 'poly',\n",
       "                   'poly', 'rbf', 'rbf', 'sigmoid', 'sigmoid'],\n",
       "             mask=[False, False, False, False, False, False, False, False,\n",
       "                   False, False, False, False, False, False, False, False,\n",
       "                   False, False, False, False, False, False, False, False,\n",
       "                   False, False, False, False, False, False, False, False,\n",
       "                   False, False, False, False, False, False, False, False,\n",
       "                   False, False, False, False, False, False, False, False,\n",
       "                   False, False, False, False, False, False, False, False,\n",
       "                   False, False, False, False, False, False, False, False,\n",
       "                   False, False, False, False, False, False, False, False,\n",
       "                   False, False, False, False, False, False, False, False,\n",
       "                   False, False, False, False, False, False, False, False,\n",
       "                   False, False, False, False, False, False, False, False],\n",
       "       fill_value='?',\n",
       "            dtype=object)), ('param_shrinking', masked_array(data=[True, False, True, False, True, False, True, False,\n",
       "                   True, False, True, False, True, False, True, False,\n",
       "                   True, False, True, False, True, False, True, False,\n",
       "                   True, False, True, False, True, False, True, False,\n",
       "                   True, False, True, False, True, False, True, False,\n",
       "                   True, False, True, False, True, False, True, False,\n",
       "                   True, False, True, False, True, False, True, False,\n",
       "                   True, False, True, False, True, False, True, False,\n",
       "                   True, False, True, False, True, False, True, False,\n",
       "                   True, False, True, False, True, False, True, False,\n",
       "                   True, False, True, False, True, False, True, False,\n",
       "                   True, False, True, False, True, False, True, False],\n",
       "             mask=[False, False, False, False, False, False, False, False,\n",
       "                   False, False, False, False, False, False, False, False,\n",
       "                   False, False, False, False, False, False, False, False,\n",
       "                   False, False, False, False, False, False, False, False,\n",
       "                   False, False, False, False, False, False, False, False,\n",
       "                   False, False, False, False, False, False, False, False,\n",
       "                   False, False, False, False, False, False, False, False,\n",
       "                   False, False, False, False, False, False, False, False,\n",
       "                   False, False, False, False, False, False, False, False,\n",
       "                   False, False, False, False, False, False, False, False,\n",
       "                   False, False, False, False, False, False, False, False,\n",
       "                   False, False, False, False, False, False, False, False],\n",
       "       fill_value='?',\n",
       "            dtype=object)), ('params', [{'C': 0.1, 'gamma': 'scale', 'kernel': 'linear', 'shrinking': True}, {'C': 0.1, 'gamma': 'scale', 'kernel': 'linear', 'shrinking': False}, {'C': 0.1, 'gamma': 'scale', 'kernel': 'poly', 'shrinking': True}, {'C': 0.1, 'gamma': 'scale', 'kernel': 'poly', 'shrinking': False}, {'C': 0.1, 'gamma': 'scale', 'kernel': 'rbf', 'shrinking': True}, {'C': 0.1, 'gamma': 'scale', 'kernel': 'rbf', 'shrinking': False}, {'C': 0.1, 'gamma': 'scale', 'kernel': 'sigmoid', 'shrinking': True}, {'C': 0.1, 'gamma': 'scale', 'kernel': 'sigmoid', 'shrinking': False}, {'C': 0.1, 'gamma': 'auto', 'kernel': 'linear', 'shrinking': True}, {'C': 0.1, 'gamma': 'auto', 'kernel': 'linear', 'shrinking': False}, {'C': 0.1, 'gamma': 'auto', 'kernel': 'poly', 'shrinking': True}, {'C': 0.1, 'gamma': 'auto', 'kernel': 'poly', 'shrinking': False}, {'C': 0.1, 'gamma': 'auto', 'kernel': 'rbf', 'shrinking': True}, {'C': 0.1, 'gamma': 'auto', 'kernel': 'rbf', 'shrinking': False}, {'C': 0.1, 'gamma': 'auto', 'kernel': 'sigmoid', 'shrinking': True}, {'C': 0.1, 'gamma': 'auto', 'kernel': 'sigmoid', 'shrinking': False}, {'C': 1, 'gamma': 'scale', 'kernel': 'linear', 'shrinking': True}, {'C': 1, 'gamma': 'scale', 'kernel': 'linear', 'shrinking': False}, {'C': 1, 'gamma': 'scale', 'kernel': 'poly', 'shrinking': True}, {'C': 1, 'gamma': 'scale', 'kernel': 'poly', 'shrinking': False}, {'C': 1, 'gamma': 'scale', 'kernel': 'rbf', 'shrinking': True}, {'C': 1, 'gamma': 'scale', 'kernel': 'rbf', 'shrinking': False}, {'C': 1, 'gamma': 'scale', 'kernel': 'sigmoid', 'shrinking': True}, {'C': 1, 'gamma': 'scale', 'kernel': 'sigmoid', 'shrinking': False}, {'C': 1, 'gamma': 'auto', 'kernel': 'linear', 'shrinking': True}, {'C': 1, 'gamma': 'auto', 'kernel': 'linear', 'shrinking': False}, {'C': 1, 'gamma': 'auto', 'kernel': 'poly', 'shrinking': True}, {'C': 1, 'gamma': 'auto', 'kernel': 'poly', 'shrinking': False}, {'C': 1, 'gamma': 'auto', 'kernel': 'rbf', 'shrinking': True}, {'C': 1, 'gamma': 'auto', 'kernel': 'rbf', 'shrinking': False}, {'C': 1, 'gamma': 'auto', 'kernel': 'sigmoid', 'shrinking': True}, {'C': 1, 'gamma': 'auto', 'kernel': 'sigmoid', 'shrinking': False}, {'C': 5, 'gamma': 'scale', 'kernel': 'linear', 'shrinking': True}, {'C': 5, 'gamma': 'scale', 'kernel': 'linear', 'shrinking': False}, {'C': 5, 'gamma': 'scale', 'kernel': 'poly', 'shrinking': True}, {'C': 5, 'gamma': 'scale', 'kernel': 'poly', 'shrinking': False}, {'C': 5, 'gamma': 'scale', 'kernel': 'rbf', 'shrinking': True}, {'C': 5, 'gamma': 'scale', 'kernel': 'rbf', 'shrinking': False}, {'C': 5, 'gamma': 'scale', 'kernel': 'sigmoid', 'shrinking': True}, {'C': 5, 'gamma': 'scale', 'kernel': 'sigmoid', 'shrinking': False}, {'C': 5, 'gamma': 'auto', 'kernel': 'linear', 'shrinking': True}, {'C': 5, 'gamma': 'auto', 'kernel': 'linear', 'shrinking': False}, {'C': 5, 'gamma': 'auto', 'kernel': 'poly', 'shrinking': True}, {'C': 5, 'gamma': 'auto', 'kernel': 'poly', 'shrinking': False}, {'C': 5, 'gamma': 'auto', 'kernel': 'rbf', 'shrinking': True}, {'C': 5, 'gamma': 'auto', 'kernel': 'rbf', 'shrinking': False}, {'C': 5, 'gamma': 'auto', 'kernel': 'sigmoid', 'shrinking': True}, {'C': 5, 'gamma': 'auto', 'kernel': 'sigmoid', 'shrinking': False}, {'C': 10, 'gamma': 'scale', 'kernel': 'linear', 'shrinking': True}, {'C': 10, 'gamma': 'scale', 'kernel': 'linear', 'shrinking': False}, {'C': 10, 'gamma': 'scale', 'kernel': 'poly', 'shrinking': True}, {'C': 10, 'gamma': 'scale', 'kernel': 'poly', 'shrinking': False}, {'C': 10, 'gamma': 'scale', 'kernel': 'rbf', 'shrinking': True}, {'C': 10, 'gamma': 'scale', 'kernel': 'rbf', 'shrinking': False}, {'C': 10, 'gamma': 'scale', 'kernel': 'sigmoid', 'shrinking': True}, {'C': 10, 'gamma': 'scale', 'kernel': 'sigmoid', 'shrinking': False}, {'C': 10, 'gamma': 'auto', 'kernel': 'linear', 'shrinking': True}, {'C': 10, 'gamma': 'auto', 'kernel': 'linear', 'shrinking': False}, {'C': 10, 'gamma': 'auto', 'kernel': 'poly', 'shrinking': True}, {'C': 10, 'gamma': 'auto', 'kernel': 'poly', 'shrinking': False}, {'C': 10, 'gamma': 'auto', 'kernel': 'rbf', 'shrinking': True}, {'C': 10, 'gamma': 'auto', 'kernel': 'rbf', 'shrinking': False}, {'C': 10, 'gamma': 'auto', 'kernel': 'sigmoid', 'shrinking': True}, {'C': 10, 'gamma': 'auto', 'kernel': 'sigmoid', 'shrinking': False}, {'C': 20, 'gamma': 'scale', 'kernel': 'linear', 'shrinking': True}, {'C': 20, 'gamma': 'scale', 'kernel': 'linear', 'shrinking': False}, {'C': 20, 'gamma': 'scale', 'kernel': 'poly', 'shrinking': True}, {'C': 20, 'gamma': 'scale', 'kernel': 'poly', 'shrinking': False}, {'C': 20, 'gamma': 'scale', 'kernel': 'rbf', 'shrinking': True}, {'C': 20, 'gamma': 'scale', 'kernel': 'rbf', 'shrinking': False}, {'C': 20, 'gamma': 'scale', 'kernel': 'sigmoid', 'shrinking': True}, {'C': 20, 'gamma': 'scale', 'kernel': 'sigmoid', 'shrinking': False}, {'C': 20, 'gamma': 'auto', 'kernel': 'linear', 'shrinking': True}, {'C': 20, 'gamma': 'auto', 'kernel': 'linear', 'shrinking': False}, {'C': 20, 'gamma': 'auto', 'kernel': 'poly', 'shrinking': True}, {'C': 20, 'gamma': 'auto', 'kernel': 'poly', 'shrinking': False}, {'C': 20, 'gamma': 'auto', 'kernel': 'rbf', 'shrinking': True}, {'C': 20, 'gamma': 'auto', 'kernel': 'rbf', 'shrinking': False}, {'C': 20, 'gamma': 'auto', 'kernel': 'sigmoid', 'shrinking': True}, {'C': 20, 'gamma': 'auto', 'kernel': 'sigmoid', 'shrinking': False}, {'C': 50, 'gamma': 'scale', 'kernel': 'linear', 'shrinking': True}, {'C': 50, 'gamma': 'scale', 'kernel': 'linear', 'shrinking': False}, {'C': 50, 'gamma': 'scale', 'kernel': 'poly', 'shrinking': True}, {'C': 50, 'gamma': 'scale', 'kernel': 'poly', 'shrinking': False}, {'C': 50, 'gamma': 'scale', 'kernel': 'rbf', 'shrinking': True}, {'C': 50, 'gamma': 'scale', 'kernel': 'rbf', 'shrinking': False}, {'C': 50, 'gamma': 'scale', 'kernel': 'sigmoid', 'shrinking': True}, {'C': 50, 'gamma': 'scale', 'kernel': 'sigmoid', 'shrinking': False}, {'C': 50, 'gamma': 'auto', 'kernel': 'linear', 'shrinking': True}, {'C': 50, 'gamma': 'auto', 'kernel': 'linear', 'shrinking': False}, {'C': 50, 'gamma': 'auto', 'kernel': 'poly', 'shrinking': True}, {'C': 50, 'gamma': 'auto', 'kernel': 'poly', 'shrinking': False}, {'C': 50, 'gamma': 'auto', 'kernel': 'rbf', 'shrinking': True}, {'C': 50, 'gamma': 'auto', 'kernel': 'rbf', 'shrinking': False}, {'C': 50, 'gamma': 'auto', 'kernel': 'sigmoid', 'shrinking': True}, {'C': 50, 'gamma': 'auto', 'kernel': 'sigmoid', 'shrinking': False}]), ('split0_test_score', array([0.57803468, 0.57803468, 0.24277457, 0.24277457, 0.42196532,\n",
       "       0.42196532, 0.49710983, 0.49710983, 0.57803468, 0.57803468,\n",
       "       0.23699422, 0.23699422, 0.42196532, 0.42196532, 0.49710983,\n",
       "       0.49710983, 0.59537572, 0.59537572, 0.44508671, 0.44508671,\n",
       "       0.59537572, 0.59537572, 0.47398844, 0.47398844, 0.59537572,\n",
       "       0.59537572, 0.43352601, 0.43352601, 0.59537572, 0.59537572,\n",
       "       0.48554913, 0.48554913, 0.55491329, 0.55491329, 0.58381503,\n",
       "       0.58381503, 0.67052023, 0.67052023, 0.46242775, 0.46242775,\n",
       "       0.55491329, 0.55491329, 0.58381503, 0.58381503, 0.67630058,\n",
       "       0.67630058, 0.4566474 , 0.4566474 , 0.56069364, 0.56069364,\n",
       "       0.61271676, 0.61271676, 0.63583815, 0.63583815, 0.38728324,\n",
       "       0.38728324, 0.56069364, 0.56069364, 0.61271676, 0.61271676,\n",
       "       0.63583815, 0.63583815, 0.38728324, 0.38728324, 0.56069364,\n",
       "       0.56069364, 0.62427746, 0.62427746, 0.6416185 , 0.6416185 ,\n",
       "       0.39306358, 0.39306358, 0.56069364, 0.56069364, 0.62427746,\n",
       "       0.62427746, 0.6416185 , 0.6416185 , 0.38728324, 0.38728324,\n",
       "       0.56069364, 0.56069364, 0.62427746, 0.62427746, 0.6416185 ,\n",
       "       0.6416185 , 0.41040462, 0.41040462, 0.56069364, 0.56069364,\n",
       "       0.63583815, 0.63583815, 0.6416185 , 0.6416185 , 0.43930636,\n",
       "       0.43930636])), ('split1_test_score', array([0.60115607, 0.60115607, 0.28323699, 0.28323699, 0.43930636,\n",
       "       0.43930636, 0.44508671, 0.44508671, 0.60115607, 0.60115607,\n",
       "       0.27745665, 0.27745665, 0.43352601, 0.43352601, 0.43930636,\n",
       "       0.43930636, 0.60115607, 0.60115607, 0.4566474 , 0.4566474 ,\n",
       "       0.56647399, 0.56647399, 0.46820809, 0.46820809, 0.60115607,\n",
       "       0.60115607, 0.4566474 , 0.4566474 , 0.57225434, 0.57225434,\n",
       "       0.50867052, 0.50867052, 0.57225434, 0.57225434, 0.54913295,\n",
       "       0.54913295, 0.66473988, 0.66473988, 0.47398844, 0.47398844,\n",
       "       0.57225434, 0.57225434, 0.5433526 , 0.5433526 , 0.66473988,\n",
       "       0.66473988, 0.39884393, 0.39884393, 0.57803468, 0.57803468,\n",
       "       0.56647399, 0.56647399, 0.67630058, 0.67630058, 0.39306358,\n",
       "       0.39306358, 0.57803468, 0.57803468, 0.54913295, 0.54913295,\n",
       "       0.67630058, 0.67630058, 0.40462428, 0.40462428, 0.57803468,\n",
       "       0.57803468, 0.58381503, 0.58381503, 0.67052023, 0.67052023,\n",
       "       0.40462428, 0.40462428, 0.57803468, 0.57803468, 0.58959538,\n",
       "       0.58959538, 0.67052023, 0.67052023, 0.39884393, 0.39884393,\n",
       "       0.57803468, 0.57803468, 0.57803468, 0.57803468, 0.67630058,\n",
       "       0.67630058, 0.33526012, 0.34682081, 0.57803468, 0.57803468,\n",
       "       0.57803468, 0.57803468, 0.67630058, 0.67630058, 0.38150289,\n",
       "       0.38150289])), ('split2_test_score', array([0.57225434, 0.57225434, 0.23699422, 0.23699422, 0.41618497,\n",
       "       0.41618497, 0.37572254, 0.37572254, 0.57225434, 0.57225434,\n",
       "       0.24277457, 0.24277457, 0.41618497, 0.41618497, 0.37572254,\n",
       "       0.37572254, 0.57803468, 0.57803468, 0.38150289, 0.38150289,\n",
       "       0.56069364, 0.56069364, 0.41040462, 0.41040462, 0.57803468,\n",
       "       0.57803468, 0.38728324, 0.38728324, 0.55491329, 0.55491329,\n",
       "       0.41040462, 0.41040462, 0.53179191, 0.53179191, 0.50867052,\n",
       "       0.50867052, 0.67630058, 0.67630058, 0.42196532, 0.42196532,\n",
       "       0.53179191, 0.53179191, 0.50867052, 0.50867052, 0.67052023,\n",
       "       0.67052023, 0.39884393, 0.39884393, 0.52601156, 0.52601156,\n",
       "       0.57803468, 0.57803468, 0.65317919, 0.65317919, 0.3583815 ,\n",
       "       0.3583815 , 0.52601156, 0.52601156, 0.58959538, 0.58959538,\n",
       "       0.65317919, 0.65317919, 0.35260116, 0.35260116, 0.52023121,\n",
       "       0.52023121, 0.58959538, 0.58959538, 0.6416185 , 0.6416185 ,\n",
       "       0.3583815 , 0.3583815 , 0.52023121, 0.52023121, 0.59537572,\n",
       "       0.59537572, 0.63583815, 0.63583815, 0.33526012, 0.33526012,\n",
       "       0.52023121, 0.52023121, 0.6416185 , 0.6416185 , 0.63583815,\n",
       "       0.63583815, 0.34682081, 0.34682081, 0.52023121, 0.52023121,\n",
       "       0.6300578 , 0.6300578 , 0.63583815, 0.63583815, 0.32947977,\n",
       "       0.32947977])), ('split3_test_score', array([0.52601156, 0.52601156, 0.24855491, 0.24855491, 0.40462428,\n",
       "       0.40462428, 0.38150289, 0.38150289, 0.52601156, 0.52601156,\n",
       "       0.24855491, 0.24855491, 0.40462428, 0.40462428, 0.38150289,\n",
       "       0.38150289, 0.51445087, 0.51445087, 0.38728324, 0.38728324,\n",
       "       0.54913295, 0.54913295, 0.42774566, 0.42774566, 0.51445087,\n",
       "       0.51445087, 0.38728324, 0.38728324, 0.54913295, 0.54913295,\n",
       "       0.42774566, 0.42774566, 0.53757225, 0.53757225, 0.47976879,\n",
       "       0.47976879, 0.56069364, 0.56069364, 0.38728324, 0.38728324,\n",
       "       0.53757225, 0.53757225, 0.48554913, 0.48554913, 0.56069364,\n",
       "       0.56069364, 0.39306358, 0.39306358, 0.56069364, 0.56069364,\n",
       "       0.51445087, 0.51445087, 0.56647399, 0.56647399, 0.37572254,\n",
       "       0.37572254, 0.56069364, 0.56069364, 0.51445087, 0.51445087,\n",
       "       0.56647399, 0.56647399, 0.3699422 , 0.3699422 , 0.55491329,\n",
       "       0.55491329, 0.50867052, 0.50867052, 0.56069364, 0.56069364,\n",
       "       0.3699422 , 0.3699422 , 0.55491329, 0.55491329, 0.50867052,\n",
       "       0.50867052, 0.56647399, 0.56647399, 0.3699422 , 0.3699422 ,\n",
       "       0.55491329, 0.55491329, 0.51445087, 0.51445087, 0.56069364,\n",
       "       0.56069364, 0.3699422 , 0.3699422 , 0.55491329, 0.55491329,\n",
       "       0.51445087, 0.51445087, 0.56647399, 0.56647399, 0.38728324,\n",
       "       0.38728324])), ('split4_test_score', array([0.56976744, 0.56976744, 0.25581395, 0.25581395, 0.45348837,\n",
       "       0.45348837, 0.41860465, 0.41860465, 0.56976744, 0.56976744,\n",
       "       0.26162791, 0.26162791, 0.45348837, 0.45348837, 0.4127907 ,\n",
       "       0.4127907 , 0.55232558, 0.55232558, 0.4244186 , 0.4244186 ,\n",
       "       0.56395349, 0.56395349, 0.45930233, 0.45930233, 0.55232558,\n",
       "       0.55232558, 0.43023256, 0.43023256, 0.56395349, 0.56395349,\n",
       "       0.45930233, 0.45930233, 0.5872093 , 0.5872093 , 0.59302326,\n",
       "       0.59302326, 0.6627907 , 0.6627907 , 0.44767442, 0.44767442,\n",
       "       0.5872093 , 0.5872093 , 0.59883721, 0.59883721, 0.65697674,\n",
       "       0.65697674, 0.44767442, 0.44767442, 0.5755814 , 0.5755814 ,\n",
       "       0.62790698, 0.62790698, 0.66860465, 0.66860465, 0.43023256,\n",
       "       0.43023256, 0.5755814 , 0.5755814 , 0.62790698, 0.62790698,\n",
       "       0.66860465, 0.66860465, 0.43604651, 0.43604651, 0.58139535,\n",
       "       0.58139535, 0.62209302, 0.62209302, 0.66860465, 0.66860465,\n",
       "       0.41860465, 0.41860465, 0.58139535, 0.58139535, 0.62209302,\n",
       "       0.62209302, 0.66860465, 0.66860465, 0.40697674, 0.4127907 ,\n",
       "       0.58139535, 0.58139535, 0.63372093, 0.63372093, 0.66860465,\n",
       "       0.66860465, 0.4127907 , 0.4127907 , 0.58139535, 0.58139535,\n",
       "       0.62790698, 0.62790698, 0.66860465, 0.66860465, 0.43023256,\n",
       "       0.43023256])), ('mean_test_score', array([0.56944482, 0.56944482, 0.25347493, 0.25347493, 0.42711386,\n",
       "       0.42711386, 0.42360532, 0.42360532, 0.56944482, 0.56944482,\n",
       "       0.25348165, 0.25348165, 0.42595779, 0.42595779, 0.42128646,\n",
       "       0.42128646, 0.56826858, 0.56826858, 0.41898777, 0.41898777,\n",
       "       0.56712596, 0.56712596, 0.44792983, 0.44792983, 0.56826858,\n",
       "       0.56826858, 0.41899449, 0.41899449, 0.56712596, 0.56712596,\n",
       "       0.45833445, 0.45833445, 0.55674822, 0.55674822, 0.54288211,\n",
       "       0.54288211, 0.64700901, 0.64700901, 0.43866783, 0.43866783,\n",
       "       0.55674822, 0.55674822, 0.5440449 , 0.5440449 , 0.64584622,\n",
       "       0.64584622, 0.41901465, 0.41901465, 0.56020298, 0.56020298,\n",
       "       0.57991666, 0.57991666, 0.64007931, 0.64007931, 0.38893669,\n",
       "       0.38893669, 0.56020298, 0.56020298, 0.57876059, 0.57876059,\n",
       "       0.64007931, 0.64007931, 0.39009948, 0.39009948, 0.55905364,\n",
       "       0.55905364, 0.58569028, 0.58569028, 0.6366111 , 0.6366111 ,\n",
       "       0.38892324, 0.38892324, 0.55905364, 0.55905364, 0.58800242,\n",
       "       0.58800242, 0.6366111 , 0.6366111 , 0.37966124, 0.38082404,\n",
       "       0.55905364, 0.55905364, 0.59842049, 0.59842049, 0.6366111 ,\n",
       "       0.6366111 , 0.37504369, 0.37735583, 0.55905364, 0.55905364,\n",
       "       0.5972577 , 0.5972577 , 0.63776717, 0.63776717, 0.39356096,\n",
       "       0.39356096])), ('std_test_score', array([0.02438784, 0.02438784, 0.01613425, 0.01613425, 0.01729741,\n",
       "       0.01729741, 0.04462005, 0.04462005, 0.02438784, 0.02438784,\n",
       "       0.01450456, 0.01450456, 0.01662394, 0.01662394, 0.04428291,\n",
       "       0.04428291, 0.03181913, 0.03181913, 0.03013035, 0.03013035,\n",
       "       0.01532098, 0.01532098, 0.02463792, 0.02463792, 0.03181913,\n",
       "       0.03181913, 0.02744598, 0.02744598, 0.0161698 , 0.0161698 ,\n",
       "       0.03607835, 0.03607835, 0.02079528, 0.02079528, 0.04331844,\n",
       "       0.04331844, 0.04341558, 0.04341558, 0.03102434, 0.03102434,\n",
       "       0.02079528, 0.02079528, 0.04302892, 0.04302892, 0.04305368,\n",
       "       0.04305368, 0.02729388, 0.02729388, 0.01856879, 0.01856879,\n",
       "       0.03962054, 0.03962054, 0.03932687, 0.03932687, 0.02380482,\n",
       "       0.02380482, 0.01856879, 0.01856879, 0.04171168, 0.04171168,\n",
       "       0.03932687, 0.03932687, 0.02878358, 0.02878358, 0.02184694,\n",
       "       0.02184694, 0.0418687 , 0.0418687 , 0.03996755, 0.03996755,\n",
       "       0.02208044, 0.02208044, 0.02184694, 0.02184694, 0.04202024,\n",
       "       0.04202024, 0.03773143, 0.03773143, 0.02544848, 0.0267686 ,\n",
       "       0.02184694, 0.02184694, 0.04742837, 0.04742837, 0.04095845,\n",
       "       0.04095845, 0.03187639, 0.02921503, 0.02184694, 0.02184694,\n",
       "       0.04632531, 0.04632531, 0.03882537, 0.03882537, 0.03931578,\n",
       "       0.03931578])), ('rank_test_score', array([29, 29, 95, 95, 67, 67, 71, 71, 29, 29, 93, 93, 69, 69, 73, 73, 33,\n",
       "       33, 79, 79, 37, 37, 63, 63, 33, 33, 77, 77, 37, 37, 61, 61, 53, 53,\n",
       "       59, 59,  1,  1, 65, 65, 53, 53, 57, 57,  3,  3, 75, 75, 41, 41, 25,\n",
       "       25,  5,  5, 85, 85, 41, 41, 27, 27,  5,  5, 83, 83, 45, 45, 23, 23,\n",
       "       11, 11, 87, 87, 45, 45, 21, 21, 11, 11, 90, 89, 45, 45, 17, 17, 11,\n",
       "       11, 92, 91, 45, 45, 19, 19,  9,  9, 81, 81]))])"
      ]
     },
     "execution_count": 50,
     "metadata": {},
     "output_type": "execute_result"
    }
   ],
   "source": [
    "parametrised_svc.cv_results_.items()"
   ]
  },
  {
   "cell_type": "code",
   "execution_count": 51,
   "metadata": {},
   "outputs": [
    {
     "data": {
      "text/plain": [
       "{'C': 5, 'gamma': 'scale', 'kernel': 'rbf', 'shrinking': True}"
      ]
     },
     "execution_count": 51,
     "metadata": {},
     "output_type": "execute_result"
    }
   ],
   "source": [
    "optimised_svc = parametrised_svc.best_estimator_\n",
    "optimised_parameters = parametrised_svc.best_params_\n",
    "optimised_parameters"
   ]
  },
  {
   "cell_type": "code",
   "execution_count": 52,
   "metadata": {},
   "outputs": [],
   "source": [
    "initial_classifier_results[\"svc_optimised\"] = fit_predict_and_score_classifier(optimised_svc, *multi_class_parameters)"
   ]
  },
  {
   "cell_type": "code",
   "execution_count": 53,
   "metadata": {},
   "outputs": [
    {
     "name": "stderr",
     "output_type": "stream",
     "text": [
      "C:\\Users\\Matas\\AppData\\Local\\Temp\\ipykernel_25328\\2014226108.py:39: FutureWarning: The frame.append method is deprecated and will be removed from pandas in a future version. Use pandas.concat instead.\n",
      "  table = table.append(new_row, ignore_index=True)\n",
      "C:\\Users\\Matas\\AppData\\Local\\Temp\\ipykernel_25328\\2014226108.py:39: FutureWarning: The frame.append method is deprecated and will be removed from pandas in a future version. Use pandas.concat instead.\n",
      "  table = table.append(new_row, ignore_index=True)\n",
      "C:\\Users\\Matas\\AppData\\Local\\Temp\\ipykernel_25328\\2014226108.py:39: FutureWarning: The frame.append method is deprecated and will be removed from pandas in a future version. Use pandas.concat instead.\n",
      "  table = table.append(new_row, ignore_index=True)\n",
      "C:\\Users\\Matas\\AppData\\Local\\Temp\\ipykernel_25328\\2014226108.py:39: FutureWarning: The frame.append method is deprecated and will be removed from pandas in a future version. Use pandas.concat instead.\n",
      "  table = table.append(new_row, ignore_index=True)\n",
      "C:\\Users\\Matas\\AppData\\Local\\Temp\\ipykernel_25328\\2014226108.py:39: FutureWarning: The frame.append method is deprecated and will be removed from pandas in a future version. Use pandas.concat instead.\n",
      "  table = table.append(new_row, ignore_index=True)\n",
      "C:\\Users\\Matas\\AppData\\Local\\Temp\\ipykernel_25328\\2014226108.py:39: FutureWarning: The frame.append method is deprecated and will be removed from pandas in a future version. Use pandas.concat instead.\n",
      "  table = table.append(new_row, ignore_index=True)\n",
      "C:\\Users\\Matas\\AppData\\Local\\Temp\\ipykernel_25328\\2014226108.py:39: FutureWarning: The frame.append method is deprecated and will be removed from pandas in a future version. Use pandas.concat instead.\n",
      "  table = table.append(new_row, ignore_index=True)\n",
      "C:\\Users\\Matas\\AppData\\Local\\Temp\\ipykernel_25328\\2014226108.py:39: FutureWarning: The frame.append method is deprecated and will be removed from pandas in a future version. Use pandas.concat instead.\n",
      "  table = table.append(new_row, ignore_index=True)\n",
      "C:\\Users\\Matas\\AppData\\Local\\Temp\\ipykernel_25328\\2014226108.py:39: FutureWarning: The frame.append method is deprecated and will be removed from pandas in a future version. Use pandas.concat instead.\n",
      "  table = table.append(new_row, ignore_index=True)\n",
      "C:\\Users\\Matas\\AppData\\Local\\Temp\\ipykernel_25328\\2014226108.py:39: FutureWarning: The frame.append method is deprecated and will be removed from pandas in a future version. Use pandas.concat instead.\n",
      "  table = table.append(new_row, ignore_index=True)\n",
      "C:\\Users\\Matas\\AppData\\Local\\Temp\\ipykernel_25328\\2014226108.py:39: FutureWarning: The frame.append method is deprecated and will be removed from pandas in a future version. Use pandas.concat instead.\n",
      "  table = table.append(new_row, ignore_index=True)\n",
      "C:\\Users\\Matas\\AppData\\Local\\Temp\\ipykernel_25328\\2014226108.py:39: FutureWarning: The frame.append method is deprecated and will be removed from pandas in a future version. Use pandas.concat instead.\n",
      "  table = table.append(new_row, ignore_index=True)\n"
     ]
    },
    {
     "data": {
      "text/html": [
       "<div>\n",
       "<style scoped>\n",
       "    .dataframe tbody tr th:only-of-type {\n",
       "        vertical-align: middle;\n",
       "    }\n",
       "\n",
       "    .dataframe tbody tr th {\n",
       "        vertical-align: top;\n",
       "    }\n",
       "\n",
       "    .dataframe thead th {\n",
       "        text-align: right;\n",
       "    }\n",
       "</style>\n",
       "<table border=\"1\" class=\"dataframe\">\n",
       "  <thead>\n",
       "    <tr style=\"text-align: right;\">\n",
       "      <th></th>\n",
       "      <th>Classifier</th>\n",
       "      <th>Set type</th>\n",
       "      <th>predictions</th>\n",
       "      <th>accuracy</th>\n",
       "      <th>precision</th>\n",
       "      <th>recall</th>\n",
       "      <th>F1</th>\n",
       "    </tr>\n",
       "  </thead>\n",
       "  <tbody>\n",
       "    <tr>\n",
       "      <th>0</th>\n",
       "      <td>dummy_classifier_most_frequent</td>\n",
       "      <td>train</td>\n",
       "      <td>[calm, calm, calm, calm, calm, calm, calm, cal...</td>\n",
       "      <td>0.134259</td>\n",
       "      <td>0.891782</td>\n",
       "      <td>0.125000</td>\n",
       "      <td>0.029592</td>\n",
       "    </tr>\n",
       "    <tr>\n",
       "      <th>1</th>\n",
       "      <td>dummy_classifier_most_frequent</td>\n",
       "      <td>val</td>\n",
       "      <td>[calm, calm, calm, calm, calm, calm, calm, cal...</td>\n",
       "      <td>0.131944</td>\n",
       "      <td>0.891493</td>\n",
       "      <td>0.125000</td>\n",
       "      <td>0.029141</td>\n",
       "    </tr>\n",
       "    <tr>\n",
       "      <th>2</th>\n",
       "      <td>dummy_classifier_stratified</td>\n",
       "      <td>train</td>\n",
       "      <td>[sad, disgust, calm, fearful, fearful, sad, ne...</td>\n",
       "      <td>0.135417</td>\n",
       "      <td>0.127784</td>\n",
       "      <td>0.129207</td>\n",
       "      <td>0.127875</td>\n",
       "    </tr>\n",
       "    <tr>\n",
       "      <th>3</th>\n",
       "      <td>dummy_classifier_stratified</td>\n",
       "      <td>val</td>\n",
       "      <td>[fearful, sad, happy, calm, sad, disgust, disg...</td>\n",
       "      <td>0.114583</td>\n",
       "      <td>0.113764</td>\n",
       "      <td>0.113866</td>\n",
       "      <td>0.113394</td>\n",
       "    </tr>\n",
       "    <tr>\n",
       "      <th>4</th>\n",
       "      <td>logistic_regression</td>\n",
       "      <td>train</td>\n",
       "      <td>[surprised, fearful, neutral, sad, surprised, ...</td>\n",
       "      <td>0.822917</td>\n",
       "      <td>0.821884</td>\n",
       "      <td>0.819903</td>\n",
       "      <td>0.819967</td>\n",
       "    </tr>\n",
       "    <tr>\n",
       "      <th>5</th>\n",
       "      <td>logistic_regression</td>\n",
       "      <td>val</td>\n",
       "      <td>[fearful, calm, surprised, sad, sad, calm, neu...</td>\n",
       "      <td>0.586806</td>\n",
       "      <td>0.560562</td>\n",
       "      <td>0.563343</td>\n",
       "      <td>0.559951</td>\n",
       "    </tr>\n",
       "    <tr>\n",
       "      <th>6</th>\n",
       "      <td>svc</td>\n",
       "      <td>train</td>\n",
       "      <td>[disgust, fearful, neutral, sad, happy, surpri...</td>\n",
       "      <td>0.807870</td>\n",
       "      <td>0.812744</td>\n",
       "      <td>0.796130</td>\n",
       "      <td>0.800273</td>\n",
       "    </tr>\n",
       "    <tr>\n",
       "      <th>7</th>\n",
       "      <td>svc</td>\n",
       "      <td>val</td>\n",
       "      <td>[sad, calm, fearful, sad, fearful, calm, neutr...</td>\n",
       "      <td>0.600694</td>\n",
       "      <td>0.598798</td>\n",
       "      <td>0.590081</td>\n",
       "      <td>0.587499</td>\n",
       "    </tr>\n",
       "    <tr>\n",
       "      <th>8</th>\n",
       "      <td>svc_pruned</td>\n",
       "      <td>train</td>\n",
       "      <td>[disgust, fearful, neutral, sad, happy, surpri...</td>\n",
       "      <td>0.807870</td>\n",
       "      <td>0.812744</td>\n",
       "      <td>0.796130</td>\n",
       "      <td>0.800273</td>\n",
       "    </tr>\n",
       "    <tr>\n",
       "      <th>9</th>\n",
       "      <td>svc_pruned</td>\n",
       "      <td>val</td>\n",
       "      <td>[sad, calm, fearful, sad, fearful, calm, neutr...</td>\n",
       "      <td>0.600694</td>\n",
       "      <td>0.598798</td>\n",
       "      <td>0.590081</td>\n",
       "      <td>0.587499</td>\n",
       "    </tr>\n",
       "    <tr>\n",
       "      <th>10</th>\n",
       "      <td>svc_optimised</td>\n",
       "      <td>train</td>\n",
       "      <td>[angry, fearful, neutral, sad, happy, surprise...</td>\n",
       "      <td>0.973380</td>\n",
       "      <td>0.972980</td>\n",
       "      <td>0.969678</td>\n",
       "      <td>0.971168</td>\n",
       "    </tr>\n",
       "    <tr>\n",
       "      <th>11</th>\n",
       "      <td>svc_optimised</td>\n",
       "      <td>val</td>\n",
       "      <td>[sad, calm, surprised, sad, fearful, calm, neu...</td>\n",
       "      <td>0.652778</td>\n",
       "      <td>0.638996</td>\n",
       "      <td>0.631832</td>\n",
       "      <td>0.627893</td>\n",
       "    </tr>\n",
       "  </tbody>\n",
       "</table>\n",
       "</div>"
      ],
      "text/plain": [
       "                        Classifier Set type  \\\n",
       "0   dummy_classifier_most_frequent    train   \n",
       "1   dummy_classifier_most_frequent      val   \n",
       "2      dummy_classifier_stratified    train   \n",
       "3      dummy_classifier_stratified      val   \n",
       "4              logistic_regression    train   \n",
       "5              logistic_regression      val   \n",
       "6                              svc    train   \n",
       "7                              svc      val   \n",
       "8                       svc_pruned    train   \n",
       "9                       svc_pruned      val   \n",
       "10                   svc_optimised    train   \n",
       "11                   svc_optimised      val   \n",
       "\n",
       "                                          predictions  accuracy  precision  \\\n",
       "0   [calm, calm, calm, calm, calm, calm, calm, cal...  0.134259   0.891782   \n",
       "1   [calm, calm, calm, calm, calm, calm, calm, cal...  0.131944   0.891493   \n",
       "2   [sad, disgust, calm, fearful, fearful, sad, ne...  0.135417   0.127784   \n",
       "3   [fearful, sad, happy, calm, sad, disgust, disg...  0.114583   0.113764   \n",
       "4   [surprised, fearful, neutral, sad, surprised, ...  0.822917   0.821884   \n",
       "5   [fearful, calm, surprised, sad, sad, calm, neu...  0.586806   0.560562   \n",
       "6   [disgust, fearful, neutral, sad, happy, surpri...  0.807870   0.812744   \n",
       "7   [sad, calm, fearful, sad, fearful, calm, neutr...  0.600694   0.598798   \n",
       "8   [disgust, fearful, neutral, sad, happy, surpri...  0.807870   0.812744   \n",
       "9   [sad, calm, fearful, sad, fearful, calm, neutr...  0.600694   0.598798   \n",
       "10  [angry, fearful, neutral, sad, happy, surprise...  0.973380   0.972980   \n",
       "11  [sad, calm, surprised, sad, fearful, calm, neu...  0.652778   0.638996   \n",
       "\n",
       "      recall        F1  \n",
       "0   0.125000  0.029592  \n",
       "1   0.125000  0.029141  \n",
       "2   0.129207  0.127875  \n",
       "3   0.113866  0.113394  \n",
       "4   0.819903  0.819967  \n",
       "5   0.563343  0.559951  \n",
       "6   0.796130  0.800273  \n",
       "7   0.590081  0.587499  \n",
       "8   0.796130  0.800273  \n",
       "9   0.590081  0.587499  \n",
       "10  0.969678  0.971168  \n",
       "11  0.631832  0.627893  "
      ]
     },
     "metadata": {},
     "output_type": "display_data"
    }
   ],
   "source": [
    "post_optimisation_classifier_results_table = create_result_table(initial_classifier_results)\n",
    "display(post_optimisation_classifier_results_table)"
   ]
  },
  {
   "cell_type": "markdown",
   "metadata": {},
   "source": [
    "# Neural network section"
   ]
  },
  {
   "cell_type": "markdown",
   "metadata": {},
   "source": [
    "### Spectrogram creation"
   ]
  },
  {
   "cell_type": "code",
   "execution_count": 54,
   "metadata": {},
   "outputs": [],
   "source": [
    "# Taken from https://towardsdatascience.com/getting-to-know-the-mel-spectrogram-31bca3e2d9d0\n",
    "\n",
    "import librosa\n",
    "\n",
    "def pad_2d_arrays(arrays, length):\n",
    "    padded_arrays = []\n",
    "    for array in arrays:\n",
    "        padding = np.zeros((array.shape[0], length - array.shape[1]), )\n",
    "#         print(\"Merging: \", array.shape, padding.shape)\n",
    "        padded_array = np.concatenate((array, padding), axis=1)\n",
    "#         print(\"Result: \", padded_array.shape)\n",
    "        padded_arrays.append(padded_array)\n",
    "    return np.array(padded_arrays)\n",
    "\n",
    "def plot_mel_spectrogram(audio, sampling_rate, frameSize, hop_length, n_mels):\n",
    "    spectrogram = librosa.feature.melspectrogram(y=audio, sr=sampling_rate, n_fft=frameSize, hop_length=hop_length, n_mels=n_mels)\n",
    "#     db_spectrogram = librosa.power_to_db(spectrogram, ref=np.max)\n",
    "#     librosa.display.specshow(db_spectrogram, sr=sampling_rate, hop_length=hop_length, x_axis=\"time\", y_axis=\"mel\");\n",
    "#     plt.colorbar(format=\"%+2.0f dB\")\n",
    "    return spectrogram\n",
    "\n",
    "def produce_mel_spectrograms(files, hop_length=512, frameSize=2048, n_mels=128):\n",
    "    spectrograms = []\n",
    "    max_length= 0\n",
    "    \n",
    "    for file in files:\n",
    "        audio, sampling_rate = librosa.load(file)\n",
    "        audio, _ = librosa.effects.trim(audio)\n",
    "        spectrogram = plot_mel_spectrogram(audio, sampling_rate, hop_length, frameSize, n_mels)\n",
    "        spectrograms.append(spectrogram)\n",
    "        max_length = max(max_length, spectrogram.shape[1])\n",
    "        \n",
    "    padded_spectrograms = pad_2d_arrays(spectrograms, max_length)\n",
    "    \n",
    "    return padded_spectrograms"
   ]
  },
  {
   "cell_type": "code",
   "execution_count": 55,
   "metadata": {},
   "outputs": [
    {
     "data": {
      "text/plain": [
       "array([[[6.87795643e-09, 2.08520063e-07, 3.11235908e-07, ...,\n",
       "         6.37744191e-10, 4.61402259e-08, 1.85335733e-10],\n",
       "        [1.39425964e-08, 4.22699827e-07, 6.30919487e-07, ...,\n",
       "         1.29279820e-09, 9.35328046e-08, 3.75701914e-10],\n",
       "        [1.31659341e-08, 3.74125904e-07, 1.37876725e-07, ...,\n",
       "         1.03019870e-09, 9.59307442e-08, 1.99651309e-10],\n",
       "        ...,\n",
       "        [1.39809248e-10, 2.01874184e-09, 1.10767062e-09, ...,\n",
       "         2.47235427e-11, 2.22608529e-10, 7.33699733e-12],\n",
       "        [8.61807015e-11, 2.66195621e-10, 1.03274389e-09, ...,\n",
       "         8.05307470e-12, 1.38230122e-10, 1.39359418e-11],\n",
       "        [1.89220497e-11, 2.40337299e-11, 3.29592777e-11, ...,\n",
       "         1.94230222e-12, 6.43799597e-12, 2.38649812e-12]]])"
      ]
     },
     "execution_count": 55,
     "metadata": {},
     "output_type": "execute_result"
    }
   ],
   "source": [
    "produce_mel_spectrograms([files[0]])"
   ]
  },
  {
   "cell_type": "code",
   "execution_count": null,
   "metadata": {},
   "outputs": [],
   "source": [
    "spectrograms = produce_mel_spectrograms(files)"
   ]
  },
  {
   "cell_type": "code",
   "execution_count": null,
   "metadata": {},
   "outputs": [],
   "source": [
    "Counter([s.shape for s in spectrograms])"
   ]
  },
  {
   "cell_type": "code",
   "execution_count": null,
   "metadata": {},
   "outputs": [],
   "source": [
    "normalised_spectrograms=(spectrograms-spectrograms.mean())/spectrograms.std()"
   ]
  },
  {
   "cell_type": "code",
   "execution_count": null,
   "metadata": {},
   "outputs": [],
   "source": [
    "spectrograms_train_and_val, spectrograms_test, temp_train_and_val, temp_test = train_test_split(normalised_spectrograms, emotions, test_size=0.2, random_state=SEED, stratify=emotions)\n",
    "spectrograms_train, spectrograms_val, temp_train, temp_val = train_test_split(spectrograms_train_and_val, temp_train_and_val, test_size=0.25, random_state=SEED, stratify=temp_train_and_val)"
   ]
  },
  {
   "cell_type": "code",
   "execution_count": null,
   "metadata": {},
   "outputs": [],
   "source": [
    "spectrograms_train = np.expand_dims(spectrograms_train, axis=1) # <--- add channel axis\n",
    "spectrograms_val = np.expand_dims(spectrograms_val, axis=1) # <--- add channel axis\n",
    "spectrograms_test = np.expand_dims(spectrograms_test, axis=1) # <--- add channel axis"
   ]
  },
  {
   "cell_type": "code",
   "execution_count": null,
   "metadata": {},
   "outputs": [],
   "source": [
    "print(np.max(spectrograms))\n",
    "print(np.mean(spectrograms))"
   ]
  },
  {
   "cell_type": "code",
   "execution_count": null,
   "metadata": {},
   "outputs": [],
   "source": [
    "spectrograms_train.shape"
   ]
  },
  {
   "cell_type": "markdown",
   "metadata": {},
   "source": [
    "### Setting up DataSet and DataLoader"
   ]
  },
  {
   "cell_type": "code",
   "execution_count": null,
   "metadata": {},
   "outputs": [],
   "source": [
    "import torch\n",
    "import torch.nn.functional as F\n",
    "import datetime\n",
    "\n",
    "spectrograms_tensor_train = torch.from_numpy(spectrograms_train).float()\n",
    "spectrograms_tensor_val = torch.from_numpy(spectrograms_val).float()\n",
    "spectrograms_tensor_test = torch.from_numpy(spectrograms_test).float()\n",
    "\n",
    "emotions_tensor_train = torch.from_numpy(emotions_numeric_train).long()\n",
    "emotions_tensor_val = torch.from_numpy(emotions_numeric_val).long()\n",
    "emotions_tensor_test = torch.from_numpy(emotions_numeric_test).long()\n",
    "\n",
    "spectrogram_dimensions = spectrograms_tensor_train.size()[1:]"
   ]
  },
  {
   "cell_type": "code",
   "execution_count": null,
   "metadata": {},
   "outputs": [],
   "source": [
    "spectrograms_tensor_train.size()"
   ]
  },
  {
   "cell_type": "code",
   "execution_count": null,
   "metadata": {},
   "outputs": [],
   "source": [
    "# training_set = torchvision.datasets.FashionMNIST('./data', train=True, transform=transform, download=True)\n",
    "# validation_set = torchvision.datasets.FashionMNIST('./data', train=False, transform=transform, download=True)\n",
    "\n",
    "# # Create data loaders for our datasets; shuffle for training, not for validation\n",
    "# training_loader = torch.utils.data.DataLoader(training_set, batch_size=4, shuffle=True)\n",
    "# validation_loader = torch.utils.data.DataLoader(validation_set, batch_size=4, shuffle=False)"
   ]
  },
  {
   "cell_type": "code",
   "execution_count": null,
   "metadata": {},
   "outputs": [],
   "source": [
    "spectrogram_dataset_train = torch.utils.data.TensorDataset(spectrograms_tensor_train, emotions_tensor_train)\n",
    "spectrogram_dataset_val = torch.utils.data.TensorDataset(spectrograms_tensor_val, emotions_tensor_val)\n",
    "\n",
    "spectrogram_loader_val = torch.utils.data.DataLoader(spectrogram_dataset_val, batch_size=4, shuffle=True)\n",
    "spectrogram_loader_train = torch.utils.data.DataLoader(spectrogram_dataset_train, batch_size=4, shuffle=False)"
   ]
  },
  {
   "cell_type": "markdown",
   "metadata": {},
   "source": [
    "### Multi Layered Perceptron"
   ]
  },
  {
   "cell_type": "markdown",
   "metadata": {},
   "source": [
    "##### Spectrograms as input"
   ]
  },
  {
   "cell_type": "code",
   "execution_count": null,
   "metadata": {},
   "outputs": [],
   "source": []
  },
  {
   "cell_type": "code",
   "execution_count": null,
   "metadata": {},
   "outputs": [],
   "source": []
  },
  {
   "cell_type": "code",
   "execution_count": null,
   "metadata": {},
   "outputs": [],
   "source": [
    "# import tensorflow as tf\n",
    "# from tensorflow.keras import models\n",
    "# from tensorflow.keras import layers\n",
    "\n",
    "# model = models.Sequential()\n",
    "# model.add(layers.Flatten())\n",
    "# model.add(layers.Dense(1000, activation=tf.nn.relu))\n",
    "# model.add(layers.Dense(1000, activation=tf.nn.relu))\n",
    "# model.add(layers.Dense(1000, activation=tf.nn.relu))\n",
    "# model.add(layers.Dense(100, activation=tf.nn.relu))\n",
    "# model.add(layers.Dense(30, activation=tf.nn.relu))\n",
    "# model.add(layers.Dense(8, activation=tf.nn.softmax))\n",
    "\n",
    "# model.compile(\n",
    "#     optimizer=\"adam\",\n",
    "#     loss=\"sparse_categorical_crossentropy\",\n",
    "#     metrics=[\"accuracy\"],\n",
    "# )\n",
    "\n",
    "# model.fit(spectrograms_train, emotions_numeric_train, epochs=3)"
   ]
  },
  {
   "cell_type": "code",
   "execution_count": null,
   "metadata": {},
   "outputs": [],
   "source": [
    "# val_loss, val_accuracy = model.evaluate(spectrograms_val, emotions_numeric_val)\n",
    "# print(f\"Loss: {val_loss:.4f}, accuracy: {val_accuracy:.4f}\")"
   ]
  },
  {
   "cell_type": "code",
   "execution_count": null,
   "metadata": {},
   "outputs": [],
   "source": []
  },
  {
   "cell_type": "code",
   "execution_count": null,
   "metadata": {},
   "outputs": [],
   "source": [
    "class PerceptronSpectrogramModel(torch.nn.Module):\n",
    "\n",
    "    def __init__(self):\n",
    "        super(PerceptronSpectrogramModel, self).__init__()\n",
    "        \n",
    "        self.linear1 = torch.nn.Linear(np.prod(spectrogram_dimensions), 200)\n",
    "        self.activation = torch.nn.ReLU()\n",
    "        self.linear2 = torch.nn.Linear(200, 8)\n",
    "\n",
    "    def forward(self, x):\n",
    "        x = torch.flatten(x, 1)\n",
    "        x = self.linear1(x)\n",
    "        x = self.activation(x)\n",
    "        x = self.linear2(x)\n",
    "        return x"
   ]
  },
  {
   "cell_type": "code",
   "execution_count": null,
   "metadata": {},
   "outputs": [],
   "source": [
    "model = PerceptronSpectrogramModel()\n",
    "# logits = model(spectrograms_tensor_train)\n",
    "# pred_probab = torch.nn.Softmax(dim=1)(logits)\n",
    "# y_pred =   pred_probab.argmax(1)\n",
    "# y_pred"
   ]
  },
  {
   "cell_type": "code",
   "execution_count": null,
   "metadata": {},
   "outputs": [],
   "source": [
    "# y_pred.size()"
   ]
  },
  {
   "cell_type": "markdown",
   "metadata": {},
   "source": [
    "### Convolutional Neural Network"
   ]
  },
  {
   "cell_type": "code",
   "execution_count": null,
   "metadata": {},
   "outputs": [],
   "source": [
    "# model = models.Sequential()\n",
    "\n",
    "# model.add(layers.Conv2D(32, (3, 3), activation='relu', input_shape=spectrograms_train.shape[1:]))\n",
    "# model.add(layers.MaxPooling2D((2, 2)))\n",
    "# model.add(layers.Conv2D(64, (3, 3), activation='relu'))\n",
    "# model.add(layers.MaxPooling2D((2, 2)))\n",
    "# model.add(layers.Conv2D(64, (3, 3), activation='relu'))\n",
    "\n",
    "# model.add(layers.Flatten())\n",
    "# model.add(layers.Dense(1024, activation='relu'))\n",
    "# model.add(layers.Dense(64, activation='relu'))\n",
    "# model.add(layers.Dense(8))"
   ]
  },
  {
   "cell_type": "code",
   "execution_count": null,
   "metadata": {},
   "outputs": [],
   "source": [
    "# model.summary()"
   ]
  },
  {
   "cell_type": "code",
   "execution_count": null,
   "metadata": {
    "scrolled": true
   },
   "outputs": [],
   "source": [
    "# model.compile(optimizer='adam',\n",
    "#               loss=tf.keras.losses.SparseCategoricalCrossentropy(from_logits=True),\n",
    "#               metrics=['accuracy'])\n",
    "\n",
    "# history = model.fit(spectrograms_train, emotions_numeric_train, epochs=10, \n",
    "#                     validation_data=(spectrograms_val, emotions_numeric_val))"
   ]
  },
  {
   "cell_type": "code",
   "execution_count": null,
   "metadata": {},
   "outputs": [],
   "source": [
    "# val_loss, val_accuracy = model.evaluate(spectrograms_val, emotions_numeric_val)\n",
    "# print(f\"Loss: {val_loss:.4f}, accuracy: {val_accuracy:.4f}\")"
   ]
  },
  {
   "cell_type": "code",
   "execution_count": null,
   "metadata": {},
   "outputs": [],
   "source": []
  },
  {
   "cell_type": "code",
   "execution_count": null,
   "metadata": {},
   "outputs": [],
   "source": [
    "convoluted_dimensions = np.array(spectrogram_dimensions)\n",
    "print(convoluted_dimensions)\n",
    "convoluted_dimensions -= (5 - 1)\n",
    "convoluted_dimensions //= 2\n",
    "convoluted_dimensions -= (3 - 1)\n",
    "convoluted_dimensions //= 2\n",
    "convoluted_dimensions[0] = 1\n",
    "print(convoluted_dimensions)"
   ]
  },
  {
   "cell_type": "code",
   "execution_count": null,
   "metadata": {},
   "outputs": [],
   "source": [
    "# class CNN(torch.nn.Module):\n",
    "\n",
    "#     def __init__(self):\n",
    "#         super(CNN, self).__init__()\n",
    "#         # 1 input image channel (black & white), 6 output channels, 5x5 square convolution\n",
    "#         # kernel\n",
    "#         self.conv1 = torch.nn.Conv2d(1, 6, 5)\n",
    "#         self.conv2 = torch.nn.Conv2d(6, 16, 3)\n",
    "#         # an affine operation: y = Wx + b\n",
    "#         self.fc1 = torch.nn.Linear(16 * np.prod(convoluted_dimensions), 64)\n",
    "#         self.fc2 = torch.nn.Linear(64, 24)\n",
    "#         self.fc3 = torch.nn.Linear(24, 8)\n",
    "\n",
    "#     def forward(self, x):\n",
    "#         # Max pooling over a (2, 2) window\n",
    "#         x = F.max_pool2d(F.relu(self.conv1(x)), (2, 2))\n",
    "#         # If the size is a square you can only specify a single number\n",
    "#         x = F.max_pool2d(F.relu(self.conv2(x)), 2)\n",
    "#         x = x.view(-1, self.num_flat_features(x))\n",
    "#         x = F.relu(self.fc1(x))\n",
    "#         x = F.relu(self.fc2(x))\n",
    "#         x = self.fc3(x)\n",
    "#         return x\n",
    "\n",
    "#     def num_flat_features(self, x):\n",
    "#         size = x.size()[1:]  # all dimensions except the batch dimension\n",
    "#         num_features = 1\n",
    "#         for s in size:\n",
    "#             num_features *= s\n",
    "#         return num_features"
   ]
  },
  {
   "cell_type": "code",
   "execution_count": null,
   "metadata": {},
   "outputs": [],
   "source": [
    "convoluted_dimensions = np.array(spectrogram_dimensions)\n",
    "print(convoluted_dimensions)\n",
    "convoluted_dimensions -= (5 - 1)\n",
    "convoluted_dimensions //= 2\n",
    "convoluted_dimensions[0] = 1\n",
    "print(convoluted_dimensions)"
   ]
  },
  {
   "cell_type": "code",
   "execution_count": null,
   "metadata": {},
   "outputs": [],
   "source": [
    "class CNN(torch.nn.Module):\n",
    "\n",
    "    def __init__(self):\n",
    "        super(CNN, self).__init__()\n",
    "        # 1 input image channel (black & white), 6 output channels, 5x5 square convolution\n",
    "        # kernel\n",
    "        self.conv1 = torch.nn.Conv2d(1, 16, 5)\n",
    "        # an affine operation: y = Wx + b\n",
    "        self.fc1 = torch.nn.Linear(16 * np.prod(convoluted_dimensions), 64)\n",
    "        self.fc2 = torch.nn.Linear(64, 8)\n",
    "\n",
    "    def forward(self, x):\n",
    "        # Max pooling over a (2, 2) window\n",
    "        x = F.max_pool2d(F.relu(self.conv1(x)), 2)\n",
    "        # If the size is a square you can only specify a single number\n",
    "        x = x.view(-1, self.num_flat_features(x))\n",
    "        x = F.relu(self.fc1(x))\n",
    "        x = self.fc2(x)\n",
    "        return x\n",
    "\n",
    "    def num_flat_features(self, x):\n",
    "        size = x.size()[1:]  # all dimensions except the batch dimension\n",
    "        num_features = 1\n",
    "        for s in size:\n",
    "            num_features *= s\n",
    "        return num_features"
   ]
  },
  {
   "cell_type": "code",
   "execution_count": null,
   "metadata": {},
   "outputs": [],
   "source": [
    "model = CNN()\n",
    "# logits = model(spectrograms_tensor_train[:1])\n",
    "# pred_probab = torch.nn.Softmax(dim=1)(logits)\n",
    "# y_pred = pred_probab.argmax(1)\n",
    "# y_pred"
   ]
  },
  {
   "cell_type": "code",
   "execution_count": null,
   "metadata": {},
   "outputs": [],
   "source": [
    "loss_fn = torch.nn.CrossEntropyLoss()\n",
    "\n",
    "# Optimizers specified in the torch.optim package\n",
    "optimizer = torch.optim.Adam(model.parameters(), lr=0.001)"
   ]
  },
  {
   "cell_type": "code",
   "execution_count": null,
   "metadata": {},
   "outputs": [],
   "source": [
    "model.parameters"
   ]
  },
  {
   "cell_type": "code",
   "execution_count": null,
   "metadata": {},
   "outputs": [],
   "source": [
    "def train_one_epoch(epoch_index, tb_writer):\n",
    "    running_loss = 0.\n",
    "    last_loss = 0.\n",
    "    running_accuracy = 0.\n",
    "    last_accuracy = 0.\n",
    "\n",
    "    # Here, we use enumerate(training_loader) instead of\n",
    "    # iter(training_loader) so that we can track the batch\n",
    "    # index and do some intra-epoch reporting\n",
    "    for i, data in enumerate(spectrogram_loader_train):\n",
    "        # Every data instance is an input + label pair\n",
    "        inputs, labels = data\n",
    "\n",
    "        # Zero your gradients for every batch!\n",
    "        optimizer.zero_grad()\n",
    "\n",
    "        # Make predictions for this batch\n",
    "        outputs = model(inputs)\n",
    "\n",
    "        # Compute the loss and its gradients\n",
    "        loss = loss_fn(outputs, labels)\n",
    "        loss.backward()\n",
    "        \n",
    "        output_predictions = torch.nn.Softmax(dim=1)(outputs).argmax(1)        \n",
    "        accuracy = torch.sum(output_predictions == labels) / len(labels)\n",
    "\n",
    "#         print(outputs)\n",
    "#         print()\n",
    "#         print(output_predictions)\n",
    "#         print(labels)\n",
    "#         print(accuracy)\n",
    "\n",
    "        # Adjust learning weights\n",
    "        optimizer.step()\n",
    "\n",
    "        # Gather data and report\n",
    "        running_loss += loss.item()\n",
    "        running_accuracy += accuracy\n",
    "        if i % 50 == 49:\n",
    "            last_loss = running_loss / 50 # loss per batch\n",
    "            last_accuracy = running_accuracy / 50 # accuracy per batch\n",
    "#             print(f\"  batch {i + 1} loss: {last_loss:.4f} acc: {last_accuracy:.4f}\")\n",
    "# #             tb_x = epoch_index * len(training_loader) + i + 1\n",
    "# #             tb_writer.add_scalar('Loss/train', last_loss, tb_x)\n",
    "            running_loss = 0.\n",
    "            running_accuracy = 0.\n",
    "        elif i == len(spectrogram_loader_train)-1:\n",
    "            last_loss = running_loss / (len(spectrogram_loader_train) % 50) # loss per batch\n",
    "            last_accuracy = running_accuracy / (len(spectrogram_loader_train) % 50) # accuracy per batch\n",
    "#             print(f\"  batch {i + 1} loss: {last_loss:.4f} acc: {last_accuracy:.4f}\")\n",
    "# #             tb_x = epoch_index * len(training_loader) + i + 1\n",
    "# #             tb_writer.add_scalar('Loss/train', last_loss, tb_x)\n",
    "            running_loss = 0.\n",
    "            running_accuracy = 0.\n",
    "\n",
    "    return last_loss, last_accuracy"
   ]
  },
  {
   "cell_type": "code",
   "execution_count": null,
   "metadata": {
    "scrolled": false
   },
   "outputs": [],
   "source": [
    "# Initializing in a separate cell so we can easily add more epochs to the same run\n",
    "timestamp = datetime.datetime.now().strftime('%Y%m%d_%H%M%S')\n",
    "# writer = SummaryWriter('runs/cnn_trainer_{}'.format(timestamp))\n",
    "epoch_number = 0\n",
    "\n",
    "EPOCHS = 15\n",
    "\n",
    "best_vloss = 1_000_000.\n",
    "\n",
    "for epoch in range(EPOCHS):\n",
    "    print(f\"EPOCH {epoch_number + 1}:\")\n",
    "\n",
    "    # Make sure gradient tracking is on, and do a pass over the data\n",
    "    model.train(True)\n",
    "    avg_loss, avg_accuracy = train_one_epoch(epoch_number, None) #     avg_loss = train_one_epoch(epoch_number, writer)\n",
    "\n",
    "\n",
    "    running_vloss = 0.0\n",
    "    running_vaccuracy = 0.0\n",
    "    # Set the model to evaluation mode, disabling dropout and using population\n",
    "    # statistics for batch normalization.\n",
    "    model.eval()\n",
    "\n",
    "    # Disable gradient computation and reduce memory consumption.\n",
    "    with torch.no_grad():\n",
    "        for i, vdata in enumerate(spectrogram_loader_val):\n",
    "            vinputs, vlabels = vdata\n",
    "            voutputs = model(vinputs)\n",
    "            vloss = loss_fn(voutputs, vlabels)\n",
    "            running_vloss += vloss\n",
    "            \n",
    "            voutput_predictions = torch.nn.Softmax(dim=1)(voutputs).argmax(1)        \n",
    "            vaccuracy = torch.sum(voutput_predictions == vlabels) / len(vlabels)\n",
    "            running_vaccuracy += vaccuracy\n",
    "\n",
    "    avg_vloss = running_vloss / (i + 1)\n",
    "    avg_vaccuracy = running_vaccuracy / (i + 1)\n",
    "    print(f\"LOSS train {avg_loss:.4f} valid {avg_vloss:.4f} \\t ACC train {avg_accuracy:.4f} valid {avg_vaccuracy:.4f}\")\n",
    "\n",
    "#     # Log the running loss averaged per batch\n",
    "#     # for both training and validation\n",
    "#     writer.add_scalars('Training vs. Validation Loss',\n",
    "#                     { 'Training' : avg_loss, 'Validation' : avg_vloss },\n",
    "#                     epoch_number + 1)\n",
    "#     writer.flush()\n",
    "\n",
    "    # Track best performance, and save the model's state\n",
    "    if avg_vloss < best_vloss:\n",
    "        best_vloss = avg_vloss\n",
    "        model_path = \"model_checkpoints/model_{timestamp}_{epoch_number}\"\n",
    "#         torch.save(model.state_dict(), model_path)\n",
    "\n",
    "    epoch_number += 1"
   ]
  },
  {
   "cell_type": "code",
   "execution_count": null,
   "metadata": {},
   "outputs": [],
   "source": []
  },
  {
   "cell_type": "code",
   "execution_count": null,
   "metadata": {},
   "outputs": [],
   "source": []
  },
  {
   "cell_type": "code",
   "execution_count": null,
   "metadata": {},
   "outputs": [],
   "source": []
  },
  {
   "cell_type": "code",
   "execution_count": null,
   "metadata": {},
   "outputs": [],
   "source": []
  },
  {
   "cell_type": "code",
   "execution_count": null,
   "metadata": {},
   "outputs": [],
   "source": []
  },
  {
   "cell_type": "markdown",
   "metadata": {},
   "source": [
    "### TF website example"
   ]
  },
  {
   "cell_type": "code",
   "execution_count": null,
   "metadata": {},
   "outputs": [],
   "source": [
    "import tensorflow as tf\n",
    "\n",
    "(train_images, train_labels), (test_images, test_labels) = tf.keras.datasets.cifar10.load_data()\n",
    "\n",
    "# Normalize pixel values to be between 0 and 1\n",
    "train_images, test_images = train_images / 255.0, test_images / 255.0"
   ]
  },
  {
   "cell_type": "code",
   "execution_count": 246,
   "metadata": {},
   "outputs": [
    {
     "data": {
      "text/plain": [
       "(50000, 32, 32, 3)"
      ]
     },
     "execution_count": 246,
     "metadata": {},
     "output_type": "execute_result"
    }
   ],
   "source": [
    "train_images.shape"
   ]
  },
  {
   "cell_type": "code",
   "execution_count": 247,
   "metadata": {},
   "outputs": [
    {
     "data": {
      "image/png": "[encoded data removed]",
      "text/plain": [
       "<Figure size 1000x1000 with 25 Axes>"
      ]
     },
     "metadata": {},
     "output_type": "display_data"
    }
   ],
   "source": [
    "class_names = ['airplane', 'automobile', 'bird', 'cat', 'deer',\n",
    "               'dog', 'frog', 'horse', 'ship', 'truck']\n",
    "\n",
    "plt.figure(figsize=(10,10))\n",
    "for i in range(25):\n",
    "    plt.subplot(5,5,i+1)\n",
    "    plt.xticks([])\n",
    "    plt.yticks([])\n",
    "    plt.grid(False)\n",
    "    plt.imshow(train_images[i])\n",
    "    # The CIFAR labels happen to be arrays, \n",
    "    # which is why you need the extra index\n",
    "    plt.xlabel(class_names[train_labels[i][0]])\n",
    "plt.show()"
   ]
  },
  {
   "cell_type": "code",
   "execution_count": 248,
   "metadata": {},
   "outputs": [
    {
     "ename": "NameError",
     "evalue": "name 'models' is not defined",
     "output_type": "error",
     "traceback": [
      "\u001b[1;31m---------------------------------------------------------------------------\u001b[0m",
      "\u001b[1;31mNameError\u001b[0m                                 Traceback (most recent call last)",
      "Cell \u001b[1;32mIn[248], line 1\u001b[0m\n\u001b[1;32m----> 1\u001b[0m model \u001b[38;5;241m=\u001b[39m \u001b[43mmodels\u001b[49m\u001b[38;5;241m.\u001b[39mSequential()\n\u001b[0;32m      2\u001b[0m model\u001b[38;5;241m.\u001b[39madd(layers\u001b[38;5;241m.\u001b[39mConv2D(\u001b[38;5;241m32\u001b[39m, (\u001b[38;5;241m3\u001b[39m, \u001b[38;5;241m3\u001b[39m), activation\u001b[38;5;241m=\u001b[39m\u001b[38;5;124m'\u001b[39m\u001b[38;5;124mrelu\u001b[39m\u001b[38;5;124m'\u001b[39m, input_shape\u001b[38;5;241m=\u001b[39m(\u001b[38;5;241m32\u001b[39m, \u001b[38;5;241m32\u001b[39m, \u001b[38;5;241m3\u001b[39m)))\n\u001b[0;32m      3\u001b[0m model\u001b[38;5;241m.\u001b[39madd(layers\u001b[38;5;241m.\u001b[39mMaxPooling2D((\u001b[38;5;241m2\u001b[39m, \u001b[38;5;241m2\u001b[39m)))\n",
      "\u001b[1;31mNameError\u001b[0m: name 'models' is not defined"
     ]
    }
   ],
   "source": [
    "model = models.Sequential()\n",
    "model.add(layers.Conv2D(32, (3, 3), activation='relu', input_shape=(32, 32, 3)))\n",
    "model.add(layers.MaxPooling2D((2, 2)))\n",
    "model.add(layers.Conv2D(64, (3, 3), activation='relu'))\n",
    "model.add(layers.MaxPooling2D((2, 2)))\n",
    "model.add(layers.Conv2D(64, (3, 3), activation='relu'))"
   ]
  },
  {
   "cell_type": "code",
   "execution_count": null,
   "metadata": {},
   "outputs": [],
   "source": [
    "model.summary()"
   ]
  },
  {
   "cell_type": "code",
   "execution_count": null,
   "metadata": {},
   "outputs": [],
   "source": [
    "model.add(layers.Flatten())\n",
    "model.add(layers.Dense(64, activation='relu'))\n",
    "model.add(layers.Dense(10))"
   ]
  },
  {
   "cell_type": "code",
   "execution_count": null,
   "metadata": {},
   "outputs": [],
   "source": [
    "model.summary()"
   ]
  },
  {
   "cell_type": "code",
   "execution_count": null,
   "metadata": {},
   "outputs": [],
   "source": [
    "model.compile(optimizer='adam',\n",
    "              loss=tf.keras.losses.SparseCategoricalCrossentropy(from_logits=True),\n",
    "              metrics=['accuracy'])\n",
    "\n",
    "history = model.fit(train_images, train_labels, epochs=10, \n",
    "                    validation_data=(test_images, test_labels))"
   ]
  },
  {
   "cell_type": "code",
   "execution_count": null,
   "metadata": {},
   "outputs": [],
   "source": [
    "plt.plot(history.history['accuracy'], label='accuracy')\n",
    "plt.plot(history.history['val_accuracy'], label = 'val_accuracy')\n",
    "plt.xlabel('Epoch')\n",
    "plt.ylabel('Accuracy')\n",
    "plt.ylim([0.5, 1])\n",
    "plt.legend(loc='lower right')\n",
    "\n",
    "test_loss, test_acc = model.evaluate(test_images,  test_labels, verbose=2)"
   ]
  },
  {
   "cell_type": "code",
   "execution_count": null,
   "metadata": {},
   "outputs": [],
   "source": [
    "print(test_acc)"
   ]
  },
  {
   "cell_type": "code",
   "execution_count": null,
   "metadata": {},
   "outputs": [],
   "source": []
  },
  {
   "cell_type": "code",
   "execution_count": null,
   "metadata": {},
   "outputs": [],
   "source": []
  },
  {
   "cell_type": "code",
   "execution_count": null,
   "metadata": {},
   "outputs": [],
   "source": [
    "# import json\n",
    "\n",
    "# # modified_analysis_by_endings = {k: {\"features\": v[\"features\"], \"final_data_frame\": v[\"final_data_frame\"].to_json(), \"removed_features\": v[\"removed_features\"]} for k,v in analysis_by_endings}\n",
    "\n",
    "# modified_analysis_by_endings = {}\n",
    "\n",
    "# for k,v in analysis_by_endings.items():\n",
    "# #     if \"features\" in v.keys():\n",
    "# #         modified_analysis_by_endings[k] = v[\"features\"]\n",
    "# #     if \"final_data_frame\" in v.keys():\n",
    "# #         modified_analysis_by_endings[k] = v[\"final_data_frame\"].to_json()\n",
    "#     if \"removed_features\" in v.keys():\n",
    "#         modified_analysis_by_endings[k] = v[\"removed_features\"]\n",
    "\n",
    "\n",
    "# # for data in modified_analysis_by_endings.values():\n",
    "# #     print(data)\n",
    "# # #     data[\"final_data_frame\"] = data[\"final_data_frame\"].to_json()\n",
    "\n",
    "# # print(modified_analysis_by_endings.keys())\n",
    "# # print(modified_analysis_by_endings[\"range\"])\n",
    "\n",
    "\n",
    "\n"
   ]
  },
  {
   "cell_type": "code",
   "execution_count": null,
   "metadata": {},
   "outputs": [],
   "source": [
    "# with open('results.json', 'w') as fp:\n",
    "#     json.dump(modified_analysis_by_endings, fp)"
   ]
  },
  {
   "cell_type": "markdown",
   "metadata": {},
   "source": [
    "### ––––––––––––––––––––––––––"
   ]
  },
  {
   "cell_type": "code",
   "execution_count": null,
   "metadata": {},
   "outputs": [],
   "source": [
    "# display(removed_features)"
   ]
  },
  {
   "cell_type": "code",
   "execution_count": null,
   "metadata": {},
   "outputs": [],
   "source": [
    "# display(len(speeches_train_copy.columns))"
   ]
  },
  {
   "cell_type": "code",
   "execution_count": null,
   "metadata": {
    "scrolled": true
   },
   "outputs": [],
   "source": [
    "# feature_f1_comparison = {\"BASELINE\": initial_classifier_results[\"svc\"][\"val\"][\"F1\"]} | {feature: [feature_result[\"val\"][\"F1\"]] for feature, feature_result in feature_optimisation_results.items()}\n",
    "\n",
    "# f1_comparison_data_frame = pd.DataFrame.from_dict(feature_f1_comparison)\n",
    "\n",
    "# f1_comparison_data_frame.to_csv(\"F1 scores.csv\")\n",
    "\n",
    "# display(f1_comparison_data_frame)"
   ]
  },
  {
   "cell_type": "markdown",
   "metadata": {},
   "source": [
    "### ––––––––––––––––––––––––––"
   ]
  },
  {
   "cell_type": "code",
   "execution_count": null,
   "metadata": {},
   "outputs": [],
   "source": [
    "# all_removed_features = [removed_feature[0] for removed_list in modified_analysis_by_endings.values() for removed_feature in removed_list]\n",
    "# all_removed_parents = [feature.rpartition(\"_\")[0] for feature in all_removed_features]"
   ]
  },
  {
   "cell_type": "code",
   "execution_count": null,
   "metadata": {
    "scrolled": true
   },
   "outputs": [],
   "source": [
    "# Counter(all_removed_parents)"
   ]
  },
  {
   "cell_type": "code",
   "execution_count": null,
   "metadata": {},
   "outputs": [],
   "source": [
    "# Counter(all_removed_parents).most_common(20)"
   ]
  },
  {
   "cell_type": "markdown",
   "metadata": {},
   "source": [
    "##### Model with removed features"
   ]
  },
  {
   "cell_type": "code",
   "execution_count": null,
   "metadata": {},
   "outputs": [],
   "source": [
    "# results_file_name = \"results.json\"\n",
    "\n",
    "# with open(results_file_name, \"r\") as f:\n",
    "#     results_from_json = json.load(f)"
   ]
  },
  {
   "cell_type": "code",
   "execution_count": null,
   "metadata": {},
   "outputs": [],
   "source": [
    "# concatenated_results = []\n",
    "# removed_feature_name_stems = []\n",
    "\n",
    "# for ending_results in results_from_json.values():\n",
    "#     for results_row in ending_results:\n",
    "#         concatenated_results.append(results_row)\n",
    "#         removed_feature_name_stems.append(results_row[0].rpartition(\"_\")[0])\n",
    "        \n",
    "# # # Strings don't work in np...\n",
    "# # concatenated_results = np.array([])\n",
    "\n",
    "# # for ending_results in results_from_json.values():\n",
    "# #     for results_row in ending_results:\n",
    "# #         np.concatenate(concatenated_results, np.array(results_row))"
   ]
  },
  {
   "cell_type": "code",
   "execution_count": null,
   "metadata": {},
   "outputs": [],
   "source": [
    "# Counter(removed_feature_name_stems)"
   ]
  },
  {
   "cell_type": "code",
   "execution_count": null,
   "metadata": {},
   "outputs": [],
   "source": [
    "# min_threshold = 5\n",
    "# often_removed_stems = {}\n",
    "\n",
    "# for stem, count in Counter(removed_feature_name_stems).items():\n",
    "#     if count >= min_threshold:\n",
    "#         often_removed_stems[stem] = count"
   ]
  },
  {
   "cell_type": "code",
   "execution_count": null,
   "metadata": {},
   "outputs": [],
   "source": [
    "# often_removed_stems"
   ]
  },
  {
   "cell_type": "code",
   "execution_count": null,
   "metadata": {},
   "outputs": [],
   "source": [
    "# pruned_feature_set = []\n",
    "\n",
    "# for feature in speeches.columns:\n",
    "#     feature_stem = feature.rpartition(\"_\")[0]\n",
    "#     if feature_stem in often_removed_stems:\n",
    "#         pruned_feature_set.append(feature)"
   ]
  },
  {
   "cell_type": "code",
   "execution_count": null,
   "metadata": {},
   "outputs": [],
   "source": [
    "# # Use percentages rather than absolute values?\n",
    "\n",
    "# print(f\"Frequency threshold to prune a feature: {min_threshold}\")\n",
    "# print(f\"Original feature count: {len(speeches.columns)}\")\n",
    "# print(f\"Post-prunation count: {len(pruned_feature_set)}\")\n",
    "# print(f\"Pruned features: {len(speeches.columns) - len(pruned_feature_set)}\")\n",
    "# print(f\"Post-prunation count: {len(often_removed_stems)}\")"
   ]
  },
  {
   "cell_type": "code",
   "execution_count": null,
   "metadata": {
    "scrolled": false
   },
   "outputs": [],
   "source": [
    "# post_prunation_results = {}\n",
    "# most_frequent_removal_count = max(Counter(removed_feature_name_stems).values())\n",
    "\n",
    "# for min_threshold in range(most_frequent_removal_count + 1):\n",
    "#     often_removed_stems = {}\n",
    "#     pruned_feature_set = []\n",
    "\n",
    "#     for stem, count in Counter(removed_feature_name_stems).items():\n",
    "#         if count >= min_threshold:\n",
    "#             often_removed_stems[stem] = count\n",
    "\n",
    "#     for feature in speeches.columns:\n",
    "#         feature_stem = feature.rpartition(\"_\")[0]\n",
    "#         if feature_stem in often_removed_stems:\n",
    "#             pruned_feature_set.append(feature)\n",
    "\n",
    "#     multi_class_pruned_parameters = (speeches_train[pruned_feature_set], speeches_val[pruned_feature_set], emotions_train, emotions_val, set(emotions))\n",
    "\n",
    "#     post_prunation_results[f\"logistic_regression_{min_threshold}\"] = fit_predict_and_score_classifier(logistic_regression, *multi_class_pruned_parameters)\n",
    "#     post_prunation_results[f\"svc_{min_threshold}\"] = fit_predict_and_score_classifier(svc, *multi_class_pruned_parameters)\n",
    "\n",
    "# post_prunation_results_table = create_result_table(post_prunation_results)"
   ]
  },
  {
   "cell_type": "code",
   "execution_count": null,
   "metadata": {},
   "outputs": [],
   "source": [
    "# display(post_prunation_results_table)\n",
    "# # display(post_prunation_results_table[post_prunation_results_table[\"Set type\"]==\"val\"])"
   ]
  },
  {
   "cell_type": "code",
   "execution_count": null,
   "metadata": {},
   "outputs": [],
   "source": []
  },
  {
   "cell_type": "code",
   "execution_count": null,
   "metadata": {},
   "outputs": [],
   "source": []
  },
  {
   "cell_type": "code",
   "execution_count": null,
   "metadata": {},
   "outputs": [],
   "source": []
  },
  {
   "cell_type": "code",
   "execution_count": null,
   "metadata": {},
   "outputs": [],
   "source": []
  },
  {
   "cell_type": "code",
   "execution_count": null,
   "metadata": {},
   "outputs": [],
   "source": []
  },
  {
   "cell_type": "code",
   "execution_count": null,
   "metadata": {},
   "outputs": [],
   "source": []
  },
  {
   "cell_type": "code",
   "execution_count": null,
   "metadata": {},
   "outputs": [],
   "source": []
  },
  {
   "cell_type": "code",
   "execution_count": null,
   "metadata": {},
   "outputs": [],
   "source": []
  },
  {
   "cell_type": "code",
   "execution_count": null,
   "metadata": {},
   "outputs": [],
   "source": []
  }
 ],
 "metadata": {
  "accelerator": "GPU",
  "colab": {
   "collapsed_sections": [
    "89Q5h1M-iGtX",
    "AB0Y6xS17Tj3",
    "aikqCd3d7b6d",
    "GTMFgODnbDsI",
    "I9mj2L3jiGtl",
    "foKQaWCiUpRh",
    "gVSMGXRVz0Mn",
    "RgQbyZBBb5mm",
    "vJPQreO0cByU",
    "d8eXs9T1fGFe",
    "Dt8wYLwhkUPl",
    "GxOlNT22khAD",
    "dMxfsKiXAicT"
   ],
   "provenance": [],
   "toc_visible": true
  },
  "gpuClass": "standard",
  "kernelspec": {
   "display_name": "Python 3 (ipykernel)",
   "language": "python",
   "name": "python3"
  },
  "language_info": {
   "codemirror_mode": {
    "name": "ipython",
    "version": 3
   },
   "file_extension": ".py",
   "mimetype": "text/x-python",
   "name": "python",
   "nbconvert_exporter": "python",
   "pygments_lexer": "ipython3",
   "version": "3.10.9"
  }
 },
 "nbformat": 4,
 "nbformat_minor": 1
}
