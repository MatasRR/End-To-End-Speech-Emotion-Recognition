{
 "cells": [
  {
   "cell_type": "markdown",
   "metadata": {
    "id": "89Q5h1M-iGtX"
   },
   "source": [
    "# Data preparation section"
   ]
  },
  {
   "cell_type": "code",
   "execution_count": 1,
   "metadata": {},
   "outputs": [
    {
     "data": {
      "text/html": [
       "<style>.container { width:95% !important; }</style>"
      ],
      "text/plain": [
       "<IPython.core.display.HTML object>"
      ]
     },
     "metadata": {},
     "output_type": "display_data"
    }
   ],
   "source": [
    "from IPython.display import display, HTML\n",
    "display(HTML(\"<style>.container { width:95% !important; }</style>\"))"
   ]
  },
  {
   "cell_type": "code",
   "execution_count": 2,
   "metadata": {
    "code_folding": [],
    "scrolled": false
   },
   "outputs": [],
   "source": [
    "# installed_packages = [\n",
    "#     \"opensmile\",\n",
    "#     \"librosa\",\n",
    "#     \"google\",\n",
    "#     \"treelib\",\n",
    "#     \"graphviz\",\n",
    "# ]\n",
    "\n",
    "# for package in installed_packages:\n",
    "#     !pip install {package}"
   ]
  },
  {
   "cell_type": "code",
   "execution_count": 3,
   "metadata": {},
   "outputs": [],
   "source": [
    "import numpy as np\n",
    "import pandas as pd\n",
    "import json\n",
    "import math\n",
    "import random\n",
    "import matplotlib.pyplot as plt"
   ]
  },
  {
   "cell_type": "code",
   "execution_count": 4,
   "metadata": {
    "id": "4pIIqhuk6Wdm"
   },
   "outputs": [],
   "source": [
    "import opensmile\n",
    "\n",
    "smile = opensmile.Smile(\n",
    "#     feature_set=opensmile.FeatureSet.ComParE_2016,\n",
    "    feature_set=opensmile.FeatureSet.eGeMAPSv02,\n",
    "#     feature_set=opensmile.FeatureSet.GeMAPSv01b,\n",
    "    feature_level=opensmile.FeatureLevel.Functionals,\n",
    ")\n"
   ]
  },
  {
   "cell_type": "code",
   "execution_count": 5,
   "metadata": {
    "colab": {
     "base_uri": "https://localhost:8080/",
     "height": 424
    },
    "id": "9CnuzfCN6kxa",
    "outputId": "9c44bd5d-78f4-4762-d13f-fed963850c37"
   },
   "outputs": [],
   "source": [
    "import glob\n",
    "\n",
    "try:\n",
    "    files = glob.glob(\"../data/raw/RAVDESS/*/*.wav\")\n",
    "except:\n",
    "    from google.colab import drive\n",
    "    drive.mount('/content/gdrive')\n",
    "    files = glob.glob(\"/content/gdrive/MyDrive/Colab Notebooks/Uni/IP/data/RAVDESS/*/*.wav\")"
   ]
  },
  {
   "cell_type": "code",
   "execution_count": 6,
   "metadata": {},
   "outputs": [],
   "source": [
    "file_name_to_emotion_mapping = {\n",
    "    \"01\": \"neutral\",\n",
    "    \"02\": \"calm\",\n",
    "    \"03\": \"happy\",\n",
    "    \"04\": \"sad\",\n",
    "    \"05\": \"angry\",\n",
    "    \"06\": \"fearful\",\n",
    "    \"07\": \"disgust\",\n",
    "    \"08\": \"surprised\",\n",
    "}"
   ]
  },
  {
   "cell_type": "markdown",
   "metadata": {},
   "source": []
  },
  {
   "cell_type": "code",
   "execution_count": 7,
   "metadata": {},
   "outputs": [],
   "source": [
    "emotion_to_positivity_mapping = {\n",
    "    \"neutral\": \"positive\",\n",
    "    \"calm\": \"positive\",\n",
    "    \"happy\": \"positive\",\n",
    "    \"sad\": \"negative\",\n",
    "    \"angry\": \"negative\",\n",
    "    \"fearful\": \"negative\",\n",
    "    \"disgust\": \"negative\",\n",
    "    \"surprised\": \"positive\",\n",
    "}"
   ]
  },
  {
   "cell_type": "code",
   "execution_count": 8,
   "metadata": {},
   "outputs": [],
   "source": [
    "SEED = 42"
   ]
  },
  {
   "cell_type": "markdown",
   "metadata": {},
   "source": [
    "##### Data reading and normalisation"
   ]
  },
  {
   "cell_type": "code",
   "execution_count": 9,
   "metadata": {},
   "outputs": [],
   "source": [
    "speech_data = smile.process_files(files)"
   ]
  },
  {
   "cell_type": "code",
   "execution_count": 10,
   "metadata": {},
   "outputs": [],
   "source": [
    "normalised_speech_data=(speech_data-speech_data.mean())/speech_data.std()\n",
    "normalised_speech_data.dropna(axis='columns', inplace=True)"
   ]
  },
  {
   "cell_type": "code",
   "execution_count": 11,
   "metadata": {},
   "outputs": [],
   "source": [
    "emotion_labels = [file_name_to_emotion_mapping[file.split(\"-\")[-5]] for file in files]"
   ]
  },
  {
   "cell_type": "markdown",
   "metadata": {
    "id": "aikqCd3d7b6d"
   },
   "source": [
    "##### Splitting the data into training, validation and test sets"
   ]
  },
  {
   "cell_type": "code",
   "execution_count": 12,
   "metadata": {},
   "outputs": [],
   "source": [
    "from sklearn.model_selection import train_test_split\n",
    "\n",
    "def perform_3_way_split(data, labels, split, seed=42):\n",
    "    assert np.sum(split) == 100, \"Split must be a 3-tuple with sum of 100\"\n",
    "    train, val, test = (num/100 for num in split)\n",
    "    \n",
    "    data_train_and_val, data_test, labels_train_and_val, labels_test = train_test_split(data, labels, test_size=test, random_state=seed, stratify=labels)\n",
    "    data_train, data_val, labels_train, labels_val = train_test_split(data_train_and_val, labels_train_and_val, test_size=val/(train+val), random_state=seed, stratify=labels_train_and_val)\n",
    "    return (data_train, data_val, data_test), (labels_train, labels_val, labels_test)"
   ]
  },
  {
   "cell_type": "code",
   "execution_count": 13,
   "metadata": {
    "id": "3Wow_Uwc7qN9"
   },
   "outputs": [],
   "source": [
    "speeches = normalised_speech_data\n",
    "emotions = emotion_labels\n",
    "\n",
    "speeches_split, emotions_split = perform_3_way_split(speeches, emotions, (80,10,10), SEED)\n",
    "speeches_train, speeches_val, speeches_test = speeches_split\n",
    "emotions_train, emotions_val, emotions_test = emotions_split"
   ]
  },
  {
   "cell_type": "code",
   "execution_count": 14,
   "metadata": {},
   "outputs": [],
   "source": [
    "emotions_binary_train = np.array([emotion_to_positivity_mapping[emotion] for emotion in emotions_train])\n",
    "emotions_binary_val = np.array([emotion_to_positivity_mapping[emotion] for emotion in emotions_val])\n",
    "emotions_binary_test = np.array([emotion_to_positivity_mapping[emotion] for emotion in emotions_test])"
   ]
  },
  {
   "cell_type": "code",
   "execution_count": 15,
   "metadata": {
    "code_folding": [],
    "id": "d7I594NDkO6c"
   },
   "outputs": [],
   "source": [
    "# Pandas dataframes keep the old indexing after sampling, but I need it to be sequential, thus, a reset for the index\n",
    "speeches_train.reset_index(drop=True, inplace=True)\n",
    "speeches_val.reset_index(drop=True, inplace=True)\n",
    "speeches_test.reset_index(drop=True, inplace=True)"
   ]
  },
  {
   "cell_type": "code",
   "execution_count": 16,
   "metadata": {
    "colab": {
     "base_uri": "https://localhost:8080/"
    },
    "id": "mA9wf8eWZpm3",
    "outputId": "a28d0b18-7bd9-40a3-c17c-faa92c2d84e6"
   },
   "outputs": [
    {
     "name": "stdout",
     "output_type": "stream",
     "text": [
      "len(speeches_train)=1152\t\tlen(emotions_train)=1152\n",
      "len(speeches_val)=144\t\tlen(emotions_val)=144\n",
      "len(speeches_test)=144\t\tlen(emotions_test)=144\n",
      "Counter(emotions_train)=Counter({'angry': 154, 'happy': 154, 'calm': 154, 'sad': 154, 'disgust': 154, 'surprised': 153, 'fearful': 153, 'neutral': 76})\n",
      "Counter(emotions_val)=Counter({'fearful': 20, 'calm': 19, 'happy': 19, 'angry': 19, 'sad': 19, 'surprised': 19, 'disgust': 19, 'neutral': 10})\n",
      "Counter(emotions_test)=Counter({'surprised': 20, 'disgust': 19, 'angry': 19, 'fearful': 19, 'calm': 19, 'sad': 19, 'happy': 19, 'neutral': 10})\n"
     ]
    }
   ],
   "source": [
    "from collections import Counter\n",
    "\n",
    "print(f\"{len(speeches_train)=}\\t\\t{len(emotions_train)=}\")\n",
    "print(f\"{len(speeches_val)=}\\t\\t{len(emotions_val)=}\")\n",
    "print(f\"{len(speeches_test)=}\\t\\t{len(emotions_test)=}\")\n",
    "\n",
    "print(f\"{Counter(emotions_train)=}\")\n",
    "print(f\"{Counter(emotions_val)=}\")\n",
    "print(f\"{Counter(emotions_test)=}\")"
   ]
  },
  {
   "cell_type": "markdown",
   "metadata": {
    "id": "dGXOYkvAbuT1"
   },
   "source": [
    "# Classifier comparison section"
   ]
  },
  {
   "cell_type": "markdown",
   "metadata": {
    "id": "RgQbyZBBb5mm"
   },
   "source": [
    "### Building classifiers"
   ]
  },
  {
   "cell_type": "code",
   "execution_count": 17,
   "metadata": {
    "id": "fe_knPbbb-vF"
   },
   "outputs": [],
   "source": [
    "from locale import Error\n",
    "from sklearn.dummy import DummyClassifier\n",
    "from sklearn.linear_model import LogisticRegression\n",
    "from sklearn.svm import SVC\n",
    "from sklearn import metrics\n",
    "\n",
    "def fit_predict_and_score_classifier(classifier, data_train, data_val, labels_train, labels_val, label_set):\n",
    "    classifier.fit(data_train, labels_train)\n",
    "    results = {\"train\": {}, \"val\": {}}\n",
    "    \n",
    "    for set_type in [\"train\", \"val\"]:\n",
    "        if set_type == \"train\":\n",
    "            data = data_train\n",
    "            labels = labels_train\n",
    "        elif set_type == \"val\":\n",
    "            data = data_val\n",
    "            labels = labels_val\n",
    "        else:\n",
    "            raise Error(\"Undefined data set type\")\n",
    "\n",
    "        labels_predicted = classifier.predict(data)\n",
    "\n",
    "        results[set_type][\"predictions\"] = labels_predicted\n",
    "        results[set_type][\"accuracy\"] = metrics.accuracy_score(labels, labels_predicted)\n",
    "        results[set_type][\"precision\"] = metrics.precision_score(labels, labels_predicted, average=\"macro\", zero_division=1)\n",
    "        results[set_type][\"recall\"] = metrics.recall_score(labels, labels_predicted, average=\"macro\", zero_division=1)\n",
    "        results[set_type][\"F1\"] = metrics.f1_score(labels, labels_predicted, average=\"macro\", zero_division=1)\n",
    "\n",
    "    return results\n",
    "\n",
    "def create_result_table(results):\n",
    "    first_key = list(results.keys())[0]\n",
    "    second_key = list(results[first_key].keys())[0]\n",
    "    table = pd.DataFrame(columns=[\"Classifier\", \"Set type\"] + list(results[first_key][second_key].keys()))\n",
    "    for classifier_name, classifier_data in results.items():\n",
    "        for set_type, set_metrics in classifier_data.items():\n",
    "              # Taken from (merging dicts) https://stackoverflow.com/questions/38987/how-do-i-merge-two-dictionaries-in-a-single-expression-in-python\n",
    "            new_row = {\"Classifier\": classifier_name, \"Set type\": set_type} | set_metrics\n",
    "            table = table.append(new_row, ignore_index=True)\n",
    "    return table\n",
    "\n",
    "# def create_result_table(results):\n",
    "#     first_key = list(results.keys())[0]\n",
    "#     second_key = list(results[first_key].keys())[0]\n",
    "#     table = pd.DataFrame(columns=[\"Classifier\", \"Set type\"] + list(results[first_key][second_key].keys()))\n",
    "#     for classifier_name, classifier_data in results.items():\n",
    "#         for set_type, set_metrics in classifier_data.items():\n",
    "#               # Taken from (merging dicts) https://stackoverflow.com/questions/38987/how-do-i-merge-two-dictionaries-in-a-single-expression-in-python\n",
    "#             new_row = pd.DataFrame({\"Classifier\": classifier_name, \"Set type\": set_type} | set_metrics)\n",
    "#             table = pd.concat([table, new_row], ignore_index=True)\n",
    "#     return table\n",
    "\n",
    "def calculate_f1_scores_by_class(labels_predicted, labels):\n",
    "    all_labels = sorted(list(set(labels)))\n",
    "    matrix_dimension = range(len(set(labels)))\n",
    "    matrix = metrics.confusion_matrix(labels, labels_predicted, labels=all_labels)\n",
    "\n",
    "    recalls = [matrix[index, index] / row_sum for index, row_sum in enumerate(np.sum(matrix, axis=1))]\n",
    "    precisions = [matrix[index, index] / column_sum for index, column_sum in enumerate(np.sum(matrix, axis=0))]\n",
    "\n",
    "    f1_scores = {label: {} for label in all_labels}\n",
    "    for index, label in enumerate(all_labels):\n",
    "        f1_scores[label] = 2 * (precisions[index] * recalls[index]) / (precisions[index] + recalls[index])\n",
    "\n",
    "    return f1_scores"
   ]
  },
  {
   "cell_type": "code",
   "execution_count": 18,
   "metadata": {
    "id": "rmOWy_3elp_0"
   },
   "outputs": [],
   "source": [
    "# These parameters are repeated, so they are unwrapped while calling functions to reduce clutter\n",
    "multi_class_parameters = (speeches_train, speeches_val, emotions_train, emotions_val, set(emotions))\n",
    "binary_parameters = (speeches_train, speeches_val, emotions_binary_train, emotions_binary_val, set([\"positive\", \"negative\"]))\n",
    "initial_classifier_results = {}\n",
    "initial_classifier_results_binary = {}"
   ]
  },
  {
   "cell_type": "code",
   "execution_count": 19,
   "metadata": {},
   "outputs": [],
   "source": [
    "dummy_classifier_most_frequent = DummyClassifier(strategy=\"most_frequent\")\n",
    "dummy_classifier_stratified = DummyClassifier(strategy=\"stratified\")\n",
    "logistic_regression = LogisticRegression(max_iter=1000)\n",
    "svc = SVC()"
   ]
  },
  {
   "cell_type": "markdown",
   "metadata": {},
   "source": [
    "### Multi-class classification"
   ]
  },
  {
   "cell_type": "code",
   "execution_count": 20,
   "metadata": {
    "id": "_vbJMZzbEVeN"
   },
   "outputs": [],
   "source": [
    "initial_classifier_results[\"dummy_classifier_most_frequent\"] = fit_predict_and_score_classifier(dummy_classifier_most_frequent, *multi_class_parameters)"
   ]
  },
  {
   "cell_type": "code",
   "execution_count": 21,
   "metadata": {
    "id": "OP12BrTLkY0A"
   },
   "outputs": [],
   "source": [
    "initial_classifier_results[\"dummy_classifier_stratified\"] = fit_predict_and_score_classifier(dummy_classifier_stratified, *multi_class_parameters)"
   ]
  },
  {
   "cell_type": "code",
   "execution_count": 22,
   "metadata": {
    "id": "XFi7oHh1kqcF"
   },
   "outputs": [],
   "source": [
    "initial_classifier_results[\"logistic_regression\"] = fit_predict_and_score_classifier(logistic_regression, *multi_class_parameters)"
   ]
  },
  {
   "cell_type": "code",
   "execution_count": 23,
   "metadata": {
    "id": "BiN0CnX2ktST"
   },
   "outputs": [],
   "source": [
    "initial_classifier_results[\"svc\"] = fit_predict_and_score_classifier(svc, *multi_class_parameters)"
   ]
  },
  {
   "cell_type": "code",
   "execution_count": 24,
   "metadata": {
    "colab": {
     "base_uri": "https://localhost:8080/",
     "height": 363
    },
    "id": "68ytUVLHav6l",
    "outputId": "66b32dd9-2719-493c-8ac7-3261a8a4da8d"
   },
   "outputs": [
    {
     "name": "stderr",
     "output_type": "stream",
     "text": [
      "C:\\Users\\Matas\\AppData\\Local\\Temp\\ipykernel_18864\\2014226108.py:39: FutureWarning: The frame.append method is deprecated and will be removed from pandas in a future version. Use pandas.concat instead.\n",
      "  table = table.append(new_row, ignore_index=True)\n",
      "C:\\Users\\Matas\\AppData\\Local\\Temp\\ipykernel_18864\\2014226108.py:39: FutureWarning: The frame.append method is deprecated and will be removed from pandas in a future version. Use pandas.concat instead.\n",
      "  table = table.append(new_row, ignore_index=True)\n",
      "C:\\Users\\Matas\\AppData\\Local\\Temp\\ipykernel_18864\\2014226108.py:39: FutureWarning: The frame.append method is deprecated and will be removed from pandas in a future version. Use pandas.concat instead.\n",
      "  table = table.append(new_row, ignore_index=True)\n",
      "C:\\Users\\Matas\\AppData\\Local\\Temp\\ipykernel_18864\\2014226108.py:39: FutureWarning: The frame.append method is deprecated and will be removed from pandas in a future version. Use pandas.concat instead.\n",
      "  table = table.append(new_row, ignore_index=True)\n",
      "C:\\Users\\Matas\\AppData\\Local\\Temp\\ipykernel_18864\\2014226108.py:39: FutureWarning: The frame.append method is deprecated and will be removed from pandas in a future version. Use pandas.concat instead.\n",
      "  table = table.append(new_row, ignore_index=True)\n",
      "C:\\Users\\Matas\\AppData\\Local\\Temp\\ipykernel_18864\\2014226108.py:39: FutureWarning: The frame.append method is deprecated and will be removed from pandas in a future version. Use pandas.concat instead.\n",
      "  table = table.append(new_row, ignore_index=True)\n",
      "C:\\Users\\Matas\\AppData\\Local\\Temp\\ipykernel_18864\\2014226108.py:39: FutureWarning: The frame.append method is deprecated and will be removed from pandas in a future version. Use pandas.concat instead.\n",
      "  table = table.append(new_row, ignore_index=True)\n",
      "C:\\Users\\Matas\\AppData\\Local\\Temp\\ipykernel_18864\\2014226108.py:39: FutureWarning: The frame.append method is deprecated and will be removed from pandas in a future version. Use pandas.concat instead.\n",
      "  table = table.append(new_row, ignore_index=True)\n"
     ]
    },
    {
     "data": {
      "text/html": [
       "<div>\n",
       "<style scoped>\n",
       "    .dataframe tbody tr th:only-of-type {\n",
       "        vertical-align: middle;\n",
       "    }\n",
       "\n",
       "    .dataframe tbody tr th {\n",
       "        vertical-align: top;\n",
       "    }\n",
       "\n",
       "    .dataframe thead th {\n",
       "        text-align: right;\n",
       "    }\n",
       "</style>\n",
       "<table border=\"1\" class=\"dataframe\">\n",
       "  <thead>\n",
       "    <tr style=\"text-align: right;\">\n",
       "      <th></th>\n",
       "      <th>Classifier</th>\n",
       "      <th>Set type</th>\n",
       "      <th>predictions</th>\n",
       "      <th>accuracy</th>\n",
       "      <th>precision</th>\n",
       "      <th>recall</th>\n",
       "      <th>F1</th>\n",
       "    </tr>\n",
       "  </thead>\n",
       "  <tbody>\n",
       "    <tr>\n",
       "      <th>0</th>\n",
       "      <td>dummy_classifier_most_frequent</td>\n",
       "      <td>train</td>\n",
       "      <td>[angry, angry, angry, angry, angry, angry, ang...</td>\n",
       "      <td>0.133681</td>\n",
       "      <td>0.891710</td>\n",
       "      <td>0.125000</td>\n",
       "      <td>0.029479</td>\n",
       "    </tr>\n",
       "    <tr>\n",
       "      <th>1</th>\n",
       "      <td>dummy_classifier_most_frequent</td>\n",
       "      <td>val</td>\n",
       "      <td>[angry, angry, angry, angry, angry, angry, ang...</td>\n",
       "      <td>0.131944</td>\n",
       "      <td>0.891493</td>\n",
       "      <td>0.125000</td>\n",
       "      <td>0.029141</td>\n",
       "    </tr>\n",
       "    <tr>\n",
       "      <th>2</th>\n",
       "      <td>dummy_classifier_stratified</td>\n",
       "      <td>train</td>\n",
       "      <td>[surprised, fearful, sad, calm, fearful, angry...</td>\n",
       "      <td>0.124132</td>\n",
       "      <td>0.119830</td>\n",
       "      <td>0.119563</td>\n",
       "      <td>0.119478</td>\n",
       "    </tr>\n",
       "    <tr>\n",
       "      <th>3</th>\n",
       "      <td>dummy_classifier_stratified</td>\n",
       "      <td>val</td>\n",
       "      <td>[angry, angry, angry, disgust, angry, happy, d...</td>\n",
       "      <td>0.166667</td>\n",
       "      <td>0.173215</td>\n",
       "      <td>0.168750</td>\n",
       "      <td>0.169163</td>\n",
       "    </tr>\n",
       "    <tr>\n",
       "      <th>4</th>\n",
       "      <td>logistic_regression</td>\n",
       "      <td>train</td>\n",
       "      <td>[angry, happy, calm, happy, neutral, neutral, ...</td>\n",
       "      <td>0.763889</td>\n",
       "      <td>0.761988</td>\n",
       "      <td>0.762210</td>\n",
       "      <td>0.761048</td>\n",
       "    </tr>\n",
       "    <tr>\n",
       "      <th>5</th>\n",
       "      <td>logistic_regression</td>\n",
       "      <td>val</td>\n",
       "      <td>[calm, angry, happy, calm, fearful, angry, sur...</td>\n",
       "      <td>0.604167</td>\n",
       "      <td>0.601776</td>\n",
       "      <td>0.610197</td>\n",
       "      <td>0.603314</td>\n",
       "    </tr>\n",
       "    <tr>\n",
       "      <th>6</th>\n",
       "      <td>svc</td>\n",
       "      <td>train</td>\n",
       "      <td>[angry, happy, calm, happy, surprised, calm, f...</td>\n",
       "      <td>0.796007</td>\n",
       "      <td>0.798800</td>\n",
       "      <td>0.776510</td>\n",
       "      <td>0.780752</td>\n",
       "    </tr>\n",
       "    <tr>\n",
       "      <th>7</th>\n",
       "      <td>svc</td>\n",
       "      <td>val</td>\n",
       "      <td>[calm, angry, angry, calm, happy, angry, happy...</td>\n",
       "      <td>0.625000</td>\n",
       "      <td>0.619556</td>\n",
       "      <td>0.606250</td>\n",
       "      <td>0.606615</td>\n",
       "    </tr>\n",
       "  </tbody>\n",
       "</table>\n",
       "</div>"
      ],
      "text/plain": [
       "                       Classifier Set type  \\\n",
       "0  dummy_classifier_most_frequent    train   \n",
       "1  dummy_classifier_most_frequent      val   \n",
       "2     dummy_classifier_stratified    train   \n",
       "3     dummy_classifier_stratified      val   \n",
       "4             logistic_regression    train   \n",
       "5             logistic_regression      val   \n",
       "6                             svc    train   \n",
       "7                             svc      val   \n",
       "\n",
       "                                         predictions  accuracy  precision  \\\n",
       "0  [angry, angry, angry, angry, angry, angry, ang...  0.133681   0.891710   \n",
       "1  [angry, angry, angry, angry, angry, angry, ang...  0.131944   0.891493   \n",
       "2  [surprised, fearful, sad, calm, fearful, angry...  0.124132   0.119830   \n",
       "3  [angry, angry, angry, disgust, angry, happy, d...  0.166667   0.173215   \n",
       "4  [angry, happy, calm, happy, neutral, neutral, ...  0.763889   0.761988   \n",
       "5  [calm, angry, happy, calm, fearful, angry, sur...  0.604167   0.601776   \n",
       "6  [angry, happy, calm, happy, surprised, calm, f...  0.796007   0.798800   \n",
       "7  [calm, angry, angry, calm, happy, angry, happy...  0.625000   0.619556   \n",
       "\n",
       "     recall        F1  \n",
       "0  0.125000  0.029479  \n",
       "1  0.125000  0.029141  \n",
       "2  0.119563  0.119478  \n",
       "3  0.168750  0.169163  \n",
       "4  0.762210  0.761048  \n",
       "5  0.610197  0.603314  \n",
       "6  0.776510  0.780752  \n",
       "7  0.606250  0.606615  "
      ]
     },
     "metadata": {},
     "output_type": "display_data"
    }
   ],
   "source": [
    "initial_classifier_results_table = create_result_table(initial_classifier_results)\n",
    "display(initial_classifier_results_table)"
   ]
  },
  {
   "cell_type": "code",
   "execution_count": 25,
   "metadata": {
    "colab": {
     "base_uri": "https://localhost:8080/"
    },
    "id": "9XYuc7nRmNGd",
    "outputId": "7dc876a9-53df-4282-8600-0af2d9e98bbd"
   },
   "outputs": [
    {
     "name": "stdout",
     "output_type": "stream",
     "text": [
      "angry: 0.7272727272727273\n",
      "calm: 0.7272727272727272\n",
      "disgust: 0.5641025641025641\n",
      "fearful: 0.5238095238095238\n",
      "happy: 0.5789473684210527\n",
      "neutral: 0.3529411764705882\n",
      "sad: 0.6285714285714286\n",
      "surprised: 0.7500000000000001\n"
     ]
    }
   ],
   "source": [
    "f1_scores = calculate_f1_scores_by_class(initial_classifier_results[\"svc\"][\"val\"][\"predictions\"], emotions_val)\n",
    "for emotion, score in f1_scores.items():\n",
    "    print(f\"{emotion}: {score}\")"
   ]
  },
  {
   "cell_type": "code",
   "execution_count": 26,
   "metadata": {
    "colab": {
     "base_uri": "https://localhost:8080/",
     "height": 350
    },
    "id": "ZPCMAGy4opci",
    "outputId": "fab6fd7c-b687-4747-fc6b-db022f1062e2"
   },
   "outputs": [
    {
     "data": {
      "image/png": "[encoded data removed]",
      "text/plain": [
       "<Figure size 1000x500 with 1 Axes>"
      ]
     },
     "metadata": {},
     "output_type": "display_data"
    }
   ],
   "source": [
    "# Taken from https://www.geeksforgeeks.org/bar-plot-in-matplotlib/\n",
    "\n",
    "import matplotlib.pyplot as plt\n",
    "\n",
    "list_of_emotions = list(f1_scores.keys())\n",
    "f1_score_values = list(f1_scores.values())\n",
    "\n",
    "fig = plt.figure(figsize = (10, 5))\n",
    "\n",
    "plt.bar(list_of_emotions, f1_score_values, color ='blue', width = 0.6)\n",
    "plt.xlabel(\"Labels (emotions)\")\n",
    "plt.ylabel(\"F1 class score\")\n",
    "plt.title(\"F1 scores by class of svc classifier\")\n",
    "plt.show()"
   ]
  },
  {
   "cell_type": "code",
   "execution_count": 27,
   "metadata": {},
   "outputs": [
    {
     "data": {
      "image/png": "[encoded data removed]",
      "text/plain": [
       "<Figure size 640x480 with 2 Axes>"
      ]
     },
     "metadata": {},
     "output_type": "display_data"
    }
   ],
   "source": [
    "from sklearn import metrics\n",
    "\n",
    "metrics.ConfusionMatrixDisplay.from_predictions(emotions_val, initial_classifier_results[\"svc\"][\"val\"][\"predictions\"])\n",
    "plt.show()"
   ]
  },
  {
   "cell_type": "markdown",
   "metadata": {},
   "source": [
    "### Binary classification"
   ]
  },
  {
   "cell_type": "code",
   "execution_count": 28,
   "metadata": {},
   "outputs": [],
   "source": [
    "initial_classifier_results_binary[\"dummy_classifier_most_frequent\"] = fit_predict_and_score_classifier(dummy_classifier_most_frequent, *binary_parameters)"
   ]
  },
  {
   "cell_type": "code",
   "execution_count": 29,
   "metadata": {
    "id": "OP12BrTLkY0A"
   },
   "outputs": [],
   "source": [
    "initial_classifier_results_binary[\"dummy_classifier_stratified\"] = fit_predict_and_score_classifier(dummy_classifier_stratified, *binary_parameters)"
   ]
  },
  {
   "cell_type": "code",
   "execution_count": 30,
   "metadata": {
    "id": "XFi7oHh1kqcF"
   },
   "outputs": [],
   "source": [
    "initial_classifier_results_binary[\"logistic_regression\"] = fit_predict_and_score_classifier(logistic_regression, *binary_parameters)"
   ]
  },
  {
   "cell_type": "code",
   "execution_count": 31,
   "metadata": {
    "id": "BiN0CnX2ktST"
   },
   "outputs": [],
   "source": [
    "initial_classifier_results_binary[\"svc\"] = fit_predict_and_score_classifier(svc, *binary_parameters)"
   ]
  },
  {
   "cell_type": "code",
   "execution_count": 32,
   "metadata": {
    "colab": {
     "base_uri": "https://localhost:8080/",
     "height": 363
    },
    "id": "68ytUVLHav6l",
    "outputId": "66b32dd9-2719-493c-8ac7-3261a8a4da8d"
   },
   "outputs": [
    {
     "name": "stderr",
     "output_type": "stream",
     "text": [
      "C:\\Users\\Matas\\AppData\\Local\\Temp\\ipykernel_18864\\2014226108.py:39: FutureWarning: The frame.append method is deprecated and will be removed from pandas in a future version. Use pandas.concat instead.\n",
      "  table = table.append(new_row, ignore_index=True)\n",
      "C:\\Users\\Matas\\AppData\\Local\\Temp\\ipykernel_18864\\2014226108.py:39: FutureWarning: The frame.append method is deprecated and will be removed from pandas in a future version. Use pandas.concat instead.\n",
      "  table = table.append(new_row, ignore_index=True)\n",
      "C:\\Users\\Matas\\AppData\\Local\\Temp\\ipykernel_18864\\2014226108.py:39: FutureWarning: The frame.append method is deprecated and will be removed from pandas in a future version. Use pandas.concat instead.\n",
      "  table = table.append(new_row, ignore_index=True)\n",
      "C:\\Users\\Matas\\AppData\\Local\\Temp\\ipykernel_18864\\2014226108.py:39: FutureWarning: The frame.append method is deprecated and will be removed from pandas in a future version. Use pandas.concat instead.\n",
      "  table = table.append(new_row, ignore_index=True)\n",
      "C:\\Users\\Matas\\AppData\\Local\\Temp\\ipykernel_18864\\2014226108.py:39: FutureWarning: The frame.append method is deprecated and will be removed from pandas in a future version. Use pandas.concat instead.\n",
      "  table = table.append(new_row, ignore_index=True)\n",
      "C:\\Users\\Matas\\AppData\\Local\\Temp\\ipykernel_18864\\2014226108.py:39: FutureWarning: The frame.append method is deprecated and will be removed from pandas in a future version. Use pandas.concat instead.\n",
      "  table = table.append(new_row, ignore_index=True)\n",
      "C:\\Users\\Matas\\AppData\\Local\\Temp\\ipykernel_18864\\2014226108.py:39: FutureWarning: The frame.append method is deprecated and will be removed from pandas in a future version. Use pandas.concat instead.\n",
      "  table = table.append(new_row, ignore_index=True)\n",
      "C:\\Users\\Matas\\AppData\\Local\\Temp\\ipykernel_18864\\2014226108.py:39: FutureWarning: The frame.append method is deprecated and will be removed from pandas in a future version. Use pandas.concat instead.\n",
      "  table = table.append(new_row, ignore_index=True)\n"
     ]
    },
    {
     "data": {
      "text/html": [
       "<div>\n",
       "<style scoped>\n",
       "    .dataframe tbody tr th:only-of-type {\n",
       "        vertical-align: middle;\n",
       "    }\n",
       "\n",
       "    .dataframe tbody tr th {\n",
       "        vertical-align: top;\n",
       "    }\n",
       "\n",
       "    .dataframe thead th {\n",
       "        text-align: right;\n",
       "    }\n",
       "</style>\n",
       "<table border=\"1\" class=\"dataframe\">\n",
       "  <thead>\n",
       "    <tr style=\"text-align: right;\">\n",
       "      <th></th>\n",
       "      <th>Classifier</th>\n",
       "      <th>Set type</th>\n",
       "      <th>predictions</th>\n",
       "      <th>accuracy</th>\n",
       "      <th>precision</th>\n",
       "      <th>recall</th>\n",
       "      <th>F1</th>\n",
       "    </tr>\n",
       "  </thead>\n",
       "  <tbody>\n",
       "    <tr>\n",
       "      <th>0</th>\n",
       "      <td>dummy_classifier_most_frequent</td>\n",
       "      <td>train</td>\n",
       "      <td>[negative, negative, negative, negative, negat...</td>\n",
       "      <td>0.533854</td>\n",
       "      <td>0.766927</td>\n",
       "      <td>0.500000</td>\n",
       "      <td>0.348048</td>\n",
       "    </tr>\n",
       "    <tr>\n",
       "      <th>1</th>\n",
       "      <td>dummy_classifier_most_frequent</td>\n",
       "      <td>val</td>\n",
       "      <td>[negative, negative, negative, negative, negat...</td>\n",
       "      <td>0.534722</td>\n",
       "      <td>0.767361</td>\n",
       "      <td>0.500000</td>\n",
       "      <td>0.348416</td>\n",
       "    </tr>\n",
       "    <tr>\n",
       "      <th>2</th>\n",
       "      <td>dummy_classifier_stratified</td>\n",
       "      <td>train</td>\n",
       "      <td>[negative, positive, positive, negative, negat...</td>\n",
       "      <td>0.495660</td>\n",
       "      <td>0.494478</td>\n",
       "      <td>0.494459</td>\n",
       "      <td>0.494333</td>\n",
       "    </tr>\n",
       "    <tr>\n",
       "      <th>3</th>\n",
       "      <td>dummy_classifier_stratified</td>\n",
       "      <td>val</td>\n",
       "      <td>[negative, positive, negative, negative, posit...</td>\n",
       "      <td>0.472222</td>\n",
       "      <td>0.468549</td>\n",
       "      <td>0.468695</td>\n",
       "      <td>0.468531</td>\n",
       "    </tr>\n",
       "    <tr>\n",
       "      <th>4</th>\n",
       "      <td>logistic_regression</td>\n",
       "      <td>train</td>\n",
       "      <td>[negative, positive, positive, positive, posit...</td>\n",
       "      <td>0.774306</td>\n",
       "      <td>0.773329</td>\n",
       "      <td>0.772912</td>\n",
       "      <td>0.773099</td>\n",
       "    </tr>\n",
       "    <tr>\n",
       "      <th>5</th>\n",
       "      <td>logistic_regression</td>\n",
       "      <td>val</td>\n",
       "      <td>[positive, positive, negative, negative, negat...</td>\n",
       "      <td>0.715278</td>\n",
       "      <td>0.713869</td>\n",
       "      <td>0.713413</td>\n",
       "      <td>0.713607</td>\n",
       "    </tr>\n",
       "    <tr>\n",
       "      <th>6</th>\n",
       "      <td>svc</td>\n",
       "      <td>train</td>\n",
       "      <td>[negative, positive, positive, positive, posit...</td>\n",
       "      <td>0.893229</td>\n",
       "      <td>0.893254</td>\n",
       "      <td>0.892088</td>\n",
       "      <td>0.892588</td>\n",
       "    </tr>\n",
       "    <tr>\n",
       "      <th>7</th>\n",
       "      <td>svc</td>\n",
       "      <td>val</td>\n",
       "      <td>[positive, negative, negative, negative, negat...</td>\n",
       "      <td>0.770833</td>\n",
       "      <td>0.772619</td>\n",
       "      <td>0.766331</td>\n",
       "      <td>0.767594</td>\n",
       "    </tr>\n",
       "  </tbody>\n",
       "</table>\n",
       "</div>"
      ],
      "text/plain": [
       "                       Classifier Set type  \\\n",
       "0  dummy_classifier_most_frequent    train   \n",
       "1  dummy_classifier_most_frequent      val   \n",
       "2     dummy_classifier_stratified    train   \n",
       "3     dummy_classifier_stratified      val   \n",
       "4             logistic_regression    train   \n",
       "5             logistic_regression      val   \n",
       "6                             svc    train   \n",
       "7                             svc      val   \n",
       "\n",
       "                                         predictions  accuracy  precision  \\\n",
       "0  [negative, negative, negative, negative, negat...  0.533854   0.766927   \n",
       "1  [negative, negative, negative, negative, negat...  0.534722   0.767361   \n",
       "2  [negative, positive, positive, negative, negat...  0.495660   0.494478   \n",
       "3  [negative, positive, negative, negative, posit...  0.472222   0.468549   \n",
       "4  [negative, positive, positive, positive, posit...  0.774306   0.773329   \n",
       "5  [positive, positive, negative, negative, negat...  0.715278   0.713869   \n",
       "6  [negative, positive, positive, positive, posit...  0.893229   0.893254   \n",
       "7  [positive, negative, negative, negative, negat...  0.770833   0.772619   \n",
       "\n",
       "     recall        F1  \n",
       "0  0.500000  0.348048  \n",
       "1  0.500000  0.348416  \n",
       "2  0.494459  0.494333  \n",
       "3  0.468695  0.468531  \n",
       "4  0.772912  0.773099  \n",
       "5  0.713413  0.713607  \n",
       "6  0.892088  0.892588  \n",
       "7  0.766331  0.767594  "
      ]
     },
     "metadata": {},
     "output_type": "display_data"
    }
   ],
   "source": [
    "initial_classifier_results_table_binary = create_result_table(initial_classifier_results_binary)\n",
    "display(initial_classifier_results_table_binary)"
   ]
  },
  {
   "cell_type": "code",
   "execution_count": 33,
   "metadata": {
    "colab": {
     "base_uri": "https://localhost:8080/"
    },
    "id": "9XYuc7nRmNGd",
    "outputId": "7dc876a9-53df-4282-8600-0af2d9e98bbd"
   },
   "outputs": [
    {
     "name": "stdout",
     "output_type": "stream",
     "text": [
      "negative: 0.7354838709677418\n",
      "positive: 0.6917293233082707\n"
     ]
    }
   ],
   "source": [
    "f1_scores_binary = calculate_f1_scores_by_class(initial_classifier_results_binary[\"logistic_regression\"][\"val\"][\"predictions\"], emotions_binary_val)\n",
    "for emotion, score in f1_scores_binary.items():\n",
    "    print(f\"{emotion}: {score}\")"
   ]
  },
  {
   "cell_type": "code",
   "execution_count": 34,
   "metadata": {
    "colab": {
     "base_uri": "https://localhost:8080/",
     "height": 350
    },
    "id": "ZPCMAGy4opci",
    "outputId": "fab6fd7c-b687-4747-fc6b-db022f1062e2"
   },
   "outputs": [
    {
     "data": {
      "image/png": "[encoded data removed]",
      "text/plain": [
       "<Figure size 1000x500 with 1 Axes>"
      ]
     },
     "metadata": {},
     "output_type": "display_data"
    }
   ],
   "source": [
    "# Taken from https://www.geeksforgeeks.org/bar-plot-in-matplotlib/\n",
    "\n",
    "import matplotlib.pyplot as plt\n",
    "\n",
    "list_of_emotions_binary = list(f1_scores_binary.keys())\n",
    "f1_score_values_binary = list(f1_scores_binary.values())\n",
    "\n",
    "fig = plt.figure(figsize = (10, 5))\n",
    "\n",
    "plt.bar(list_of_emotions_binary, f1_score_values_binary, color ='blue', width = 0.6)\n",
    "plt.xlabel(\"Labels (emotions)\")\n",
    "plt.ylabel(\"F1 class score\")\n",
    "plt.title(\"F1 scores by class of logistic_regression classifier\")\n",
    "plt.show()"
   ]
  },
  {
   "cell_type": "code",
   "execution_count": 35,
   "metadata": {},
   "outputs": [
    {
     "data": {
      "image/png": "[encoded data removed]",
      "text/plain": [
       "<Figure size 640x480 with 2 Axes>"
      ]
     },
     "metadata": {},
     "output_type": "display_data"
    }
   ],
   "source": [
    "metrics.ConfusionMatrixDisplay.from_predictions(emotions_binary_val, initial_classifier_results_binary[\"logistic_regression\"][\"val\"][\"predictions\"])\n",
    "plt.show()"
   ]
  },
  {
   "cell_type": "markdown",
   "metadata": {},
   "source": [
    "### Feature visualisation"
   ]
  },
  {
   "cell_type": "code",
   "execution_count": 36,
   "metadata": {},
   "outputs": [],
   "source": [
    "# !jupyter notebook --NotebookApp.iopub_data_rate_limit=1.0e10"
   ]
  },
  {
   "cell_type": "code",
   "execution_count": 37,
   "metadata": {},
   "outputs": [],
   "source": [
    "import treelib\n",
    "\n",
    "def add_node(tree, feature, is_feature):\n",
    "    feature_parent, delimiter, feature_name = feature.rpartition(\"_\")\n",
    "    \n",
    "    if not tree.contains(feature_parent):\n",
    "        add_node(tree, feature_parent, False)\n",
    "    \n",
    "    try:\n",
    "        tree.create_node(tag=feature_name, identifier=feature, parent=feature_parent, data=is_feature)\n",
    "    except treelib.exceptions.DuplicatedNodeIdError as error:\n",
    "        # Such node already exists, potentially because recursive parent creation created it before reaching the node itself\n",
    "        if is_feature:\n",
    "            feature_tree.get_node(feature).data = True\n",
    "\n",
    "feature_tree = treelib.Tree()\n",
    "\n",
    "feature_tree.create_node(tag=\"ROOT\", identifier=\"\", data=False)\n",
    "\n",
    "for column in speeches_train.columns:\n",
    "    add_node(feature_tree, column, True)"
   ]
  },
  {
   "cell_type": "code",
   "execution_count": 38,
   "metadata": {},
   "outputs": [
    {
     "data": {
      "text/plain": [
       "2"
      ]
     },
     "execution_count": 38,
     "metadata": {},
     "output_type": "execute_result"
    }
   ],
   "source": [
    "# Taken from https://medium.com/dive-into-ml-ai/tree-data-visualization-with-treelib-71633f6fd8fb\n",
    "import subprocess\n",
    "\n",
    "feature_tree.to_graphviz(\"Feature hierarchy graph description.dot\")\n",
    "subprocess.call([\"dot\", \"-Tsvg\", \"hello.dot\", \"-o\", \"Feature hierarchy graph.svg\"])"
   ]
  },
  {
   "cell_type": "code",
   "execution_count": 39,
   "metadata": {},
   "outputs": [],
   "source": [
    "# feature_tree.all_nodes()"
   ]
  },
  {
   "cell_type": "code",
   "execution_count": 40,
   "metadata": {},
   "outputs": [
    {
     "name": "stdout",
     "output_type": "stream",
     "text": [
      "Counter({'amean': 35, 'stddevNorm': 30, 'percentile20.0': 2, 'percentile50.0': 2, 'percentile80.0': 2, 'pctlrange0-2': 2, 'meanRisingSlope': 2, 'stddevRisingSlope': 2, 'meanFallingSlope': 2, 'stddevFallingSlope': 2, 'loudnessPeaksPerSec': 1, 'VoicedSegmentsPerSec': 1, 'MeanVoicedSegmentLengthSec': 1, 'StddevVoicedSegmentLengthSec': 1, 'MeanUnvoicedSegmentLength': 1, 'StddevUnvoicedSegmentLength': 1, 'dBp': 1})\n"
     ]
    }
   ],
   "source": [
    "feature_endings = []\n",
    "analysis_by_endings = {}\n",
    "\n",
    "for column in speeches_train.columns:\n",
    "    feature_parent, delimiter, ending = column.rpartition(\"_\")\n",
    "    feature_endings.append(ending)\n",
    "    \n",
    "    if ending not in analysis_by_endings.keys():\n",
    "        analysis_by_endings[ending] = {\"features\": []}\n",
    "    \n",
    "    analysis_by_endings[ending][\"features\"].append(column)\n",
    "    \n",
    "print(Counter(feature_endings))"
   ]
  },
  {
   "cell_type": "markdown",
   "metadata": {},
   "source": [
    "### Feature optimisation section"
   ]
  },
  {
   "cell_type": "code",
   "execution_count": 41,
   "metadata": {},
   "outputs": [],
   "source": [
    "classifier_for_feature_optimisation = svc\n",
    "baseline_f1_score = initial_classifier_results[\"svc\"][\"val\"][\"F1\"]\n",
    "\n",
    "features_used_for_testing = 10_000 # 50 # 600\n",
    "\n",
    "speeches_train_copy = speeches_train.copy()\n",
    "speeches_train_copy.drop(speeches_train.columns[features_used_for_testing:], axis=1, inplace=True)\n",
    "speeches_val_copy = speeches_val.copy()\n",
    "speeches_val_copy.drop(speeches_val.columns[features_used_for_testing:], axis=1, inplace=True)"
   ]
  },
  {
   "cell_type": "code",
   "execution_count": 42,
   "metadata": {
    "scrolled": true
   },
   "outputs": [],
   "source": [
    "# ### Separated model to reduce time demands\n",
    "\n",
    "# from ipywidgets import IntProgress\n",
    "\n",
    "# # raise Exception(\"Prevent this cell from running so that it doesn't get stuck\")\n",
    "\n",
    "# endings_progress_bar = IntProgress(\n",
    "#     min=0,\n",
    "#     max=len(analysis_by_endings.keys())-1,\n",
    "#     description = f\"0/{len(analysis_by_endings)-1} ending\"\n",
    "# )\n",
    "\n",
    "# progress_bar = IntProgress(\n",
    "#     min=0,\n",
    "#     max=len(speeches_train_copy.columns)-1,\n",
    "#     description = f\"0th feature\"\n",
    "# )\n",
    "\n",
    "# inner_progress_bar = IntProgress(\n",
    "#     min=0,\n",
    "#     max=len(speeches_train.columns)-1,\n",
    "#     description = f\"0/{len(speeches_train_copy.columns)-1}\"\n",
    "# )\n",
    "\n",
    "# display(endings_progress_bar)\n",
    "# display(progress_bar)\n",
    "# display(inner_progress_bar)\n",
    "\n",
    "# for ending_index, data in enumerate(list(analysis_by_endings.values())):\n",
    "#     data[\"final_data_frame\"] = pd.DataFrame()\n",
    "#     data[\"removed_features\"] = []\n",
    "\n",
    "#     speeches_train_copy = speeches_train.copy()[data[\"features\"]]\n",
    "#     speeches_val_copy = speeches_val.copy()[data[\"features\"]]\n",
    "    \n",
    "#     progress_bar.value = 0\n",
    "#     progress_bar.max = len(speeches_train_copy.columns)-1\n",
    "#     inner_progress_bar.value = 0\n",
    "#     inner_progress_bar.max = len(speeches_train_copy.columns)-1\n",
    "#     endings_progress_bar.description = f\"{ending_index}/{len(analysis_by_endings)-1} ending\"\n",
    "    \n",
    "#     for feature_index in range(len(speeches_train_copy.columns)-1): # -1 so that the last feature is not deleted and an empty DataFrame is passed\n",
    "#         progress_bar.description = f\"{feature_index}/{len(speeches_train_copy.columns)-1} feature\"\n",
    "\n",
    "#         # Setting the new baseline\n",
    "#         result = fit_predict_and_score_classifier(\n",
    "#                 classifier_for_feature_optimisation,\n",
    "#                 speeches_train_copy,\n",
    "#                 speeches_val_copy, # speeches_val,\n",
    "#                 emotions_train,\n",
    "#                 emotions_val,\n",
    "#                 set(emotions)\n",
    "#             )\n",
    "#         max_f1_score = result[\"val\"][\"F1\"]\n",
    "#         column_to_remove = None\n",
    "\n",
    "#         # Finding the worst F1-reducing feature\n",
    "#         inner_progress_bar.max = len(speeches_train_copy.columns)\n",
    "#         inner_progress_bar.value = 0\n",
    "\n",
    "#         for index, column in enumerate(speeches_train_copy.columns):\n",
    "#             inner_progress_bar.description = f\"{index}/{len(speeches_train_copy.columns)-1}\"\n",
    "\n",
    "#             result = fit_predict_and_score_classifier(\n",
    "#                 classifier_for_feature_optimisation,\n",
    "#                 speeches_train_copy.drop([column], axis=1),\n",
    "#                 speeches_val_copy.drop([column], axis=1), # speeches_val.drop([column], axis=1),\n",
    "#                 emotions_train,\n",
    "#                 emotions_val,\n",
    "#                 set(emotions)\n",
    "#             )\n",
    "#             f1_score = result[\"val\"][\"F1\"]\n",
    "\n",
    "#             if f1_score > max_f1_score:\n",
    "#                 max_f1_score = f1_score\n",
    "#                 column_to_remove = column\n",
    "\n",
    "#             inner_progress_bar.value += 1\n",
    "\n",
    "#         # Removing the worst feature\n",
    "#         if column_to_remove is not None:\n",
    "#             speeches_train_copy.drop([column_to_remove], axis=1, inplace=True)\n",
    "#             speeches_val_copy.drop([column_to_remove], axis=1, inplace=True) # speeches_val.drop([column_to_remove], axis=1, inplace=True)\n",
    "#             data[\"removed_features\"].append((column_to_remove, max_f1_score, max_f1_score - f1_score))\n",
    "#             progress_bar.value += 1\n",
    "#         else:\n",
    "#             progress_bar.value = progress_bar.max\n",
    "#             inner_progress_bar.value = inner_progress_bar.max\n",
    "#             data[\"final_data_frame\"] = speeches_train_copy.copy()\n",
    "#             break\n",
    "            \n",
    "#     endings_progress_bar.value += 1"
   ]
  },
  {
   "cell_type": "code",
   "execution_count": 43,
   "metadata": {},
   "outputs": [
    {
     "data": {
      "application/vnd.jupyter.widget-view+json": {
       "model_id": "ae69fb885a914b21af08ab336c398324",
       "version_major": 2,
       "version_minor": 0
      },
      "text/plain": [
       "IntProgress(value=0, description='0th feature', max=87)"
      ]
     },
     "metadata": {},
     "output_type": "display_data"
    },
    {
     "data": {
      "application/vnd.jupyter.widget-view+json": {
       "model_id": "1ebd596c177149169c60e0d684f9d7d0",
       "version_major": 2,
       "version_minor": 0
      },
      "text/plain": [
       "IntProgress(value=0, description='0/87', max=87)"
      ]
     },
     "metadata": {},
     "output_type": "display_data"
    }
   ],
   "source": [
    "### Full version (slow but checking everything)\n",
    "\n",
    "\n",
    "from ipywidgets import IntProgress\n",
    "\n",
    "# raise Exception(\"Prevent this cell from running so that it doesn't get stuck\")\n",
    "\n",
    "progress_bar = IntProgress(\n",
    "    min=0,\n",
    "    max=len(speeches_train_copy.columns)-1,\n",
    "    description = f\"0th feature\"\n",
    ")\n",
    "\n",
    "inner_progress_bar = IntProgress(\n",
    "    min=0,\n",
    "    max=len(speeches_train.columns)-1,\n",
    "    description = f\"0/{len(speeches_train_copy.columns)-1}\"\n",
    ")\n",
    "\n",
    "display(progress_bar)\n",
    "display(inner_progress_bar)\n",
    "\n",
    "data = []\n",
    "final_data_frame = None\n",
    "# data[\"final_data_frame\"] = pd.DataFrame()\n",
    "# data[\"removed_features\"] = []\n",
    "\n",
    "speeches_train_copy = speeches_train.copy()\n",
    "speeches_val_copy = speeches_val.copy()\n",
    "\n",
    "progress_bar.value = 0\n",
    "progress_bar.max = len(speeches_train_copy.columns)-1\n",
    "inner_progress_bar.value = 0\n",
    "inner_progress_bar.max = len(speeches_train_copy.columns)-1\n",
    "\n",
    "for feature_index in range(len(speeches_train_copy.columns)-1): # -1 so that the last feature is not deleted and an empty DataFrame is passed\n",
    "    progress_bar.description = f\"{feature_index}/{len(speeches_train_copy.columns)-1} feature\"\n",
    "\n",
    "    # Setting the new baseline\n",
    "    result = fit_predict_and_score_classifier(\n",
    "            classifier_for_feature_optimisation,\n",
    "            speeches_train_copy,\n",
    "            speeches_val_copy, # speeches_val,\n",
    "            emotions_train,\n",
    "            emotions_val,\n",
    "            set(emotions)\n",
    "        )\n",
    "    max_f1_score = result[\"val\"][\"F1\"]\n",
    "    column_to_remove = None\n",
    "\n",
    "    # Finding the worst F1-reducing feature\n",
    "    inner_progress_bar.max = len(speeches_train_copy.columns)\n",
    "    inner_progress_bar.value = 0\n",
    "\n",
    "    for index, column in enumerate(speeches_train_copy.columns):\n",
    "        inner_progress_bar.description = f\"{index}/{len(speeches_train_copy.columns)-1}\"\n",
    "\n",
    "        result = fit_predict_and_score_classifier(\n",
    "            classifier_for_feature_optimisation,\n",
    "            speeches_train_copy.drop([column], axis=1),\n",
    "            speeches_val_copy.drop([column], axis=1), # speeches_val.drop([column], axis=1),\n",
    "            emotions_train,\n",
    "            emotions_val,\n",
    "            set(emotions)\n",
    "        )\n",
    "        f1_score = result[\"val\"][\"F1\"]\n",
    "\n",
    "        if f1_score > max_f1_score:\n",
    "            max_f1_score = f1_score\n",
    "            column_to_remove = column\n",
    "\n",
    "        inner_progress_bar.value += 1\n",
    "\n",
    "    # Removing the worst feature\n",
    "    if column_to_remove is not None:\n",
    "        speeches_train_copy.drop([column_to_remove], axis=1, inplace=True)\n",
    "        speeches_val_copy.drop([column_to_remove], axis=1, inplace=True) # speeches_val.drop([column_to_remove], axis=1, inplace=True)\n",
    "        data.append((column_to_remove, max_f1_score, max_f1_score - f1_score))\n",
    "        progress_bar.value += 1\n",
    "    else:\n",
    "        progress_bar.value = progress_bar.max\n",
    "        inner_progress_bar.value = inner_progress_bar.max\n",
    "        final_data_frame = speeches_train_copy.copy()\n",
    "        break"
   ]
  },
  {
   "cell_type": "code",
   "execution_count": 44,
   "metadata": {},
   "outputs": [
    {
     "data": {
      "text/plain": [
       "[('shimmerLocaldB_sma3nz_amean', 0.6199926243625395, 0.027575027339679314),\n",
       " ('hammarbergIndexV_sma3nz_stddevNorm',\n",
       "  0.6465581730108272,\n",
       "  0.03341155681244523),\n",
       " ('logRelF0-H1-A3_sma3nz_stddevNorm',\n",
       "  0.6526467669850022,\n",
       "  0.020067151010703443),\n",
       " ('mfcc3V_sma3nz_stddevNorm', 0.6584668330024367, 0.020033144629947874),\n",
       " ('loudness_sma3_stddevNorm', 0.661452737873628, 0.0027942085526139193),\n",
       " ('loudness_sma3_percentile20.0', 0.6817580452305853, 0.02806856156938775),\n",
       " ('spectralFlux_sma3_stddevNorm', 0.6838312564376394, 0.022329849557541914),\n",
       " ('StddevUnvoicedSegmentLength', 0.690751615208137, 0.021246120702642424),\n",
       " ('mfcc1_sma3_stddevNorm', 0.6961292832093504, 0.005247604827672059),\n",
       " ('logRelF0-H1-H2_sma3nz_stddevNorm',\n",
       "  0.6973583737885798,\n",
       "  0.007599557399328605),\n",
       " ('mfcc3_sma3_stddevNorm', 0.7036076927381275, 0.012554243148092503)]"
      ]
     },
     "execution_count": 44,
     "metadata": {},
     "output_type": "execute_result"
    }
   ],
   "source": [
    "data"
   ]
  },
  {
   "cell_type": "code",
   "execution_count": 45,
   "metadata": {},
   "outputs": [],
   "source": [
    "removed_columns = [entry[0] for entry in data]\n",
    "speeches_train_pruned = speeches_train.copy().drop(removed_columns, axis=1)\n",
    "speeches_val_pruned = speeches_val.copy().drop(removed_columns, axis=1)\n",
    "speeches_test_pruned = speeches_test.copy().drop(removed_columns, axis=1)\n",
    "\n",
    "multi_class_pruned_parameters = (speeches_train_pruned, speeches_val_pruned, emotions_train, emotions_val, set(emotions))"
   ]
  },
  {
   "cell_type": "code",
   "execution_count": 46,
   "metadata": {},
   "outputs": [
    {
     "name": "stdout",
     "output_type": "stream",
     "text": [
      "88 77\n"
     ]
    }
   ],
   "source": [
    "print(len(speeches_train.columns), len(speeches_train_pruned.columns))"
   ]
  },
  {
   "cell_type": "code",
   "execution_count": 47,
   "metadata": {},
   "outputs": [],
   "source": [
    "initial_classifier_results[\"svc_pruned\"] = fit_predict_and_score_classifier(svc, *multi_class_parameters)"
   ]
  },
  {
   "cell_type": "code",
   "execution_count": 48,
   "metadata": {},
   "outputs": [
    {
     "name": "stderr",
     "output_type": "stream",
     "text": [
      "C:\\Users\\Matas\\AppData\\Local\\Temp\\ipykernel_18864\\2014226108.py:39: FutureWarning: The frame.append method is deprecated and will be removed from pandas in a future version. Use pandas.concat instead.\n",
      "  table = table.append(new_row, ignore_index=True)\n",
      "C:\\Users\\Matas\\AppData\\Local\\Temp\\ipykernel_18864\\2014226108.py:39: FutureWarning: The frame.append method is deprecated and will be removed from pandas in a future version. Use pandas.concat instead.\n",
      "  table = table.append(new_row, ignore_index=True)\n",
      "C:\\Users\\Matas\\AppData\\Local\\Temp\\ipykernel_18864\\2014226108.py:39: FutureWarning: The frame.append method is deprecated and will be removed from pandas in a future version. Use pandas.concat instead.\n",
      "  table = table.append(new_row, ignore_index=True)\n",
      "C:\\Users\\Matas\\AppData\\Local\\Temp\\ipykernel_18864\\2014226108.py:39: FutureWarning: The frame.append method is deprecated and will be removed from pandas in a future version. Use pandas.concat instead.\n",
      "  table = table.append(new_row, ignore_index=True)\n",
      "C:\\Users\\Matas\\AppData\\Local\\Temp\\ipykernel_18864\\2014226108.py:39: FutureWarning: The frame.append method is deprecated and will be removed from pandas in a future version. Use pandas.concat instead.\n",
      "  table = table.append(new_row, ignore_index=True)\n",
      "C:\\Users\\Matas\\AppData\\Local\\Temp\\ipykernel_18864\\2014226108.py:39: FutureWarning: The frame.append method is deprecated and will be removed from pandas in a future version. Use pandas.concat instead.\n",
      "  table = table.append(new_row, ignore_index=True)\n",
      "C:\\Users\\Matas\\AppData\\Local\\Temp\\ipykernel_18864\\2014226108.py:39: FutureWarning: The frame.append method is deprecated and will be removed from pandas in a future version. Use pandas.concat instead.\n",
      "  table = table.append(new_row, ignore_index=True)\n",
      "C:\\Users\\Matas\\AppData\\Local\\Temp\\ipykernel_18864\\2014226108.py:39: FutureWarning: The frame.append method is deprecated and will be removed from pandas in a future version. Use pandas.concat instead.\n",
      "  table = table.append(new_row, ignore_index=True)\n",
      "C:\\Users\\Matas\\AppData\\Local\\Temp\\ipykernel_18864\\2014226108.py:39: FutureWarning: The frame.append method is deprecated and will be removed from pandas in a future version. Use pandas.concat instead.\n",
      "  table = table.append(new_row, ignore_index=True)\n",
      "C:\\Users\\Matas\\AppData\\Local\\Temp\\ipykernel_18864\\2014226108.py:39: FutureWarning: The frame.append method is deprecated and will be removed from pandas in a future version. Use pandas.concat instead.\n",
      "  table = table.append(new_row, ignore_index=True)\n"
     ]
    },
    {
     "data": {
      "text/html": [
       "<div>\n",
       "<style scoped>\n",
       "    .dataframe tbody tr th:only-of-type {\n",
       "        vertical-align: middle;\n",
       "    }\n",
       "\n",
       "    .dataframe tbody tr th {\n",
       "        vertical-align: top;\n",
       "    }\n",
       "\n",
       "    .dataframe thead th {\n",
       "        text-align: right;\n",
       "    }\n",
       "</style>\n",
       "<table border=\"1\" class=\"dataframe\">\n",
       "  <thead>\n",
       "    <tr style=\"text-align: right;\">\n",
       "      <th></th>\n",
       "      <th>Classifier</th>\n",
       "      <th>Set type</th>\n",
       "      <th>predictions</th>\n",
       "      <th>accuracy</th>\n",
       "      <th>precision</th>\n",
       "      <th>recall</th>\n",
       "      <th>F1</th>\n",
       "    </tr>\n",
       "  </thead>\n",
       "  <tbody>\n",
       "    <tr>\n",
       "      <th>0</th>\n",
       "      <td>dummy_classifier_most_frequent</td>\n",
       "      <td>train</td>\n",
       "      <td>[angry, angry, angry, angry, angry, angry, ang...</td>\n",
       "      <td>0.133681</td>\n",
       "      <td>0.891710</td>\n",
       "      <td>0.125000</td>\n",
       "      <td>0.029479</td>\n",
       "    </tr>\n",
       "    <tr>\n",
       "      <th>1</th>\n",
       "      <td>dummy_classifier_most_frequent</td>\n",
       "      <td>val</td>\n",
       "      <td>[angry, angry, angry, angry, angry, angry, ang...</td>\n",
       "      <td>0.131944</td>\n",
       "      <td>0.891493</td>\n",
       "      <td>0.125000</td>\n",
       "      <td>0.029141</td>\n",
       "    </tr>\n",
       "    <tr>\n",
       "      <th>2</th>\n",
       "      <td>dummy_classifier_stratified</td>\n",
       "      <td>train</td>\n",
       "      <td>[surprised, fearful, sad, calm, fearful, angry...</td>\n",
       "      <td>0.124132</td>\n",
       "      <td>0.119830</td>\n",
       "      <td>0.119563</td>\n",
       "      <td>0.119478</td>\n",
       "    </tr>\n",
       "    <tr>\n",
       "      <th>3</th>\n",
       "      <td>dummy_classifier_stratified</td>\n",
       "      <td>val</td>\n",
       "      <td>[angry, angry, angry, disgust, angry, happy, d...</td>\n",
       "      <td>0.166667</td>\n",
       "      <td>0.173215</td>\n",
       "      <td>0.168750</td>\n",
       "      <td>0.169163</td>\n",
       "    </tr>\n",
       "    <tr>\n",
       "      <th>4</th>\n",
       "      <td>logistic_regression</td>\n",
       "      <td>train</td>\n",
       "      <td>[angry, happy, calm, happy, neutral, neutral, ...</td>\n",
       "      <td>0.763889</td>\n",
       "      <td>0.761988</td>\n",
       "      <td>0.762210</td>\n",
       "      <td>0.761048</td>\n",
       "    </tr>\n",
       "    <tr>\n",
       "      <th>5</th>\n",
       "      <td>logistic_regression</td>\n",
       "      <td>val</td>\n",
       "      <td>[calm, angry, happy, calm, fearful, angry, sur...</td>\n",
       "      <td>0.604167</td>\n",
       "      <td>0.601776</td>\n",
       "      <td>0.610197</td>\n",
       "      <td>0.603314</td>\n",
       "    </tr>\n",
       "    <tr>\n",
       "      <th>6</th>\n",
       "      <td>svc</td>\n",
       "      <td>train</td>\n",
       "      <td>[angry, happy, calm, happy, surprised, calm, f...</td>\n",
       "      <td>0.796007</td>\n",
       "      <td>0.798800</td>\n",
       "      <td>0.776510</td>\n",
       "      <td>0.780752</td>\n",
       "    </tr>\n",
       "    <tr>\n",
       "      <th>7</th>\n",
       "      <td>svc</td>\n",
       "      <td>val</td>\n",
       "      <td>[calm, angry, angry, calm, happy, angry, happy...</td>\n",
       "      <td>0.625000</td>\n",
       "      <td>0.619556</td>\n",
       "      <td>0.606250</td>\n",
       "      <td>0.606615</td>\n",
       "    </tr>\n",
       "    <tr>\n",
       "      <th>8</th>\n",
       "      <td>svc_pruned</td>\n",
       "      <td>train</td>\n",
       "      <td>[angry, happy, calm, happy, surprised, calm, f...</td>\n",
       "      <td>0.796007</td>\n",
       "      <td>0.798800</td>\n",
       "      <td>0.776510</td>\n",
       "      <td>0.780752</td>\n",
       "    </tr>\n",
       "    <tr>\n",
       "      <th>9</th>\n",
       "      <td>svc_pruned</td>\n",
       "      <td>val</td>\n",
       "      <td>[calm, angry, angry, calm, happy, angry, happy...</td>\n",
       "      <td>0.625000</td>\n",
       "      <td>0.619556</td>\n",
       "      <td>0.606250</td>\n",
       "      <td>0.606615</td>\n",
       "    </tr>\n",
       "  </tbody>\n",
       "</table>\n",
       "</div>"
      ],
      "text/plain": [
       "                       Classifier Set type  \\\n",
       "0  dummy_classifier_most_frequent    train   \n",
       "1  dummy_classifier_most_frequent      val   \n",
       "2     dummy_classifier_stratified    train   \n",
       "3     dummy_classifier_stratified      val   \n",
       "4             logistic_regression    train   \n",
       "5             logistic_regression      val   \n",
       "6                             svc    train   \n",
       "7                             svc      val   \n",
       "8                      svc_pruned    train   \n",
       "9                      svc_pruned      val   \n",
       "\n",
       "                                         predictions  accuracy  precision  \\\n",
       "0  [angry, angry, angry, angry, angry, angry, ang...  0.133681   0.891710   \n",
       "1  [angry, angry, angry, angry, angry, angry, ang...  0.131944   0.891493   \n",
       "2  [surprised, fearful, sad, calm, fearful, angry...  0.124132   0.119830   \n",
       "3  [angry, angry, angry, disgust, angry, happy, d...  0.166667   0.173215   \n",
       "4  [angry, happy, calm, happy, neutral, neutral, ...  0.763889   0.761988   \n",
       "5  [calm, angry, happy, calm, fearful, angry, sur...  0.604167   0.601776   \n",
       "6  [angry, happy, calm, happy, surprised, calm, f...  0.796007   0.798800   \n",
       "7  [calm, angry, angry, calm, happy, angry, happy...  0.625000   0.619556   \n",
       "8  [angry, happy, calm, happy, surprised, calm, f...  0.796007   0.798800   \n",
       "9  [calm, angry, angry, calm, happy, angry, happy...  0.625000   0.619556   \n",
       "\n",
       "     recall        F1  \n",
       "0  0.125000  0.029479  \n",
       "1  0.125000  0.029141  \n",
       "2  0.119563  0.119478  \n",
       "3  0.168750  0.169163  \n",
       "4  0.762210  0.761048  \n",
       "5  0.610197  0.603314  \n",
       "6  0.776510  0.780752  \n",
       "7  0.606250  0.606615  \n",
       "8  0.776510  0.780752  \n",
       "9  0.606250  0.606615  "
      ]
     },
     "metadata": {},
     "output_type": "display_data"
    }
   ],
   "source": [
    "post_prunation_classifier_results_table = create_result_table(initial_classifier_results)\n",
    "display(post_prunation_classifier_results_table)"
   ]
  },
  {
   "cell_type": "markdown",
   "metadata": {},
   "source": [
    "### Hyperparameter optimisation"
   ]
  },
  {
   "cell_type": "code",
   "execution_count": 49,
   "metadata": {},
   "outputs": [
    {
     "data": {
      "text/html": [
       "<style>#sk-container-id-1 {color: black;background-color: white;}#sk-container-id-1 pre{padding: 0;}#sk-container-id-1 div.sk-toggleable {background-color: white;}#sk-container-id-1 label.sk-toggleable__label {cursor: pointer;display: block;width: 100%;margin-bottom: 0;padding: 0.3em;box-sizing: border-box;text-align: center;}#sk-container-id-1 label.sk-toggleable__label-arrow:before {content: \"▸\";float: left;margin-right: 0.25em;color: #696969;}#sk-container-id-1 label.sk-toggleable__label-arrow:hover:before {color: black;}#sk-container-id-1 div.sk-estimator:hover label.sk-toggleable__label-arrow:before {color: black;}#sk-container-id-1 div.sk-toggleable__content {max-height: 0;max-width: 0;overflow: hidden;text-align: left;background-color: #f0f8ff;}#sk-container-id-1 div.sk-toggleable__content pre {margin: 0.2em;color: black;border-radius: 0.25em;background-color: #f0f8ff;}#sk-container-id-1 input.sk-toggleable__control:checked~div.sk-toggleable__content {max-height: 200px;max-width: 100%;overflow: auto;}#sk-container-id-1 input.sk-toggleable__control:checked~label.sk-toggleable__label-arrow:before {content: \"▾\";}#sk-container-id-1 div.sk-estimator input.sk-toggleable__control:checked~label.sk-toggleable__label {background-color: #d4ebff;}#sk-container-id-1 div.sk-label input.sk-toggleable__control:checked~label.sk-toggleable__label {background-color: #d4ebff;}#sk-container-id-1 input.sk-hidden--visually {border: 0;clip: rect(1px 1px 1px 1px);clip: rect(1px, 1px, 1px, 1px);height: 1px;margin: -1px;overflow: hidden;padding: 0;position: absolute;width: 1px;}#sk-container-id-1 div.sk-estimator {font-family: monospace;background-color: #f0f8ff;border: 1px dotted black;border-radius: 0.25em;box-sizing: border-box;margin-bottom: 0.5em;}#sk-container-id-1 div.sk-estimator:hover {background-color: #d4ebff;}#sk-container-id-1 div.sk-parallel-item::after {content: \"\";width: 100%;border-bottom: 1px solid gray;flex-grow: 1;}#sk-container-id-1 div.sk-label:hover label.sk-toggleable__label {background-color: #d4ebff;}#sk-container-id-1 div.sk-serial::before {content: \"\";position: absolute;border-left: 1px solid gray;box-sizing: border-box;top: 0;bottom: 0;left: 50%;z-index: 0;}#sk-container-id-1 div.sk-serial {display: flex;flex-direction: column;align-items: center;background-color: white;padding-right: 0.2em;padding-left: 0.2em;position: relative;}#sk-container-id-1 div.sk-item {position: relative;z-index: 1;}#sk-container-id-1 div.sk-parallel {display: flex;align-items: stretch;justify-content: center;background-color: white;position: relative;}#sk-container-id-1 div.sk-item::before, #sk-container-id-1 div.sk-parallel-item::before {content: \"\";position: absolute;border-left: 1px solid gray;box-sizing: border-box;top: 0;bottom: 0;left: 50%;z-index: -1;}#sk-container-id-1 div.sk-parallel-item {display: flex;flex-direction: column;z-index: 1;position: relative;background-color: white;}#sk-container-id-1 div.sk-parallel-item:first-child::after {align-self: flex-end;width: 50%;}#sk-container-id-1 div.sk-parallel-item:last-child::after {align-self: flex-start;width: 50%;}#sk-container-id-1 div.sk-parallel-item:only-child::after {width: 0;}#sk-container-id-1 div.sk-dashed-wrapped {border: 1px dashed gray;margin: 0 0.4em 0.5em 0.4em;box-sizing: border-box;padding-bottom: 0.4em;background-color: white;}#sk-container-id-1 div.sk-label label {font-family: monospace;font-weight: bold;display: inline-block;line-height: 1.2em;}#sk-container-id-1 div.sk-label-container {text-align: center;}#sk-container-id-1 div.sk-container {/* jupyter's `normalize.less` sets `[hidden] { display: none; }` but bootstrap.min.css set `[hidden] { display: none !important; }` so we also need the `!important` here to be able to override the default hidden behavior on the sphinx rendered scikit-learn.org. See: https://github.com/scikit-learn/scikit-learn/issues/21755 */display: inline-block !important;position: relative;}#sk-container-id-1 div.sk-text-repr-fallback {display: none;}</style><div id=\"sk-container-id-1\" class=\"sk-top-container\"><div class=\"sk-text-repr-fallback\"><pre>GridSearchCV(estimator=SVC(),\n",
       "             param_grid={&#x27;C&#x27;: [0.1, 1, 5, 10, 20, 50],\n",
       "                         &#x27;gamma&#x27;: [&#x27;scale&#x27;, &#x27;auto&#x27;],\n",
       "                         &#x27;kernel&#x27;: [&#x27;linear&#x27;, &#x27;poly&#x27;, &#x27;rbf&#x27;, &#x27;sigmoid&#x27;],\n",
       "                         &#x27;shrinking&#x27;: [True, False]})</pre><b>In a Jupyter environment, please rerun this cell to show the HTML representation or trust the notebook. <br />On GitHub, the HTML representation is unable to render, please try loading this page with nbviewer.org.</b></div><div class=\"sk-container\" hidden><div class=\"sk-item sk-dashed-wrapped\"><div class=\"sk-label-container\"><div class=\"sk-label sk-toggleable\"><input class=\"sk-toggleable__control sk-hidden--visually\" id=\"sk-estimator-id-1\" type=\"checkbox\" ><label for=\"sk-estimator-id-1\" class=\"sk-toggleable__label sk-toggleable__label-arrow\">GridSearchCV</label><div class=\"sk-toggleable__content\"><pre>GridSearchCV(estimator=SVC(),\n",
       "             param_grid={&#x27;C&#x27;: [0.1, 1, 5, 10, 20, 50],\n",
       "                         &#x27;gamma&#x27;: [&#x27;scale&#x27;, &#x27;auto&#x27;],\n",
       "                         &#x27;kernel&#x27;: [&#x27;linear&#x27;, &#x27;poly&#x27;, &#x27;rbf&#x27;, &#x27;sigmoid&#x27;],\n",
       "                         &#x27;shrinking&#x27;: [True, False]})</pre></div></div></div><div class=\"sk-parallel\"><div class=\"sk-parallel-item\"><div class=\"sk-item\"><div class=\"sk-label-container\"><div class=\"sk-label sk-toggleable\"><input class=\"sk-toggleable__control sk-hidden--visually\" id=\"sk-estimator-id-2\" type=\"checkbox\" ><label for=\"sk-estimator-id-2\" class=\"sk-toggleable__label sk-toggleable__label-arrow\">estimator: SVC</label><div class=\"sk-toggleable__content\"><pre>SVC()</pre></div></div></div><div class=\"sk-serial\"><div class=\"sk-item\"><div class=\"sk-estimator sk-toggleable\"><input class=\"sk-toggleable__control sk-hidden--visually\" id=\"sk-estimator-id-3\" type=\"checkbox\" ><label for=\"sk-estimator-id-3\" class=\"sk-toggleable__label sk-toggleable__label-arrow\">SVC</label><div class=\"sk-toggleable__content\"><pre>SVC()</pre></div></div></div></div></div></div></div></div></div></div>"
      ],
      "text/plain": [
       "GridSearchCV(estimator=SVC(),\n",
       "             param_grid={'C': [0.1, 1, 5, 10, 20, 50],\n",
       "                         'gamma': ['scale', 'auto'],\n",
       "                         'kernel': ['linear', 'poly', 'rbf', 'sigmoid'],\n",
       "                         'shrinking': [True, False]})"
      ]
     },
     "execution_count": 49,
     "metadata": {},
     "output_type": "execute_result"
    }
   ],
   "source": [
    "from sklearn.model_selection import GridSearchCV\n",
    "\n",
    "svc_parameters = {\n",
    "    \"kernel\": [\"linear\", \"poly\", \"rbf\", \"sigmoid\"],\n",
    "    \"C\": [0.1, 1, 5, 10, 20, 50],\n",
    "    \"gamma\": [\"scale\", \"auto\"],\n",
    "    \"shrinking\": [True, False],\n",
    "}\n",
    "\n",
    "parametrised_svc = GridSearchCV(svc, svc_parameters)\n",
    "parametrised_svc.fit(speeches_train_pruned, emotions_train)"
   ]
  },
  {
   "cell_type": "code",
   "execution_count": 50,
   "metadata": {
    "scrolled": false
   },
   "outputs": [
    {
     "data": {
      "text/plain": [
       "dict_items([('mean_fit_time', array([ 0.04805999,  0.06005087,  0.06351876,  0.06393752,  0.0821341 ,\n",
       "        0.08277488,  0.07495265,  0.07544689,  0.04755492,  0.05875335,\n",
       "        0.06203523,  0.06289835,  0.08175292,  0.08165827,  0.07334552,\n",
       "        0.07333026,  0.12559085,  0.20757284,  0.05979619,  0.06167397,\n",
       "        0.06666756,  0.06797099,  0.05333214,  0.05161238,  0.12389884,\n",
       "        0.20965033,  0.05591035,  0.0566731 ,  0.063445  ,  0.06263704,\n",
       "        0.04773993,  0.04672036,  0.3430819 ,  0.59702811,  0.05307097,\n",
       "        0.05225291,  0.07283425,  0.06870236,  0.04077821,  0.04142761,\n",
       "        0.37759514,  0.59694653,  0.05269275,  0.05308199,  0.0691227 ,\n",
       "        0.06191039,  0.03731604,  0.04120827,  0.55114169,  0.78688102,\n",
       "        0.05613937,  0.05475254,  0.07613215,  0.07113147,  0.03815494,\n",
       "        0.03915009,  0.52389522,  0.81521869,  0.05671387,  0.05221367,\n",
       "        0.07296834,  0.06419382,  0.03547215,  0.0381536 ,  0.8345149 ,\n",
       "        1.32569723,  0.0653964 ,  0.06722059,  0.08504477,  0.07177973,\n",
       "        0.03789454,  0.03792186,  0.9515501 ,  1.27451978,  0.06241364,\n",
       "        0.05395098,  0.07747912,  0.06959858,  0.03438063,  0.03537912,\n",
       "        1.13977661, 13.5856441 ,  0.14565492,  0.11188502,  0.10280328,\n",
       "        0.08782811,  0.04477553,  0.04578362,  1.36628518,  1.95651441,\n",
       "        0.06791449,  0.06115956,  0.08187451,  0.07307882,  0.0377296 ,\n",
       "        0.03973112])), ('std_fit_time', array([1.85817569e-03, 3.89681094e-03, 1.25388563e-03, 2.27673722e-03,\n",
       "       2.07291936e-03, 2.32424757e-03, 1.98577294e-03, 1.50683185e-03,\n",
       "       5.26711428e-04, 1.42579727e-03, 1.44002750e-03, 1.81420823e-03,\n",
       "       9.57788659e-04, 7.62803894e-04, 1.30833946e-03, 1.31886405e-03,\n",
       "       5.54677909e-03, 7.63593519e-03, 1.35394725e-03, 1.99445604e-03,\n",
       "       2.58794703e-03, 2.54578718e-03, 2.51220396e-03, 1.06834268e-03,\n",
       "       5.99827702e-03, 7.37792476e-03, 6.62586379e-04, 8.36130570e-04,\n",
       "       1.00835136e-03, 1.08949062e-03, 1.07545699e-03, 1.19036037e-03,\n",
       "       5.20390689e-02, 1.00006443e-01, 7.38395810e-04, 1.02525156e-04,\n",
       "       3.80897675e-03, 6.26616472e-04, 2.05794809e-03, 1.33072682e-03,\n",
       "       5.98106538e-02, 7.22528900e-02, 1.04649028e-03, 7.74577133e-04,\n",
       "       1.49937154e-03, 8.50281281e-04, 1.49431420e-03, 2.34041189e-03,\n",
       "       3.09558839e-02, 5.45185747e-02, 7.90795901e-04, 8.97511563e-04,\n",
       "       2.25779119e-03, 2.79934052e-03, 1.46915224e-03, 1.72937157e-03,\n",
       "       2.49416139e-02, 6.85560881e-02, 2.03765793e-03, 6.37249521e-04,\n",
       "       1.22501549e-03, 8.78866024e-04, 1.34249826e-03, 1.70837837e-03,\n",
       "       2.20319625e-01, 2.24584322e-01, 1.79580090e-03, 6.82987271e-03,\n",
       "       6.13756996e-03, 2.66421865e-03, 7.28672013e-04, 1.81251610e-03,\n",
       "       1.99953604e-01, 1.93451593e-01, 3.26328443e-03, 4.96636543e-04,\n",
       "       5.51976600e-03, 1.59619841e-03, 2.11364365e-03, 2.04352654e-03,\n",
       "       3.09793247e-01, 2.37097337e+01, 4.14605989e-02, 3.32011277e-02,\n",
       "       8.63970334e-03, 3.80177627e-03, 2.17591083e-03, 4.36837346e-03,\n",
       "       3.28237011e-01, 2.01034316e-01, 5.23053762e-04, 1.18681647e-03,\n",
       "       7.97748232e-04, 2.07933535e-03, 1.66482417e-03, 2.69677591e-03])), ('mean_score_time', array([0.00920119, 0.00862331, 0.0116498 , 0.01104426, 0.02952909,\n",
       "       0.02932286, 0.01378069, 0.01484985, 0.00922995, 0.00924797,\n",
       "       0.01083426, 0.01124706, 0.02934074, 0.02929416, 0.01515908,\n",
       "       0.01435442, 0.00839148, 0.00874343, 0.01123376, 0.01107612,\n",
       "       0.02731442, 0.02741008, 0.0133491 , 0.01312566, 0.00860667,\n",
       "       0.00837493, 0.0102736 , 0.01027007, 0.02645617, 0.02614813,\n",
       "       0.01183395, 0.01129456, 0.0074192 , 0.00756164, 0.00923266,\n",
       "       0.00919971, 0.02624717, 0.02686725, 0.01144943, 0.01143999,\n",
       "       0.00811663, 0.00752254, 0.00967231, 0.00920019, 0.02383232,\n",
       "       0.02357974, 0.01125131, 0.01124024, 0.00760884, 0.00742683,\n",
       "       0.00923386, 0.00982571, 0.02512398, 0.02822728, 0.011444  ,\n",
       "       0.01093636, 0.007582  , 0.00800157, 0.0090198 , 0.00906234,\n",
       "       0.02399979, 0.02356887, 0.01023917, 0.01124349, 0.00742164,\n",
       "       0.00777569, 0.01003852, 0.0105123 , 0.02768812, 0.02712178,\n",
       "       0.01149182, 0.01063342, 0.0078198 , 0.00719738, 0.00895762,\n",
       "       0.00879765, 0.0237433 , 0.0249558 , 0.01003966, 0.01008029,\n",
       "       0.00738335, 0.00996265, 0.02080293, 0.01398158, 0.0332562 ,\n",
       "       0.03149457, 0.01251049, 0.01246305, 0.00908198, 0.00880327,\n",
       "       0.00979738, 0.0101078 , 0.02597523, 0.02703371, 0.01125541,\n",
       "       0.01107092])), ('std_score_time', array([6.90510169e-04, 4.63617673e-04, 9.95341201e-04, 3.98444741e-04,\n",
       "       1.21567302e-03, 7.84255641e-04, 5.63129938e-04, 5.55115654e-04,\n",
       "       6.19625392e-04, 1.35092267e-05, 5.08237672e-04, 6.18887765e-04,\n",
       "       1.64796338e-03, 4.68651599e-04, 6.99557106e-04, 8.91642932e-04,\n",
       "       3.10253964e-04, 8.20291664e-04, 6.15949818e-04, 3.65453815e-04,\n",
       "       5.12938166e-04, 3.85276705e-04, 6.76084829e-04, 7.73558947e-04,\n",
       "       4.74338757e-04, 4.20998471e-04, 7.83801360e-05, 7.51348302e-05,\n",
       "       2.88497909e-05, 5.52688175e-04, 4.85193124e-04, 8.89367646e-05,\n",
       "       3.96090852e-04, 5.13318919e-04, 6.20914490e-06, 7.88628116e-05,\n",
       "       1.04702077e-03, 4.70078120e-04, 4.15057798e-04, 3.98090191e-04,\n",
       "       1.14875663e-04, 3.76429049e-04, 4.82379452e-04, 7.92774723e-05,\n",
       "       3.63913984e-04, 1.14840030e-04, 6.43529200e-04, 6.53129427e-04,\n",
       "       4.95437488e-04, 4.09721329e-04, 6.75461337e-06, 4.99435902e-04,\n",
       "       1.40696397e-03, 3.22822956e-03, 3.90862799e-04, 4.81499259e-04,\n",
       "       5.69278535e-04, 3.83119503e-04, 4.10328568e-04, 4.12187577e-04,\n",
       "       5.32139215e-04, 7.14468411e-04, 6.32640497e-04, 6.57679327e-04,\n",
       "       3.95498168e-04, 5.12984721e-04, 3.96141193e-04, 5.13454687e-04,\n",
       "       1.31230216e-03, 1.83789495e-03, 3.93383067e-04, 5.03755685e-04,\n",
       "       4.73522506e-04, 1.12843390e-04, 4.63249422e-04, 5.41058973e-04,\n",
       "       3.69835084e-04, 4.56262187e-04, 4.00722713e-04, 4.48861672e-04,\n",
       "       4.26586341e-04, 4.52495815e-03, 5.57012978e-03, 4.24511546e-03,\n",
       "       4.89326509e-03, 3.48183398e-03, 4.44835387e-04, 4.47443074e-04,\n",
       "       1.33368224e-03, 8.98788418e-04, 3.97987083e-04, 1.99144598e-04,\n",
       "       4.15181295e-04, 1.15346985e-03, 6.42276475e-04, 6.23489946e-04])), ('param_C', masked_array(data=[0.1, 0.1, 0.1, 0.1, 0.1, 0.1, 0.1, 0.1, 0.1, 0.1, 0.1,\n",
       "                   0.1, 0.1, 0.1, 0.1, 0.1, 1, 1, 1, 1, 1, 1, 1, 1, 1, 1,\n",
       "                   1, 1, 1, 1, 1, 1, 5, 5, 5, 5, 5, 5, 5, 5, 5, 5, 5, 5,\n",
       "                   5, 5, 5, 5, 10, 10, 10, 10, 10, 10, 10, 10, 10, 10, 10,\n",
       "                   10, 10, 10, 10, 10, 20, 20, 20, 20, 20, 20, 20, 20, 20,\n",
       "                   20, 20, 20, 20, 20, 20, 20, 50, 50, 50, 50, 50, 50, 50,\n",
       "                   50, 50, 50, 50, 50, 50, 50, 50, 50],\n",
       "             mask=[False, False, False, False, False, False, False, False,\n",
       "                   False, False, False, False, False, False, False, False,\n",
       "                   False, False, False, False, False, False, False, False,\n",
       "                   False, False, False, False, False, False, False, False,\n",
       "                   False, False, False, False, False, False, False, False,\n",
       "                   False, False, False, False, False, False, False, False,\n",
       "                   False, False, False, False, False, False, False, False,\n",
       "                   False, False, False, False, False, False, False, False,\n",
       "                   False, False, False, False, False, False, False, False,\n",
       "                   False, False, False, False, False, False, False, False,\n",
       "                   False, False, False, False, False, False, False, False,\n",
       "                   False, False, False, False, False, False, False, False],\n",
       "       fill_value='?',\n",
       "            dtype=object)), ('param_gamma', masked_array(data=['scale', 'scale', 'scale', 'scale', 'scale', 'scale',\n",
       "                   'scale', 'scale', 'auto', 'auto', 'auto', 'auto',\n",
       "                   'auto', 'auto', 'auto', 'auto', 'scale', 'scale',\n",
       "                   'scale', 'scale', 'scale', 'scale', 'scale', 'scale',\n",
       "                   'auto', 'auto', 'auto', 'auto', 'auto', 'auto', 'auto',\n",
       "                   'auto', 'scale', 'scale', 'scale', 'scale', 'scale',\n",
       "                   'scale', 'scale', 'scale', 'auto', 'auto', 'auto',\n",
       "                   'auto', 'auto', 'auto', 'auto', 'auto', 'scale',\n",
       "                   'scale', 'scale', 'scale', 'scale', 'scale', 'scale',\n",
       "                   'scale', 'auto', 'auto', 'auto', 'auto', 'auto',\n",
       "                   'auto', 'auto', 'auto', 'scale', 'scale', 'scale',\n",
       "                   'scale', 'scale', 'scale', 'scale', 'scale', 'auto',\n",
       "                   'auto', 'auto', 'auto', 'auto', 'auto', 'auto', 'auto',\n",
       "                   'scale', 'scale', 'scale', 'scale', 'scale', 'scale',\n",
       "                   'scale', 'scale', 'auto', 'auto', 'auto', 'auto',\n",
       "                   'auto', 'auto', 'auto', 'auto'],\n",
       "             mask=[False, False, False, False, False, False, False, False,\n",
       "                   False, False, False, False, False, False, False, False,\n",
       "                   False, False, False, False, False, False, False, False,\n",
       "                   False, False, False, False, False, False, False, False,\n",
       "                   False, False, False, False, False, False, False, False,\n",
       "                   False, False, False, False, False, False, False, False,\n",
       "                   False, False, False, False, False, False, False, False,\n",
       "                   False, False, False, False, False, False, False, False,\n",
       "                   False, False, False, False, False, False, False, False,\n",
       "                   False, False, False, False, False, False, False, False,\n",
       "                   False, False, False, False, False, False, False, False,\n",
       "                   False, False, False, False, False, False, False, False],\n",
       "       fill_value='?',\n",
       "            dtype=object)), ('param_kernel', masked_array(data=['linear', 'linear', 'poly', 'poly', 'rbf', 'rbf',\n",
       "                   'sigmoid', 'sigmoid', 'linear', 'linear', 'poly',\n",
       "                   'poly', 'rbf', 'rbf', 'sigmoid', 'sigmoid', 'linear',\n",
       "                   'linear', 'poly', 'poly', 'rbf', 'rbf', 'sigmoid',\n",
       "                   'sigmoid', 'linear', 'linear', 'poly', 'poly', 'rbf',\n",
       "                   'rbf', 'sigmoid', 'sigmoid', 'linear', 'linear',\n",
       "                   'poly', 'poly', 'rbf', 'rbf', 'sigmoid', 'sigmoid',\n",
       "                   'linear', 'linear', 'poly', 'poly', 'rbf', 'rbf',\n",
       "                   'sigmoid', 'sigmoid', 'linear', 'linear', 'poly',\n",
       "                   'poly', 'rbf', 'rbf', 'sigmoid', 'sigmoid', 'linear',\n",
       "                   'linear', 'poly', 'poly', 'rbf', 'rbf', 'sigmoid',\n",
       "                   'sigmoid', 'linear', 'linear', 'poly', 'poly', 'rbf',\n",
       "                   'rbf', 'sigmoid', 'sigmoid', 'linear', 'linear',\n",
       "                   'poly', 'poly', 'rbf', 'rbf', 'sigmoid', 'sigmoid',\n",
       "                   'linear', 'linear', 'poly', 'poly', 'rbf', 'rbf',\n",
       "                   'sigmoid', 'sigmoid', 'linear', 'linear', 'poly',\n",
       "                   'poly', 'rbf', 'rbf', 'sigmoid', 'sigmoid'],\n",
       "             mask=[False, False, False, False, False, False, False, False,\n",
       "                   False, False, False, False, False, False, False, False,\n",
       "                   False, False, False, False, False, False, False, False,\n",
       "                   False, False, False, False, False, False, False, False,\n",
       "                   False, False, False, False, False, False, False, False,\n",
       "                   False, False, False, False, False, False, False, False,\n",
       "                   False, False, False, False, False, False, False, False,\n",
       "                   False, False, False, False, False, False, False, False,\n",
       "                   False, False, False, False, False, False, False, False,\n",
       "                   False, False, False, False, False, False, False, False,\n",
       "                   False, False, False, False, False, False, False, False,\n",
       "                   False, False, False, False, False, False, False, False],\n",
       "       fill_value='?',\n",
       "            dtype=object)), ('param_shrinking', masked_array(data=[True, False, True, False, True, False, True, False,\n",
       "                   True, False, True, False, True, False, True, False,\n",
       "                   True, False, True, False, True, False, True, False,\n",
       "                   True, False, True, False, True, False, True, False,\n",
       "                   True, False, True, False, True, False, True, False,\n",
       "                   True, False, True, False, True, False, True, False,\n",
       "                   True, False, True, False, True, False, True, False,\n",
       "                   True, False, True, False, True, False, True, False,\n",
       "                   True, False, True, False, True, False, True, False,\n",
       "                   True, False, True, False, True, False, True, False,\n",
       "                   True, False, True, False, True, False, True, False,\n",
       "                   True, False, True, False, True, False, True, False],\n",
       "             mask=[False, False, False, False, False, False, False, False,\n",
       "                   False, False, False, False, False, False, False, False,\n",
       "                   False, False, False, False, False, False, False, False,\n",
       "                   False, False, False, False, False, False, False, False,\n",
       "                   False, False, False, False, False, False, False, False,\n",
       "                   False, False, False, False, False, False, False, False,\n",
       "                   False, False, False, False, False, False, False, False,\n",
       "                   False, False, False, False, False, False, False, False,\n",
       "                   False, False, False, False, False, False, False, False,\n",
       "                   False, False, False, False, False, False, False, False,\n",
       "                   False, False, False, False, False, False, False, False,\n",
       "                   False, False, False, False, False, False, False, False],\n",
       "       fill_value='?',\n",
       "            dtype=object)), ('params', [{'C': 0.1, 'gamma': 'scale', 'kernel': 'linear', 'shrinking': True}, {'C': 0.1, 'gamma': 'scale', 'kernel': 'linear', 'shrinking': False}, {'C': 0.1, 'gamma': 'scale', 'kernel': 'poly', 'shrinking': True}, {'C': 0.1, 'gamma': 'scale', 'kernel': 'poly', 'shrinking': False}, {'C': 0.1, 'gamma': 'scale', 'kernel': 'rbf', 'shrinking': True}, {'C': 0.1, 'gamma': 'scale', 'kernel': 'rbf', 'shrinking': False}, {'C': 0.1, 'gamma': 'scale', 'kernel': 'sigmoid', 'shrinking': True}, {'C': 0.1, 'gamma': 'scale', 'kernel': 'sigmoid', 'shrinking': False}, {'C': 0.1, 'gamma': 'auto', 'kernel': 'linear', 'shrinking': True}, {'C': 0.1, 'gamma': 'auto', 'kernel': 'linear', 'shrinking': False}, {'C': 0.1, 'gamma': 'auto', 'kernel': 'poly', 'shrinking': True}, {'C': 0.1, 'gamma': 'auto', 'kernel': 'poly', 'shrinking': False}, {'C': 0.1, 'gamma': 'auto', 'kernel': 'rbf', 'shrinking': True}, {'C': 0.1, 'gamma': 'auto', 'kernel': 'rbf', 'shrinking': False}, {'C': 0.1, 'gamma': 'auto', 'kernel': 'sigmoid', 'shrinking': True}, {'C': 0.1, 'gamma': 'auto', 'kernel': 'sigmoid', 'shrinking': False}, {'C': 1, 'gamma': 'scale', 'kernel': 'linear', 'shrinking': True}, {'C': 1, 'gamma': 'scale', 'kernel': 'linear', 'shrinking': False}, {'C': 1, 'gamma': 'scale', 'kernel': 'poly', 'shrinking': True}, {'C': 1, 'gamma': 'scale', 'kernel': 'poly', 'shrinking': False}, {'C': 1, 'gamma': 'scale', 'kernel': 'rbf', 'shrinking': True}, {'C': 1, 'gamma': 'scale', 'kernel': 'rbf', 'shrinking': False}, {'C': 1, 'gamma': 'scale', 'kernel': 'sigmoid', 'shrinking': True}, {'C': 1, 'gamma': 'scale', 'kernel': 'sigmoid', 'shrinking': False}, {'C': 1, 'gamma': 'auto', 'kernel': 'linear', 'shrinking': True}, {'C': 1, 'gamma': 'auto', 'kernel': 'linear', 'shrinking': False}, {'C': 1, 'gamma': 'auto', 'kernel': 'poly', 'shrinking': True}, {'C': 1, 'gamma': 'auto', 'kernel': 'poly', 'shrinking': False}, {'C': 1, 'gamma': 'auto', 'kernel': 'rbf', 'shrinking': True}, {'C': 1, 'gamma': 'auto', 'kernel': 'rbf', 'shrinking': False}, {'C': 1, 'gamma': 'auto', 'kernel': 'sigmoid', 'shrinking': True}, {'C': 1, 'gamma': 'auto', 'kernel': 'sigmoid', 'shrinking': False}, {'C': 5, 'gamma': 'scale', 'kernel': 'linear', 'shrinking': True}, {'C': 5, 'gamma': 'scale', 'kernel': 'linear', 'shrinking': False}, {'C': 5, 'gamma': 'scale', 'kernel': 'poly', 'shrinking': True}, {'C': 5, 'gamma': 'scale', 'kernel': 'poly', 'shrinking': False}, {'C': 5, 'gamma': 'scale', 'kernel': 'rbf', 'shrinking': True}, {'C': 5, 'gamma': 'scale', 'kernel': 'rbf', 'shrinking': False}, {'C': 5, 'gamma': 'scale', 'kernel': 'sigmoid', 'shrinking': True}, {'C': 5, 'gamma': 'scale', 'kernel': 'sigmoid', 'shrinking': False}, {'C': 5, 'gamma': 'auto', 'kernel': 'linear', 'shrinking': True}, {'C': 5, 'gamma': 'auto', 'kernel': 'linear', 'shrinking': False}, {'C': 5, 'gamma': 'auto', 'kernel': 'poly', 'shrinking': True}, {'C': 5, 'gamma': 'auto', 'kernel': 'poly', 'shrinking': False}, {'C': 5, 'gamma': 'auto', 'kernel': 'rbf', 'shrinking': True}, {'C': 5, 'gamma': 'auto', 'kernel': 'rbf', 'shrinking': False}, {'C': 5, 'gamma': 'auto', 'kernel': 'sigmoid', 'shrinking': True}, {'C': 5, 'gamma': 'auto', 'kernel': 'sigmoid', 'shrinking': False}, {'C': 10, 'gamma': 'scale', 'kernel': 'linear', 'shrinking': True}, {'C': 10, 'gamma': 'scale', 'kernel': 'linear', 'shrinking': False}, {'C': 10, 'gamma': 'scale', 'kernel': 'poly', 'shrinking': True}, {'C': 10, 'gamma': 'scale', 'kernel': 'poly', 'shrinking': False}, {'C': 10, 'gamma': 'scale', 'kernel': 'rbf', 'shrinking': True}, {'C': 10, 'gamma': 'scale', 'kernel': 'rbf', 'shrinking': False}, {'C': 10, 'gamma': 'scale', 'kernel': 'sigmoid', 'shrinking': True}, {'C': 10, 'gamma': 'scale', 'kernel': 'sigmoid', 'shrinking': False}, {'C': 10, 'gamma': 'auto', 'kernel': 'linear', 'shrinking': True}, {'C': 10, 'gamma': 'auto', 'kernel': 'linear', 'shrinking': False}, {'C': 10, 'gamma': 'auto', 'kernel': 'poly', 'shrinking': True}, {'C': 10, 'gamma': 'auto', 'kernel': 'poly', 'shrinking': False}, {'C': 10, 'gamma': 'auto', 'kernel': 'rbf', 'shrinking': True}, {'C': 10, 'gamma': 'auto', 'kernel': 'rbf', 'shrinking': False}, {'C': 10, 'gamma': 'auto', 'kernel': 'sigmoid', 'shrinking': True}, {'C': 10, 'gamma': 'auto', 'kernel': 'sigmoid', 'shrinking': False}, {'C': 20, 'gamma': 'scale', 'kernel': 'linear', 'shrinking': True}, {'C': 20, 'gamma': 'scale', 'kernel': 'linear', 'shrinking': False}, {'C': 20, 'gamma': 'scale', 'kernel': 'poly', 'shrinking': True}, {'C': 20, 'gamma': 'scale', 'kernel': 'poly', 'shrinking': False}, {'C': 20, 'gamma': 'scale', 'kernel': 'rbf', 'shrinking': True}, {'C': 20, 'gamma': 'scale', 'kernel': 'rbf', 'shrinking': False}, {'C': 20, 'gamma': 'scale', 'kernel': 'sigmoid', 'shrinking': True}, {'C': 20, 'gamma': 'scale', 'kernel': 'sigmoid', 'shrinking': False}, {'C': 20, 'gamma': 'auto', 'kernel': 'linear', 'shrinking': True}, {'C': 20, 'gamma': 'auto', 'kernel': 'linear', 'shrinking': False}, {'C': 20, 'gamma': 'auto', 'kernel': 'poly', 'shrinking': True}, {'C': 20, 'gamma': 'auto', 'kernel': 'poly', 'shrinking': False}, {'C': 20, 'gamma': 'auto', 'kernel': 'rbf', 'shrinking': True}, {'C': 20, 'gamma': 'auto', 'kernel': 'rbf', 'shrinking': False}, {'C': 20, 'gamma': 'auto', 'kernel': 'sigmoid', 'shrinking': True}, {'C': 20, 'gamma': 'auto', 'kernel': 'sigmoid', 'shrinking': False}, {'C': 50, 'gamma': 'scale', 'kernel': 'linear', 'shrinking': True}, {'C': 50, 'gamma': 'scale', 'kernel': 'linear', 'shrinking': False}, {'C': 50, 'gamma': 'scale', 'kernel': 'poly', 'shrinking': True}, {'C': 50, 'gamma': 'scale', 'kernel': 'poly', 'shrinking': False}, {'C': 50, 'gamma': 'scale', 'kernel': 'rbf', 'shrinking': True}, {'C': 50, 'gamma': 'scale', 'kernel': 'rbf', 'shrinking': False}, {'C': 50, 'gamma': 'scale', 'kernel': 'sigmoid', 'shrinking': True}, {'C': 50, 'gamma': 'scale', 'kernel': 'sigmoid', 'shrinking': False}, {'C': 50, 'gamma': 'auto', 'kernel': 'linear', 'shrinking': True}, {'C': 50, 'gamma': 'auto', 'kernel': 'linear', 'shrinking': False}, {'C': 50, 'gamma': 'auto', 'kernel': 'poly', 'shrinking': True}, {'C': 50, 'gamma': 'auto', 'kernel': 'poly', 'shrinking': False}, {'C': 50, 'gamma': 'auto', 'kernel': 'rbf', 'shrinking': True}, {'C': 50, 'gamma': 'auto', 'kernel': 'rbf', 'shrinking': False}, {'C': 50, 'gamma': 'auto', 'kernel': 'sigmoid', 'shrinking': True}, {'C': 50, 'gamma': 'auto', 'kernel': 'sigmoid', 'shrinking': False}]), ('split0_test_score', array([0.58874459, 0.58874459, 0.25108225, 0.25108225, 0.43290043,\n",
       "       0.43290043, 0.4025974 , 0.4025974 , 0.58874459, 0.58874459,\n",
       "       0.25108225, 0.25108225, 0.43290043, 0.43290043, 0.3982684 ,\n",
       "       0.3982684 , 0.53246753, 0.53246753, 0.47619048, 0.47619048,\n",
       "       0.58008658, 0.58008658, 0.41125541, 0.41125541, 0.53246753,\n",
       "       0.53246753, 0.48051948, 0.48051948, 0.57575758, 0.57575758,\n",
       "       0.41991342, 0.41991342, 0.55411255, 0.55411255, 0.57575758,\n",
       "       0.57575758, 0.63203463, 0.63203463, 0.4025974 , 0.4025974 ,\n",
       "       0.55411255, 0.55411255, 0.58008658, 0.58008658, 0.63203463,\n",
       "       0.63203463, 0.38528139, 0.38528139, 0.61904762, 0.61904762,\n",
       "       0.59307359, 0.59307359, 0.64069264, 0.64069264, 0.40692641,\n",
       "       0.40692641, 0.61904762, 0.61904762, 0.58874459, 0.58874459,\n",
       "       0.64069264, 0.64069264, 0.41125541, 0.41125541, 0.58874459,\n",
       "       0.58874459, 0.58008658, 0.58008658, 0.63636364, 0.63636364,\n",
       "       0.36796537, 0.36796537, 0.58874459, 0.58874459, 0.58008658,\n",
       "       0.58008658, 0.62770563, 0.62770563, 0.38961039, 0.38961039,\n",
       "       0.55844156, 0.55844156, 0.56709957, 0.56709957, 0.63636364,\n",
       "       0.63636364, 0.37229437, 0.37229437, 0.55844156, 0.55844156,\n",
       "       0.56709957, 0.56709957, 0.62770563, 0.62770563, 0.40692641,\n",
       "       0.40692641])), ('split1_test_score', array([0.55411255, 0.55411255, 0.25541126, 0.25541126, 0.4025974 ,\n",
       "       0.4025974 , 0.41991342, 0.41991342, 0.55411255, 0.55411255,\n",
       "       0.25541126, 0.25541126, 0.4025974 , 0.4025974 , 0.41991342,\n",
       "       0.41991342, 0.54112554, 0.54112554, 0.41558442, 0.41558442,\n",
       "       0.57142857, 0.57142857, 0.42857143, 0.42857143, 0.54112554,\n",
       "       0.54112554, 0.41558442, 0.41558442, 0.57142857, 0.57142857,\n",
       "       0.42424242, 0.42424242, 0.58874459, 0.58874459, 0.56277056,\n",
       "       0.56277056, 0.64069264, 0.64069264, 0.41125541, 0.41125541,\n",
       "       0.58874459, 0.58874459, 0.56277056, 0.56277056, 0.64069264,\n",
       "       0.64069264, 0.41125541, 0.41125541, 0.56709957, 0.56709957,\n",
       "       0.58874459, 0.58874459, 0.64935065, 0.64935065, 0.4025974 ,\n",
       "       0.4025974 , 0.56709957, 0.56709957, 0.58874459, 0.58874459,\n",
       "       0.64935065, 0.64935065, 0.38961039, 0.38961039, 0.57142857,\n",
       "       0.57142857, 0.59307359, 0.59307359, 0.64935065, 0.64935065,\n",
       "       0.37662338, 0.37662338, 0.57142857, 0.57142857, 0.59307359,\n",
       "       0.59307359, 0.64935065, 0.64935065, 0.37662338, 0.37662338,\n",
       "       0.58441558, 0.58441558, 0.64069264, 0.64069264, 0.64935065,\n",
       "       0.64935065, 0.35930736, 0.35930736, 0.58441558, 0.58441558,\n",
       "       0.64069264, 0.64069264, 0.64935065, 0.64935065, 0.35930736,\n",
       "       0.35930736])), ('split2_test_score', array([0.54347826, 0.54347826, 0.3       , 0.3       , 0.4826087 ,\n",
       "       0.4826087 , 0.44782609, 0.44782609, 0.54347826, 0.54347826,\n",
       "       0.3       , 0.3       , 0.4826087 , 0.4826087 , 0.45217391,\n",
       "       0.45217391, 0.56086957, 0.56086957, 0.53043478, 0.53043478,\n",
       "       0.55652174, 0.55652174, 0.39565217, 0.39565217, 0.56086957,\n",
       "       0.56086957, 0.53043478, 0.53043478, 0.54782609, 0.54782609,\n",
       "       0.39565217, 0.39565217, 0.5826087 , 0.5826087 , 0.56956522,\n",
       "       0.56956522, 0.60434783, 0.60434783, 0.3173913 , 0.3173913 ,\n",
       "       0.5826087 , 0.5826087 , 0.56956522, 0.56956522, 0.60434783,\n",
       "       0.60434783, 0.30869565, 0.30869565, 0.53913043, 0.53913043,\n",
       "       0.58695652, 0.58695652, 0.63478261, 0.63478261, 0.32173913,\n",
       "       0.32173913, 0.53913043, 0.53913043, 0.58695652, 0.58695652,\n",
       "       0.63478261, 0.63478261, 0.31304348, 0.31304348, 0.56521739,\n",
       "       0.56521739, 0.58695652, 0.58695652, 0.62173913, 0.62173913,\n",
       "       0.30434783, 0.30434783, 0.56521739, 0.56521739, 0.58695652,\n",
       "       0.58695652, 0.62173913, 0.62173913, 0.31304348, 0.31304348,\n",
       "       0.54347826, 0.54347826, 0.60434783, 0.60434783, 0.6173913 ,\n",
       "       0.6173913 , 0.30869565, 0.30869565, 0.54347826, 0.54347826,\n",
       "       0.60434783, 0.60434783, 0.6173913 , 0.6173913 , 0.31304348,\n",
       "       0.31304348])), ('split3_test_score', array([0.53043478, 0.53043478, 0.26521739, 0.26521739, 0.41304348,\n",
       "       0.41304348, 0.40869565, 0.40869565, 0.53043478, 0.53043478,\n",
       "       0.26521739, 0.26521739, 0.41304348, 0.41304348, 0.40869565,\n",
       "       0.40869565, 0.59565217, 0.59565217, 0.46521739, 0.46521739,\n",
       "       0.52173913, 0.52173913, 0.39130435, 0.39130435, 0.59565217,\n",
       "       0.59565217, 0.46956522, 0.46956522, 0.52173913, 0.52173913,\n",
       "       0.39565217, 0.39565217, 0.56521739, 0.56521739, 0.57391304,\n",
       "       0.57391304, 0.62608696, 0.62608696, 0.40869565, 0.40869565,\n",
       "       0.56521739, 0.56521739, 0.57391304, 0.57391304, 0.62608696,\n",
       "       0.62608696, 0.40434783, 0.40434783, 0.56086957, 0.56086957,\n",
       "       0.60434783, 0.60434783, 0.63043478, 0.63043478, 0.39130435,\n",
       "       0.39130435, 0.56086957, 0.56086957, 0.60434783, 0.60434783,\n",
       "       0.63043478, 0.63043478, 0.39565217, 0.39565217, 0.53478261,\n",
       "       0.53478261, 0.62608696, 0.62608696, 0.63043478, 0.63043478,\n",
       "       0.4173913 , 0.41304348, 0.53478261, 0.53478261, 0.62608696,\n",
       "       0.62608696, 0.63043478, 0.63043478, 0.4       , 0.4       ,\n",
       "       0.52173913, 0.52173913, 0.60869565, 0.60869565, 0.62608696,\n",
       "       0.62608696, 0.38695652, 0.38695652, 0.52173913, 0.52173913,\n",
       "       0.60869565, 0.60869565, 0.62608696, 0.62608696, 0.39565217,\n",
       "       0.39565217])), ('split4_test_score', array([0.6       , 0.6       , 0.24347826, 0.24347826, 0.46956522,\n",
       "       0.46956522, 0.4826087 , 0.4826087 , 0.6       , 0.6       ,\n",
       "       0.25217391, 0.25217391, 0.46521739, 0.46521739, 0.4826087 ,\n",
       "       0.4826087 , 0.62173913, 0.62173913, 0.4826087 , 0.4826087 ,\n",
       "       0.6173913 , 0.6173913 , 0.43043478, 0.43043478, 0.62173913,\n",
       "       0.62173913, 0.47391304, 0.47391304, 0.6173913 , 0.6173913 ,\n",
       "       0.43913043, 0.43913043, 0.54347826, 0.54347826, 0.60434783,\n",
       "       0.60434783, 0.65652174, 0.65652174, 0.37391304, 0.37391304,\n",
       "       0.54347826, 0.54347826, 0.60434783, 0.60434783, 0.66086957,\n",
       "       0.66086957, 0.35217391, 0.35217391, 0.58695652, 0.58695652,\n",
       "       0.63913043, 0.63913043, 0.65652174, 0.65652174, 0.3826087 ,\n",
       "       0.3826087 , 0.58695652, 0.58695652, 0.62608696, 0.62608696,\n",
       "       0.66086957, 0.66086957, 0.3826087 , 0.3826087 , 0.60869565,\n",
       "       0.60869565, 0.62608696, 0.62608696, 0.6826087 , 0.6826087 ,\n",
       "       0.35217391, 0.35217391, 0.60869565, 0.60869565, 0.6173913 ,\n",
       "       0.6173913 , 0.6826087 , 0.6826087 , 0.35652174, 0.35652174,\n",
       "       0.5826087 , 0.5826087 , 0.6173913 , 0.6173913 , 0.6826087 ,\n",
       "       0.6826087 , 0.34347826, 0.34347826, 0.5826087 , 0.5826087 ,\n",
       "       0.6173913 , 0.6173913 , 0.68695652, 0.68695652, 0.34347826,\n",
       "       0.34347826])), ('mean_test_score', array([0.56335404, 0.56335404, 0.26303783, 0.26303783, 0.44014305,\n",
       "       0.44014305, 0.43232825, 0.43232825, 0.56335404, 0.56335404,\n",
       "       0.26477696, 0.26477696, 0.43927348, 0.43927348, 0.43233202,\n",
       "       0.43233202, 0.57037079, 0.57037079, 0.47400715, 0.47400715,\n",
       "       0.56943347, 0.56943347, 0.41144363, 0.41144363, 0.57037079,\n",
       "       0.57037079, 0.47400339, 0.47400339, 0.56682853, 0.56682853,\n",
       "       0.41491813, 0.41491813, 0.5668323 , 0.5668323 , 0.57727085,\n",
       "       0.57727085, 0.63193676, 0.63193676, 0.38277056, 0.38277056,\n",
       "       0.5668323 , 0.5668323 , 0.57813665, 0.57813665, 0.63280632,\n",
       "       0.63280632, 0.37235084, 0.37235084, 0.57462074, 0.57462074,\n",
       "       0.60245059, 0.60245059, 0.64235648, 0.64235648, 0.3810352 ,\n",
       "       0.3810352 , 0.57462074, 0.57462074, 0.5989761 , 0.5989761 ,\n",
       "       0.64322605, 0.64322605, 0.37843403, 0.37843403, 0.57377376,\n",
       "       0.57377376, 0.60245812, 0.60245812, 0.64409938, 0.64409938,\n",
       "       0.36370036, 0.36283079, 0.57377376, 0.57377376, 0.60071899,\n",
       "       0.60071899, 0.64236778, 0.64236778, 0.3671598 , 0.3671598 ,\n",
       "       0.55813665, 0.55813665, 0.6076454 , 0.6076454 , 0.64236025,\n",
       "       0.64236025, 0.35414643, 0.35414643, 0.55813665, 0.55813665,\n",
       "       0.6076454 , 0.6076454 , 0.64149821, 0.64149821, 0.36368154,\n",
       "       0.36368154])), ('std_test_score', array([0.02665234, 0.02665234, 0.01977185, 0.01977185, 0.03119459,\n",
       "       0.03119459, 0.02954609, 0.02954609, 0.02665234, 0.02665234,\n",
       "       0.01830276, 0.01830276, 0.03041312, 0.03041312, 0.03096667,\n",
       "       0.03096667, 0.03364541, 0.03364541, 0.03675135, 0.03675135,\n",
       "       0.03117334, 0.03117334, 0.01618037, 0.01618037, 0.03364541,\n",
       "       0.03364541, 0.03649505, 0.03649505, 0.03178562, 0.03178562,\n",
       "       0.01697342, 0.01697342, 0.01696381, 0.01696381, 0.01425737,\n",
       "       0.01425737, 0.0171841 , 0.0171841 , 0.03529732, 0.03529732,\n",
       "       0.01696381, 0.01696381, 0.01427062, 0.01427062, 0.01846819,\n",
       "       0.01846819, 0.03785145, 0.03785145, 0.02694863, 0.02694863,\n",
       "       0.01931248, 0.01931248, 0.00950612, 0.00950612, 0.03085203,\n",
       "       0.03085203, 0.02694863, 0.02694863, 0.0149512 , 0.0149512 ,\n",
       "       0.01086398, 0.01086398, 0.03403519, 0.03403519, 0.02466854,\n",
       "       0.02466854, 0.01972561, 0.01972561, 0.02124659, 0.02124659,\n",
       "       0.03667014, 0.03541677, 0.02466854, 0.02466854, 0.01786087,\n",
       "       0.01786087, 0.0221405 , 0.0221405 , 0.03070443, 0.03070443,\n",
       "       0.02378741, 0.02378741, 0.02384552, 0.02384552, 0.02277293,\n",
       "       0.02277293, 0.02687775, 0.02687775, 0.02378741, 0.02378741,\n",
       "       0.02384552, 0.02384552, 0.02504797, 0.02504797, 0.03430382,\n",
       "       0.03430382])), ('rank_test_score', array([53, 53, 95, 95, 65, 65, 71, 71, 53, 53, 93, 93, 67, 67, 69, 69, 41,\n",
       "       41, 61, 61, 45, 45, 75, 75, 41, 41, 63, 63, 51, 51, 73, 73, 47, 47,\n",
       "       31, 31, 15, 15, 77, 77, 47, 47, 29, 29, 13, 13, 83, 83, 33, 33, 23,\n",
       "       23,  9,  9, 79, 79, 33, 33, 27, 27,  3,  3, 81, 81, 37, 37, 21, 21,\n",
       "        1,  1, 87, 90, 37, 37, 25, 25,  5,  5, 85, 85, 57, 57, 17, 17,  7,\n",
       "        7, 91, 91, 57, 57, 17, 17, 11, 11, 88, 88]))])"
      ]
     },
     "execution_count": 50,
     "metadata": {},
     "output_type": "execute_result"
    }
   ],
   "source": [
    "parametrised_svc.cv_results_.items()"
   ]
  },
  {
   "cell_type": "code",
   "execution_count": 51,
   "metadata": {},
   "outputs": [
    {
     "data": {
      "text/plain": [
       "{'C': 20, 'gamma': 'scale', 'kernel': 'rbf', 'shrinking': True}"
      ]
     },
     "execution_count": 51,
     "metadata": {},
     "output_type": "execute_result"
    }
   ],
   "source": [
    "optimised_svc = parametrised_svc.best_estimator_\n",
    "optimised_parameters = parametrised_svc.best_params_\n",
    "optimised_parameters"
   ]
  },
  {
   "cell_type": "code",
   "execution_count": 52,
   "metadata": {},
   "outputs": [],
   "source": [
    "initial_classifier_results[\"svc_optimised\"] = fit_predict_and_score_classifier(optimised_svc, *multi_class_parameters)"
   ]
  },
  {
   "cell_type": "code",
   "execution_count": 53,
   "metadata": {},
   "outputs": [
    {
     "name": "stderr",
     "output_type": "stream",
     "text": [
      "C:\\Users\\Matas\\AppData\\Local\\Temp\\ipykernel_18864\\2014226108.py:39: FutureWarning: The frame.append method is deprecated and will be removed from pandas in a future version. Use pandas.concat instead.\n",
      "  table = table.append(new_row, ignore_index=True)\n",
      "C:\\Users\\Matas\\AppData\\Local\\Temp\\ipykernel_18864\\2014226108.py:39: FutureWarning: The frame.append method is deprecated and will be removed from pandas in a future version. Use pandas.concat instead.\n",
      "  table = table.append(new_row, ignore_index=True)\n",
      "C:\\Users\\Matas\\AppData\\Local\\Temp\\ipykernel_18864\\2014226108.py:39: FutureWarning: The frame.append method is deprecated and will be removed from pandas in a future version. Use pandas.concat instead.\n",
      "  table = table.append(new_row, ignore_index=True)\n",
      "C:\\Users\\Matas\\AppData\\Local\\Temp\\ipykernel_18864\\2014226108.py:39: FutureWarning: The frame.append method is deprecated and will be removed from pandas in a future version. Use pandas.concat instead.\n",
      "  table = table.append(new_row, ignore_index=True)\n",
      "C:\\Users\\Matas\\AppData\\Local\\Temp\\ipykernel_18864\\2014226108.py:39: FutureWarning: The frame.append method is deprecated and will be removed from pandas in a future version. Use pandas.concat instead.\n",
      "  table = table.append(new_row, ignore_index=True)\n",
      "C:\\Users\\Matas\\AppData\\Local\\Temp\\ipykernel_18864\\2014226108.py:39: FutureWarning: The frame.append method is deprecated and will be removed from pandas in a future version. Use pandas.concat instead.\n",
      "  table = table.append(new_row, ignore_index=True)\n",
      "C:\\Users\\Matas\\AppData\\Local\\Temp\\ipykernel_18864\\2014226108.py:39: FutureWarning: The frame.append method is deprecated and will be removed from pandas in a future version. Use pandas.concat instead.\n",
      "  table = table.append(new_row, ignore_index=True)\n",
      "C:\\Users\\Matas\\AppData\\Local\\Temp\\ipykernel_18864\\2014226108.py:39: FutureWarning: The frame.append method is deprecated and will be removed from pandas in a future version. Use pandas.concat instead.\n",
      "  table = table.append(new_row, ignore_index=True)\n",
      "C:\\Users\\Matas\\AppData\\Local\\Temp\\ipykernel_18864\\2014226108.py:39: FutureWarning: The frame.append method is deprecated and will be removed from pandas in a future version. Use pandas.concat instead.\n",
      "  table = table.append(new_row, ignore_index=True)\n",
      "C:\\Users\\Matas\\AppData\\Local\\Temp\\ipykernel_18864\\2014226108.py:39: FutureWarning: The frame.append method is deprecated and will be removed from pandas in a future version. Use pandas.concat instead.\n",
      "  table = table.append(new_row, ignore_index=True)\n",
      "C:\\Users\\Matas\\AppData\\Local\\Temp\\ipykernel_18864\\2014226108.py:39: FutureWarning: The frame.append method is deprecated and will be removed from pandas in a future version. Use pandas.concat instead.\n",
      "  table = table.append(new_row, ignore_index=True)\n",
      "C:\\Users\\Matas\\AppData\\Local\\Temp\\ipykernel_18864\\2014226108.py:39: FutureWarning: The frame.append method is deprecated and will be removed from pandas in a future version. Use pandas.concat instead.\n",
      "  table = table.append(new_row, ignore_index=True)\n"
     ]
    },
    {
     "data": {
      "text/html": [
       "<div>\n",
       "<style scoped>\n",
       "    .dataframe tbody tr th:only-of-type {\n",
       "        vertical-align: middle;\n",
       "    }\n",
       "\n",
       "    .dataframe tbody tr th {\n",
       "        vertical-align: top;\n",
       "    }\n",
       "\n",
       "    .dataframe thead th {\n",
       "        text-align: right;\n",
       "    }\n",
       "</style>\n",
       "<table border=\"1\" class=\"dataframe\">\n",
       "  <thead>\n",
       "    <tr style=\"text-align: right;\">\n",
       "      <th></th>\n",
       "      <th>Classifier</th>\n",
       "      <th>Set type</th>\n",
       "      <th>predictions</th>\n",
       "      <th>accuracy</th>\n",
       "      <th>precision</th>\n",
       "      <th>recall</th>\n",
       "      <th>F1</th>\n",
       "    </tr>\n",
       "  </thead>\n",
       "  <tbody>\n",
       "    <tr>\n",
       "      <th>0</th>\n",
       "      <td>dummy_classifier_most_frequent</td>\n",
       "      <td>train</td>\n",
       "      <td>[angry, angry, angry, angry, angry, angry, ang...</td>\n",
       "      <td>0.133681</td>\n",
       "      <td>0.891710</td>\n",
       "      <td>0.125000</td>\n",
       "      <td>0.029479</td>\n",
       "    </tr>\n",
       "    <tr>\n",
       "      <th>1</th>\n",
       "      <td>dummy_classifier_most_frequent</td>\n",
       "      <td>val</td>\n",
       "      <td>[angry, angry, angry, angry, angry, angry, ang...</td>\n",
       "      <td>0.131944</td>\n",
       "      <td>0.891493</td>\n",
       "      <td>0.125000</td>\n",
       "      <td>0.029141</td>\n",
       "    </tr>\n",
       "    <tr>\n",
       "      <th>2</th>\n",
       "      <td>dummy_classifier_stratified</td>\n",
       "      <td>train</td>\n",
       "      <td>[surprised, fearful, sad, calm, fearful, angry...</td>\n",
       "      <td>0.124132</td>\n",
       "      <td>0.119830</td>\n",
       "      <td>0.119563</td>\n",
       "      <td>0.119478</td>\n",
       "    </tr>\n",
       "    <tr>\n",
       "      <th>3</th>\n",
       "      <td>dummy_classifier_stratified</td>\n",
       "      <td>val</td>\n",
       "      <td>[angry, angry, angry, disgust, angry, happy, d...</td>\n",
       "      <td>0.166667</td>\n",
       "      <td>0.173215</td>\n",
       "      <td>0.168750</td>\n",
       "      <td>0.169163</td>\n",
       "    </tr>\n",
       "    <tr>\n",
       "      <th>4</th>\n",
       "      <td>logistic_regression</td>\n",
       "      <td>train</td>\n",
       "      <td>[angry, happy, calm, happy, neutral, neutral, ...</td>\n",
       "      <td>0.763889</td>\n",
       "      <td>0.761988</td>\n",
       "      <td>0.762210</td>\n",
       "      <td>0.761048</td>\n",
       "    </tr>\n",
       "    <tr>\n",
       "      <th>5</th>\n",
       "      <td>logistic_regression</td>\n",
       "      <td>val</td>\n",
       "      <td>[calm, angry, happy, calm, fearful, angry, sur...</td>\n",
       "      <td>0.604167</td>\n",
       "      <td>0.601776</td>\n",
       "      <td>0.610197</td>\n",
       "      <td>0.603314</td>\n",
       "    </tr>\n",
       "    <tr>\n",
       "      <th>6</th>\n",
       "      <td>svc</td>\n",
       "      <td>train</td>\n",
       "      <td>[angry, happy, calm, happy, surprised, calm, f...</td>\n",
       "      <td>0.796007</td>\n",
       "      <td>0.798800</td>\n",
       "      <td>0.776510</td>\n",
       "      <td>0.780752</td>\n",
       "    </tr>\n",
       "    <tr>\n",
       "      <th>7</th>\n",
       "      <td>svc</td>\n",
       "      <td>val</td>\n",
       "      <td>[calm, angry, angry, calm, happy, angry, happy...</td>\n",
       "      <td>0.625000</td>\n",
       "      <td>0.619556</td>\n",
       "      <td>0.606250</td>\n",
       "      <td>0.606615</td>\n",
       "    </tr>\n",
       "    <tr>\n",
       "      <th>8</th>\n",
       "      <td>svc_pruned</td>\n",
       "      <td>train</td>\n",
       "      <td>[angry, happy, calm, happy, surprised, calm, f...</td>\n",
       "      <td>0.796007</td>\n",
       "      <td>0.798800</td>\n",
       "      <td>0.776510</td>\n",
       "      <td>0.780752</td>\n",
       "    </tr>\n",
       "    <tr>\n",
       "      <th>9</th>\n",
       "      <td>svc_pruned</td>\n",
       "      <td>val</td>\n",
       "      <td>[calm, angry, angry, calm, happy, angry, happy...</td>\n",
       "      <td>0.625000</td>\n",
       "      <td>0.619556</td>\n",
       "      <td>0.606250</td>\n",
       "      <td>0.606615</td>\n",
       "    </tr>\n",
       "    <tr>\n",
       "      <th>10</th>\n",
       "      <td>svc_optimised</td>\n",
       "      <td>train</td>\n",
       "      <td>[angry, happy, calm, happy, surprised, neutral...</td>\n",
       "      <td>1.000000</td>\n",
       "      <td>1.000000</td>\n",
       "      <td>1.000000</td>\n",
       "      <td>1.000000</td>\n",
       "    </tr>\n",
       "    <tr>\n",
       "      <th>11</th>\n",
       "      <td>svc_optimised</td>\n",
       "      <td>val</td>\n",
       "      <td>[calm, angry, angry, calm, disgust, angry, ang...</td>\n",
       "      <td>0.659722</td>\n",
       "      <td>0.652856</td>\n",
       "      <td>0.644079</td>\n",
       "      <td>0.645768</td>\n",
       "    </tr>\n",
       "  </tbody>\n",
       "</table>\n",
       "</div>"
      ],
      "text/plain": [
       "                        Classifier Set type  \\\n",
       "0   dummy_classifier_most_frequent    train   \n",
       "1   dummy_classifier_most_frequent      val   \n",
       "2      dummy_classifier_stratified    train   \n",
       "3      dummy_classifier_stratified      val   \n",
       "4              logistic_regression    train   \n",
       "5              logistic_regression      val   \n",
       "6                              svc    train   \n",
       "7                              svc      val   \n",
       "8                       svc_pruned    train   \n",
       "9                       svc_pruned      val   \n",
       "10                   svc_optimised    train   \n",
       "11                   svc_optimised      val   \n",
       "\n",
       "                                          predictions  accuracy  precision  \\\n",
       "0   [angry, angry, angry, angry, angry, angry, ang...  0.133681   0.891710   \n",
       "1   [angry, angry, angry, angry, angry, angry, ang...  0.131944   0.891493   \n",
       "2   [surprised, fearful, sad, calm, fearful, angry...  0.124132   0.119830   \n",
       "3   [angry, angry, angry, disgust, angry, happy, d...  0.166667   0.173215   \n",
       "4   [angry, happy, calm, happy, neutral, neutral, ...  0.763889   0.761988   \n",
       "5   [calm, angry, happy, calm, fearful, angry, sur...  0.604167   0.601776   \n",
       "6   [angry, happy, calm, happy, surprised, calm, f...  0.796007   0.798800   \n",
       "7   [calm, angry, angry, calm, happy, angry, happy...  0.625000   0.619556   \n",
       "8   [angry, happy, calm, happy, surprised, calm, f...  0.796007   0.798800   \n",
       "9   [calm, angry, angry, calm, happy, angry, happy...  0.625000   0.619556   \n",
       "10  [angry, happy, calm, happy, surprised, neutral...  1.000000   1.000000   \n",
       "11  [calm, angry, angry, calm, disgust, angry, ang...  0.659722   0.652856   \n",
       "\n",
       "      recall        F1  \n",
       "0   0.125000  0.029479  \n",
       "1   0.125000  0.029141  \n",
       "2   0.119563  0.119478  \n",
       "3   0.168750  0.169163  \n",
       "4   0.762210  0.761048  \n",
       "5   0.610197  0.603314  \n",
       "6   0.776510  0.780752  \n",
       "7   0.606250  0.606615  \n",
       "8   0.776510  0.780752  \n",
       "9   0.606250  0.606615  \n",
       "10  1.000000  1.000000  \n",
       "11  0.644079  0.645768  "
      ]
     },
     "metadata": {},
     "output_type": "display_data"
    }
   ],
   "source": [
    "post_optimisation_classifier_results_table = create_result_table(initial_classifier_results)\n",
    "display(post_optimisation_classifier_results_table)"
   ]
  },
  {
   "cell_type": "markdown",
   "metadata": {},
   "source": [
    "# Neural network section"
   ]
  },
  {
   "cell_type": "markdown",
   "metadata": {},
   "source": [
    "### Spectrogram creation"
   ]
  },
  {
   "cell_type": "code",
   "execution_count": null,
   "metadata": {},
   "outputs": [],
   "source": [
    "import librosa\n",
    "from IPython.display import Audio\n",
    "from sklearn import metrics\n",
    "\n",
    "# def crop_audio(audio):\n",
    "#     max_index = len(audio)-1\n",
    "#     start = random.randint(0, max_index // 4)\n",
    "#     end = random.randint(start * 2, max_index)\n",
    "#     cropped_audio = audio[start:end]\n",
    "#     return cropped_audio\n",
    "\n",
    "# Taken from https://medium.com/analytics-vidhya/adding-noise-to-audio-clips-5d8cee24ccb8\n",
    "def add_noise_to_audio(audio):\n",
    "    std = math.sqrt(np.mean(audio**2))\n",
    "    noise = np.random.normal(0, std, audio.shape[0])\n",
    "    noisy_signal = audio + noise\n",
    "    return noisy_signal\n",
    "\n",
    "# Taken from https://towardsdatascience.com/getting-to-know-the-mel-spectrogram-31bca3e2d9d0\n",
    "def create_mel_spectrogram_file(spectrogram, sampling_rate, hop_length, index, augmentation):\n",
    "    db_spectrogram = librosa.power_to_db(spectrogram, ref=np.max)\n",
    "    librosa.display.specshow(db_spectrogram, sr=sampling_rate, hop_length=hop_length, x_axis=\"time\", y_axis=\"mel\");\n",
    "    plt.colorbar(format=\"%+2.0f dB\")\n",
    "    plt.title(\"Speech mel-spectrogram\")\n",
    "    plt.xlabel(\"Time, s\")\n",
    "    plt.ylabel(\"Frequency, Hz\")\n",
    "    plt.savefig(f\"spectrograms/{index}_{emotions[index]}_{augmentation}.pdf\")\n",
    "    plt.clf()\n",
    "    return spectrogram\n",
    "\n",
    "# Taken from https://towardsdatascience.com/getting-to-know-the-mel-spectrogram-31bca3e2d9d0\n",
    "def produce_mel_spectrograms(files, hop_length=256, frameSize=512, n_mels=128):\n",
    "    spectrograms = []\n",
    "    emotions = []\n",
    "    max_audio_length = 0\n",
    "    audio_data = []\n",
    "    \n",
    "    for file in files:\n",
    "        audio, sampling_rate = librosa.load(file)\n",
    "        max_audio_length = max(max_audio_length, audio.shape[0])\n",
    "        emotion = file_name_to_emotion_mapping[file.split(\"-\")[-5]]\n",
    "        audio_data.append((audio, sampling_rate, emotion))\n",
    "    \n",
    "    for index, (audio, sampling_rate, emotion) in enumerate(audio_data):\n",
    "        audio = librosa.util.fix_length(audio, size=max_audio_length)\n",
    "#         cropped_audio = crop_audio(audio)\n",
    "        noisy_audio = add_noise_to_audio(audio)\n",
    "        \n",
    "#         print(index)\n",
    "#         display(Audio(data=audio, rate=sampling_rate))\n",
    "#         display(Audio(data=cropped_audio, rate=sampling_rate))\n",
    "#         display(Audio(data=noisy_audio, rate=sampling_rate))\n",
    "        \n",
    "        for augmentation in [\"original\", \"Gaussian noise\"]:\n",
    "            input_audio = noisy_audio if augmentation == \"Gaussian noise\" else audio\n",
    "            spectrogram = librosa.feature.melspectrogram(y=input_audio, sr=sampling_rate, n_fft=frameSize, hop_length=hop_length, n_mels=n_mels)\n",
    "#             create_mel_spectrogram_file(spectrogram, sampling_rate, hop_length, index, augmentation)\n",
    "\n",
    "            spectrograms.append(spectrogram)\n",
    "            emotions.append(emotion)\n",
    "\n",
    "    return np.array(spectrograms), np.array(emotions)"
   ]
  },
  {
   "cell_type": "code",
   "execution_count": null,
   "metadata": {},
   "outputs": [],
   "source": [
    "# # A rewrite to only modify training data\n",
    "\n",
    "# assert False\n",
    "\n",
    "# files_split, _ = perform_3_way_split(files, files, (80,10,10), SEED)\n",
    "# files_train, files_val, files_test = files_split\n",
    "\n",
    "# # But what to do with different length maximums? Hardcode a number?\n",
    "# # Add a is_train_set parameter to the function\n",
    "# spectrograms_train, spectrogram_emotions_train = produce_mel_spectrograms(files_train, True)\n",
    "# spectrograms_val, spectrogram_emotions_val = produce_mel_spectrograms(files_val, False)\n",
    "# spectrograms_test, spectrogram_emotions_test = produce_mel_spectrograms(files_test, False)"
   ]
  },
  {
   "cell_type": "code",
   "execution_count": null,
   "metadata": {},
   "outputs": [],
   "source": [
    "print(f\"Sampling rate: {librosa.load(files[0])[1]}\")"
   ]
  },
  {
   "cell_type": "code",
   "execution_count": null,
   "metadata": {},
   "outputs": [],
   "source": [
    "spectrograms, spectrogram_emotions = produce_mel_spectrograms(files)"
   ]
  },
  {
   "cell_type": "code",
   "execution_count": null,
   "metadata": {},
   "outputs": [],
   "source": [
    "Counter([s.shape for s in spectrograms])"
   ]
  },
  {
   "cell_type": "code",
   "execution_count": null,
   "metadata": {},
   "outputs": [],
   "source": [
    "normalised_spectrograms=(spectrograms-spectrograms.mean())/spectrograms.std()"
   ]
  },
  {
   "cell_type": "code",
   "execution_count": null,
   "metadata": {},
   "outputs": [],
   "source": [
    "spectrograms_split, spectrogram_emotions_split = perform_3_way_split(normalised_spectrograms, spectrogram_emotions, (80,10,10), SEED)\n",
    "spectrograms_train, spectrograms_val, spectrograms_test = spectrograms_split\n",
    "spectrogram_emotions_train, spectrogram_emotions_val, spectrogram_emotions_test = spectrogram_emotions_split"
   ]
  },
  {
   "cell_type": "code",
   "execution_count": null,
   "metadata": {},
   "outputs": [],
   "source": [
    "# Adding single channel axes\n",
    "spectrograms_train = np.expand_dims(spectrograms_train, axis=1)\n",
    "spectrograms_val = np.expand_dims(spectrograms_val, axis=1)\n",
    "spectrograms_test = np.expand_dims(spectrograms_test, axis=1)"
   ]
  },
  {
   "cell_type": "code",
   "execution_count": null,
   "metadata": {},
   "outputs": [],
   "source": [
    "emotion_to_number_mapping = {emotion: int(number)-1 for number, emotion in file_name_to_emotion_mapping.items()}\n",
    "\n",
    "emotions_numeric_train = np.array([emotion_to_number_mapping[emotion] for emotion in spectrogram_emotions_train])\n",
    "emotions_numeric_val = np.array([emotion_to_number_mapping[emotion] for emotion in spectrogram_emotions_val])\n",
    "emotions_numeric_test = np.array([emotion_to_number_mapping[emotion] for emotion in spectrogram_emotions_test])\n",
    "\n",
    "spectrogram_emotions_binary_train = np.array([emotion_to_positivity_mapping[emotion] for emotion in spectrogram_emotions_train])\n",
    "spectrogram_emotions_binary_val = np.array([emotion_to_positivity_mapping[emotion] for emotion in spectrogram_emotions_val])\n",
    "spectrogram_emotions_binary_test = np.array([emotion_to_positivity_mapping[emotion] for emotion in spectrogram_emotions_test])\n",
    "\n",
    "emotions_numeric_binary_train = np.array([1 if emotion == \"positive\" else 0 for emotion in spectrogram_emotions_binary_train])\n",
    "emotions_numeric_binary_val = np.array([1 if emotion == \"positive\" else 0 for emotion in spectrogram_emotions_binary_val])\n",
    "emotions_numeric_binary_test = np.array([1 if emotion == \"positive\" else 0 for emotion in spectrogram_emotions_binary_test])"
   ]
  },
  {
   "cell_type": "code",
   "execution_count": null,
   "metadata": {},
   "outputs": [],
   "source": [
    "print(np.max(spectrograms))\n",
    "print(np.mean(spectrograms))"
   ]
  },
  {
   "cell_type": "code",
   "execution_count": null,
   "metadata": {},
   "outputs": [],
   "source": [
    "spectrograms_train.shape"
   ]
  },
  {
   "cell_type": "markdown",
   "metadata": {},
   "source": [
    "### Setting up DataSet and DataLoader"
   ]
  },
  {
   "cell_type": "code",
   "execution_count": null,
   "metadata": {},
   "outputs": [],
   "source": [
    "import torch\n",
    "import torch.nn.functional as F\n",
    "import datetime\n",
    "from torch.utils.tensorboard import SummaryWriter"
   ]
  },
  {
   "cell_type": "code",
   "execution_count": null,
   "metadata": {},
   "outputs": [],
   "source": [
    "device = torch.device(\"cpu\") # torch.device(\"cuda\" if torch.cuda.is_available() else \"cpu\")\n",
    "device"
   ]
  },
  {
   "cell_type": "code",
   "execution_count": null,
   "metadata": {},
   "outputs": [],
   "source": [
    "torch.cuda.empty_cache()"
   ]
  },
  {
   "cell_type": "code",
   "execution_count": null,
   "metadata": {},
   "outputs": [],
   "source": [
    "spectrograms_tensor_train = torch.from_numpy(spectrograms_train).float()\n",
    "spectrograms_tensor_val = torch.from_numpy(spectrograms_val).float()\n",
    "spectrograms_tensor_test = torch.from_numpy(spectrograms_test).float()\n",
    "\n",
    "emotions_tensor_train = torch.from_numpy(emotions_numeric_train).long()\n",
    "emotions_tensor_val = torch.from_numpy(emotions_numeric_val).long()\n",
    "emotions_tensor_test = torch.from_numpy(emotions_numeric_test).long()\n",
    "\n",
    "emotions_binary_tensor_train = torch.from_numpy(emotions_numeric_binary_train).long()\n",
    "emotions_binary_tensor_val = torch.from_numpy(emotions_numeric_binary_val).long()\n",
    "emotions_binary_tensor_test = torch.from_numpy(emotions_numeric_binary_test).long()\n",
    "\n",
    "spectrogram_dimensions = spectrograms_tensor_train.size()[1:]"
   ]
  },
  {
   "cell_type": "code",
   "execution_count": null,
   "metadata": {},
   "outputs": [],
   "source": [
    "spectrograms_tensor_train.size()"
   ]
  },
  {
   "cell_type": "code",
   "execution_count": null,
   "metadata": {},
   "outputs": [],
   "source": [
    "batch_size = 4\n",
    "\n",
    "spectrogram_dataset_train = torch.utils.data.TensorDataset(spectrograms_tensor_train, emotions_tensor_train)\n",
    "spectrogram_dataset_val = torch.utils.data.TensorDataset(spectrograms_tensor_val, emotions_tensor_val)\n",
    "spectrogram_dataset_binary_train = torch.utils.data.TensorDataset(spectrograms_tensor_train, emotions_binary_tensor_train)\n",
    "spectrogram_dataset_binary_val = torch.utils.data.TensorDataset(spectrograms_tensor_val, emotions_binary_tensor_val)\n",
    "    \n",
    "spectrogram_loader_train = torch.utils.data.DataLoader(spectrogram_dataset_train, batch_size=batch_size, shuffle=True)\n",
    "spectrogram_loader_val = torch.utils.data.DataLoader(spectrogram_dataset_val, batch_size=batch_size, shuffle=False)\n",
    "spectrogram_loader_binary_train = torch.utils.data.DataLoader(spectrogram_dataset_binary_train, batch_size=batch_size, shuffle=True)\n",
    "spectrogram_loader_binary_val = torch.utils.data.DataLoader(spectrogram_dataset_binary_val, batch_size=batch_size, shuffle=False)"
   ]
  },
  {
   "cell_type": "code",
   "execution_count": null,
   "metadata": {},
   "outputs": [],
   "source": [
    "number_to_emotion_mapping = {int(file_name)-1: emotion for file_name, emotion in file_name_to_emotion_mapping.items()}\n",
    "number_to_emotion_mapping_binary = {0: \"negative\", 1: \"positive\"}"
   ]
  },
  {
   "cell_type": "markdown",
   "metadata": {},
   "source": [
    "### Multi Layered Perceptron"
   ]
  },
  {
   "cell_type": "markdown",
   "metadata": {},
   "source": [
    "##### Spectrograms as input"
   ]
  },
  {
   "cell_type": "code",
   "execution_count": null,
   "metadata": {},
   "outputs": [],
   "source": [
    "class PerceptronSpectrogramModel(torch.nn.Module):\n",
    "\n",
    "    def __init__(self):\n",
    "        super(PerceptronSpectrogramModel, self).__init__()\n",
    "        \n",
    "        self.linear1 = torch.nn.Linear(np.prod(spectrogram_dimensions), 10)\n",
    "        self.activation = torch.nn.ReLU()\n",
    "        self.linear2 = torch.nn.Linear(10, 8)\n",
    "\n",
    "    def forward(self, x):\n",
    "        x = torch.flatten(x, 1)\n",
    "        x = self.linear1(x)\n",
    "        x = self.activation(x)\n",
    "        x = self.linear2(x)\n",
    "        return x"
   ]
  },
  {
   "cell_type": "markdown",
   "metadata": {},
   "source": [
    "### Convolutional Neural Network"
   ]
  },
  {
   "cell_type": "code",
   "execution_count": null,
   "metadata": {},
   "outputs": [],
   "source": [
    "convoluted_dimensions = np.array(spectrogram_dimensions)\n",
    "print(convoluted_dimensions)\n",
    "convoluted_dimensions -= (3 - 1)\n",
    "convoluted_dimensions -= (3 - 1)\n",
    "convoluted_dimensions //= 2\n",
    "convoluted_dimensions -= (3 - 1)\n",
    "convoluted_dimensions -= (3 - 1)\n",
    "convoluted_dimensions //= 2\n",
    "convoluted_dimensions[0] = 1\n",
    "print(convoluted_dimensions)\n",
    "print(np.prod(convoluted_dimensions))"
   ]
  },
  {
   "cell_type": "code",
   "execution_count": null,
   "metadata": {
    "code_folding": []
   },
   "outputs": [],
   "source": [
    "class CNN(torch.nn.Module):\n",
    "\n",
    "    def __init__(self):\n",
    "        super(CNN, self).__init__()\n",
    "        self.conv1 = torch.nn.Conv2d(1, 4, 3)\n",
    "        self.conv2 = torch.nn.Conv2d(4, 8, 3)\n",
    "        self.conv3 = torch.nn.Conv2d(8, 16, 3)\n",
    "        self.conv4 = torch.nn.Conv2d(16, 16, 3)\n",
    "        self.fc1 = torch.nn.Linear(16 * np.prod(convoluted_dimensions), 32)\n",
    "        self.fc2 = torch.nn.Linear(32, len(set(emotions)))\n",
    "\n",
    "    def forward(self, x):\n",
    "        x = F.relu(self.conv1(x))\n",
    "        x = F.max_pool2d(F.relu(self.conv2(x)), 2)\n",
    "        x = F.relu(self.conv3(x))\n",
    "        x = F.max_pool2d(F.relu(self.conv4(x)), 2)\n",
    "        \n",
    "        x = x.view(-1, self.num_flat_features(x))\n",
    "        x = F.relu(self.fc1(x))\n",
    "        x = self.fc2(x)\n",
    "        return x\n",
    "\n",
    "    def num_flat_features(self, x):\n",
    "        size = x.size()[1:]\n",
    "        num_features = 1\n",
    "        for s in size:\n",
    "            num_features *= s\n",
    "        return num_features"
   ]
  },
  {
   "cell_type": "code",
   "execution_count": null,
   "metadata": {},
   "outputs": [],
   "source": [
    "class BinaryCNN(torch.nn.Module):\n",
    "\n",
    "    def __init__(self):\n",
    "        super(BinaryCNN, self).__init__()\n",
    "        self.conv1 = torch.nn.Conv2d(1, 4, 3)\n",
    "        self.conv2 = torch.nn.Conv2d(4, 8, 3)\n",
    "        self.conv3 = torch.nn.Conv2d(8, 16, 3)\n",
    "        self.conv4 = torch.nn.Conv2d(16, 16, 3)\n",
    "        self.fc1 = torch.nn.Linear(16 * np.prod(convoluted_dimensions), 32)\n",
    "        self.fc2 = torch.nn.Linear(32, 2)\n",
    "\n",
    "    def forward(self, x):\n",
    "        x = F.relu(self.conv1(x))\n",
    "        x = F.max_pool2d(F.relu(self.conv2(x)), 2)\n",
    "        x = F.relu(self.conv3(x))\n",
    "        x = F.max_pool2d(F.relu(self.conv4(x)), 2)\n",
    "        \n",
    "        x = x.view(-1, self.num_flat_features(x))\n",
    "        x = F.relu(self.fc1(x))\n",
    "        x = self.fc2(x)\n",
    "        return x\n",
    "\n",
    "    def num_flat_features(self, x):\n",
    "        size = x.size()[1:]\n",
    "        num_features = 1\n",
    "        for s in size:\n",
    "            num_features *= s\n",
    "        return num_features"
   ]
  },
  {
   "cell_type": "markdown",
   "metadata": {},
   "source": [
    "### Neural network training"
   ]
  },
  {
   "cell_type": "code",
   "execution_count": null,
   "metadata": {},
   "outputs": [],
   "source": [
    "# model = PerceptronSpectrogramModel()\n",
    "cnn = CNN()\n",
    "binary_cnn = BinaryCNN()\n",
    "\n",
    "cnn.parameters"
   ]
  },
  {
   "cell_type": "code",
   "execution_count": null,
   "metadata": {},
   "outputs": [],
   "source": [
    "loss_fn = torch.nn.CrossEntropyLoss()\n",
    "\n",
    "cnn_optimizer = torch.optim.Adam(cnn.parameters(), lr=0.0005) #### TEMPORARILY INCRESEAD FOR QUICKER RUNTIME\n",
    "binary_cnn_optimizer = torch.optim.Adam(binary_cnn.parameters(), lr=0.0005) #### TEMPORARILY INCRESEAD FOR QUICKER RUNTIME"
   ]
  },
  {
   "cell_type": "code",
   "execution_count": null,
   "metadata": {},
   "outputs": [],
   "source": [
    "# Potentially to delete, but should fix TensorBoard problems\n",
    "import tensorflow as tf\n",
    "import tensorboard as tb\n",
    "tf.io.gfile = tb.compat.tensorflow_stub.io.gfile"
   ]
  },
  {
   "cell_type": "code",
   "execution_count": null,
   "metadata": {},
   "outputs": [],
   "source": [
    "def calculate_accuracy(model, inputs, labels):\n",
    "    inputs, labels = inputs.to(device), labels.to(device)\n",
    "    outputs = model(inputs)\n",
    "    output_predictions = torch.nn.Softmax(dim=1)(outputs).argmax(1)\n",
    "    correct_count = torch.sum((output_predictions == labels)).item()\n",
    "    accuracy = correct_count/len(labels)\n",
    "    return accuracy\n",
    "\n",
    "# Taken from https://stackoverflow.com/questions/39770376/scikit-learn-get-accuracy-scores-for-each-class\n",
    "def calculate_class_accuracy(model, inputs, labels, use_binary):\n",
    "    inputs = inputs.to(device)\n",
    "    outputs = model(inputs)\n",
    "    output_predictions = torch.nn.Softmax(dim=1)(outputs).argmax(1)\n",
    "    output_predictions = output_predictions.to(\"cpu\")\n",
    "    if use_binary is False:\n",
    "        output_emotions = np.array([number_to_emotion_mapping[value] for value in output_predictions.to(\"cpu\").numpy()])\n",
    "    else:\n",
    "        output_emotions = np.array([number_to_emotion_mapping_binary[value] for value in output_predictions.to(\"cpu\").numpy()])\n",
    "    \n",
    "    confusion_matrix = metrics.confusion_matrix(output_predictions, labels)\n",
    "    confusion_matrix = np.nan_to_num(confusion_matrix)\n",
    "    guess_counts = np.clip(confusion_matrix.sum(axis=1), 1, None) # Set minimum to 1 to avoid division by 0\n",
    "    class_accuracy = confusion_matrix.diagonal() / guess_counts\n",
    "    \n",
    "    if use_binary is False:\n",
    "        label_set = metrics.ConfusionMatrixDisplay.from_predictions(spectrogram_emotions_val, output_emotions).display_labels\n",
    "    else:\n",
    "        label_set = metrics.ConfusionMatrixDisplay.from_predictions(spectrogram_emotions_binary_val, output_emotions).display_labels\n",
    "    \n",
    "    plt.close()\n",
    "    class_accuracy_dict = {label: accuracy for label, accuracy in zip(label_set, class_accuracy)}\n",
    "    \n",
    "    return class_accuracy_dict"
   ]
  },
  {
   "cell_type": "code",
   "execution_count": null,
   "metadata": {},
   "outputs": [],
   "source": [
    "def train_one_epoch(model, optimizer, epoch_index, tb_writer, use_binary):\n",
    "    if use_binary is False:\n",
    "        data_loader_train = spectrogram_loader_train\n",
    "        emotion_tensor_train = emotions_tensor_train\n",
    "    else:\n",
    "        data_loader_train = spectrogram_loader_binary_train\n",
    "        emotion_tensor_train = emotions_binary_tensor_train\n",
    "        \n",
    "        \n",
    "    running_loss = 0.\n",
    "    last_loss = 0.\n",
    "\n",
    "    for i, data in enumerate(data_loader_train):\n",
    "        inputs, labels = data\n",
    "        inputs, labels = inputs.to(device), labels.to(device)\n",
    "\n",
    "        optimizer.zero_grad()\n",
    "        outputs = model(inputs)\n",
    "        loss = loss_fn(outputs, labels)\n",
    "        loss.backward()\n",
    "        optimizer.step()\n",
    "\n",
    "        running_loss += loss.item()\n",
    "        if i % 32 == 31:\n",
    "            last_loss = running_loss / 32 # loss per batch\n",
    "            running_loss = 0.\n",
    "        elif i == len(data_loader_train)-1:\n",
    "            last_loss = running_loss / (len(data_loader_train) % 32) # loss per batch\n",
    "            running_loss = 0.\n",
    "\n",
    "    accuracy = calculate_accuracy(model, spectrograms_tensor_train, emotion_tensor_train)\n",
    "    \n",
    "    return last_loss, accuracy"
   ]
  },
  {
   "cell_type": "code",
   "execution_count": null,
   "metadata": {
    "scrolled": false
   },
   "outputs": [],
   "source": [
    "def train_model(model, optimizer, max_epochs=10, use_binary=True):\n",
    "    model.to(device)\n",
    "    spectrograms_tensor_train.to(device)\n",
    "    spectrograms_tensor_val.to(device)\n",
    "    spectrograms_tensor_test.to(device)\n",
    "\n",
    "    if use_binary is False:\n",
    "        emotions_tensor_train.to(device)\n",
    "        emotions_tensor_val.to(device)\n",
    "        data_loader_val = spectrogram_loader_val\n",
    "        emotion_tensor_val = emotions_tensor_val\n",
    "    else:\n",
    "        emotions_binary_tensor_train.to(device)\n",
    "        emotions_binary_tensor_val.to(device)\n",
    "        data_loader_val = spectrogram_loader_binary_val\n",
    "        emotion_tensor_val = emotions_binary_tensor_val\n",
    "    \n",
    "    \n",
    "        \n",
    "    timestamp = datetime.datetime.now().strftime(\"%Y%m%d_%H%M%S\")\n",
    "    writer = SummaryWriter(f\"runs/model_{timestamp}\")\n",
    "\n",
    "    best_vloss = 1_000_000.\n",
    "    worsening_vloss_timer = 0\n",
    "    worsening_vloss_tolerance = 5\n",
    "\n",
    "    for epoch in range(max_epochs):\n",
    "        print(f\"EPOCH {epoch + 1}:\")\n",
    "\n",
    "        model.train(True)\n",
    "        avg_loss, accuracy_train = train_one_epoch(model, optimizer, epoch, writer, use_binary)\n",
    "\n",
    "        running_vloss = 0.0\n",
    "        model.eval()\n",
    "\n",
    "        with torch.no_grad():\n",
    "            for i, vdata in enumerate(data_loader_val):\n",
    "                vinputs, vlabels = vdata\n",
    "                vinputs, vlabels = vinputs.to(device), vlabels.to(device)\n",
    "\n",
    "                voutputs = model(vinputs)\n",
    "                vloss = loss_fn(voutputs, vlabels)\n",
    "                running_vloss += vloss.item()\n",
    "\n",
    "        avg_vloss = running_vloss / (i + 1)\n",
    "\n",
    "        accuracy_val = calculate_accuracy(model, spectrograms_tensor_val, emotion_tensor_val)\n",
    "        class_accuracy_val = calculate_class_accuracy(model, spectrograms_tensor_val, emotion_tensor_val, use_binary)\n",
    "\n",
    "        print(f\"\\t LOSS train {avg_loss:.4f} valid {avg_vloss:.4f} \\t\\t ACC train {accuracy_train:.4f} valid {accuracy_val:.4f}\")\n",
    "    #     print(f\"\\t PER-CLASS ACC valid {class_accuracy_val}\")\n",
    "\n",
    "\n",
    "        writer.add_scalars(\n",
    "            \"Training vs. Validation Loss\",\n",
    "            {\"Training\" : avg_loss, \"Validation\" : avg_vloss},\n",
    "            epoch + 1,\n",
    "        )\n",
    "\n",
    "        writer.add_scalars(\n",
    "            \"Training vs. Validation Accuracy\",\n",
    "            {\"Training\" : accuracy_train, \"Validation\" : accuracy_val},\n",
    "            epoch + 1,\n",
    "        )\n",
    "\n",
    "        writer.add_scalars(\n",
    "            \"Class accuracy\",\n",
    "            class_accuracy_val,\n",
    "            epoch + 1,\n",
    "        )\n",
    "\n",
    "        writer.flush()\n",
    "\n",
    "        if avg_vloss < best_vloss:\n",
    "            best_vloss = avg_vloss\n",
    "            model_path = f\"model_checkpoints/model_{use_binary}_{timestamp}_{epoch}\"\n",
    "            torch.save(model.state_dict(), model_path)\n",
    "            worsening_vloss_timer = 0\n",
    "        else:\n",
    "            worsening_vloss_timer += 1\n",
    "            if worsening_vloss_timer >= worsening_vloss_tolerance:\n",
    "                break\n",
    "    \n",
    "    model.to(\"cpu\")\n",
    "    spectrograms_tensor_train.to(\"cpu\")\n",
    "    spectrograms_tensor_val.to(\"cpu\")\n",
    "    emotions_tensor_train.to(\"cpu\")\n",
    "    emotions_tensor_val.to(\"cpu\")\n",
    "    emotions_binary_tensor_train.to(\"cpu\")\n",
    "    emotions_binary_tensor_val.to(\"cpu\")\n",
    "    \n",
    "    return model"
   ]
  },
  {
   "cell_type": "code",
   "execution_count": null,
   "metadata": {},
   "outputs": [],
   "source": [
    "trained_cnn = train_model(cnn, cnn_optimizer, 30, False)"
   ]
  },
  {
   "cell_type": "code",
   "execution_count": null,
   "metadata": {},
   "outputs": [],
   "source": [
    "trained_binary_cnn = train_model(binary_cnn, binary_cnn_optimizer, 30, True)"
   ]
  },
  {
   "cell_type": "code",
   "execution_count": null,
   "metadata": {},
   "outputs": [],
   "source": [
    "validation_outputs = trained_cnn(spectrograms_tensor_val.to(device))\n",
    "validation_output_predictions = torch.nn.Softmax(dim=1)(validation_outputs).argmax(1)\n",
    "validation_output_emotions = np.array([number_to_emotion_mapping[value] for value in validation_output_predictions.numpy()])\n",
    "cnn_confusion_matrix = metrics.ConfusionMatrixDisplay.from_predictions(spectrogram_emotions_val, validation_output_emotions)\n",
    "plt.show()"
   ]
  },
  {
   "cell_type": "code",
   "execution_count": null,
   "metadata": {
    "scrolled": false
   },
   "outputs": [],
   "source": [
    "validation_outputs = trained_binary_cnn(spectrograms_tensor_val.to(device))\n",
    "validation_output_predictions = torch.nn.Softmax(dim=1)(validation_outputs).argmax(1)\n",
    "validation_output_emotions = np.array([number_to_emotion_mapping_binary[value] for value in validation_output_predictions.numpy()])\n",
    "binary_cnn_confusion_matrix = metrics.ConfusionMatrixDisplay.from_predictions(spectrogram_emotions_binary_val, validation_output_emotions)\n",
    "plt.show()"
   ]
  },
  {
   "cell_type": "code",
   "execution_count": null,
   "metadata": {},
   "outputs": [],
   "source": []
  },
  {
   "cell_type": "code",
   "execution_count": null,
   "metadata": {},
   "outputs": [],
   "source": [
    "# %load_ext tensorboard"
   ]
  },
  {
   "cell_type": "code",
   "execution_count": null,
   "metadata": {},
   "outputs": [],
   "source": [
    "# %tensorboard --logdir ./runs"
   ]
  },
  {
   "cell_type": "code",
   "execution_count": null,
   "metadata": {},
   "outputs": [],
   "source": [
    "# rm -rf ./runs/"
   ]
  },
  {
   "cell_type": "markdown",
   "metadata": {},
   "source": [
    "# Evaluation section"
   ]
  },
  {
   "cell_type": "code",
   "execution_count": null,
   "metadata": {},
   "outputs": [],
   "source": [
    "def calculate_evaluation_metrics_and_confusion_matrix(labels_predicted, labels, model_name):\n",
    "    results = {}\n",
    "    \n",
    "    results[\"accuracy\"] = metrics.accuracy_score(labels, labels_predicted)\n",
    "    results[\"precision\"] = metrics.precision_score(labels, labels_predicted, average=\"macro\", zero_division=1)\n",
    "    results[\"recall\"] = metrics.recall_score(labels, labels_predicted, average=\"macro\", zero_division=1)\n",
    "    results[\"F1\"] = metrics.f1_score(labels, labels_predicted, average=\"macro\", zero_division=1)\n",
    "        \n",
    "    confusion_matrix = metrics.ConfusionMatrixDisplay.from_predictions(labels, labels_predicted)\n",
    "    plt.title(f\"{model_name}\\n test set confusion matrix\")\n",
    "#     plt.xlabel(\"Time, s\")\n",
    "#     plt.ylabel(\"Frequency, Hz\")\n",
    "    plt.savefig(f\"confusion_matrices/{model_name} test set confusion matrix.pdf\")\n",
    "    plt.clf()\n",
    "\n",
    "    return {\"metrics\": results, \"confusion_matrix\": confusion_matrix}"
   ]
  },
  {
   "cell_type": "code",
   "execution_count": null,
   "metadata": {
    "scrolled": false
   },
   "outputs": [],
   "source": [
    "grand_result_table = {\"multi-class\": {}, \"binary\": {}}\n",
    "confusion_matrices = {\"multi-class\": {}, \"binary\": {}}\n",
    "\n",
    "for input_type in [\"multi-class\", \"binary\"]:\n",
    "    parameter_data_train = speeches_train\n",
    "    parameter_data_test = speeches_test\n",
    "    \n",
    "    pruned_data_train = speeches_train_pruned\n",
    "    pruned_data_test = speeches_test_pruned\n",
    "    \n",
    "    spectrogram_data_test = spectrograms_tensor_test\n",
    "    \n",
    "    if input_type == \"multi-class\":\n",
    "        labels_train = emotions_train\n",
    "        labels_test = emotions_test\n",
    "        labels_tensor = emotions_tensor_test # Shouldn't need this as I should have same test label for ML and DL\n",
    "        cnn_model = trained_cnn\n",
    "        number_to_label_mapping = number_to_emotion_mapping\n",
    "    elif input_type == \"binary\":\n",
    "        labels_train = emotions_binary_train\n",
    "        labels_test = emotions_binary_test\n",
    "        labels_tensor = emotions_binary_tensor_test\n",
    "        cnn_model = trained_binary_cnn\n",
    "        number_to_label_mapping = number_to_emotion_mapping_binary\n",
    "        \n",
    "    logistic_regression.fit(parameter_data_train, labels_train)\n",
    "    test_predictions = logistic_regression.predict(parameter_data_test)\n",
    "    test_results = calculate_evaluation_metrics_and_confusion_matrix(test_predictions, labels_test, f\"Logistic Regression {input_type}\")\n",
    "    grand_result_table[input_type][\"Logistic Regression\"] = test_results[\"metrics\"]\n",
    "    confusion_matrices[input_type][\"Logistic Regression\"] = test_results[\"confusion_matrix\"]\n",
    "    \n",
    "    svc.fit(parameter_data_train, labels_train)\n",
    "    test_predictions = svc.predict(parameter_data_test)\n",
    "    test_results = calculate_evaluation_metrics_and_confusion_matrix(test_predictions, labels_test, f\"Support Vector Machine {input_type}\")\n",
    "    grand_result_table[input_type][\"Support Vector Machine\"] = test_results[\"metrics\"]\n",
    "    confusion_matrices[input_type][\"Support Vector Machine\"] = test_results[\"confusion_matrix\"]\n",
    "    \n",
    "    optimised_svc.fit(pruned_data_train, labels_train)\n",
    "    test_predictions = optimised_svc.predict(pruned_data_test)\n",
    "    test_results = calculate_evaluation_metrics_and_confusion_matrix(test_predictions, labels_test, f\"Optimised Support Vector Machine {input_type}\")\n",
    "    grand_result_table[input_type][\"Optimised Support Vector Machine\"] = test_results[\"metrics\"]\n",
    "    confusion_matrices[input_type][\"Optimised Support Vector Machine\"] = test_results[\"confusion_matrix\"]\n",
    "    \n",
    "    test_predictions_numeric = torch.nn.Softmax(dim=1)(cnn_model(spectrogram_data_test)).argmax(1)\n",
    "    test_predictions = [number_to_label_mapping[label_number.item()] for label_number in test_predictions_numeric]\n",
    "    doubled_test_labels = [number_to_label_mapping[label_number.item()] for label_number in labels_tensor]\n",
    "    test_results = calculate_evaluation_metrics_and_confusion_matrix(test_predictions, doubled_test_labels, f\"Convolutional Neural Network {input_type}\")\n",
    "    grand_result_table[input_type][\"Convolutional Neural Network\"] = test_results[\"metrics\"]\n",
    "    confusion_matrices[input_type][\"Convolutional Neural Network\"] = test_results[\"confusion_matrix\"]"
   ]
  },
  {
   "cell_type": "code",
   "execution_count": null,
   "metadata": {},
   "outputs": [],
   "source": [
    "grand_result_table"
   ]
  },
  {
   "cell_type": "code",
   "execution_count": null,
   "metadata": {},
   "outputs": [],
   "source": [
    "def convert_metrics_dict_to_latex(results_dict):\n",
    "    latex_string = \"\"\n",
    "    \n",
    "    for input_type in [\"multi-class\", \"binary\"]:\n",
    "        results = results_dict[input_type]\n",
    "        \n",
    "        latex_string += \"\\\\textbf{Model} & \\\\textbf{Accuracy} & \\\\textbf{Precision} & \\\\textbf{Recall} & \\\\textbf{F1-score} \\\\\\\\\\n\"\n",
    "        latex_string += \"\\t\\t\\\\midrule\\n\"\n",
    "        \n",
    "        for model_name, model_results in results.items():\n",
    "            latex_string += f\"\\t\\t{model_name}\"\n",
    "            for column in [\"accuracy\", \"precision\", \"recall\", \"F1\"]:\n",
    "                latex_string += f\" & {model_results[column]:.4f}\"\n",
    "            latex_string += \"\\\\\\\\\\n\"\n",
    "            \n",
    "        latex_string += \"\\n\\n\"\n",
    "    \n",
    "    return latex_string"
   ]
  },
  {
   "cell_type": "code",
   "execution_count": null,
   "metadata": {},
   "outputs": [],
   "source": [
    "print(convert_metrics_dict_to_latex(grand_result_table))"
   ]
  },
  {
   "cell_type": "code",
   "execution_count": null,
   "metadata": {},
   "outputs": [],
   "source": []
  },
  {
   "cell_type": "code",
   "execution_count": null,
   "metadata": {},
   "outputs": [],
   "source": []
  },
  {
   "cell_type": "code",
   "execution_count": null,
   "metadata": {},
   "outputs": [],
   "source": []
  }
 ],
 "metadata": {
  "accelerator": "GPU",
  "colab": {
   "collapsed_sections": [
    "89Q5h1M-iGtX",
    "AB0Y6xS17Tj3",
    "aikqCd3d7b6d",
    "GTMFgODnbDsI",
    "I9mj2L3jiGtl",
    "foKQaWCiUpRh",
    "gVSMGXRVz0Mn",
    "RgQbyZBBb5mm",
    "vJPQreO0cByU",
    "d8eXs9T1fGFe",
    "Dt8wYLwhkUPl",
    "GxOlNT22khAD",
    "dMxfsKiXAicT"
   ],
   "provenance": [],
   "toc_visible": true
  },
  "gpuClass": "standard",
  "kernelspec": {
   "display_name": "Python 3 (ipykernel)",
   "language": "python",
   "name": "python3"
  },
  "language_info": {
   "codemirror_mode": {
    "name": "ipython",
    "version": 3
   },
   "file_extension": ".py",
   "mimetype": "text/x-python",
   "name": "python",
   "nbconvert_exporter": "python",
   "pygments_lexer": "ipython3",
   "version": "3.10.9"
  }
 },
 "nbformat": 4,
 "nbformat_minor": 1
}
