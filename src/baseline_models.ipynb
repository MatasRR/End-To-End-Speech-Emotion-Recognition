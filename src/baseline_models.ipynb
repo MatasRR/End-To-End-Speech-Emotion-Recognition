{
 "cells": [
  {
   "cell_type": "markdown",
   "metadata": {
    "id": "89Q5h1M-iGtX"
   },
   "source": [
    "# Data preparation section"
   ]
  },
  {
   "cell_type": "code",
   "execution_count": 1,
   "metadata": {},
   "outputs": [
    {
     "data": {
      "text/html": [
       "<style>.container { width:95% !important; }</style>"
      ],
      "text/plain": [
       "<IPython.core.display.HTML object>"
      ]
     },
     "metadata": {},
     "output_type": "display_data"
    }
   ],
   "source": [
    "from IPython.display import display, HTML\n",
    "display(HTML(\"<style>.container { width:95% !important; }</style>\"))"
   ]
  },
  {
   "cell_type": "code",
   "execution_count": 2,
   "metadata": {
    "scrolled": false
   },
   "outputs": [
    {
     "name": "stdout",
     "output_type": "stream",
     "text": [
      "Defaulting to user installation because normal site-packages is not writeable\n",
      "Requirement already satisfied: opensmile in c:\\users\\matas\\appdata\\roaming\\python\\python310\\site-packages (2.4.2)\n",
      "Requirement already satisfied: audinterface>=0.7.0 in c:\\users\\matas\\appdata\\roaming\\python\\python310\\site-packages (from opensmile) (1.1.0)\n",
      "Requirement already satisfied: audobject>=0.6.1 in c:\\users\\matas\\appdata\\roaming\\python\\python310\\site-packages (from opensmile) (0.7.9)\n",
      "Requirement already satisfied: audformat<2.0.0,>=1.0.1 in c:\\users\\matas\\appdata\\roaming\\python\\python310\\site-packages (from audinterface>=0.7.0->opensmile) (1.0.1)\n",
      "Requirement already satisfied: audmath>=1.3.0 in c:\\users\\matas\\appdata\\roaming\\python\\python310\\site-packages (from audinterface>=0.7.0->opensmile) (1.3.0)\n",
      "Requirement already satisfied: audresample<2.0.0,>=1.1.0 in c:\\users\\matas\\appdata\\roaming\\python\\python310\\site-packages (from audinterface>=0.7.0->opensmile) (1.3.2)\n",
      "Requirement already satisfied: audiofile>=1.3.0 in c:\\users\\matas\\appdata\\roaming\\python\\python310\\site-packages (from audinterface>=0.7.0->opensmile) (1.3.0)\n",
      "Requirement already satisfied: audeer>=1.18.0 in c:\\users\\matas\\appdata\\roaming\\python\\python310\\site-packages (from audobject>=0.6.1->opensmile) (1.20.1)\n",
      "Requirement already satisfied: importlib-metadata>=4.8.0 in c:\\programdata\\anaconda3\\lib\\site-packages (from audobject>=0.6.1->opensmile) (4.11.3)\n",
      "Requirement already satisfied: oyaml in c:\\users\\matas\\appdata\\roaming\\python\\python310\\site-packages (from audobject>=0.6.1->opensmile) (1.0)\n",
      "Requirement already satisfied: tqdm in c:\\programdata\\anaconda3\\lib\\site-packages (from audeer>=1.18.0->audobject>=0.6.1->opensmile) (4.64.1)\n",
      "Requirement already satisfied: pyyaml>=5.4.1 in c:\\programdata\\anaconda3\\lib\\site-packages (from audformat<2.0.0,>=1.0.1->audinterface>=0.7.0->opensmile) (6.0)\n",
      "Requirement already satisfied: iso-639 in c:\\users\\matas\\appdata\\roaming\\python\\python310\\site-packages (from audformat<2.0.0,>=1.0.1->audinterface>=0.7.0->opensmile) (0.4.5)\n",
      "Requirement already satisfied: iso3166 in c:\\users\\matas\\appdata\\roaming\\python\\python310\\site-packages (from audformat<2.0.0,>=1.0.1->audinterface>=0.7.0->opensmile) (2.1.1)\n",
      "Requirement already satisfied: pandas>=1.4.1 in c:\\programdata\\anaconda3\\lib\\site-packages (from audformat<2.0.0,>=1.0.1->audinterface>=0.7.0->opensmile) (1.5.3)\n",
      "Requirement already satisfied: numpy in c:\\programdata\\anaconda3\\lib\\site-packages (from audiofile>=1.3.0->audinterface>=0.7.0->opensmile) (1.23.5)\n",
      "Requirement already satisfied: soundfile in c:\\users\\matas\\appdata\\roaming\\python\\python310\\site-packages (from audiofile>=1.3.0->audinterface>=0.7.0->opensmile) (0.12.1)\n",
      "Requirement already satisfied: zipp>=0.5 in c:\\programdata\\anaconda3\\lib\\site-packages (from importlib-metadata>=4.8.0->audobject>=0.6.1->opensmile) (3.11.0)\n",
      "Requirement already satisfied: pytz>=2020.1 in c:\\programdata\\anaconda3\\lib\\site-packages (from pandas>=1.4.1->audformat<2.0.0,>=1.0.1->audinterface>=0.7.0->opensmile) (2022.7)\n",
      "Requirement already satisfied: python-dateutil>=2.8.1 in c:\\programdata\\anaconda3\\lib\\site-packages (from pandas>=1.4.1->audformat<2.0.0,>=1.0.1->audinterface>=0.7.0->opensmile) (2.8.2)\n",
      "Requirement already satisfied: cffi>=1.0 in c:\\programdata\\anaconda3\\lib\\site-packages (from soundfile->audiofile>=1.3.0->audinterface>=0.7.0->opensmile) (1.15.1)\n",
      "Requirement already satisfied: colorama in c:\\programdata\\anaconda3\\lib\\site-packages (from tqdm->audeer>=1.18.0->audobject>=0.6.1->opensmile) (0.4.6)\n",
      "Requirement already satisfied: pycparser in c:\\programdata\\anaconda3\\lib\\site-packages (from cffi>=1.0->soundfile->audiofile>=1.3.0->audinterface>=0.7.0->opensmile) (2.21)\n",
      "Requirement already satisfied: six>=1.5 in c:\\programdata\\anaconda3\\lib\\site-packages (from python-dateutil>=2.8.1->pandas>=1.4.1->audformat<2.0.0,>=1.0.1->audinterface>=0.7.0->opensmile) (1.16.0)\n",
      "Defaulting to user installation because normal site-packages is not writeable\n",
      "Requirement already satisfied: librosa in c:\\users\\matas\\appdata\\roaming\\python\\python310\\site-packages (0.10.1)\n",
      "Requirement already satisfied: joblib>=0.14 in c:\\programdata\\anaconda3\\lib\\site-packages (from librosa) (1.1.1)\n",
      "Requirement already satisfied: lazy-loader>=0.1 in c:\\users\\matas\\appdata\\roaming\\python\\python310\\site-packages (from librosa) (0.3)\n",
      "Requirement already satisfied: numpy!=1.22.0,!=1.22.1,!=1.22.2,>=1.20.3 in c:\\programdata\\anaconda3\\lib\\site-packages (from librosa) (1.23.5)\n",
      "Requirement already satisfied: numba>=0.51.0 in c:\\programdata\\anaconda3\\lib\\site-packages (from librosa) (0.56.4)\n",
      "Requirement already satisfied: soxr>=0.3.2 in c:\\users\\matas\\appdata\\roaming\\python\\python310\\site-packages (from librosa) (0.3.7)\n",
      "Requirement already satisfied: soundfile>=0.12.1 in c:\\users\\matas\\appdata\\roaming\\python\\python310\\site-packages (from librosa) (0.12.1)\n",
      "Requirement already satisfied: msgpack>=1.0 in c:\\programdata\\anaconda3\\lib\\site-packages (from librosa) (1.0.3)\n",
      "Requirement already satisfied: pooch>=1.0 in c:\\programdata\\anaconda3\\lib\\site-packages (from librosa) (1.4.0)\n",
      "Requirement already satisfied: typing-extensions>=4.1.1 in c:\\programdata\\anaconda3\\lib\\site-packages (from librosa) (4.9.0)\n",
      "Requirement already satisfied: scikit-learn>=0.20.0 in c:\\programdata\\anaconda3\\lib\\site-packages (from librosa) (1.2.1)\n",
      "Requirement already satisfied: decorator>=4.3.0 in c:\\programdata\\anaconda3\\lib\\site-packages (from librosa) (5.1.1)\n",
      "Requirement already satisfied: scipy>=1.2.0 in c:\\programdata\\anaconda3\\lib\\site-packages (from librosa) (1.10.0)\n",
      "Requirement already satisfied: audioread>=2.1.9 in c:\\users\\matas\\appdata\\roaming\\python\\python310\\site-packages (from librosa) (3.0.1)\n",
      "Requirement already satisfied: setuptools in c:\\programdata\\anaconda3\\lib\\site-packages (from numba>=0.51.0->librosa) (65.6.3)\n",
      "Requirement already satisfied: llvmlite<0.40,>=0.39.0dev0 in c:\\programdata\\anaconda3\\lib\\site-packages (from numba>=0.51.0->librosa) (0.39.1)\n",
      "Requirement already satisfied: appdirs in c:\\programdata\\anaconda3\\lib\\site-packages (from pooch>=1.0->librosa) (1.4.4)\n",
      "Requirement already satisfied: packaging in c:\\programdata\\anaconda3\\lib\\site-packages (from pooch>=1.0->librosa) (22.0)\n",
      "Requirement already satisfied: requests in c:\\programdata\\anaconda3\\lib\\site-packages (from pooch>=1.0->librosa) (2.31.0)\n",
      "Requirement already satisfied: threadpoolctl>=2.0.0 in c:\\programdata\\anaconda3\\lib\\site-packages (from scikit-learn>=0.20.0->librosa) (2.2.0)\n",
      "Requirement already satisfied: cffi>=1.0 in c:\\programdata\\anaconda3\\lib\\site-packages (from soundfile>=0.12.1->librosa) (1.15.1)\n",
      "Requirement already satisfied: pycparser in c:\\programdata\\anaconda3\\lib\\site-packages (from cffi>=1.0->soundfile>=0.12.1->librosa) (2.21)\n",
      "Requirement already satisfied: charset-normalizer<4,>=2 in c:\\programdata\\anaconda3\\lib\\site-packages (from requests->pooch>=1.0->librosa) (2.0.4)\n",
      "Requirement already satisfied: certifi>=2017.4.17 in c:\\programdata\\anaconda3\\lib\\site-packages (from requests->pooch>=1.0->librosa) (2023.7.22)\n",
      "Requirement already satisfied: urllib3<3,>=1.21.1 in c:\\programdata\\anaconda3\\lib\\site-packages (from requests->pooch>=1.0->librosa) (1.26.14)\n",
      "Requirement already satisfied: idna<4,>=2.5 in c:\\programdata\\anaconda3\\lib\\site-packages (from requests->pooch>=1.0->librosa) (3.4)\n",
      "Defaulting to user installation because normal site-packages is not writeable\n",
      "Requirement already satisfied: google in c:\\users\\matas\\appdata\\roaming\\python\\python310\\site-packages (3.0.0)\n",
      "Requirement already satisfied: beautifulsoup4 in c:\\programdata\\anaconda3\\lib\\site-packages (from google) (4.11.1)\n",
      "Requirement already satisfied: soupsieve>1.2 in c:\\programdata\\anaconda3\\lib\\site-packages (from beautifulsoup4->google) (2.3.2.post1)\n",
      "Defaulting to user installation because normal site-packages is not writeable\n",
      "Requirement already satisfied: treelib in c:\\users\\matas\\appdata\\roaming\\python\\python310\\site-packages (1.7.0)\n",
      "Requirement already satisfied: six in c:\\programdata\\anaconda3\\lib\\site-packages (from treelib) (1.16.0)\n",
      "Defaulting to user installation because normal site-packages is not writeable\n",
      "Requirement already satisfied: graphviz in c:\\users\\matas\\appdata\\roaming\\python\\python310\\site-packages (0.20.1)\n"
     ]
    },
    {
     "name": "stdout",
     "output_type": "stream",
     "text": [
      "Defaulting to user installation because normal site-packages is not writeable\n",
      "Requirement already satisfied: tensorflow in c:\\users\\matas\\appdata\\roaming\\python\\python310\\site-packages (2.14.0)\n",
      "Requirement already satisfied: tensorflow-intel==2.14.0 in c:\\users\\matas\\appdata\\roaming\\python\\python310\\site-packages (from tensorflow) (2.14.0)\n",
      "Requirement already satisfied: setuptools in c:\\programdata\\anaconda3\\lib\\site-packages (from tensorflow-intel==2.14.0->tensorflow) (65.6.3)\n",
      "Requirement already satisfied: opt-einsum>=2.3.2 in c:\\users\\matas\\appdata\\roaming\\python\\python310\\site-packages (from tensorflow-intel==2.14.0->tensorflow) (3.3.0)\n",
      "Requirement already satisfied: packaging in c:\\programdata\\anaconda3\\lib\\site-packages (from tensorflow-intel==2.14.0->tensorflow) (22.0)\n",
      "Requirement already satisfied: typing-extensions>=3.6.6 in c:\\programdata\\anaconda3\\lib\\site-packages (from tensorflow-intel==2.14.0->tensorflow) (4.9.0)\n",
      "Requirement already satisfied: six>=1.12.0 in c:\\programdata\\anaconda3\\lib\\site-packages (from tensorflow-intel==2.14.0->tensorflow) (1.16.0)\n",
      "Requirement already satisfied: tensorflow-estimator<2.15,>=2.14.0 in c:\\users\\matas\\appdata\\roaming\\python\\python310\\site-packages (from tensorflow-intel==2.14.0->tensorflow) (2.14.0)\n",
      "Requirement already satisfied: tensorflow-io-gcs-filesystem>=0.23.1 in c:\\users\\matas\\appdata\\roaming\\python\\python310\\site-packages (from tensorflow-intel==2.14.0->tensorflow) (0.31.0)\n",
      "Requirement already satisfied: ml-dtypes==0.2.0 in c:\\users\\matas\\appdata\\roaming\\python\\python310\\site-packages (from tensorflow-intel==2.14.0->tensorflow) (0.2.0)\n",
      "Requirement already satisfied: google-pasta>=0.1.1 in c:\\users\\matas\\appdata\\roaming\\python\\python310\\site-packages (from tensorflow-intel==2.14.0->tensorflow) (0.2.0)\n",
      "Requirement already satisfied: wrapt<1.15,>=1.11.0 in c:\\programdata\\anaconda3\\lib\\site-packages (from tensorflow-intel==2.14.0->tensorflow) (1.14.1)\n",
      "Requirement already satisfied: astunparse>=1.6.0 in c:\\users\\matas\\appdata\\roaming\\python\\python310\\site-packages (from tensorflow-intel==2.14.0->tensorflow) (1.6.3)\n",
      "Requirement already satisfied: flatbuffers>=23.5.26 in c:\\users\\matas\\appdata\\roaming\\python\\python310\\site-packages (from tensorflow-intel==2.14.0->tensorflow) (23.5.26)\n",
      "Requirement already satisfied: absl-py>=1.0.0 in c:\\users\\matas\\appdata\\roaming\\python\\python310\\site-packages (from tensorflow-intel==2.14.0->tensorflow) (2.0.0)\n",
      "Requirement already satisfied: gast!=0.5.0,!=0.5.1,!=0.5.2,>=0.2.1 in c:\\users\\matas\\appdata\\roaming\\python\\python310\\site-packages (from tensorflow-intel==2.14.0->tensorflow) (0.5.4)\n",
      "Requirement already satisfied: keras<2.15,>=2.14.0 in c:\\users\\matas\\appdata\\roaming\\python\\python310\\site-packages (from tensorflow-intel==2.14.0->tensorflow) (2.14.0)\n",
      "Requirement already satisfied: tensorboard<2.15,>=2.14 in c:\\users\\matas\\appdata\\roaming\\python\\python310\\site-packages (from tensorflow-intel==2.14.0->tensorflow) (2.14.1)\n",
      "Requirement already satisfied: termcolor>=1.1.0 in c:\\users\\matas\\appdata\\roaming\\python\\python310\\site-packages (from tensorflow-intel==2.14.0->tensorflow) (2.3.0)\n",
      "Requirement already satisfied: numpy>=1.23.5 in c:\\programdata\\anaconda3\\lib\\site-packages (from tensorflow-intel==2.14.0->tensorflow) (1.23.5)\n",
      "Requirement already satisfied: h5py>=2.9.0 in c:\\programdata\\anaconda3\\lib\\site-packages (from tensorflow-intel==2.14.0->tensorflow) (3.7.0)\n",
      "Requirement already satisfied: libclang>=13.0.0 in c:\\users\\matas\\appdata\\roaming\\python\\python310\\site-packages (from tensorflow-intel==2.14.0->tensorflow) (16.0.6)\n",
      "Requirement already satisfied: protobuf!=4.21.0,!=4.21.1,!=4.21.2,!=4.21.3,!=4.21.4,!=4.21.5,<5.0.0dev,>=3.20.3 in c:\\users\\matas\\appdata\\roaming\\python\\python310\\site-packages (from tensorflow-intel==2.14.0->tensorflow) (4.25.0)\n",
      "Requirement already satisfied: grpcio<2.0,>=1.24.3 in c:\\users\\matas\\appdata\\roaming\\python\\python310\\site-packages (from tensorflow-intel==2.14.0->tensorflow) (1.59.2)\n",
      "Requirement already satisfied: wheel<1.0,>=0.23.0 in c:\\programdata\\anaconda3\\lib\\site-packages (from astunparse>=1.6.0->tensorflow-intel==2.14.0->tensorflow) (0.38.4)\n",
      "Requirement already satisfied: google-auth-oauthlib<1.1,>=0.5 in c:\\users\\matas\\appdata\\roaming\\python\\python310\\site-packages (from tensorboard<2.15,>=2.14->tensorflow-intel==2.14.0->tensorflow) (1.0.0)\n",
      "Requirement already satisfied: tensorboard-data-server<0.8.0,>=0.7.0 in c:\\users\\matas\\appdata\\roaming\\python\\python310\\site-packages (from tensorboard<2.15,>=2.14->tensorflow-intel==2.14.0->tensorflow) (0.7.2)\n",
      "Requirement already satisfied: requests<3,>=2.21.0 in c:\\programdata\\anaconda3\\lib\\site-packages (from tensorboard<2.15,>=2.14->tensorflow-intel==2.14.0->tensorflow) (2.31.0)\n",
      "Requirement already satisfied: google-auth<3,>=1.6.3 in c:\\users\\matas\\appdata\\roaming\\python\\python310\\site-packages (from tensorboard<2.15,>=2.14->tensorflow-intel==2.14.0->tensorflow) (2.23.4)\n",
      "Requirement already satisfied: markdown>=2.6.8 in c:\\programdata\\anaconda3\\lib\\site-packages (from tensorboard<2.15,>=2.14->tensorflow-intel==2.14.0->tensorflow) (3.4.1)\n",
      "Requirement already satisfied: werkzeug>=1.0.1 in c:\\programdata\\anaconda3\\lib\\site-packages (from tensorboard<2.15,>=2.14->tensorflow-intel==2.14.0->tensorflow) (2.2.2)\n",
      "Requirement already satisfied: cachetools<6.0,>=2.0.0 in c:\\users\\matas\\appdata\\roaming\\python\\python310\\site-packages (from google-auth<3,>=1.6.3->tensorboard<2.15,>=2.14->tensorflow-intel==2.14.0->tensorflow) (5.3.2)\n",
      "Requirement already satisfied: rsa<5,>=3.1.4 in c:\\users\\matas\\appdata\\roaming\\python\\python310\\site-packages (from google-auth<3,>=1.6.3->tensorboard<2.15,>=2.14->tensorflow-intel==2.14.0->tensorflow) (4.9)\n",
      "Requirement already satisfied: pyasn1-modules>=0.2.1 in c:\\programdata\\anaconda3\\lib\\site-packages (from google-auth<3,>=1.6.3->tensorboard<2.15,>=2.14->tensorflow-intel==2.14.0->tensorflow) (0.2.8)\n",
      "Requirement already satisfied: requests-oauthlib>=0.7.0 in c:\\users\\matas\\appdata\\roaming\\python\\python310\\site-packages (from google-auth-oauthlib<1.1,>=0.5->tensorboard<2.15,>=2.14->tensorflow-intel==2.14.0->tensorflow) (1.3.1)\n",
      "Requirement already satisfied: charset-normalizer<4,>=2 in c:\\programdata\\anaconda3\\lib\\site-packages (from requests<3,>=2.21.0->tensorboard<2.15,>=2.14->tensorflow-intel==2.14.0->tensorflow) (2.0.4)\n",
      "Requirement already satisfied: idna<4,>=2.5 in c:\\programdata\\anaconda3\\lib\\site-packages (from requests<3,>=2.21.0->tensorboard<2.15,>=2.14->tensorflow-intel==2.14.0->tensorflow) (3.4)\n",
      "Requirement already satisfied: urllib3<3,>=1.21.1 in c:\\programdata\\anaconda3\\lib\\site-packages (from requests<3,>=2.21.0->tensorboard<2.15,>=2.14->tensorflow-intel==2.14.0->tensorflow) (1.26.14)\n",
      "Requirement already satisfied: certifi>=2017.4.17 in c:\\programdata\\anaconda3\\lib\\site-packages (from requests<3,>=2.21.0->tensorboard<2.15,>=2.14->tensorflow-intel==2.14.0->tensorflow) (2023.7.22)\n",
      "Requirement already satisfied: MarkupSafe>=2.1.1 in c:\\programdata\\anaconda3\\lib\\site-packages (from werkzeug>=1.0.1->tensorboard<2.15,>=2.14->tensorflow-intel==2.14.0->tensorflow) (2.1.1)\n",
      "Requirement already satisfied: pyasn1<0.5.0,>=0.4.6 in c:\\programdata\\anaconda3\\lib\\site-packages (from pyasn1-modules>=0.2.1->google-auth<3,>=1.6.3->tensorboard<2.15,>=2.14->tensorflow-intel==2.14.0->tensorflow) (0.4.8)\n",
      "Requirement already satisfied: oauthlib>=3.0.0 in c:\\users\\matas\\appdata\\roaming\\python\\python310\\site-packages (from requests-oauthlib>=0.7.0->google-auth-oauthlib<1.1,>=0.5->tensorboard<2.15,>=2.14->tensorflow-intel==2.14.0->tensorflow) (3.2.2)\n"
     ]
    }
   ],
   "source": [
    "installed_packages = [\n",
    "    \"opensmile\",\n",
    "    \"librosa\",\n",
    "    \"google\",\n",
    "    \"treelib\",\n",
    "    \"graphviz\",\n",
    "    \"tensorflow\",\n",
    "]\n",
    "\n",
    "for package in installed_packages:\n",
    "    !pip install {package}"
   ]
  },
  {
   "cell_type": "code",
   "execution_count": 3,
   "metadata": {},
   "outputs": [],
   "source": [
    "import numpy as np\n",
    "import pandas as pd\n",
    "import json"
   ]
  },
  {
   "cell_type": "code",
   "execution_count": 4,
   "metadata": {
    "id": "4pIIqhuk6Wdm"
   },
   "outputs": [],
   "source": [
    "import opensmile\n",
    "\n",
    "smile = opensmile.Smile(\n",
    "#     feature_set=opensmile.FeatureSet.ComParE_2016,\n",
    "    feature_set=opensmile.FeatureSet.eGeMAPSv02,\n",
    "#     feature_set=opensmile.FeatureSet.GeMAPSv01b,\n",
    "    feature_level=opensmile.FeatureLevel.Functionals,\n",
    ")\n"
   ]
  },
  {
   "cell_type": "code",
   "execution_count": 5,
   "metadata": {
    "colab": {
     "base_uri": "https://localhost:8080/",
     "height": 424
    },
    "id": "9CnuzfCN6kxa",
    "outputId": "9c44bd5d-78f4-4762-d13f-fed963850c37"
   },
   "outputs": [],
   "source": [
    "import glob\n",
    "\n",
    "try:\n",
    "    files = glob.glob(\"../data/raw/RAVDESS/*/*.wav\")\n",
    "except:\n",
    "    from google.colab import drive\n",
    "    drive.mount('/content/gdrive')\n",
    "    files = glob.glob(\"/content/gdrive/MyDrive/Colab Notebooks/IP/data/RAVDESS/*/*.wav\")"
   ]
  },
  {
   "cell_type": "code",
   "execution_count": 6,
   "metadata": {},
   "outputs": [],
   "source": [
    "file_name_to_emotion_mapping = {\n",
    "    \"01\": \"neutral\",\n",
    "    \"02\": \"calm\",\n",
    "    \"03\": \"happy\",\n",
    "    \"04\": \"sad\",\n",
    "    \"05\": \"angry\",\n",
    "    \"06\": \"fearful\",\n",
    "    \"07\": \"disgust\",\n",
    "    \"08\": \"surprised\",\n",
    "}"
   ]
  },
  {
   "cell_type": "code",
   "execution_count": 7,
   "metadata": {},
   "outputs": [],
   "source": [
    "emotion_to_positivity_mapping = {\n",
    "    \"neutral\": \"positive\",\n",
    "    \"calm\": \"positive\",\n",
    "    \"happy\": \"positive\",\n",
    "    \"sad\": \"negative\",\n",
    "    \"angry\": \"negative\",\n",
    "    \"fearful\": \"negative\",\n",
    "    \"disgust\": \"negative\",\n",
    "    \"surprised\": \"positive\",\n",
    "}"
   ]
  },
  {
   "cell_type": "code",
   "execution_count": 8,
   "metadata": {},
   "outputs": [],
   "source": [
    "SEED = 42"
   ]
  },
  {
   "cell_type": "markdown",
   "metadata": {},
   "source": [
    "##### Data reading and normalisation"
   ]
  },
  {
   "cell_type": "code",
   "execution_count": 9,
   "metadata": {},
   "outputs": [],
   "source": [
    "speech_data = smile.process_files(files)"
   ]
  },
  {
   "cell_type": "code",
   "execution_count": 10,
   "metadata": {},
   "outputs": [],
   "source": [
    "normalised_speech_data=(speech_data-speech_data.mean())/speech_data.std()\n",
    "normalised_speech_data.dropna(axis='columns', inplace=True)"
   ]
  },
  {
   "cell_type": "code",
   "execution_count": 11,
   "metadata": {},
   "outputs": [],
   "source": [
    "emotion_labels = [file_name_to_emotion_mapping[file.split(\"-\")[-5]] for file in files]"
   ]
  },
  {
   "cell_type": "markdown",
   "metadata": {
    "id": "aikqCd3d7b6d"
   },
   "source": [
    "##### Splitting the data into training, validation and test sets"
   ]
  },
  {
   "cell_type": "code",
   "execution_count": 12,
   "metadata": {
    "id": "3Wow_Uwc7qN9"
   },
   "outputs": [],
   "source": [
    "from sklearn.model_selection import train_test_split\n",
    "\n",
    "speeches = normalised_speech_data\n",
    "emotions = emotion_labels\n",
    "\n",
    "speeches_train_and_val, speeches_test, emotions_train_and_val, emotions_test = train_test_split(speeches, emotions, test_size=0.2, random_state=SEED, stratify=emotions)\n",
    "speeches_train, speeches_val, emotions_train, emotions_val = train_test_split(speeches_train_and_val, emotions_train_and_val, test_size=0.25, random_state=SEED, stratify=emotions_train_and_val)"
   ]
  },
  {
   "cell_type": "code",
   "execution_count": 13,
   "metadata": {},
   "outputs": [],
   "source": [
    "emotion_to_number_mapping = {emotion: int(number)-1 for number, emotion in file_name_to_emotion_mapping.items()}\n",
    "emotions_numeric_train = np.array([emotion_to_number_mapping[emotion] for emotion in emotions_train])\n",
    "emotions_numeric_val = np.array([emotion_to_number_mapping[emotion] for emotion in emotions_val])\n",
    "emotions_numeric_test = np.array([emotion_to_number_mapping[emotion] for emotion in emotions_test])"
   ]
  },
  {
   "cell_type": "code",
   "execution_count": 14,
   "metadata": {},
   "outputs": [],
   "source": [
    "emotions_binary_train = np.array([emotion_to_positivity_mapping[emotion] for emotion in emotions_train])\n",
    "emotions_binary_val = np.array([emotion_to_positivity_mapping[emotion] for emotion in emotions_val])\n",
    "emotions_binary_test = np.array([emotion_to_positivity_mapping[emotion] for emotion in emotions_test])"
   ]
  },
  {
   "cell_type": "code",
   "execution_count": 15,
   "metadata": {
    "id": "d7I594NDkO6c"
   },
   "outputs": [],
   "source": [
    "# Pandas dataframes keep the old indexing after sampling, but I need it to be sequential, thus, a reset for the index\n",
    "speeches_train.reset_index(drop=True, inplace=True)\n",
    "speeches_val.reset_index(drop=True, inplace=True)\n",
    "speeches_test.reset_index(drop=True, inplace=True)"
   ]
  },
  {
   "cell_type": "code",
   "execution_count": 16,
   "metadata": {
    "colab": {
     "base_uri": "https://localhost:8080/"
    },
    "id": "mA9wf8eWZpm3",
    "outputId": "a28d0b18-7bd9-40a3-c17c-faa92c2d84e6"
   },
   "outputs": [
    {
     "name": "stdout",
     "output_type": "stream",
     "text": [
      "len(speeches_train)=864\t\tlen(emotions_train)=864\n",
      "len(speeches_val)=288\t\tlen(emotions_val)=288\n",
      "len(speeches_test)=288\t\tlen(emotions_test)=288\n",
      "Counter(emotions_train)=Counter({'calm': 116, 'angry': 115, 'fearful': 115, 'sad': 115, 'happy': 115, 'surprised': 115, 'disgust': 115, 'neutral': 58})\n",
      "Counter(emotions_val)=Counter({'sad': 39, 'disgust': 39, 'angry': 39, 'calm': 38, 'surprised': 38, 'fearful': 38, 'happy': 38, 'neutral': 19})\n",
      "Counter(emotions_test)=Counter({'happy': 39, 'fearful': 39, 'surprised': 39, 'sad': 38, 'calm': 38, 'angry': 38, 'disgust': 38, 'neutral': 19})\n"
     ]
    }
   ],
   "source": [
    "from collections import Counter\n",
    "\n",
    "print(f\"{len(speeches_train)=}\\t\\t{len(emotions_train)=}\")\n",
    "print(f\"{len(speeches_val)=}\\t\\t{len(emotions_val)=}\")\n",
    "print(f\"{len(speeches_test)=}\\t\\t{len(emotions_test)=}\")\n",
    "\n",
    "print(f\"{Counter(emotions_train)=}\")\n",
    "print(f\"{Counter(emotions_val)=}\")\n",
    "print(f\"{Counter(emotions_test)=}\")"
   ]
  },
  {
   "cell_type": "markdown",
   "metadata": {
    "id": "dGXOYkvAbuT1"
   },
   "source": [
    "# Classifier comparison section"
   ]
  },
  {
   "cell_type": "markdown",
   "metadata": {
    "id": "RgQbyZBBb5mm"
   },
   "source": [
    "### Building classifiers"
   ]
  },
  {
   "cell_type": "code",
   "execution_count": 17,
   "metadata": {
    "id": "fe_knPbbb-vF"
   },
   "outputs": [],
   "source": [
    "from locale import Error\n",
    "from sklearn.dummy import DummyClassifier\n",
    "from sklearn.linear_model import LogisticRegression\n",
    "from sklearn.svm import SVC\n",
    "from sklearn import metrics\n",
    "\n",
    "def fit_predict_and_score_classifier(classifier, data_train, data_val, labels_train, labels_val, label_set):\n",
    "    classifier.fit(data_train, labels_train)\n",
    "    results = {\"train\": {}, \"val\": {}}\n",
    "    \n",
    "    for set_type in [\"train\", \"val\"]:\n",
    "        if set_type == \"train\":\n",
    "            data = data_train\n",
    "            labels = labels_train\n",
    "        elif set_type == \"val\":\n",
    "            data = data_val\n",
    "            labels = labels_val\n",
    "        else:\n",
    "            raise Error(\"Undefined data set type\")\n",
    "\n",
    "        labels_predicted = classifier.predict(data)\n",
    "\n",
    "        results[set_type][\"predictions\"] = labels_predicted\n",
    "        results[set_type][\"accuracy\"] = metrics.accuracy_score(labels, labels_predicted)\n",
    "        results[set_type][\"precision\"] = metrics.precision_score(labels, labels_predicted, average=\"macro\", zero_division=1)\n",
    "        results[set_type][\"recall\"] = metrics.recall_score(labels, labels_predicted, average=\"macro\", zero_division=1)\n",
    "        results[set_type][\"F1\"] = metrics.f1_score(labels, labels_predicted, average=\"macro\", zero_division=1)\n",
    "\n",
    "    return results\n",
    "\n",
    "def create_result_table(results):\n",
    "    first_key = list(results.keys())[0]\n",
    "    second_key = list(results[first_key].keys())[0]\n",
    "    table = pd.DataFrame(columns=[\"Classifier\", \"Set type\"] + list(results[first_key][second_key].keys()))\n",
    "    for classifier_name, classifier_data in results.items():\n",
    "        for set_type, set_metrics in classifier_data.items():\n",
    "              # Taken from (merging dicts) https://stackoverflow.com/questions/38987/how-do-i-merge-two-dictionaries-in-a-single-expression-in-python\n",
    "            new_row = {\"Classifier\": classifier_name, \"Set type\": set_type} | set_metrics\n",
    "            table = table.append(new_row, ignore_index=True)\n",
    "    return table\n",
    "\n",
    "# def create_result_table(results):\n",
    "#     first_key = list(results.keys())[0]\n",
    "#     second_key = list(results[first_key].keys())[0]\n",
    "#     table = pd.DataFrame(columns=[\"Classifier\", \"Set type\"] + list(results[first_key][second_key].keys()))\n",
    "#     for classifier_name, classifier_data in results.items():\n",
    "#         for set_type, set_metrics in classifier_data.items():\n",
    "#               # Taken from (merging dicts) https://stackoverflow.com/questions/38987/how-do-i-merge-two-dictionaries-in-a-single-expression-in-python\n",
    "#             new_row = pd.DataFrame({\"Classifier\": classifier_name, \"Set type\": set_type} | set_metrics)\n",
    "#             table = pd.concat([table, new_row], ignore_index=True)\n",
    "#     return table\n",
    "\n",
    "def calculate_f1_scores_by_class(labels_predicted, labels):\n",
    "    all_labels = sorted(list(set(labels)))\n",
    "    matrix_dimension = range(len(set(labels)))\n",
    "    matrix = metrics.confusion_matrix(labels, labels_predicted, labels=all_labels)\n",
    "\n",
    "    recalls = [matrix[index, index] / row_sum for index, row_sum in enumerate(np.sum(matrix, axis=1))]\n",
    "    precisions = [matrix[index, index] / column_sum for index, column_sum in enumerate(np.sum(matrix, axis=0))]\n",
    "\n",
    "    f1_scores = {label: {} for label in all_labels}\n",
    "    for index, label in enumerate(all_labels):\n",
    "        f1_scores[label] = 2 * (precisions[index] * recalls[index]) / (precisions[index] + recalls[index])\n",
    "\n",
    "    return f1_scores"
   ]
  },
  {
   "cell_type": "code",
   "execution_count": 18,
   "metadata": {
    "id": "rmOWy_3elp_0"
   },
   "outputs": [],
   "source": [
    "# These parameters are repeated, so they are unwrapped while calling functions to reduce clutter\n",
    "multi_class_parameters = (speeches_train, speeches_val, emotions_train, emotions_val, set(emotions))\n",
    "binary_parameters = (speeches_train, speeches_val, emotions_binary_train, emotions_binary_val, set([\"positive\", \"negative\"]))\n",
    "initial_classifier_results = {}\n",
    "initial_classifier_results_binary = {}"
   ]
  },
  {
   "cell_type": "code",
   "execution_count": 19,
   "metadata": {},
   "outputs": [],
   "source": [
    "dummy_classifier_most_frequent = DummyClassifier(strategy=\"most_frequent\")\n",
    "dummy_classifier_stratified = DummyClassifier(strategy=\"stratified\")\n",
    "logistic_regression = LogisticRegression(max_iter=1000)\n",
    "svc = SVC()"
   ]
  },
  {
   "cell_type": "markdown",
   "metadata": {},
   "source": [
    "### Multi-class classification"
   ]
  },
  {
   "cell_type": "code",
   "execution_count": 20,
   "metadata": {
    "id": "_vbJMZzbEVeN"
   },
   "outputs": [],
   "source": [
    "initial_classifier_results[\"dummy_classifier_most_frequent\"] = fit_predict_and_score_classifier(dummy_classifier_most_frequent, *multi_class_parameters)"
   ]
  },
  {
   "cell_type": "code",
   "execution_count": 21,
   "metadata": {
    "id": "OP12BrTLkY0A"
   },
   "outputs": [],
   "source": [
    "initial_classifier_results[\"dummy_classifier_stratified\"] = fit_predict_and_score_classifier(dummy_classifier_stratified, *multi_class_parameters)"
   ]
  },
  {
   "cell_type": "code",
   "execution_count": 22,
   "metadata": {
    "id": "XFi7oHh1kqcF"
   },
   "outputs": [],
   "source": [
    "initial_classifier_results[\"logistic_regression\"] = fit_predict_and_score_classifier(logistic_regression, *multi_class_parameters)"
   ]
  },
  {
   "cell_type": "code",
   "execution_count": 23,
   "metadata": {
    "id": "BiN0CnX2ktST"
   },
   "outputs": [],
   "source": [
    "initial_classifier_results[\"svc\"] = fit_predict_and_score_classifier(svc, *multi_class_parameters)"
   ]
  },
  {
   "cell_type": "code",
   "execution_count": 24,
   "metadata": {
    "colab": {
     "base_uri": "https://localhost:8080/",
     "height": 363
    },
    "id": "68ytUVLHav6l",
    "outputId": "66b32dd9-2719-493c-8ac7-3261a8a4da8d"
   },
   "outputs": [
    {
     "name": "stderr",
     "output_type": "stream",
     "text": [
      "C:\\Users\\Matas\\AppData\\Local\\Temp\\ipykernel_14812\\2014226108.py:39: FutureWarning: The frame.append method is deprecated and will be removed from pandas in a future version. Use pandas.concat instead.\n",
      "  table = table.append(new_row, ignore_index=True)\n",
      "C:\\Users\\Matas\\AppData\\Local\\Temp\\ipykernel_14812\\2014226108.py:39: FutureWarning: The frame.append method is deprecated and will be removed from pandas in a future version. Use pandas.concat instead.\n",
      "  table = table.append(new_row, ignore_index=True)\n",
      "C:\\Users\\Matas\\AppData\\Local\\Temp\\ipykernel_14812\\2014226108.py:39: FutureWarning: The frame.append method is deprecated and will be removed from pandas in a future version. Use pandas.concat instead.\n",
      "  table = table.append(new_row, ignore_index=True)\n",
      "C:\\Users\\Matas\\AppData\\Local\\Temp\\ipykernel_14812\\2014226108.py:39: FutureWarning: The frame.append method is deprecated and will be removed from pandas in a future version. Use pandas.concat instead.\n",
      "  table = table.append(new_row, ignore_index=True)\n",
      "C:\\Users\\Matas\\AppData\\Local\\Temp\\ipykernel_14812\\2014226108.py:39: FutureWarning: The frame.append method is deprecated and will be removed from pandas in a future version. Use pandas.concat instead.\n",
      "  table = table.append(new_row, ignore_index=True)\n",
      "C:\\Users\\Matas\\AppData\\Local\\Temp\\ipykernel_14812\\2014226108.py:39: FutureWarning: The frame.append method is deprecated and will be removed from pandas in a future version. Use pandas.concat instead.\n",
      "  table = table.append(new_row, ignore_index=True)\n",
      "C:\\Users\\Matas\\AppData\\Local\\Temp\\ipykernel_14812\\2014226108.py:39: FutureWarning: The frame.append method is deprecated and will be removed from pandas in a future version. Use pandas.concat instead.\n",
      "  table = table.append(new_row, ignore_index=True)\n",
      "C:\\Users\\Matas\\AppData\\Local\\Temp\\ipykernel_14812\\2014226108.py:39: FutureWarning: The frame.append method is deprecated and will be removed from pandas in a future version. Use pandas.concat instead.\n",
      "  table = table.append(new_row, ignore_index=True)\n"
     ]
    },
    {
     "data": {
      "text/html": [
       "<div>\n",
       "<style scoped>\n",
       "    .dataframe tbody tr th:only-of-type {\n",
       "        vertical-align: middle;\n",
       "    }\n",
       "\n",
       "    .dataframe tbody tr th {\n",
       "        vertical-align: top;\n",
       "    }\n",
       "\n",
       "    .dataframe thead th {\n",
       "        text-align: right;\n",
       "    }\n",
       "</style>\n",
       "<table border=\"1\" class=\"dataframe\">\n",
       "  <thead>\n",
       "    <tr style=\"text-align: right;\">\n",
       "      <th></th>\n",
       "      <th>Classifier</th>\n",
       "      <th>Set type</th>\n",
       "      <th>predictions</th>\n",
       "      <th>accuracy</th>\n",
       "      <th>precision</th>\n",
       "      <th>recall</th>\n",
       "      <th>F1</th>\n",
       "    </tr>\n",
       "  </thead>\n",
       "  <tbody>\n",
       "    <tr>\n",
       "      <th>0</th>\n",
       "      <td>dummy_classifier_most_frequent</td>\n",
       "      <td>train</td>\n",
       "      <td>[calm, calm, calm, calm, calm, calm, calm, cal...</td>\n",
       "      <td>0.134259</td>\n",
       "      <td>0.891782</td>\n",
       "      <td>0.125000</td>\n",
       "      <td>0.029592</td>\n",
       "    </tr>\n",
       "    <tr>\n",
       "      <th>1</th>\n",
       "      <td>dummy_classifier_most_frequent</td>\n",
       "      <td>val</td>\n",
       "      <td>[calm, calm, calm, calm, calm, calm, calm, cal...</td>\n",
       "      <td>0.131944</td>\n",
       "      <td>0.891493</td>\n",
       "      <td>0.125000</td>\n",
       "      <td>0.029141</td>\n",
       "    </tr>\n",
       "    <tr>\n",
       "      <th>2</th>\n",
       "      <td>dummy_classifier_stratified</td>\n",
       "      <td>train</td>\n",
       "      <td>[fearful, disgust, surprised, calm, surprised,...</td>\n",
       "      <td>0.116898</td>\n",
       "      <td>0.112396</td>\n",
       "      <td>0.111797</td>\n",
       "      <td>0.111940</td>\n",
       "    </tr>\n",
       "    <tr>\n",
       "      <th>3</th>\n",
       "      <td>dummy_classifier_stratified</td>\n",
       "      <td>val</td>\n",
       "      <td>[angry, surprised, fearful, fearful, angry, ha...</td>\n",
       "      <td>0.145833</td>\n",
       "      <td>0.143746</td>\n",
       "      <td>0.139845</td>\n",
       "      <td>0.140184</td>\n",
       "    </tr>\n",
       "    <tr>\n",
       "      <th>4</th>\n",
       "      <td>logistic_regression</td>\n",
       "      <td>train</td>\n",
       "      <td>[surprised, fearful, neutral, sad, surprised, ...</td>\n",
       "      <td>0.822917</td>\n",
       "      <td>0.821884</td>\n",
       "      <td>0.819903</td>\n",
       "      <td>0.819967</td>\n",
       "    </tr>\n",
       "    <tr>\n",
       "      <th>5</th>\n",
       "      <td>logistic_regression</td>\n",
       "      <td>val</td>\n",
       "      <td>[fearful, calm, surprised, sad, sad, calm, neu...</td>\n",
       "      <td>0.586806</td>\n",
       "      <td>0.560562</td>\n",
       "      <td>0.563343</td>\n",
       "      <td>0.559951</td>\n",
       "    </tr>\n",
       "    <tr>\n",
       "      <th>6</th>\n",
       "      <td>svc</td>\n",
       "      <td>train</td>\n",
       "      <td>[disgust, fearful, neutral, sad, happy, surpri...</td>\n",
       "      <td>0.807870</td>\n",
       "      <td>0.812744</td>\n",
       "      <td>0.796130</td>\n",
       "      <td>0.800273</td>\n",
       "    </tr>\n",
       "    <tr>\n",
       "      <th>7</th>\n",
       "      <td>svc</td>\n",
       "      <td>val</td>\n",
       "      <td>[sad, calm, fearful, sad, fearful, calm, neutr...</td>\n",
       "      <td>0.600694</td>\n",
       "      <td>0.598798</td>\n",
       "      <td>0.590081</td>\n",
       "      <td>0.587499</td>\n",
       "    </tr>\n",
       "  </tbody>\n",
       "</table>\n",
       "</div>"
      ],
      "text/plain": [
       "                       Classifier Set type  \\\n",
       "0  dummy_classifier_most_frequent    train   \n",
       "1  dummy_classifier_most_frequent      val   \n",
       "2     dummy_classifier_stratified    train   \n",
       "3     dummy_classifier_stratified      val   \n",
       "4             logistic_regression    train   \n",
       "5             logistic_regression      val   \n",
       "6                             svc    train   \n",
       "7                             svc      val   \n",
       "\n",
       "                                         predictions  accuracy  precision  \\\n",
       "0  [calm, calm, calm, calm, calm, calm, calm, cal...  0.134259   0.891782   \n",
       "1  [calm, calm, calm, calm, calm, calm, calm, cal...  0.131944   0.891493   \n",
       "2  [fearful, disgust, surprised, calm, surprised,...  0.116898   0.112396   \n",
       "3  [angry, surprised, fearful, fearful, angry, ha...  0.145833   0.143746   \n",
       "4  [surprised, fearful, neutral, sad, surprised, ...  0.822917   0.821884   \n",
       "5  [fearful, calm, surprised, sad, sad, calm, neu...  0.586806   0.560562   \n",
       "6  [disgust, fearful, neutral, sad, happy, surpri...  0.807870   0.812744   \n",
       "7  [sad, calm, fearful, sad, fearful, calm, neutr...  0.600694   0.598798   \n",
       "\n",
       "     recall        F1  \n",
       "0  0.125000  0.029592  \n",
       "1  0.125000  0.029141  \n",
       "2  0.111797  0.111940  \n",
       "3  0.139845  0.140184  \n",
       "4  0.819903  0.819967  \n",
       "5  0.563343  0.559951  \n",
       "6  0.796130  0.800273  \n",
       "7  0.590081  0.587499  "
      ]
     },
     "metadata": {},
     "output_type": "display_data"
    }
   ],
   "source": [
    "initial_classifier_results_table = create_result_table(initial_classifier_results)\n",
    "display(initial_classifier_results_table)"
   ]
  },
  {
   "cell_type": "code",
   "execution_count": 25,
   "metadata": {
    "colab": {
     "base_uri": "https://localhost:8080/"
    },
    "id": "9XYuc7nRmNGd",
    "outputId": "7dc876a9-53df-4282-8600-0af2d9e98bbd"
   },
   "outputs": [
    {
     "name": "stdout",
     "output_type": "stream",
     "text": [
      "angry: 0.6666666666666667\n",
      "calm: 0.6292134831460675\n",
      "disgust: 0.6329113924050633\n",
      "fearful: 0.5952380952380952\n",
      "happy: 0.547945205479452\n",
      "neutral: 0.43243243243243246\n",
      "sad: 0.47058823529411764\n",
      "surprised: 0.725\n"
     ]
    }
   ],
   "source": [
    "f1_scores = calculate_f1_scores_by_class(initial_classifier_results[\"svc\"][\"val\"][\"predictions\"], emotions_val)\n",
    "for emotion, score in f1_scores.items():\n",
    "    print(f\"{emotion}: {score}\")"
   ]
  },
  {
   "cell_type": "code",
   "execution_count": 26,
   "metadata": {
    "colab": {
     "base_uri": "https://localhost:8080/",
     "height": 350
    },
    "id": "ZPCMAGy4opci",
    "outputId": "fab6fd7c-b687-4747-fc6b-db022f1062e2"
   },
   "outputs": [
    {
     "data": {
      "image/png": "[encoded data removed]",
      "text/plain": [
       "<Figure size 1000x500 with 1 Axes>"
      ]
     },
     "metadata": {},
     "output_type": "display_data"
    }
   ],
   "source": [
    "# Taken from https://www.geeksforgeeks.org/bar-plot-in-matplotlib/\n",
    "\n",
    "import matplotlib.pyplot as plt\n",
    "\n",
    "list_of_emotions = list(f1_scores.keys())\n",
    "f1_score_values = list(f1_scores.values())\n",
    "\n",
    "fig = plt.figure(figsize = (10, 5))\n",
    "\n",
    "plt.bar(list_of_emotions, f1_score_values, color ='blue', width = 0.6)\n",
    "plt.xlabel(\"Labels (emotions)\")\n",
    "plt.ylabel(\"F1 class score\")\n",
    "plt.title(\"F1 scores by class of svc classifier\")\n",
    "plt.show()"
   ]
  },
  {
   "cell_type": "code",
   "execution_count": 27,
   "metadata": {},
   "outputs": [
    {
     "data": {
      "image/png": "[encoded data removed]",
      "text/plain": [
       "<Figure size 640x480 with 2 Axes>"
      ]
     },
     "metadata": {},
     "output_type": "display_data"
    }
   ],
   "source": [
    "from sklearn import metrics\n",
    "\n",
    "metrics.ConfusionMatrixDisplay.from_predictions(emotions_val, initial_classifier_results[\"svc\"][\"val\"][\"predictions\"])\n",
    "plt.show()"
   ]
  },
  {
   "cell_type": "markdown",
   "metadata": {},
   "source": [
    "### Binary classification"
   ]
  },
  {
   "cell_type": "code",
   "execution_count": 28,
   "metadata": {},
   "outputs": [],
   "source": [
    "initial_classifier_results_binary[\"dummy_classifier_most_frequent\"] = fit_predict_and_score_classifier(dummy_classifier_most_frequent, *binary_parameters)"
   ]
  },
  {
   "cell_type": "code",
   "execution_count": 29,
   "metadata": {
    "id": "OP12BrTLkY0A"
   },
   "outputs": [],
   "source": [
    "initial_classifier_results_binary[\"dummy_classifier_stratified\"] = fit_predict_and_score_classifier(dummy_classifier_stratified, *binary_parameters)"
   ]
  },
  {
   "cell_type": "code",
   "execution_count": 30,
   "metadata": {
    "id": "XFi7oHh1kqcF"
   },
   "outputs": [],
   "source": [
    "initial_classifier_results_binary[\"logistic_regression\"] = fit_predict_and_score_classifier(logistic_regression, *binary_parameters)"
   ]
  },
  {
   "cell_type": "code",
   "execution_count": 31,
   "metadata": {
    "id": "BiN0CnX2ktST"
   },
   "outputs": [],
   "source": [
    "initial_classifier_results_binary[\"svc\"] = fit_predict_and_score_classifier(svc, *binary_parameters)"
   ]
  },
  {
   "cell_type": "code",
   "execution_count": 32,
   "metadata": {
    "colab": {
     "base_uri": "https://localhost:8080/",
     "height": 363
    },
    "id": "68ytUVLHav6l",
    "outputId": "66b32dd9-2719-493c-8ac7-3261a8a4da8d"
   },
   "outputs": [
    {
     "name": "stderr",
     "output_type": "stream",
     "text": [
      "C:\\Users\\Matas\\AppData\\Local\\Temp\\ipykernel_14812\\2014226108.py:39: FutureWarning: The frame.append method is deprecated and will be removed from pandas in a future version. Use pandas.concat instead.\n",
      "  table = table.append(new_row, ignore_index=True)\n",
      "C:\\Users\\Matas\\AppData\\Local\\Temp\\ipykernel_14812\\2014226108.py:39: FutureWarning: The frame.append method is deprecated and will be removed from pandas in a future version. Use pandas.concat instead.\n",
      "  table = table.append(new_row, ignore_index=True)\n",
      "C:\\Users\\Matas\\AppData\\Local\\Temp\\ipykernel_14812\\2014226108.py:39: FutureWarning: The frame.append method is deprecated and will be removed from pandas in a future version. Use pandas.concat instead.\n",
      "  table = table.append(new_row, ignore_index=True)\n",
      "C:\\Users\\Matas\\AppData\\Local\\Temp\\ipykernel_14812\\2014226108.py:39: FutureWarning: The frame.append method is deprecated and will be removed from pandas in a future version. Use pandas.concat instead.\n",
      "  table = table.append(new_row, ignore_index=True)\n",
      "C:\\Users\\Matas\\AppData\\Local\\Temp\\ipykernel_14812\\2014226108.py:39: FutureWarning: The frame.append method is deprecated and will be removed from pandas in a future version. Use pandas.concat instead.\n",
      "  table = table.append(new_row, ignore_index=True)\n",
      "C:\\Users\\Matas\\AppData\\Local\\Temp\\ipykernel_14812\\2014226108.py:39: FutureWarning: The frame.append method is deprecated and will be removed from pandas in a future version. Use pandas.concat instead.\n",
      "  table = table.append(new_row, ignore_index=True)\n",
      "C:\\Users\\Matas\\AppData\\Local\\Temp\\ipykernel_14812\\2014226108.py:39: FutureWarning: The frame.append method is deprecated and will be removed from pandas in a future version. Use pandas.concat instead.\n",
      "  table = table.append(new_row, ignore_index=True)\n",
      "C:\\Users\\Matas\\AppData\\Local\\Temp\\ipykernel_14812\\2014226108.py:39: FutureWarning: The frame.append method is deprecated and will be removed from pandas in a future version. Use pandas.concat instead.\n",
      "  table = table.append(new_row, ignore_index=True)\n"
     ]
    },
    {
     "data": {
      "text/html": [
       "<div>\n",
       "<style scoped>\n",
       "    .dataframe tbody tr th:only-of-type {\n",
       "        vertical-align: middle;\n",
       "    }\n",
       "\n",
       "    .dataframe tbody tr th {\n",
       "        vertical-align: top;\n",
       "    }\n",
       "\n",
       "    .dataframe thead th {\n",
       "        text-align: right;\n",
       "    }\n",
       "</style>\n",
       "<table border=\"1\" class=\"dataframe\">\n",
       "  <thead>\n",
       "    <tr style=\"text-align: right;\">\n",
       "      <th></th>\n",
       "      <th>Classifier</th>\n",
       "      <th>Set type</th>\n",
       "      <th>predictions</th>\n",
       "      <th>accuracy</th>\n",
       "      <th>precision</th>\n",
       "      <th>recall</th>\n",
       "      <th>F1</th>\n",
       "    </tr>\n",
       "  </thead>\n",
       "  <tbody>\n",
       "    <tr>\n",
       "      <th>0</th>\n",
       "      <td>dummy_classifier_most_frequent</td>\n",
       "      <td>train</td>\n",
       "      <td>[negative, negative, negative, negative, negat...</td>\n",
       "      <td>0.532407</td>\n",
       "      <td>0.766204</td>\n",
       "      <td>0.500000</td>\n",
       "      <td>0.347432</td>\n",
       "    </tr>\n",
       "    <tr>\n",
       "      <th>1</th>\n",
       "      <td>dummy_classifier_most_frequent</td>\n",
       "      <td>val</td>\n",
       "      <td>[negative, negative, negative, negative, negat...</td>\n",
       "      <td>0.538194</td>\n",
       "      <td>0.769097</td>\n",
       "      <td>0.500000</td>\n",
       "      <td>0.349887</td>\n",
       "    </tr>\n",
       "    <tr>\n",
       "      <th>2</th>\n",
       "      <td>dummy_classifier_stratified</td>\n",
       "      <td>train</td>\n",
       "      <td>[negative, negative, positive, negative, negat...</td>\n",
       "      <td>0.518519</td>\n",
       "      <td>0.514293</td>\n",
       "      <td>0.514077</td>\n",
       "      <td>0.513471</td>\n",
       "    </tr>\n",
       "    <tr>\n",
       "      <th>3</th>\n",
       "      <td>dummy_classifier_stratified</td>\n",
       "      <td>val</td>\n",
       "      <td>[positive, negative, positive, negative, posit...</td>\n",
       "      <td>0.447917</td>\n",
       "      <td>0.445627</td>\n",
       "      <td>0.445477</td>\n",
       "      <td>0.445503</td>\n",
       "    </tr>\n",
       "    <tr>\n",
       "      <th>4</th>\n",
       "      <td>logistic_regression</td>\n",
       "      <td>train</td>\n",
       "      <td>[negative, negative, positive, negative, posit...</td>\n",
       "      <td>0.783565</td>\n",
       "      <td>0.782636</td>\n",
       "      <td>0.782878</td>\n",
       "      <td>0.782747</td>\n",
       "    </tr>\n",
       "    <tr>\n",
       "      <th>5</th>\n",
       "      <td>logistic_regression</td>\n",
       "      <td>val</td>\n",
       "      <td>[negative, positive, negative, negative, negat...</td>\n",
       "      <td>0.718750</td>\n",
       "      <td>0.717145</td>\n",
       "      <td>0.717366</td>\n",
       "      <td>0.717247</td>\n",
       "    </tr>\n",
       "    <tr>\n",
       "      <th>6</th>\n",
       "      <td>svc</td>\n",
       "      <td>train</td>\n",
       "      <td>[negative, negative, positive, negative, posit...</td>\n",
       "      <td>0.898148</td>\n",
       "      <td>0.898986</td>\n",
       "      <td>0.896513</td>\n",
       "      <td>0.897436</td>\n",
       "    </tr>\n",
       "    <tr>\n",
       "      <th>7</th>\n",
       "      <td>svc</td>\n",
       "      <td>val</td>\n",
       "      <td>[negative, positive, negative, negative, negat...</td>\n",
       "      <td>0.770833</td>\n",
       "      <td>0.771663</td>\n",
       "      <td>0.766287</td>\n",
       "      <td>0.767594</td>\n",
       "    </tr>\n",
       "  </tbody>\n",
       "</table>\n",
       "</div>"
      ],
      "text/plain": [
       "                       Classifier Set type  \\\n",
       "0  dummy_classifier_most_frequent    train   \n",
       "1  dummy_classifier_most_frequent      val   \n",
       "2     dummy_classifier_stratified    train   \n",
       "3     dummy_classifier_stratified      val   \n",
       "4             logistic_regression    train   \n",
       "5             logistic_regression      val   \n",
       "6                             svc    train   \n",
       "7                             svc      val   \n",
       "\n",
       "                                         predictions  accuracy  precision  \\\n",
       "0  [negative, negative, negative, negative, negat...  0.532407   0.766204   \n",
       "1  [negative, negative, negative, negative, negat...  0.538194   0.769097   \n",
       "2  [negative, negative, positive, negative, negat...  0.518519   0.514293   \n",
       "3  [positive, negative, positive, negative, posit...  0.447917   0.445627   \n",
       "4  [negative, negative, positive, negative, posit...  0.783565   0.782636   \n",
       "5  [negative, positive, negative, negative, negat...  0.718750   0.717145   \n",
       "6  [negative, negative, positive, negative, posit...  0.898148   0.898986   \n",
       "7  [negative, positive, negative, negative, negat...  0.770833   0.771663   \n",
       "\n",
       "     recall        F1  \n",
       "0  0.500000  0.347432  \n",
       "1  0.500000  0.349887  \n",
       "2  0.514077  0.513471  \n",
       "3  0.445477  0.445503  \n",
       "4  0.782878  0.782747  \n",
       "5  0.717366  0.717247  \n",
       "6  0.896513  0.897436  \n",
       "7  0.766287  0.767594  "
      ]
     },
     "metadata": {},
     "output_type": "display_data"
    }
   ],
   "source": [
    "initial_classifier_results_table_binary = create_result_table(initial_classifier_results_binary)\n",
    "display(initial_classifier_results_table_binary)"
   ]
  },
  {
   "cell_type": "code",
   "execution_count": 33,
   "metadata": {
    "colab": {
     "base_uri": "https://localhost:8080/"
    },
    "id": "9XYuc7nRmNGd",
    "outputId": "7dc876a9-53df-4282-8600-0af2d9e98bbd"
   },
   "outputs": [
    {
     "name": "stdout",
     "output_type": "stream",
     "text": [
      "negative: 0.7378640776699029\n",
      "positive: 0.6966292134831462\n"
     ]
    }
   ],
   "source": [
    "f1_scores_binary = calculate_f1_scores_by_class(initial_classifier_results_binary[\"logistic_regression\"][\"val\"][\"predictions\"], emotions_binary_val)\n",
    "for emotion, score in f1_scores_binary.items():\n",
    "    print(f\"{emotion}: {score}\")"
   ]
  },
  {
   "cell_type": "code",
   "execution_count": 34,
   "metadata": {
    "colab": {
     "base_uri": "https://localhost:8080/",
     "height": 350
    },
    "id": "ZPCMAGy4opci",
    "outputId": "fab6fd7c-b687-4747-fc6b-db022f1062e2"
   },
   "outputs": [
    {
     "data": {
      "image/png": "[encoded data removed]",
      "text/plain": [
       "<Figure size 1000x500 with 1 Axes>"
      ]
     },
     "metadata": {},
     "output_type": "display_data"
    }
   ],
   "source": [
    "# Taken from https://www.geeksforgeeks.org/bar-plot-in-matplotlib/\n",
    "\n",
    "import matplotlib.pyplot as plt\n",
    "\n",
    "list_of_emotions_binary = list(f1_scores_binary.keys())\n",
    "f1_score_values_binary = list(f1_scores_binary.values())\n",
    "\n",
    "fig = plt.figure(figsize = (10, 5))\n",
    "\n",
    "plt.bar(list_of_emotions_binary, f1_score_values_binary, color ='blue', width = 0.6)\n",
    "plt.xlabel(\"Labels (emotions)\")\n",
    "plt.ylabel(\"F1 class score\")\n",
    "plt.title(\"F1 scores by class of logistic_regression classifier\")\n",
    "plt.show()"
   ]
  },
  {
   "cell_type": "code",
   "execution_count": 35,
   "metadata": {},
   "outputs": [
    {
     "data": {
      "image/png": "[encoded data removed]",
      "text/plain": [
       "<Figure size 640x480 with 2 Axes>"
      ]
     },
     "metadata": {},
     "output_type": "display_data"
    }
   ],
   "source": [
    "metrics.ConfusionMatrixDisplay.from_predictions(emotions_binary_val, initial_classifier_results_binary[\"logistic_regression\"][\"val\"][\"predictions\"])\n",
    "plt.show()"
   ]
  },
  {
   "cell_type": "markdown",
   "metadata": {},
   "source": [
    "### Feature visualisation"
   ]
  },
  {
   "cell_type": "code",
   "execution_count": 36,
   "metadata": {},
   "outputs": [],
   "source": [
    "# !jupyter notebook --NotebookApp.iopub_data_rate_limit=1.0e10"
   ]
  },
  {
   "cell_type": "code",
   "execution_count": 37,
   "metadata": {},
   "outputs": [],
   "source": [
    "import treelib\n",
    "\n",
    "def add_node(tree, feature, is_feature):\n",
    "    feature_parent, delimiter, feature_name = feature.rpartition(\"_\")\n",
    "    \n",
    "    if not tree.contains(feature_parent):\n",
    "        add_node(tree, feature_parent, False)\n",
    "    \n",
    "    try:\n",
    "        tree.create_node(tag=feature_name, identifier=feature, parent=feature_parent, data=is_feature)\n",
    "    except treelib.exceptions.DuplicatedNodeIdError as error:\n",
    "        # Such node already exists, potentially because recursive parent creation created it before reaching the node itself\n",
    "        if is_feature:\n",
    "            feature_tree.get_node(feature).data = True\n",
    "\n",
    "feature_tree = treelib.Tree()\n",
    "\n",
    "feature_tree.create_node(tag=\"ROOT\", identifier=\"\", data=False)\n",
    "\n",
    "for column in speeches_train.columns:\n",
    "    add_node(feature_tree, column, True)"
   ]
  },
  {
   "cell_type": "code",
   "execution_count": 38,
   "metadata": {},
   "outputs": [
    {
     "data": {
      "text/plain": [
       "2"
      ]
     },
     "execution_count": 38,
     "metadata": {},
     "output_type": "execute_result"
    }
   ],
   "source": [
    "# Taken from https://medium.com/dive-into-ml-ai/tree-data-visualization-with-treelib-71633f6fd8fb\n",
    "import subprocess\n",
    "\n",
    "feature_tree.to_graphviz(\"Feature hierarchy graph description.dot\")\n",
    "subprocess.call([\"dot\", \"-Tsvg\", \"hello.dot\", \"-o\", \"Feature hierarchy graph.svg\"])"
   ]
  },
  {
   "cell_type": "code",
   "execution_count": 39,
   "metadata": {},
   "outputs": [],
   "source": [
    "# feature_tree.all_nodes()"
   ]
  },
  {
   "cell_type": "code",
   "execution_count": 40,
   "metadata": {},
   "outputs": [
    {
     "name": "stdout",
     "output_type": "stream",
     "text": [
      "Counter({'amean': 35, 'stddevNorm': 30, 'percentile20.0': 2, 'percentile50.0': 2, 'percentile80.0': 2, 'pctlrange0-2': 2, 'meanRisingSlope': 2, 'stddevRisingSlope': 2, 'meanFallingSlope': 2, 'stddevFallingSlope': 2, 'loudnessPeaksPerSec': 1, 'VoicedSegmentsPerSec': 1, 'MeanVoicedSegmentLengthSec': 1, 'StddevVoicedSegmentLengthSec': 1, 'MeanUnvoicedSegmentLength': 1, 'StddevUnvoicedSegmentLength': 1, 'dBp': 1})\n"
     ]
    }
   ],
   "source": [
    "feature_endings = []\n",
    "analysis_by_endings = {}\n",
    "\n",
    "for column in speeches_train.columns:\n",
    "    feature_parent, delimiter, ending = column.rpartition(\"_\")\n",
    "    feature_endings.append(ending)\n",
    "    \n",
    "    if ending not in analysis_by_endings.keys():\n",
    "        analysis_by_endings[ending] = {\"features\": []}\n",
    "    \n",
    "    analysis_by_endings[ending][\"features\"].append(column)\n",
    "    \n",
    "print(Counter(feature_endings))"
   ]
  },
  {
   "cell_type": "markdown",
   "metadata": {},
   "source": [
    "### Feature optimisation section"
   ]
  },
  {
   "cell_type": "code",
   "execution_count": 41,
   "metadata": {},
   "outputs": [],
   "source": [
    "classifier_for_feature_optimisation = svc\n",
    "baseline_f1_score = initial_classifier_results[\"svc\"][\"val\"][\"F1\"]\n",
    "\n",
    "features_used_for_testing = 10_000 # 50 # 600\n",
    "\n",
    "speeches_train_copy = speeches_train.copy()\n",
    "speeches_train_copy.drop(speeches_train.columns[features_used_for_testing:], axis=1, inplace=True)\n",
    "speeches_val_copy = speeches_val.copy()\n",
    "speeches_val_copy.drop(speeches_val.columns[features_used_for_testing:], axis=1, inplace=True)"
   ]
  },
  {
   "cell_type": "code",
   "execution_count": 42,
   "metadata": {
    "scrolled": true
   },
   "outputs": [],
   "source": [
    "# ### Separated model to reduce time demands\n",
    "\n",
    "# from ipywidgets import IntProgress\n",
    "\n",
    "# # raise Exception(\"Prevent this cell from running so that it doesn't get stuck\")\n",
    "\n",
    "# endings_progress_bar = IntProgress(\n",
    "#     min=0,\n",
    "#     max=len(analysis_by_endings.keys())-1,\n",
    "#     description = f\"0/{len(analysis_by_endings)-1} ending\"\n",
    "# )\n",
    "\n",
    "# progress_bar = IntProgress(\n",
    "#     min=0,\n",
    "#     max=len(speeches_train_copy.columns)-1,\n",
    "#     description = f\"0th feature\"\n",
    "# )\n",
    "\n",
    "# inner_progress_bar = IntProgress(\n",
    "#     min=0,\n",
    "#     max=len(speeches_train.columns)-1,\n",
    "#     description = f\"0/{len(speeches_train_copy.columns)-1}\"\n",
    "# )\n",
    "\n",
    "# display(endings_progress_bar)\n",
    "# display(progress_bar)\n",
    "# display(inner_progress_bar)\n",
    "\n",
    "# for ending_index, data in enumerate(list(analysis_by_endings.values())):\n",
    "#     data[\"final_data_frame\"] = pd.DataFrame()\n",
    "#     data[\"removed_features\"] = []\n",
    "\n",
    "#     speeches_train_copy = speeches_train.copy()[data[\"features\"]]\n",
    "#     speeches_val_copy = speeches_val.copy()[data[\"features\"]]\n",
    "    \n",
    "#     progress_bar.value = 0\n",
    "#     progress_bar.max = len(speeches_train_copy.columns)-1\n",
    "#     inner_progress_bar.value = 0\n",
    "#     inner_progress_bar.max = len(speeches_train_copy.columns)-1\n",
    "#     endings_progress_bar.description = f\"{ending_index}/{len(analysis_by_endings)-1} ending\"\n",
    "    \n",
    "#     for feature_index in range(len(speeches_train_copy.columns)-1): # -1 so that the last feature is not deleted and an empty DataFrame is passed\n",
    "#         progress_bar.description = f\"{feature_index}/{len(speeches_train_copy.columns)-1} feature\"\n",
    "\n",
    "#         # Setting the new baseline\n",
    "#         result = fit_predict_and_score_classifier(\n",
    "#                 classifier_for_feature_optimisation,\n",
    "#                 speeches_train_copy,\n",
    "#                 speeches_val_copy, # speeches_val,\n",
    "#                 emotions_train,\n",
    "#                 emotions_val,\n",
    "#                 set(emotions)\n",
    "#             )\n",
    "#         max_f1_score = result[\"val\"][\"F1\"]\n",
    "#         column_to_remove = None\n",
    "\n",
    "#         # Finding the worst F1-reducing feature\n",
    "#         inner_progress_bar.max = len(speeches_train_copy.columns)\n",
    "#         inner_progress_bar.value = 0\n",
    "\n",
    "#         for index, column in enumerate(speeches_train_copy.columns):\n",
    "#             inner_progress_bar.description = f\"{index}/{len(speeches_train_copy.columns)-1}\"\n",
    "\n",
    "#             result = fit_predict_and_score_classifier(\n",
    "#                 classifier_for_feature_optimisation,\n",
    "#                 speeches_train_copy.drop([column], axis=1),\n",
    "#                 speeches_val_copy.drop([column], axis=1), # speeches_val.drop([column], axis=1),\n",
    "#                 emotions_train,\n",
    "#                 emotions_val,\n",
    "#                 set(emotions)\n",
    "#             )\n",
    "#             f1_score = result[\"val\"][\"F1\"]\n",
    "\n",
    "#             if f1_score > max_f1_score:\n",
    "#                 max_f1_score = f1_score\n",
    "#                 column_to_remove = column\n",
    "\n",
    "#             inner_progress_bar.value += 1\n",
    "\n",
    "#         # Removing the worst feature\n",
    "#         if column_to_remove is not None:\n",
    "#             speeches_train_copy.drop([column_to_remove], axis=1, inplace=True)\n",
    "#             speeches_val_copy.drop([column_to_remove], axis=1, inplace=True) # speeches_val.drop([column_to_remove], axis=1, inplace=True)\n",
    "#             data[\"removed_features\"].append((column_to_remove, max_f1_score, max_f1_score - f1_score))\n",
    "#             progress_bar.value += 1\n",
    "#         else:\n",
    "#             progress_bar.value = progress_bar.max\n",
    "#             inner_progress_bar.value = inner_progress_bar.max\n",
    "#             data[\"final_data_frame\"] = speeches_train_copy.copy()\n",
    "#             break\n",
    "            \n",
    "#     endings_progress_bar.value += 1"
   ]
  },
  {
   "cell_type": "code",
   "execution_count": 43,
   "metadata": {},
   "outputs": [
    {
     "data": {
      "application/vnd.jupyter.widget-view+json": {
       "model_id": "64a5d4b02cbb4af2a6e54a1f272a8d11",
       "version_major": 2,
       "version_minor": 0
      },
      "text/plain": [
       "IntProgress(value=0, description='0th feature', max=87)"
      ]
     },
     "metadata": {},
     "output_type": "display_data"
    },
    {
     "data": {
      "application/vnd.jupyter.widget-view+json": {
       "model_id": "570f9f5e0f5c409c8a305e50eddde6bc",
       "version_major": 2,
       "version_minor": 0
      },
      "text/plain": [
       "IntProgress(value=0, description='0/87', max=87)"
      ]
     },
     "metadata": {},
     "output_type": "display_data"
    }
   ],
   "source": [
    "### Full version (slow but checking everything)\n",
    "\n",
    "from ipywidgets import IntProgress\n",
    "\n",
    "# raise Exception(\"Prevent this cell from running so that it doesn't get stuck\")\n",
    "\n",
    "progress_bar = IntProgress(\n",
    "    min=0,\n",
    "    max=len(speeches_train_copy.columns)-1,\n",
    "    description = f\"0th feature\"\n",
    ")\n",
    "\n",
    "inner_progress_bar = IntProgress(\n",
    "    min=0,\n",
    "    max=len(speeches_train.columns)-1,\n",
    "    description = f\"0/{len(speeches_train_copy.columns)-1}\"\n",
    ")\n",
    "\n",
    "display(progress_bar)\n",
    "display(inner_progress_bar)\n",
    "\n",
    "data = []\n",
    "final_data_frame = None\n",
    "# data[\"final_data_frame\"] = pd.DataFrame()\n",
    "# data[\"removed_features\"] = []\n",
    "\n",
    "speeches_train_copy = speeches_train.copy()\n",
    "speeches_val_copy = speeches_val.copy()\n",
    "\n",
    "progress_bar.value = 0\n",
    "progress_bar.max = len(speeches_train_copy.columns)-1\n",
    "inner_progress_bar.value = 0\n",
    "inner_progress_bar.max = len(speeches_train_copy.columns)-1\n",
    "\n",
    "for feature_index in range(len(speeches_train_copy.columns)-1): # -1 so that the last feature is not deleted and an empty DataFrame is passed\n",
    "    progress_bar.description = f\"{feature_index}/{len(speeches_train_copy.columns)-1} feature\"\n",
    "\n",
    "    # Setting the new baseline\n",
    "    result = fit_predict_and_score_classifier(\n",
    "            classifier_for_feature_optimisation,\n",
    "            speeches_train_copy,\n",
    "            speeches_val_copy, # speeches_val,\n",
    "            emotions_train,\n",
    "            emotions_val,\n",
    "            set(emotions)\n",
    "        )\n",
    "    max_f1_score = result[\"val\"][\"F1\"]\n",
    "    column_to_remove = None\n",
    "\n",
    "    # Finding the worst F1-reducing feature\n",
    "    inner_progress_bar.max = len(speeches_train_copy.columns)\n",
    "    inner_progress_bar.value = 0\n",
    "\n",
    "    for index, column in enumerate(speeches_train_copy.columns):\n",
    "        inner_progress_bar.description = f\"{index}/{len(speeches_train_copy.columns)-1}\"\n",
    "\n",
    "        result = fit_predict_and_score_classifier(\n",
    "            classifier_for_feature_optimisation,\n",
    "            speeches_train_copy.drop([column], axis=1),\n",
    "            speeches_val_copy.drop([column], axis=1), # speeches_val.drop([column], axis=1),\n",
    "            emotions_train,\n",
    "            emotions_val,\n",
    "            set(emotions)\n",
    "        )\n",
    "        f1_score = result[\"val\"][\"F1\"]\n",
    "\n",
    "        if f1_score > max_f1_score:\n",
    "            max_f1_score = f1_score\n",
    "            column_to_remove = column\n",
    "\n",
    "        inner_progress_bar.value += 1\n",
    "\n",
    "    # Removing the worst feature\n",
    "    if column_to_remove is not None:\n",
    "        speeches_train_copy.drop([column_to_remove], axis=1, inplace=True)\n",
    "        speeches_val_copy.drop([column_to_remove], axis=1, inplace=True) # speeches_val.drop([column_to_remove], axis=1, inplace=True)\n",
    "        data.append((column_to_remove, max_f1_score, max_f1_score - f1_score))\n",
    "        progress_bar.value += 1\n",
    "    else:\n",
    "        progress_bar.value = progress_bar.max\n",
    "        inner_progress_bar.value = inner_progress_bar.max\n",
    "        final_data_frame = speeches_train_copy.copy()\n",
    "        break"
   ]
  },
  {
   "cell_type": "code",
   "execution_count": 44,
   "metadata": {},
   "outputs": [
    {
     "data": {
      "text/plain": [
       "[('loudnessPeaksPerSec', 0.5981019114807251, 0.013570592845255192),\n",
       " ('spectralFluxUV_sma3nz_amean', 0.6052547876301853, 0.010610786491682345),\n",
       " ('F3frequency_sma3nz_stddevNorm', 0.6094240586503537, 0.013944167167477595),\n",
       " ('F2bandwidth_sma3nz_stddevNorm', 0.6131144675465151, 0.011823946080952275),\n",
       " ('mfcc3V_sma3nz_stddevNorm', 0.6167998667998669, 0.010631189300528643),\n",
       " ('mfcc1_sma3_stddevNorm', 0.6202950130765496, 0.017246746036009064)]"
      ]
     },
     "execution_count": 44,
     "metadata": {},
     "output_type": "execute_result"
    }
   ],
   "source": [
    "data"
   ]
  },
  {
   "cell_type": "code",
   "execution_count": 45,
   "metadata": {},
   "outputs": [],
   "source": [
    "removed_columns = [entry[0] for entry in data]\n",
    "speeches_train_pruned = speeches_train.copy().drop(removed_columns, axis=1)\n",
    "speeches_val_pruned = speeches_val.copy().drop(removed_columns, axis=1)\n",
    "speeches_test_pruned = speeches_test.copy().drop(removed_columns, axis=1)\n",
    "\n",
    "multi_class_pruned_parameters = (speeches_train_pruned, speeches_val_pruned, emotions_train, emotions_val, set(emotions))"
   ]
  },
  {
   "cell_type": "code",
   "execution_count": 46,
   "metadata": {},
   "outputs": [
    {
     "name": "stdout",
     "output_type": "stream",
     "text": [
      "88 82\n"
     ]
    }
   ],
   "source": [
    "print(len(speeches_train.columns), len(speeches_train_pruned.columns))"
   ]
  },
  {
   "cell_type": "code",
   "execution_count": 47,
   "metadata": {},
   "outputs": [],
   "source": [
    "initial_classifier_results[\"svc_pruned\"] = fit_predict_and_score_classifier(svc, *multi_class_parameters)"
   ]
  },
  {
   "cell_type": "code",
   "execution_count": 48,
   "metadata": {},
   "outputs": [
    {
     "name": "stderr",
     "output_type": "stream",
     "text": [
      "C:\\Users\\Matas\\AppData\\Local\\Temp\\ipykernel_14812\\2014226108.py:39: FutureWarning: The frame.append method is deprecated and will be removed from pandas in a future version. Use pandas.concat instead.\n",
      "  table = table.append(new_row, ignore_index=True)\n",
      "C:\\Users\\Matas\\AppData\\Local\\Temp\\ipykernel_14812\\2014226108.py:39: FutureWarning: The frame.append method is deprecated and will be removed from pandas in a future version. Use pandas.concat instead.\n",
      "  table = table.append(new_row, ignore_index=True)\n",
      "C:\\Users\\Matas\\AppData\\Local\\Temp\\ipykernel_14812\\2014226108.py:39: FutureWarning: The frame.append method is deprecated and will be removed from pandas in a future version. Use pandas.concat instead.\n",
      "  table = table.append(new_row, ignore_index=True)\n",
      "C:\\Users\\Matas\\AppData\\Local\\Temp\\ipykernel_14812\\2014226108.py:39: FutureWarning: The frame.append method is deprecated and will be removed from pandas in a future version. Use pandas.concat instead.\n",
      "  table = table.append(new_row, ignore_index=True)\n",
      "C:\\Users\\Matas\\AppData\\Local\\Temp\\ipykernel_14812\\2014226108.py:39: FutureWarning: The frame.append method is deprecated and will be removed from pandas in a future version. Use pandas.concat instead.\n",
      "  table = table.append(new_row, ignore_index=True)\n",
      "C:\\Users\\Matas\\AppData\\Local\\Temp\\ipykernel_14812\\2014226108.py:39: FutureWarning: The frame.append method is deprecated and will be removed from pandas in a future version. Use pandas.concat instead.\n",
      "  table = table.append(new_row, ignore_index=True)\n",
      "C:\\Users\\Matas\\AppData\\Local\\Temp\\ipykernel_14812\\2014226108.py:39: FutureWarning: The frame.append method is deprecated and will be removed from pandas in a future version. Use pandas.concat instead.\n",
      "  table = table.append(new_row, ignore_index=True)\n",
      "C:\\Users\\Matas\\AppData\\Local\\Temp\\ipykernel_14812\\2014226108.py:39: FutureWarning: The frame.append method is deprecated and will be removed from pandas in a future version. Use pandas.concat instead.\n",
      "  table = table.append(new_row, ignore_index=True)\n",
      "C:\\Users\\Matas\\AppData\\Local\\Temp\\ipykernel_14812\\2014226108.py:39: FutureWarning: The frame.append method is deprecated and will be removed from pandas in a future version. Use pandas.concat instead.\n",
      "  table = table.append(new_row, ignore_index=True)\n",
      "C:\\Users\\Matas\\AppData\\Local\\Temp\\ipykernel_14812\\2014226108.py:39: FutureWarning: The frame.append method is deprecated and will be removed from pandas in a future version. Use pandas.concat instead.\n",
      "  table = table.append(new_row, ignore_index=True)\n"
     ]
    },
    {
     "data": {
      "text/html": [
       "<div>\n",
       "<style scoped>\n",
       "    .dataframe tbody tr th:only-of-type {\n",
       "        vertical-align: middle;\n",
       "    }\n",
       "\n",
       "    .dataframe tbody tr th {\n",
       "        vertical-align: top;\n",
       "    }\n",
       "\n",
       "    .dataframe thead th {\n",
       "        text-align: right;\n",
       "    }\n",
       "</style>\n",
       "<table border=\"1\" class=\"dataframe\">\n",
       "  <thead>\n",
       "    <tr style=\"text-align: right;\">\n",
       "      <th></th>\n",
       "      <th>Classifier</th>\n",
       "      <th>Set type</th>\n",
       "      <th>predictions</th>\n",
       "      <th>accuracy</th>\n",
       "      <th>precision</th>\n",
       "      <th>recall</th>\n",
       "      <th>F1</th>\n",
       "    </tr>\n",
       "  </thead>\n",
       "  <tbody>\n",
       "    <tr>\n",
       "      <th>0</th>\n",
       "      <td>dummy_classifier_most_frequent</td>\n",
       "      <td>train</td>\n",
       "      <td>[calm, calm, calm, calm, calm, calm, calm, cal...</td>\n",
       "      <td>0.134259</td>\n",
       "      <td>0.891782</td>\n",
       "      <td>0.125000</td>\n",
       "      <td>0.029592</td>\n",
       "    </tr>\n",
       "    <tr>\n",
       "      <th>1</th>\n",
       "      <td>dummy_classifier_most_frequent</td>\n",
       "      <td>val</td>\n",
       "      <td>[calm, calm, calm, calm, calm, calm, calm, cal...</td>\n",
       "      <td>0.131944</td>\n",
       "      <td>0.891493</td>\n",
       "      <td>0.125000</td>\n",
       "      <td>0.029141</td>\n",
       "    </tr>\n",
       "    <tr>\n",
       "      <th>2</th>\n",
       "      <td>dummy_classifier_stratified</td>\n",
       "      <td>train</td>\n",
       "      <td>[fearful, disgust, surprised, calm, surprised,...</td>\n",
       "      <td>0.116898</td>\n",
       "      <td>0.112396</td>\n",
       "      <td>0.111797</td>\n",
       "      <td>0.111940</td>\n",
       "    </tr>\n",
       "    <tr>\n",
       "      <th>3</th>\n",
       "      <td>dummy_classifier_stratified</td>\n",
       "      <td>val</td>\n",
       "      <td>[angry, surprised, fearful, fearful, angry, ha...</td>\n",
       "      <td>0.145833</td>\n",
       "      <td>0.143746</td>\n",
       "      <td>0.139845</td>\n",
       "      <td>0.140184</td>\n",
       "    </tr>\n",
       "    <tr>\n",
       "      <th>4</th>\n",
       "      <td>logistic_regression</td>\n",
       "      <td>train</td>\n",
       "      <td>[surprised, fearful, neutral, sad, surprised, ...</td>\n",
       "      <td>0.822917</td>\n",
       "      <td>0.821884</td>\n",
       "      <td>0.819903</td>\n",
       "      <td>0.819967</td>\n",
       "    </tr>\n",
       "    <tr>\n",
       "      <th>5</th>\n",
       "      <td>logistic_regression</td>\n",
       "      <td>val</td>\n",
       "      <td>[fearful, calm, surprised, sad, sad, calm, neu...</td>\n",
       "      <td>0.586806</td>\n",
       "      <td>0.560562</td>\n",
       "      <td>0.563343</td>\n",
       "      <td>0.559951</td>\n",
       "    </tr>\n",
       "    <tr>\n",
       "      <th>6</th>\n",
       "      <td>svc</td>\n",
       "      <td>train</td>\n",
       "      <td>[disgust, fearful, neutral, sad, happy, surpri...</td>\n",
       "      <td>0.807870</td>\n",
       "      <td>0.812744</td>\n",
       "      <td>0.796130</td>\n",
       "      <td>0.800273</td>\n",
       "    </tr>\n",
       "    <tr>\n",
       "      <th>7</th>\n",
       "      <td>svc</td>\n",
       "      <td>val</td>\n",
       "      <td>[sad, calm, fearful, sad, fearful, calm, neutr...</td>\n",
       "      <td>0.600694</td>\n",
       "      <td>0.598798</td>\n",
       "      <td>0.590081</td>\n",
       "      <td>0.587499</td>\n",
       "    </tr>\n",
       "    <tr>\n",
       "      <th>8</th>\n",
       "      <td>svc_pruned</td>\n",
       "      <td>train</td>\n",
       "      <td>[disgust, fearful, neutral, sad, happy, surpri...</td>\n",
       "      <td>0.807870</td>\n",
       "      <td>0.812744</td>\n",
       "      <td>0.796130</td>\n",
       "      <td>0.800273</td>\n",
       "    </tr>\n",
       "    <tr>\n",
       "      <th>9</th>\n",
       "      <td>svc_pruned</td>\n",
       "      <td>val</td>\n",
       "      <td>[sad, calm, fearful, sad, fearful, calm, neutr...</td>\n",
       "      <td>0.600694</td>\n",
       "      <td>0.598798</td>\n",
       "      <td>0.590081</td>\n",
       "      <td>0.587499</td>\n",
       "    </tr>\n",
       "  </tbody>\n",
       "</table>\n",
       "</div>"
      ],
      "text/plain": [
       "                       Classifier Set type  \\\n",
       "0  dummy_classifier_most_frequent    train   \n",
       "1  dummy_classifier_most_frequent      val   \n",
       "2     dummy_classifier_stratified    train   \n",
       "3     dummy_classifier_stratified      val   \n",
       "4             logistic_regression    train   \n",
       "5             logistic_regression      val   \n",
       "6                             svc    train   \n",
       "7                             svc      val   \n",
       "8                      svc_pruned    train   \n",
       "9                      svc_pruned      val   \n",
       "\n",
       "                                         predictions  accuracy  precision  \\\n",
       "0  [calm, calm, calm, calm, calm, calm, calm, cal...  0.134259   0.891782   \n",
       "1  [calm, calm, calm, calm, calm, calm, calm, cal...  0.131944   0.891493   \n",
       "2  [fearful, disgust, surprised, calm, surprised,...  0.116898   0.112396   \n",
       "3  [angry, surprised, fearful, fearful, angry, ha...  0.145833   0.143746   \n",
       "4  [surprised, fearful, neutral, sad, surprised, ...  0.822917   0.821884   \n",
       "5  [fearful, calm, surprised, sad, sad, calm, neu...  0.586806   0.560562   \n",
       "6  [disgust, fearful, neutral, sad, happy, surpri...  0.807870   0.812744   \n",
       "7  [sad, calm, fearful, sad, fearful, calm, neutr...  0.600694   0.598798   \n",
       "8  [disgust, fearful, neutral, sad, happy, surpri...  0.807870   0.812744   \n",
       "9  [sad, calm, fearful, sad, fearful, calm, neutr...  0.600694   0.598798   \n",
       "\n",
       "     recall        F1  \n",
       "0  0.125000  0.029592  \n",
       "1  0.125000  0.029141  \n",
       "2  0.111797  0.111940  \n",
       "3  0.139845  0.140184  \n",
       "4  0.819903  0.819967  \n",
       "5  0.563343  0.559951  \n",
       "6  0.796130  0.800273  \n",
       "7  0.590081  0.587499  \n",
       "8  0.796130  0.800273  \n",
       "9  0.590081  0.587499  "
      ]
     },
     "metadata": {},
     "output_type": "display_data"
    }
   ],
   "source": [
    "post_prunation_classifier_results_table = create_result_table(initial_classifier_results)\n",
    "display(post_prunation_classifier_results_table)"
   ]
  },
  {
   "cell_type": "markdown",
   "metadata": {},
   "source": [
    "### Hyperparameter optimisation"
   ]
  },
  {
   "cell_type": "code",
   "execution_count": 49,
   "metadata": {},
   "outputs": [
    {
     "data": {
      "text/html": [
       "<style>#sk-container-id-1 {color: black;background-color: white;}#sk-container-id-1 pre{padding: 0;}#sk-container-id-1 div.sk-toggleable {background-color: white;}#sk-container-id-1 label.sk-toggleable__label {cursor: pointer;display: block;width: 100%;margin-bottom: 0;padding: 0.3em;box-sizing: border-box;text-align: center;}#sk-container-id-1 label.sk-toggleable__label-arrow:before {content: \"▸\";float: left;margin-right: 0.25em;color: #696969;}#sk-container-id-1 label.sk-toggleable__label-arrow:hover:before {color: black;}#sk-container-id-1 div.sk-estimator:hover label.sk-toggleable__label-arrow:before {color: black;}#sk-container-id-1 div.sk-toggleable__content {max-height: 0;max-width: 0;overflow: hidden;text-align: left;background-color: #f0f8ff;}#sk-container-id-1 div.sk-toggleable__content pre {margin: 0.2em;color: black;border-radius: 0.25em;background-color: #f0f8ff;}#sk-container-id-1 input.sk-toggleable__control:checked~div.sk-toggleable__content {max-height: 200px;max-width: 100%;overflow: auto;}#sk-container-id-1 input.sk-toggleable__control:checked~label.sk-toggleable__label-arrow:before {content: \"▾\";}#sk-container-id-1 div.sk-estimator input.sk-toggleable__control:checked~label.sk-toggleable__label {background-color: #d4ebff;}#sk-container-id-1 div.sk-label input.sk-toggleable__control:checked~label.sk-toggleable__label {background-color: #d4ebff;}#sk-container-id-1 input.sk-hidden--visually {border: 0;clip: rect(1px 1px 1px 1px);clip: rect(1px, 1px, 1px, 1px);height: 1px;margin: -1px;overflow: hidden;padding: 0;position: absolute;width: 1px;}#sk-container-id-1 div.sk-estimator {font-family: monospace;background-color: #f0f8ff;border: 1px dotted black;border-radius: 0.25em;box-sizing: border-box;margin-bottom: 0.5em;}#sk-container-id-1 div.sk-estimator:hover {background-color: #d4ebff;}#sk-container-id-1 div.sk-parallel-item::after {content: \"\";width: 100%;border-bottom: 1px solid gray;flex-grow: 1;}#sk-container-id-1 div.sk-label:hover label.sk-toggleable__label {background-color: #d4ebff;}#sk-container-id-1 div.sk-serial::before {content: \"\";position: absolute;border-left: 1px solid gray;box-sizing: border-box;top: 0;bottom: 0;left: 50%;z-index: 0;}#sk-container-id-1 div.sk-serial {display: flex;flex-direction: column;align-items: center;background-color: white;padding-right: 0.2em;padding-left: 0.2em;position: relative;}#sk-container-id-1 div.sk-item {position: relative;z-index: 1;}#sk-container-id-1 div.sk-parallel {display: flex;align-items: stretch;justify-content: center;background-color: white;position: relative;}#sk-container-id-1 div.sk-item::before, #sk-container-id-1 div.sk-parallel-item::before {content: \"\";position: absolute;border-left: 1px solid gray;box-sizing: border-box;top: 0;bottom: 0;left: 50%;z-index: -1;}#sk-container-id-1 div.sk-parallel-item {display: flex;flex-direction: column;z-index: 1;position: relative;background-color: white;}#sk-container-id-1 div.sk-parallel-item:first-child::after {align-self: flex-end;width: 50%;}#sk-container-id-1 div.sk-parallel-item:last-child::after {align-self: flex-start;width: 50%;}#sk-container-id-1 div.sk-parallel-item:only-child::after {width: 0;}#sk-container-id-1 div.sk-dashed-wrapped {border: 1px dashed gray;margin: 0 0.4em 0.5em 0.4em;box-sizing: border-box;padding-bottom: 0.4em;background-color: white;}#sk-container-id-1 div.sk-label label {font-family: monospace;font-weight: bold;display: inline-block;line-height: 1.2em;}#sk-container-id-1 div.sk-label-container {text-align: center;}#sk-container-id-1 div.sk-container {/* jupyter's `normalize.less` sets `[hidden] { display: none; }` but bootstrap.min.css set `[hidden] { display: none !important; }` so we also need the `!important` here to be able to override the default hidden behavior on the sphinx rendered scikit-learn.org. See: https://github.com/scikit-learn/scikit-learn/issues/21755 */display: inline-block !important;position: relative;}#sk-container-id-1 div.sk-text-repr-fallback {display: none;}</style><div id=\"sk-container-id-1\" class=\"sk-top-container\"><div class=\"sk-text-repr-fallback\"><pre>GridSearchCV(estimator=SVC(),\n",
       "             param_grid={&#x27;C&#x27;: [0.1, 1, 5, 10, 20, 50],\n",
       "                         &#x27;gamma&#x27;: [&#x27;scale&#x27;, &#x27;auto&#x27;],\n",
       "                         &#x27;kernel&#x27;: [&#x27;linear&#x27;, &#x27;poly&#x27;, &#x27;rbf&#x27;, &#x27;sigmoid&#x27;],\n",
       "                         &#x27;shrinking&#x27;: [True, False]})</pre><b>In a Jupyter environment, please rerun this cell to show the HTML representation or trust the notebook. <br />On GitHub, the HTML representation is unable to render, please try loading this page with nbviewer.org.</b></div><div class=\"sk-container\" hidden><div class=\"sk-item sk-dashed-wrapped\"><div class=\"sk-label-container\"><div class=\"sk-label sk-toggleable\"><input class=\"sk-toggleable__control sk-hidden--visually\" id=\"sk-estimator-id-1\" type=\"checkbox\" ><label for=\"sk-estimator-id-1\" class=\"sk-toggleable__label sk-toggleable__label-arrow\">GridSearchCV</label><div class=\"sk-toggleable__content\"><pre>GridSearchCV(estimator=SVC(),\n",
       "             param_grid={&#x27;C&#x27;: [0.1, 1, 5, 10, 20, 50],\n",
       "                         &#x27;gamma&#x27;: [&#x27;scale&#x27;, &#x27;auto&#x27;],\n",
       "                         &#x27;kernel&#x27;: [&#x27;linear&#x27;, &#x27;poly&#x27;, &#x27;rbf&#x27;, &#x27;sigmoid&#x27;],\n",
       "                         &#x27;shrinking&#x27;: [True, False]})</pre></div></div></div><div class=\"sk-parallel\"><div class=\"sk-parallel-item\"><div class=\"sk-item\"><div class=\"sk-label-container\"><div class=\"sk-label sk-toggleable\"><input class=\"sk-toggleable__control sk-hidden--visually\" id=\"sk-estimator-id-2\" type=\"checkbox\" ><label for=\"sk-estimator-id-2\" class=\"sk-toggleable__label sk-toggleable__label-arrow\">estimator: SVC</label><div class=\"sk-toggleable__content\"><pre>SVC()</pre></div></div></div><div class=\"sk-serial\"><div class=\"sk-item\"><div class=\"sk-estimator sk-toggleable\"><input class=\"sk-toggleable__control sk-hidden--visually\" id=\"sk-estimator-id-3\" type=\"checkbox\" ><label for=\"sk-estimator-id-3\" class=\"sk-toggleable__label sk-toggleable__label-arrow\">SVC</label><div class=\"sk-toggleable__content\"><pre>SVC()</pre></div></div></div></div></div></div></div></div></div></div>"
      ],
      "text/plain": [
       "GridSearchCV(estimator=SVC(),\n",
       "             param_grid={'C': [0.1, 1, 5, 10, 20, 50],\n",
       "                         'gamma': ['scale', 'auto'],\n",
       "                         'kernel': ['linear', 'poly', 'rbf', 'sigmoid'],\n",
       "                         'shrinking': [True, False]})"
      ]
     },
     "execution_count": 49,
     "metadata": {},
     "output_type": "execute_result"
    }
   ],
   "source": [
    "from sklearn.model_selection import GridSearchCV\n",
    "\n",
    "svc_parameters = {\n",
    "    \"kernel\": [\"linear\", \"poly\", \"rbf\", \"sigmoid\"],\n",
    "    \"C\": [0.1, 1, 5, 10, 20, 50],\n",
    "    \"gamma\": [\"scale\", \"auto\"],\n",
    "    \"shrinking\": [True, False],\n",
    "#     \"max_iter\": [-1, 100, 10_000],\n",
    "}\n",
    "\n",
    "parametrised_svc = GridSearchCV(svc, svc_parameters)\n",
    "parametrised_svc.fit(speeches_train_pruned, emotions_train)"
   ]
  },
  {
   "cell_type": "code",
   "execution_count": 50,
   "metadata": {
    "scrolled": true
   },
   "outputs": [
    {
     "data": {
      "text/plain": [
       "dict_items([('mean_fit_time', array([0.02914906, 0.03387151, 0.03392191, 0.03406634, 0.04549079,\n",
       "       0.04714985, 0.04260173, 0.04091034, 0.02715182, 0.03307176,\n",
       "       0.03321085, 0.03341308, 0.0448019 , 0.04677086, 0.04152699,\n",
       "       0.04131975, 0.06135683, 0.09711409, 0.03180933, 0.03259401,\n",
       "       0.03652606, 0.03647299, 0.0295114 , 0.03032093, 0.05807033,\n",
       "       0.08763371, 0.03163838, 0.03125978, 0.03604183, 0.03618197,\n",
       "       0.03009911, 0.03011036, 0.10348759, 0.1733078 , 0.0318449 ,\n",
       "       0.03151183, 0.0448534 , 0.03846121, 0.02432313, 0.02497959,\n",
       "       0.10254831, 0.17837739, 0.03204336, 0.03169518, 0.04359484,\n",
       "       0.03893228, 0.02462506, 0.02556171, 0.12190037, 0.19310789,\n",
       "       0.03429284, 0.0329915 , 0.04680915, 0.04085279, 0.02389803,\n",
       "       0.02335277, 0.12696013, 0.19230318, 0.03356066, 0.03215632,\n",
       "       0.04638329, 0.04003444, 0.02365694, 0.0240521 , 0.12487354,\n",
       "       0.19816175, 0.03822207, 0.03770294, 0.04756184, 0.04035821,\n",
       "       0.02337108, 0.02438059, 0.12798095, 0.20206785, 0.03931303,\n",
       "       0.03396463, 0.04612184, 0.04079227, 0.02309771, 0.02455044,\n",
       "       0.12594056, 0.19988661, 0.04032145, 0.03598475, 0.05067616,\n",
       "       0.0458375 , 0.02246943, 0.02388468, 0.12415547, 0.2005908 ,\n",
       "       0.03997321, 0.03465071, 0.04636536, 0.04078112, 0.0228435 ,\n",
       "       0.02369308])), ('std_fit_time', array([0.00129581, 0.0009959 , 0.00081143, 0.00038005, 0.00056833,\n",
       "       0.0024831 , 0.00138537, 0.00055406, 0.0003491 , 0.00091764,\n",
       "       0.00047941, 0.00046574, 0.00046694, 0.00151839, 0.00191442,\n",
       "       0.00118486, 0.00433643, 0.01074784, 0.00055874, 0.00106971,\n",
       "       0.00072756, 0.00059977, 0.00029062, 0.0008081 , 0.00291642,\n",
       "       0.00388926, 0.00042894, 0.00033163, 0.00072711, 0.00034039,\n",
       "       0.00067533, 0.00064079, 0.00687713, 0.01260222, 0.00054556,\n",
       "       0.0003188 , 0.00210101, 0.00082502, 0.00112261, 0.0003196 ,\n",
       "       0.00964554, 0.01759007, 0.00049406, 0.00034403, 0.0003427 ,\n",
       "       0.00047065, 0.00100995, 0.00074097, 0.01337767, 0.00283634,\n",
       "       0.00082447, 0.00038216, 0.00100871, 0.00062412, 0.00037191,\n",
       "       0.0019778 , 0.01242625, 0.00610274, 0.00076265, 0.00032808,\n",
       "       0.00068518, 0.0011944 , 0.00074222, 0.00043926, 0.0149588 ,\n",
       "       0.00921551, 0.00088485, 0.00461429, 0.001211  , 0.00091677,\n",
       "       0.00090055, 0.00085554, 0.01610862, 0.00752551, 0.0017824 ,\n",
       "       0.00056449, 0.0005235 , 0.00093499, 0.0006426 , 0.00106041,\n",
       "       0.01585524, 0.00940461, 0.00056536, 0.00053812, 0.00260991,\n",
       "       0.00390852, 0.00130994, 0.00097689, 0.01437549, 0.00920818,\n",
       "       0.00080607, 0.00040129, 0.0007568 , 0.00092206, 0.00087978,\n",
       "       0.00096097])), ('mean_score_time', array([0.00585628, 0.00572052, 0.00704041, 0.00650115, 0.01635537,\n",
       "       0.01601868, 0.00934491, 0.00820527, 0.00556474, 0.00512352,\n",
       "       0.00664349, 0.00634904, 0.01515088, 0.01600094, 0.00846272,\n",
       "       0.00907736, 0.00501742, 0.00548892, 0.0064826 , 0.00671258,\n",
       "       0.0146224 , 0.01452861, 0.00761375, 0.00771856, 0.00546193,\n",
       "       0.00516844, 0.00608969, 0.00621338, 0.01478124, 0.01473236,\n",
       "       0.0071301 , 0.00790443, 0.00500154, 0.00499153, 0.00643773,\n",
       "       0.00640678, 0.01511326, 0.01417832, 0.00690422, 0.00686369,\n",
       "       0.0060492 , 0.00560775, 0.00601134, 0.00631924, 0.01440458,\n",
       "       0.01456556, 0.00691175, 0.00710998, 0.00568624, 0.00516605,\n",
       "       0.00620975, 0.00584512, 0.01460333, 0.01487513, 0.00634518,\n",
       "       0.00841637, 0.0058342 , 0.00520062, 0.00588231, 0.00607166,\n",
       "       0.01454415, 0.01431212, 0.00666308, 0.00694284, 0.00541019,\n",
       "       0.00523658, 0.00619016, 0.00699205, 0.01481133, 0.01479292,\n",
       "       0.0070828 , 0.00695   , 0.00498195, 0.00522628, 0.00626831,\n",
       "       0.00606351, 0.01433115, 0.01552868, 0.00668349, 0.00650406,\n",
       "       0.00503778, 0.00506048, 0.00600963, 0.00614762, 0.01546664,\n",
       "       0.01640058, 0.00677853, 0.00627832, 0.00503736, 0.00546751,\n",
       "       0.00603333, 0.00594254, 0.01451249, 0.01496921, 0.00720625,\n",
       "       0.006464  ])), ('std_score_time', array([4.36227380e-04, 5.11258446e-04, 1.10201864e-04, 3.72770766e-04,\n",
       "       4.34426303e-04, 9.54469831e-04, 1.97678523e-03, 8.14840063e-05,\n",
       "       4.61355202e-04, 2.42821128e-04, 5.13340446e-04, 4.48648513e-04,\n",
       "       4.79010175e-04, 3.06909613e-04, 3.71378381e-04, 1.07961607e-03,\n",
       "       2.97485247e-05, 4.70896996e-04, 5.51200181e-04, 4.63521077e-04,\n",
       "       6.33479491e-04, 4.87579497e-04, 5.66318549e-04, 3.87744996e-04,\n",
       "       4.69448955e-04, 4.41666386e-04, 1.21370092e-04, 3.95648931e-04,\n",
       "       3.94616702e-04, 4.18890655e-04, 1.47766319e-04, 2.82266961e-04,\n",
       "       8.42630760e-05, 3.90703968e-05, 4.92565800e-04, 4.80879245e-04,\n",
       "       7.38806030e-04, 1.67547265e-04, 2.83798022e-04, 4.19666943e-04,\n",
       "       2.06435653e-03, 5.45162891e-04, 1.10815417e-04, 4.02056566e-04,\n",
       "       1.95448647e-04, 7.07487143e-04, 2.47610981e-04, 1.45011393e-04,\n",
       "       4.23223250e-04, 3.54231667e-04, 3.59113203e-04, 3.27896662e-04,\n",
       "       3.55727148e-04, 4.22688221e-04, 4.55273386e-04, 2.56646476e-03,\n",
       "       6.58449885e-04, 3.91827367e-04, 2.24733934e-04, 1.54808809e-04,\n",
       "       5.00896329e-04, 4.00680524e-04, 4.43096680e-04, 4.64235825e-04,\n",
       "       7.60820770e-04, 3.47955900e-04, 3.90048149e-04, 1.71048885e-03,\n",
       "       4.12157099e-04, 5.67932613e-04, 8.67757950e-05, 4.81846499e-04,\n",
       "       5.78105619e-05, 3.91187992e-04, 3.72287062e-04, 3.25906334e-04,\n",
       "       4.18656817e-04, 8.00763729e-04, 4.87254986e-04, 4.90052811e-04,\n",
       "       4.02409316e-05, 5.28017010e-05, 1.26029369e-04, 1.37586568e-04,\n",
       "       6.29070977e-04, 1.31053362e-03, 2.92114249e-04, 3.49645033e-04,\n",
       "       6.38286077e-04, 7.65269159e-04, 6.95387504e-05, 1.97268944e-04,\n",
       "       4.24698687e-04, 6.83495106e-04, 8.24784757e-04, 4.72310298e-04])), ('param_C', masked_array(data=[0.1, 0.1, 0.1, 0.1, 0.1, 0.1, 0.1, 0.1, 0.1, 0.1, 0.1,\n",
       "                   0.1, 0.1, 0.1, 0.1, 0.1, 1, 1, 1, 1, 1, 1, 1, 1, 1, 1,\n",
       "                   1, 1, 1, 1, 1, 1, 5, 5, 5, 5, 5, 5, 5, 5, 5, 5, 5, 5,\n",
       "                   5, 5, 5, 5, 10, 10, 10, 10, 10, 10, 10, 10, 10, 10, 10,\n",
       "                   10, 10, 10, 10, 10, 20, 20, 20, 20, 20, 20, 20, 20, 20,\n",
       "                   20, 20, 20, 20, 20, 20, 20, 50, 50, 50, 50, 50, 50, 50,\n",
       "                   50, 50, 50, 50, 50, 50, 50, 50, 50],\n",
       "             mask=[False, False, False, False, False, False, False, False,\n",
       "                   False, False, False, False, False, False, False, False,\n",
       "                   False, False, False, False, False, False, False, False,\n",
       "                   False, False, False, False, False, False, False, False,\n",
       "                   False, False, False, False, False, False, False, False,\n",
       "                   False, False, False, False, False, False, False, False,\n",
       "                   False, False, False, False, False, False, False, False,\n",
       "                   False, False, False, False, False, False, False, False,\n",
       "                   False, False, False, False, False, False, False, False,\n",
       "                   False, False, False, False, False, False, False, False,\n",
       "                   False, False, False, False, False, False, False, False,\n",
       "                   False, False, False, False, False, False, False, False],\n",
       "       fill_value='?',\n",
       "            dtype=object)), ('param_gamma', masked_array(data=['scale', 'scale', 'scale', 'scale', 'scale', 'scale',\n",
       "                   'scale', 'scale', 'auto', 'auto', 'auto', 'auto',\n",
       "                   'auto', 'auto', 'auto', 'auto', 'scale', 'scale',\n",
       "                   'scale', 'scale', 'scale', 'scale', 'scale', 'scale',\n",
       "                   'auto', 'auto', 'auto', 'auto', 'auto', 'auto', 'auto',\n",
       "                   'auto', 'scale', 'scale', 'scale', 'scale', 'scale',\n",
       "                   'scale', 'scale', 'scale', 'auto', 'auto', 'auto',\n",
       "                   'auto', 'auto', 'auto', 'auto', 'auto', 'scale',\n",
       "                   'scale', 'scale', 'scale', 'scale', 'scale', 'scale',\n",
       "                   'scale', 'auto', 'auto', 'auto', 'auto', 'auto',\n",
       "                   'auto', 'auto', 'auto', 'scale', 'scale', 'scale',\n",
       "                   'scale', 'scale', 'scale', 'scale', 'scale', 'auto',\n",
       "                   'auto', 'auto', 'auto', 'auto', 'auto', 'auto', 'auto',\n",
       "                   'scale', 'scale', 'scale', 'scale', 'scale', 'scale',\n",
       "                   'scale', 'scale', 'auto', 'auto', 'auto', 'auto',\n",
       "                   'auto', 'auto', 'auto', 'auto'],\n",
       "             mask=[False, False, False, False, False, False, False, False,\n",
       "                   False, False, False, False, False, False, False, False,\n",
       "                   False, False, False, False, False, False, False, False,\n",
       "                   False, False, False, False, False, False, False, False,\n",
       "                   False, False, False, False, False, False, False, False,\n",
       "                   False, False, False, False, False, False, False, False,\n",
       "                   False, False, False, False, False, False, False, False,\n",
       "                   False, False, False, False, False, False, False, False,\n",
       "                   False, False, False, False, False, False, False, False,\n",
       "                   False, False, False, False, False, False, False, False,\n",
       "                   False, False, False, False, False, False, False, False,\n",
       "                   False, False, False, False, False, False, False, False],\n",
       "       fill_value='?',\n",
       "            dtype=object)), ('param_kernel', masked_array(data=['linear', 'linear', 'poly', 'poly', 'rbf', 'rbf',\n",
       "                   'sigmoid', 'sigmoid', 'linear', 'linear', 'poly',\n",
       "                   'poly', 'rbf', 'rbf', 'sigmoid', 'sigmoid', 'linear',\n",
       "                   'linear', 'poly', 'poly', 'rbf', 'rbf', 'sigmoid',\n",
       "                   'sigmoid', 'linear', 'linear', 'poly', 'poly', 'rbf',\n",
       "                   'rbf', 'sigmoid', 'sigmoid', 'linear', 'linear',\n",
       "                   'poly', 'poly', 'rbf', 'rbf', 'sigmoid', 'sigmoid',\n",
       "                   'linear', 'linear', 'poly', 'poly', 'rbf', 'rbf',\n",
       "                   'sigmoid', 'sigmoid', 'linear', 'linear', 'poly',\n",
       "                   'poly', 'rbf', 'rbf', 'sigmoid', 'sigmoid', 'linear',\n",
       "                   'linear', 'poly', 'poly', 'rbf', 'rbf', 'sigmoid',\n",
       "                   'sigmoid', 'linear', 'linear', 'poly', 'poly', 'rbf',\n",
       "                   'rbf', 'sigmoid', 'sigmoid', 'linear', 'linear',\n",
       "                   'poly', 'poly', 'rbf', 'rbf', 'sigmoid', 'sigmoid',\n",
       "                   'linear', 'linear', 'poly', 'poly', 'rbf', 'rbf',\n",
       "                   'sigmoid', 'sigmoid', 'linear', 'linear', 'poly',\n",
       "                   'poly', 'rbf', 'rbf', 'sigmoid', 'sigmoid'],\n",
       "             mask=[False, False, False, False, False, False, False, False,\n",
       "                   False, False, False, False, False, False, False, False,\n",
       "                   False, False, False, False, False, False, False, False,\n",
       "                   False, False, False, False, False, False, False, False,\n",
       "                   False, False, False, False, False, False, False, False,\n",
       "                   False, False, False, False, False, False, False, False,\n",
       "                   False, False, False, False, False, False, False, False,\n",
       "                   False, False, False, False, False, False, False, False,\n",
       "                   False, False, False, False, False, False, False, False,\n",
       "                   False, False, False, False, False, False, False, False,\n",
       "                   False, False, False, False, False, False, False, False,\n",
       "                   False, False, False, False, False, False, False, False],\n",
       "       fill_value='?',\n",
       "            dtype=object)), ('param_shrinking', masked_array(data=[True, False, True, False, True, False, True, False,\n",
       "                   True, False, True, False, True, False, True, False,\n",
       "                   True, False, True, False, True, False, True, False,\n",
       "                   True, False, True, False, True, False, True, False,\n",
       "                   True, False, True, False, True, False, True, False,\n",
       "                   True, False, True, False, True, False, True, False,\n",
       "                   True, False, True, False, True, False, True, False,\n",
       "                   True, False, True, False, True, False, True, False,\n",
       "                   True, False, True, False, True, False, True, False,\n",
       "                   True, False, True, False, True, False, True, False,\n",
       "                   True, False, True, False, True, False, True, False,\n",
       "                   True, False, True, False, True, False, True, False],\n",
       "             mask=[False, False, False, False, False, False, False, False,\n",
       "                   False, False, False, False, False, False, False, False,\n",
       "                   False, False, False, False, False, False, False, False,\n",
       "                   False, False, False, False, False, False, False, False,\n",
       "                   False, False, False, False, False, False, False, False,\n",
       "                   False, False, False, False, False, False, False, False,\n",
       "                   False, False, False, False, False, False, False, False,\n",
       "                   False, False, False, False, False, False, False, False,\n",
       "                   False, False, False, False, False, False, False, False,\n",
       "                   False, False, False, False, False, False, False, False,\n",
       "                   False, False, False, False, False, False, False, False,\n",
       "                   False, False, False, False, False, False, False, False],\n",
       "       fill_value='?',\n",
       "            dtype=object)), ('params', [{'C': 0.1, 'gamma': 'scale', 'kernel': 'linear', 'shrinking': True}, {'C': 0.1, 'gamma': 'scale', 'kernel': 'linear', 'shrinking': False}, {'C': 0.1, 'gamma': 'scale', 'kernel': 'poly', 'shrinking': True}, {'C': 0.1, 'gamma': 'scale', 'kernel': 'poly', 'shrinking': False}, {'C': 0.1, 'gamma': 'scale', 'kernel': 'rbf', 'shrinking': True}, {'C': 0.1, 'gamma': 'scale', 'kernel': 'rbf', 'shrinking': False}, {'C': 0.1, 'gamma': 'scale', 'kernel': 'sigmoid', 'shrinking': True}, {'C': 0.1, 'gamma': 'scale', 'kernel': 'sigmoid', 'shrinking': False}, {'C': 0.1, 'gamma': 'auto', 'kernel': 'linear', 'shrinking': True}, {'C': 0.1, 'gamma': 'auto', 'kernel': 'linear', 'shrinking': False}, {'C': 0.1, 'gamma': 'auto', 'kernel': 'poly', 'shrinking': True}, {'C': 0.1, 'gamma': 'auto', 'kernel': 'poly', 'shrinking': False}, {'C': 0.1, 'gamma': 'auto', 'kernel': 'rbf', 'shrinking': True}, {'C': 0.1, 'gamma': 'auto', 'kernel': 'rbf', 'shrinking': False}, {'C': 0.1, 'gamma': 'auto', 'kernel': 'sigmoid', 'shrinking': True}, {'C': 0.1, 'gamma': 'auto', 'kernel': 'sigmoid', 'shrinking': False}, {'C': 1, 'gamma': 'scale', 'kernel': 'linear', 'shrinking': True}, {'C': 1, 'gamma': 'scale', 'kernel': 'linear', 'shrinking': False}, {'C': 1, 'gamma': 'scale', 'kernel': 'poly', 'shrinking': True}, {'C': 1, 'gamma': 'scale', 'kernel': 'poly', 'shrinking': False}, {'C': 1, 'gamma': 'scale', 'kernel': 'rbf', 'shrinking': True}, {'C': 1, 'gamma': 'scale', 'kernel': 'rbf', 'shrinking': False}, {'C': 1, 'gamma': 'scale', 'kernel': 'sigmoid', 'shrinking': True}, {'C': 1, 'gamma': 'scale', 'kernel': 'sigmoid', 'shrinking': False}, {'C': 1, 'gamma': 'auto', 'kernel': 'linear', 'shrinking': True}, {'C': 1, 'gamma': 'auto', 'kernel': 'linear', 'shrinking': False}, {'C': 1, 'gamma': 'auto', 'kernel': 'poly', 'shrinking': True}, {'C': 1, 'gamma': 'auto', 'kernel': 'poly', 'shrinking': False}, {'C': 1, 'gamma': 'auto', 'kernel': 'rbf', 'shrinking': True}, {'C': 1, 'gamma': 'auto', 'kernel': 'rbf', 'shrinking': False}, {'C': 1, 'gamma': 'auto', 'kernel': 'sigmoid', 'shrinking': True}, {'C': 1, 'gamma': 'auto', 'kernel': 'sigmoid', 'shrinking': False}, {'C': 5, 'gamma': 'scale', 'kernel': 'linear', 'shrinking': True}, {'C': 5, 'gamma': 'scale', 'kernel': 'linear', 'shrinking': False}, {'C': 5, 'gamma': 'scale', 'kernel': 'poly', 'shrinking': True}, {'C': 5, 'gamma': 'scale', 'kernel': 'poly', 'shrinking': False}, {'C': 5, 'gamma': 'scale', 'kernel': 'rbf', 'shrinking': True}, {'C': 5, 'gamma': 'scale', 'kernel': 'rbf', 'shrinking': False}, {'C': 5, 'gamma': 'scale', 'kernel': 'sigmoid', 'shrinking': True}, {'C': 5, 'gamma': 'scale', 'kernel': 'sigmoid', 'shrinking': False}, {'C': 5, 'gamma': 'auto', 'kernel': 'linear', 'shrinking': True}, {'C': 5, 'gamma': 'auto', 'kernel': 'linear', 'shrinking': False}, {'C': 5, 'gamma': 'auto', 'kernel': 'poly', 'shrinking': True}, {'C': 5, 'gamma': 'auto', 'kernel': 'poly', 'shrinking': False}, {'C': 5, 'gamma': 'auto', 'kernel': 'rbf', 'shrinking': True}, {'C': 5, 'gamma': 'auto', 'kernel': 'rbf', 'shrinking': False}, {'C': 5, 'gamma': 'auto', 'kernel': 'sigmoid', 'shrinking': True}, {'C': 5, 'gamma': 'auto', 'kernel': 'sigmoid', 'shrinking': False}, {'C': 10, 'gamma': 'scale', 'kernel': 'linear', 'shrinking': True}, {'C': 10, 'gamma': 'scale', 'kernel': 'linear', 'shrinking': False}, {'C': 10, 'gamma': 'scale', 'kernel': 'poly', 'shrinking': True}, {'C': 10, 'gamma': 'scale', 'kernel': 'poly', 'shrinking': False}, {'C': 10, 'gamma': 'scale', 'kernel': 'rbf', 'shrinking': True}, {'C': 10, 'gamma': 'scale', 'kernel': 'rbf', 'shrinking': False}, {'C': 10, 'gamma': 'scale', 'kernel': 'sigmoid', 'shrinking': True}, {'C': 10, 'gamma': 'scale', 'kernel': 'sigmoid', 'shrinking': False}, {'C': 10, 'gamma': 'auto', 'kernel': 'linear', 'shrinking': True}, {'C': 10, 'gamma': 'auto', 'kernel': 'linear', 'shrinking': False}, {'C': 10, 'gamma': 'auto', 'kernel': 'poly', 'shrinking': True}, {'C': 10, 'gamma': 'auto', 'kernel': 'poly', 'shrinking': False}, {'C': 10, 'gamma': 'auto', 'kernel': 'rbf', 'shrinking': True}, {'C': 10, 'gamma': 'auto', 'kernel': 'rbf', 'shrinking': False}, {'C': 10, 'gamma': 'auto', 'kernel': 'sigmoid', 'shrinking': True}, {'C': 10, 'gamma': 'auto', 'kernel': 'sigmoid', 'shrinking': False}, {'C': 20, 'gamma': 'scale', 'kernel': 'linear', 'shrinking': True}, {'C': 20, 'gamma': 'scale', 'kernel': 'linear', 'shrinking': False}, {'C': 20, 'gamma': 'scale', 'kernel': 'poly', 'shrinking': True}, {'C': 20, 'gamma': 'scale', 'kernel': 'poly', 'shrinking': False}, {'C': 20, 'gamma': 'scale', 'kernel': 'rbf', 'shrinking': True}, {'C': 20, 'gamma': 'scale', 'kernel': 'rbf', 'shrinking': False}, {'C': 20, 'gamma': 'scale', 'kernel': 'sigmoid', 'shrinking': True}, {'C': 20, 'gamma': 'scale', 'kernel': 'sigmoid', 'shrinking': False}, {'C': 20, 'gamma': 'auto', 'kernel': 'linear', 'shrinking': True}, {'C': 20, 'gamma': 'auto', 'kernel': 'linear', 'shrinking': False}, {'C': 20, 'gamma': 'auto', 'kernel': 'poly', 'shrinking': True}, {'C': 20, 'gamma': 'auto', 'kernel': 'poly', 'shrinking': False}, {'C': 20, 'gamma': 'auto', 'kernel': 'rbf', 'shrinking': True}, {'C': 20, 'gamma': 'auto', 'kernel': 'rbf', 'shrinking': False}, {'C': 20, 'gamma': 'auto', 'kernel': 'sigmoid', 'shrinking': True}, {'C': 20, 'gamma': 'auto', 'kernel': 'sigmoid', 'shrinking': False}, {'C': 50, 'gamma': 'scale', 'kernel': 'linear', 'shrinking': True}, {'C': 50, 'gamma': 'scale', 'kernel': 'linear', 'shrinking': False}, {'C': 50, 'gamma': 'scale', 'kernel': 'poly', 'shrinking': True}, {'C': 50, 'gamma': 'scale', 'kernel': 'poly', 'shrinking': False}, {'C': 50, 'gamma': 'scale', 'kernel': 'rbf', 'shrinking': True}, {'C': 50, 'gamma': 'scale', 'kernel': 'rbf', 'shrinking': False}, {'C': 50, 'gamma': 'scale', 'kernel': 'sigmoid', 'shrinking': True}, {'C': 50, 'gamma': 'scale', 'kernel': 'sigmoid', 'shrinking': False}, {'C': 50, 'gamma': 'auto', 'kernel': 'linear', 'shrinking': True}, {'C': 50, 'gamma': 'auto', 'kernel': 'linear', 'shrinking': False}, {'C': 50, 'gamma': 'auto', 'kernel': 'poly', 'shrinking': True}, {'C': 50, 'gamma': 'auto', 'kernel': 'poly', 'shrinking': False}, {'C': 50, 'gamma': 'auto', 'kernel': 'rbf', 'shrinking': True}, {'C': 50, 'gamma': 'auto', 'kernel': 'rbf', 'shrinking': False}, {'C': 50, 'gamma': 'auto', 'kernel': 'sigmoid', 'shrinking': True}, {'C': 50, 'gamma': 'auto', 'kernel': 'sigmoid', 'shrinking': False}]), ('split0_test_score', array([0.57803468, 0.57803468, 0.24277457, 0.24277457, 0.42196532,\n",
       "       0.42196532, 0.49710983, 0.49710983, 0.57803468, 0.57803468,\n",
       "       0.23699422, 0.23699422, 0.42196532, 0.42196532, 0.49710983,\n",
       "       0.49710983, 0.59537572, 0.59537572, 0.44508671, 0.44508671,\n",
       "       0.59537572, 0.59537572, 0.47398844, 0.47398844, 0.59537572,\n",
       "       0.59537572, 0.43352601, 0.43352601, 0.59537572, 0.59537572,\n",
       "       0.48554913, 0.48554913, 0.55491329, 0.55491329, 0.58381503,\n",
       "       0.58381503, 0.67052023, 0.67052023, 0.46242775, 0.46242775,\n",
       "       0.55491329, 0.55491329, 0.58381503, 0.58381503, 0.67630058,\n",
       "       0.67630058, 0.4566474 , 0.4566474 , 0.56069364, 0.56069364,\n",
       "       0.61271676, 0.61271676, 0.63583815, 0.63583815, 0.38728324,\n",
       "       0.38728324, 0.56069364, 0.56069364, 0.61271676, 0.61271676,\n",
       "       0.63583815, 0.63583815, 0.38728324, 0.38728324, 0.56069364,\n",
       "       0.56069364, 0.62427746, 0.62427746, 0.6416185 , 0.6416185 ,\n",
       "       0.39306358, 0.39306358, 0.56069364, 0.56069364, 0.62427746,\n",
       "       0.62427746, 0.6416185 , 0.6416185 , 0.38728324, 0.38728324,\n",
       "       0.56069364, 0.56069364, 0.62427746, 0.62427746, 0.6416185 ,\n",
       "       0.6416185 , 0.41040462, 0.41040462, 0.56069364, 0.56069364,\n",
       "       0.63583815, 0.63583815, 0.6416185 , 0.6416185 , 0.43930636,\n",
       "       0.43930636])), ('split1_test_score', array([0.60115607, 0.60115607, 0.28323699, 0.28323699, 0.43930636,\n",
       "       0.43930636, 0.44508671, 0.44508671, 0.60115607, 0.60115607,\n",
       "       0.27745665, 0.27745665, 0.43352601, 0.43352601, 0.43930636,\n",
       "       0.43930636, 0.60115607, 0.60115607, 0.4566474 , 0.4566474 ,\n",
       "       0.56647399, 0.56647399, 0.46820809, 0.46820809, 0.60115607,\n",
       "       0.60115607, 0.4566474 , 0.4566474 , 0.57225434, 0.57225434,\n",
       "       0.50867052, 0.50867052, 0.57225434, 0.57225434, 0.54913295,\n",
       "       0.54913295, 0.66473988, 0.66473988, 0.47398844, 0.47398844,\n",
       "       0.57225434, 0.57225434, 0.5433526 , 0.5433526 , 0.66473988,\n",
       "       0.66473988, 0.39884393, 0.39884393, 0.57803468, 0.57803468,\n",
       "       0.56647399, 0.56647399, 0.67630058, 0.67630058, 0.39306358,\n",
       "       0.39306358, 0.57803468, 0.57803468, 0.54913295, 0.54913295,\n",
       "       0.67630058, 0.67630058, 0.40462428, 0.40462428, 0.57803468,\n",
       "       0.57803468, 0.58381503, 0.58381503, 0.67052023, 0.67052023,\n",
       "       0.40462428, 0.40462428, 0.57803468, 0.57803468, 0.58959538,\n",
       "       0.58959538, 0.67052023, 0.67052023, 0.39884393, 0.39884393,\n",
       "       0.57803468, 0.57803468, 0.57803468, 0.57803468, 0.67630058,\n",
       "       0.67630058, 0.33526012, 0.34682081, 0.57803468, 0.57803468,\n",
       "       0.57803468, 0.57803468, 0.67630058, 0.67630058, 0.38150289,\n",
       "       0.38150289])), ('split2_test_score', array([0.57225434, 0.57225434, 0.23699422, 0.23699422, 0.41618497,\n",
       "       0.41618497, 0.37572254, 0.37572254, 0.57225434, 0.57225434,\n",
       "       0.24277457, 0.24277457, 0.41618497, 0.41618497, 0.37572254,\n",
       "       0.37572254, 0.57803468, 0.57803468, 0.38150289, 0.38150289,\n",
       "       0.56069364, 0.56069364, 0.41040462, 0.41040462, 0.57803468,\n",
       "       0.57803468, 0.38728324, 0.38728324, 0.55491329, 0.55491329,\n",
       "       0.41040462, 0.41040462, 0.53179191, 0.53179191, 0.50867052,\n",
       "       0.50867052, 0.67630058, 0.67630058, 0.42196532, 0.42196532,\n",
       "       0.53179191, 0.53179191, 0.50867052, 0.50867052, 0.67052023,\n",
       "       0.67052023, 0.39884393, 0.39884393, 0.52601156, 0.52601156,\n",
       "       0.57803468, 0.57803468, 0.65317919, 0.65317919, 0.3583815 ,\n",
       "       0.3583815 , 0.52601156, 0.52601156, 0.58959538, 0.58959538,\n",
       "       0.65317919, 0.65317919, 0.35260116, 0.35260116, 0.52023121,\n",
       "       0.52023121, 0.58959538, 0.58959538, 0.6416185 , 0.6416185 ,\n",
       "       0.3583815 , 0.3583815 , 0.52023121, 0.52023121, 0.59537572,\n",
       "       0.59537572, 0.63583815, 0.63583815, 0.33526012, 0.33526012,\n",
       "       0.52023121, 0.52023121, 0.6416185 , 0.6416185 , 0.63583815,\n",
       "       0.63583815, 0.34682081, 0.34682081, 0.52023121, 0.52023121,\n",
       "       0.6300578 , 0.6300578 , 0.63583815, 0.63583815, 0.32947977,\n",
       "       0.32947977])), ('split3_test_score', array([0.52601156, 0.52601156, 0.24855491, 0.24855491, 0.40462428,\n",
       "       0.40462428, 0.38150289, 0.38150289, 0.52601156, 0.52601156,\n",
       "       0.24855491, 0.24855491, 0.40462428, 0.40462428, 0.38150289,\n",
       "       0.38150289, 0.51445087, 0.51445087, 0.38728324, 0.38728324,\n",
       "       0.54913295, 0.54913295, 0.42774566, 0.42774566, 0.51445087,\n",
       "       0.51445087, 0.38728324, 0.38728324, 0.54913295, 0.54913295,\n",
       "       0.42774566, 0.42774566, 0.53757225, 0.53757225, 0.47976879,\n",
       "       0.47976879, 0.56069364, 0.56069364, 0.38728324, 0.38728324,\n",
       "       0.53757225, 0.53757225, 0.48554913, 0.48554913, 0.56069364,\n",
       "       0.56069364, 0.39306358, 0.39306358, 0.56069364, 0.56069364,\n",
       "       0.51445087, 0.51445087, 0.56647399, 0.56647399, 0.37572254,\n",
       "       0.37572254, 0.56069364, 0.56069364, 0.51445087, 0.51445087,\n",
       "       0.56647399, 0.56647399, 0.3699422 , 0.3699422 , 0.55491329,\n",
       "       0.55491329, 0.50867052, 0.50867052, 0.56069364, 0.56069364,\n",
       "       0.3699422 , 0.3699422 , 0.55491329, 0.55491329, 0.50867052,\n",
       "       0.50867052, 0.56647399, 0.56647399, 0.3699422 , 0.3699422 ,\n",
       "       0.55491329, 0.55491329, 0.51445087, 0.51445087, 0.56069364,\n",
       "       0.56069364, 0.3699422 , 0.3699422 , 0.55491329, 0.55491329,\n",
       "       0.51445087, 0.51445087, 0.56647399, 0.56647399, 0.38728324,\n",
       "       0.38728324])), ('split4_test_score', array([0.56976744, 0.56976744, 0.25581395, 0.25581395, 0.45348837,\n",
       "       0.45348837, 0.41860465, 0.41860465, 0.56976744, 0.56976744,\n",
       "       0.26162791, 0.26162791, 0.45348837, 0.45348837, 0.4127907 ,\n",
       "       0.4127907 , 0.55232558, 0.55232558, 0.4244186 , 0.4244186 ,\n",
       "       0.56395349, 0.56395349, 0.45930233, 0.45930233, 0.55232558,\n",
       "       0.55232558, 0.43023256, 0.43023256, 0.56395349, 0.56395349,\n",
       "       0.45930233, 0.45930233, 0.5872093 , 0.5872093 , 0.59302326,\n",
       "       0.59302326, 0.6627907 , 0.6627907 , 0.44767442, 0.44767442,\n",
       "       0.5872093 , 0.5872093 , 0.59883721, 0.59883721, 0.65697674,\n",
       "       0.65697674, 0.44767442, 0.44767442, 0.5755814 , 0.5755814 ,\n",
       "       0.62790698, 0.62790698, 0.66860465, 0.66860465, 0.43023256,\n",
       "       0.43023256, 0.5755814 , 0.5755814 , 0.62790698, 0.62790698,\n",
       "       0.66860465, 0.66860465, 0.43604651, 0.43604651, 0.58139535,\n",
       "       0.58139535, 0.62209302, 0.62209302, 0.66860465, 0.66860465,\n",
       "       0.41860465, 0.41860465, 0.58139535, 0.58139535, 0.62209302,\n",
       "       0.62209302, 0.66860465, 0.66860465, 0.40697674, 0.4127907 ,\n",
       "       0.58139535, 0.58139535, 0.63372093, 0.63372093, 0.66860465,\n",
       "       0.66860465, 0.4127907 , 0.4127907 , 0.58139535, 0.58139535,\n",
       "       0.62790698, 0.62790698, 0.66860465, 0.66860465, 0.43023256,\n",
       "       0.43023256])), ('mean_test_score', array([0.56944482, 0.56944482, 0.25347493, 0.25347493, 0.42711386,\n",
       "       0.42711386, 0.42360532, 0.42360532, 0.56944482, 0.56944482,\n",
       "       0.25348165, 0.25348165, 0.42595779, 0.42595779, 0.42128646,\n",
       "       0.42128646, 0.56826858, 0.56826858, 0.41898777, 0.41898777,\n",
       "       0.56712596, 0.56712596, 0.44792983, 0.44792983, 0.56826858,\n",
       "       0.56826858, 0.41899449, 0.41899449, 0.56712596, 0.56712596,\n",
       "       0.45833445, 0.45833445, 0.55674822, 0.55674822, 0.54288211,\n",
       "       0.54288211, 0.64700901, 0.64700901, 0.43866783, 0.43866783,\n",
       "       0.55674822, 0.55674822, 0.5440449 , 0.5440449 , 0.64584622,\n",
       "       0.64584622, 0.41901465, 0.41901465, 0.56020298, 0.56020298,\n",
       "       0.57991666, 0.57991666, 0.64007931, 0.64007931, 0.38893669,\n",
       "       0.38893669, 0.56020298, 0.56020298, 0.57876059, 0.57876059,\n",
       "       0.64007931, 0.64007931, 0.39009948, 0.39009948, 0.55905364,\n",
       "       0.55905364, 0.58569028, 0.58569028, 0.6366111 , 0.6366111 ,\n",
       "       0.38892324, 0.38892324, 0.55905364, 0.55905364, 0.58800242,\n",
       "       0.58800242, 0.6366111 , 0.6366111 , 0.37966124, 0.38082404,\n",
       "       0.55905364, 0.55905364, 0.59842049, 0.59842049, 0.6366111 ,\n",
       "       0.6366111 , 0.37504369, 0.37735583, 0.55905364, 0.55905364,\n",
       "       0.5972577 , 0.5972577 , 0.63776717, 0.63776717, 0.39356096,\n",
       "       0.39356096])), ('std_test_score', array([0.02438784, 0.02438784, 0.01613425, 0.01613425, 0.01729741,\n",
       "       0.01729741, 0.04462005, 0.04462005, 0.02438784, 0.02438784,\n",
       "       0.01450456, 0.01450456, 0.01662394, 0.01662394, 0.04428291,\n",
       "       0.04428291, 0.03181913, 0.03181913, 0.03013035, 0.03013035,\n",
       "       0.01532098, 0.01532098, 0.02463792, 0.02463792, 0.03181913,\n",
       "       0.03181913, 0.02744598, 0.02744598, 0.0161698 , 0.0161698 ,\n",
       "       0.03607835, 0.03607835, 0.02079528, 0.02079528, 0.04331844,\n",
       "       0.04331844, 0.04341558, 0.04341558, 0.03102434, 0.03102434,\n",
       "       0.02079528, 0.02079528, 0.04302892, 0.04302892, 0.04305368,\n",
       "       0.04305368, 0.02729388, 0.02729388, 0.01856879, 0.01856879,\n",
       "       0.03962054, 0.03962054, 0.03932687, 0.03932687, 0.02380482,\n",
       "       0.02380482, 0.01856879, 0.01856879, 0.04171168, 0.04171168,\n",
       "       0.03932687, 0.03932687, 0.02878358, 0.02878358, 0.02184694,\n",
       "       0.02184694, 0.0418687 , 0.0418687 , 0.03996755, 0.03996755,\n",
       "       0.02208044, 0.02208044, 0.02184694, 0.02184694, 0.04202024,\n",
       "       0.04202024, 0.03773143, 0.03773143, 0.02544848, 0.0267686 ,\n",
       "       0.02184694, 0.02184694, 0.04742837, 0.04742837, 0.04095845,\n",
       "       0.04095845, 0.03187639, 0.02921503, 0.02184694, 0.02184694,\n",
       "       0.04632531, 0.04632531, 0.03882537, 0.03882537, 0.03931578,\n",
       "       0.03931578])), ('rank_test_score', array([29, 29, 95, 95, 67, 67, 71, 71, 29, 29, 93, 93, 69, 69, 73, 73, 33,\n",
       "       33, 79, 79, 37, 37, 63, 63, 33, 33, 77, 77, 37, 37, 61, 61, 53, 53,\n",
       "       59, 59,  1,  1, 65, 65, 53, 53, 57, 57,  3,  3, 75, 75, 41, 41, 25,\n",
       "       25,  5,  5, 85, 85, 41, 41, 27, 27,  5,  5, 83, 83, 45, 45, 23, 23,\n",
       "       11, 11, 87, 87, 45, 45, 21, 21, 11, 11, 90, 89, 45, 45, 17, 17, 11,\n",
       "       11, 92, 91, 45, 45, 19, 19,  9,  9, 81, 81]))])"
      ]
     },
     "execution_count": 50,
     "metadata": {},
     "output_type": "execute_result"
    }
   ],
   "source": [
    "parametrised_svc.cv_results_.items()"
   ]
  },
  {
   "cell_type": "code",
   "execution_count": 51,
   "metadata": {},
   "outputs": [
    {
     "data": {
      "text/plain": [
       "{'C': 5, 'gamma': 'scale', 'kernel': 'rbf', 'shrinking': True}"
      ]
     },
     "execution_count": 51,
     "metadata": {},
     "output_type": "execute_result"
    }
   ],
   "source": [
    "optimised_svc = parametrised_svc.best_estimator_\n",
    "optimised_parameters = parametrised_svc.best_params_\n",
    "optimised_parameters"
   ]
  },
  {
   "cell_type": "code",
   "execution_count": 52,
   "metadata": {},
   "outputs": [],
   "source": [
    "initial_classifier_results[\"svc_optimised\"] = fit_predict_and_score_classifier(optimised_svc, *multi_class_parameters)"
   ]
  },
  {
   "cell_type": "code",
   "execution_count": 53,
   "metadata": {},
   "outputs": [
    {
     "name": "stderr",
     "output_type": "stream",
     "text": [
      "C:\\Users\\Matas\\AppData\\Local\\Temp\\ipykernel_14812\\2014226108.py:39: FutureWarning: The frame.append method is deprecated and will be removed from pandas in a future version. Use pandas.concat instead.\n",
      "  table = table.append(new_row, ignore_index=True)\n",
      "C:\\Users\\Matas\\AppData\\Local\\Temp\\ipykernel_14812\\2014226108.py:39: FutureWarning: The frame.append method is deprecated and will be removed from pandas in a future version. Use pandas.concat instead.\n",
      "  table = table.append(new_row, ignore_index=True)\n",
      "C:\\Users\\Matas\\AppData\\Local\\Temp\\ipykernel_14812\\2014226108.py:39: FutureWarning: The frame.append method is deprecated and will be removed from pandas in a future version. Use pandas.concat instead.\n",
      "  table = table.append(new_row, ignore_index=True)\n",
      "C:\\Users\\Matas\\AppData\\Local\\Temp\\ipykernel_14812\\2014226108.py:39: FutureWarning: The frame.append method is deprecated and will be removed from pandas in a future version. Use pandas.concat instead.\n",
      "  table = table.append(new_row, ignore_index=True)\n",
      "C:\\Users\\Matas\\AppData\\Local\\Temp\\ipykernel_14812\\2014226108.py:39: FutureWarning: The frame.append method is deprecated and will be removed from pandas in a future version. Use pandas.concat instead.\n",
      "  table = table.append(new_row, ignore_index=True)\n",
      "C:\\Users\\Matas\\AppData\\Local\\Temp\\ipykernel_14812\\2014226108.py:39: FutureWarning: The frame.append method is deprecated and will be removed from pandas in a future version. Use pandas.concat instead.\n",
      "  table = table.append(new_row, ignore_index=True)\n",
      "C:\\Users\\Matas\\AppData\\Local\\Temp\\ipykernel_14812\\2014226108.py:39: FutureWarning: The frame.append method is deprecated and will be removed from pandas in a future version. Use pandas.concat instead.\n",
      "  table = table.append(new_row, ignore_index=True)\n",
      "C:\\Users\\Matas\\AppData\\Local\\Temp\\ipykernel_14812\\2014226108.py:39: FutureWarning: The frame.append method is deprecated and will be removed from pandas in a future version. Use pandas.concat instead.\n",
      "  table = table.append(new_row, ignore_index=True)\n",
      "C:\\Users\\Matas\\AppData\\Local\\Temp\\ipykernel_14812\\2014226108.py:39: FutureWarning: The frame.append method is deprecated and will be removed from pandas in a future version. Use pandas.concat instead.\n",
      "  table = table.append(new_row, ignore_index=True)\n",
      "C:\\Users\\Matas\\AppData\\Local\\Temp\\ipykernel_14812\\2014226108.py:39: FutureWarning: The frame.append method is deprecated and will be removed from pandas in a future version. Use pandas.concat instead.\n",
      "  table = table.append(new_row, ignore_index=True)\n",
      "C:\\Users\\Matas\\AppData\\Local\\Temp\\ipykernel_14812\\2014226108.py:39: FutureWarning: The frame.append method is deprecated and will be removed from pandas in a future version. Use pandas.concat instead.\n",
      "  table = table.append(new_row, ignore_index=True)\n",
      "C:\\Users\\Matas\\AppData\\Local\\Temp\\ipykernel_14812\\2014226108.py:39: FutureWarning: The frame.append method is deprecated and will be removed from pandas in a future version. Use pandas.concat instead.\n",
      "  table = table.append(new_row, ignore_index=True)\n"
     ]
    },
    {
     "data": {
      "text/html": [
       "<div>\n",
       "<style scoped>\n",
       "    .dataframe tbody tr th:only-of-type {\n",
       "        vertical-align: middle;\n",
       "    }\n",
       "\n",
       "    .dataframe tbody tr th {\n",
       "        vertical-align: top;\n",
       "    }\n",
       "\n",
       "    .dataframe thead th {\n",
       "        text-align: right;\n",
       "    }\n",
       "</style>\n",
       "<table border=\"1\" class=\"dataframe\">\n",
       "  <thead>\n",
       "    <tr style=\"text-align: right;\">\n",
       "      <th></th>\n",
       "      <th>Classifier</th>\n",
       "      <th>Set type</th>\n",
       "      <th>predictions</th>\n",
       "      <th>accuracy</th>\n",
       "      <th>precision</th>\n",
       "      <th>recall</th>\n",
       "      <th>F1</th>\n",
       "    </tr>\n",
       "  </thead>\n",
       "  <tbody>\n",
       "    <tr>\n",
       "      <th>0</th>\n",
       "      <td>dummy_classifier_most_frequent</td>\n",
       "      <td>train</td>\n",
       "      <td>[calm, calm, calm, calm, calm, calm, calm, cal...</td>\n",
       "      <td>0.134259</td>\n",
       "      <td>0.891782</td>\n",
       "      <td>0.125000</td>\n",
       "      <td>0.029592</td>\n",
       "    </tr>\n",
       "    <tr>\n",
       "      <th>1</th>\n",
       "      <td>dummy_classifier_most_frequent</td>\n",
       "      <td>val</td>\n",
       "      <td>[calm, calm, calm, calm, calm, calm, calm, cal...</td>\n",
       "      <td>0.131944</td>\n",
       "      <td>0.891493</td>\n",
       "      <td>0.125000</td>\n",
       "      <td>0.029141</td>\n",
       "    </tr>\n",
       "    <tr>\n",
       "      <th>2</th>\n",
       "      <td>dummy_classifier_stratified</td>\n",
       "      <td>train</td>\n",
       "      <td>[fearful, disgust, surprised, calm, surprised,...</td>\n",
       "      <td>0.116898</td>\n",
       "      <td>0.112396</td>\n",
       "      <td>0.111797</td>\n",
       "      <td>0.111940</td>\n",
       "    </tr>\n",
       "    <tr>\n",
       "      <th>3</th>\n",
       "      <td>dummy_classifier_stratified</td>\n",
       "      <td>val</td>\n",
       "      <td>[angry, surprised, fearful, fearful, angry, ha...</td>\n",
       "      <td>0.145833</td>\n",
       "      <td>0.143746</td>\n",
       "      <td>0.139845</td>\n",
       "      <td>0.140184</td>\n",
       "    </tr>\n",
       "    <tr>\n",
       "      <th>4</th>\n",
       "      <td>logistic_regression</td>\n",
       "      <td>train</td>\n",
       "      <td>[surprised, fearful, neutral, sad, surprised, ...</td>\n",
       "      <td>0.822917</td>\n",
       "      <td>0.821884</td>\n",
       "      <td>0.819903</td>\n",
       "      <td>0.819967</td>\n",
       "    </tr>\n",
       "    <tr>\n",
       "      <th>5</th>\n",
       "      <td>logistic_regression</td>\n",
       "      <td>val</td>\n",
       "      <td>[fearful, calm, surprised, sad, sad, calm, neu...</td>\n",
       "      <td>0.586806</td>\n",
       "      <td>0.560562</td>\n",
       "      <td>0.563343</td>\n",
       "      <td>0.559951</td>\n",
       "    </tr>\n",
       "    <tr>\n",
       "      <th>6</th>\n",
       "      <td>svc</td>\n",
       "      <td>train</td>\n",
       "      <td>[disgust, fearful, neutral, sad, happy, surpri...</td>\n",
       "      <td>0.807870</td>\n",
       "      <td>0.812744</td>\n",
       "      <td>0.796130</td>\n",
       "      <td>0.800273</td>\n",
       "    </tr>\n",
       "    <tr>\n",
       "      <th>7</th>\n",
       "      <td>svc</td>\n",
       "      <td>val</td>\n",
       "      <td>[sad, calm, fearful, sad, fearful, calm, neutr...</td>\n",
       "      <td>0.600694</td>\n",
       "      <td>0.598798</td>\n",
       "      <td>0.590081</td>\n",
       "      <td>0.587499</td>\n",
       "    </tr>\n",
       "    <tr>\n",
       "      <th>8</th>\n",
       "      <td>svc_pruned</td>\n",
       "      <td>train</td>\n",
       "      <td>[disgust, fearful, neutral, sad, happy, surpri...</td>\n",
       "      <td>0.807870</td>\n",
       "      <td>0.812744</td>\n",
       "      <td>0.796130</td>\n",
       "      <td>0.800273</td>\n",
       "    </tr>\n",
       "    <tr>\n",
       "      <th>9</th>\n",
       "      <td>svc_pruned</td>\n",
       "      <td>val</td>\n",
       "      <td>[sad, calm, fearful, sad, fearful, calm, neutr...</td>\n",
       "      <td>0.600694</td>\n",
       "      <td>0.598798</td>\n",
       "      <td>0.590081</td>\n",
       "      <td>0.587499</td>\n",
       "    </tr>\n",
       "    <tr>\n",
       "      <th>10</th>\n",
       "      <td>svc_optimised</td>\n",
       "      <td>train</td>\n",
       "      <td>[angry, fearful, neutral, sad, happy, surprise...</td>\n",
       "      <td>0.973380</td>\n",
       "      <td>0.972980</td>\n",
       "      <td>0.969678</td>\n",
       "      <td>0.971168</td>\n",
       "    </tr>\n",
       "    <tr>\n",
       "      <th>11</th>\n",
       "      <td>svc_optimised</td>\n",
       "      <td>val</td>\n",
       "      <td>[sad, calm, surprised, sad, fearful, calm, neu...</td>\n",
       "      <td>0.652778</td>\n",
       "      <td>0.638996</td>\n",
       "      <td>0.631832</td>\n",
       "      <td>0.627893</td>\n",
       "    </tr>\n",
       "  </tbody>\n",
       "</table>\n",
       "</div>"
      ],
      "text/plain": [
       "                        Classifier Set type  \\\n",
       "0   dummy_classifier_most_frequent    train   \n",
       "1   dummy_classifier_most_frequent      val   \n",
       "2      dummy_classifier_stratified    train   \n",
       "3      dummy_classifier_stratified      val   \n",
       "4              logistic_regression    train   \n",
       "5              logistic_regression      val   \n",
       "6                              svc    train   \n",
       "7                              svc      val   \n",
       "8                       svc_pruned    train   \n",
       "9                       svc_pruned      val   \n",
       "10                   svc_optimised    train   \n",
       "11                   svc_optimised      val   \n",
       "\n",
       "                                          predictions  accuracy  precision  \\\n",
       "0   [calm, calm, calm, calm, calm, calm, calm, cal...  0.134259   0.891782   \n",
       "1   [calm, calm, calm, calm, calm, calm, calm, cal...  0.131944   0.891493   \n",
       "2   [fearful, disgust, surprised, calm, surprised,...  0.116898   0.112396   \n",
       "3   [angry, surprised, fearful, fearful, angry, ha...  0.145833   0.143746   \n",
       "4   [surprised, fearful, neutral, sad, surprised, ...  0.822917   0.821884   \n",
       "5   [fearful, calm, surprised, sad, sad, calm, neu...  0.586806   0.560562   \n",
       "6   [disgust, fearful, neutral, sad, happy, surpri...  0.807870   0.812744   \n",
       "7   [sad, calm, fearful, sad, fearful, calm, neutr...  0.600694   0.598798   \n",
       "8   [disgust, fearful, neutral, sad, happy, surpri...  0.807870   0.812744   \n",
       "9   [sad, calm, fearful, sad, fearful, calm, neutr...  0.600694   0.598798   \n",
       "10  [angry, fearful, neutral, sad, happy, surprise...  0.973380   0.972980   \n",
       "11  [sad, calm, surprised, sad, fearful, calm, neu...  0.652778   0.638996   \n",
       "\n",
       "      recall        F1  \n",
       "0   0.125000  0.029592  \n",
       "1   0.125000  0.029141  \n",
       "2   0.111797  0.111940  \n",
       "3   0.139845  0.140184  \n",
       "4   0.819903  0.819967  \n",
       "5   0.563343  0.559951  \n",
       "6   0.796130  0.800273  \n",
       "7   0.590081  0.587499  \n",
       "8   0.796130  0.800273  \n",
       "9   0.590081  0.587499  \n",
       "10  0.969678  0.971168  \n",
       "11  0.631832  0.627893  "
      ]
     },
     "metadata": {},
     "output_type": "display_data"
    }
   ],
   "source": [
    "post_optimisation_classifier_results_table = create_result_table(initial_classifier_results)\n",
    "display(post_optimisation_classifier_results_table)"
   ]
  },
  {
   "cell_type": "markdown",
   "metadata": {},
   "source": [
    "# Neural network section"
   ]
  },
  {
   "cell_type": "markdown",
   "metadata": {},
   "source": [
    "### Spectrogram creation"
   ]
  },
  {
   "cell_type": "code",
   "execution_count": 54,
   "metadata": {},
   "outputs": [],
   "source": [
    "# Taken from https://towardsdatascience.com/getting-to-know-the-mel-spectrogram-31bca3e2d9d0\n",
    "\n",
    "import librosa\n",
    "\n",
    "def create_mel_spectrogram_file(spectrogram, sampling_rate, hop_length, index):\n",
    "    db_spectrogram = librosa.power_to_db(spectrogram, ref=np.max)\n",
    "    librosa.display.specshow(db_spectrogram, sr=sampling_rate, hop_length=hop_length, x_axis=\"time\", y_axis=\"mel\");\n",
    "    plt.colorbar(format=\"%+2.0f dB\")\n",
    "    plt.savefig(f\"spectrograms/{index}_{emotions[index]}.png\")\n",
    "    plt.clf()\n",
    "    return spectrogram\n",
    "\n",
    "def produce_mel_spectrograms(files, hop_length=512, frameSize=2048, n_mels=128):\n",
    "    spectrograms = []\n",
    "    max_audio_length = 0\n",
    "    audio_data = []\n",
    "    \n",
    "    for file in files:\n",
    "        audio, sampling_rate = librosa.load(file)\n",
    "#         audio, _ = librosa.effects.trim(audio) # RESTORE THIS? Works better without it...?\n",
    "        max_audio_length = max(max_audio_length, audio.shape[0])\n",
    "        audio_data.append((audio, sampling_rate))\n",
    "    \n",
    "    for index, (audio, sampling_rate) in enumerate(audio_data):\n",
    "        audio = librosa.util.fix_length(audio, size=max_audio_length)\n",
    "        spectrogram = librosa.feature.melspectrogram(y=audio, sr=sampling_rate, n_fft=frameSize, hop_length=hop_length, n_mels=n_mels)\n",
    "        spectrograms.append(spectrogram)\n",
    "#         create_mel_spectrogram_file(spectrogram, sampling_rate, hop_length, index)\n",
    "\n",
    "    return np.array(spectrograms)"
   ]
  },
  {
   "cell_type": "code",
   "execution_count": 55,
   "metadata": {},
   "outputs": [],
   "source": [
    "spectrograms = produce_mel_spectrograms(files)"
   ]
  },
  {
   "cell_type": "code",
   "execution_count": 56,
   "metadata": {},
   "outputs": [
    {
     "data": {
      "text/plain": [
       "Counter({(128, 228): 1440})"
      ]
     },
     "execution_count": 56,
     "metadata": {},
     "output_type": "execute_result"
    }
   ],
   "source": [
    "Counter([s.shape for s in spectrograms])"
   ]
  },
  {
   "cell_type": "code",
   "execution_count": 79,
   "metadata": {},
   "outputs": [],
   "source": [
    "normalised_spectrograms=(spectrograms-spectrograms.mean())/spectrograms.std()"
   ]
  },
  {
   "cell_type": "code",
   "execution_count": 80,
   "metadata": {},
   "outputs": [],
   "source": [
    "spectrograms_train_and_val, spectrograms_test, temp_train_and_val, temp_test = train_test_split(normalised_spectrograms, emotions, test_size=0.2, random_state=SEED, stratify=emotions)\n",
    "spectrograms_train, spectrograms_val, temp_train, temp_val = train_test_split(spectrograms_train_and_val, temp_train_and_val, test_size=0.25, random_state=SEED, stratify=temp_train_and_val)"
   ]
  },
  {
   "cell_type": "code",
   "execution_count": 81,
   "metadata": {},
   "outputs": [],
   "source": [
    "# Adding single channel axes\n",
    "spectrograms_train = np.expand_dims(spectrograms_train, axis=1)\n",
    "spectrograms_val = np.expand_dims(spectrograms_val, axis=1)\n",
    "spectrograms_test = np.expand_dims(spectrograms_test, axis=1)"
   ]
  },
  {
   "cell_type": "code",
   "execution_count": 82,
   "metadata": {},
   "outputs": [
    {
     "name": "stdout",
     "output_type": "stream",
     "text": [
      "9118.859\n",
      "0.12489092\n"
     ]
    }
   ],
   "source": [
    "print(np.max(spectrograms))\n",
    "print(np.mean(spectrograms))"
   ]
  },
  {
   "cell_type": "code",
   "execution_count": 83,
   "metadata": {},
   "outputs": [
    {
     "data": {
      "text/plain": [
       "(864, 1, 128, 228)"
      ]
     },
     "execution_count": 83,
     "metadata": {},
     "output_type": "execute_result"
    }
   ],
   "source": [
    "spectrograms_train.shape"
   ]
  },
  {
   "cell_type": "markdown",
   "metadata": {},
   "source": [
    "### Setting up DataSet and DataLoader"
   ]
  },
  {
   "cell_type": "code",
   "execution_count": 114,
   "metadata": {},
   "outputs": [],
   "source": [
    "import torch\n",
    "import torch.nn.functional as F\n",
    "import datetime\n",
    "\n",
    "spectrograms_tensor_train = torch.from_numpy(spectrograms_train).float()\n",
    "spectrograms_tensor_val = torch.from_numpy(spectrograms_val).float()\n",
    "spectrograms_tensor_test = torch.from_numpy(spectrograms_test).float()\n",
    "\n",
    "emotions_tensor_train = torch.from_numpy(emotions_numeric_train).long()\n",
    "emotions_tensor_val = torch.from_numpy(emotions_numeric_val).long()\n",
    "emotions_tensor_test = torch.from_numpy(emotions_numeric_test).long()\n",
    "\n",
    "# emotions_tensor_train.to(device)\n",
    "# emotions_tensor_val.to(device)\n",
    "\n",
    "emotions_tensor_binary_train = torch.tensor([1 if emotion == \"positive\" else 0 for emotion in emotions_binary_train]).long()\n",
    "emotions_tensor_binary_val = torch.tensor([1 if emotion == \"positive\" else 0 for emotion in emotions_binary_val]).long()\n",
    "emotions_tensor_binary_test = torch.tensor([1 if emotion == \"positive\" else 0 for emotion in emotions_binary_test]).long()\n",
    "\n",
    "spectrogram_dimensions = spectrograms_tensor_train.size()[1:]"
   ]
  },
  {
   "cell_type": "code",
   "execution_count": 115,
   "metadata": {},
   "outputs": [
    {
     "data": {
      "text/plain": [
       "torch.Size([864, 1, 128, 228])"
      ]
     },
     "execution_count": 115,
     "metadata": {},
     "output_type": "execute_result"
    }
   ],
   "source": [
    "spectrograms_tensor_train.size()"
   ]
  },
  {
   "cell_type": "code",
   "execution_count": 116,
   "metadata": {},
   "outputs": [],
   "source": [
    "spectrogram_dataset_train = torch.utils.data.TensorDataset(spectrograms_tensor_train, emotions_tensor_train)\n",
    "spectrogram_dataset_val = torch.utils.data.TensorDataset(spectrograms_tensor_val, emotions_tensor_val)\n",
    "# spectrogram_dataset_train = torch.utils.data.TensorDataset(spectrograms_tensor_train, emotions_tensor_binary_train)\n",
    "# spectrogram_dataset_val = torch.utils.data.TensorDataset(spectrograms_tensor_val, emotions_tensor_binary_val)\n",
    "\n",
    "spectrogram_loader_val = torch.utils.data.DataLoader(spectrogram_dataset_val, batch_size=4, shuffle=True)\n",
    "spectrogram_loader_train = torch.utils.data.DataLoader(spectrogram_dataset_train, batch_size=4, shuffle=False)"
   ]
  },
  {
   "cell_type": "code",
   "execution_count": 117,
   "metadata": {},
   "outputs": [],
   "source": [
    "number_to_emotion_mapping = {int(file_name)-1: emotion for file_name, emotion in file_name_to_emotion_mapping.items()}"
   ]
  },
  {
   "cell_type": "code",
   "execution_count": 118,
   "metadata": {},
   "outputs": [
    {
     "name": "stdout",
     "output_type": "stream",
     "text": [
      "cuda:0\n"
     ]
    }
   ],
   "source": [
    "device = torch.device(\"cuda:0\" if torch.cuda.is_available() else \"cpu\")\n",
    "print(device)"
   ]
  },
  {
   "cell_type": "code",
   "execution_count": 119,
   "metadata": {},
   "outputs": [
    {
     "name": "stdout",
     "output_type": "stream",
     "text": [
      "12.1\n"
     ]
    }
   ],
   "source": [
    "print(torch.version.cuda)"
   ]
  },
  {
   "cell_type": "markdown",
   "metadata": {},
   "source": [
    "### Multi Layered Perceptron"
   ]
  },
  {
   "cell_type": "markdown",
   "metadata": {},
   "source": [
    "##### Spectrograms as input"
   ]
  },
  {
   "cell_type": "code",
   "execution_count": 120,
   "metadata": {},
   "outputs": [],
   "source": [
    "class PerceptronSpectrogramModel(torch.nn.Module):\n",
    "\n",
    "    def __init__(self):\n",
    "        super(PerceptronSpectrogramModel, self).__init__()\n",
    "        \n",
    "        self.linear1 = torch.nn.Linear(np.prod(spectrogram_dimensions), 200)\n",
    "        self.activation = torch.nn.ReLU()\n",
    "        self.linear2 = torch.nn.Linear(200, 8)\n",
    "\n",
    "    def forward(self, x):\n",
    "        x = torch.flatten(x, 1)\n",
    "        x = self.linear1(x)\n",
    "        x = self.activation(x)\n",
    "        x = self.linear2(x)\n",
    "        return x"
   ]
  },
  {
   "cell_type": "markdown",
   "metadata": {},
   "source": [
    "### Convolutional Neural Network"
   ]
  },
  {
   "cell_type": "code",
   "execution_count": 121,
   "metadata": {},
   "outputs": [
    {
     "name": "stdout",
     "output_type": "stream",
     "text": [
      "[  1 128 228]\n",
      "[ 1 29 54]\n",
      "1566\n"
     ]
    }
   ],
   "source": [
    "convoluted_dimensions = np.array(spectrogram_dimensions)\n",
    "print(convoluted_dimensions)\n",
    "convoluted_dimensions -= (3 - 1)\n",
    "convoluted_dimensions -= (3 - 1)\n",
    "convoluted_dimensions //= 2\n",
    "convoluted_dimensions -= (3 - 1)\n",
    "convoluted_dimensions -= (3 - 1)\n",
    "convoluted_dimensions //= 2\n",
    "convoluted_dimensions[0] = 1\n",
    "print(convoluted_dimensions)\n",
    "print(np.prod(convoluted_dimensions))"
   ]
  },
  {
   "cell_type": "code",
   "execution_count": 129,
   "metadata": {},
   "outputs": [],
   "source": [
    "class CNN(torch.nn.Module):\n",
    "\n",
    "    def __init__(self):\n",
    "        super(CNN, self).__init__()\n",
    "        self.conv1 = torch.nn.Conv2d(1, 4, 3)\n",
    "        self.conv2 = torch.nn.Conv2d(4, 8, 3)\n",
    "        self.conv3 = torch.nn.Conv2d(8, 16, 3)\n",
    "        self.conv4 = torch.nn.Conv2d(16, 32, 3)\n",
    "        self.fc1 = torch.nn.Linear(32 * np.prod(convoluted_dimensions), 128)\n",
    "        self.fc2 = torch.nn.Linear(128, 8)\n",
    "\n",
    "    def forward(self, x):\n",
    "        x = F.relu(self.conv1(x))\n",
    "        x = F.max_pool2d(F.relu(self.conv2(x)), 2)\n",
    "        x = F.relu(self.conv3(x))\n",
    "        x = F.max_pool2d(F.relu(self.conv4(x)), 2)\n",
    "        \n",
    "        x = x.view(-1, self.num_flat_features(x))\n",
    "        x = F.relu(self.fc1(x))\n",
    "        x = self.fc2(x)\n",
    "        return x\n",
    "\n",
    "    def num_flat_features(self, x):\n",
    "        size = x.size()[1:]\n",
    "        num_features = 1\n",
    "        for s in size:\n",
    "            num_features *= s\n",
    "        return num_features"
   ]
  },
  {
   "cell_type": "markdown",
   "metadata": {},
   "source": [
    "### Neural network training"
   ]
  },
  {
   "cell_type": "code",
   "execution_count": 130,
   "metadata": {},
   "outputs": [
    {
     "data": {
      "text/plain": [
       "<bound method Module.parameters of CNN(\n",
       "  (conv1): Conv2d(1, 4, kernel_size=(3, 3), stride=(1, 1))\n",
       "  (conv2): Conv2d(4, 8, kernel_size=(3, 3), stride=(1, 1))\n",
       "  (conv3): Conv2d(8, 16, kernel_size=(3, 3), stride=(1, 1))\n",
       "  (conv4): Conv2d(16, 32, kernel_size=(3, 3), stride=(1, 1))\n",
       "  (fc1): Linear(in_features=50112, out_features=128, bias=True)\n",
       "  (fc2): Linear(in_features=128, out_features=8, bias=True)\n",
       ")>"
      ]
     },
     "execution_count": 130,
     "metadata": {},
     "output_type": "execute_result"
    }
   ],
   "source": [
    "# model = PerceptronSpectrogramModel()\n",
    "model = CNN()\n",
    "# model.to(device)\n",
    "model.parameters"
   ]
  },
  {
   "cell_type": "code",
   "execution_count": 131,
   "metadata": {},
   "outputs": [],
   "source": [
    "loss_fn = torch.nn.CrossEntropyLoss()\n",
    "\n",
    "# Optimizers specified in the torch.optim package\n",
    "optimizer = torch.optim.Adam(model.parameters(), lr=0.0005)"
   ]
  },
  {
   "cell_type": "code",
   "execution_count": 132,
   "metadata": {},
   "outputs": [],
   "source": [
    "def train_one_epoch(epoch_index, tb_writer):\n",
    "    running_loss = 0.\n",
    "    last_loss = 0.\n",
    "    running_accuracy = 0.\n",
    "    last_accuracy = 0.\n",
    "\n",
    "    # Here, we use enumerate(training_loader) instead of\n",
    "    # iter(training_loader) so that we can track the batch\n",
    "    # index and do some intra-epoch reporting\n",
    "    for i, data in enumerate(spectrogram_loader_train):\n",
    "        # Every data instance is an input + label pair\n",
    "        inputs, labels = data\n",
    "\n",
    "        # Zero your gradients for every batch!\n",
    "        optimizer.zero_grad()\n",
    "\n",
    "        # Make predictions for this batch\n",
    "        outputs = model(inputs)\n",
    "\n",
    "        # Compute the loss and its gradients\n",
    "        loss = loss_fn(outputs, labels)\n",
    "        loss.backward()\n",
    "        \n",
    "        output_predictions = torch.nn.Softmax(dim=1)(outputs).argmax(1)        \n",
    "        accuracy = torch.sum(output_predictions == labels) / len(labels)\n",
    "\n",
    "        # Adjust learning weights\n",
    "        optimizer.step()\n",
    "\n",
    "        # Gather data and report\n",
    "        running_loss += loss.item()\n",
    "        running_accuracy += accuracy\n",
    "        if i % 32 == 31:\n",
    "            last_loss = running_loss / 32 # loss per batch\n",
    "            last_accuracy = running_accuracy / 32 # accuracy per batch\n",
    "#             print(f\"  batch {i + 1} loss: {last_loss:.4f} acc: {last_accuracy:.4f}\")\n",
    "# #             tb_x = epoch_index * len(training_loader) + i + 1\n",
    "# #             tb_writer.add_scalar('Loss/train', last_loss, tb_x)\n",
    "            running_loss = 0.\n",
    "            running_accuracy = 0.\n",
    "        elif i == len(spectrogram_loader_train)-1:\n",
    "            last_loss = running_loss / (len(spectrogram_loader_train) % 32) # loss per batch\n",
    "            last_accuracy = running_accuracy / (len(spectrogram_loader_train) % 32) # accuracy per batch\n",
    "#             print(f\"  batch {i + 1} loss: {last_loss:.4f} acc: {last_accuracy:.4f}\")\n",
    "# #             tb_x = epoch_index * len(training_loader) + i + 1\n",
    "# #             tb_writer.add_scalar('Loss/train', last_loss, tb_x)\n",
    "            running_loss = 0.\n",
    "            running_accuracy = 0.\n",
    "\n",
    "    return last_loss, last_accuracy"
   ]
  },
  {
   "cell_type": "code",
   "execution_count": 133,
   "metadata": {
    "scrolled": false
   },
   "outputs": [
    {
     "name": "stdout",
     "output_type": "stream",
     "text": [
      "EPOCH 1:\n",
      "\t LOSS train 1.7972 valid 1.8347 \t\t ACC train 0.2917 valid 0.2882\n",
      "EPOCH 2:\n",
      "\t LOSS train 1.6745 valid 1.7592 \t\t ACC train 0.4167 valid 0.3472\n",
      "EPOCH 3:\n",
      "\t LOSS train 1.4912 valid 1.7539 \t\t ACC train 0.5104 valid 0.3542\n",
      "EPOCH 4:\n",
      "\t LOSS train 1.4496 valid 1.7903 \t\t ACC train 0.5417 valid 0.3681\n",
      "EPOCH 5:\n",
      "\t LOSS train 1.2319 valid 2.4024 \t\t ACC train 0.5833 valid 0.4132\n",
      "EPOCH 6:\n",
      "\t LOSS train 1.3963 valid 3.1035 \t\t ACC train 0.5938 valid 0.3542\n",
      "EPOCH 7:\n",
      "\t LOSS train 1.0840 valid 2.7913 \t\t ACC train 0.6562 valid 0.4097\n",
      "EPOCH 8:\n",
      "\t LOSS train 0.9868 valid 3.3157 \t\t ACC train 0.6667 valid 0.3854\n",
      "EPOCH 9:\n",
      "\t LOSS train 0.9742 valid 3.3564 \t\t ACC train 0.6979 valid 0.3889\n",
      "EPOCH 10:\n",
      "\t LOSS train 0.9997 valid 2.6639 \t\t ACC train 0.6458 valid 0.3958\n",
      "EPOCH 11:\n",
      "\t LOSS train 0.7838 valid 4.2047 \t\t ACC train 0.7083 valid 0.4062\n",
      "EPOCH 12:\n",
      "\t LOSS train 0.6988 valid 5.2359 \t\t ACC train 0.7500 valid 0.3819\n",
      "EPOCH 13:\n",
      "\t LOSS train 0.6208 valid 6.6794 \t\t ACC train 0.7500 valid 0.4132\n",
      "EPOCH 14:\n",
      "\t LOSS train 0.6569 valid 5.2113 \t\t ACC train 0.8125 valid 0.3750\n",
      "EPOCH 15:\n",
      "\t LOSS train 1.0631 valid 5.2803 \t\t ACC train 0.7292 valid 0.4271\n",
      "EPOCH 16:\n",
      "\t LOSS train 0.6370 valid 5.0310 \t\t ACC train 0.8125 valid 0.4236\n",
      "EPOCH 17:\n",
      "\t LOSS train 0.5326 valid 6.2735 \t\t ACC train 0.8229 valid 0.3854\n",
      "EPOCH 18:\n",
      "\t LOSS train 0.5146 valid 7.5432 \t\t ACC train 0.8125 valid 0.4097\n",
      "EPOCH 19:\n",
      "\t LOSS train 0.4481 valid 8.6847 \t\t ACC train 0.8333 valid 0.3785\n",
      "EPOCH 20:\n",
      "\t LOSS train 0.4175 valid 10.3059 \t\t ACC train 0.8542 valid 0.3958\n"
     ]
    }
   ],
   "source": [
    "# Initializing in a separate cell so we can easily add more epochs to the same run\n",
    "timestamp = datetime.datetime.now().strftime('%Y%m%d_%H%M%S')\n",
    "# writer = SummaryWriter('runs/cnn_trainer_{}'.format(timestamp))\n",
    "epoch_number = 0\n",
    "\n",
    "EPOCHS = 20\n",
    "\n",
    "best_vloss = 1_000_000.\n",
    "\n",
    "for epoch in range(EPOCHS):\n",
    "    print(f\"EPOCH {epoch_number + 1}:\")\n",
    "\n",
    "    # Make sure gradient tracking is on, and do a pass over the data\n",
    "    model.train(True)\n",
    "    avg_loss, avg_accuracy = train_one_epoch(epoch_number, None) #     avg_loss = train_one_epoch(epoch_number, writer)\n",
    "\n",
    "\n",
    "    running_vloss = 0.0\n",
    "    running_vaccuracy = 0.0\n",
    "    # Set the model to evaluation mode, disabling dropout and using population\n",
    "    # statistics for batch normalization.\n",
    "    model.eval()\n",
    "\n",
    "    # Disable gradient computation and reduce memory consumption.\n",
    "    with torch.no_grad():\n",
    "        for i, vdata in enumerate(spectrogram_loader_val):\n",
    "            vinputs, vlabels = vdata\n",
    "            voutputs = model(vinputs)\n",
    "            vloss = loss_fn(voutputs, vlabels)\n",
    "            running_vloss += vloss\n",
    "            \n",
    "            voutput_predictions = torch.nn.Softmax(dim=1)(voutputs).argmax(1)        \n",
    "            vaccuracy = torch.sum(voutput_predictions == vlabels) / len(vlabels)\n",
    "            running_vaccuracy += vaccuracy\n",
    "\n",
    "    avg_vloss = running_vloss / (i + 1)\n",
    "    avg_vaccuracy = running_vaccuracy / (i + 1)\n",
    "    print(f\"\\t LOSS train {avg_loss:.4f} valid {avg_vloss:.4f} \\t\\t ACC train {avg_accuracy:.4f} valid {avg_vaccuracy:.4f}\")\n",
    "\n",
    "#     # Log the running loss averaged per batch\n",
    "#     # for both training and validation\n",
    "#     writer.add_scalars('Training vs. Validation Loss',\n",
    "#                     { 'Training' : avg_loss, 'Validation' : avg_vloss },\n",
    "#                     epoch_number + 1)\n",
    "#     writer.flush()\n",
    "\n",
    "    # Track best performance, and save the model's state\n",
    "    if avg_vloss < best_vloss:\n",
    "        best_vloss = avg_vloss\n",
    "        model_path = f\"model_checkpoints/model_{timestamp}_{epoch}\"\n",
    "#         torch.save(model.state_dict(), model_path)\n",
    "\n",
    "    epoch_number += 1"
   ]
  },
  {
   "cell_type": "code",
   "execution_count": 134,
   "metadata": {},
   "outputs": [],
   "source": [
    "validation_outputs = model(spectrograms_tensor_val)\n",
    "validation_output_predictions = torch.nn.Softmax(dim=1)(validation_outputs).argmax(1)\n",
    "validation_output_emotions = np.array([number_to_emotion_mapping[value] for value in validation_output_predictions.numpy()])"
   ]
  },
  {
   "cell_type": "code",
   "execution_count": 135,
   "metadata": {
    "scrolled": false
   },
   "outputs": [
    {
     "data": {
      "image/png": "[encoded data removed]",
      "text/plain": [
       "<Figure size 640x480 with 2 Axes>"
      ]
     },
     "metadata": {},
     "output_type": "display_data"
    }
   ],
   "source": [
    "metrics.ConfusionMatrixDisplay.from_predictions(emotions_val, validation_output_emotions)\n",
    "plt.show()"
   ]
  },
  {
   "cell_type": "code",
   "execution_count": null,
   "metadata": {},
   "outputs": [],
   "source": []
  },
  {
   "cell_type": "code",
   "execution_count": null,
   "metadata": {},
   "outputs": [],
   "source": []
  },
  {
   "cell_type": "code",
   "execution_count": null,
   "metadata": {},
   "outputs": [],
   "source": []
  },
  {
   "cell_type": "code",
   "execution_count": null,
   "metadata": {},
   "outputs": [],
   "source": []
  },
  {
   "cell_type": "code",
   "execution_count": null,
   "metadata": {},
   "outputs": [],
   "source": []
  },
  {
   "cell_type": "code",
   "execution_count": null,
   "metadata": {},
   "outputs": [],
   "source": []
  },
  {
   "cell_type": "code",
   "execution_count": null,
   "metadata": {},
   "outputs": [],
   "source": []
  },
  {
   "cell_type": "code",
   "execution_count": null,
   "metadata": {},
   "outputs": [],
   "source": []
  },
  {
   "cell_type": "code",
   "execution_count": null,
   "metadata": {},
   "outputs": [],
   "source": [
    "# import json\n",
    "\n",
    "# # modified_analysis_by_endings = {k: {\"features\": v[\"features\"], \"final_data_frame\": v[\"final_data_frame\"].to_json(), \"removed_features\": v[\"removed_features\"]} for k,v in analysis_by_endings}\n",
    "\n",
    "# modified_analysis_by_endings = {}\n",
    "\n",
    "# for k,v in analysis_by_endings.items():\n",
    "# #     if \"features\" in v.keys():\n",
    "# #         modified_analysis_by_endings[k] = v[\"features\"]\n",
    "# #     if \"final_data_frame\" in v.keys():\n",
    "# #         modified_analysis_by_endings[k] = v[\"final_data_frame\"].to_json()\n",
    "#     if \"removed_features\" in v.keys():\n",
    "#         modified_analysis_by_endings[k] = v[\"removed_features\"]\n",
    "\n",
    "\n",
    "# # for data in modified_analysis_by_endings.values():\n",
    "# #     print(data)\n",
    "# # #     data[\"final_data_frame\"] = data[\"final_data_frame\"].to_json()\n",
    "\n",
    "# # print(modified_analysis_by_endings.keys())\n",
    "# # print(modified_analysis_by_endings[\"range\"])\n",
    "\n",
    "\n",
    "\n"
   ]
  },
  {
   "cell_type": "code",
   "execution_count": null,
   "metadata": {},
   "outputs": [],
   "source": [
    "# with open('results.json', 'w') as fp:\n",
    "#     json.dump(modified_analysis_by_endings, fp)"
   ]
  },
  {
   "cell_type": "markdown",
   "metadata": {},
   "source": [
    "### ––––––––––––––––––––––––––"
   ]
  },
  {
   "cell_type": "code",
   "execution_count": null,
   "metadata": {},
   "outputs": [],
   "source": [
    "# display(removed_features)"
   ]
  },
  {
   "cell_type": "code",
   "execution_count": null,
   "metadata": {},
   "outputs": [],
   "source": [
    "# display(len(speeches_train_copy.columns))"
   ]
  },
  {
   "cell_type": "code",
   "execution_count": null,
   "metadata": {
    "scrolled": true
   },
   "outputs": [],
   "source": [
    "# feature_f1_comparison = {\"BASELINE\": initial_classifier_results[\"svc\"][\"val\"][\"F1\"]} | {feature: [feature_result[\"val\"][\"F1\"]] for feature, feature_result in feature_optimisation_results.items()}\n",
    "\n",
    "# f1_comparison_data_frame = pd.DataFrame.from_dict(feature_f1_comparison)\n",
    "\n",
    "# f1_comparison_data_frame.to_csv(\"F1 scores.csv\")\n",
    "\n",
    "# display(f1_comparison_data_frame)"
   ]
  },
  {
   "cell_type": "markdown",
   "metadata": {},
   "source": [
    "### ––––––––––––––––––––––––––"
   ]
  },
  {
   "cell_type": "code",
   "execution_count": null,
   "metadata": {},
   "outputs": [],
   "source": [
    "# all_removed_features = [removed_feature[0] for removed_list in modified_analysis_by_endings.values() for removed_feature in removed_list]\n",
    "# all_removed_parents = [feature.rpartition(\"_\")[0] for feature in all_removed_features]"
   ]
  },
  {
   "cell_type": "code",
   "execution_count": null,
   "metadata": {
    "scrolled": true
   },
   "outputs": [],
   "source": [
    "# Counter(all_removed_parents)"
   ]
  },
  {
   "cell_type": "code",
   "execution_count": null,
   "metadata": {},
   "outputs": [],
   "source": [
    "# Counter(all_removed_parents).most_common(20)"
   ]
  },
  {
   "cell_type": "markdown",
   "metadata": {},
   "source": [
    "##### Model with removed features"
   ]
  },
  {
   "cell_type": "code",
   "execution_count": null,
   "metadata": {},
   "outputs": [],
   "source": [
    "# results_file_name = \"results.json\"\n",
    "\n",
    "# with open(results_file_name, \"r\") as f:\n",
    "#     results_from_json = json.load(f)"
   ]
  },
  {
   "cell_type": "code",
   "execution_count": null,
   "metadata": {},
   "outputs": [],
   "source": [
    "# concatenated_results = []\n",
    "# removed_feature_name_stems = []\n",
    "\n",
    "# for ending_results in results_from_json.values():\n",
    "#     for results_row in ending_results:\n",
    "#         concatenated_results.append(results_row)\n",
    "#         removed_feature_name_stems.append(results_row[0].rpartition(\"_\")[0])\n",
    "        \n",
    "# # # Strings don't work in np...\n",
    "# # concatenated_results = np.array([])\n",
    "\n",
    "# # for ending_results in results_from_json.values():\n",
    "# #     for results_row in ending_results:\n",
    "# #         np.concatenate(concatenated_results, np.array(results_row))"
   ]
  },
  {
   "cell_type": "code",
   "execution_count": null,
   "metadata": {},
   "outputs": [],
   "source": [
    "# Counter(removed_feature_name_stems)"
   ]
  },
  {
   "cell_type": "code",
   "execution_count": null,
   "metadata": {},
   "outputs": [],
   "source": [
    "# min_threshold = 5\n",
    "# often_removed_stems = {}\n",
    "\n",
    "# for stem, count in Counter(removed_feature_name_stems).items():\n",
    "#     if count >= min_threshold:\n",
    "#         often_removed_stems[stem] = count"
   ]
  },
  {
   "cell_type": "code",
   "execution_count": null,
   "metadata": {},
   "outputs": [],
   "source": [
    "# often_removed_stems"
   ]
  },
  {
   "cell_type": "code",
   "execution_count": null,
   "metadata": {},
   "outputs": [],
   "source": [
    "# pruned_feature_set = []\n",
    "\n",
    "# for feature in speeches.columns:\n",
    "#     feature_stem = feature.rpartition(\"_\")[0]\n",
    "#     if feature_stem in often_removed_stems:\n",
    "#         pruned_feature_set.append(feature)"
   ]
  },
  {
   "cell_type": "code",
   "execution_count": null,
   "metadata": {},
   "outputs": [],
   "source": [
    "# # Use percentages rather than absolute values?\n",
    "\n",
    "# print(f\"Frequency threshold to prune a feature: {min_threshold}\")\n",
    "# print(f\"Original feature count: {len(speeches.columns)}\")\n",
    "# print(f\"Post-prunation count: {len(pruned_feature_set)}\")\n",
    "# print(f\"Pruned features: {len(speeches.columns) - len(pruned_feature_set)}\")\n",
    "# print(f\"Post-prunation count: {len(often_removed_stems)}\")"
   ]
  },
  {
   "cell_type": "code",
   "execution_count": null,
   "metadata": {
    "scrolled": false
   },
   "outputs": [],
   "source": [
    "# post_prunation_results = {}\n",
    "# most_frequent_removal_count = max(Counter(removed_feature_name_stems).values())\n",
    "\n",
    "# for min_threshold in range(most_frequent_removal_count + 1):\n",
    "#     often_removed_stems = {}\n",
    "#     pruned_feature_set = []\n",
    "\n",
    "#     for stem, count in Counter(removed_feature_name_stems).items():\n",
    "#         if count >= min_threshold:\n",
    "#             often_removed_stems[stem] = count\n",
    "\n",
    "#     for feature in speeches.columns:\n",
    "#         feature_stem = feature.rpartition(\"_\")[0]\n",
    "#         if feature_stem in often_removed_stems:\n",
    "#             pruned_feature_set.append(feature)\n",
    "\n",
    "#     multi_class_pruned_parameters = (speeches_train[pruned_feature_set], speeches_val[pruned_feature_set], emotions_train, emotions_val, set(emotions))\n",
    "\n",
    "#     post_prunation_results[f\"logistic_regression_{min_threshold}\"] = fit_predict_and_score_classifier(logistic_regression, *multi_class_pruned_parameters)\n",
    "#     post_prunation_results[f\"svc_{min_threshold}\"] = fit_predict_and_score_classifier(svc, *multi_class_pruned_parameters)\n",
    "\n",
    "# post_prunation_results_table = create_result_table(post_prunation_results)"
   ]
  },
  {
   "cell_type": "code",
   "execution_count": null,
   "metadata": {},
   "outputs": [],
   "source": [
    "# display(post_prunation_results_table)\n",
    "# # display(post_prunation_results_table[post_prunation_results_table[\"Set type\"]==\"val\"])"
   ]
  },
  {
   "cell_type": "code",
   "execution_count": null,
   "metadata": {},
   "outputs": [],
   "source": []
  },
  {
   "cell_type": "code",
   "execution_count": null,
   "metadata": {},
   "outputs": [],
   "source": []
  },
  {
   "cell_type": "code",
   "execution_count": null,
   "metadata": {},
   "outputs": [],
   "source": []
  },
  {
   "cell_type": "code",
   "execution_count": null,
   "metadata": {},
   "outputs": [],
   "source": []
  },
  {
   "cell_type": "code",
   "execution_count": null,
   "metadata": {},
   "outputs": [],
   "source": []
  },
  {
   "cell_type": "code",
   "execution_count": null,
   "metadata": {},
   "outputs": [],
   "source": []
  },
  {
   "cell_type": "code",
   "execution_count": null,
   "metadata": {},
   "outputs": [],
   "source": []
  },
  {
   "cell_type": "code",
   "execution_count": null,
   "metadata": {},
   "outputs": [],
   "source": []
  },
  {
   "cell_type": "code",
   "execution_count": null,
   "metadata": {},
   "outputs": [],
   "source": []
  }
 ],
 "metadata": {
  "accelerator": "GPU",
  "colab": {
   "collapsed_sections": [
    "89Q5h1M-iGtX",
    "AB0Y6xS17Tj3",
    "aikqCd3d7b6d",
    "GTMFgODnbDsI",
    "I9mj2L3jiGtl",
    "foKQaWCiUpRh",
    "gVSMGXRVz0Mn",
    "RgQbyZBBb5mm",
    "vJPQreO0cByU",
    "d8eXs9T1fGFe",
    "Dt8wYLwhkUPl",
    "GxOlNT22khAD",
    "dMxfsKiXAicT"
   ],
   "provenance": [],
   "toc_visible": true
  },
  "gpuClass": "standard",
  "kernelspec": {
   "display_name": "Python 3 (ipykernel)",
   "language": "python",
   "name": "python3"
  },
  "language_info": {
   "codemirror_mode": {
    "name": "ipython",
    "version": 3
   },
   "file_extension": ".py",
   "mimetype": "text/x-python",
   "name": "python",
   "nbconvert_exporter": "python",
   "pygments_lexer": "ipython3",
   "version": "3.10.9"
  }
 },
 "nbformat": 4,
 "nbformat_minor": 1
}
