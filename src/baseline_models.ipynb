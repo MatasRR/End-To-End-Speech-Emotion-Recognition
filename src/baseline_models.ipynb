{
 "cells": [
  {
   "cell_type": "markdown",
   "metadata": {
    "id": "89Q5h1M-iGtX"
   },
   "source": [
    "# Data preparation section"
   ]
  },
  {
   "cell_type": "code",
   "execution_count": 1,
   "metadata": {},
   "outputs": [
    {
     "data": {
      "text/html": [
       "<style>.container { width:95% !important; }</style>"
      ],
      "text/plain": [
       "<IPython.core.display.HTML object>"
      ]
     },
     "metadata": {},
     "output_type": "display_data"
    }
   ],
   "source": [
    "from IPython.display import display, HTML\n",
    "display(HTML(\"<style>.container { width:95% !important; }</style>\"))"
   ]
  },
  {
   "cell_type": "code",
   "execution_count": 2,
   "metadata": {
    "code_folding": [],
    "scrolled": false
   },
   "outputs": [],
   "source": [
    "# installed_packages = [\n",
    "#     \"opensmile\",\n",
    "#     \"librosa\",\n",
    "#     \"google\",\n",
    "#     \"treelib\",\n",
    "#     \"graphviz\",\n",
    "#     \"tensorflow\",\n",
    "# ]\n",
    "\n",
    "# for package in installed_packages:\n",
    "#     !pip install {package}"
   ]
  },
  {
   "cell_type": "code",
   "execution_count": 76,
   "metadata": {},
   "outputs": [],
   "source": [
    "import numpy as np\n",
    "import pandas as pd\n",
    "import json\n",
    "import math\n",
    "import random\n",
    "import matplotlib.pyplot as plt"
   ]
  },
  {
   "cell_type": "code",
   "execution_count": 4,
   "metadata": {
    "id": "4pIIqhuk6Wdm"
   },
   "outputs": [],
   "source": [
    "import opensmile\n",
    "\n",
    "smile = opensmile.Smile(\n",
    "#     feature_set=opensmile.FeatureSet.ComParE_2016,\n",
    "    feature_set=opensmile.FeatureSet.eGeMAPSv02,\n",
    "#     feature_set=opensmile.FeatureSet.GeMAPSv01b,\n",
    "    feature_level=opensmile.FeatureLevel.Functionals,\n",
    ")\n"
   ]
  },
  {
   "cell_type": "code",
   "execution_count": 5,
   "metadata": {
    "colab": {
     "base_uri": "https://localhost:8080/",
     "height": 424
    },
    "id": "9CnuzfCN6kxa",
    "outputId": "9c44bd5d-78f4-4762-d13f-fed963850c37"
   },
   "outputs": [],
   "source": [
    "import glob\n",
    "\n",
    "try:\n",
    "    files = glob.glob(\"../data/raw/RAVDESS/*/*.wav\")\n",
    "except:\n",
    "    from google.colab import drive\n",
    "    drive.mount('/content/gdrive')\n",
    "    files = glob.glob(\"/content/gdrive/MyDrive/Colab Notebooks/IP/data/RAVDESS/*/*.wav\")"
   ]
  },
  {
   "cell_type": "code",
   "execution_count": 6,
   "metadata": {},
   "outputs": [],
   "source": [
    "file_name_to_emotion_mapping = {\n",
    "    \"01\": \"neutral\",\n",
    "    \"02\": \"calm\",\n",
    "    \"03\": \"happy\",\n",
    "    \"04\": \"sad\",\n",
    "    \"05\": \"angry\",\n",
    "    \"06\": \"fearful\",\n",
    "    \"07\": \"disgust\",\n",
    "    \"08\": \"surprised\",\n",
    "}"
   ]
  },
  {
   "cell_type": "code",
   "execution_count": 7,
   "metadata": {},
   "outputs": [],
   "source": [
    "emotion_to_positivity_mapping = {\n",
    "    \"neutral\": \"positive\",\n",
    "    \"calm\": \"positive\",\n",
    "    \"happy\": \"positive\",\n",
    "    \"sad\": \"negative\",\n",
    "    \"angry\": \"negative\",\n",
    "    \"fearful\": \"negative\",\n",
    "    \"disgust\": \"negative\",\n",
    "    \"surprised\": \"positive\",\n",
    "}"
   ]
  },
  {
   "cell_type": "code",
   "execution_count": 9,
   "metadata": {},
   "outputs": [],
   "source": [
    "SEED = 42"
   ]
  },
  {
   "cell_type": "markdown",
   "metadata": {},
   "source": [
    "##### Data reading and normalisation"
   ]
  },
  {
   "cell_type": "code",
   "execution_count": 10,
   "metadata": {},
   "outputs": [],
   "source": [
    "speech_data = smile.process_files(files)"
   ]
  },
  {
   "cell_type": "code",
   "execution_count": 11,
   "metadata": {},
   "outputs": [],
   "source": [
    "normalised_speech_data=(speech_data-speech_data.mean())/speech_data.std()\n",
    "normalised_speech_data.dropna(axis='columns', inplace=True)"
   ]
  },
  {
   "cell_type": "code",
   "execution_count": 12,
   "metadata": {},
   "outputs": [],
   "source": [
    "emotion_labels = [file_name_to_emotion_mapping[file.split(\"-\")[-5]] for file in files]"
   ]
  },
  {
   "cell_type": "markdown",
   "metadata": {
    "id": "aikqCd3d7b6d"
   },
   "source": [
    "##### Splitting the data into training, validation and test sets"
   ]
  },
  {
   "cell_type": "code",
   "execution_count": 13,
   "metadata": {},
   "outputs": [],
   "source": [
    "from sklearn.model_selection import train_test_split\n",
    "\n",
    "def perform_3_way_split(data, labels, split, seed=42):\n",
    "    assert np.sum(split) == 100, \"Split must be a 3-tuple with sum of 100\"\n",
    "    train, val, test = (num/100 for num in split)\n",
    "    \n",
    "    data_train_and_val, data_test, labels_train_and_val, labels_test = train_test_split(data, labels, test_size=test, random_state=seed, stratify=labels)\n",
    "    data_train, data_val, labels_train, labels_val = train_test_split(data_train_and_val, labels_train_and_val, test_size=val/(train+val), random_state=seed, stratify=labels_train_and_val)\n",
    "    return (data_train, data_val, data_test), (labels_train, labels_val, labels_test)"
   ]
  },
  {
   "cell_type": "code",
   "execution_count": 14,
   "metadata": {
    "id": "3Wow_Uwc7qN9"
   },
   "outputs": [],
   "source": [
    "speeches = normalised_speech_data\n",
    "emotions = emotion_labels\n",
    "\n",
    "speeches_split, emotions_split = perform_3_way_split(speeches, emotions, (80,10,10), SEED)\n",
    "speeches_train, speeches_val, speeches_test = speeches_split\n",
    "emotions_train, emotions_val, emotions_test = emotions_split"
   ]
  },
  {
   "cell_type": "code",
   "execution_count": 15,
   "metadata": {},
   "outputs": [],
   "source": [
    "emotions_binary_train = np.array([emotion_to_positivity_mapping[emotion] for emotion in emotions_train])\n",
    "emotions_binary_val = np.array([emotion_to_positivity_mapping[emotion] for emotion in emotions_val])\n",
    "emotions_binary_test = np.array([emotion_to_positivity_mapping[emotion] for emotion in emotions_test])"
   ]
  },
  {
   "cell_type": "code",
   "execution_count": 16,
   "metadata": {
    "code_folding": [],
    "id": "d7I594NDkO6c"
   },
   "outputs": [],
   "source": [
    "# Pandas dataframes keep the old indexing after sampling, but I need it to be sequential, thus, a reset for the index\n",
    "speeches_train.reset_index(drop=True, inplace=True)\n",
    "speeches_val.reset_index(drop=True, inplace=True)\n",
    "speeches_test.reset_index(drop=True, inplace=True)"
   ]
  },
  {
   "cell_type": "code",
   "execution_count": 17,
   "metadata": {
    "colab": {
     "base_uri": "https://localhost:8080/"
    },
    "id": "mA9wf8eWZpm3",
    "outputId": "a28d0b18-7bd9-40a3-c17c-faa92c2d84e6"
   },
   "outputs": [
    {
     "name": "stdout",
     "output_type": "stream",
     "text": [
      "len(speeches_train)=1152\t\tlen(emotions_train)=1152\n",
      "len(speeches_val)=144\t\tlen(emotions_val)=144\n",
      "len(speeches_test)=144\t\tlen(emotions_test)=144\n",
      "Counter(emotions_train)=Counter({'angry': 154, 'happy': 154, 'calm': 154, 'sad': 154, 'disgust': 154, 'surprised': 153, 'fearful': 153, 'neutral': 76})\n",
      "Counter(emotions_val)=Counter({'fearful': 20, 'calm': 19, 'happy': 19, 'angry': 19, 'sad': 19, 'surprised': 19, 'disgust': 19, 'neutral': 10})\n",
      "Counter(emotions_test)=Counter({'surprised': 20, 'disgust': 19, 'angry': 19, 'fearful': 19, 'calm': 19, 'sad': 19, 'happy': 19, 'neutral': 10})\n"
     ]
    }
   ],
   "source": [
    "from collections import Counter\n",
    "\n",
    "print(f\"{len(speeches_train)=}\\t\\t{len(emotions_train)=}\")\n",
    "print(f\"{len(speeches_val)=}\\t\\t{len(emotions_val)=}\")\n",
    "print(f\"{len(speeches_test)=}\\t\\t{len(emotions_test)=}\")\n",
    "\n",
    "print(f\"{Counter(emotions_train)=}\")\n",
    "print(f\"{Counter(emotions_val)=}\")\n",
    "print(f\"{Counter(emotions_test)=}\")"
   ]
  },
  {
   "cell_type": "markdown",
   "metadata": {
    "id": "dGXOYkvAbuT1"
   },
   "source": [
    "# Classifier comparison section"
   ]
  },
  {
   "cell_type": "markdown",
   "metadata": {
    "id": "RgQbyZBBb5mm"
   },
   "source": [
    "### Building classifiers"
   ]
  },
  {
   "cell_type": "code",
   "execution_count": null,
   "metadata": {
    "id": "fe_knPbbb-vF"
   },
   "outputs": [],
   "source": [
    "from locale import Error\n",
    "from sklearn.dummy import DummyClassifier\n",
    "from sklearn.linear_model import LogisticRegression\n",
    "from sklearn.svm import SVC\n",
    "from sklearn import metrics\n",
    "\n",
    "def fit_predict_and_score_classifier(classifier, data_train, data_val, labels_train, labels_val, label_set):\n",
    "    classifier.fit(data_train, labels_train)\n",
    "    results = {\"train\": {}, \"val\": {}}\n",
    "    \n",
    "    for set_type in [\"train\", \"val\"]:\n",
    "        if set_type == \"train\":\n",
    "            data = data_train\n",
    "            labels = labels_train\n",
    "        elif set_type == \"val\":\n",
    "            data = data_val\n",
    "            labels = labels_val\n",
    "        else:\n",
    "            raise Error(\"Undefined data set type\")\n",
    "\n",
    "        labels_predicted = classifier.predict(data)\n",
    "\n",
    "        results[set_type][\"predictions\"] = labels_predicted\n",
    "        results[set_type][\"accuracy\"] = metrics.accuracy_score(labels, labels_predicted)\n",
    "        results[set_type][\"precision\"] = metrics.precision_score(labels, labels_predicted, average=\"macro\", zero_division=1)\n",
    "        results[set_type][\"recall\"] = metrics.recall_score(labels, labels_predicted, average=\"macro\", zero_division=1)\n",
    "        results[set_type][\"F1\"] = metrics.f1_score(labels, labels_predicted, average=\"macro\", zero_division=1)\n",
    "\n",
    "    return results\n",
    "\n",
    "def create_result_table(results):\n",
    "    first_key = list(results.keys())[0]\n",
    "    second_key = list(results[first_key].keys())[0]\n",
    "    table = pd.DataFrame(columns=[\"Classifier\", \"Set type\"] + list(results[first_key][second_key].keys()))\n",
    "    for classifier_name, classifier_data in results.items():\n",
    "        for set_type, set_metrics in classifier_data.items():\n",
    "              # Taken from (merging dicts) https://stackoverflow.com/questions/38987/how-do-i-merge-two-dictionaries-in-a-single-expression-in-python\n",
    "            new_row = {\"Classifier\": classifier_name, \"Set type\": set_type} | set_metrics\n",
    "            table = table.append(new_row, ignore_index=True)\n",
    "    return table\n",
    "\n",
    "# def create_result_table(results):\n",
    "#     first_key = list(results.keys())[0]\n",
    "#     second_key = list(results[first_key].keys())[0]\n",
    "#     table = pd.DataFrame(columns=[\"Classifier\", \"Set type\"] + list(results[first_key][second_key].keys()))\n",
    "#     for classifier_name, classifier_data in results.items():\n",
    "#         for set_type, set_metrics in classifier_data.items():\n",
    "#               # Taken from (merging dicts) https://stackoverflow.com/questions/38987/how-do-i-merge-two-dictionaries-in-a-single-expression-in-python\n",
    "#             new_row = pd.DataFrame({\"Classifier\": classifier_name, \"Set type\": set_type} | set_metrics)\n",
    "#             table = pd.concat([table, new_row], ignore_index=True)\n",
    "#     return table\n",
    "\n",
    "def calculate_f1_scores_by_class(labels_predicted, labels):\n",
    "    all_labels = sorted(list(set(labels)))\n",
    "    matrix_dimension = range(len(set(labels)))\n",
    "    matrix = metrics.confusion_matrix(labels, labels_predicted, labels=all_labels)\n",
    "\n",
    "    recalls = [matrix[index, index] / row_sum for index, row_sum in enumerate(np.sum(matrix, axis=1))]\n",
    "    precisions = [matrix[index, index] / column_sum for index, column_sum in enumerate(np.sum(matrix, axis=0))]\n",
    "\n",
    "    f1_scores = {label: {} for label in all_labels}\n",
    "    for index, label in enumerate(all_labels):\n",
    "        f1_scores[label] = 2 * (precisions[index] * recalls[index]) / (precisions[index] + recalls[index])\n",
    "\n",
    "    return f1_scores"
   ]
  },
  {
   "cell_type": "code",
   "execution_count": null,
   "metadata": {
    "id": "rmOWy_3elp_0"
   },
   "outputs": [],
   "source": [
    "# These parameters are repeated, so they are unwrapped while calling functions to reduce clutter\n",
    "multi_class_parameters = (speeches_train, speeches_val, emotions_train, emotions_val, set(emotions))\n",
    "binary_parameters = (speeches_train, speeches_val, emotions_binary_train, emotions_binary_val, set([\"positive\", \"negative\"]))\n",
    "initial_classifier_results = {}\n",
    "initial_classifier_results_binary = {}"
   ]
  },
  {
   "cell_type": "code",
   "execution_count": null,
   "metadata": {},
   "outputs": [],
   "source": [
    "dummy_classifier_most_frequent = DummyClassifier(strategy=\"most_frequent\")\n",
    "dummy_classifier_stratified = DummyClassifier(strategy=\"stratified\")\n",
    "logistic_regression = LogisticRegression(max_iter=1000)\n",
    "svc = SVC()"
   ]
  },
  {
   "cell_type": "markdown",
   "metadata": {},
   "source": [
    "### Multi-class classification"
   ]
  },
  {
   "cell_type": "code",
   "execution_count": null,
   "metadata": {
    "id": "_vbJMZzbEVeN"
   },
   "outputs": [],
   "source": [
    "initial_classifier_results[\"dummy_classifier_most_frequent\"] = fit_predict_and_score_classifier(dummy_classifier_most_frequent, *multi_class_parameters)"
   ]
  },
  {
   "cell_type": "code",
   "execution_count": null,
   "metadata": {
    "id": "OP12BrTLkY0A"
   },
   "outputs": [],
   "source": [
    "initial_classifier_results[\"dummy_classifier_stratified\"] = fit_predict_and_score_classifier(dummy_classifier_stratified, *multi_class_parameters)"
   ]
  },
  {
   "cell_type": "code",
   "execution_count": null,
   "metadata": {
    "id": "XFi7oHh1kqcF"
   },
   "outputs": [],
   "source": [
    "initial_classifier_results[\"logistic_regression\"] = fit_predict_and_score_classifier(logistic_regression, *multi_class_parameters)"
   ]
  },
  {
   "cell_type": "code",
   "execution_count": null,
   "metadata": {
    "id": "BiN0CnX2ktST"
   },
   "outputs": [],
   "source": [
    "initial_classifier_results[\"svc\"] = fit_predict_and_score_classifier(svc, *multi_class_parameters)"
   ]
  },
  {
   "cell_type": "code",
   "execution_count": null,
   "metadata": {
    "colab": {
     "base_uri": "https://localhost:8080/",
     "height": 363
    },
    "id": "68ytUVLHav6l",
    "outputId": "66b32dd9-2719-493c-8ac7-3261a8a4da8d"
   },
   "outputs": [],
   "source": [
    "initial_classifier_results_table = create_result_table(initial_classifier_results)\n",
    "display(initial_classifier_results_table)"
   ]
  },
  {
   "cell_type": "code",
   "execution_count": null,
   "metadata": {
    "colab": {
     "base_uri": "https://localhost:8080/"
    },
    "id": "9XYuc7nRmNGd",
    "outputId": "7dc876a9-53df-4282-8600-0af2d9e98bbd"
   },
   "outputs": [],
   "source": [
    "f1_scores = calculate_f1_scores_by_class(initial_classifier_results[\"svc\"][\"val\"][\"predictions\"], emotions_val)\n",
    "for emotion, score in f1_scores.items():\n",
    "    print(f\"{emotion}: {score}\")"
   ]
  },
  {
   "cell_type": "code",
   "execution_count": null,
   "metadata": {
    "colab": {
     "base_uri": "https://localhost:8080/",
     "height": 350
    },
    "id": "ZPCMAGy4opci",
    "outputId": "fab6fd7c-b687-4747-fc6b-db022f1062e2"
   },
   "outputs": [],
   "source": [
    "# Taken from https://www.geeksforgeeks.org/bar-plot-in-matplotlib/\n",
    "\n",
    "import matplotlib.pyplot as plt\n",
    "\n",
    "list_of_emotions = list(f1_scores.keys())\n",
    "f1_score_values = list(f1_scores.values())\n",
    "\n",
    "fig = plt.figure(figsize = (10, 5))\n",
    "\n",
    "plt.bar(list_of_emotions, f1_score_values, color ='blue', width = 0.6)\n",
    "plt.xlabel(\"Labels (emotions)\")\n",
    "plt.ylabel(\"F1 class score\")\n",
    "plt.title(\"F1 scores by class of svc classifier\")\n",
    "plt.show()"
   ]
  },
  {
   "cell_type": "code",
   "execution_count": null,
   "metadata": {},
   "outputs": [],
   "source": [
    "from sklearn import metrics\n",
    "\n",
    "metrics.ConfusionMatrixDisplay.from_predictions(emotions_val, initial_classifier_results[\"svc\"][\"val\"][\"predictions\"])\n",
    "plt.show()"
   ]
  },
  {
   "cell_type": "markdown",
   "metadata": {},
   "source": [
    "### Binary classification"
   ]
  },
  {
   "cell_type": "code",
   "execution_count": null,
   "metadata": {},
   "outputs": [],
   "source": [
    "initial_classifier_results_binary[\"dummy_classifier_most_frequent\"] = fit_predict_and_score_classifier(dummy_classifier_most_frequent, *binary_parameters)"
   ]
  },
  {
   "cell_type": "code",
   "execution_count": null,
   "metadata": {
    "id": "OP12BrTLkY0A"
   },
   "outputs": [],
   "source": [
    "initial_classifier_results_binary[\"dummy_classifier_stratified\"] = fit_predict_and_score_classifier(dummy_classifier_stratified, *binary_parameters)"
   ]
  },
  {
   "cell_type": "code",
   "execution_count": null,
   "metadata": {
    "id": "XFi7oHh1kqcF"
   },
   "outputs": [],
   "source": [
    "initial_classifier_results_binary[\"logistic_regression\"] = fit_predict_and_score_classifier(logistic_regression, *binary_parameters)"
   ]
  },
  {
   "cell_type": "code",
   "execution_count": null,
   "metadata": {
    "id": "BiN0CnX2ktST"
   },
   "outputs": [],
   "source": [
    "initial_classifier_results_binary[\"svc\"] = fit_predict_and_score_classifier(svc, *binary_parameters)"
   ]
  },
  {
   "cell_type": "code",
   "execution_count": null,
   "metadata": {
    "colab": {
     "base_uri": "https://localhost:8080/",
     "height": 363
    },
    "id": "68ytUVLHav6l",
    "outputId": "66b32dd9-2719-493c-8ac7-3261a8a4da8d"
   },
   "outputs": [],
   "source": [
    "initial_classifier_results_table_binary = create_result_table(initial_classifier_results_binary)\n",
    "display(initial_classifier_results_table_binary)"
   ]
  },
  {
   "cell_type": "code",
   "execution_count": null,
   "metadata": {
    "colab": {
     "base_uri": "https://localhost:8080/"
    },
    "id": "9XYuc7nRmNGd",
    "outputId": "7dc876a9-53df-4282-8600-0af2d9e98bbd"
   },
   "outputs": [],
   "source": [
    "f1_scores_binary = calculate_f1_scores_by_class(initial_classifier_results_binary[\"logistic_regression\"][\"val\"][\"predictions\"], emotions_binary_val)\n",
    "for emotion, score in f1_scores_binary.items():\n",
    "    print(f\"{emotion}: {score}\")"
   ]
  },
  {
   "cell_type": "code",
   "execution_count": null,
   "metadata": {
    "colab": {
     "base_uri": "https://localhost:8080/",
     "height": 350
    },
    "id": "ZPCMAGy4opci",
    "outputId": "fab6fd7c-b687-4747-fc6b-db022f1062e2"
   },
   "outputs": [],
   "source": [
    "# Taken from https://www.geeksforgeeks.org/bar-plot-in-matplotlib/\n",
    "\n",
    "import matplotlib.pyplot as plt\n",
    "\n",
    "list_of_emotions_binary = list(f1_scores_binary.keys())\n",
    "f1_score_values_binary = list(f1_scores_binary.values())\n",
    "\n",
    "fig = plt.figure(figsize = (10, 5))\n",
    "\n",
    "plt.bar(list_of_emotions_binary, f1_score_values_binary, color ='blue', width = 0.6)\n",
    "plt.xlabel(\"Labels (emotions)\")\n",
    "plt.ylabel(\"F1 class score\")\n",
    "plt.title(\"F1 scores by class of logistic_regression classifier\")\n",
    "plt.show()"
   ]
  },
  {
   "cell_type": "code",
   "execution_count": null,
   "metadata": {},
   "outputs": [],
   "source": [
    "metrics.ConfusionMatrixDisplay.from_predictions(emotions_binary_val, initial_classifier_results_binary[\"logistic_regression\"][\"val\"][\"predictions\"])\n",
    "plt.show()"
   ]
  },
  {
   "cell_type": "markdown",
   "metadata": {},
   "source": [
    "### Feature visualisation"
   ]
  },
  {
   "cell_type": "code",
   "execution_count": null,
   "metadata": {},
   "outputs": [],
   "source": [
    "# !jupyter notebook --NotebookApp.iopub_data_rate_limit=1.0e10"
   ]
  },
  {
   "cell_type": "code",
   "execution_count": null,
   "metadata": {},
   "outputs": [],
   "source": [
    "import treelib\n",
    "\n",
    "def add_node(tree, feature, is_feature):\n",
    "    feature_parent, delimiter, feature_name = feature.rpartition(\"_\")\n",
    "    \n",
    "    if not tree.contains(feature_parent):\n",
    "        add_node(tree, feature_parent, False)\n",
    "    \n",
    "    try:\n",
    "        tree.create_node(tag=feature_name, identifier=feature, parent=feature_parent, data=is_feature)\n",
    "    except treelib.exceptions.DuplicatedNodeIdError as error:\n",
    "        # Such node already exists, potentially because recursive parent creation created it before reaching the node itself\n",
    "        if is_feature:\n",
    "            feature_tree.get_node(feature).data = True\n",
    "\n",
    "feature_tree = treelib.Tree()\n",
    "\n",
    "feature_tree.create_node(tag=\"ROOT\", identifier=\"\", data=False)\n",
    "\n",
    "for column in speeches_train.columns:\n",
    "    add_node(feature_tree, column, True)"
   ]
  },
  {
   "cell_type": "code",
   "execution_count": null,
   "metadata": {},
   "outputs": [],
   "source": [
    "# Taken from https://medium.com/dive-into-ml-ai/tree-data-visualization-with-treelib-71633f6fd8fb\n",
    "import subprocess\n",
    "\n",
    "feature_tree.to_graphviz(\"Feature hierarchy graph description.dot\")\n",
    "subprocess.call([\"dot\", \"-Tsvg\", \"hello.dot\", \"-o\", \"Feature hierarchy graph.svg\"])"
   ]
  },
  {
   "cell_type": "code",
   "execution_count": null,
   "metadata": {},
   "outputs": [],
   "source": [
    "# feature_tree.all_nodes()"
   ]
  },
  {
   "cell_type": "code",
   "execution_count": null,
   "metadata": {},
   "outputs": [],
   "source": [
    "feature_endings = []\n",
    "analysis_by_endings = {}\n",
    "\n",
    "for column in speeches_train.columns:\n",
    "    feature_parent, delimiter, ending = column.rpartition(\"_\")\n",
    "    feature_endings.append(ending)\n",
    "    \n",
    "    if ending not in analysis_by_endings.keys():\n",
    "        analysis_by_endings[ending] = {\"features\": []}\n",
    "    \n",
    "    analysis_by_endings[ending][\"features\"].append(column)\n",
    "    \n",
    "print(Counter(feature_endings))"
   ]
  },
  {
   "cell_type": "markdown",
   "metadata": {},
   "source": [
    "### Feature optimisation section"
   ]
  },
  {
   "cell_type": "code",
   "execution_count": null,
   "metadata": {},
   "outputs": [],
   "source": [
    "classifier_for_feature_optimisation = svc\n",
    "baseline_f1_score = initial_classifier_results[\"svc\"][\"val\"][\"F1\"]\n",
    "\n",
    "features_used_for_testing = 10_000 # 50 # 600\n",
    "\n",
    "speeches_train_copy = speeches_train.copy()\n",
    "speeches_train_copy.drop(speeches_train.columns[features_used_for_testing:], axis=1, inplace=True)\n",
    "speeches_val_copy = speeches_val.copy()\n",
    "speeches_val_copy.drop(speeches_val.columns[features_used_for_testing:], axis=1, inplace=True)"
   ]
  },
  {
   "cell_type": "code",
   "execution_count": null,
   "metadata": {
    "scrolled": true
   },
   "outputs": [],
   "source": [
    "# ### Separated model to reduce time demands\n",
    "\n",
    "# from ipywidgets import IntProgress\n",
    "\n",
    "# # raise Exception(\"Prevent this cell from running so that it doesn't get stuck\")\n",
    "\n",
    "# endings_progress_bar = IntProgress(\n",
    "#     min=0,\n",
    "#     max=len(analysis_by_endings.keys())-1,\n",
    "#     description = f\"0/{len(analysis_by_endings)-1} ending\"\n",
    "# )\n",
    "\n",
    "# progress_bar = IntProgress(\n",
    "#     min=0,\n",
    "#     max=len(speeches_train_copy.columns)-1,\n",
    "#     description = f\"0th feature\"\n",
    "# )\n",
    "\n",
    "# inner_progress_bar = IntProgress(\n",
    "#     min=0,\n",
    "#     max=len(speeches_train.columns)-1,\n",
    "#     description = f\"0/{len(speeches_train_copy.columns)-1}\"\n",
    "# )\n",
    "\n",
    "# display(endings_progress_bar)\n",
    "# display(progress_bar)\n",
    "# display(inner_progress_bar)\n",
    "\n",
    "# for ending_index, data in enumerate(list(analysis_by_endings.values())):\n",
    "#     data[\"final_data_frame\"] = pd.DataFrame()\n",
    "#     data[\"removed_features\"] = []\n",
    "\n",
    "#     speeches_train_copy = speeches_train.copy()[data[\"features\"]]\n",
    "#     speeches_val_copy = speeches_val.copy()[data[\"features\"]]\n",
    "    \n",
    "#     progress_bar.value = 0\n",
    "#     progress_bar.max = len(speeches_train_copy.columns)-1\n",
    "#     inner_progress_bar.value = 0\n",
    "#     inner_progress_bar.max = len(speeches_train_copy.columns)-1\n",
    "#     endings_progress_bar.description = f\"{ending_index}/{len(analysis_by_endings)-1} ending\"\n",
    "    \n",
    "#     for feature_index in range(len(speeches_train_copy.columns)-1): # -1 so that the last feature is not deleted and an empty DataFrame is passed\n",
    "#         progress_bar.description = f\"{feature_index}/{len(speeches_train_copy.columns)-1} feature\"\n",
    "\n",
    "#         # Setting the new baseline\n",
    "#         result = fit_predict_and_score_classifier(\n",
    "#                 classifier_for_feature_optimisation,\n",
    "#                 speeches_train_copy,\n",
    "#                 speeches_val_copy, # speeches_val,\n",
    "#                 emotions_train,\n",
    "#                 emotions_val,\n",
    "#                 set(emotions)\n",
    "#             )\n",
    "#         max_f1_score = result[\"val\"][\"F1\"]\n",
    "#         column_to_remove = None\n",
    "\n",
    "#         # Finding the worst F1-reducing feature\n",
    "#         inner_progress_bar.max = len(speeches_train_copy.columns)\n",
    "#         inner_progress_bar.value = 0\n",
    "\n",
    "#         for index, column in enumerate(speeches_train_copy.columns):\n",
    "#             inner_progress_bar.description = f\"{index}/{len(speeches_train_copy.columns)-1}\"\n",
    "\n",
    "#             result = fit_predict_and_score_classifier(\n",
    "#                 classifier_for_feature_optimisation,\n",
    "#                 speeches_train_copy.drop([column], axis=1),\n",
    "#                 speeches_val_copy.drop([column], axis=1), # speeches_val.drop([column], axis=1),\n",
    "#                 emotions_train,\n",
    "#                 emotions_val,\n",
    "#                 set(emotions)\n",
    "#             )\n",
    "#             f1_score = result[\"val\"][\"F1\"]\n",
    "\n",
    "#             if f1_score > max_f1_score:\n",
    "#                 max_f1_score = f1_score\n",
    "#                 column_to_remove = column\n",
    "\n",
    "#             inner_progress_bar.value += 1\n",
    "\n",
    "#         # Removing the worst feature\n",
    "#         if column_to_remove is not None:\n",
    "#             speeches_train_copy.drop([column_to_remove], axis=1, inplace=True)\n",
    "#             speeches_val_copy.drop([column_to_remove], axis=1, inplace=True) # speeches_val.drop([column_to_remove], axis=1, inplace=True)\n",
    "#             data[\"removed_features\"].append((column_to_remove, max_f1_score, max_f1_score - f1_score))\n",
    "#             progress_bar.value += 1\n",
    "#         else:\n",
    "#             progress_bar.value = progress_bar.max\n",
    "#             inner_progress_bar.value = inner_progress_bar.max\n",
    "#             data[\"final_data_frame\"] = speeches_train_copy.copy()\n",
    "#             break\n",
    "            \n",
    "#     endings_progress_bar.value += 1"
   ]
  },
  {
   "cell_type": "code",
   "execution_count": null,
   "metadata": {},
   "outputs": [],
   "source": [
    "### Full version (slow but checking everything)\n",
    "\n",
    "from ipywidgets import IntProgress\n",
    "\n",
    "# raise Exception(\"Prevent this cell from running so that it doesn't get stuck\")\n",
    "\n",
    "progress_bar = IntProgress(\n",
    "    min=0,\n",
    "    max=len(speeches_train_copy.columns)-1,\n",
    "    description = f\"0th feature\"\n",
    ")\n",
    "\n",
    "inner_progress_bar = IntProgress(\n",
    "    min=0,\n",
    "    max=len(speeches_train.columns)-1,\n",
    "    description = f\"0/{len(speeches_train_copy.columns)-1}\"\n",
    ")\n",
    "\n",
    "display(progress_bar)\n",
    "display(inner_progress_bar)\n",
    "\n",
    "data = []\n",
    "final_data_frame = None\n",
    "# data[\"final_data_frame\"] = pd.DataFrame()\n",
    "# data[\"removed_features\"] = []\n",
    "\n",
    "speeches_train_copy = speeches_train.copy()\n",
    "speeches_val_copy = speeches_val.copy()\n",
    "\n",
    "progress_bar.value = 0\n",
    "progress_bar.max = len(speeches_train_copy.columns)-1\n",
    "inner_progress_bar.value = 0\n",
    "inner_progress_bar.max = len(speeches_train_copy.columns)-1\n",
    "\n",
    "for feature_index in range(len(speeches_train_copy.columns)-1): # -1 so that the last feature is not deleted and an empty DataFrame is passed\n",
    "    progress_bar.description = f\"{feature_index}/{len(speeches_train_copy.columns)-1} feature\"\n",
    "\n",
    "    # Setting the new baseline\n",
    "    result = fit_predict_and_score_classifier(\n",
    "            classifier_for_feature_optimisation,\n",
    "            speeches_train_copy,\n",
    "            speeches_val_copy, # speeches_val,\n",
    "            emotions_train,\n",
    "            emotions_val,\n",
    "            set(emotions)\n",
    "        )\n",
    "    max_f1_score = result[\"val\"][\"F1\"]\n",
    "    column_to_remove = None\n",
    "\n",
    "    # Finding the worst F1-reducing feature\n",
    "    inner_progress_bar.max = len(speeches_train_copy.columns)\n",
    "    inner_progress_bar.value = 0\n",
    "\n",
    "    for index, column in enumerate(speeches_train_copy.columns):\n",
    "        inner_progress_bar.description = f\"{index}/{len(speeches_train_copy.columns)-1}\"\n",
    "\n",
    "        result = fit_predict_and_score_classifier(\n",
    "            classifier_for_feature_optimisation,\n",
    "            speeches_train_copy.drop([column], axis=1),\n",
    "            speeches_val_copy.drop([column], axis=1), # speeches_val.drop([column], axis=1),\n",
    "            emotions_train,\n",
    "            emotions_val,\n",
    "            set(emotions)\n",
    "        )\n",
    "        f1_score = result[\"val\"][\"F1\"]\n",
    "\n",
    "        if f1_score > max_f1_score:\n",
    "            max_f1_score = f1_score\n",
    "            column_to_remove = column\n",
    "\n",
    "        inner_progress_bar.value += 1\n",
    "\n",
    "    # Removing the worst feature\n",
    "    if column_to_remove is not None:\n",
    "        speeches_train_copy.drop([column_to_remove], axis=1, inplace=True)\n",
    "        speeches_val_copy.drop([column_to_remove], axis=1, inplace=True) # speeches_val.drop([column_to_remove], axis=1, inplace=True)\n",
    "        data.append((column_to_remove, max_f1_score, max_f1_score - f1_score))\n",
    "        progress_bar.value += 1\n",
    "    else:\n",
    "        progress_bar.value = progress_bar.max\n",
    "        inner_progress_bar.value = inner_progress_bar.max\n",
    "        final_data_frame = speeches_train_copy.copy()\n",
    "        break"
   ]
  },
  {
   "cell_type": "code",
   "execution_count": null,
   "metadata": {},
   "outputs": [],
   "source": [
    "data"
   ]
  },
  {
   "cell_type": "code",
   "execution_count": null,
   "metadata": {},
   "outputs": [],
   "source": [
    "removed_columns = [entry[0] for entry in data]\n",
    "speeches_train_pruned = speeches_train.copy().drop(removed_columns, axis=1)\n",
    "speeches_val_pruned = speeches_val.copy().drop(removed_columns, axis=1)\n",
    "speeches_test_pruned = speeches_test.copy().drop(removed_columns, axis=1)\n",
    "\n",
    "multi_class_pruned_parameters = (speeches_train_pruned, speeches_val_pruned, emotions_train, emotions_val, set(emotions))"
   ]
  },
  {
   "cell_type": "code",
   "execution_count": null,
   "metadata": {},
   "outputs": [],
   "source": [
    "print(len(speeches_train.columns), len(speeches_train_pruned.columns))"
   ]
  },
  {
   "cell_type": "code",
   "execution_count": null,
   "metadata": {},
   "outputs": [],
   "source": [
    "initial_classifier_results[\"svc_pruned\"] = fit_predict_and_score_classifier(svc, *multi_class_parameters)"
   ]
  },
  {
   "cell_type": "code",
   "execution_count": null,
   "metadata": {},
   "outputs": [],
   "source": [
    "post_prunation_classifier_results_table = create_result_table(initial_classifier_results)\n",
    "display(post_prunation_classifier_results_table)"
   ]
  },
  {
   "cell_type": "markdown",
   "metadata": {},
   "source": [
    "### Hyperparameter optimisation"
   ]
  },
  {
   "cell_type": "code",
   "execution_count": null,
   "metadata": {},
   "outputs": [],
   "source": [
    "from sklearn.model_selection import GridSearchCV\n",
    "\n",
    "svc_parameters = {\n",
    "    \"kernel\": [\"linear\", \"poly\", \"rbf\", \"sigmoid\"],\n",
    "    \"C\": [0.1, 1, 5, 10, 20, 50],\n",
    "    \"gamma\": [\"scale\", \"auto\"],\n",
    "    \"shrinking\": [True, False],\n",
    "#     \"max_iter\": [-1, 100, 10_000],\n",
    "}\n",
    "\n",
    "parametrised_svc = GridSearchCV(svc, svc_parameters)\n",
    "parametrised_svc.fit(speeches_train_pruned, emotions_train)"
   ]
  },
  {
   "cell_type": "code",
   "execution_count": null,
   "metadata": {
    "scrolled": true
   },
   "outputs": [],
   "source": [
    "parametrised_svc.cv_results_.items()"
   ]
  },
  {
   "cell_type": "code",
   "execution_count": null,
   "metadata": {},
   "outputs": [],
   "source": [
    "optimised_svc = parametrised_svc.best_estimator_\n",
    "optimised_parameters = parametrised_svc.best_params_\n",
    "optimised_parameters"
   ]
  },
  {
   "cell_type": "code",
   "execution_count": null,
   "metadata": {},
   "outputs": [],
   "source": [
    "initial_classifier_results[\"svc_optimised\"] = fit_predict_and_score_classifier(optimised_svc, *multi_class_parameters)"
   ]
  },
  {
   "cell_type": "code",
   "execution_count": null,
   "metadata": {},
   "outputs": [],
   "source": [
    "post_optimisation_classifier_results_table = create_result_table(initial_classifier_results)\n",
    "display(post_optimisation_classifier_results_table)"
   ]
  },
  {
   "cell_type": "markdown",
   "metadata": {},
   "source": [
    "# Neural network section"
   ]
  },
  {
   "cell_type": "markdown",
   "metadata": {},
   "source": [
    "### Spectrogram creation"
   ]
  },
  {
   "cell_type": "code",
   "execution_count": 115,
   "metadata": {},
   "outputs": [],
   "source": [
    "import librosa\n",
    "from IPython.display import Audio\n",
    "from sklearn import metrics\n",
    "\n",
    "def crop_audio(audio):\n",
    "    max_index = len(audio)-1\n",
    "    start = random.randint(0, max_index // 4)\n",
    "    end = random.randint(start * 2, max_index)\n",
    "    cropped_audio = audio[start:end]\n",
    "    return cropped_audio\n",
    "\n",
    "# Taken from https://medium.com/analytics-vidhya/adding-noise-to-audio-clips-5d8cee24ccb8\n",
    "def add_noise_to_audio(audio):\n",
    "    std = math.sqrt(np.mean(audio**2))\n",
    "    noise=np.random.normal(0, std, audio.shape[0])\n",
    "    signal_noise = audio + noise\n",
    "    return signal_noise\n",
    "\n",
    "# Taken from https://towardsdatascience.com/getting-to-know-the-mel-spectrogram-31bca3e2d9d0\n",
    "def create_mel_spectrogram_file(spectrogram, sampling_rate, hop_length, index):\n",
    "    db_spectrogram = librosa.power_to_db(spectrogram, ref=np.max)\n",
    "    librosa.display.specshow(db_spectrogram, sr=sampling_rate, hop_length=hop_length, x_axis=\"time\", y_axis=\"mel\");\n",
    "    plt.colorbar(format=\"%+2.0f dB\")\n",
    "    plt.savefig(f\"spectrograms/{index}_{emotions[index]}.png\")\n",
    "    plt.clf()\n",
    "    return spectrogram\n",
    "\n",
    "# Taken from https://towardsdatascience.com/getting-to-know-the-mel-spectrogram-31bca3e2d9d0\n",
    "def produce_mel_spectrograms(files, hop_length=256, frameSize=512, n_mels=128):\n",
    "    spectrograms = []\n",
    "    emotions = []\n",
    "    max_audio_length = 0\n",
    "    audio_data = []\n",
    "    \n",
    "    for file in files:\n",
    "        audio, sampling_rate = librosa.load(file)\n",
    "        max_audio_length = max(max_audio_length, audio.shape[0])\n",
    "        emotion = file_name_to_emotion_mapping[file.split(\"-\")[-5]]\n",
    "        audio_data.append((audio, sampling_rate, emotion))\n",
    "    \n",
    "    for index, (audio, sampling_rate, emotion) in enumerate(audio_data):\n",
    "        audio = librosa.util.fix_length(audio, size=max_audio_length)\n",
    "        cropped_audio = crop_audio(audio)\n",
    "        noisy_audio = add_noise_to_audio(audio)\n",
    "        \n",
    "#         print(index)\n",
    "#         display(Audio(data=audio, rate=sampling_rate))\n",
    "#         display(Audio(data=cropped_audio, rate=sampling_rate))\n",
    "#         display(Audio(data=noisy_audio, rate=sampling_rate))\n",
    "        \n",
    "        for input_audio in [audio, noisy_audio]: ###### CROPPING TEMPORARILY REMOVED\n",
    "            spectrogram = librosa.feature.melspectrogram(y=audio, sr=sampling_rate, n_fft=frameSize, hop_length=hop_length, n_mels=n_mels)\n",
    "#             create_mel_spectrogram_file(spectrogram, sampling_rate, hop_length, index)\n",
    "\n",
    "            spectrograms.append(spectrogram)\n",
    "            emotions.append(emotion)\n",
    "\n",
    "    return np.array(spectrograms), np.array(emotions)"
   ]
  },
  {
   "cell_type": "code",
   "execution_count": 116,
   "metadata": {},
   "outputs": [],
   "source": [
    "# # A rewrite to only modify training data\n",
    "\n",
    "# assert False\n",
    "\n",
    "# files_split, _ = perform_3_way_split(files, files, (80,10,10), SEED)\n",
    "# files_train, files_val, files_test = files_split\n",
    "\n",
    "# # But what to do with different length maximums? Hardcode a number?\n",
    "# # Add a is_train_set parameter to the function\n",
    "# spectrograms_train, spectrogram_emotions_train = produce_mel_spectrograms(files_train, True)\n",
    "# spectrograms_val, spectrogram_emotions_val = produce_mel_spectrograms(files_val, False)\n",
    "# spectrograms_test, spectrogram_emotions_test = produce_mel_spectrograms(files_test, False)"
   ]
  },
  {
   "cell_type": "code",
   "execution_count": 117,
   "metadata": {},
   "outputs": [],
   "source": [
    "spectrograms, spectrogram_emotions = produce_mel_spectrograms(files)"
   ]
  },
  {
   "cell_type": "code",
   "execution_count": 118,
   "metadata": {},
   "outputs": [
    {
     "data": {
      "text/plain": [
       "Counter({(128, 455): 2880})"
      ]
     },
     "execution_count": 118,
     "metadata": {},
     "output_type": "execute_result"
    }
   ],
   "source": [
    "Counter([s.shape for s in spectrograms])"
   ]
  },
  {
   "cell_type": "code",
   "execution_count": 119,
   "metadata": {},
   "outputs": [],
   "source": [
    "normalised_spectrograms=(spectrograms-spectrograms.mean())/spectrograms.std()"
   ]
  },
  {
   "cell_type": "code",
   "execution_count": 120,
   "metadata": {},
   "outputs": [],
   "source": [
    "spectrograms_split, spectrogram_emotions_split = perform_3_way_split(normalised_spectrograms, spectrogram_emotions, (80,10,10), SEED)\n",
    "spectrograms_train, spectrograms_val, spectrograms_test = spectrograms_split\n",
    "spectrogram_emotions_train, spectrogram_emotions_val, spectrogram_emotions_test = spectrogram_emotions_split"
   ]
  },
  {
   "cell_type": "code",
   "execution_count": 121,
   "metadata": {},
   "outputs": [],
   "source": [
    "# Adding single channel axes\n",
    "spectrograms_train = np.expand_dims(spectrograms_train, axis=1)\n",
    "spectrograms_val = np.expand_dims(spectrograms_val, axis=1)\n",
    "spectrograms_test = np.expand_dims(spectrograms_test, axis=1)"
   ]
  },
  {
   "cell_type": "code",
   "execution_count": 122,
   "metadata": {},
   "outputs": [],
   "source": [
    "emotion_to_number_mapping = {emotion: int(number)-1 for number, emotion in file_name_to_emotion_mapping.items()}\n",
    "\n",
    "emotions_numeric_train = np.array([emotion_to_number_mapping[emotion] for emotion in spectrogram_emotions_train])\n",
    "emotions_numeric_val = np.array([emotion_to_number_mapping[emotion] for emotion in spectrogram_emotions_val])\n",
    "emotions_numeric_test = np.array([emotion_to_number_mapping[emotion] for emotion in spectrogram_emotions_test])\n",
    "\n",
    "spectrogram_emotions_binary_train = np.array([emotion_to_positivity_mapping[emotion] for emotion in spectrogram_emotions_train])\n",
    "spectrogram_emotions_binary_val = np.array([emotion_to_positivity_mapping[emotion] for emotion in spectrogram_emotions_val])\n",
    "spectrogram_emotions_binary_test = np.array([emotion_to_positivity_mapping[emotion] for emotion in spectrogram_emotions_test])\n",
    "\n",
    "emotions_numeric_binary_train = np.array([1 if emotion == \"positive\" else 0 for emotion in spectrogram_emotions_binary_train])\n",
    "emotions_numeric_binary_val = np.array([1 if emotion == \"positive\" else 0 for emotion in spectrogram_emotions_binary_val])\n",
    "emotions_numeric_binary_test = np.array([1 if emotion == \"positive\" else 0 for emotion in spectrogram_emotions_binary_test])"
   ]
  },
  {
   "cell_type": "code",
   "execution_count": 123,
   "metadata": {},
   "outputs": [
    {
     "name": "stdout",
     "output_type": "stream",
     "text": [
      "358.6918\n",
      "0.007817257\n"
     ]
    }
   ],
   "source": [
    "print(np.max(spectrograms))\n",
    "print(np.mean(spectrograms))"
   ]
  },
  {
   "cell_type": "code",
   "execution_count": 124,
   "metadata": {},
   "outputs": [
    {
     "data": {
      "text/plain": [
       "(2304, 1, 128, 455)"
      ]
     },
     "execution_count": 124,
     "metadata": {},
     "output_type": "execute_result"
    }
   ],
   "source": [
    "spectrograms_train.shape"
   ]
  },
  {
   "cell_type": "markdown",
   "metadata": {},
   "source": [
    "### Setting up DataSet and DataLoader"
   ]
  },
  {
   "cell_type": "code",
   "execution_count": 147,
   "metadata": {},
   "outputs": [],
   "source": [
    "use_binary = False"
   ]
  },
  {
   "cell_type": "code",
   "execution_count": 148,
   "metadata": {},
   "outputs": [],
   "source": [
    "import torch\n",
    "import torch.nn.functional as F\n",
    "import datetime\n",
    "from torch.utils.tensorboard import SummaryWriter"
   ]
  },
  {
   "cell_type": "code",
   "execution_count": 149,
   "metadata": {},
   "outputs": [
    {
     "data": {
      "text/plain": [
       "device(type='cpu')"
      ]
     },
     "execution_count": 149,
     "metadata": {},
     "output_type": "execute_result"
    }
   ],
   "source": [
    "device = torch.device(\"cuda\" if torch.cuda.is_available() else \"cpu\")\n",
    "device"
   ]
  },
  {
   "cell_type": "code",
   "execution_count": 150,
   "metadata": {},
   "outputs": [],
   "source": [
    "torch.cuda.empty_cache()"
   ]
  },
  {
   "cell_type": "code",
   "execution_count": 151,
   "metadata": {},
   "outputs": [],
   "source": [
    "spectrograms_tensor_train = torch.from_numpy(spectrograms_train).float()\n",
    "spectrograms_tensor_val = torch.from_numpy(spectrograms_val).float()\n",
    "spectrograms_tensor_test = torch.from_numpy(spectrograms_test).float()\n",
    "\n",
    "if use_binary is False:\n",
    "    emotions_tensor_train = torch.from_numpy(emotions_numeric_train).long()\n",
    "    emotions_tensor_val = torch.from_numpy(emotions_numeric_val).long()\n",
    "    emotions_tensor_test = torch.from_numpy(emotions_numeric_test).long()\n",
    "else:\n",
    "    emotions_tensor_train = torch.from_numpy(emotions_numeric_binary_train).long()\n",
    "    emotions_tensor_val = torch.from_numpy(emotions_numeric_binary_val).long()\n",
    "    emotions_tensor_test = torch.from_numpy(emotions_numeric_binary_test).long()\n",
    "\n",
    "spectrograms_tensor_train.to(device)\n",
    "spectrograms_tensor_val.to(device)\n",
    "spectrograms_tensor_test.to(device)\n",
    "\n",
    "emotions_tensor_train.to(device)\n",
    "emotions_tensor_val.to(device)\n",
    "emotions_tensor_test.to(device)\n",
    "\n",
    "spectrogram_dimensions = spectrograms_tensor_train.size()[1:]"
   ]
  },
  {
   "cell_type": "code",
   "execution_count": 152,
   "metadata": {},
   "outputs": [
    {
     "data": {
      "text/plain": [
       "torch.Size([2304, 1, 128, 455])"
      ]
     },
     "execution_count": 152,
     "metadata": {},
     "output_type": "execute_result"
    }
   ],
   "source": [
    "spectrograms_tensor_train.size()"
   ]
  },
  {
   "cell_type": "code",
   "execution_count": 153,
   "metadata": {},
   "outputs": [],
   "source": [
    "spectrogram_dataset_train = torch.utils.data.TensorDataset(spectrograms_tensor_train, emotions_tensor_train)\n",
    "spectrogram_dataset_val = torch.utils.data.TensorDataset(spectrograms_tensor_val, emotions_tensor_val)\n",
    "\n",
    "spectrogram_loader_train = torch.utils.data.DataLoader(spectrogram_dataset_train, batch_size=4, shuffle=True)\n",
    "spectrogram_loader_val = torch.utils.data.DataLoader(spectrogram_dataset_val, batch_size=4, shuffle=False)"
   ]
  },
  {
   "cell_type": "code",
   "execution_count": 154,
   "metadata": {},
   "outputs": [],
   "source": [
    "if use_binary is False:\n",
    "    number_to_emotion_mapping = {int(file_name)-1: emotion for file_name, emotion in file_name_to_emotion_mapping.items()}\n",
    "else:\n",
    "    number_to_emotion_mapping = {0: \"negative\", 1: \"positive\"}"
   ]
  },
  {
   "cell_type": "markdown",
   "metadata": {},
   "source": [
    "##### PyTorch example dataset"
   ]
  },
  {
   "cell_type": "code",
   "execution_count": 155,
   "metadata": {},
   "outputs": [],
   "source": [
    "import torchvision\n",
    "import torchvision.transforms as transforms\n",
    "\n",
    "example_transform = transforms.Compose(\n",
    "    [transforms.ToTensor(),\n",
    "    transforms.Normalize((0.5,), (0.5,))])\n",
    "\n",
    "# Store separate training and validations splits in ./data\n",
    "example_training_set = torchvision.datasets.FashionMNIST('./data',\n",
    "    download=True,\n",
    "    train=True,\n",
    "    transform=example_transform)\n",
    "example_validation_set = torchvision.datasets.FashionMNIST('./data',\n",
    "    download=True,\n",
    "    train=False,\n",
    "    transform=example_transform)\n",
    "\n",
    "example_training_loader = torch.utils.data.DataLoader(example_training_set,\n",
    "                                              batch_size=4,\n",
    "                                              shuffle=True,\n",
    "                                              num_workers=2)\n",
    "\n",
    "\n",
    "example_validation_loader = torch.utils.data.DataLoader(example_validation_set,\n",
    "                                                batch_size=4,\n",
    "                                                shuffle=False,\n",
    "                                                num_workers=2)"
   ]
  },
  {
   "cell_type": "code",
   "execution_count": 156,
   "metadata": {},
   "outputs": [],
   "source": [
    "# spectrogram_loader_train = example_training_loader\n",
    "# spectrogram_loader_val = example_validation_loader"
   ]
  },
  {
   "cell_type": "markdown",
   "metadata": {},
   "source": [
    "### Multi Layered Perceptron"
   ]
  },
  {
   "cell_type": "markdown",
   "metadata": {},
   "source": [
    "##### Spectrograms as input"
   ]
  },
  {
   "cell_type": "code",
   "execution_count": 157,
   "metadata": {},
   "outputs": [],
   "source": [
    "class PerceptronSpectrogramModel(torch.nn.Module):\n",
    "\n",
    "    def __init__(self):\n",
    "        super(PerceptronSpectrogramModel, self).__init__()\n",
    "        \n",
    "        self.linear1 = torch.nn.Linear(np.prod(spectrogram_dimensions), 10)\n",
    "        self.activation = torch.nn.ReLU()\n",
    "        self.linear2 = torch.nn.Linear(10, 8)\n",
    "\n",
    "    def forward(self, x):\n",
    "        x = torch.flatten(x, 1)\n",
    "        x = self.linear1(x)\n",
    "        x = self.activation(x)\n",
    "        x = self.linear2(x)\n",
    "        return x"
   ]
  },
  {
   "cell_type": "markdown",
   "metadata": {},
   "source": [
    "### Convolutional Neural Network"
   ]
  },
  {
   "cell_type": "code",
   "execution_count": 158,
   "metadata": {},
   "outputs": [
    {
     "name": "stdout",
     "output_type": "stream",
     "text": [
      "[  1 128 455]\n",
      "[  1  29 110]\n",
      "3190\n"
     ]
    }
   ],
   "source": [
    "convoluted_dimensions = np.array(spectrogram_dimensions)\n",
    "print(convoluted_dimensions)\n",
    "convoluted_dimensions -= (3 - 1)\n",
    "convoluted_dimensions -= (3 - 1)\n",
    "convoluted_dimensions //= 2\n",
    "convoluted_dimensions -= (3 - 1)\n",
    "convoluted_dimensions -= (3 - 1)\n",
    "convoluted_dimensions //= 2\n",
    "convoluted_dimensions[0] = 1\n",
    "print(convoluted_dimensions)\n",
    "print(np.prod(convoluted_dimensions))"
   ]
  },
  {
   "cell_type": "code",
   "execution_count": 159,
   "metadata": {},
   "outputs": [],
   "source": [
    "if use_binary is False:\n",
    "    class_count = len(set(emotions))\n",
    "else:\n",
    "    class_count = 2"
   ]
  },
  {
   "cell_type": "code",
   "execution_count": 160,
   "metadata": {
    "code_folding": []
   },
   "outputs": [],
   "source": [
    "class CNN(torch.nn.Module):\n",
    "\n",
    "    def __init__(self):\n",
    "        super(CNN, self).__init__()\n",
    "        self.conv1 = torch.nn.Conv2d(1, 4, 3)\n",
    "        self.conv2 = torch.nn.Conv2d(4, 8, 3)\n",
    "        self.conv3 = torch.nn.Conv2d(8, 16, 3)\n",
    "        self.conv4 = torch.nn.Conv2d(16, 16, 3)\n",
    "        self.fc1 = torch.nn.Linear(16 * np.prod(convoluted_dimensions), 32)\n",
    "        self.fc2 = torch.nn.Linear(32, class_count)\n",
    "\n",
    "    def forward(self, x):\n",
    "        x = F.relu(self.conv1(x))\n",
    "        x = F.max_pool2d(F.relu(self.conv2(x)), 2)\n",
    "        x = F.relu(self.conv3(x))\n",
    "        x = F.max_pool2d(F.relu(self.conv4(x)), 2)\n",
    "        \n",
    "        x = x.view(-1, self.num_flat_features(x))\n",
    "        x = F.relu(self.fc1(x))\n",
    "        x = self.fc2(x)\n",
    "        return x\n",
    "\n",
    "    def num_flat_features(self, x):\n",
    "        size = x.size()[1:]\n",
    "        num_features = 1\n",
    "        for s in size:\n",
    "            num_features *= s\n",
    "        return num_features"
   ]
  },
  {
   "cell_type": "code",
   "execution_count": 161,
   "metadata": {
    "code_folding": []
   },
   "outputs": [],
   "source": [
    "class ExampleNet(torch.nn.Module):\n",
    "    def __init__(self):\n",
    "        super(ExampleNet, self).__init__()\n",
    "        self.conv1 = torch.nn.Conv2d(1, 6, 5)\n",
    "        self.pool = torch.nn.MaxPool2d(2, 2)\n",
    "        self.conv2 = torch.nn.Conv2d(6, 16, 5)\n",
    "        self.fc1 = torch.nn.Linear(16 * 4 * 4, 120)\n",
    "        self.fc2 = torch.nn.Linear(120, 84)\n",
    "        self.fc3 = torch.nn.Linear(84, 10)\n",
    "\n",
    "    def forward(self, x):\n",
    "        x = self.pool(F.relu(self.conv1(x)))\n",
    "        x = self.pool(F.relu(self.conv2(x)))\n",
    "        x = x.view(-1, 16 * 4 * 4)\n",
    "        x = F.relu(self.fc1(x))\n",
    "        x = F.relu(self.fc2(x))\n",
    "        x = self.fc3(x)\n",
    "        return x\n"
   ]
  },
  {
   "cell_type": "markdown",
   "metadata": {},
   "source": [
    "### Neural network training"
   ]
  },
  {
   "cell_type": "code",
   "execution_count": 162,
   "metadata": {},
   "outputs": [
    {
     "data": {
      "text/plain": [
       "<bound method Module.parameters of CNN(\n",
       "  (conv1): Conv2d(1, 4, kernel_size=(3, 3), stride=(1, 1))\n",
       "  (conv2): Conv2d(4, 8, kernel_size=(3, 3), stride=(1, 1))\n",
       "  (conv3): Conv2d(8, 16, kernel_size=(3, 3), stride=(1, 1))\n",
       "  (conv4): Conv2d(16, 16, kernel_size=(3, 3), stride=(1, 1))\n",
       "  (fc1): Linear(in_features=51040, out_features=32, bias=True)\n",
       "  (fc2): Linear(in_features=32, out_features=8, bias=True)\n",
       ")>"
      ]
     },
     "execution_count": 162,
     "metadata": {},
     "output_type": "execute_result"
    }
   ],
   "source": [
    "# model = PerceptronSpectrogramModel()\n",
    "model = CNN()\n",
    "# model = ExampleNet()\n",
    "model = model.to(device)\n",
    "model.parameters"
   ]
  },
  {
   "cell_type": "code",
   "execution_count": 163,
   "metadata": {},
   "outputs": [],
   "source": [
    "loss_fn = torch.nn.CrossEntropyLoss()\n",
    "\n",
    "# Optimizers specified in the torch.optim package\n",
    "optimizer = torch.optim.Adam(model.parameters(), lr=0.0005) #### TEMPORARILY INCRESEAD FOR QUICKER RUNTIME"
   ]
  },
  {
   "cell_type": "code",
   "execution_count": 164,
   "metadata": {},
   "outputs": [],
   "source": [
    "# Potentially to delete, but should fix TensorBoard problems\n",
    "import tensorflow as tf\n",
    "import tensorboard as tb\n",
    "tf.io.gfile = tb.compat.tensorflow_stub.io.gfile"
   ]
  },
  {
   "cell_type": "code",
   "execution_count": 165,
   "metadata": {},
   "outputs": [],
   "source": [
    "def calculate_accuracy(model, inputs, labels):\n",
    "    inputs, labels = inputs.to(device), labels.to(device)\n",
    "    outputs = model(inputs)\n",
    "    output_predictions = torch.nn.Softmax(dim=1)(outputs).argmax(1)\n",
    "    correct_count = torch.sum((output_predictions == labels)).item()\n",
    "    accuracy = correct_count/len(labels)\n",
    "    return accuracy\n",
    "\n",
    "# Taken from https://stackoverflow.com/questions/39770376/scikit-learn-get-accuracy-scores-for-each-class\n",
    "def calculate_class_accuracy(model, inputs, labels):\n",
    "    inputs = inputs.to(device)\n",
    "    outputs = model(inputs)\n",
    "    output_predictions = torch.nn.Softmax(dim=1)(outputs).argmax(1)\n",
    "    output_predictions = output_predictions.to(\"cpu\")\n",
    "    output_emotions = np.array([number_to_emotion_mapping[value] for value in output_predictions.to(\"cpu\").numpy()])\n",
    "    \n",
    "    confusion_matrix = metrics.confusion_matrix(output_predictions, labels)\n",
    "    confusion_matrix = np.nan_to_num(confusion_matrix)\n",
    "    guess_counts = np.clip(confusion_matrix.sum(axis=1), 1, None) # Set minimum to 0 to avoid division by 0\n",
    "#     print(50*\"–\")\n",
    "#     print(confusion_matrix.diagonal())\n",
    "#     print(guess_counts)\n",
    "#     print(50*\"–\")\n",
    "    class_accuracy = confusion_matrix.diagonal() / guess_counts\n",
    "    \n",
    "    if use_binary is False:\n",
    "        label_set = metrics.ConfusionMatrixDisplay.from_predictions(spectrogram_emotions_val, output_emotions).display_labels\n",
    "    else:\n",
    "        label_set = metrics.ConfusionMatrixDisplay.from_predictions(spectrogram_emotions_binary_val, output_emotions).display_labels\n",
    "    \n",
    "    plt.close()\n",
    "    class_accuracy_dict = {label: accuracy for label, accuracy in zip(label_set, class_accuracy)}\n",
    "    \n",
    "    return class_accuracy_dict"
   ]
  },
  {
   "cell_type": "code",
   "execution_count": 166,
   "metadata": {},
   "outputs": [],
   "source": [
    "def train_one_epoch(epoch_index, tb_writer):\n",
    "    running_loss = 0.\n",
    "    last_loss = 0.\n",
    "\n",
    "    # Here, we use enumerate(training_loader) instead of\n",
    "    # iter(training_loader) so that we can track the batch\n",
    "    # index and do some intra-epoch reporting\n",
    "    for i, data in enumerate(spectrogram_loader_train):\n",
    "        # Every data instance is an input + label pair\n",
    "        inputs, labels = data\n",
    "        inputs, labels = inputs.to(device), labels.to(device)\n",
    "\n",
    "        # Zero your gradients for every batch!\n",
    "        optimizer.zero_grad()\n",
    "\n",
    "        # Make predictions for this batch\n",
    "        outputs = model(inputs)\n",
    "\n",
    "        # Compute the loss and its gradients\n",
    "        loss = loss_fn(outputs, labels)\n",
    "        loss.backward()\n",
    "    \n",
    "\n",
    "        # Adjust learning weights\n",
    "        optimizer.step()\n",
    "\n",
    "        # Gather data and report\n",
    "        running_loss += loss.item()\n",
    "        if i % 32 == 31:\n",
    "            last_loss = running_loss / 32 # loss per batch\n",
    "# #             print(f\"  batch {i + 1} loss: {last_loss:.4f} acc: {last_accuracy:.4f}\")\n",
    "#             tb_x = epoch_index * len(spectrogram_loader_train) + i + 1\n",
    "#             tb_writer.add_scalar(\"Loss/train\", last_loss, tb_x)\n",
    "            running_loss = 0.\n",
    "        elif i == len(spectrogram_loader_train)-1:\n",
    "            last_loss = running_loss / (len(spectrogram_loader_train) % 32) # loss per batch\n",
    "# #             print(f\"  batch {i + 1} loss: {last_loss:.4f} acc: {last_accuracy:.4f}\")\n",
    "#             tb_x = epoch_index * len(spectrogram_loader_train) + i + 1\n",
    "#             tb_writer.add_scalar(\"Loss/train\", last_loss, tb_x)\n",
    "            running_loss = 0.\n",
    "\n",
    "    accuracy = calculate_accuracy(model, spectrograms_tensor_train, emotions_tensor_train)\n",
    "    \n",
    "    return last_loss, accuracy"
   ]
  },
  {
   "cell_type": "code",
   "execution_count": 167,
   "metadata": {
    "scrolled": false
   },
   "outputs": [
    {
     "name": "stdout",
     "output_type": "stream",
     "text": [
      "EPOCH 1:\n",
      "\t LOSS train 1.8058 valid 1.7569 \t\t ACC train 0.2743 valid 0.2778\n",
      "\t PER-CLASS ACC valid {'angry': 0.0, 'calm': 0.06382978723404255, 'disgust': 0.6666666666666666, 'fearful': 0.2152777777777778, 'happy': 0.43333333333333335, 'neutral': 0.6111111111111112, 'sad': 0.7142857142857143, 'surprised': 0.2222222222222222}\n",
      "EPOCH 2:\n",
      "\t LOSS train 1.6833 valid 1.6455 \t\t ACC train 0.4379 valid 0.3507\n",
      "\t PER-CLASS ACC valid {'angry': 0.0, 'calm': 0.26515151515151514, 'disgust': 0.28, 'fearful': 0.20588235294117646, 'happy': 0.575, 'neutral': 0.6875, 'sad': 0.5333333333333333, 'surprised': 0.38461538461538464}\n",
      "EPOCH 3:\n",
      "\t LOSS train 1.5060 valid 1.6225 \t\t ACC train 0.4601 valid 0.4028\n",
      "\t PER-CLASS ACC valid {'angry': 0.0, 'calm': 0.40625, 'disgust': 0.3333333333333333, 'fearful': 0.2222222222222222, 'happy': 0.8518518518518519, 'neutral': 0.5, 'sad': 0.4878048780487805, 'surprised': 0.5294117647058824}\n",
      "EPOCH 4:\n",
      "\t LOSS train 1.2879 valid 1.6766 \t\t ACC train 0.5560 valid 0.4549\n",
      "\t PER-CLASS ACC valid {'angry': 0.0, 'calm': 0.35802469135802467, 'disgust': 0.48, 'fearful': 0.3333333333333333, 'happy': 0.7027027027027027, 'neutral': 0.7619047619047619, 'sad': 0.43478260869565216, 'surprised': 0.36666666666666664}\n",
      "EPOCH 5:\n",
      "\t LOSS train 1.2052 valid 1.8261 \t\t ACC train 0.5951 valid 0.5069\n",
      "\t PER-CLASS ACC valid {'angry': 1.0, 'calm': 0.38461538461538464, 'disgust': 0.6666666666666666, 'fearful': 0.3333333333333333, 'happy': 0.7142857142857143, 'neutral': 0.6666666666666666, 'sad': 0.6060606060606061, 'surprised': 0.5111111111111111}\n",
      "EPOCH 6:\n",
      "\t LOSS train 0.8942 valid 1.9315 \t\t ACC train 0.6536 valid 0.5556\n",
      "\t PER-CLASS ACC valid {'angry': 0.5, 'calm': 0.4791666666666667, 'disgust': 0.46296296296296297, 'fearful': 0.38461538461538464, 'happy': 0.7837837837837838, 'neutral': 0.9166666666666666, 'sad': 0.65, 'surprised': 0.5853658536585366}\n",
      "EPOCH 7:\n",
      "\t LOSS train 0.9738 valid 1.5312 \t\t ACC train 0.7122 valid 0.5625\n",
      "\t PER-CLASS ACC valid {'angry': 0.3333333333333333, 'calm': 0.52, 'disgust': 0.5588235294117647, 'fearful': 0.36507936507936506, 'happy': 0.8235294117647058, 'neutral': 0.7142857142857143, 'sad': 0.574468085106383, 'surprised': 0.7}\n",
      "EPOCH 8:\n",
      "\t LOSS train 0.7487 valid 1.7817 \t\t ACC train 0.7496 valid 0.6389\n",
      "\t PER-CLASS ACC valid {'angry': 0.5833333333333334, 'calm': 0.4626865671641791, 'disgust': 0.875, 'fearful': 0.4423076923076923, 'happy': 0.8421052631578947, 'neutral': 0.7619047619047619, 'sad': 0.675, 'surprised': 0.7941176470588235}\n",
      "EPOCH 9:\n",
      "\t LOSS train 1.0961 valid 1.6892 \t\t ACC train 0.7765 valid 0.6562\n",
      "\t PER-CLASS ACC valid {'angry': 0.5, 'calm': 0.5769230769230769, 'disgust': 0.7352941176470589, 'fearful': 0.4897959183673469, 'happy': 0.875, 'neutral': 0.9411764705882353, 'sad': 0.6666666666666666, 'surprised': 0.6590909090909091}\n",
      "EPOCH 10:\n",
      "\t LOSS train 0.5544 valid 2.0136 \t\t ACC train 0.8242 valid 0.6840\n",
      "\t PER-CLASS ACC valid {'angry': 0.42857142857142855, 'calm': 0.574468085106383, 'disgust': 0.7714285714285715, 'fearful': 0.5555555555555556, 'happy': 0.7804878048780488, 'neutral': 0.7931034482758621, 'sad': 0.6666666666666666, 'surprised': 0.8529411764705882}\n",
      "EPOCH 11:\n",
      "\t LOSS train 0.5704 valid 2.5100 \t\t ACC train 0.8420 valid 0.7188\n",
      "\t PER-CLASS ACC valid {'angry': 0.55, 'calm': 0.5957446808510638, 'disgust': 0.8157894736842105, 'fearful': 0.5531914893617021, 'happy': 0.825, 'neutral': 0.9473684210526315, 'sad': 0.7380952380952381, 'surprised': 0.8285714285714286}\n",
      "EPOCH 12:\n",
      "\t LOSS train 0.3637 valid 2.8083 \t\t ACC train 0.8772 valid 0.7465\n",
      "\t PER-CLASS ACC valid {'angry': 0.4642857142857143, 'calm': 0.6666666666666666, 'disgust': 0.8857142857142857, 'fearful': 0.6363636363636364, 'happy': 0.7619047619047619, 'neutral': 0.9523809523809523, 'sad': 0.8823529411764706, 'surprised': 0.7777777777777778}\n",
      "EPOCH 13:\n",
      "\t LOSS train 0.3709 valid 2.4551 \t\t ACC train 0.8459 valid 0.7188\n",
      "\t PER-CLASS ACC valid {'angry': 0.8571428571428571, 'calm': 0.64, 'disgust': 0.7560975609756098, 'fearful': 0.4918032786885246, 'happy': 0.8378378378378378, 'neutral': 0.84, 'sad': 0.7837837837837838, 'surprised': 0.9}\n",
      "EPOCH 14:\n",
      "\t LOSS train 0.4757 valid 2.9063 \t\t ACC train 0.8989 valid 0.7500\n",
      "\t PER-CLASS ACC valid {'angry': 0.5454545454545454, 'calm': 0.7368421052631579, 'disgust': 0.90625, 'fearful': 0.5517241379310345, 'happy': 0.8888888888888888, 'neutral': 0.8636363636363636, 'sad': 0.8378378378378378, 'surprised': 0.7674418604651163}\n",
      "EPOCH 15:\n",
      "\t LOSS train 0.3069 valid 1.3687 \t\t ACC train 0.9032 valid 0.7743\n",
      "\t PER-CLASS ACC valid {'angry': 0.5909090909090909, 'calm': 0.6444444444444445, 'disgust': 0.8205128205128205, 'fearful': 0.7142857142857143, 'happy': 0.8857142857142857, 'neutral': 0.92, 'sad': 0.8536585365853658, 'surprised': 0.7692307692307693}\n",
      "EPOCH 16:\n",
      "\t LOSS train 0.3045 valid 1.6416 \t\t ACC train 0.9253 valid 0.7951\n",
      "\t PER-CLASS ACC valid {'angry': 0.7647058823529411, 'calm': 0.6595744680851063, 'disgust': 0.868421052631579, 'fearful': 0.6744186046511628, 'happy': 0.8888888888888888, 'neutral': 0.96, 'sad': 0.85, 'surprised': 0.7857142857142857}\n",
      "EPOCH 17:\n",
      "\t LOSS train 0.1601 valid 1.3820 \t\t ACC train 0.9280 valid 0.8229\n",
      "\t PER-CLASS ACC valid {'angry': 0.7647058823529411, 'calm': 0.6739130434782609, 'disgust': 0.9696969696969697, 'fearful': 0.7111111111111111, 'happy': 0.8918918918918919, 'neutral': 0.896551724137931, 'sad': 0.9, 'surprised': 0.8292682926829268}\n",
      "EPOCH 18:\n",
      "\t LOSS train 0.1897 valid 1.7558 \t\t ACC train 0.9384 valid 0.8021\n",
      "\t PER-CLASS ACC valid {'angry': 0.7058823529411765, 'calm': 0.7142857142857143, 'disgust': 0.8717948717948718, 'fearful': 0.7073170731707317, 'happy': 0.8648648648648649, 'neutral': 1.0, 'sad': 0.813953488372093, 'surprised': 0.7777777777777778}\n",
      "EPOCH 19:\n",
      "\t LOSS train 0.1186 valid 1.8664 \t\t ACC train 0.9392 valid 0.8264\n",
      "\t PER-CLASS ACC valid {'angry': 0.8235294117647058, 'calm': 0.6875, 'disgust': 0.9714285714285714, 'fearful': 0.6666666666666666, 'happy': 0.8857142857142857, 'neutral': 1.0, 'sad': 0.8571428571428571, 'surprised': 0.8536585365853658}\n",
      "EPOCH 20:\n",
      "\t LOSS train 0.1879 valid 2.3407 \t\t ACC train 0.9505 valid 0.8194\n",
      "\t PER-CLASS ACC valid {'angry': 0.875, 'calm': 0.7380952380952381, 'disgust': 0.868421052631579, 'fearful': 0.6818181818181818, 'happy': 0.8888888888888888, 'neutral': 0.9259259259259259, 'sad': 0.8181818181818182, 'surprised': 0.8536585365853658}\n",
      "EPOCH 21:\n",
      "\t LOSS train 0.1385 valid 1.8251 \t\t ACC train 0.9405 valid 0.8229\n",
      "\t PER-CLASS ACC valid {'angry': 0.75, 'calm': 0.75, 'disgust': 0.9411764705882353, 'fearful': 0.7441860465116279, 'happy': 0.8421052631578947, 'neutral': 0.96, 'sad': 0.813953488372093, 'surprised': 0.8292682926829268}\n",
      "EPOCH 22:\n",
      "\t LOSS train 0.4880 valid 1.8714 \t\t ACC train 0.9236 valid 0.7917\n",
      "\t PER-CLASS ACC valid {'angry': 1.0, 'calm': 0.68, 'disgust': 0.7692307692307693, 'fearful': 0.6170212765957447, 'happy': 0.90625, 'neutral': 0.96, 'sad': 0.8409090909090909, 'surprised': 0.85}\n",
      "EPOCH 23:\n",
      "\t LOSS train 0.1000 valid 1.5085 \t\t ACC train 0.9614 valid 0.8750\n",
      "\t PER-CLASS ACC valid {'angry': 0.75, 'calm': 0.868421052631579, 'disgust': 0.8536585365853658, 'fearful': 0.868421052631579, 'happy': 0.8918918918918919, 'neutral': 1.0, 'sad': 0.9024390243902439, 'surprised': 0.8571428571428571}\n",
      "EPOCH 24:\n",
      "\t LOSS train 0.0648 valid 1.6254 \t\t ACC train 0.9670 valid 0.8750\n",
      "\t PER-CLASS ACC valid {'angry': 0.9333333333333333, 'calm': 0.7727272727272727, 'disgust': 0.875, 'fearful': 0.8095238095238095, 'happy': 0.9444444444444444, 'neutral': 1.0, 'sad': 0.9024390243902439, 'surprised': 0.8571428571428571}\n",
      "EPOCH 25:\n",
      "\t LOSS train 0.2317 valid 2.5812 \t\t ACC train 0.9388 valid 0.8299\n",
      "\t PER-CLASS ACC valid {'angry': 1.0, 'calm': 0.7333333333333333, 'disgust': 0.868421052631579, 'fearful': 0.7804878048780488, 'happy': 0.9090909090909091, 'neutral': 0.8666666666666667, 'sad': 0.76, 'surprised': 0.9}\n",
      "EPOCH 26:\n",
      "\t LOSS train 0.7052 valid 2.7196 \t\t ACC train 0.8312 valid 0.7188\n",
      "\t PER-CLASS ACC valid {'angry': 1.0, 'calm': 0.8611111111111112, 'disgust': 0.8214285714285714, 'fearful': 0.6078431372549019, 'happy': 0.875, 'neutral': 0.42424242424242425, 'sad': 0.825, 'surprised': 0.9230769230769231}\n",
      "EPOCH 27:\n",
      "\t LOSS train 0.1494 valid 1.3536 \t\t ACC train 0.9679 valid 0.8646\n",
      "\t PER-CLASS ACC valid {'angry': 1.0, 'calm': 0.7727272727272727, 'disgust': 0.9459459459459459, 'fearful': 0.6938775510204082, 'happy': 0.9142857142857143, 'neutral': 1.0, 'sad': 0.9, 'surprised': 0.8780487804878049}\n",
      "EPOCH 28:\n"
     ]
    },
    {
     "name": "stdout",
     "output_type": "stream",
     "text": [
      "\t LOSS train 0.0733 valid 1.5805 \t\t ACC train 0.9696 valid 0.8785\n",
      "\t PER-CLASS ACC valid {'angry': 0.782608695652174, 'calm': 0.8292682926829268, 'disgust': 0.8974358974358975, 'fearful': 0.8918918918918919, 'happy': 0.9142857142857143, 'neutral': 1.0, 'sad': 0.9024390243902439, 'surprised': 0.8222222222222222}\n",
      "EPOCH 29:\n",
      "\t LOSS train 0.0825 valid 1.6667 \t\t ACC train 0.9748 valid 0.8785\n",
      "\t PER-CLASS ACC valid {'angry': 1.0, 'calm': 0.7906976744186046, 'disgust': 0.9459459459459459, 'fearful': 0.7446808510638298, 'happy': 0.9411764705882353, 'neutral': 1.0, 'sad': 0.925, 'surprised': 0.8409090909090909}\n",
      "EPOCH 30:\n",
      "\t LOSS train 0.0814 valid 1.8050 \t\t ACC train 0.9813 valid 0.8785\n",
      "\t PER-CLASS ACC valid {'angry': 0.8888888888888888, 'calm': 0.8095238095238095, 'disgust': 0.875, 'fearful': 0.825, 'happy': 0.8536585365853658, 'neutral': 1.0, 'sad': 0.8780487804878049, 'surprised': 0.9473684210526315}\n"
     ]
    }
   ],
   "source": [
    "# Initializing in a separate cell so we can easily add more epochs to the same run\n",
    "timestamp = datetime.datetime.now().strftime(\"%Y%m%d_%H%M%S\")\n",
    "writer = SummaryWriter(f\"runs/model_{timestamp}\")\n",
    "\n",
    "EPOCHS = 30\n",
    "\n",
    "best_vloss = 1_000_000.\n",
    "\n",
    "for epoch in range(EPOCHS):\n",
    "    print(f\"EPOCH {epoch + 1}:\")\n",
    "\n",
    "    # Make sure gradient tracking is on, and do a pass over the data\n",
    "    model.train(True)\n",
    "    avg_loss, accuracy_train = train_one_epoch(epoch, writer)\n",
    "\n",
    "\n",
    "    running_vloss = 0.0\n",
    "    # Set the model to evaluation mode, disabling dropout and using population\n",
    "    # statistics for batch normalization.\n",
    "    model.eval()\n",
    "\n",
    "    # Disable gradient computation and reduce memory consumption.\n",
    "    with torch.no_grad():\n",
    "        for i, vdata in enumerate(spectrogram_loader_val):\n",
    "            vinputs, vlabels = vdata\n",
    "            vinputs, vlabels = vinputs.to(device), vlabels.to(device)\n",
    "            \n",
    "            voutputs = model(vinputs)\n",
    "            vloss = loss_fn(voutputs, vlabels)\n",
    "            running_vloss += vloss.item()\n",
    "\n",
    "    avg_vloss = running_vloss / (i + 1)\n",
    "    \n",
    "    accuracy_val = calculate_accuracy(model, spectrograms_tensor_val, emotions_tensor_val)\n",
    "    class_accuracy_val = calculate_class_accuracy(model, spectrograms_tensor_val, emotions_tensor_val)\n",
    "    \n",
    "    print(f\"\\t LOSS train {avg_loss:.4f} valid {avg_vloss:.4f} \\t\\t ACC train {accuracy_train:.4f} valid {accuracy_val:.4f}\")\n",
    "    print(f\"\\t PER-CLASS ACC valid {class_accuracy_val}\")\n",
    "    \n",
    "    # Log the running loss averaged per batch\n",
    "    # for both training and validation\n",
    "    writer.add_scalars(\n",
    "        \"Training vs. Validation Loss\",\n",
    "        {\"Training\" : avg_loss, \"Validation\" : avg_vloss},\n",
    "        epoch + 1,\n",
    "    )\n",
    "    \n",
    "    writer.add_scalars(\n",
    "        \"Training vs. Validation Accuracy\",\n",
    "        {\"Training\" : accuracy_train, \"Validation\" : accuracy_val},\n",
    "        epoch + 1,\n",
    "    )\n",
    "    \n",
    "    writer.add_scalars(\n",
    "        \"Class accuracy\",\n",
    "        class_accuracy_val,\n",
    "        epoch + 1,\n",
    "    )\n",
    "    \n",
    "    writer.flush()\n",
    "\n",
    "    # Track best performance, and save the model's state\n",
    "    if avg_vloss < best_vloss:\n",
    "        best_vloss = avg_vloss\n",
    "        model_path = f\"model_checkpoints/model_{timestamp}_{epoch}\"\n",
    "#         torch.save(model.state_dict(), model_path)"
   ]
  },
  {
   "cell_type": "code",
   "execution_count": 168,
   "metadata": {},
   "outputs": [],
   "source": [
    "validation_outputs = model(spectrograms_tensor_val.to(device))\n",
    "validation_output_predictions = torch.nn.Softmax(dim=1)(validation_outputs).argmax(1)\n",
    "validation_output_emotions = np.array([number_to_emotion_mapping[value] for value in validation_output_predictions.to(\"cpu\").numpy()])"
   ]
  },
  {
   "cell_type": "code",
   "execution_count": 169,
   "metadata": {
    "scrolled": false
   },
   "outputs": [
    {
     "data": {
      "image/png": "[encoded data removed]",
      "text/plain": [
       "<Figure size 640x480 with 2 Axes>"
      ]
     },
     "metadata": {},
     "output_type": "display_data"
    }
   ],
   "source": [
    "if use_binary is False:\n",
    "    model_confusion_matrix = metrics.ConfusionMatrixDisplay.from_predictions(spectrogram_emotions_val, validation_output_emotions)\n",
    "else:\n",
    "    model_confusion_matrix = metrics.ConfusionMatrixDisplay.from_predictions(spectrogram_emotions_binary_val, validation_output_emotions)\n",
    "plt.show()"
   ]
  },
  {
   "cell_type": "code",
   "execution_count": null,
   "metadata": {},
   "outputs": [],
   "source": []
  },
  {
   "cell_type": "code",
   "execution_count": null,
   "metadata": {},
   "outputs": [],
   "source": [
    "# %load_ext tensorboard"
   ]
  },
  {
   "cell_type": "code",
   "execution_count": null,
   "metadata": {},
   "outputs": [],
   "source": [
    "# %tensorboard --logdir ./runs"
   ]
  },
  {
   "cell_type": "code",
   "execution_count": null,
   "metadata": {},
   "outputs": [],
   "source": [
    "# rm -rf ./runs/"
   ]
  },
  {
   "cell_type": "code",
   "execution_count": null,
   "metadata": {},
   "outputs": [],
   "source": []
  },
  {
   "cell_type": "code",
   "execution_count": null,
   "metadata": {},
   "outputs": [],
   "source": []
  },
  {
   "cell_type": "code",
   "execution_count": null,
   "metadata": {},
   "outputs": [],
   "source": []
  },
  {
   "cell_type": "code",
   "execution_count": null,
   "metadata": {},
   "outputs": [],
   "source": []
  },
  {
   "cell_type": "code",
   "execution_count": null,
   "metadata": {},
   "outputs": [],
   "source": []
  },
  {
   "cell_type": "code",
   "execution_count": null,
   "metadata": {},
   "outputs": [],
   "source": []
  },
  {
   "cell_type": "code",
   "execution_count": null,
   "metadata": {},
   "outputs": [],
   "source": []
  },
  {
   "cell_type": "code",
   "execution_count": null,
   "metadata": {},
   "outputs": [],
   "source": []
  }
 ],
 "metadata": {
  "accelerator": "GPU",
  "colab": {
   "collapsed_sections": [
    "89Q5h1M-iGtX",
    "AB0Y6xS17Tj3",
    "aikqCd3d7b6d",
    "GTMFgODnbDsI",
    "I9mj2L3jiGtl",
    "foKQaWCiUpRh",
    "gVSMGXRVz0Mn",
    "RgQbyZBBb5mm",
    "vJPQreO0cByU",
    "d8eXs9T1fGFe",
    "Dt8wYLwhkUPl",
    "GxOlNT22khAD",
    "dMxfsKiXAicT"
   ],
   "provenance": [],
   "toc_visible": true
  },
  "gpuClass": "standard",
  "kernelspec": {
   "display_name": "Python 3 (ipykernel)",
   "language": "python",
   "name": "python3"
  },
  "language_info": {
   "codemirror_mode": {
    "name": "ipython",
    "version": 3
   },
   "file_extension": ".py",
   "mimetype": "text/x-python",
   "name": "python",
   "nbconvert_exporter": "python",
   "pygments_lexer": "ipython3",
   "version": "3.10.9"
  }
 },
 "nbformat": 4,
 "nbformat_minor": 1
}
