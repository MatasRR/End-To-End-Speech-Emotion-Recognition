{
 "cells": [
  {
   "cell_type": "markdown",
   "metadata": {
    "id": "89Q5h1M-iGtX"
   },
   "source": [
    "# Data preparation section"
   ]
  },
  {
   "cell_type": "code",
   "execution_count": 1,
   "metadata": {},
   "outputs": [
    {
     "data": {
      "text/html": [
       "<style>.container { width:95% !important; }</style>"
      ],
      "text/plain": [
       "<IPython.core.display.HTML object>"
      ]
     },
     "metadata": {},
     "output_type": "display_data"
    }
   ],
   "source": [
    "from IPython.display import display, HTML\n",
    "display(HTML(\"<style>.container { width:95% !important; }</style>\"))"
   ]
  },
  {
   "cell_type": "code",
   "execution_count": 2,
   "metadata": {
    "scrolled": false
   },
   "outputs": [
    {
     "name": "stdout",
     "output_type": "stream",
     "text": [
      "Defaulting to user installation because normal site-packages is not writeable\n",
      "Requirement already satisfied: opensmile in c:\\users\\matas\\appdata\\roaming\\python\\python310\\site-packages (2.4.2)\n",
      "Requirement already satisfied: audinterface>=0.7.0 in c:\\users\\matas\\appdata\\roaming\\python\\python310\\site-packages (from opensmile) (1.1.0)\n",
      "Requirement already satisfied: audobject>=0.6.1 in c:\\users\\matas\\appdata\\roaming\\python\\python310\\site-packages (from opensmile) (0.7.9)\n",
      "Requirement already satisfied: audiofile>=1.3.0 in c:\\users\\matas\\appdata\\roaming\\python\\python310\\site-packages (from audinterface>=0.7.0->opensmile) (1.3.0)\n",
      "Requirement already satisfied: audformat<2.0.0,>=1.0.1 in c:\\users\\matas\\appdata\\roaming\\python\\python310\\site-packages (from audinterface>=0.7.0->opensmile) (1.0.1)\n",
      "Requirement already satisfied: audresample<2.0.0,>=1.1.0 in c:\\users\\matas\\appdata\\roaming\\python\\python310\\site-packages (from audinterface>=0.7.0->opensmile) (1.3.2)\n",
      "Requirement already satisfied: audmath>=1.3.0 in c:\\users\\matas\\appdata\\roaming\\python\\python310\\site-packages (from audinterface>=0.7.0->opensmile) (1.3.0)\n",
      "Requirement already satisfied: audeer>=1.18.0 in c:\\users\\matas\\appdata\\roaming\\python\\python310\\site-packages (from audobject>=0.6.1->opensmile) (1.20.1)\n",
      "Requirement already satisfied: importlib-metadata>=4.8.0 in c:\\programdata\\anaconda3\\lib\\site-packages (from audobject>=0.6.1->opensmile) (4.11.3)\n",
      "Requirement already satisfied: oyaml in c:\\users\\matas\\appdata\\roaming\\python\\python310\\site-packages (from audobject>=0.6.1->opensmile) (1.0)\n",
      "Requirement already satisfied: tqdm in c:\\programdata\\anaconda3\\lib\\site-packages (from audeer>=1.18.0->audobject>=0.6.1->opensmile) (4.64.1)\n",
      "Requirement already satisfied: pandas>=1.4.1 in c:\\programdata\\anaconda3\\lib\\site-packages (from audformat<2.0.0,>=1.0.1->audinterface>=0.7.0->opensmile) (1.5.3)\n",
      "Requirement already satisfied: iso3166 in c:\\users\\matas\\appdata\\roaming\\python\\python310\\site-packages (from audformat<2.0.0,>=1.0.1->audinterface>=0.7.0->opensmile) (2.1.1)\n",
      "Requirement already satisfied: iso-639 in c:\\users\\matas\\appdata\\roaming\\python\\python310\\site-packages (from audformat<2.0.0,>=1.0.1->audinterface>=0.7.0->opensmile) (0.4.5)\n",
      "Requirement already satisfied: pyyaml>=5.4.1 in c:\\programdata\\anaconda3\\lib\\site-packages (from audformat<2.0.0,>=1.0.1->audinterface>=0.7.0->opensmile) (6.0)\n",
      "Requirement already satisfied: numpy in c:\\programdata\\anaconda3\\lib\\site-packages (from audiofile>=1.3.0->audinterface>=0.7.0->opensmile) (1.23.5)\n",
      "Requirement already satisfied: soundfile in c:\\users\\matas\\appdata\\roaming\\python\\python310\\site-packages (from audiofile>=1.3.0->audinterface>=0.7.0->opensmile) (0.12.1)\n",
      "Requirement already satisfied: zipp>=0.5 in c:\\programdata\\anaconda3\\lib\\site-packages (from importlib-metadata>=4.8.0->audobject>=0.6.1->opensmile) (3.11.0)\n",
      "Requirement already satisfied: python-dateutil>=2.8.1 in c:\\programdata\\anaconda3\\lib\\site-packages (from pandas>=1.4.1->audformat<2.0.0,>=1.0.1->audinterface>=0.7.0->opensmile) (2.8.2)\n",
      "Requirement already satisfied: pytz>=2020.1 in c:\\programdata\\anaconda3\\lib\\site-packages (from pandas>=1.4.1->audformat<2.0.0,>=1.0.1->audinterface>=0.7.0->opensmile) (2022.7)\n",
      "Requirement already satisfied: cffi>=1.0 in c:\\programdata\\anaconda3\\lib\\site-packages (from soundfile->audiofile>=1.3.0->audinterface>=0.7.0->opensmile) (1.15.1)\n",
      "Requirement already satisfied: colorama in c:\\programdata\\anaconda3\\lib\\site-packages (from tqdm->audeer>=1.18.0->audobject>=0.6.1->opensmile) (0.4.6)\n",
      "Requirement already satisfied: pycparser in c:\\programdata\\anaconda3\\lib\\site-packages (from cffi>=1.0->soundfile->audiofile>=1.3.0->audinterface>=0.7.0->opensmile) (2.21)\n",
      "Requirement already satisfied: six>=1.5 in c:\\programdata\\anaconda3\\lib\\site-packages (from python-dateutil>=2.8.1->pandas>=1.4.1->audformat<2.0.0,>=1.0.1->audinterface>=0.7.0->opensmile) (1.16.0)\n",
      "Defaulting to user installation because normal site-packages is not writeable\n",
      "Requirement already satisfied: librosa in c:\\users\\matas\\appdata\\roaming\\python\\python310\\site-packages (0.10.1)\n",
      "Requirement already satisfied: scipy>=1.2.0 in c:\\programdata\\anaconda3\\lib\\site-packages (from librosa) (1.10.0)\n",
      "Requirement already satisfied: lazy-loader>=0.1 in c:\\users\\matas\\appdata\\roaming\\python\\python310\\site-packages (from librosa) (0.3)\n",
      "Requirement already satisfied: joblib>=0.14 in c:\\programdata\\anaconda3\\lib\\site-packages (from librosa) (1.1.1)\n",
      "Requirement already satisfied: soundfile>=0.12.1 in c:\\users\\matas\\appdata\\roaming\\python\\python310\\site-packages (from librosa) (0.12.1)\n",
      "Requirement already satisfied: soxr>=0.3.2 in c:\\users\\matas\\appdata\\roaming\\python\\python310\\site-packages (from librosa) (0.3.7)\n",
      "Requirement already satisfied: decorator>=4.3.0 in c:\\programdata\\anaconda3\\lib\\site-packages (from librosa) (5.1.1)\n",
      "Requirement already satisfied: numpy!=1.22.0,!=1.22.1,!=1.22.2,>=1.20.3 in c:\\programdata\\anaconda3\\lib\\site-packages (from librosa) (1.23.5)\n",
      "Requirement already satisfied: msgpack>=1.0 in c:\\programdata\\anaconda3\\lib\\site-packages (from librosa) (1.0.3)\n",
      "Requirement already satisfied: scikit-learn>=0.20.0 in c:\\programdata\\anaconda3\\lib\\site-packages (from librosa) (1.2.1)\n",
      "Requirement already satisfied: audioread>=2.1.9 in c:\\users\\matas\\appdata\\roaming\\python\\python310\\site-packages (from librosa) (3.0.1)\n",
      "Requirement already satisfied: numba>=0.51.0 in c:\\programdata\\anaconda3\\lib\\site-packages (from librosa) (0.56.4)\n",
      "Requirement already satisfied: typing-extensions>=4.1.1 in c:\\programdata\\anaconda3\\lib\\site-packages (from librosa) (4.9.0)\n",
      "Requirement already satisfied: pooch>=1.0 in c:\\programdata\\anaconda3\\lib\\site-packages (from librosa) (1.4.0)\n",
      "Requirement already satisfied: setuptools in c:\\programdata\\anaconda3\\lib\\site-packages (from numba>=0.51.0->librosa) (65.6.3)\n",
      "Requirement already satisfied: llvmlite<0.40,>=0.39.0dev0 in c:\\programdata\\anaconda3\\lib\\site-packages (from numba>=0.51.0->librosa) (0.39.1)\n",
      "Requirement already satisfied: appdirs in c:\\programdata\\anaconda3\\lib\\site-packages (from pooch>=1.0->librosa) (1.4.4)\n",
      "Requirement already satisfied: packaging in c:\\programdata\\anaconda3\\lib\\site-packages (from pooch>=1.0->librosa) (22.0)\n",
      "Requirement already satisfied: requests in c:\\programdata\\anaconda3\\lib\\site-packages (from pooch>=1.0->librosa) (2.31.0)\n",
      "Requirement already satisfied: threadpoolctl>=2.0.0 in c:\\programdata\\anaconda3\\lib\\site-packages (from scikit-learn>=0.20.0->librosa) (2.2.0)\n",
      "Requirement already satisfied: cffi>=1.0 in c:\\programdata\\anaconda3\\lib\\site-packages (from soundfile>=0.12.1->librosa) (1.15.1)\n",
      "Requirement already satisfied: pycparser in c:\\programdata\\anaconda3\\lib\\site-packages (from cffi>=1.0->soundfile>=0.12.1->librosa) (2.21)\n",
      "Requirement already satisfied: idna<4,>=2.5 in c:\\programdata\\anaconda3\\lib\\site-packages (from requests->pooch>=1.0->librosa) (3.4)\n",
      "Requirement already satisfied: certifi>=2017.4.17 in c:\\programdata\\anaconda3\\lib\\site-packages (from requests->pooch>=1.0->librosa) (2023.7.22)\n",
      "Requirement already satisfied: urllib3<3,>=1.21.1 in c:\\programdata\\anaconda3\\lib\\site-packages (from requests->pooch>=1.0->librosa) (1.26.14)\n",
      "Requirement already satisfied: charset-normalizer<4,>=2 in c:\\programdata\\anaconda3\\lib\\site-packages (from requests->pooch>=1.0->librosa) (2.0.4)\n",
      "Defaulting to user installation because normal site-packages is not writeable\n",
      "Requirement already satisfied: google in c:\\users\\matas\\appdata\\roaming\\python\\python310\\site-packages (3.0.0)\n",
      "Requirement already satisfied: beautifulsoup4 in c:\\programdata\\anaconda3\\lib\\site-packages (from google) (4.11.1)\n",
      "Requirement already satisfied: soupsieve>1.2 in c:\\programdata\\anaconda3\\lib\\site-packages (from beautifulsoup4->google) (2.3.2.post1)\n",
      "Defaulting to user installation because normal site-packages is not writeable\n",
      "Requirement already satisfied: treelib in c:\\users\\matas\\appdata\\roaming\\python\\python310\\site-packages (1.7.0)\n",
      "Requirement already satisfied: six in c:\\programdata\\anaconda3\\lib\\site-packages (from treelib) (1.16.0)\n",
      "Defaulting to user installation because normal site-packages is not writeable\n",
      "Requirement already satisfied: graphviz in c:\\users\\matas\\appdata\\roaming\\python\\python310\\site-packages (0.20.1)\n"
     ]
    },
    {
     "name": "stdout",
     "output_type": "stream",
     "text": [
      "Defaulting to user installation because normal site-packages is not writeable\n",
      "Requirement already satisfied: tensorflow in c:\\users\\matas\\appdata\\roaming\\python\\python310\\site-packages (2.14.0)\n",
      "Requirement already satisfied: tensorflow-intel==2.14.0 in c:\\users\\matas\\appdata\\roaming\\python\\python310\\site-packages (from tensorflow) (2.14.0)\n",
      "Requirement already satisfied: packaging in c:\\programdata\\anaconda3\\lib\\site-packages (from tensorflow-intel==2.14.0->tensorflow) (22.0)\n",
      "Requirement already satisfied: absl-py>=1.0.0 in c:\\users\\matas\\appdata\\roaming\\python\\python310\\site-packages (from tensorflow-intel==2.14.0->tensorflow) (2.0.0)\n",
      "Requirement already satisfied: wrapt<1.15,>=1.11.0 in c:\\programdata\\anaconda3\\lib\\site-packages (from tensorflow-intel==2.14.0->tensorflow) (1.14.1)\n",
      "Requirement already satisfied: keras<2.15,>=2.14.0 in c:\\users\\matas\\appdata\\roaming\\python\\python310\\site-packages (from tensorflow-intel==2.14.0->tensorflow) (2.14.0)\n",
      "Requirement already satisfied: h5py>=2.9.0 in c:\\programdata\\anaconda3\\lib\\site-packages (from tensorflow-intel==2.14.0->tensorflow) (3.7.0)\n",
      "Requirement already satisfied: tensorboard<2.15,>=2.14 in c:\\users\\matas\\appdata\\roaming\\python\\python310\\site-packages (from tensorflow-intel==2.14.0->tensorflow) (2.14.1)\n",
      "Requirement already satisfied: setuptools in c:\\programdata\\anaconda3\\lib\\site-packages (from tensorflow-intel==2.14.0->tensorflow) (65.6.3)\n",
      "Requirement already satisfied: tensorflow-io-gcs-filesystem>=0.23.1 in c:\\users\\matas\\appdata\\roaming\\python\\python310\\site-packages (from tensorflow-intel==2.14.0->tensorflow) (0.31.0)\n",
      "Requirement already satisfied: six>=1.12.0 in c:\\programdata\\anaconda3\\lib\\site-packages (from tensorflow-intel==2.14.0->tensorflow) (1.16.0)\n",
      "Requirement already satisfied: typing-extensions>=3.6.6 in c:\\programdata\\anaconda3\\lib\\site-packages (from tensorflow-intel==2.14.0->tensorflow) (4.9.0)\n",
      "Requirement already satisfied: tensorflow-estimator<2.15,>=2.14.0 in c:\\users\\matas\\appdata\\roaming\\python\\python310\\site-packages (from tensorflow-intel==2.14.0->tensorflow) (2.14.0)\n",
      "Requirement already satisfied: flatbuffers>=23.5.26 in c:\\users\\matas\\appdata\\roaming\\python\\python310\\site-packages (from tensorflow-intel==2.14.0->tensorflow) (23.5.26)\n",
      "Requirement already satisfied: opt-einsum>=2.3.2 in c:\\users\\matas\\appdata\\roaming\\python\\python310\\site-packages (from tensorflow-intel==2.14.0->tensorflow) (3.3.0)\n",
      "Requirement already satisfied: google-pasta>=0.1.1 in c:\\users\\matas\\appdata\\roaming\\python\\python310\\site-packages (from tensorflow-intel==2.14.0->tensorflow) (0.2.0)\n",
      "Requirement already satisfied: ml-dtypes==0.2.0 in c:\\users\\matas\\appdata\\roaming\\python\\python310\\site-packages (from tensorflow-intel==2.14.0->tensorflow) (0.2.0)\n",
      "Requirement already satisfied: termcolor>=1.1.0 in c:\\users\\matas\\appdata\\roaming\\python\\python310\\site-packages (from tensorflow-intel==2.14.0->tensorflow) (2.3.0)\n",
      "Requirement already satisfied: libclang>=13.0.0 in c:\\users\\matas\\appdata\\roaming\\python\\python310\\site-packages (from tensorflow-intel==2.14.0->tensorflow) (16.0.6)\n",
      "Requirement already satisfied: astunparse>=1.6.0 in c:\\users\\matas\\appdata\\roaming\\python\\python310\\site-packages (from tensorflow-intel==2.14.0->tensorflow) (1.6.3)\n",
      "Requirement already satisfied: protobuf!=4.21.0,!=4.21.1,!=4.21.2,!=4.21.3,!=4.21.4,!=4.21.5,<5.0.0dev,>=3.20.3 in c:\\users\\matas\\appdata\\roaming\\python\\python310\\site-packages (from tensorflow-intel==2.14.0->tensorflow) (4.25.0)\n",
      "Requirement already satisfied: numpy>=1.23.5 in c:\\programdata\\anaconda3\\lib\\site-packages (from tensorflow-intel==2.14.0->tensorflow) (1.23.5)\n",
      "Requirement already satisfied: grpcio<2.0,>=1.24.3 in c:\\users\\matas\\appdata\\roaming\\python\\python310\\site-packages (from tensorflow-intel==2.14.0->tensorflow) (1.59.2)\n",
      "Requirement already satisfied: gast!=0.5.0,!=0.5.1,!=0.5.2,>=0.2.1 in c:\\users\\matas\\appdata\\roaming\\python\\python310\\site-packages (from tensorflow-intel==2.14.0->tensorflow) (0.5.4)\n",
      "Requirement already satisfied: wheel<1.0,>=0.23.0 in c:\\programdata\\anaconda3\\lib\\site-packages (from astunparse>=1.6.0->tensorflow-intel==2.14.0->tensorflow) (0.38.4)\n",
      "Requirement already satisfied: google-auth-oauthlib<1.1,>=0.5 in c:\\users\\matas\\appdata\\roaming\\python\\python310\\site-packages (from tensorboard<2.15,>=2.14->tensorflow-intel==2.14.0->tensorflow) (1.0.0)\n",
      "Requirement already satisfied: requests<3,>=2.21.0 in c:\\programdata\\anaconda3\\lib\\site-packages (from tensorboard<2.15,>=2.14->tensorflow-intel==2.14.0->tensorflow) (2.31.0)\n",
      "Requirement already satisfied: google-auth<3,>=1.6.3 in c:\\users\\matas\\appdata\\roaming\\python\\python310\\site-packages (from tensorboard<2.15,>=2.14->tensorflow-intel==2.14.0->tensorflow) (2.23.4)\n",
      "Requirement already satisfied: werkzeug>=1.0.1 in c:\\programdata\\anaconda3\\lib\\site-packages (from tensorboard<2.15,>=2.14->tensorflow-intel==2.14.0->tensorflow) (2.2.2)\n",
      "Requirement already satisfied: markdown>=2.6.8 in c:\\programdata\\anaconda3\\lib\\site-packages (from tensorboard<2.15,>=2.14->tensorflow-intel==2.14.0->tensorflow) (3.4.1)\n",
      "Requirement already satisfied: tensorboard-data-server<0.8.0,>=0.7.0 in c:\\users\\matas\\appdata\\roaming\\python\\python310\\site-packages (from tensorboard<2.15,>=2.14->tensorflow-intel==2.14.0->tensorflow) (0.7.2)\n",
      "Requirement already satisfied: cachetools<6.0,>=2.0.0 in c:\\users\\matas\\appdata\\roaming\\python\\python310\\site-packages (from google-auth<3,>=1.6.3->tensorboard<2.15,>=2.14->tensorflow-intel==2.14.0->tensorflow) (5.3.2)\n",
      "Requirement already satisfied: rsa<5,>=3.1.4 in c:\\users\\matas\\appdata\\roaming\\python\\python310\\site-packages (from google-auth<3,>=1.6.3->tensorboard<2.15,>=2.14->tensorflow-intel==2.14.0->tensorflow) (4.9)\n",
      "Requirement already satisfied: pyasn1-modules>=0.2.1 in c:\\programdata\\anaconda3\\lib\\site-packages (from google-auth<3,>=1.6.3->tensorboard<2.15,>=2.14->tensorflow-intel==2.14.0->tensorflow) (0.2.8)\n",
      "Requirement already satisfied: requests-oauthlib>=0.7.0 in c:\\users\\matas\\appdata\\roaming\\python\\python310\\site-packages (from google-auth-oauthlib<1.1,>=0.5->tensorboard<2.15,>=2.14->tensorflow-intel==2.14.0->tensorflow) (1.3.1)\n",
      "Requirement already satisfied: idna<4,>=2.5 in c:\\programdata\\anaconda3\\lib\\site-packages (from requests<3,>=2.21.0->tensorboard<2.15,>=2.14->tensorflow-intel==2.14.0->tensorflow) (3.4)\n",
      "Requirement already satisfied: urllib3<3,>=1.21.1 in c:\\programdata\\anaconda3\\lib\\site-packages (from requests<3,>=2.21.0->tensorboard<2.15,>=2.14->tensorflow-intel==2.14.0->tensorflow) (1.26.14)\n",
      "Requirement already satisfied: certifi>=2017.4.17 in c:\\programdata\\anaconda3\\lib\\site-packages (from requests<3,>=2.21.0->tensorboard<2.15,>=2.14->tensorflow-intel==2.14.0->tensorflow) (2023.7.22)\n",
      "Requirement already satisfied: charset-normalizer<4,>=2 in c:\\programdata\\anaconda3\\lib\\site-packages (from requests<3,>=2.21.0->tensorboard<2.15,>=2.14->tensorflow-intel==2.14.0->tensorflow) (2.0.4)\n",
      "Requirement already satisfied: MarkupSafe>=2.1.1 in c:\\programdata\\anaconda3\\lib\\site-packages (from werkzeug>=1.0.1->tensorboard<2.15,>=2.14->tensorflow-intel==2.14.0->tensorflow) (2.1.1)\n",
      "Requirement already satisfied: pyasn1<0.5.0,>=0.4.6 in c:\\programdata\\anaconda3\\lib\\site-packages (from pyasn1-modules>=0.2.1->google-auth<3,>=1.6.3->tensorboard<2.15,>=2.14->tensorflow-intel==2.14.0->tensorflow) (0.4.8)\n",
      "Requirement already satisfied: oauthlib>=3.0.0 in c:\\users\\matas\\appdata\\roaming\\python\\python310\\site-packages (from requests-oauthlib>=0.7.0->google-auth-oauthlib<1.1,>=0.5->tensorboard<2.15,>=2.14->tensorflow-intel==2.14.0->tensorflow) (3.2.2)\n"
     ]
    }
   ],
   "source": [
    "installed_packages = [\n",
    "    \"opensmile\",\n",
    "    \"librosa\",\n",
    "    \"google\",\n",
    "    \"treelib\",\n",
    "    \"graphviz\",\n",
    "    \"tensorflow\",\n",
    "]\n",
    "\n",
    "for package in installed_packages:\n",
    "    !pip install {package}"
   ]
  },
  {
   "cell_type": "code",
   "execution_count": 3,
   "metadata": {},
   "outputs": [],
   "source": [
    "import numpy as np\n",
    "import pandas as pd\n",
    "import json"
   ]
  },
  {
   "cell_type": "code",
   "execution_count": 4,
   "metadata": {
    "id": "4pIIqhuk6Wdm"
   },
   "outputs": [],
   "source": [
    "import opensmile\n",
    "\n",
    "smile = opensmile.Smile(\n",
    "#     feature_set=opensmile.FeatureSet.ComParE_2016,\n",
    "    feature_set=opensmile.FeatureSet.eGeMAPSv02,\n",
    "#     feature_set=opensmile.FeatureSet.GeMAPSv01b,\n",
    "    feature_level=opensmile.FeatureLevel.Functionals,\n",
    ")\n"
   ]
  },
  {
   "cell_type": "code",
   "execution_count": 5,
   "metadata": {
    "colab": {
     "base_uri": "https://localhost:8080/",
     "height": 424
    },
    "id": "9CnuzfCN6kxa",
    "outputId": "9c44bd5d-78f4-4762-d13f-fed963850c37"
   },
   "outputs": [],
   "source": [
    "import glob\n",
    "\n",
    "try:\n",
    "    files = glob.glob(\"../data/raw/RAVDESS/*/*.wav\")\n",
    "except:\n",
    "    from google.colab import drive\n",
    "    drive.mount('/content/gdrive')\n",
    "    files = glob.glob(\"/content/gdrive/MyDrive/Colab Notebooks/IP/data/RAVDESS/*/*.wav\")"
   ]
  },
  {
   "cell_type": "code",
   "execution_count": 6,
   "metadata": {},
   "outputs": [],
   "source": [
    "file_name_to_emotion_mapping = {\n",
    "    \"01\": \"neutral\",\n",
    "    \"02\": \"calm\",\n",
    "    \"03\": \"happy\",\n",
    "    \"04\": \"sad\",\n",
    "    \"05\": \"angry\",\n",
    "    \"06\": \"fearful\",\n",
    "    \"07\": \"disgust\",\n",
    "    \"08\": \"surprised\",\n",
    "}"
   ]
  },
  {
   "cell_type": "code",
   "execution_count": 7,
   "metadata": {},
   "outputs": [],
   "source": [
    "emotion_to_positivity_mapping = {\n",
    "    \"neutral\": \"positive\",\n",
    "    \"calm\": \"positive\",\n",
    "    \"happy\": \"positive\",\n",
    "    \"sad\": \"negative\",\n",
    "    \"angry\": \"negative\",\n",
    "    \"fearful\": \"negative\",\n",
    "    \"disgust\": \"negative\",\n",
    "    \"surprised\": \"positive\",\n",
    "}"
   ]
  },
  {
   "cell_type": "code",
   "execution_count": 8,
   "metadata": {},
   "outputs": [],
   "source": [
    "SEED = 42"
   ]
  },
  {
   "cell_type": "markdown",
   "metadata": {},
   "source": [
    "##### Data reading and normalisation"
   ]
  },
  {
   "cell_type": "code",
   "execution_count": 9,
   "metadata": {},
   "outputs": [],
   "source": [
    "speech_data = smile.process_files(files)"
   ]
  },
  {
   "cell_type": "code",
   "execution_count": 10,
   "metadata": {},
   "outputs": [],
   "source": [
    "normalised_speech_data=(speech_data-speech_data.mean())/speech_data.std()\n",
    "normalised_speech_data.dropna(axis='columns', inplace=True)"
   ]
  },
  {
   "cell_type": "code",
   "execution_count": 11,
   "metadata": {},
   "outputs": [],
   "source": [
    "emotion_labels = [file_name_to_emotion_mapping[file.split(\"-\")[-5]] for file in files]"
   ]
  },
  {
   "cell_type": "markdown",
   "metadata": {
    "id": "aikqCd3d7b6d"
   },
   "source": [
    "##### Splitting the data into training, validation and test sets"
   ]
  },
  {
   "cell_type": "code",
   "execution_count": 12,
   "metadata": {},
   "outputs": [],
   "source": [
    "from sklearn.model_selection import train_test_split\n",
    "\n",
    "def perform_3_way_split(data, labels, split, seed=42):\n",
    "    assert np.sum(split) == 100, \"Split must be a 3-tuple with sum of 100\"\n",
    "    train, val, test = (num/100 for num in split)\n",
    "    \n",
    "    data_train_and_val, data_test, labels_train_and_val, labels_test = train_test_split(data, labels, test_size=test, random_state=seed, stratify=labels)\n",
    "    data_train, data_val, labels_train, labels_val = train_test_split(data_train_and_val, labels_train_and_val, test_size=val/(train+val), random_state=seed, stratify=labels_train_and_val)\n",
    "    return (data_train, data_val, data_test), (labels_train, labels_val, labels_test)"
   ]
  },
  {
   "cell_type": "code",
   "execution_count": 13,
   "metadata": {
    "id": "3Wow_Uwc7qN9"
   },
   "outputs": [],
   "source": [
    "speeches = normalised_speech_data\n",
    "emotions = emotion_labels\n",
    "\n",
    "speeches_split, emotions_split = perform_3_way_split(speeches, emotions, (80,10,10), SEED)\n",
    "speeches_train, speeches_val, speeches_test = speeches_split\n",
    "emotions_train, emotions_val, emotions_test = emotions_split"
   ]
  },
  {
   "cell_type": "code",
   "execution_count": 14,
   "metadata": {},
   "outputs": [],
   "source": [
    "emotion_to_number_mapping = {emotion: int(number)-1 for number, emotion in file_name_to_emotion_mapping.items()}\n",
    "emotions_numeric_train = np.array([emotion_to_number_mapping[emotion] for emotion in emotions_train])\n",
    "emotions_numeric_val = np.array([emotion_to_number_mapping[emotion] for emotion in emotions_val])\n",
    "emotions_numeric_test = np.array([emotion_to_number_mapping[emotion] for emotion in emotions_test])"
   ]
  },
  {
   "cell_type": "code",
   "execution_count": 15,
   "metadata": {},
   "outputs": [],
   "source": [
    "emotions_binary_train = np.array([emotion_to_positivity_mapping[emotion] for emotion in emotions_train])\n",
    "emotions_binary_val = np.array([emotion_to_positivity_mapping[emotion] for emotion in emotions_val])\n",
    "emotions_binary_test = np.array([emotion_to_positivity_mapping[emotion] for emotion in emotions_test])"
   ]
  },
  {
   "cell_type": "code",
   "execution_count": 16,
   "metadata": {
    "id": "d7I594NDkO6c"
   },
   "outputs": [],
   "source": [
    "# Pandas dataframes keep the old indexing after sampling, but I need it to be sequential, thus, a reset for the index\n",
    "speeches_train.reset_index(drop=True, inplace=True)\n",
    "speeches_val.reset_index(drop=True, inplace=True)\n",
    "speeches_test.reset_index(drop=True, inplace=True)"
   ]
  },
  {
   "cell_type": "code",
   "execution_count": 17,
   "metadata": {
    "colab": {
     "base_uri": "https://localhost:8080/"
    },
    "id": "mA9wf8eWZpm3",
    "outputId": "a28d0b18-7bd9-40a3-c17c-faa92c2d84e6"
   },
   "outputs": [
    {
     "name": "stdout",
     "output_type": "stream",
     "text": [
      "len(speeches_train)=1152\t\tlen(emotions_train)=1152\n",
      "len(speeches_val)=144\t\tlen(emotions_val)=144\n",
      "len(speeches_test)=144\t\tlen(emotions_test)=144\n",
      "Counter(emotions_train)=Counter({'angry': 154, 'happy': 154, 'calm': 154, 'sad': 154, 'disgust': 154, 'surprised': 153, 'fearful': 153, 'neutral': 76})\n",
      "Counter(emotions_val)=Counter({'fearful': 20, 'calm': 19, 'happy': 19, 'angry': 19, 'sad': 19, 'surprised': 19, 'disgust': 19, 'neutral': 10})\n",
      "Counter(emotions_test)=Counter({'surprised': 20, 'disgust': 19, 'angry': 19, 'fearful': 19, 'calm': 19, 'sad': 19, 'happy': 19, 'neutral': 10})\n"
     ]
    }
   ],
   "source": [
    "from collections import Counter\n",
    "\n",
    "print(f\"{len(speeches_train)=}\\t\\t{len(emotions_train)=}\")\n",
    "print(f\"{len(speeches_val)=}\\t\\t{len(emotions_val)=}\")\n",
    "print(f\"{len(speeches_test)=}\\t\\t{len(emotions_test)=}\")\n",
    "\n",
    "print(f\"{Counter(emotions_train)=}\")\n",
    "print(f\"{Counter(emotions_val)=}\")\n",
    "print(f\"{Counter(emotions_test)=}\")"
   ]
  },
  {
   "cell_type": "markdown",
   "metadata": {
    "id": "dGXOYkvAbuT1"
   },
   "source": [
    "# Classifier comparison section"
   ]
  },
  {
   "cell_type": "markdown",
   "metadata": {
    "id": "RgQbyZBBb5mm"
   },
   "source": [
    "### Building classifiers"
   ]
  },
  {
   "cell_type": "code",
   "execution_count": 18,
   "metadata": {
    "id": "fe_knPbbb-vF"
   },
   "outputs": [],
   "source": [
    "from locale import Error\n",
    "from sklearn.dummy import DummyClassifier\n",
    "from sklearn.linear_model import LogisticRegression\n",
    "from sklearn.svm import SVC\n",
    "from sklearn import metrics\n",
    "\n",
    "def fit_predict_and_score_classifier(classifier, data_train, data_val, labels_train, labels_val, label_set):\n",
    "    classifier.fit(data_train, labels_train)\n",
    "    results = {\"train\": {}, \"val\": {}}\n",
    "    \n",
    "    for set_type in [\"train\", \"val\"]:\n",
    "        if set_type == \"train\":\n",
    "            data = data_train\n",
    "            labels = labels_train\n",
    "        elif set_type == \"val\":\n",
    "            data = data_val\n",
    "            labels = labels_val\n",
    "        else:\n",
    "            raise Error(\"Undefined data set type\")\n",
    "\n",
    "        labels_predicted = classifier.predict(data)\n",
    "\n",
    "        results[set_type][\"predictions\"] = labels_predicted\n",
    "        results[set_type][\"accuracy\"] = metrics.accuracy_score(labels, labels_predicted)\n",
    "        results[set_type][\"precision\"] = metrics.precision_score(labels, labels_predicted, average=\"macro\", zero_division=1)\n",
    "        results[set_type][\"recall\"] = metrics.recall_score(labels, labels_predicted, average=\"macro\", zero_division=1)\n",
    "        results[set_type][\"F1\"] = metrics.f1_score(labels, labels_predicted, average=\"macro\", zero_division=1)\n",
    "\n",
    "    return results\n",
    "\n",
    "def create_result_table(results):\n",
    "    first_key = list(results.keys())[0]\n",
    "    second_key = list(results[first_key].keys())[0]\n",
    "    table = pd.DataFrame(columns=[\"Classifier\", \"Set type\"] + list(results[first_key][second_key].keys()))\n",
    "    for classifier_name, classifier_data in results.items():\n",
    "        for set_type, set_metrics in classifier_data.items():\n",
    "              # Taken from (merging dicts) https://stackoverflow.com/questions/38987/how-do-i-merge-two-dictionaries-in-a-single-expression-in-python\n",
    "            new_row = {\"Classifier\": classifier_name, \"Set type\": set_type} | set_metrics\n",
    "            table = table.append(new_row, ignore_index=True)\n",
    "    return table\n",
    "\n",
    "# def create_result_table(results):\n",
    "#     first_key = list(results.keys())[0]\n",
    "#     second_key = list(results[first_key].keys())[0]\n",
    "#     table = pd.DataFrame(columns=[\"Classifier\", \"Set type\"] + list(results[first_key][second_key].keys()))\n",
    "#     for classifier_name, classifier_data in results.items():\n",
    "#         for set_type, set_metrics in classifier_data.items():\n",
    "#               # Taken from (merging dicts) https://stackoverflow.com/questions/38987/how-do-i-merge-two-dictionaries-in-a-single-expression-in-python\n",
    "#             new_row = pd.DataFrame({\"Classifier\": classifier_name, \"Set type\": set_type} | set_metrics)\n",
    "#             table = pd.concat([table, new_row], ignore_index=True)\n",
    "#     return table\n",
    "\n",
    "def calculate_f1_scores_by_class(labels_predicted, labels):\n",
    "    all_labels = sorted(list(set(labels)))\n",
    "    matrix_dimension = range(len(set(labels)))\n",
    "    matrix = metrics.confusion_matrix(labels, labels_predicted, labels=all_labels)\n",
    "\n",
    "    recalls = [matrix[index, index] / row_sum for index, row_sum in enumerate(np.sum(matrix, axis=1))]\n",
    "    precisions = [matrix[index, index] / column_sum for index, column_sum in enumerate(np.sum(matrix, axis=0))]\n",
    "\n",
    "    f1_scores = {label: {} for label in all_labels}\n",
    "    for index, label in enumerate(all_labels):\n",
    "        f1_scores[label] = 2 * (precisions[index] * recalls[index]) / (precisions[index] + recalls[index])\n",
    "\n",
    "    return f1_scores"
   ]
  },
  {
   "cell_type": "code",
   "execution_count": 19,
   "metadata": {
    "id": "rmOWy_3elp_0"
   },
   "outputs": [],
   "source": [
    "# These parameters are repeated, so they are unwrapped while calling functions to reduce clutter\n",
    "multi_class_parameters = (speeches_train, speeches_val, emotions_train, emotions_val, set(emotions))\n",
    "binary_parameters = (speeches_train, speeches_val, emotions_binary_train, emotions_binary_val, set([\"positive\", \"negative\"]))\n",
    "initial_classifier_results = {}\n",
    "initial_classifier_results_binary = {}"
   ]
  },
  {
   "cell_type": "code",
   "execution_count": 20,
   "metadata": {},
   "outputs": [],
   "source": [
    "dummy_classifier_most_frequent = DummyClassifier(strategy=\"most_frequent\")\n",
    "dummy_classifier_stratified = DummyClassifier(strategy=\"stratified\")\n",
    "logistic_regression = LogisticRegression(max_iter=1000)\n",
    "svc = SVC()"
   ]
  },
  {
   "cell_type": "markdown",
   "metadata": {},
   "source": [
    "### Multi-class classification"
   ]
  },
  {
   "cell_type": "code",
   "execution_count": 21,
   "metadata": {
    "id": "_vbJMZzbEVeN"
   },
   "outputs": [],
   "source": [
    "initial_classifier_results[\"dummy_classifier_most_frequent\"] = fit_predict_and_score_classifier(dummy_classifier_most_frequent, *multi_class_parameters)"
   ]
  },
  {
   "cell_type": "code",
   "execution_count": 22,
   "metadata": {
    "id": "OP12BrTLkY0A"
   },
   "outputs": [],
   "source": [
    "initial_classifier_results[\"dummy_classifier_stratified\"] = fit_predict_and_score_classifier(dummy_classifier_stratified, *multi_class_parameters)"
   ]
  },
  {
   "cell_type": "code",
   "execution_count": 23,
   "metadata": {
    "id": "XFi7oHh1kqcF"
   },
   "outputs": [],
   "source": [
    "initial_classifier_results[\"logistic_regression\"] = fit_predict_and_score_classifier(logistic_regression, *multi_class_parameters)"
   ]
  },
  {
   "cell_type": "code",
   "execution_count": 24,
   "metadata": {
    "id": "BiN0CnX2ktST"
   },
   "outputs": [],
   "source": [
    "initial_classifier_results[\"svc\"] = fit_predict_and_score_classifier(svc, *multi_class_parameters)"
   ]
  },
  {
   "cell_type": "code",
   "execution_count": 25,
   "metadata": {
    "colab": {
     "base_uri": "https://localhost:8080/",
     "height": 363
    },
    "id": "68ytUVLHav6l",
    "outputId": "66b32dd9-2719-493c-8ac7-3261a8a4da8d"
   },
   "outputs": [
    {
     "name": "stderr",
     "output_type": "stream",
     "text": [
      "C:\\Users\\Matas\\AppData\\Local\\Temp\\ipykernel_14388\\2014226108.py:39: FutureWarning: The frame.append method is deprecated and will be removed from pandas in a future version. Use pandas.concat instead.\n",
      "  table = table.append(new_row, ignore_index=True)\n",
      "C:\\Users\\Matas\\AppData\\Local\\Temp\\ipykernel_14388\\2014226108.py:39: FutureWarning: The frame.append method is deprecated and will be removed from pandas in a future version. Use pandas.concat instead.\n",
      "  table = table.append(new_row, ignore_index=True)\n",
      "C:\\Users\\Matas\\AppData\\Local\\Temp\\ipykernel_14388\\2014226108.py:39: FutureWarning: The frame.append method is deprecated and will be removed from pandas in a future version. Use pandas.concat instead.\n",
      "  table = table.append(new_row, ignore_index=True)\n",
      "C:\\Users\\Matas\\AppData\\Local\\Temp\\ipykernel_14388\\2014226108.py:39: FutureWarning: The frame.append method is deprecated and will be removed from pandas in a future version. Use pandas.concat instead.\n",
      "  table = table.append(new_row, ignore_index=True)\n",
      "C:\\Users\\Matas\\AppData\\Local\\Temp\\ipykernel_14388\\2014226108.py:39: FutureWarning: The frame.append method is deprecated and will be removed from pandas in a future version. Use pandas.concat instead.\n",
      "  table = table.append(new_row, ignore_index=True)\n",
      "C:\\Users\\Matas\\AppData\\Local\\Temp\\ipykernel_14388\\2014226108.py:39: FutureWarning: The frame.append method is deprecated and will be removed from pandas in a future version. Use pandas.concat instead.\n",
      "  table = table.append(new_row, ignore_index=True)\n",
      "C:\\Users\\Matas\\AppData\\Local\\Temp\\ipykernel_14388\\2014226108.py:39: FutureWarning: The frame.append method is deprecated and will be removed from pandas in a future version. Use pandas.concat instead.\n",
      "  table = table.append(new_row, ignore_index=True)\n",
      "C:\\Users\\Matas\\AppData\\Local\\Temp\\ipykernel_14388\\2014226108.py:39: FutureWarning: The frame.append method is deprecated and will be removed from pandas in a future version. Use pandas.concat instead.\n",
      "  table = table.append(new_row, ignore_index=True)\n"
     ]
    },
    {
     "data": {
      "text/html": [
       "<div>\n",
       "<style scoped>\n",
       "    .dataframe tbody tr th:only-of-type {\n",
       "        vertical-align: middle;\n",
       "    }\n",
       "\n",
       "    .dataframe tbody tr th {\n",
       "        vertical-align: top;\n",
       "    }\n",
       "\n",
       "    .dataframe thead th {\n",
       "        text-align: right;\n",
       "    }\n",
       "</style>\n",
       "<table border=\"1\" class=\"dataframe\">\n",
       "  <thead>\n",
       "    <tr style=\"text-align: right;\">\n",
       "      <th></th>\n",
       "      <th>Classifier</th>\n",
       "      <th>Set type</th>\n",
       "      <th>predictions</th>\n",
       "      <th>accuracy</th>\n",
       "      <th>precision</th>\n",
       "      <th>recall</th>\n",
       "      <th>F1</th>\n",
       "    </tr>\n",
       "  </thead>\n",
       "  <tbody>\n",
       "    <tr>\n",
       "      <th>0</th>\n",
       "      <td>dummy_classifier_most_frequent</td>\n",
       "      <td>train</td>\n",
       "      <td>[angry, angry, angry, angry, angry, angry, ang...</td>\n",
       "      <td>0.133681</td>\n",
       "      <td>0.891710</td>\n",
       "      <td>0.125000</td>\n",
       "      <td>0.029479</td>\n",
       "    </tr>\n",
       "    <tr>\n",
       "      <th>1</th>\n",
       "      <td>dummy_classifier_most_frequent</td>\n",
       "      <td>val</td>\n",
       "      <td>[angry, angry, angry, angry, angry, angry, ang...</td>\n",
       "      <td>0.131944</td>\n",
       "      <td>0.891493</td>\n",
       "      <td>0.125000</td>\n",
       "      <td>0.029141</td>\n",
       "    </tr>\n",
       "    <tr>\n",
       "      <th>2</th>\n",
       "      <td>dummy_classifier_stratified</td>\n",
       "      <td>train</td>\n",
       "      <td>[disgust, happy, sad, sad, happy, calm, angry,...</td>\n",
       "      <td>0.134549</td>\n",
       "      <td>0.130735</td>\n",
       "      <td>0.131006</td>\n",
       "      <td>0.130768</td>\n",
       "    </tr>\n",
       "    <tr>\n",
       "      <th>3</th>\n",
       "      <td>dummy_classifier_stratified</td>\n",
       "      <td>val</td>\n",
       "      <td>[fearful, angry, happy, sad, sad, sad, disgust...</td>\n",
       "      <td>0.125000</td>\n",
       "      <td>0.109707</td>\n",
       "      <td>0.117763</td>\n",
       "      <td>0.112289</td>\n",
       "    </tr>\n",
       "    <tr>\n",
       "      <th>4</th>\n",
       "      <td>logistic_regression</td>\n",
       "      <td>train</td>\n",
       "      <td>[angry, happy, calm, happy, neutral, neutral, ...</td>\n",
       "      <td>0.763889</td>\n",
       "      <td>0.761988</td>\n",
       "      <td>0.762210</td>\n",
       "      <td>0.761048</td>\n",
       "    </tr>\n",
       "    <tr>\n",
       "      <th>5</th>\n",
       "      <td>logistic_regression</td>\n",
       "      <td>val</td>\n",
       "      <td>[calm, angry, happy, calm, fearful, angry, sur...</td>\n",
       "      <td>0.604167</td>\n",
       "      <td>0.601776</td>\n",
       "      <td>0.610197</td>\n",
       "      <td>0.603314</td>\n",
       "    </tr>\n",
       "    <tr>\n",
       "      <th>6</th>\n",
       "      <td>svc</td>\n",
       "      <td>train</td>\n",
       "      <td>[angry, happy, calm, happy, surprised, calm, f...</td>\n",
       "      <td>0.796007</td>\n",
       "      <td>0.798800</td>\n",
       "      <td>0.776510</td>\n",
       "      <td>0.780752</td>\n",
       "    </tr>\n",
       "    <tr>\n",
       "      <th>7</th>\n",
       "      <td>svc</td>\n",
       "      <td>val</td>\n",
       "      <td>[calm, angry, angry, calm, happy, angry, happy...</td>\n",
       "      <td>0.625000</td>\n",
       "      <td>0.619556</td>\n",
       "      <td>0.606250</td>\n",
       "      <td>0.606615</td>\n",
       "    </tr>\n",
       "  </tbody>\n",
       "</table>\n",
       "</div>"
      ],
      "text/plain": [
       "                       Classifier Set type  \\\n",
       "0  dummy_classifier_most_frequent    train   \n",
       "1  dummy_classifier_most_frequent      val   \n",
       "2     dummy_classifier_stratified    train   \n",
       "3     dummy_classifier_stratified      val   \n",
       "4             logistic_regression    train   \n",
       "5             logistic_regression      val   \n",
       "6                             svc    train   \n",
       "7                             svc      val   \n",
       "\n",
       "                                         predictions  accuracy  precision  \\\n",
       "0  [angry, angry, angry, angry, angry, angry, ang...  0.133681   0.891710   \n",
       "1  [angry, angry, angry, angry, angry, angry, ang...  0.131944   0.891493   \n",
       "2  [disgust, happy, sad, sad, happy, calm, angry,...  0.134549   0.130735   \n",
       "3  [fearful, angry, happy, sad, sad, sad, disgust...  0.125000   0.109707   \n",
       "4  [angry, happy, calm, happy, neutral, neutral, ...  0.763889   0.761988   \n",
       "5  [calm, angry, happy, calm, fearful, angry, sur...  0.604167   0.601776   \n",
       "6  [angry, happy, calm, happy, surprised, calm, f...  0.796007   0.798800   \n",
       "7  [calm, angry, angry, calm, happy, angry, happy...  0.625000   0.619556   \n",
       "\n",
       "     recall        F1  \n",
       "0  0.125000  0.029479  \n",
       "1  0.125000  0.029141  \n",
       "2  0.131006  0.130768  \n",
       "3  0.117763  0.112289  \n",
       "4  0.762210  0.761048  \n",
       "5  0.610197  0.603314  \n",
       "6  0.776510  0.780752  \n",
       "7  0.606250  0.606615  "
      ]
     },
     "metadata": {},
     "output_type": "display_data"
    }
   ],
   "source": [
    "initial_classifier_results_table = create_result_table(initial_classifier_results)\n",
    "display(initial_classifier_results_table)"
   ]
  },
  {
   "cell_type": "code",
   "execution_count": 26,
   "metadata": {
    "colab": {
     "base_uri": "https://localhost:8080/"
    },
    "id": "9XYuc7nRmNGd",
    "outputId": "7dc876a9-53df-4282-8600-0af2d9e98bbd"
   },
   "outputs": [
    {
     "name": "stdout",
     "output_type": "stream",
     "text": [
      "angry: 0.7272727272727273\n",
      "calm: 0.7272727272727272\n",
      "disgust: 0.5641025641025641\n",
      "fearful: 0.5238095238095238\n",
      "happy: 0.5789473684210527\n",
      "neutral: 0.3529411764705882\n",
      "sad: 0.6285714285714286\n",
      "surprised: 0.7500000000000001\n"
     ]
    }
   ],
   "source": [
    "f1_scores = calculate_f1_scores_by_class(initial_classifier_results[\"svc\"][\"val\"][\"predictions\"], emotions_val)\n",
    "for emotion, score in f1_scores.items():\n",
    "    print(f\"{emotion}: {score}\")"
   ]
  },
  {
   "cell_type": "code",
   "execution_count": 27,
   "metadata": {
    "colab": {
     "base_uri": "https://localhost:8080/",
     "height": 350
    },
    "id": "ZPCMAGy4opci",
    "outputId": "fab6fd7c-b687-4747-fc6b-db022f1062e2"
   },
   "outputs": [
    {
     "data": {
      "image/png": "[encoded data removed]",
      "text/plain": [
       "<Figure size 1000x500 with 1 Axes>"
      ]
     },
     "metadata": {},
     "output_type": "display_data"
    }
   ],
   "source": [
    "# Taken from https://www.geeksforgeeks.org/bar-plot-in-matplotlib/\n",
    "\n",
    "import matplotlib.pyplot as plt\n",
    "\n",
    "list_of_emotions = list(f1_scores.keys())\n",
    "f1_score_values = list(f1_scores.values())\n",
    "\n",
    "fig = plt.figure(figsize = (10, 5))\n",
    "\n",
    "plt.bar(list_of_emotions, f1_score_values, color ='blue', width = 0.6)\n",
    "plt.xlabel(\"Labels (emotions)\")\n",
    "plt.ylabel(\"F1 class score\")\n",
    "plt.title(\"F1 scores by class of svc classifier\")\n",
    "plt.show()"
   ]
  },
  {
   "cell_type": "code",
   "execution_count": 28,
   "metadata": {},
   "outputs": [
    {
     "data": {
      "image/png": "[encoded data removed]",
      "text/plain": [
       "<Figure size 640x480 with 2 Axes>"
      ]
     },
     "metadata": {},
     "output_type": "display_data"
    }
   ],
   "source": [
    "from sklearn import metrics\n",
    "\n",
    "metrics.ConfusionMatrixDisplay.from_predictions(emotions_val, initial_classifier_results[\"svc\"][\"val\"][\"predictions\"])\n",
    "plt.show()"
   ]
  },
  {
   "cell_type": "markdown",
   "metadata": {},
   "source": [
    "### Binary classification"
   ]
  },
  {
   "cell_type": "code",
   "execution_count": 29,
   "metadata": {},
   "outputs": [],
   "source": [
    "initial_classifier_results_binary[\"dummy_classifier_most_frequent\"] = fit_predict_and_score_classifier(dummy_classifier_most_frequent, *binary_parameters)"
   ]
  },
  {
   "cell_type": "code",
   "execution_count": 30,
   "metadata": {
    "id": "OP12BrTLkY0A"
   },
   "outputs": [],
   "source": [
    "initial_classifier_results_binary[\"dummy_classifier_stratified\"] = fit_predict_and_score_classifier(dummy_classifier_stratified, *binary_parameters)"
   ]
  },
  {
   "cell_type": "code",
   "execution_count": 31,
   "metadata": {
    "id": "XFi7oHh1kqcF"
   },
   "outputs": [],
   "source": [
    "initial_classifier_results_binary[\"logistic_regression\"] = fit_predict_and_score_classifier(logistic_regression, *binary_parameters)"
   ]
  },
  {
   "cell_type": "code",
   "execution_count": 32,
   "metadata": {
    "id": "BiN0CnX2ktST"
   },
   "outputs": [],
   "source": [
    "initial_classifier_results_binary[\"svc\"] = fit_predict_and_score_classifier(svc, *binary_parameters)"
   ]
  },
  {
   "cell_type": "code",
   "execution_count": 33,
   "metadata": {
    "colab": {
     "base_uri": "https://localhost:8080/",
     "height": 363
    },
    "id": "68ytUVLHav6l",
    "outputId": "66b32dd9-2719-493c-8ac7-3261a8a4da8d"
   },
   "outputs": [
    {
     "name": "stderr",
     "output_type": "stream",
     "text": [
      "C:\\Users\\Matas\\AppData\\Local\\Temp\\ipykernel_14388\\2014226108.py:39: FutureWarning: The frame.append method is deprecated and will be removed from pandas in a future version. Use pandas.concat instead.\n",
      "  table = table.append(new_row, ignore_index=True)\n",
      "C:\\Users\\Matas\\AppData\\Local\\Temp\\ipykernel_14388\\2014226108.py:39: FutureWarning: The frame.append method is deprecated and will be removed from pandas in a future version. Use pandas.concat instead.\n",
      "  table = table.append(new_row, ignore_index=True)\n",
      "C:\\Users\\Matas\\AppData\\Local\\Temp\\ipykernel_14388\\2014226108.py:39: FutureWarning: The frame.append method is deprecated and will be removed from pandas in a future version. Use pandas.concat instead.\n",
      "  table = table.append(new_row, ignore_index=True)\n",
      "C:\\Users\\Matas\\AppData\\Local\\Temp\\ipykernel_14388\\2014226108.py:39: FutureWarning: The frame.append method is deprecated and will be removed from pandas in a future version. Use pandas.concat instead.\n",
      "  table = table.append(new_row, ignore_index=True)\n",
      "C:\\Users\\Matas\\AppData\\Local\\Temp\\ipykernel_14388\\2014226108.py:39: FutureWarning: The frame.append method is deprecated and will be removed from pandas in a future version. Use pandas.concat instead.\n",
      "  table = table.append(new_row, ignore_index=True)\n",
      "C:\\Users\\Matas\\AppData\\Local\\Temp\\ipykernel_14388\\2014226108.py:39: FutureWarning: The frame.append method is deprecated and will be removed from pandas in a future version. Use pandas.concat instead.\n",
      "  table = table.append(new_row, ignore_index=True)\n",
      "C:\\Users\\Matas\\AppData\\Local\\Temp\\ipykernel_14388\\2014226108.py:39: FutureWarning: The frame.append method is deprecated and will be removed from pandas in a future version. Use pandas.concat instead.\n",
      "  table = table.append(new_row, ignore_index=True)\n",
      "C:\\Users\\Matas\\AppData\\Local\\Temp\\ipykernel_14388\\2014226108.py:39: FutureWarning: The frame.append method is deprecated and will be removed from pandas in a future version. Use pandas.concat instead.\n",
      "  table = table.append(new_row, ignore_index=True)\n"
     ]
    },
    {
     "data": {
      "text/html": [
       "<div>\n",
       "<style scoped>\n",
       "    .dataframe tbody tr th:only-of-type {\n",
       "        vertical-align: middle;\n",
       "    }\n",
       "\n",
       "    .dataframe tbody tr th {\n",
       "        vertical-align: top;\n",
       "    }\n",
       "\n",
       "    .dataframe thead th {\n",
       "        text-align: right;\n",
       "    }\n",
       "</style>\n",
       "<table border=\"1\" class=\"dataframe\">\n",
       "  <thead>\n",
       "    <tr style=\"text-align: right;\">\n",
       "      <th></th>\n",
       "      <th>Classifier</th>\n",
       "      <th>Set type</th>\n",
       "      <th>predictions</th>\n",
       "      <th>accuracy</th>\n",
       "      <th>precision</th>\n",
       "      <th>recall</th>\n",
       "      <th>F1</th>\n",
       "    </tr>\n",
       "  </thead>\n",
       "  <tbody>\n",
       "    <tr>\n",
       "      <th>0</th>\n",
       "      <td>dummy_classifier_most_frequent</td>\n",
       "      <td>train</td>\n",
       "      <td>[negative, negative, negative, negative, negat...</td>\n",
       "      <td>0.533854</td>\n",
       "      <td>0.766927</td>\n",
       "      <td>0.500000</td>\n",
       "      <td>0.348048</td>\n",
       "    </tr>\n",
       "    <tr>\n",
       "      <th>1</th>\n",
       "      <td>dummy_classifier_most_frequent</td>\n",
       "      <td>val</td>\n",
       "      <td>[negative, negative, negative, negative, negat...</td>\n",
       "      <td>0.534722</td>\n",
       "      <td>0.767361</td>\n",
       "      <td>0.500000</td>\n",
       "      <td>0.348416</td>\n",
       "    </tr>\n",
       "    <tr>\n",
       "      <th>2</th>\n",
       "      <td>dummy_classifier_stratified</td>\n",
       "      <td>train</td>\n",
       "      <td>[positive, negative, positive, negative, negat...</td>\n",
       "      <td>0.500868</td>\n",
       "      <td>0.498153</td>\n",
       "      <td>0.498156</td>\n",
       "      <td>0.498136</td>\n",
       "    </tr>\n",
       "    <tr>\n",
       "      <th>3</th>\n",
       "      <td>dummy_classifier_stratified</td>\n",
       "      <td>val</td>\n",
       "      <td>[negative, positive, negative, negative, posit...</td>\n",
       "      <td>0.465278</td>\n",
       "      <td>0.455357</td>\n",
       "      <td>0.457356</td>\n",
       "      <td>0.453659</td>\n",
       "    </tr>\n",
       "    <tr>\n",
       "      <th>4</th>\n",
       "      <td>logistic_regression</td>\n",
       "      <td>train</td>\n",
       "      <td>[negative, positive, positive, positive, posit...</td>\n",
       "      <td>0.774306</td>\n",
       "      <td>0.773329</td>\n",
       "      <td>0.772912</td>\n",
       "      <td>0.773099</td>\n",
       "    </tr>\n",
       "    <tr>\n",
       "      <th>5</th>\n",
       "      <td>logistic_regression</td>\n",
       "      <td>val</td>\n",
       "      <td>[positive, positive, negative, negative, negat...</td>\n",
       "      <td>0.715278</td>\n",
       "      <td>0.713869</td>\n",
       "      <td>0.713413</td>\n",
       "      <td>0.713607</td>\n",
       "    </tr>\n",
       "    <tr>\n",
       "      <th>6</th>\n",
       "      <td>svc</td>\n",
       "      <td>train</td>\n",
       "      <td>[negative, positive, positive, positive, posit...</td>\n",
       "      <td>0.893229</td>\n",
       "      <td>0.893254</td>\n",
       "      <td>0.892088</td>\n",
       "      <td>0.892588</td>\n",
       "    </tr>\n",
       "    <tr>\n",
       "      <th>7</th>\n",
       "      <td>svc</td>\n",
       "      <td>val</td>\n",
       "      <td>[positive, negative, negative, negative, negat...</td>\n",
       "      <td>0.770833</td>\n",
       "      <td>0.772619</td>\n",
       "      <td>0.766331</td>\n",
       "      <td>0.767594</td>\n",
       "    </tr>\n",
       "  </tbody>\n",
       "</table>\n",
       "</div>"
      ],
      "text/plain": [
       "                       Classifier Set type  \\\n",
       "0  dummy_classifier_most_frequent    train   \n",
       "1  dummy_classifier_most_frequent      val   \n",
       "2     dummy_classifier_stratified    train   \n",
       "3     dummy_classifier_stratified      val   \n",
       "4             logistic_regression    train   \n",
       "5             logistic_regression      val   \n",
       "6                             svc    train   \n",
       "7                             svc      val   \n",
       "\n",
       "                                         predictions  accuracy  precision  \\\n",
       "0  [negative, negative, negative, negative, negat...  0.533854   0.766927   \n",
       "1  [negative, negative, negative, negative, negat...  0.534722   0.767361   \n",
       "2  [positive, negative, positive, negative, negat...  0.500868   0.498153   \n",
       "3  [negative, positive, negative, negative, posit...  0.465278   0.455357   \n",
       "4  [negative, positive, positive, positive, posit...  0.774306   0.773329   \n",
       "5  [positive, positive, negative, negative, negat...  0.715278   0.713869   \n",
       "6  [negative, positive, positive, positive, posit...  0.893229   0.893254   \n",
       "7  [positive, negative, negative, negative, negat...  0.770833   0.772619   \n",
       "\n",
       "     recall        F1  \n",
       "0  0.500000  0.348048  \n",
       "1  0.500000  0.348416  \n",
       "2  0.498156  0.498136  \n",
       "3  0.457356  0.453659  \n",
       "4  0.772912  0.773099  \n",
       "5  0.713413  0.713607  \n",
       "6  0.892088  0.892588  \n",
       "7  0.766331  0.767594  "
      ]
     },
     "metadata": {},
     "output_type": "display_data"
    }
   ],
   "source": [
    "initial_classifier_results_table_binary = create_result_table(initial_classifier_results_binary)\n",
    "display(initial_classifier_results_table_binary)"
   ]
  },
  {
   "cell_type": "code",
   "execution_count": 34,
   "metadata": {
    "colab": {
     "base_uri": "https://localhost:8080/"
    },
    "id": "9XYuc7nRmNGd",
    "outputId": "7dc876a9-53df-4282-8600-0af2d9e98bbd"
   },
   "outputs": [
    {
     "name": "stdout",
     "output_type": "stream",
     "text": [
      "negative: 0.7354838709677418\n",
      "positive: 0.6917293233082707\n"
     ]
    }
   ],
   "source": [
    "f1_scores_binary = calculate_f1_scores_by_class(initial_classifier_results_binary[\"logistic_regression\"][\"val\"][\"predictions\"], emotions_binary_val)\n",
    "for emotion, score in f1_scores_binary.items():\n",
    "    print(f\"{emotion}: {score}\")"
   ]
  },
  {
   "cell_type": "code",
   "execution_count": 35,
   "metadata": {
    "colab": {
     "base_uri": "https://localhost:8080/",
     "height": 350
    },
    "id": "ZPCMAGy4opci",
    "outputId": "fab6fd7c-b687-4747-fc6b-db022f1062e2"
   },
   "outputs": [
    {
     "data": {
      "image/png": "[encoded data removed]",
      "text/plain": [
       "<Figure size 1000x500 with 1 Axes>"
      ]
     },
     "metadata": {},
     "output_type": "display_data"
    }
   ],
   "source": [
    "# Taken from https://www.geeksforgeeks.org/bar-plot-in-matplotlib/\n",
    "\n",
    "import matplotlib.pyplot as plt\n",
    "\n",
    "list_of_emotions_binary = list(f1_scores_binary.keys())\n",
    "f1_score_values_binary = list(f1_scores_binary.values())\n",
    "\n",
    "fig = plt.figure(figsize = (10, 5))\n",
    "\n",
    "plt.bar(list_of_emotions_binary, f1_score_values_binary, color ='blue', width = 0.6)\n",
    "plt.xlabel(\"Labels (emotions)\")\n",
    "plt.ylabel(\"F1 class score\")\n",
    "plt.title(\"F1 scores by class of logistic_regression classifier\")\n",
    "plt.show()"
   ]
  },
  {
   "cell_type": "code",
   "execution_count": 36,
   "metadata": {},
   "outputs": [
    {
     "data": {
      "image/png": "[encoded data removed]",
      "text/plain": [
       "<Figure size 640x480 with 2 Axes>"
      ]
     },
     "metadata": {},
     "output_type": "display_data"
    }
   ],
   "source": [
    "metrics.ConfusionMatrixDisplay.from_predictions(emotions_binary_val, initial_classifier_results_binary[\"logistic_regression\"][\"val\"][\"predictions\"])\n",
    "plt.show()"
   ]
  },
  {
   "cell_type": "markdown",
   "metadata": {},
   "source": [
    "### Feature visualisation"
   ]
  },
  {
   "cell_type": "code",
   "execution_count": 37,
   "metadata": {},
   "outputs": [],
   "source": [
    "# !jupyter notebook --NotebookApp.iopub_data_rate_limit=1.0e10"
   ]
  },
  {
   "cell_type": "code",
   "execution_count": 38,
   "metadata": {},
   "outputs": [],
   "source": [
    "import treelib\n",
    "\n",
    "def add_node(tree, feature, is_feature):\n",
    "    feature_parent, delimiter, feature_name = feature.rpartition(\"_\")\n",
    "    \n",
    "    if not tree.contains(feature_parent):\n",
    "        add_node(tree, feature_parent, False)\n",
    "    \n",
    "    try:\n",
    "        tree.create_node(tag=feature_name, identifier=feature, parent=feature_parent, data=is_feature)\n",
    "    except treelib.exceptions.DuplicatedNodeIdError as error:\n",
    "        # Such node already exists, potentially because recursive parent creation created it before reaching the node itself\n",
    "        if is_feature:\n",
    "            feature_tree.get_node(feature).data = True\n",
    "\n",
    "feature_tree = treelib.Tree()\n",
    "\n",
    "feature_tree.create_node(tag=\"ROOT\", identifier=\"\", data=False)\n",
    "\n",
    "for column in speeches_train.columns:\n",
    "    add_node(feature_tree, column, True)"
   ]
  },
  {
   "cell_type": "code",
   "execution_count": 39,
   "metadata": {},
   "outputs": [
    {
     "data": {
      "text/plain": [
       "2"
      ]
     },
     "execution_count": 39,
     "metadata": {},
     "output_type": "execute_result"
    }
   ],
   "source": [
    "# Taken from https://medium.com/dive-into-ml-ai/tree-data-visualization-with-treelib-71633f6fd8fb\n",
    "import subprocess\n",
    "\n",
    "feature_tree.to_graphviz(\"Feature hierarchy graph description.dot\")\n",
    "subprocess.call([\"dot\", \"-Tsvg\", \"hello.dot\", \"-o\", \"Feature hierarchy graph.svg\"])"
   ]
  },
  {
   "cell_type": "code",
   "execution_count": 40,
   "metadata": {},
   "outputs": [],
   "source": [
    "# feature_tree.all_nodes()"
   ]
  },
  {
   "cell_type": "code",
   "execution_count": 41,
   "metadata": {},
   "outputs": [
    {
     "name": "stdout",
     "output_type": "stream",
     "text": [
      "Counter({'amean': 35, 'stddevNorm': 30, 'percentile20.0': 2, 'percentile50.0': 2, 'percentile80.0': 2, 'pctlrange0-2': 2, 'meanRisingSlope': 2, 'stddevRisingSlope': 2, 'meanFallingSlope': 2, 'stddevFallingSlope': 2, 'loudnessPeaksPerSec': 1, 'VoicedSegmentsPerSec': 1, 'MeanVoicedSegmentLengthSec': 1, 'StddevVoicedSegmentLengthSec': 1, 'MeanUnvoicedSegmentLength': 1, 'StddevUnvoicedSegmentLength': 1, 'dBp': 1})\n"
     ]
    }
   ],
   "source": [
    "feature_endings = []\n",
    "analysis_by_endings = {}\n",
    "\n",
    "for column in speeches_train.columns:\n",
    "    feature_parent, delimiter, ending = column.rpartition(\"_\")\n",
    "    feature_endings.append(ending)\n",
    "    \n",
    "    if ending not in analysis_by_endings.keys():\n",
    "        analysis_by_endings[ending] = {\"features\": []}\n",
    "    \n",
    "    analysis_by_endings[ending][\"features\"].append(column)\n",
    "    \n",
    "print(Counter(feature_endings))"
   ]
  },
  {
   "cell_type": "markdown",
   "metadata": {},
   "source": [
    "### Feature optimisation section"
   ]
  },
  {
   "cell_type": "code",
   "execution_count": 42,
   "metadata": {},
   "outputs": [],
   "source": [
    "classifier_for_feature_optimisation = svc\n",
    "baseline_f1_score = initial_classifier_results[\"svc\"][\"val\"][\"F1\"]\n",
    "\n",
    "features_used_for_testing = 10_000 # 50 # 600\n",
    "\n",
    "speeches_train_copy = speeches_train.copy()\n",
    "speeches_train_copy.drop(speeches_train.columns[features_used_for_testing:], axis=1, inplace=True)\n",
    "speeches_val_copy = speeches_val.copy()\n",
    "speeches_val_copy.drop(speeches_val.columns[features_used_for_testing:], axis=1, inplace=True)"
   ]
  },
  {
   "cell_type": "code",
   "execution_count": 43,
   "metadata": {
    "scrolled": true
   },
   "outputs": [],
   "source": [
    "# ### Separated model to reduce time demands\n",
    "\n",
    "# from ipywidgets import IntProgress\n",
    "\n",
    "# # raise Exception(\"Prevent this cell from running so that it doesn't get stuck\")\n",
    "\n",
    "# endings_progress_bar = IntProgress(\n",
    "#     min=0,\n",
    "#     max=len(analysis_by_endings.keys())-1,\n",
    "#     description = f\"0/{len(analysis_by_endings)-1} ending\"\n",
    "# )\n",
    "\n",
    "# progress_bar = IntProgress(\n",
    "#     min=0,\n",
    "#     max=len(speeches_train_copy.columns)-1,\n",
    "#     description = f\"0th feature\"\n",
    "# )\n",
    "\n",
    "# inner_progress_bar = IntProgress(\n",
    "#     min=0,\n",
    "#     max=len(speeches_train.columns)-1,\n",
    "#     description = f\"0/{len(speeches_train_copy.columns)-1}\"\n",
    "# )\n",
    "\n",
    "# display(endings_progress_bar)\n",
    "# display(progress_bar)\n",
    "# display(inner_progress_bar)\n",
    "\n",
    "# for ending_index, data in enumerate(list(analysis_by_endings.values())):\n",
    "#     data[\"final_data_frame\"] = pd.DataFrame()\n",
    "#     data[\"removed_features\"] = []\n",
    "\n",
    "#     speeches_train_copy = speeches_train.copy()[data[\"features\"]]\n",
    "#     speeches_val_copy = speeches_val.copy()[data[\"features\"]]\n",
    "    \n",
    "#     progress_bar.value = 0\n",
    "#     progress_bar.max = len(speeches_train_copy.columns)-1\n",
    "#     inner_progress_bar.value = 0\n",
    "#     inner_progress_bar.max = len(speeches_train_copy.columns)-1\n",
    "#     endings_progress_bar.description = f\"{ending_index}/{len(analysis_by_endings)-1} ending\"\n",
    "    \n",
    "#     for feature_index in range(len(speeches_train_copy.columns)-1): # -1 so that the last feature is not deleted and an empty DataFrame is passed\n",
    "#         progress_bar.description = f\"{feature_index}/{len(speeches_train_copy.columns)-1} feature\"\n",
    "\n",
    "#         # Setting the new baseline\n",
    "#         result = fit_predict_and_score_classifier(\n",
    "#                 classifier_for_feature_optimisation,\n",
    "#                 speeches_train_copy,\n",
    "#                 speeches_val_copy, # speeches_val,\n",
    "#                 emotions_train,\n",
    "#                 emotions_val,\n",
    "#                 set(emotions)\n",
    "#             )\n",
    "#         max_f1_score = result[\"val\"][\"F1\"]\n",
    "#         column_to_remove = None\n",
    "\n",
    "#         # Finding the worst F1-reducing feature\n",
    "#         inner_progress_bar.max = len(speeches_train_copy.columns)\n",
    "#         inner_progress_bar.value = 0\n",
    "\n",
    "#         for index, column in enumerate(speeches_train_copy.columns):\n",
    "#             inner_progress_bar.description = f\"{index}/{len(speeches_train_copy.columns)-1}\"\n",
    "\n",
    "#             result = fit_predict_and_score_classifier(\n",
    "#                 classifier_for_feature_optimisation,\n",
    "#                 speeches_train_copy.drop([column], axis=1),\n",
    "#                 speeches_val_copy.drop([column], axis=1), # speeches_val.drop([column], axis=1),\n",
    "#                 emotions_train,\n",
    "#                 emotions_val,\n",
    "#                 set(emotions)\n",
    "#             )\n",
    "#             f1_score = result[\"val\"][\"F1\"]\n",
    "\n",
    "#             if f1_score > max_f1_score:\n",
    "#                 max_f1_score = f1_score\n",
    "#                 column_to_remove = column\n",
    "\n",
    "#             inner_progress_bar.value += 1\n",
    "\n",
    "#         # Removing the worst feature\n",
    "#         if column_to_remove is not None:\n",
    "#             speeches_train_copy.drop([column_to_remove], axis=1, inplace=True)\n",
    "#             speeches_val_copy.drop([column_to_remove], axis=1, inplace=True) # speeches_val.drop([column_to_remove], axis=1, inplace=True)\n",
    "#             data[\"removed_features\"].append((column_to_remove, max_f1_score, max_f1_score - f1_score))\n",
    "#             progress_bar.value += 1\n",
    "#         else:\n",
    "#             progress_bar.value = progress_bar.max\n",
    "#             inner_progress_bar.value = inner_progress_bar.max\n",
    "#             data[\"final_data_frame\"] = speeches_train_copy.copy()\n",
    "#             break\n",
    "            \n",
    "#     endings_progress_bar.value += 1"
   ]
  },
  {
   "cell_type": "code",
   "execution_count": 44,
   "metadata": {},
   "outputs": [
    {
     "data": {
      "application/vnd.jupyter.widget-view+json": {
       "model_id": "65c70f21bcf247ec9ae604fb3a20571b",
       "version_major": 2,
       "version_minor": 0
      },
      "text/plain": [
       "IntProgress(value=0, description='0th feature', max=87)"
      ]
     },
     "metadata": {},
     "output_type": "display_data"
    },
    {
     "data": {
      "application/vnd.jupyter.widget-view+json": {
       "model_id": "18d0b91f75724d52ac7939bfdc4c827c",
       "version_major": 2,
       "version_minor": 0
      },
      "text/plain": [
       "IntProgress(value=0, description='0/87', max=87)"
      ]
     },
     "metadata": {},
     "output_type": "display_data"
    }
   ],
   "source": [
    "### Full version (slow but checking everything)\n",
    "\n",
    "from ipywidgets import IntProgress\n",
    "\n",
    "# raise Exception(\"Prevent this cell from running so that it doesn't get stuck\")\n",
    "\n",
    "progress_bar = IntProgress(\n",
    "    min=0,\n",
    "    max=len(speeches_train_copy.columns)-1,\n",
    "    description = f\"0th feature\"\n",
    ")\n",
    "\n",
    "inner_progress_bar = IntProgress(\n",
    "    min=0,\n",
    "    max=len(speeches_train.columns)-1,\n",
    "    description = f\"0/{len(speeches_train_copy.columns)-1}\"\n",
    ")\n",
    "\n",
    "display(progress_bar)\n",
    "display(inner_progress_bar)\n",
    "\n",
    "data = []\n",
    "final_data_frame = None\n",
    "# data[\"final_data_frame\"] = pd.DataFrame()\n",
    "# data[\"removed_features\"] = []\n",
    "\n",
    "speeches_train_copy = speeches_train.copy()\n",
    "speeches_val_copy = speeches_val.copy()\n",
    "\n",
    "progress_bar.value = 0\n",
    "progress_bar.max = len(speeches_train_copy.columns)-1\n",
    "inner_progress_bar.value = 0\n",
    "inner_progress_bar.max = len(speeches_train_copy.columns)-1\n",
    "\n",
    "for feature_index in range(len(speeches_train_copy.columns)-1): # -1 so that the last feature is not deleted and an empty DataFrame is passed\n",
    "    progress_bar.description = f\"{feature_index}/{len(speeches_train_copy.columns)-1} feature\"\n",
    "\n",
    "    # Setting the new baseline\n",
    "    result = fit_predict_and_score_classifier(\n",
    "            classifier_for_feature_optimisation,\n",
    "            speeches_train_copy,\n",
    "            speeches_val_copy, # speeches_val,\n",
    "            emotions_train,\n",
    "            emotions_val,\n",
    "            set(emotions)\n",
    "        )\n",
    "    max_f1_score = result[\"val\"][\"F1\"]\n",
    "    column_to_remove = None\n",
    "\n",
    "    # Finding the worst F1-reducing feature\n",
    "    inner_progress_bar.max = len(speeches_train_copy.columns)\n",
    "    inner_progress_bar.value = 0\n",
    "\n",
    "    for index, column in enumerate(speeches_train_copy.columns):\n",
    "        inner_progress_bar.description = f\"{index}/{len(speeches_train_copy.columns)-1}\"\n",
    "\n",
    "        result = fit_predict_and_score_classifier(\n",
    "            classifier_for_feature_optimisation,\n",
    "            speeches_train_copy.drop([column], axis=1),\n",
    "            speeches_val_copy.drop([column], axis=1), # speeches_val.drop([column], axis=1),\n",
    "            emotions_train,\n",
    "            emotions_val,\n",
    "            set(emotions)\n",
    "        )\n",
    "        f1_score = result[\"val\"][\"F1\"]\n",
    "\n",
    "        if f1_score > max_f1_score:\n",
    "            max_f1_score = f1_score\n",
    "            column_to_remove = column\n",
    "\n",
    "        inner_progress_bar.value += 1\n",
    "\n",
    "    # Removing the worst feature\n",
    "    if column_to_remove is not None:\n",
    "        speeches_train_copy.drop([column_to_remove], axis=1, inplace=True)\n",
    "        speeches_val_copy.drop([column_to_remove], axis=1, inplace=True) # speeches_val.drop([column_to_remove], axis=1, inplace=True)\n",
    "        data.append((column_to_remove, max_f1_score, max_f1_score - f1_score))\n",
    "        progress_bar.value += 1\n",
    "    else:\n",
    "        progress_bar.value = progress_bar.max\n",
    "        inner_progress_bar.value = inner_progress_bar.max\n",
    "        final_data_frame = speeches_train_copy.copy()\n",
    "        break"
   ]
  },
  {
   "cell_type": "code",
   "execution_count": 45,
   "metadata": {},
   "outputs": [
    {
     "data": {
      "text/plain": [
       "[('shimmerLocaldB_sma3nz_amean', 0.6199926243625395, 0.027575027339679314),\n",
       " ('hammarbergIndexV_sma3nz_stddevNorm',\n",
       "  0.6465581730108272,\n",
       "  0.03341155681244523),\n",
       " ('logRelF0-H1-A3_sma3nz_stddevNorm',\n",
       "  0.6526467669850022,\n",
       "  0.020067151010703443),\n",
       " ('mfcc3V_sma3nz_stddevNorm', 0.6584668330024367, 0.020033144629947874),\n",
       " ('loudness_sma3_stddevNorm', 0.661452737873628, 0.0027942085526139193),\n",
       " ('loudness_sma3_percentile20.0', 0.6817580452305853, 0.02806856156938775),\n",
       " ('spectralFlux_sma3_stddevNorm', 0.6838312564376394, 0.022329849557541914),\n",
       " ('StddevUnvoicedSegmentLength', 0.690751615208137, 0.021246120702642424),\n",
       " ('mfcc1_sma3_stddevNorm', 0.6961292832093504, 0.005247604827672059),\n",
       " ('logRelF0-H1-H2_sma3nz_stddevNorm',\n",
       "  0.6973583737885798,\n",
       "  0.007599557399328605),\n",
       " ('mfcc3_sma3_stddevNorm', 0.7036076927381275, 0.012554243148092503)]"
      ]
     },
     "execution_count": 45,
     "metadata": {},
     "output_type": "execute_result"
    }
   ],
   "source": [
    "data"
   ]
  },
  {
   "cell_type": "code",
   "execution_count": 46,
   "metadata": {},
   "outputs": [],
   "source": [
    "removed_columns = [entry[0] for entry in data]\n",
    "speeches_train_pruned = speeches_train.copy().drop(removed_columns, axis=1)\n",
    "speeches_val_pruned = speeches_val.copy().drop(removed_columns, axis=1)\n",
    "speeches_test_pruned = speeches_test.copy().drop(removed_columns, axis=1)\n",
    "\n",
    "multi_class_pruned_parameters = (speeches_train_pruned, speeches_val_pruned, emotions_train, emotions_val, set(emotions))"
   ]
  },
  {
   "cell_type": "code",
   "execution_count": 47,
   "metadata": {},
   "outputs": [
    {
     "name": "stdout",
     "output_type": "stream",
     "text": [
      "88 77\n"
     ]
    }
   ],
   "source": [
    "print(len(speeches_train.columns), len(speeches_train_pruned.columns))"
   ]
  },
  {
   "cell_type": "code",
   "execution_count": 48,
   "metadata": {},
   "outputs": [],
   "source": [
    "initial_classifier_results[\"svc_pruned\"] = fit_predict_and_score_classifier(svc, *multi_class_parameters)"
   ]
  },
  {
   "cell_type": "code",
   "execution_count": 49,
   "metadata": {},
   "outputs": [
    {
     "name": "stderr",
     "output_type": "stream",
     "text": [
      "C:\\Users\\Matas\\AppData\\Local\\Temp\\ipykernel_14388\\2014226108.py:39: FutureWarning: The frame.append method is deprecated and will be removed from pandas in a future version. Use pandas.concat instead.\n",
      "  table = table.append(new_row, ignore_index=True)\n",
      "C:\\Users\\Matas\\AppData\\Local\\Temp\\ipykernel_14388\\2014226108.py:39: FutureWarning: The frame.append method is deprecated and will be removed from pandas in a future version. Use pandas.concat instead.\n",
      "  table = table.append(new_row, ignore_index=True)\n",
      "C:\\Users\\Matas\\AppData\\Local\\Temp\\ipykernel_14388\\2014226108.py:39: FutureWarning: The frame.append method is deprecated and will be removed from pandas in a future version. Use pandas.concat instead.\n",
      "  table = table.append(new_row, ignore_index=True)\n",
      "C:\\Users\\Matas\\AppData\\Local\\Temp\\ipykernel_14388\\2014226108.py:39: FutureWarning: The frame.append method is deprecated and will be removed from pandas in a future version. Use pandas.concat instead.\n",
      "  table = table.append(new_row, ignore_index=True)\n",
      "C:\\Users\\Matas\\AppData\\Local\\Temp\\ipykernel_14388\\2014226108.py:39: FutureWarning: The frame.append method is deprecated and will be removed from pandas in a future version. Use pandas.concat instead.\n",
      "  table = table.append(new_row, ignore_index=True)\n",
      "C:\\Users\\Matas\\AppData\\Local\\Temp\\ipykernel_14388\\2014226108.py:39: FutureWarning: The frame.append method is deprecated and will be removed from pandas in a future version. Use pandas.concat instead.\n",
      "  table = table.append(new_row, ignore_index=True)\n",
      "C:\\Users\\Matas\\AppData\\Local\\Temp\\ipykernel_14388\\2014226108.py:39: FutureWarning: The frame.append method is deprecated and will be removed from pandas in a future version. Use pandas.concat instead.\n",
      "  table = table.append(new_row, ignore_index=True)\n",
      "C:\\Users\\Matas\\AppData\\Local\\Temp\\ipykernel_14388\\2014226108.py:39: FutureWarning: The frame.append method is deprecated and will be removed from pandas in a future version. Use pandas.concat instead.\n",
      "  table = table.append(new_row, ignore_index=True)\n",
      "C:\\Users\\Matas\\AppData\\Local\\Temp\\ipykernel_14388\\2014226108.py:39: FutureWarning: The frame.append method is deprecated and will be removed from pandas in a future version. Use pandas.concat instead.\n",
      "  table = table.append(new_row, ignore_index=True)\n",
      "C:\\Users\\Matas\\AppData\\Local\\Temp\\ipykernel_14388\\2014226108.py:39: FutureWarning: The frame.append method is deprecated and will be removed from pandas in a future version. Use pandas.concat instead.\n",
      "  table = table.append(new_row, ignore_index=True)\n"
     ]
    },
    {
     "data": {
      "text/html": [
       "<div>\n",
       "<style scoped>\n",
       "    .dataframe tbody tr th:only-of-type {\n",
       "        vertical-align: middle;\n",
       "    }\n",
       "\n",
       "    .dataframe tbody tr th {\n",
       "        vertical-align: top;\n",
       "    }\n",
       "\n",
       "    .dataframe thead th {\n",
       "        text-align: right;\n",
       "    }\n",
       "</style>\n",
       "<table border=\"1\" class=\"dataframe\">\n",
       "  <thead>\n",
       "    <tr style=\"text-align: right;\">\n",
       "      <th></th>\n",
       "      <th>Classifier</th>\n",
       "      <th>Set type</th>\n",
       "      <th>predictions</th>\n",
       "      <th>accuracy</th>\n",
       "      <th>precision</th>\n",
       "      <th>recall</th>\n",
       "      <th>F1</th>\n",
       "    </tr>\n",
       "  </thead>\n",
       "  <tbody>\n",
       "    <tr>\n",
       "      <th>0</th>\n",
       "      <td>dummy_classifier_most_frequent</td>\n",
       "      <td>train</td>\n",
       "      <td>[angry, angry, angry, angry, angry, angry, ang...</td>\n",
       "      <td>0.133681</td>\n",
       "      <td>0.891710</td>\n",
       "      <td>0.125000</td>\n",
       "      <td>0.029479</td>\n",
       "    </tr>\n",
       "    <tr>\n",
       "      <th>1</th>\n",
       "      <td>dummy_classifier_most_frequent</td>\n",
       "      <td>val</td>\n",
       "      <td>[angry, angry, angry, angry, angry, angry, ang...</td>\n",
       "      <td>0.131944</td>\n",
       "      <td>0.891493</td>\n",
       "      <td>0.125000</td>\n",
       "      <td>0.029141</td>\n",
       "    </tr>\n",
       "    <tr>\n",
       "      <th>2</th>\n",
       "      <td>dummy_classifier_stratified</td>\n",
       "      <td>train</td>\n",
       "      <td>[disgust, happy, sad, sad, happy, calm, angry,...</td>\n",
       "      <td>0.134549</td>\n",
       "      <td>0.130735</td>\n",
       "      <td>0.131006</td>\n",
       "      <td>0.130768</td>\n",
       "    </tr>\n",
       "    <tr>\n",
       "      <th>3</th>\n",
       "      <td>dummy_classifier_stratified</td>\n",
       "      <td>val</td>\n",
       "      <td>[fearful, angry, happy, sad, sad, sad, disgust...</td>\n",
       "      <td>0.125000</td>\n",
       "      <td>0.109707</td>\n",
       "      <td>0.117763</td>\n",
       "      <td>0.112289</td>\n",
       "    </tr>\n",
       "    <tr>\n",
       "      <th>4</th>\n",
       "      <td>logistic_regression</td>\n",
       "      <td>train</td>\n",
       "      <td>[angry, happy, calm, happy, neutral, neutral, ...</td>\n",
       "      <td>0.763889</td>\n",
       "      <td>0.761988</td>\n",
       "      <td>0.762210</td>\n",
       "      <td>0.761048</td>\n",
       "    </tr>\n",
       "    <tr>\n",
       "      <th>5</th>\n",
       "      <td>logistic_regression</td>\n",
       "      <td>val</td>\n",
       "      <td>[calm, angry, happy, calm, fearful, angry, sur...</td>\n",
       "      <td>0.604167</td>\n",
       "      <td>0.601776</td>\n",
       "      <td>0.610197</td>\n",
       "      <td>0.603314</td>\n",
       "    </tr>\n",
       "    <tr>\n",
       "      <th>6</th>\n",
       "      <td>svc</td>\n",
       "      <td>train</td>\n",
       "      <td>[angry, happy, calm, happy, surprised, calm, f...</td>\n",
       "      <td>0.796007</td>\n",
       "      <td>0.798800</td>\n",
       "      <td>0.776510</td>\n",
       "      <td>0.780752</td>\n",
       "    </tr>\n",
       "    <tr>\n",
       "      <th>7</th>\n",
       "      <td>svc</td>\n",
       "      <td>val</td>\n",
       "      <td>[calm, angry, angry, calm, happy, angry, happy...</td>\n",
       "      <td>0.625000</td>\n",
       "      <td>0.619556</td>\n",
       "      <td>0.606250</td>\n",
       "      <td>0.606615</td>\n",
       "    </tr>\n",
       "    <tr>\n",
       "      <th>8</th>\n",
       "      <td>svc_pruned</td>\n",
       "      <td>train</td>\n",
       "      <td>[angry, happy, calm, happy, surprised, calm, f...</td>\n",
       "      <td>0.796007</td>\n",
       "      <td>0.798800</td>\n",
       "      <td>0.776510</td>\n",
       "      <td>0.780752</td>\n",
       "    </tr>\n",
       "    <tr>\n",
       "      <th>9</th>\n",
       "      <td>svc_pruned</td>\n",
       "      <td>val</td>\n",
       "      <td>[calm, angry, angry, calm, happy, angry, happy...</td>\n",
       "      <td>0.625000</td>\n",
       "      <td>0.619556</td>\n",
       "      <td>0.606250</td>\n",
       "      <td>0.606615</td>\n",
       "    </tr>\n",
       "  </tbody>\n",
       "</table>\n",
       "</div>"
      ],
      "text/plain": [
       "                       Classifier Set type  \\\n",
       "0  dummy_classifier_most_frequent    train   \n",
       "1  dummy_classifier_most_frequent      val   \n",
       "2     dummy_classifier_stratified    train   \n",
       "3     dummy_classifier_stratified      val   \n",
       "4             logistic_regression    train   \n",
       "5             logistic_regression      val   \n",
       "6                             svc    train   \n",
       "7                             svc      val   \n",
       "8                      svc_pruned    train   \n",
       "9                      svc_pruned      val   \n",
       "\n",
       "                                         predictions  accuracy  precision  \\\n",
       "0  [angry, angry, angry, angry, angry, angry, ang...  0.133681   0.891710   \n",
       "1  [angry, angry, angry, angry, angry, angry, ang...  0.131944   0.891493   \n",
       "2  [disgust, happy, sad, sad, happy, calm, angry,...  0.134549   0.130735   \n",
       "3  [fearful, angry, happy, sad, sad, sad, disgust...  0.125000   0.109707   \n",
       "4  [angry, happy, calm, happy, neutral, neutral, ...  0.763889   0.761988   \n",
       "5  [calm, angry, happy, calm, fearful, angry, sur...  0.604167   0.601776   \n",
       "6  [angry, happy, calm, happy, surprised, calm, f...  0.796007   0.798800   \n",
       "7  [calm, angry, angry, calm, happy, angry, happy...  0.625000   0.619556   \n",
       "8  [angry, happy, calm, happy, surprised, calm, f...  0.796007   0.798800   \n",
       "9  [calm, angry, angry, calm, happy, angry, happy...  0.625000   0.619556   \n",
       "\n",
       "     recall        F1  \n",
       "0  0.125000  0.029479  \n",
       "1  0.125000  0.029141  \n",
       "2  0.131006  0.130768  \n",
       "3  0.117763  0.112289  \n",
       "4  0.762210  0.761048  \n",
       "5  0.610197  0.603314  \n",
       "6  0.776510  0.780752  \n",
       "7  0.606250  0.606615  \n",
       "8  0.776510  0.780752  \n",
       "9  0.606250  0.606615  "
      ]
     },
     "metadata": {},
     "output_type": "display_data"
    }
   ],
   "source": [
    "post_prunation_classifier_results_table = create_result_table(initial_classifier_results)\n",
    "display(post_prunation_classifier_results_table)"
   ]
  },
  {
   "cell_type": "markdown",
   "metadata": {},
   "source": [
    "### Hyperparameter optimisation"
   ]
  },
  {
   "cell_type": "code",
   "execution_count": 50,
   "metadata": {},
   "outputs": [
    {
     "data": {
      "text/html": [
       "<style>#sk-container-id-1 {color: black;background-color: white;}#sk-container-id-1 pre{padding: 0;}#sk-container-id-1 div.sk-toggleable {background-color: white;}#sk-container-id-1 label.sk-toggleable__label {cursor: pointer;display: block;width: 100%;margin-bottom: 0;padding: 0.3em;box-sizing: border-box;text-align: center;}#sk-container-id-1 label.sk-toggleable__label-arrow:before {content: \"▸\";float: left;margin-right: 0.25em;color: #696969;}#sk-container-id-1 label.sk-toggleable__label-arrow:hover:before {color: black;}#sk-container-id-1 div.sk-estimator:hover label.sk-toggleable__label-arrow:before {color: black;}#sk-container-id-1 div.sk-toggleable__content {max-height: 0;max-width: 0;overflow: hidden;text-align: left;background-color: #f0f8ff;}#sk-container-id-1 div.sk-toggleable__content pre {margin: 0.2em;color: black;border-radius: 0.25em;background-color: #f0f8ff;}#sk-container-id-1 input.sk-toggleable__control:checked~div.sk-toggleable__content {max-height: 200px;max-width: 100%;overflow: auto;}#sk-container-id-1 input.sk-toggleable__control:checked~label.sk-toggleable__label-arrow:before {content: \"▾\";}#sk-container-id-1 div.sk-estimator input.sk-toggleable__control:checked~label.sk-toggleable__label {background-color: #d4ebff;}#sk-container-id-1 div.sk-label input.sk-toggleable__control:checked~label.sk-toggleable__label {background-color: #d4ebff;}#sk-container-id-1 input.sk-hidden--visually {border: 0;clip: rect(1px 1px 1px 1px);clip: rect(1px, 1px, 1px, 1px);height: 1px;margin: -1px;overflow: hidden;padding: 0;position: absolute;width: 1px;}#sk-container-id-1 div.sk-estimator {font-family: monospace;background-color: #f0f8ff;border: 1px dotted black;border-radius: 0.25em;box-sizing: border-box;margin-bottom: 0.5em;}#sk-container-id-1 div.sk-estimator:hover {background-color: #d4ebff;}#sk-container-id-1 div.sk-parallel-item::after {content: \"\";width: 100%;border-bottom: 1px solid gray;flex-grow: 1;}#sk-container-id-1 div.sk-label:hover label.sk-toggleable__label {background-color: #d4ebff;}#sk-container-id-1 div.sk-serial::before {content: \"\";position: absolute;border-left: 1px solid gray;box-sizing: border-box;top: 0;bottom: 0;left: 50%;z-index: 0;}#sk-container-id-1 div.sk-serial {display: flex;flex-direction: column;align-items: center;background-color: white;padding-right: 0.2em;padding-left: 0.2em;position: relative;}#sk-container-id-1 div.sk-item {position: relative;z-index: 1;}#sk-container-id-1 div.sk-parallel {display: flex;align-items: stretch;justify-content: center;background-color: white;position: relative;}#sk-container-id-1 div.sk-item::before, #sk-container-id-1 div.sk-parallel-item::before {content: \"\";position: absolute;border-left: 1px solid gray;box-sizing: border-box;top: 0;bottom: 0;left: 50%;z-index: -1;}#sk-container-id-1 div.sk-parallel-item {display: flex;flex-direction: column;z-index: 1;position: relative;background-color: white;}#sk-container-id-1 div.sk-parallel-item:first-child::after {align-self: flex-end;width: 50%;}#sk-container-id-1 div.sk-parallel-item:last-child::after {align-self: flex-start;width: 50%;}#sk-container-id-1 div.sk-parallel-item:only-child::after {width: 0;}#sk-container-id-1 div.sk-dashed-wrapped {border: 1px dashed gray;margin: 0 0.4em 0.5em 0.4em;box-sizing: border-box;padding-bottom: 0.4em;background-color: white;}#sk-container-id-1 div.sk-label label {font-family: monospace;font-weight: bold;display: inline-block;line-height: 1.2em;}#sk-container-id-1 div.sk-label-container {text-align: center;}#sk-container-id-1 div.sk-container {/* jupyter's `normalize.less` sets `[hidden] { display: none; }` but bootstrap.min.css set `[hidden] { display: none !important; }` so we also need the `!important` here to be able to override the default hidden behavior on the sphinx rendered scikit-learn.org. See: https://github.com/scikit-learn/scikit-learn/issues/21755 */display: inline-block !important;position: relative;}#sk-container-id-1 div.sk-text-repr-fallback {display: none;}</style><div id=\"sk-container-id-1\" class=\"sk-top-container\"><div class=\"sk-text-repr-fallback\"><pre>GridSearchCV(estimator=SVC(),\n",
       "             param_grid={&#x27;C&#x27;: [0.1, 1, 5, 10, 20, 50],\n",
       "                         &#x27;gamma&#x27;: [&#x27;scale&#x27;, &#x27;auto&#x27;],\n",
       "                         &#x27;kernel&#x27;: [&#x27;linear&#x27;, &#x27;poly&#x27;, &#x27;rbf&#x27;, &#x27;sigmoid&#x27;],\n",
       "                         &#x27;shrinking&#x27;: [True, False]})</pre><b>In a Jupyter environment, please rerun this cell to show the HTML representation or trust the notebook. <br />On GitHub, the HTML representation is unable to render, please try loading this page with nbviewer.org.</b></div><div class=\"sk-container\" hidden><div class=\"sk-item sk-dashed-wrapped\"><div class=\"sk-label-container\"><div class=\"sk-label sk-toggleable\"><input class=\"sk-toggleable__control sk-hidden--visually\" id=\"sk-estimator-id-1\" type=\"checkbox\" ><label for=\"sk-estimator-id-1\" class=\"sk-toggleable__label sk-toggleable__label-arrow\">GridSearchCV</label><div class=\"sk-toggleable__content\"><pre>GridSearchCV(estimator=SVC(),\n",
       "             param_grid={&#x27;C&#x27;: [0.1, 1, 5, 10, 20, 50],\n",
       "                         &#x27;gamma&#x27;: [&#x27;scale&#x27;, &#x27;auto&#x27;],\n",
       "                         &#x27;kernel&#x27;: [&#x27;linear&#x27;, &#x27;poly&#x27;, &#x27;rbf&#x27;, &#x27;sigmoid&#x27;],\n",
       "                         &#x27;shrinking&#x27;: [True, False]})</pre></div></div></div><div class=\"sk-parallel\"><div class=\"sk-parallel-item\"><div class=\"sk-item\"><div class=\"sk-label-container\"><div class=\"sk-label sk-toggleable\"><input class=\"sk-toggleable__control sk-hidden--visually\" id=\"sk-estimator-id-2\" type=\"checkbox\" ><label for=\"sk-estimator-id-2\" class=\"sk-toggleable__label sk-toggleable__label-arrow\">estimator: SVC</label><div class=\"sk-toggleable__content\"><pre>SVC()</pre></div></div></div><div class=\"sk-serial\"><div class=\"sk-item\"><div class=\"sk-estimator sk-toggleable\"><input class=\"sk-toggleable__control sk-hidden--visually\" id=\"sk-estimator-id-3\" type=\"checkbox\" ><label for=\"sk-estimator-id-3\" class=\"sk-toggleable__label sk-toggleable__label-arrow\">SVC</label><div class=\"sk-toggleable__content\"><pre>SVC()</pre></div></div></div></div></div></div></div></div></div></div>"
      ],
      "text/plain": [
       "GridSearchCV(estimator=SVC(),\n",
       "             param_grid={'C': [0.1, 1, 5, 10, 20, 50],\n",
       "                         'gamma': ['scale', 'auto'],\n",
       "                         'kernel': ['linear', 'poly', 'rbf', 'sigmoid'],\n",
       "                         'shrinking': [True, False]})"
      ]
     },
     "execution_count": 50,
     "metadata": {},
     "output_type": "execute_result"
    }
   ],
   "source": [
    "from sklearn.model_selection import GridSearchCV\n",
    "\n",
    "svc_parameters = {\n",
    "    \"kernel\": [\"linear\", \"poly\", \"rbf\", \"sigmoid\"],\n",
    "    \"C\": [0.1, 1, 5, 10, 20, 50],\n",
    "    \"gamma\": [\"scale\", \"auto\"],\n",
    "    \"shrinking\": [True, False],\n",
    "#     \"max_iter\": [-1, 100, 10_000],\n",
    "}\n",
    "\n",
    "parametrised_svc = GridSearchCV(svc, svc_parameters)\n",
    "parametrised_svc.fit(speeches_train_pruned, emotions_train)"
   ]
  },
  {
   "cell_type": "code",
   "execution_count": 51,
   "metadata": {
    "scrolled": true
   },
   "outputs": [
    {
     "data": {
      "text/plain": [
       "dict_items([('mean_fit_time', array([0.04878511, 0.06085243, 0.06160164, 0.06111684, 0.08301516,\n",
       "       0.08058243, 0.07448106, 0.07427564, 0.05616522, 0.05960217,\n",
       "       0.06295915, 0.06436419, 0.08078609, 0.085326  , 0.07527423,\n",
       "       0.07408161, 0.1228189 , 0.21153493, 0.05660744, 0.05764256,\n",
       "       0.06505513, 0.06509008, 0.05084329, 0.05161605, 0.12383609,\n",
       "       0.20842385, 0.05664845, 0.05723844, 0.06737032, 0.06556983,\n",
       "       0.05259466, 0.05264764, 0.38122969, 0.63877583, 0.05856738,\n",
       "       0.05505762, 0.07266531, 0.06800952, 0.04132543, 0.04610052,\n",
       "       0.37548885, 0.62527256, 0.05616379, 0.05676503, 0.0735333 ,\n",
       "       0.06781158, 0.03880048, 0.04171672, 0.56826797, 0.85852027,\n",
       "       0.05997181, 0.05736713, 0.07761302, 0.07323632, 0.03935533,\n",
       "       0.04053926, 0.56102543, 0.85138574, 0.05820446, 0.05676608,\n",
       "       0.08032436, 0.06729293, 0.03901191, 0.03885384, 0.94474001,\n",
       "       1.40711417, 0.07432966, 0.06063662, 0.09189768, 0.07445378,\n",
       "       0.03928547, 0.04088464, 0.97257571, 1.62034755, 0.10331254,\n",
       "       0.08595114, 0.10031133, 0.11513872, 0.05640697, 0.07000089,\n",
       "       1.40706539, 2.20536132, 0.07743654, 0.0635129 , 0.08846698,\n",
       "       0.07810984, 0.03779783, 0.04095259, 1.31250167, 2.16980214,\n",
       "       0.09640279, 0.06882401, 0.09260101, 0.08878303, 0.04899526,\n",
       "       0.05239949])), ('std_fit_time', array([0.00171608, 0.00295117, 0.00101401, 0.0018714 , 0.00326671,\n",
       "       0.00114113, 0.00127903, 0.00047665, 0.00922314, 0.0024821 ,\n",
       "       0.00127834, 0.00234499, 0.00100669, 0.00273508, 0.00516047,\n",
       "       0.0025104 , 0.00684227, 0.00711202, 0.00131335, 0.00340823,\n",
       "       0.00073264, 0.00134054, 0.00115597, 0.0010824 , 0.00597708,\n",
       "       0.00879554, 0.00072366, 0.0035273 , 0.00215358, 0.00199713,\n",
       "       0.00230959, 0.00103934, 0.06135917, 0.08985466, 0.00394576,\n",
       "       0.00118362, 0.00203524, 0.00100413, 0.00083948, 0.00855114,\n",
       "       0.0590923 , 0.08187971, 0.00134607, 0.00138422, 0.002101  ,\n",
       "       0.00154818, 0.00050534, 0.00189416, 0.03308899, 0.04721187,\n",
       "       0.00222206, 0.00139549, 0.00126696, 0.00249585, 0.00133116,\n",
       "       0.00161707, 0.03950392, 0.06206319, 0.00057967, 0.00238251,\n",
       "       0.00138118, 0.00089688, 0.00208584, 0.00317015, 0.35103904,\n",
       "       0.20293864, 0.0101769 , 0.00190505, 0.01428981, 0.00344582,\n",
       "       0.00385864, 0.00203588, 0.28416874, 0.39868512, 0.01733646,\n",
       "       0.01711924, 0.01536054, 0.02510755, 0.00685864, 0.01064409,\n",
       "       0.41987363, 0.3202496 , 0.00227977, 0.00157389, 0.00372301,\n",
       "       0.00471939, 0.00159731, 0.00088314, 0.34854511, 0.34662798,\n",
       "       0.01306026, 0.00317289, 0.00499354, 0.0061286 , 0.00527604,\n",
       "       0.01059387])), ('mean_score_time', array([0.00920758, 0.00959601, 0.01119795, 0.01098495, 0.02909713,\n",
       "       0.02940693, 0.01410446, 0.0138752 , 0.01053843, 0.00903335,\n",
       "       0.01118522, 0.01206799, 0.02948475, 0.03010826, 0.01679587,\n",
       "       0.01454744, 0.00840173, 0.00929828, 0.01073203, 0.01141739,\n",
       "       0.02780066, 0.02784734, 0.01257963, 0.01408501, 0.00885644,\n",
       "       0.00860472, 0.00994453, 0.0120718 , 0.02846904, 0.02819228,\n",
       "       0.01361213, 0.01382079, 0.0079886 , 0.0090775 , 0.01111341,\n",
       "       0.0106648 , 0.0250421 , 0.02746143, 0.01245756, 0.01173391,\n",
       "       0.00789285, 0.00957508, 0.01052303, 0.01025939, 0.02560124,\n",
       "       0.02588634, 0.01157722, 0.01152558, 0.00844746, 0.00809579,\n",
       "       0.00952082, 0.00995617, 0.02670069, 0.02827077, 0.01172934,\n",
       "       0.01179991, 0.00900912, 0.00961046, 0.0102541 , 0.01144662,\n",
       "       0.02614384, 0.02656469, 0.01183891, 0.01318846, 0.00757494,\n",
       "       0.0082253 , 0.01139646, 0.01059237, 0.03146024, 0.02704978,\n",
       "       0.01143222, 0.01114564, 0.0090456 , 0.00943804, 0.02100816,\n",
       "       0.01680079, 0.03620553, 0.04789767, 0.02263031, 0.01711235,\n",
       "       0.00919662, 0.00962853, 0.01158247, 0.010921  , 0.02846904,\n",
       "       0.02850862, 0.01185961, 0.01156092, 0.00844631, 0.01108727,\n",
       "       0.01619811, 0.01098437, 0.03000216, 0.03520813, 0.01360669,\n",
       "       0.01279998])), ('std_score_time', array([4.11947197e-04, 1.18447273e-03, 3.84071377e-04, 6.30298543e-04,\n",
       "       9.87299131e-04, 8.13889648e-04, 1.29443645e-04, 4.54371105e-04,\n",
       "       2.38093147e-03, 5.82998992e-04, 6.02251115e-04, 7.88870485e-04,\n",
       "       1.26142705e-03, 1.87243860e-03, 2.69027279e-03, 1.47527028e-03,\n",
       "       3.66715727e-04, 1.54652505e-03, 9.07096810e-04, 7.93666938e-04,\n",
       "       5.91475000e-04, 1.81140938e-03, 5.50136071e-04, 1.23459840e-03,\n",
       "       4.48379531e-04, 4.63389688e-04, 7.24329999e-04, 2.70445408e-03,\n",
       "       1.29625821e-03, 1.04883424e-03, 4.89563873e-04, 3.41106540e-04,\n",
       "       2.05309270e-05, 1.69849783e-03, 4.30104817e-04, 4.44062667e-04,\n",
       "       2.43555678e-04, 7.90200543e-04, 1.02028827e-03, 4.80696240e-04,\n",
       "       4.43444918e-04, 3.49692275e-03, 5.63446339e-04, 3.81923912e-04,\n",
       "       7.53672008e-04, 5.06873557e-04, 7.88610205e-04, 4.06166812e-04,\n",
       "       4.73539523e-04, 7.98355332e-04, 3.25448898e-03, 6.66693593e-04,\n",
       "       3.54053162e-03, 1.79963576e-03, 3.80508631e-04, 4.00115125e-04,\n",
       "       1.87674523e-03, 3.73411172e-03, 1.14089643e-03, 2.08046728e-03,\n",
       "       1.30037063e-03, 1.97945699e-03, 3.49655327e-04, 2.85835075e-03,\n",
       "       1.84651605e-03, 3.89723639e-04, 2.80977114e-03, 4.84358703e-04,\n",
       "       7.95574580e-03, 5.96462524e-04, 4.87528007e-04, 1.10149536e-03,\n",
       "       1.63093792e-03, 1.71723260e-03, 7.56139111e-03, 5.91185355e-03,\n",
       "       8.52653771e-03, 1.62846794e-02, 6.60097415e-03, 2.28654091e-03,\n",
       "       1.72704035e-03, 1.93942390e-03, 8.40719389e-04, 1.38955484e-03,\n",
       "       2.45582333e-03, 1.07219422e-03, 6.73733739e-04, 4.55724426e-04,\n",
       "       1.27510428e-03, 2.80981421e-03, 5.94266870e-03, 8.87992620e-04,\n",
       "       2.60489448e-03, 9.14537610e-03, 1.20438300e-03, 9.79763831e-04])), ('param_C', masked_array(data=[0.1, 0.1, 0.1, 0.1, 0.1, 0.1, 0.1, 0.1, 0.1, 0.1, 0.1,\n",
       "                   0.1, 0.1, 0.1, 0.1, 0.1, 1, 1, 1, 1, 1, 1, 1, 1, 1, 1,\n",
       "                   1, 1, 1, 1, 1, 1, 5, 5, 5, 5, 5, 5, 5, 5, 5, 5, 5, 5,\n",
       "                   5, 5, 5, 5, 10, 10, 10, 10, 10, 10, 10, 10, 10, 10, 10,\n",
       "                   10, 10, 10, 10, 10, 20, 20, 20, 20, 20, 20, 20, 20, 20,\n",
       "                   20, 20, 20, 20, 20, 20, 20, 50, 50, 50, 50, 50, 50, 50,\n",
       "                   50, 50, 50, 50, 50, 50, 50, 50, 50],\n",
       "             mask=[False, False, False, False, False, False, False, False,\n",
       "                   False, False, False, False, False, False, False, False,\n",
       "                   False, False, False, False, False, False, False, False,\n",
       "                   False, False, False, False, False, False, False, False,\n",
       "                   False, False, False, False, False, False, False, False,\n",
       "                   False, False, False, False, False, False, False, False,\n",
       "                   False, False, False, False, False, False, False, False,\n",
       "                   False, False, False, False, False, False, False, False,\n",
       "                   False, False, False, False, False, False, False, False,\n",
       "                   False, False, False, False, False, False, False, False,\n",
       "                   False, False, False, False, False, False, False, False,\n",
       "                   False, False, False, False, False, False, False, False],\n",
       "       fill_value='?',\n",
       "            dtype=object)), ('param_gamma', masked_array(data=['scale', 'scale', 'scale', 'scale', 'scale', 'scale',\n",
       "                   'scale', 'scale', 'auto', 'auto', 'auto', 'auto',\n",
       "                   'auto', 'auto', 'auto', 'auto', 'scale', 'scale',\n",
       "                   'scale', 'scale', 'scale', 'scale', 'scale', 'scale',\n",
       "                   'auto', 'auto', 'auto', 'auto', 'auto', 'auto', 'auto',\n",
       "                   'auto', 'scale', 'scale', 'scale', 'scale', 'scale',\n",
       "                   'scale', 'scale', 'scale', 'auto', 'auto', 'auto',\n",
       "                   'auto', 'auto', 'auto', 'auto', 'auto', 'scale',\n",
       "                   'scale', 'scale', 'scale', 'scale', 'scale', 'scale',\n",
       "                   'scale', 'auto', 'auto', 'auto', 'auto', 'auto',\n",
       "                   'auto', 'auto', 'auto', 'scale', 'scale', 'scale',\n",
       "                   'scale', 'scale', 'scale', 'scale', 'scale', 'auto',\n",
       "                   'auto', 'auto', 'auto', 'auto', 'auto', 'auto', 'auto',\n",
       "                   'scale', 'scale', 'scale', 'scale', 'scale', 'scale',\n",
       "                   'scale', 'scale', 'auto', 'auto', 'auto', 'auto',\n",
       "                   'auto', 'auto', 'auto', 'auto'],\n",
       "             mask=[False, False, False, False, False, False, False, False,\n",
       "                   False, False, False, False, False, False, False, False,\n",
       "                   False, False, False, False, False, False, False, False,\n",
       "                   False, False, False, False, False, False, False, False,\n",
       "                   False, False, False, False, False, False, False, False,\n",
       "                   False, False, False, False, False, False, False, False,\n",
       "                   False, False, False, False, False, False, False, False,\n",
       "                   False, False, False, False, False, False, False, False,\n",
       "                   False, False, False, False, False, False, False, False,\n",
       "                   False, False, False, False, False, False, False, False,\n",
       "                   False, False, False, False, False, False, False, False,\n",
       "                   False, False, False, False, False, False, False, False],\n",
       "       fill_value='?',\n",
       "            dtype=object)), ('param_kernel', masked_array(data=['linear', 'linear', 'poly', 'poly', 'rbf', 'rbf',\n",
       "                   'sigmoid', 'sigmoid', 'linear', 'linear', 'poly',\n",
       "                   'poly', 'rbf', 'rbf', 'sigmoid', 'sigmoid', 'linear',\n",
       "                   'linear', 'poly', 'poly', 'rbf', 'rbf', 'sigmoid',\n",
       "                   'sigmoid', 'linear', 'linear', 'poly', 'poly', 'rbf',\n",
       "                   'rbf', 'sigmoid', 'sigmoid', 'linear', 'linear',\n",
       "                   'poly', 'poly', 'rbf', 'rbf', 'sigmoid', 'sigmoid',\n",
       "                   'linear', 'linear', 'poly', 'poly', 'rbf', 'rbf',\n",
       "                   'sigmoid', 'sigmoid', 'linear', 'linear', 'poly',\n",
       "                   'poly', 'rbf', 'rbf', 'sigmoid', 'sigmoid', 'linear',\n",
       "                   'linear', 'poly', 'poly', 'rbf', 'rbf', 'sigmoid',\n",
       "                   'sigmoid', 'linear', 'linear', 'poly', 'poly', 'rbf',\n",
       "                   'rbf', 'sigmoid', 'sigmoid', 'linear', 'linear',\n",
       "                   'poly', 'poly', 'rbf', 'rbf', 'sigmoid', 'sigmoid',\n",
       "                   'linear', 'linear', 'poly', 'poly', 'rbf', 'rbf',\n",
       "                   'sigmoid', 'sigmoid', 'linear', 'linear', 'poly',\n",
       "                   'poly', 'rbf', 'rbf', 'sigmoid', 'sigmoid'],\n",
       "             mask=[False, False, False, False, False, False, False, False,\n",
       "                   False, False, False, False, False, False, False, False,\n",
       "                   False, False, False, False, False, False, False, False,\n",
       "                   False, False, False, False, False, False, False, False,\n",
       "                   False, False, False, False, False, False, False, False,\n",
       "                   False, False, False, False, False, False, False, False,\n",
       "                   False, False, False, False, False, False, False, False,\n",
       "                   False, False, False, False, False, False, False, False,\n",
       "                   False, False, False, False, False, False, False, False,\n",
       "                   False, False, False, False, False, False, False, False,\n",
       "                   False, False, False, False, False, False, False, False,\n",
       "                   False, False, False, False, False, False, False, False],\n",
       "       fill_value='?',\n",
       "            dtype=object)), ('param_shrinking', masked_array(data=[True, False, True, False, True, False, True, False,\n",
       "                   True, False, True, False, True, False, True, False,\n",
       "                   True, False, True, False, True, False, True, False,\n",
       "                   True, False, True, False, True, False, True, False,\n",
       "                   True, False, True, False, True, False, True, False,\n",
       "                   True, False, True, False, True, False, True, False,\n",
       "                   True, False, True, False, True, False, True, False,\n",
       "                   True, False, True, False, True, False, True, False,\n",
       "                   True, False, True, False, True, False, True, False,\n",
       "                   True, False, True, False, True, False, True, False,\n",
       "                   True, False, True, False, True, False, True, False,\n",
       "                   True, False, True, False, True, False, True, False],\n",
       "             mask=[False, False, False, False, False, False, False, False,\n",
       "                   False, False, False, False, False, False, False, False,\n",
       "                   False, False, False, False, False, False, False, False,\n",
       "                   False, False, False, False, False, False, False, False,\n",
       "                   False, False, False, False, False, False, False, False,\n",
       "                   False, False, False, False, False, False, False, False,\n",
       "                   False, False, False, False, False, False, False, False,\n",
       "                   False, False, False, False, False, False, False, False,\n",
       "                   False, False, False, False, False, False, False, False,\n",
       "                   False, False, False, False, False, False, False, False,\n",
       "                   False, False, False, False, False, False, False, False,\n",
       "                   False, False, False, False, False, False, False, False],\n",
       "       fill_value='?',\n",
       "            dtype=object)), ('params', [{'C': 0.1, 'gamma': 'scale', 'kernel': 'linear', 'shrinking': True}, {'C': 0.1, 'gamma': 'scale', 'kernel': 'linear', 'shrinking': False}, {'C': 0.1, 'gamma': 'scale', 'kernel': 'poly', 'shrinking': True}, {'C': 0.1, 'gamma': 'scale', 'kernel': 'poly', 'shrinking': False}, {'C': 0.1, 'gamma': 'scale', 'kernel': 'rbf', 'shrinking': True}, {'C': 0.1, 'gamma': 'scale', 'kernel': 'rbf', 'shrinking': False}, {'C': 0.1, 'gamma': 'scale', 'kernel': 'sigmoid', 'shrinking': True}, {'C': 0.1, 'gamma': 'scale', 'kernel': 'sigmoid', 'shrinking': False}, {'C': 0.1, 'gamma': 'auto', 'kernel': 'linear', 'shrinking': True}, {'C': 0.1, 'gamma': 'auto', 'kernel': 'linear', 'shrinking': False}, {'C': 0.1, 'gamma': 'auto', 'kernel': 'poly', 'shrinking': True}, {'C': 0.1, 'gamma': 'auto', 'kernel': 'poly', 'shrinking': False}, {'C': 0.1, 'gamma': 'auto', 'kernel': 'rbf', 'shrinking': True}, {'C': 0.1, 'gamma': 'auto', 'kernel': 'rbf', 'shrinking': False}, {'C': 0.1, 'gamma': 'auto', 'kernel': 'sigmoid', 'shrinking': True}, {'C': 0.1, 'gamma': 'auto', 'kernel': 'sigmoid', 'shrinking': False}, {'C': 1, 'gamma': 'scale', 'kernel': 'linear', 'shrinking': True}, {'C': 1, 'gamma': 'scale', 'kernel': 'linear', 'shrinking': False}, {'C': 1, 'gamma': 'scale', 'kernel': 'poly', 'shrinking': True}, {'C': 1, 'gamma': 'scale', 'kernel': 'poly', 'shrinking': False}, {'C': 1, 'gamma': 'scale', 'kernel': 'rbf', 'shrinking': True}, {'C': 1, 'gamma': 'scale', 'kernel': 'rbf', 'shrinking': False}, {'C': 1, 'gamma': 'scale', 'kernel': 'sigmoid', 'shrinking': True}, {'C': 1, 'gamma': 'scale', 'kernel': 'sigmoid', 'shrinking': False}, {'C': 1, 'gamma': 'auto', 'kernel': 'linear', 'shrinking': True}, {'C': 1, 'gamma': 'auto', 'kernel': 'linear', 'shrinking': False}, {'C': 1, 'gamma': 'auto', 'kernel': 'poly', 'shrinking': True}, {'C': 1, 'gamma': 'auto', 'kernel': 'poly', 'shrinking': False}, {'C': 1, 'gamma': 'auto', 'kernel': 'rbf', 'shrinking': True}, {'C': 1, 'gamma': 'auto', 'kernel': 'rbf', 'shrinking': False}, {'C': 1, 'gamma': 'auto', 'kernel': 'sigmoid', 'shrinking': True}, {'C': 1, 'gamma': 'auto', 'kernel': 'sigmoid', 'shrinking': False}, {'C': 5, 'gamma': 'scale', 'kernel': 'linear', 'shrinking': True}, {'C': 5, 'gamma': 'scale', 'kernel': 'linear', 'shrinking': False}, {'C': 5, 'gamma': 'scale', 'kernel': 'poly', 'shrinking': True}, {'C': 5, 'gamma': 'scale', 'kernel': 'poly', 'shrinking': False}, {'C': 5, 'gamma': 'scale', 'kernel': 'rbf', 'shrinking': True}, {'C': 5, 'gamma': 'scale', 'kernel': 'rbf', 'shrinking': False}, {'C': 5, 'gamma': 'scale', 'kernel': 'sigmoid', 'shrinking': True}, {'C': 5, 'gamma': 'scale', 'kernel': 'sigmoid', 'shrinking': False}, {'C': 5, 'gamma': 'auto', 'kernel': 'linear', 'shrinking': True}, {'C': 5, 'gamma': 'auto', 'kernel': 'linear', 'shrinking': False}, {'C': 5, 'gamma': 'auto', 'kernel': 'poly', 'shrinking': True}, {'C': 5, 'gamma': 'auto', 'kernel': 'poly', 'shrinking': False}, {'C': 5, 'gamma': 'auto', 'kernel': 'rbf', 'shrinking': True}, {'C': 5, 'gamma': 'auto', 'kernel': 'rbf', 'shrinking': False}, {'C': 5, 'gamma': 'auto', 'kernel': 'sigmoid', 'shrinking': True}, {'C': 5, 'gamma': 'auto', 'kernel': 'sigmoid', 'shrinking': False}, {'C': 10, 'gamma': 'scale', 'kernel': 'linear', 'shrinking': True}, {'C': 10, 'gamma': 'scale', 'kernel': 'linear', 'shrinking': False}, {'C': 10, 'gamma': 'scale', 'kernel': 'poly', 'shrinking': True}, {'C': 10, 'gamma': 'scale', 'kernel': 'poly', 'shrinking': False}, {'C': 10, 'gamma': 'scale', 'kernel': 'rbf', 'shrinking': True}, {'C': 10, 'gamma': 'scale', 'kernel': 'rbf', 'shrinking': False}, {'C': 10, 'gamma': 'scale', 'kernel': 'sigmoid', 'shrinking': True}, {'C': 10, 'gamma': 'scale', 'kernel': 'sigmoid', 'shrinking': False}, {'C': 10, 'gamma': 'auto', 'kernel': 'linear', 'shrinking': True}, {'C': 10, 'gamma': 'auto', 'kernel': 'linear', 'shrinking': False}, {'C': 10, 'gamma': 'auto', 'kernel': 'poly', 'shrinking': True}, {'C': 10, 'gamma': 'auto', 'kernel': 'poly', 'shrinking': False}, {'C': 10, 'gamma': 'auto', 'kernel': 'rbf', 'shrinking': True}, {'C': 10, 'gamma': 'auto', 'kernel': 'rbf', 'shrinking': False}, {'C': 10, 'gamma': 'auto', 'kernel': 'sigmoid', 'shrinking': True}, {'C': 10, 'gamma': 'auto', 'kernel': 'sigmoid', 'shrinking': False}, {'C': 20, 'gamma': 'scale', 'kernel': 'linear', 'shrinking': True}, {'C': 20, 'gamma': 'scale', 'kernel': 'linear', 'shrinking': False}, {'C': 20, 'gamma': 'scale', 'kernel': 'poly', 'shrinking': True}, {'C': 20, 'gamma': 'scale', 'kernel': 'poly', 'shrinking': False}, {'C': 20, 'gamma': 'scale', 'kernel': 'rbf', 'shrinking': True}, {'C': 20, 'gamma': 'scale', 'kernel': 'rbf', 'shrinking': False}, {'C': 20, 'gamma': 'scale', 'kernel': 'sigmoid', 'shrinking': True}, {'C': 20, 'gamma': 'scale', 'kernel': 'sigmoid', 'shrinking': False}, {'C': 20, 'gamma': 'auto', 'kernel': 'linear', 'shrinking': True}, {'C': 20, 'gamma': 'auto', 'kernel': 'linear', 'shrinking': False}, {'C': 20, 'gamma': 'auto', 'kernel': 'poly', 'shrinking': True}, {'C': 20, 'gamma': 'auto', 'kernel': 'poly', 'shrinking': False}, {'C': 20, 'gamma': 'auto', 'kernel': 'rbf', 'shrinking': True}, {'C': 20, 'gamma': 'auto', 'kernel': 'rbf', 'shrinking': False}, {'C': 20, 'gamma': 'auto', 'kernel': 'sigmoid', 'shrinking': True}, {'C': 20, 'gamma': 'auto', 'kernel': 'sigmoid', 'shrinking': False}, {'C': 50, 'gamma': 'scale', 'kernel': 'linear', 'shrinking': True}, {'C': 50, 'gamma': 'scale', 'kernel': 'linear', 'shrinking': False}, {'C': 50, 'gamma': 'scale', 'kernel': 'poly', 'shrinking': True}, {'C': 50, 'gamma': 'scale', 'kernel': 'poly', 'shrinking': False}, {'C': 50, 'gamma': 'scale', 'kernel': 'rbf', 'shrinking': True}, {'C': 50, 'gamma': 'scale', 'kernel': 'rbf', 'shrinking': False}, {'C': 50, 'gamma': 'scale', 'kernel': 'sigmoid', 'shrinking': True}, {'C': 50, 'gamma': 'scale', 'kernel': 'sigmoid', 'shrinking': False}, {'C': 50, 'gamma': 'auto', 'kernel': 'linear', 'shrinking': True}, {'C': 50, 'gamma': 'auto', 'kernel': 'linear', 'shrinking': False}, {'C': 50, 'gamma': 'auto', 'kernel': 'poly', 'shrinking': True}, {'C': 50, 'gamma': 'auto', 'kernel': 'poly', 'shrinking': False}, {'C': 50, 'gamma': 'auto', 'kernel': 'rbf', 'shrinking': True}, {'C': 50, 'gamma': 'auto', 'kernel': 'rbf', 'shrinking': False}, {'C': 50, 'gamma': 'auto', 'kernel': 'sigmoid', 'shrinking': True}, {'C': 50, 'gamma': 'auto', 'kernel': 'sigmoid', 'shrinking': False}]), ('split0_test_score', array([0.58874459, 0.58874459, 0.25108225, 0.25108225, 0.43290043,\n",
       "       0.43290043, 0.4025974 , 0.4025974 , 0.58874459, 0.58874459,\n",
       "       0.25108225, 0.25108225, 0.43290043, 0.43290043, 0.3982684 ,\n",
       "       0.3982684 , 0.53246753, 0.53246753, 0.47619048, 0.47619048,\n",
       "       0.58008658, 0.58008658, 0.41125541, 0.41125541, 0.53246753,\n",
       "       0.53246753, 0.48051948, 0.48051948, 0.57575758, 0.57575758,\n",
       "       0.41991342, 0.41991342, 0.55411255, 0.55411255, 0.57575758,\n",
       "       0.57575758, 0.63203463, 0.63203463, 0.4025974 , 0.4025974 ,\n",
       "       0.55411255, 0.55411255, 0.58008658, 0.58008658, 0.63203463,\n",
       "       0.63203463, 0.38528139, 0.38528139, 0.61904762, 0.61904762,\n",
       "       0.59307359, 0.59307359, 0.64069264, 0.64069264, 0.40692641,\n",
       "       0.40692641, 0.61904762, 0.61904762, 0.58874459, 0.58874459,\n",
       "       0.64069264, 0.64069264, 0.41125541, 0.41125541, 0.58874459,\n",
       "       0.58874459, 0.58008658, 0.58008658, 0.63636364, 0.63636364,\n",
       "       0.36796537, 0.36796537, 0.58874459, 0.58874459, 0.58008658,\n",
       "       0.58008658, 0.62770563, 0.62770563, 0.38961039, 0.38961039,\n",
       "       0.55844156, 0.55844156, 0.56709957, 0.56709957, 0.63636364,\n",
       "       0.63636364, 0.37229437, 0.37229437, 0.55844156, 0.55844156,\n",
       "       0.56709957, 0.56709957, 0.62770563, 0.62770563, 0.40692641,\n",
       "       0.40692641])), ('split1_test_score', array([0.55411255, 0.55411255, 0.25541126, 0.25541126, 0.4025974 ,\n",
       "       0.4025974 , 0.41991342, 0.41991342, 0.55411255, 0.55411255,\n",
       "       0.25541126, 0.25541126, 0.4025974 , 0.4025974 , 0.41991342,\n",
       "       0.41991342, 0.54112554, 0.54112554, 0.41558442, 0.41558442,\n",
       "       0.57142857, 0.57142857, 0.42857143, 0.42857143, 0.54112554,\n",
       "       0.54112554, 0.41558442, 0.41558442, 0.57142857, 0.57142857,\n",
       "       0.42424242, 0.42424242, 0.58874459, 0.58874459, 0.56277056,\n",
       "       0.56277056, 0.64069264, 0.64069264, 0.41125541, 0.41125541,\n",
       "       0.58874459, 0.58874459, 0.56277056, 0.56277056, 0.64069264,\n",
       "       0.64069264, 0.41125541, 0.41125541, 0.56709957, 0.56709957,\n",
       "       0.58874459, 0.58874459, 0.64935065, 0.64935065, 0.4025974 ,\n",
       "       0.4025974 , 0.56709957, 0.56709957, 0.58874459, 0.58874459,\n",
       "       0.64935065, 0.64935065, 0.38961039, 0.38961039, 0.57142857,\n",
       "       0.57142857, 0.59307359, 0.59307359, 0.64935065, 0.64935065,\n",
       "       0.37662338, 0.37662338, 0.57142857, 0.57142857, 0.59307359,\n",
       "       0.59307359, 0.64935065, 0.64935065, 0.37662338, 0.37662338,\n",
       "       0.58441558, 0.58441558, 0.64069264, 0.64069264, 0.64935065,\n",
       "       0.64935065, 0.35930736, 0.35930736, 0.58441558, 0.58441558,\n",
       "       0.64069264, 0.64069264, 0.64935065, 0.64935065, 0.35930736,\n",
       "       0.35930736])), ('split2_test_score', array([0.54347826, 0.54347826, 0.3       , 0.3       , 0.4826087 ,\n",
       "       0.4826087 , 0.44782609, 0.44782609, 0.54347826, 0.54347826,\n",
       "       0.3       , 0.3       , 0.4826087 , 0.4826087 , 0.45217391,\n",
       "       0.45217391, 0.56086957, 0.56086957, 0.53043478, 0.53043478,\n",
       "       0.55652174, 0.55652174, 0.39565217, 0.39565217, 0.56086957,\n",
       "       0.56086957, 0.53043478, 0.53043478, 0.54782609, 0.54782609,\n",
       "       0.39565217, 0.39565217, 0.5826087 , 0.5826087 , 0.56956522,\n",
       "       0.56956522, 0.60434783, 0.60434783, 0.3173913 , 0.3173913 ,\n",
       "       0.5826087 , 0.5826087 , 0.56956522, 0.56956522, 0.60434783,\n",
       "       0.60434783, 0.30869565, 0.30869565, 0.53913043, 0.53913043,\n",
       "       0.58695652, 0.58695652, 0.63478261, 0.63478261, 0.32173913,\n",
       "       0.32173913, 0.53913043, 0.53913043, 0.58695652, 0.58695652,\n",
       "       0.63478261, 0.63478261, 0.31304348, 0.31304348, 0.56521739,\n",
       "       0.56521739, 0.58695652, 0.58695652, 0.62173913, 0.62173913,\n",
       "       0.30434783, 0.30434783, 0.56521739, 0.56521739, 0.58695652,\n",
       "       0.58695652, 0.62173913, 0.62173913, 0.31304348, 0.31304348,\n",
       "       0.54347826, 0.54347826, 0.60434783, 0.60434783, 0.6173913 ,\n",
       "       0.6173913 , 0.30869565, 0.30869565, 0.54347826, 0.54347826,\n",
       "       0.60434783, 0.60434783, 0.6173913 , 0.6173913 , 0.31304348,\n",
       "       0.31304348])), ('split3_test_score', array([0.53043478, 0.53043478, 0.26521739, 0.26521739, 0.41304348,\n",
       "       0.41304348, 0.40869565, 0.40869565, 0.53043478, 0.53043478,\n",
       "       0.26521739, 0.26521739, 0.41304348, 0.41304348, 0.40869565,\n",
       "       0.40869565, 0.59565217, 0.59565217, 0.46521739, 0.46521739,\n",
       "       0.52173913, 0.52173913, 0.39130435, 0.39130435, 0.59565217,\n",
       "       0.59565217, 0.46956522, 0.46956522, 0.52173913, 0.52173913,\n",
       "       0.39565217, 0.39565217, 0.56521739, 0.56521739, 0.57391304,\n",
       "       0.57391304, 0.62608696, 0.62608696, 0.40869565, 0.40869565,\n",
       "       0.56521739, 0.56521739, 0.57391304, 0.57391304, 0.62608696,\n",
       "       0.62608696, 0.40434783, 0.40434783, 0.56086957, 0.56086957,\n",
       "       0.60434783, 0.60434783, 0.63043478, 0.63043478, 0.39130435,\n",
       "       0.39130435, 0.56086957, 0.56086957, 0.60434783, 0.60434783,\n",
       "       0.63043478, 0.63043478, 0.39565217, 0.39565217, 0.53478261,\n",
       "       0.53478261, 0.62608696, 0.62608696, 0.63043478, 0.63043478,\n",
       "       0.4173913 , 0.41304348, 0.53478261, 0.53478261, 0.62608696,\n",
       "       0.62608696, 0.63043478, 0.63043478, 0.4       , 0.4       ,\n",
       "       0.52173913, 0.52173913, 0.60869565, 0.60869565, 0.62608696,\n",
       "       0.62608696, 0.38695652, 0.38695652, 0.52173913, 0.52173913,\n",
       "       0.60869565, 0.60869565, 0.62608696, 0.62608696, 0.39565217,\n",
       "       0.39565217])), ('split4_test_score', array([0.6       , 0.6       , 0.24347826, 0.24347826, 0.46956522,\n",
       "       0.46956522, 0.4826087 , 0.4826087 , 0.6       , 0.6       ,\n",
       "       0.25217391, 0.25217391, 0.46521739, 0.46521739, 0.4826087 ,\n",
       "       0.4826087 , 0.62173913, 0.62173913, 0.4826087 , 0.4826087 ,\n",
       "       0.6173913 , 0.6173913 , 0.43043478, 0.43043478, 0.62173913,\n",
       "       0.62173913, 0.47391304, 0.47391304, 0.6173913 , 0.6173913 ,\n",
       "       0.43913043, 0.43913043, 0.54347826, 0.54347826, 0.60434783,\n",
       "       0.60434783, 0.65652174, 0.65652174, 0.37391304, 0.37391304,\n",
       "       0.54347826, 0.54347826, 0.60434783, 0.60434783, 0.66086957,\n",
       "       0.66086957, 0.35217391, 0.35217391, 0.58695652, 0.58695652,\n",
       "       0.63913043, 0.63913043, 0.65652174, 0.65652174, 0.3826087 ,\n",
       "       0.3826087 , 0.58695652, 0.58695652, 0.62608696, 0.62608696,\n",
       "       0.66086957, 0.66086957, 0.3826087 , 0.3826087 , 0.60869565,\n",
       "       0.60869565, 0.62608696, 0.62608696, 0.6826087 , 0.6826087 ,\n",
       "       0.35217391, 0.35217391, 0.60869565, 0.60869565, 0.6173913 ,\n",
       "       0.6173913 , 0.6826087 , 0.6826087 , 0.35652174, 0.35652174,\n",
       "       0.5826087 , 0.5826087 , 0.6173913 , 0.6173913 , 0.6826087 ,\n",
       "       0.6826087 , 0.34347826, 0.34347826, 0.5826087 , 0.5826087 ,\n",
       "       0.6173913 , 0.6173913 , 0.68695652, 0.68695652, 0.34347826,\n",
       "       0.34347826])), ('mean_test_score', array([0.56335404, 0.56335404, 0.26303783, 0.26303783, 0.44014305,\n",
       "       0.44014305, 0.43232825, 0.43232825, 0.56335404, 0.56335404,\n",
       "       0.26477696, 0.26477696, 0.43927348, 0.43927348, 0.43233202,\n",
       "       0.43233202, 0.57037079, 0.57037079, 0.47400715, 0.47400715,\n",
       "       0.56943347, 0.56943347, 0.41144363, 0.41144363, 0.57037079,\n",
       "       0.57037079, 0.47400339, 0.47400339, 0.56682853, 0.56682853,\n",
       "       0.41491813, 0.41491813, 0.5668323 , 0.5668323 , 0.57727085,\n",
       "       0.57727085, 0.63193676, 0.63193676, 0.38277056, 0.38277056,\n",
       "       0.5668323 , 0.5668323 , 0.57813665, 0.57813665, 0.63280632,\n",
       "       0.63280632, 0.37235084, 0.37235084, 0.57462074, 0.57462074,\n",
       "       0.60245059, 0.60245059, 0.64235648, 0.64235648, 0.3810352 ,\n",
       "       0.3810352 , 0.57462074, 0.57462074, 0.5989761 , 0.5989761 ,\n",
       "       0.64322605, 0.64322605, 0.37843403, 0.37843403, 0.57377376,\n",
       "       0.57377376, 0.60245812, 0.60245812, 0.64409938, 0.64409938,\n",
       "       0.36370036, 0.36283079, 0.57377376, 0.57377376, 0.60071899,\n",
       "       0.60071899, 0.64236778, 0.64236778, 0.3671598 , 0.3671598 ,\n",
       "       0.55813665, 0.55813665, 0.6076454 , 0.6076454 , 0.64236025,\n",
       "       0.64236025, 0.35414643, 0.35414643, 0.55813665, 0.55813665,\n",
       "       0.6076454 , 0.6076454 , 0.64149821, 0.64149821, 0.36368154,\n",
       "       0.36368154])), ('std_test_score', array([0.02665234, 0.02665234, 0.01977185, 0.01977185, 0.03119459,\n",
       "       0.03119459, 0.02954609, 0.02954609, 0.02665234, 0.02665234,\n",
       "       0.01830276, 0.01830276, 0.03041312, 0.03041312, 0.03096667,\n",
       "       0.03096667, 0.03364541, 0.03364541, 0.03675135, 0.03675135,\n",
       "       0.03117334, 0.03117334, 0.01618037, 0.01618037, 0.03364541,\n",
       "       0.03364541, 0.03649505, 0.03649505, 0.03178562, 0.03178562,\n",
       "       0.01697342, 0.01697342, 0.01696381, 0.01696381, 0.01425737,\n",
       "       0.01425737, 0.0171841 , 0.0171841 , 0.03529732, 0.03529732,\n",
       "       0.01696381, 0.01696381, 0.01427062, 0.01427062, 0.01846819,\n",
       "       0.01846819, 0.03785145, 0.03785145, 0.02694863, 0.02694863,\n",
       "       0.01931248, 0.01931248, 0.00950612, 0.00950612, 0.03085203,\n",
       "       0.03085203, 0.02694863, 0.02694863, 0.0149512 , 0.0149512 ,\n",
       "       0.01086398, 0.01086398, 0.03403519, 0.03403519, 0.02466854,\n",
       "       0.02466854, 0.01972561, 0.01972561, 0.02124659, 0.02124659,\n",
       "       0.03667014, 0.03541677, 0.02466854, 0.02466854, 0.01786087,\n",
       "       0.01786087, 0.0221405 , 0.0221405 , 0.03070443, 0.03070443,\n",
       "       0.02378741, 0.02378741, 0.02384552, 0.02384552, 0.02277293,\n",
       "       0.02277293, 0.02687775, 0.02687775, 0.02378741, 0.02378741,\n",
       "       0.02384552, 0.02384552, 0.02504797, 0.02504797, 0.03430382,\n",
       "       0.03430382])), ('rank_test_score', array([53, 53, 95, 95, 65, 65, 71, 71, 53, 53, 93, 93, 67, 67, 69, 69, 41,\n",
       "       41, 61, 61, 45, 45, 75, 75, 41, 41, 63, 63, 51, 51, 73, 73, 47, 47,\n",
       "       31, 31, 15, 15, 77, 77, 47, 47, 29, 29, 13, 13, 83, 83, 33, 33, 23,\n",
       "       23,  9,  9, 79, 79, 33, 33, 27, 27,  3,  3, 81, 81, 37, 37, 21, 21,\n",
       "        1,  1, 87, 90, 37, 37, 25, 25,  5,  5, 85, 85, 57, 57, 17, 17,  7,\n",
       "        7, 91, 91, 57, 57, 17, 17, 11, 11, 88, 88]))])"
      ]
     },
     "execution_count": 51,
     "metadata": {},
     "output_type": "execute_result"
    }
   ],
   "source": [
    "parametrised_svc.cv_results_.items()"
   ]
  },
  {
   "cell_type": "code",
   "execution_count": 52,
   "metadata": {},
   "outputs": [
    {
     "data": {
      "text/plain": [
       "{'C': 20, 'gamma': 'scale', 'kernel': 'rbf', 'shrinking': True}"
      ]
     },
     "execution_count": 52,
     "metadata": {},
     "output_type": "execute_result"
    }
   ],
   "source": [
    "optimised_svc = parametrised_svc.best_estimator_\n",
    "optimised_parameters = parametrised_svc.best_params_\n",
    "optimised_parameters"
   ]
  },
  {
   "cell_type": "code",
   "execution_count": 53,
   "metadata": {},
   "outputs": [],
   "source": [
    "initial_classifier_results[\"svc_optimised\"] = fit_predict_and_score_classifier(optimised_svc, *multi_class_parameters)"
   ]
  },
  {
   "cell_type": "code",
   "execution_count": 54,
   "metadata": {},
   "outputs": [
    {
     "name": "stderr",
     "output_type": "stream",
     "text": [
      "C:\\Users\\Matas\\AppData\\Local\\Temp\\ipykernel_14388\\2014226108.py:39: FutureWarning: The frame.append method is deprecated and will be removed from pandas in a future version. Use pandas.concat instead.\n",
      "  table = table.append(new_row, ignore_index=True)\n",
      "C:\\Users\\Matas\\AppData\\Local\\Temp\\ipykernel_14388\\2014226108.py:39: FutureWarning: The frame.append method is deprecated and will be removed from pandas in a future version. Use pandas.concat instead.\n",
      "  table = table.append(new_row, ignore_index=True)\n",
      "C:\\Users\\Matas\\AppData\\Local\\Temp\\ipykernel_14388\\2014226108.py:39: FutureWarning: The frame.append method is deprecated and will be removed from pandas in a future version. Use pandas.concat instead.\n",
      "  table = table.append(new_row, ignore_index=True)\n",
      "C:\\Users\\Matas\\AppData\\Local\\Temp\\ipykernel_14388\\2014226108.py:39: FutureWarning: The frame.append method is deprecated and will be removed from pandas in a future version. Use pandas.concat instead.\n",
      "  table = table.append(new_row, ignore_index=True)\n",
      "C:\\Users\\Matas\\AppData\\Local\\Temp\\ipykernel_14388\\2014226108.py:39: FutureWarning: The frame.append method is deprecated and will be removed from pandas in a future version. Use pandas.concat instead.\n",
      "  table = table.append(new_row, ignore_index=True)\n",
      "C:\\Users\\Matas\\AppData\\Local\\Temp\\ipykernel_14388\\2014226108.py:39: FutureWarning: The frame.append method is deprecated and will be removed from pandas in a future version. Use pandas.concat instead.\n",
      "  table = table.append(new_row, ignore_index=True)\n",
      "C:\\Users\\Matas\\AppData\\Local\\Temp\\ipykernel_14388\\2014226108.py:39: FutureWarning: The frame.append method is deprecated and will be removed from pandas in a future version. Use pandas.concat instead.\n",
      "  table = table.append(new_row, ignore_index=True)\n",
      "C:\\Users\\Matas\\AppData\\Local\\Temp\\ipykernel_14388\\2014226108.py:39: FutureWarning: The frame.append method is deprecated and will be removed from pandas in a future version. Use pandas.concat instead.\n",
      "  table = table.append(new_row, ignore_index=True)\n",
      "C:\\Users\\Matas\\AppData\\Local\\Temp\\ipykernel_14388\\2014226108.py:39: FutureWarning: The frame.append method is deprecated and will be removed from pandas in a future version. Use pandas.concat instead.\n",
      "  table = table.append(new_row, ignore_index=True)\n",
      "C:\\Users\\Matas\\AppData\\Local\\Temp\\ipykernel_14388\\2014226108.py:39: FutureWarning: The frame.append method is deprecated and will be removed from pandas in a future version. Use pandas.concat instead.\n",
      "  table = table.append(new_row, ignore_index=True)\n",
      "C:\\Users\\Matas\\AppData\\Local\\Temp\\ipykernel_14388\\2014226108.py:39: FutureWarning: The frame.append method is deprecated and will be removed from pandas in a future version. Use pandas.concat instead.\n",
      "  table = table.append(new_row, ignore_index=True)\n",
      "C:\\Users\\Matas\\AppData\\Local\\Temp\\ipykernel_14388\\2014226108.py:39: FutureWarning: The frame.append method is deprecated and will be removed from pandas in a future version. Use pandas.concat instead.\n",
      "  table = table.append(new_row, ignore_index=True)\n"
     ]
    },
    {
     "data": {
      "text/html": [
       "<div>\n",
       "<style scoped>\n",
       "    .dataframe tbody tr th:only-of-type {\n",
       "        vertical-align: middle;\n",
       "    }\n",
       "\n",
       "    .dataframe tbody tr th {\n",
       "        vertical-align: top;\n",
       "    }\n",
       "\n",
       "    .dataframe thead th {\n",
       "        text-align: right;\n",
       "    }\n",
       "</style>\n",
       "<table border=\"1\" class=\"dataframe\">\n",
       "  <thead>\n",
       "    <tr style=\"text-align: right;\">\n",
       "      <th></th>\n",
       "      <th>Classifier</th>\n",
       "      <th>Set type</th>\n",
       "      <th>predictions</th>\n",
       "      <th>accuracy</th>\n",
       "      <th>precision</th>\n",
       "      <th>recall</th>\n",
       "      <th>F1</th>\n",
       "    </tr>\n",
       "  </thead>\n",
       "  <tbody>\n",
       "    <tr>\n",
       "      <th>0</th>\n",
       "      <td>dummy_classifier_most_frequent</td>\n",
       "      <td>train</td>\n",
       "      <td>[angry, angry, angry, angry, angry, angry, ang...</td>\n",
       "      <td>0.133681</td>\n",
       "      <td>0.891710</td>\n",
       "      <td>0.125000</td>\n",
       "      <td>0.029479</td>\n",
       "    </tr>\n",
       "    <tr>\n",
       "      <th>1</th>\n",
       "      <td>dummy_classifier_most_frequent</td>\n",
       "      <td>val</td>\n",
       "      <td>[angry, angry, angry, angry, angry, angry, ang...</td>\n",
       "      <td>0.131944</td>\n",
       "      <td>0.891493</td>\n",
       "      <td>0.125000</td>\n",
       "      <td>0.029141</td>\n",
       "    </tr>\n",
       "    <tr>\n",
       "      <th>2</th>\n",
       "      <td>dummy_classifier_stratified</td>\n",
       "      <td>train</td>\n",
       "      <td>[disgust, happy, sad, sad, happy, calm, angry,...</td>\n",
       "      <td>0.134549</td>\n",
       "      <td>0.130735</td>\n",
       "      <td>0.131006</td>\n",
       "      <td>0.130768</td>\n",
       "    </tr>\n",
       "    <tr>\n",
       "      <th>3</th>\n",
       "      <td>dummy_classifier_stratified</td>\n",
       "      <td>val</td>\n",
       "      <td>[fearful, angry, happy, sad, sad, sad, disgust...</td>\n",
       "      <td>0.125000</td>\n",
       "      <td>0.109707</td>\n",
       "      <td>0.117763</td>\n",
       "      <td>0.112289</td>\n",
       "    </tr>\n",
       "    <tr>\n",
       "      <th>4</th>\n",
       "      <td>logistic_regression</td>\n",
       "      <td>train</td>\n",
       "      <td>[angry, happy, calm, happy, neutral, neutral, ...</td>\n",
       "      <td>0.763889</td>\n",
       "      <td>0.761988</td>\n",
       "      <td>0.762210</td>\n",
       "      <td>0.761048</td>\n",
       "    </tr>\n",
       "    <tr>\n",
       "      <th>5</th>\n",
       "      <td>logistic_regression</td>\n",
       "      <td>val</td>\n",
       "      <td>[calm, angry, happy, calm, fearful, angry, sur...</td>\n",
       "      <td>0.604167</td>\n",
       "      <td>0.601776</td>\n",
       "      <td>0.610197</td>\n",
       "      <td>0.603314</td>\n",
       "    </tr>\n",
       "    <tr>\n",
       "      <th>6</th>\n",
       "      <td>svc</td>\n",
       "      <td>train</td>\n",
       "      <td>[angry, happy, calm, happy, surprised, calm, f...</td>\n",
       "      <td>0.796007</td>\n",
       "      <td>0.798800</td>\n",
       "      <td>0.776510</td>\n",
       "      <td>0.780752</td>\n",
       "    </tr>\n",
       "    <tr>\n",
       "      <th>7</th>\n",
       "      <td>svc</td>\n",
       "      <td>val</td>\n",
       "      <td>[calm, angry, angry, calm, happy, angry, happy...</td>\n",
       "      <td>0.625000</td>\n",
       "      <td>0.619556</td>\n",
       "      <td>0.606250</td>\n",
       "      <td>0.606615</td>\n",
       "    </tr>\n",
       "    <tr>\n",
       "      <th>8</th>\n",
       "      <td>svc_pruned</td>\n",
       "      <td>train</td>\n",
       "      <td>[angry, happy, calm, happy, surprised, calm, f...</td>\n",
       "      <td>0.796007</td>\n",
       "      <td>0.798800</td>\n",
       "      <td>0.776510</td>\n",
       "      <td>0.780752</td>\n",
       "    </tr>\n",
       "    <tr>\n",
       "      <th>9</th>\n",
       "      <td>svc_pruned</td>\n",
       "      <td>val</td>\n",
       "      <td>[calm, angry, angry, calm, happy, angry, happy...</td>\n",
       "      <td>0.625000</td>\n",
       "      <td>0.619556</td>\n",
       "      <td>0.606250</td>\n",
       "      <td>0.606615</td>\n",
       "    </tr>\n",
       "    <tr>\n",
       "      <th>10</th>\n",
       "      <td>svc_optimised</td>\n",
       "      <td>train</td>\n",
       "      <td>[angry, happy, calm, happy, surprised, neutral...</td>\n",
       "      <td>1.000000</td>\n",
       "      <td>1.000000</td>\n",
       "      <td>1.000000</td>\n",
       "      <td>1.000000</td>\n",
       "    </tr>\n",
       "    <tr>\n",
       "      <th>11</th>\n",
       "      <td>svc_optimised</td>\n",
       "      <td>val</td>\n",
       "      <td>[calm, angry, angry, calm, disgust, angry, ang...</td>\n",
       "      <td>0.659722</td>\n",
       "      <td>0.652856</td>\n",
       "      <td>0.644079</td>\n",
       "      <td>0.645768</td>\n",
       "    </tr>\n",
       "  </tbody>\n",
       "</table>\n",
       "</div>"
      ],
      "text/plain": [
       "                        Classifier Set type  \\\n",
       "0   dummy_classifier_most_frequent    train   \n",
       "1   dummy_classifier_most_frequent      val   \n",
       "2      dummy_classifier_stratified    train   \n",
       "3      dummy_classifier_stratified      val   \n",
       "4              logistic_regression    train   \n",
       "5              logistic_regression      val   \n",
       "6                              svc    train   \n",
       "7                              svc      val   \n",
       "8                       svc_pruned    train   \n",
       "9                       svc_pruned      val   \n",
       "10                   svc_optimised    train   \n",
       "11                   svc_optimised      val   \n",
       "\n",
       "                                          predictions  accuracy  precision  \\\n",
       "0   [angry, angry, angry, angry, angry, angry, ang...  0.133681   0.891710   \n",
       "1   [angry, angry, angry, angry, angry, angry, ang...  0.131944   0.891493   \n",
       "2   [disgust, happy, sad, sad, happy, calm, angry,...  0.134549   0.130735   \n",
       "3   [fearful, angry, happy, sad, sad, sad, disgust...  0.125000   0.109707   \n",
       "4   [angry, happy, calm, happy, neutral, neutral, ...  0.763889   0.761988   \n",
       "5   [calm, angry, happy, calm, fearful, angry, sur...  0.604167   0.601776   \n",
       "6   [angry, happy, calm, happy, surprised, calm, f...  0.796007   0.798800   \n",
       "7   [calm, angry, angry, calm, happy, angry, happy...  0.625000   0.619556   \n",
       "8   [angry, happy, calm, happy, surprised, calm, f...  0.796007   0.798800   \n",
       "9   [calm, angry, angry, calm, happy, angry, happy...  0.625000   0.619556   \n",
       "10  [angry, happy, calm, happy, surprised, neutral...  1.000000   1.000000   \n",
       "11  [calm, angry, angry, calm, disgust, angry, ang...  0.659722   0.652856   \n",
       "\n",
       "      recall        F1  \n",
       "0   0.125000  0.029479  \n",
       "1   0.125000  0.029141  \n",
       "2   0.131006  0.130768  \n",
       "3   0.117763  0.112289  \n",
       "4   0.762210  0.761048  \n",
       "5   0.610197  0.603314  \n",
       "6   0.776510  0.780752  \n",
       "7   0.606250  0.606615  \n",
       "8   0.776510  0.780752  \n",
       "9   0.606250  0.606615  \n",
       "10  1.000000  1.000000  \n",
       "11  0.644079  0.645768  "
      ]
     },
     "metadata": {},
     "output_type": "display_data"
    }
   ],
   "source": [
    "post_optimisation_classifier_results_table = create_result_table(initial_classifier_results)\n",
    "display(post_optimisation_classifier_results_table)"
   ]
  },
  {
   "cell_type": "markdown",
   "metadata": {},
   "source": [
    "# Neural network section"
   ]
  },
  {
   "cell_type": "markdown",
   "metadata": {},
   "source": [
    "### Spectrogram creation"
   ]
  },
  {
   "cell_type": "code",
   "execution_count": 55,
   "metadata": {},
   "outputs": [],
   "source": [
    "# Taken from https://towardsdatascience.com/getting-to-know-the-mel-spectrogram-31bca3e2d9d0\n",
    "\n",
    "import librosa\n",
    "\n",
    "def create_mel_spectrogram_file(spectrogram, sampling_rate, hop_length, index):\n",
    "    db_spectrogram = librosa.power_to_db(spectrogram, ref=np.max)\n",
    "    librosa.display.specshow(db_spectrogram, sr=sampling_rate, hop_length=hop_length, x_axis=\"time\", y_axis=\"mel\");\n",
    "    plt.colorbar(format=\"%+2.0f dB\")\n",
    "    plt.savefig(f\"spectrograms/{index}_{emotions[index]}.png\")\n",
    "    plt.clf()\n",
    "    return spectrogram\n",
    "\n",
    "def produce_mel_spectrograms(files, hop_length=512, frameSize=2048, n_mels=128):\n",
    "    spectrograms = []\n",
    "    max_audio_length = 0\n",
    "    audio_data = []\n",
    "    \n",
    "    for file in files:\n",
    "        audio, sampling_rate = librosa.load(file)\n",
    "        max_audio_length = max(max_audio_length, audio.shape[0])\n",
    "        audio_data.append((audio, sampling_rate))\n",
    "    \n",
    "    for index, (audio, sampling_rate) in enumerate(audio_data):\n",
    "        audio = librosa.util.fix_length(audio, size=max_audio_length)\n",
    "        spectrogram = librosa.feature.melspectrogram(y=audio, sr=sampling_rate, n_fft=frameSize, hop_length=hop_length, n_mels=n_mels)\n",
    "        spectrograms.append(spectrogram)\n",
    "#         create_mel_spectrogram_file(spectrogram, sampling_rate, hop_length, index)\n",
    "\n",
    "    return np.array(spectrograms)"
   ]
  },
  {
   "cell_type": "code",
   "execution_count": 56,
   "metadata": {},
   "outputs": [],
   "source": [
    "spectrograms = produce_mel_spectrograms(files)"
   ]
  },
  {
   "cell_type": "code",
   "execution_count": 57,
   "metadata": {},
   "outputs": [
    {
     "data": {
      "text/plain": [
       "Counter({(128, 228): 1440})"
      ]
     },
     "execution_count": 57,
     "metadata": {},
     "output_type": "execute_result"
    }
   ],
   "source": [
    "Counter([s.shape for s in spectrograms])"
   ]
  },
  {
   "cell_type": "code",
   "execution_count": 58,
   "metadata": {},
   "outputs": [],
   "source": [
    "normalised_spectrograms=(spectrograms-spectrograms.mean())/spectrograms.std()"
   ]
  },
  {
   "cell_type": "code",
   "execution_count": 59,
   "metadata": {},
   "outputs": [],
   "source": [
    "spectrograms_split, _ = perform_3_way_split(normalised_spectrograms, emotions, (80,10,10), SEED)\n",
    "spectrograms_train, spectrograms_val, spectrograms_test = spectrograms_split"
   ]
  },
  {
   "cell_type": "code",
   "execution_count": 60,
   "metadata": {},
   "outputs": [],
   "source": [
    "# Adding single channel axes\n",
    "spectrograms_train = np.expand_dims(spectrograms_train, axis=1)\n",
    "spectrograms_val = np.expand_dims(spectrograms_val, axis=1)\n",
    "spectrograms_test = np.expand_dims(spectrograms_test, axis=1)"
   ]
  },
  {
   "cell_type": "code",
   "execution_count": 61,
   "metadata": {},
   "outputs": [
    {
     "name": "stdout",
     "output_type": "stream",
     "text": [
      "9118.859\n",
      "0.12489092\n"
     ]
    }
   ],
   "source": [
    "print(np.max(spectrograms))\n",
    "print(np.mean(spectrograms))"
   ]
  },
  {
   "cell_type": "code",
   "execution_count": 62,
   "metadata": {},
   "outputs": [
    {
     "data": {
      "text/plain": [
       "(1152, 1, 128, 228)"
      ]
     },
     "execution_count": 62,
     "metadata": {},
     "output_type": "execute_result"
    }
   ],
   "source": [
    "spectrograms_train.shape"
   ]
  },
  {
   "cell_type": "markdown",
   "metadata": {},
   "source": [
    "### Setting up DataSet and DataLoader"
   ]
  },
  {
   "cell_type": "code",
   "execution_count": 63,
   "metadata": {},
   "outputs": [],
   "source": [
    "import torch\n",
    "import torch.nn.functional as F\n",
    "import datetime\n",
    "\n",
    "spectrograms_tensor_train = torch.from_numpy(spectrograms_train).float()\n",
    "spectrograms_tensor_val = torch.from_numpy(spectrograms_val).float()\n",
    "spectrograms_tensor_test = torch.from_numpy(spectrograms_test).float()\n",
    "\n",
    "emotions_tensor_train = torch.from_numpy(emotions_numeric_train).long()\n",
    "emotions_tensor_val = torch.from_numpy(emotions_numeric_val).long()\n",
    "emotions_tensor_test = torch.from_numpy(emotions_numeric_test).long()\n",
    "\n",
    "# emotions_tensor_train.to(device)\n",
    "# emotions_tensor_val.to(device)\n",
    "\n",
    "emotions_tensor_binary_train = torch.tensor([1 if emotion == \"positive\" else 0 for emotion in emotions_binary_train]).long()\n",
    "emotions_tensor_binary_val = torch.tensor([1 if emotion == \"positive\" else 0 for emotion in emotions_binary_val]).long()\n",
    "emotions_tensor_binary_test = torch.tensor([1 if emotion == \"positive\" else 0 for emotion in emotions_binary_test]).long()\n",
    "\n",
    "spectrogram_dimensions = spectrograms_tensor_train.size()[1:]"
   ]
  },
  {
   "cell_type": "code",
   "execution_count": 64,
   "metadata": {},
   "outputs": [
    {
     "data": {
      "text/plain": [
       "torch.Size([1152, 1, 128, 228])"
      ]
     },
     "execution_count": 64,
     "metadata": {},
     "output_type": "execute_result"
    }
   ],
   "source": [
    "spectrograms_tensor_train.size()"
   ]
  },
  {
   "cell_type": "code",
   "execution_count": 65,
   "metadata": {},
   "outputs": [],
   "source": [
    "spectrogram_dataset_train = torch.utils.data.TensorDataset(spectrograms_tensor_train, emotions_tensor_train)\n",
    "spectrogram_dataset_val = torch.utils.data.TensorDataset(spectrograms_tensor_val, emotions_tensor_val)\n",
    "# spectrogram_dataset_train = torch.utils.data.TensorDataset(spectrograms_tensor_train, emotions_tensor_binary_train)\n",
    "# spectrogram_dataset_val = torch.utils.data.TensorDataset(spectrograms_tensor_val, emotions_tensor_binary_val)\n",
    "\n",
    "spectrogram_loader_val = torch.utils.data.DataLoader(spectrogram_dataset_val, batch_size=32, shuffle=True)\n",
    "spectrogram_loader_train = torch.utils.data.DataLoader(spectrogram_dataset_train, batch_size=32, shuffle=False)"
   ]
  },
  {
   "cell_type": "code",
   "execution_count": 66,
   "metadata": {},
   "outputs": [],
   "source": [
    "number_to_emotion_mapping = {int(file_name)-1: emotion for file_name, emotion in file_name_to_emotion_mapping.items()}"
   ]
  },
  {
   "cell_type": "code",
   "execution_count": 67,
   "metadata": {},
   "outputs": [
    {
     "name": "stdout",
     "output_type": "stream",
     "text": [
      "cuda:0\n"
     ]
    }
   ],
   "source": [
    "device = torch.device(\"cuda:0\" if torch.cuda.is_available() else \"cpu\")\n",
    "print(device)"
   ]
  },
  {
   "cell_type": "code",
   "execution_count": 68,
   "metadata": {},
   "outputs": [
    {
     "name": "stdout",
     "output_type": "stream",
     "text": [
      "12.1\n"
     ]
    }
   ],
   "source": [
    "print(torch.version.cuda)"
   ]
  },
  {
   "cell_type": "markdown",
   "metadata": {},
   "source": [
    "### Multi Layered Perceptron"
   ]
  },
  {
   "cell_type": "markdown",
   "metadata": {},
   "source": [
    "##### Spectrograms as input"
   ]
  },
  {
   "cell_type": "code",
   "execution_count": 69,
   "metadata": {},
   "outputs": [],
   "source": [
    "class PerceptronSpectrogramModel(torch.nn.Module):\n",
    "\n",
    "    def __init__(self):\n",
    "        super(PerceptronSpectrogramModel, self).__init__()\n",
    "        \n",
    "        self.linear1 = torch.nn.Linear(np.prod(spectrogram_dimensions), 200)\n",
    "        self.activation = torch.nn.ReLU()\n",
    "        self.linear2 = torch.nn.Linear(200, 8)\n",
    "\n",
    "    def forward(self, x):\n",
    "        x = torch.flatten(x, 1)\n",
    "        x = self.linear1(x)\n",
    "        x = self.activation(x)\n",
    "        x = self.linear2(x)\n",
    "        return x"
   ]
  },
  {
   "cell_type": "markdown",
   "metadata": {},
   "source": [
    "### Convolutional Neural Network"
   ]
  },
  {
   "cell_type": "code",
   "execution_count": 70,
   "metadata": {},
   "outputs": [
    {
     "name": "stdout",
     "output_type": "stream",
     "text": [
      "[  1 128 228]\n",
      "[ 1 29 54]\n",
      "1566\n"
     ]
    }
   ],
   "source": [
    "convoluted_dimensions = np.array(spectrogram_dimensions)\n",
    "print(convoluted_dimensions)\n",
    "convoluted_dimensions -= (3 - 1)\n",
    "convoluted_dimensions -= (3 - 1)\n",
    "convoluted_dimensions //= 2\n",
    "convoluted_dimensions -= (3 - 1)\n",
    "convoluted_dimensions -= (3 - 1)\n",
    "convoluted_dimensions //= 2\n",
    "convoluted_dimensions[0] = 1\n",
    "print(convoluted_dimensions)\n",
    "print(np.prod(convoluted_dimensions))"
   ]
  },
  {
   "cell_type": "code",
   "execution_count": 71,
   "metadata": {},
   "outputs": [],
   "source": [
    "class CNN(torch.nn.Module):\n",
    "\n",
    "    def __init__(self):\n",
    "        super(CNN, self).__init__()\n",
    "        self.conv1 = torch.nn.Conv2d(1, 4, 3)\n",
    "        self.conv2 = torch.nn.Conv2d(4, 8, 3)\n",
    "        self.conv3 = torch.nn.Conv2d(8, 16, 3)\n",
    "        self.conv4 = torch.nn.Conv2d(16, 32, 3)\n",
    "        self.fc1 = torch.nn.Linear(32 * np.prod(convoluted_dimensions), 128)\n",
    "        self.fc2 = torch.nn.Linear(128, 8)\n",
    "\n",
    "    def forward(self, x):\n",
    "        x = F.relu(self.conv1(x))\n",
    "        x = F.max_pool2d(F.relu(self.conv2(x)), 2)\n",
    "        x = F.relu(self.conv3(x))\n",
    "        x = F.max_pool2d(F.relu(self.conv4(x)), 2)\n",
    "        \n",
    "        x = x.view(-1, self.num_flat_features(x))\n",
    "        x = F.relu(self.fc1(x))\n",
    "        x = self.fc2(x)\n",
    "        return x\n",
    "\n",
    "    def num_flat_features(self, x):\n",
    "        size = x.size()[1:]\n",
    "        num_features = 1\n",
    "        for s in size:\n",
    "            num_features *= s\n",
    "        return num_features"
   ]
  },
  {
   "cell_type": "markdown",
   "metadata": {},
   "source": [
    "### Neural network training"
   ]
  },
  {
   "cell_type": "code",
   "execution_count": 72,
   "metadata": {},
   "outputs": [
    {
     "data": {
      "text/plain": [
       "<bound method Module.parameters of CNN(\n",
       "  (conv1): Conv2d(1, 4, kernel_size=(3, 3), stride=(1, 1))\n",
       "  (conv2): Conv2d(4, 8, kernel_size=(3, 3), stride=(1, 1))\n",
       "  (conv3): Conv2d(8, 16, kernel_size=(3, 3), stride=(1, 1))\n",
       "  (conv4): Conv2d(16, 32, kernel_size=(3, 3), stride=(1, 1))\n",
       "  (fc1): Linear(in_features=50112, out_features=128, bias=True)\n",
       "  (fc2): Linear(in_features=128, out_features=8, bias=True)\n",
       ")>"
      ]
     },
     "execution_count": 72,
     "metadata": {},
     "output_type": "execute_result"
    }
   ],
   "source": [
    "# model = PerceptronSpectrogramModel()\n",
    "model = CNN()\n",
    "# model.to(device)\n",
    "model.parameters"
   ]
  },
  {
   "cell_type": "code",
   "execution_count": 73,
   "metadata": {},
   "outputs": [],
   "source": [
    "loss_fn = torch.nn.CrossEntropyLoss()\n",
    "\n",
    "# Optimizers specified in the torch.optim package\n",
    "optimizer = torch.optim.Adam(model.parameters(), lr=0.0005)"
   ]
  },
  {
   "cell_type": "code",
   "execution_count": 74,
   "metadata": {},
   "outputs": [],
   "source": [
    "def train_one_epoch(epoch_index, tb_writer):\n",
    "    running_loss = 0.\n",
    "    last_loss = 0.\n",
    "    running_accuracy = 0.\n",
    "    last_accuracy = 0.\n",
    "\n",
    "    # Here, we use enumerate(training_loader) instead of\n",
    "    # iter(training_loader) so that we can track the batch\n",
    "    # index and do some intra-epoch reporting\n",
    "    for i, data in enumerate(spectrogram_loader_train):\n",
    "        # Every data instance is an input + label pair\n",
    "        inputs, labels = data\n",
    "\n",
    "        # Zero your gradients for every batch!\n",
    "        optimizer.zero_grad()\n",
    "\n",
    "        # Make predictions for this batch\n",
    "        outputs = model(inputs)\n",
    "\n",
    "        # Compute the loss and its gradients\n",
    "        loss = loss_fn(outputs, labels)\n",
    "        loss.backward()\n",
    "        \n",
    "        output_predictions = torch.nn.Softmax(dim=1)(outputs).argmax(1)        \n",
    "        accuracy = torch.sum(output_predictions == labels) / len(labels)\n",
    "\n",
    "        # Adjust learning weights\n",
    "        optimizer.step()\n",
    "\n",
    "        # Gather data and report\n",
    "        running_loss += loss.item()\n",
    "        running_accuracy += accuracy\n",
    "        if i % 32 == 31:\n",
    "            last_loss = running_loss / 32 # loss per batch\n",
    "            last_accuracy = running_accuracy / 32 # accuracy per batch\n",
    "#             print(f\"  batch {i + 1} loss: {last_loss:.4f} acc: {last_accuracy:.4f}\")\n",
    "# #             tb_x = epoch_index * len(training_loader) + i + 1\n",
    "# #             tb_writer.add_scalar('Loss/train', last_loss, tb_x)\n",
    "            running_loss = 0.\n",
    "            running_accuracy = 0.\n",
    "        elif i == len(spectrogram_loader_train)-1:\n",
    "            last_loss = running_loss / (len(spectrogram_loader_train) % 32) # loss per batch\n",
    "            last_accuracy = running_accuracy / (len(spectrogram_loader_train) % 32) # accuracy per batch\n",
    "#             print(f\"  batch {i + 1} loss: {last_loss:.4f} acc: {last_accuracy:.4f}\")\n",
    "# #             tb_x = epoch_index * len(training_loader) + i + 1\n",
    "# #             tb_writer.add_scalar('Loss/train', last_loss, tb_x)\n",
    "            running_loss = 0.\n",
    "            running_accuracy = 0.\n",
    "\n",
    "    return last_loss, last_accuracy"
   ]
  },
  {
   "cell_type": "code",
   "execution_count": 75,
   "metadata": {
    "scrolled": false
   },
   "outputs": [
    {
     "name": "stdout",
     "output_type": "stream",
     "text": [
      "EPOCH 1:\n",
      "\t LOSS train 1.9679 valid 2.0091 \t\t ACC train 0.1875 valid 0.2188\n",
      "EPOCH 2:\n",
      "\t LOSS train 1.7759 valid 2.0757 \t\t ACC train 0.2812 valid 0.3125\n",
      "EPOCH 3:\n",
      "\t LOSS train 1.5937 valid 2.2149 \t\t ACC train 0.3359 valid 0.2750\n",
      "EPOCH 4:\n",
      "\t LOSS train 1.5645 valid 2.2828 \t\t ACC train 0.3672 valid 0.2812\n",
      "EPOCH 5:\n",
      "\t LOSS train 1.4790 valid 2.5669 \t\t ACC train 0.4219 valid 0.4062\n",
      "EPOCH 6:\n",
      "\t LOSS train 1.3781 valid 3.3784 \t\t ACC train 0.4453 valid 0.3688\n",
      "EPOCH 7:\n",
      "\t LOSS train 1.3100 valid 4.9234 \t\t ACC train 0.4844 valid 0.3812\n",
      "EPOCH 8:\n",
      "\t LOSS train 2.0158 valid 3.3727 \t\t ACC train 0.4453 valid 0.4000\n",
      "EPOCH 9:\n",
      "\t LOSS train 1.6408 valid 3.8515 \t\t ACC train 0.4766 valid 0.4313\n",
      "EPOCH 10:\n",
      "\t LOSS train 1.2252 valid 4.3726 \t\t ACC train 0.5469 valid 0.3625\n",
      "EPOCH 11:\n",
      "\t LOSS train 1.1182 valid 4.6840 \t\t ACC train 0.5547 valid 0.3875\n",
      "EPOCH 12:\n",
      "\t LOSS train 1.0408 valid 5.6327 \t\t ACC train 0.5781 valid 0.3938\n",
      "EPOCH 13:\n",
      "\t LOSS train 0.9781 valid 6.9224 \t\t ACC train 0.6250 valid 0.4062\n",
      "EPOCH 14:\n",
      "\t LOSS train 0.8574 valid 8.7816 \t\t ACC train 0.6797 valid 0.4125\n",
      "EPOCH 15:\n",
      "\t LOSS train 0.9429 valid 6.8017 \t\t ACC train 0.6641 valid 0.3688\n",
      "EPOCH 16:\n",
      "\t LOSS train 0.8670 valid 8.2127 \t\t ACC train 0.7031 valid 0.4250\n",
      "EPOCH 17:\n",
      "\t LOSS train 0.8291 valid 8.8878 \t\t ACC train 0.7109 valid 0.4250\n",
      "EPOCH 18:\n",
      "\t LOSS train 0.7610 valid 10.2955 \t\t ACC train 0.7578 valid 0.4313\n",
      "EPOCH 19:\n",
      "\t LOSS train 0.6949 valid 13.5679 \t\t ACC train 0.7656 valid 0.4250\n",
      "EPOCH 20:\n",
      "\t LOSS train 0.6718 valid 13.3069 \t\t ACC train 0.7734 valid 0.4938\n"
     ]
    }
   ],
   "source": [
    "# Initializing in a separate cell so we can easily add more epochs to the same run\n",
    "timestamp = datetime.datetime.now().strftime('%Y%m%d_%H%M%S')\n",
    "# writer = SummaryWriter('runs/cnn_trainer_{}'.format(timestamp))\n",
    "epoch_number = 0\n",
    "\n",
    "EPOCHS = 20\n",
    "\n",
    "best_vloss = 1_000_000.\n",
    "\n",
    "for epoch in range(EPOCHS):\n",
    "    print(f\"EPOCH {epoch_number + 1}:\")\n",
    "\n",
    "    # Make sure gradient tracking is on, and do a pass over the data\n",
    "    model.train(True)\n",
    "    avg_loss, avg_accuracy = train_one_epoch(epoch_number, None) #     avg_loss = train_one_epoch(epoch_number, writer)\n",
    "\n",
    "\n",
    "    running_vloss = 0.0\n",
    "    running_vaccuracy = 0.0\n",
    "    # Set the model to evaluation mode, disabling dropout and using population\n",
    "    # statistics for batch normalization.\n",
    "    model.eval()\n",
    "\n",
    "    # Disable gradient computation and reduce memory consumption.\n",
    "    with torch.no_grad():\n",
    "        for i, vdata in enumerate(spectrogram_loader_val):\n",
    "            vinputs, vlabels = vdata\n",
    "            voutputs = model(vinputs)\n",
    "            vloss = loss_fn(voutputs, vlabels)\n",
    "            running_vloss += vloss\n",
    "            \n",
    "            voutput_predictions = torch.nn.Softmax(dim=1)(voutputs).argmax(1)        \n",
    "            vaccuracy = torch.sum(voutput_predictions == vlabels) / len(vlabels)\n",
    "            running_vaccuracy += vaccuracy\n",
    "\n",
    "    avg_vloss = running_vloss / (i + 1)\n",
    "    avg_vaccuracy = running_vaccuracy / (i + 1)\n",
    "    print(f\"\\t LOSS train {avg_loss:.4f} valid {avg_vloss:.4f} \\t\\t ACC train {avg_accuracy:.4f} valid {avg_vaccuracy:.4f}\")\n",
    "\n",
    "#     # Log the running loss averaged per batch\n",
    "#     # for both training and validation\n",
    "#     writer.add_scalars('Training vs. Validation Loss',\n",
    "#                     { 'Training' : avg_loss, 'Validation' : avg_vloss },\n",
    "#                     epoch_number + 1)\n",
    "#     writer.flush()\n",
    "\n",
    "    # Track best performance, and save the model's state\n",
    "    if avg_vloss < best_vloss:\n",
    "        best_vloss = avg_vloss\n",
    "        model_path = f\"model_checkpoints/model_{timestamp}_{epoch}\"\n",
    "#         torch.save(model.state_dict(), model_path)\n",
    "\n",
    "    epoch_number += 1"
   ]
  },
  {
   "cell_type": "code",
   "execution_count": 76,
   "metadata": {},
   "outputs": [],
   "source": [
    "validation_outputs = model(spectrograms_tensor_val)\n",
    "validation_output_predictions = torch.nn.Softmax(dim=1)(validation_outputs).argmax(1)\n",
    "validation_output_emotions = np.array([number_to_emotion_mapping[value] for value in validation_output_predictions.numpy()])"
   ]
  },
  {
   "cell_type": "code",
   "execution_count": 77,
   "metadata": {
    "scrolled": false
   },
   "outputs": [
    {
     "data": {
      "image/png": "[encoded data removed]",
      "text/plain": [
       "<Figure size 640x480 with 2 Axes>"
      ]
     },
     "metadata": {},
     "output_type": "display_data"
    }
   ],
   "source": [
    "metrics.ConfusionMatrixDisplay.from_predictions(emotions_val, validation_output_emotions)\n",
    "plt.show()"
   ]
  },
  {
   "cell_type": "code",
   "execution_count": null,
   "metadata": {},
   "outputs": [],
   "source": []
  },
  {
   "cell_type": "code",
   "execution_count": null,
   "metadata": {},
   "outputs": [],
   "source": []
  },
  {
   "cell_type": "code",
   "execution_count": null,
   "metadata": {},
   "outputs": [],
   "source": []
  },
  {
   "cell_type": "code",
   "execution_count": null,
   "metadata": {},
   "outputs": [],
   "source": []
  },
  {
   "cell_type": "code",
   "execution_count": null,
   "metadata": {},
   "outputs": [],
   "source": []
  },
  {
   "cell_type": "code",
   "execution_count": null,
   "metadata": {},
   "outputs": [],
   "source": []
  },
  {
   "cell_type": "code",
   "execution_count": null,
   "metadata": {},
   "outputs": [],
   "source": []
  },
  {
   "cell_type": "code",
   "execution_count": 78,
   "metadata": {},
   "outputs": [],
   "source": [
    "# import json\n",
    "\n",
    "# # modified_analysis_by_endings = {k: {\"features\": v[\"features\"], \"final_data_frame\": v[\"final_data_frame\"].to_json(), \"removed_features\": v[\"removed_features\"]} for k,v in analysis_by_endings}\n",
    "\n",
    "# modified_analysis_by_endings = {}\n",
    "\n",
    "# for k,v in analysis_by_endings.items():\n",
    "# #     if \"features\" in v.keys():\n",
    "# #         modified_analysis_by_endings[k] = v[\"features\"]\n",
    "# #     if \"final_data_frame\" in v.keys():\n",
    "# #         modified_analysis_by_endings[k] = v[\"final_data_frame\"].to_json()\n",
    "#     if \"removed_features\" in v.keys():\n",
    "#         modified_analysis_by_endings[k] = v[\"removed_features\"]\n",
    "\n",
    "\n",
    "# # for data in modified_analysis_by_endings.values():\n",
    "# #     print(data)\n",
    "# # #     data[\"final_data_frame\"] = data[\"final_data_frame\"].to_json()\n",
    "\n",
    "# # print(modified_analysis_by_endings.keys())\n",
    "# # print(modified_analysis_by_endings[\"range\"])\n",
    "\n",
    "\n",
    "\n"
   ]
  },
  {
   "cell_type": "code",
   "execution_count": 79,
   "metadata": {},
   "outputs": [],
   "source": [
    "# with open('results.json', 'w') as fp:\n",
    "#     json.dump(modified_analysis_by_endings, fp)"
   ]
  },
  {
   "cell_type": "markdown",
   "metadata": {},
   "source": [
    "### ––––––––––––––––––––––––––"
   ]
  },
  {
   "cell_type": "code",
   "execution_count": 80,
   "metadata": {},
   "outputs": [],
   "source": [
    "# display(removed_features)"
   ]
  },
  {
   "cell_type": "code",
   "execution_count": 81,
   "metadata": {},
   "outputs": [],
   "source": [
    "# display(len(speeches_train_copy.columns))"
   ]
  },
  {
   "cell_type": "code",
   "execution_count": 82,
   "metadata": {
    "scrolled": true
   },
   "outputs": [],
   "source": [
    "# feature_f1_comparison = {\"BASELINE\": initial_classifier_results[\"svc\"][\"val\"][\"F1\"]} | {feature: [feature_result[\"val\"][\"F1\"]] for feature, feature_result in feature_optimisation_results.items()}\n",
    "\n",
    "# f1_comparison_data_frame = pd.DataFrame.from_dict(feature_f1_comparison)\n",
    "\n",
    "# f1_comparison_data_frame.to_csv(\"F1 scores.csv\")\n",
    "\n",
    "# display(f1_comparison_data_frame)"
   ]
  },
  {
   "cell_type": "markdown",
   "metadata": {},
   "source": [
    "### ––––––––––––––––––––––––––"
   ]
  },
  {
   "cell_type": "code",
   "execution_count": 83,
   "metadata": {},
   "outputs": [],
   "source": [
    "# all_removed_features = [removed_feature[0] for removed_list in modified_analysis_by_endings.values() for removed_feature in removed_list]\n",
    "# all_removed_parents = [feature.rpartition(\"_\")[0] for feature in all_removed_features]"
   ]
  },
  {
   "cell_type": "code",
   "execution_count": 84,
   "metadata": {
    "scrolled": true
   },
   "outputs": [],
   "source": [
    "# Counter(all_removed_parents)"
   ]
  },
  {
   "cell_type": "code",
   "execution_count": 85,
   "metadata": {},
   "outputs": [],
   "source": [
    "# Counter(all_removed_parents).most_common(20)"
   ]
  },
  {
   "cell_type": "markdown",
   "metadata": {},
   "source": [
    "##### Model with removed features"
   ]
  },
  {
   "cell_type": "code",
   "execution_count": 86,
   "metadata": {},
   "outputs": [],
   "source": [
    "# results_file_name = \"results.json\"\n",
    "\n",
    "# with open(results_file_name, \"r\") as f:\n",
    "#     results_from_json = json.load(f)"
   ]
  },
  {
   "cell_type": "code",
   "execution_count": 87,
   "metadata": {},
   "outputs": [],
   "source": [
    "# concatenated_results = []\n",
    "# removed_feature_name_stems = []\n",
    "\n",
    "# for ending_results in results_from_json.values():\n",
    "#     for results_row in ending_results:\n",
    "#         concatenated_results.append(results_row)\n",
    "#         removed_feature_name_stems.append(results_row[0].rpartition(\"_\")[0])\n",
    "        \n",
    "# # # Strings don't work in np...\n",
    "# # concatenated_results = np.array([])\n",
    "\n",
    "# # for ending_results in results_from_json.values():\n",
    "# #     for results_row in ending_results:\n",
    "# #         np.concatenate(concatenated_results, np.array(results_row))"
   ]
  },
  {
   "cell_type": "code",
   "execution_count": 88,
   "metadata": {},
   "outputs": [],
   "source": [
    "# Counter(removed_feature_name_stems)"
   ]
  },
  {
   "cell_type": "code",
   "execution_count": 89,
   "metadata": {},
   "outputs": [],
   "source": [
    "# min_threshold = 5\n",
    "# often_removed_stems = {}\n",
    "\n",
    "# for stem, count in Counter(removed_feature_name_stems).items():\n",
    "#     if count >= min_threshold:\n",
    "#         often_removed_stems[stem] = count"
   ]
  },
  {
   "cell_type": "code",
   "execution_count": 90,
   "metadata": {},
   "outputs": [],
   "source": [
    "# often_removed_stems"
   ]
  },
  {
   "cell_type": "code",
   "execution_count": 91,
   "metadata": {},
   "outputs": [],
   "source": [
    "# pruned_feature_set = []\n",
    "\n",
    "# for feature in speeches.columns:\n",
    "#     feature_stem = feature.rpartition(\"_\")[0]\n",
    "#     if feature_stem in often_removed_stems:\n",
    "#         pruned_feature_set.append(feature)"
   ]
  },
  {
   "cell_type": "code",
   "execution_count": 92,
   "metadata": {},
   "outputs": [],
   "source": [
    "# # Use percentages rather than absolute values?\n",
    "\n",
    "# print(f\"Frequency threshold to prune a feature: {min_threshold}\")\n",
    "# print(f\"Original feature count: {len(speeches.columns)}\")\n",
    "# print(f\"Post-prunation count: {len(pruned_feature_set)}\")\n",
    "# print(f\"Pruned features: {len(speeches.columns) - len(pruned_feature_set)}\")\n",
    "# print(f\"Post-prunation count: {len(often_removed_stems)}\")"
   ]
  },
  {
   "cell_type": "code",
   "execution_count": 93,
   "metadata": {
    "scrolled": false
   },
   "outputs": [],
   "source": [
    "# post_prunation_results = {}\n",
    "# most_frequent_removal_count = max(Counter(removed_feature_name_stems).values())\n",
    "\n",
    "# for min_threshold in range(most_frequent_removal_count + 1):\n",
    "#     often_removed_stems = {}\n",
    "#     pruned_feature_set = []\n",
    "\n",
    "#     for stem, count in Counter(removed_feature_name_stems).items():\n",
    "#         if count >= min_threshold:\n",
    "#             often_removed_stems[stem] = count\n",
    "\n",
    "#     for feature in speeches.columns:\n",
    "#         feature_stem = feature.rpartition(\"_\")[0]\n",
    "#         if feature_stem in often_removed_stems:\n",
    "#             pruned_feature_set.append(feature)\n",
    "\n",
    "#     multi_class_pruned_parameters = (speeches_train[pruned_feature_set], speeches_val[pruned_feature_set], emotions_train, emotions_val, set(emotions))\n",
    "\n",
    "#     post_prunation_results[f\"logistic_regression_{min_threshold}\"] = fit_predict_and_score_classifier(logistic_regression, *multi_class_pruned_parameters)\n",
    "#     post_prunation_results[f\"svc_{min_threshold}\"] = fit_predict_and_score_classifier(svc, *multi_class_pruned_parameters)\n",
    "\n",
    "# post_prunation_results_table = create_result_table(post_prunation_results)"
   ]
  },
  {
   "cell_type": "code",
   "execution_count": 94,
   "metadata": {},
   "outputs": [],
   "source": [
    "# display(post_prunation_results_table)\n",
    "# # display(post_prunation_results_table[post_prunation_results_table[\"Set type\"]==\"val\"])"
   ]
  },
  {
   "cell_type": "code",
   "execution_count": null,
   "metadata": {},
   "outputs": [],
   "source": []
  },
  {
   "cell_type": "code",
   "execution_count": null,
   "metadata": {},
   "outputs": [],
   "source": []
  },
  {
   "cell_type": "code",
   "execution_count": null,
   "metadata": {},
   "outputs": [],
   "source": []
  },
  {
   "cell_type": "code",
   "execution_count": null,
   "metadata": {},
   "outputs": [],
   "source": []
  },
  {
   "cell_type": "code",
   "execution_count": null,
   "metadata": {},
   "outputs": [],
   "source": []
  },
  {
   "cell_type": "code",
   "execution_count": null,
   "metadata": {},
   "outputs": [],
   "source": []
  },
  {
   "cell_type": "code",
   "execution_count": null,
   "metadata": {},
   "outputs": [],
   "source": []
  },
  {
   "cell_type": "code",
   "execution_count": null,
   "metadata": {},
   "outputs": [],
   "source": []
  },
  {
   "cell_type": "code",
   "execution_count": null,
   "metadata": {},
   "outputs": [],
   "source": []
  }
 ],
 "metadata": {
  "accelerator": "GPU",
  "colab": {
   "collapsed_sections": [
    "89Q5h1M-iGtX",
    "AB0Y6xS17Tj3",
    "aikqCd3d7b6d",
    "GTMFgODnbDsI",
    "I9mj2L3jiGtl",
    "foKQaWCiUpRh",
    "gVSMGXRVz0Mn",
    "RgQbyZBBb5mm",
    "vJPQreO0cByU",
    "d8eXs9T1fGFe",
    "Dt8wYLwhkUPl",
    "GxOlNT22khAD",
    "dMxfsKiXAicT"
   ],
   "provenance": [],
   "toc_visible": true
  },
  "gpuClass": "standard",
  "kernelspec": {
   "display_name": "Python 3 (ipykernel)",
   "language": "python",
   "name": "python3"
  },
  "language_info": {
   "codemirror_mode": {
    "name": "ipython",
    "version": 3
   },
   "file_extension": ".py",
   "mimetype": "text/x-python",
   "name": "python",
   "nbconvert_exporter": "python",
   "pygments_lexer": "ipython3",
   "version": "3.10.9"
  }
 },
 "nbformat": 4,
 "nbformat_minor": 1
}
